{
 "cells": [
  {
   "cell_type": "code",
   "execution_count": null,
   "metadata": {},
   "outputs": [],
   "source": [
    "#|default_exp cnn_virus.architecture"
   ]
  },
  {
   "cell_type": "code",
   "execution_count": null,
   "metadata": {},
   "outputs": [],
   "source": [
    "#|hide\n",
    "from __future__ import annotations\n",
    "\n",
    "import nbdev\n",
    "import os\n",
    "\n",
    "from ecutilities.ipython import nb_setup\n",
    "from fastcore.test import *\n",
    "from metagentools.cnn_virus.utils import setup_nb\n",
    "from nbdev.showdoc import *"
   ]
  },
  {
   "cell_type": "code",
   "execution_count": null,
   "metadata": {},
   "outputs": [
    {
     "name": "stdout",
     "output_type": "stream",
     "text": [
      "Set autoreload mode\n",
      "Running locally\n"
     ]
    }
   ],
   "source": [
    "#| hide\n",
    "nb_setup()\n",
    "ON_COLAB, p2dataroot, p2data = setup_nb(_dev=True)\n",
    "if not ON_COLAB: os.environ['TF_CPP_MIN_LOG_LEVEL'] = '2' \n",
    "# 0 = all messages are logged (default behavior)\n",
    "# 1 = INFO messages are not printed\n",
    "# 2 = INFO and WARNING messages are not printed\n",
    "# 3 = INFO, WARNING, and ERROR messages are not printed"
   ]
  },
  {
   "cell_type": "code",
   "execution_count": null,
   "metadata": {},
   "outputs": [],
   "source": [
    "#|export\n",
    "# Imports all dependencies\n",
    "import tensorflow as tf\n",
    "import tensorflow.keras\n",
    "\n",
    "from pathlib import Path\n",
    "from typing import Callable, Tuple\n",
    "from metagentools.core import ProjectFileSystem\n",
    "\n",
    "from tensorflow.keras.layers import Convolution1D, Dense, Flatten, Dropout, Activation, BatchNormalization, Input\n",
    "from tensorflow.keras.layers import MaxPooling1D, Concatenate\n",
    "from tensorflow.keras.models import Sequential, Model, load_model"
   ]
  },
  {
   "cell_type": "code",
   "execution_count": null,
   "metadata": {},
   "outputs": [
    {
     "name": "stdout",
     "output_type": "stream",
     "text": [
      "Tensorflow version: 2.8.2 - Expected 2.8.2\n"
     ]
    }
   ],
   "source": [
    "#|hide\n",
    "print(f\"Tensorflow version: {tf.__version__} - Expected 2.8.2\")"
   ]
  },
  {
   "cell_type": "markdown",
   "metadata": {},
   "source": [
    "# architecture\n",
    "\n",
    "> Architectures used for this project"
   ]
  },
  {
   "cell_type": "markdown",
   "metadata": {},
   "source": [
    "The paper \"A multi-task CNN learning model for taxonomic assignment of human viruses\" proposes a CNN model applied to virus. \n",
    "\n",
    "The module `architecture` includes:\n",
    "- Our reproduction of the original paper model using the latest version of Keras\n",
    "- All other variants we are developing\n",
    "\n",
    "\n",
    "> \"A multi-task CNN learning model for taxonomic assignment of human viruses\"\n",
    ">\n",
    "> by Haoran Ma, Tin Wee Tan and Kenneth Hon Kim Ban\n",
    ">\n",
    "> From 19th International Conference on Bioinformatics 2020 (InCoB2020) - Virtual. 25-29 November 2020\n"
   ]
  },
  {
   "cell_type": "markdown",
   "metadata": {},
   "source": [
    "## Original Architecture"
   ]
  },
  {
   "cell_type": "code",
   "execution_count": null,
   "metadata": {},
   "outputs": [],
   "source": [
    "#| export\n",
    "\n",
    "def create_model_original(\n",
    "    load_parameters: bool = True, # Load pretrained weights when True\n",
    "    path2parameters: Path = None,  # Path to pretrained weights, defaults to project CNN Virus weights\n",
    "    ) -> tf.keras.Model:          # New instance of an original paper architecture\n",
    "    \"\"\"Build a CNN model as per CNN Virus paper\"\"\"\n",
    "\n",
    "    print(\"Creating CNN Model (Original)\")\n",
    "    # Build cnn model\n",
    "    input_seq=Input(shape=(50,5), name='input-seq')\n",
    "    layer1=Convolution1D(512, 5, padding=\"same\",activation=\"relu\",kernel_initializer=\"he_uniform\", name=\"conv-1\")(input_seq)\n",
    "    layer2=BatchNormalization(momentum=0.6, name='bn-1')(layer1)\n",
    "    layer3=MaxPooling1D(pool_size=2,padding='same', name='maxpool-1')(layer2)\n",
    "    layer4=Convolution1D(512, 5, padding=\"same\",activation=\"relu\",kernel_initializer=\"he_uniform\", name=\"conv-2\")(layer3)\n",
    "    layer5=BatchNormalization(momentum=0.6, name='bn-2')(layer4)\n",
    "    layer6=MaxPooling1D(pool_size=2,padding='same',name='maxpool-2')(layer5)\n",
    "    layer7=Convolution1D(1024, 7, padding=\"same\", activation=\"relu\",kernel_initializer=\"he_uniform\", name=\"conv-3\")(layer6)\n",
    "    layer8=Convolution1D(1024, 7, padding=\"same\", activation=\"relu\",kernel_initializer=\"he_uniform\", name=\"conv-4\")(layer7)\n",
    "    layer9=BatchNormalization(momentum=0.6, name='bn-3')(layer8)\n",
    "    layer10=MaxPooling1D(pool_size=2,padding='same', name='maxpool-3')(layer9)\n",
    "    layer11=Flatten(name='flatten')(layer10)\n",
    "    layer12=Dense(1024,kernel_initializer=\"he_uniform\", name='dense-1')(layer11)\n",
    "    layer13=BatchNormalization(momentum=0.6, name='bn-4')(layer12)\n",
    "    layer14=Dropout(0.2, name='do-1')(layer13)\n",
    "    labels=Dense(187, activation='softmax',kernel_initializer=\"he_uniform\",name=\"labels\")(layer14)\n",
    "    output_con=Concatenate(name='concat')([layer14,labels])\n",
    "    layer15=Dense(1024, kernel_initializer=\"he_uniform\", name='dense-2')(output_con)\n",
    "    layer16=BatchNormalization(momentum=0.6, name='bn-5')(layer15)\n",
    "    pos=Dense(10, activation='softmax',kernel_initializer=\"he_uniform\",name=\"pos\")(layer16)\n",
    "    model = Model(inputs=input_seq, outputs=[labels,pos], name=\"CNN_Virus\")\n",
    "\n",
    "    # Load pretrained weights\n",
    "    if load_parameters:\n",
    "        if path2parameters is None: \n",
    "            path2parameters = ProjectFileSystem().data /'saved/cnn_virus_original/pretrained_model.h5'\n",
    "        if not path2parameters.is_file(): \n",
    "            raise FileNotFoundError(f\"Could not find pretrained model at {path2parameters}\")\n",
    "        print(f\"Loading parameters from {path2parameters.name}\")\n",
    "        model.load_weights(path2parameters)\n",
    "        print(\"Created pretrained model\")\n",
    "    else:\n",
    "        print(\"Created randomly initialized model\")\n",
    "    return model    "
   ]
  },
  {
   "cell_type": "markdown",
   "metadata": {},
   "source": [
    "This is the original paper's model, taking 50-mer sequences and predicting:\n",
    "\n",
    "1. the logits for 187 viruses\n",
    "2. the logits for one of 10 regions in the original virus genome"
   ]
  },
  {
   "cell_type": "code",
   "execution_count": null,
   "metadata": {},
   "outputs": [
    {
     "name": "stdout",
     "output_type": "stream",
     "text": [
      "Creating CNN Model (Original)\n",
      "Created randomly initialized model\n"
     ]
    }
   ],
   "source": [
    "model = create_model_original(load_parameters=False)"
   ]
  },
  {
   "cell_type": "code",
   "execution_count": null,
   "metadata": {},
   "outputs": [
    {
     "name": "stdout",
     "output_type": "stream",
     "text": [
      "Creating CNN Model (Original)\n",
      "Loading parameters from pretrained_model.h5\n",
      "Created pretrained model\n"
     ]
    }
   ],
   "source": [
    "model = create_model_original(load_parameters=True)"
   ]
  },
  {
   "cell_type": "code",
   "execution_count": null,
   "metadata": {},
   "outputs": [
    {
     "name": "stdout",
     "output_type": "stream",
     "text": [
      "Model: \"CNN_Virus\"\n",
      "__________________________________________________________________________________________________\n",
      " Layer (type)                   Output Shape         Param #     Connected to                     \n",
      "==================================================================================================\n",
      " input-seq (InputLayer)         [(None, 50, 5)]      0           []                               \n",
      "                                                                                                  \n",
      " conv-1 (Conv1D)                (None, 50, 512)      13312       ['input-seq[0][0]']              \n",
      "                                                                                                  \n",
      " bn-1 (BatchNormalization)      (None, 50, 512)      2048        ['conv-1[0][0]']                 \n",
      "                                                                                                  \n",
      " maxpool-1 (MaxPooling1D)       (None, 25, 512)      0           ['bn-1[0][0]']                   \n",
      "                                                                                                  \n",
      " conv-2 (Conv1D)                (None, 25, 512)      1311232     ['maxpool-1[0][0]']              \n",
      "                                                                                                  \n",
      " bn-2 (BatchNormalization)      (None, 25, 512)      2048        ['conv-2[0][0]']                 \n",
      "                                                                                                  \n",
      " maxpool-2 (MaxPooling1D)       (None, 13, 512)      0           ['bn-2[0][0]']                   \n",
      "                                                                                                  \n",
      " conv-3 (Conv1D)                (None, 13, 1024)     3671040     ['maxpool-2[0][0]']              \n",
      "                                                                                                  \n",
      " conv-4 (Conv1D)                (None, 13, 1024)     7341056     ['conv-3[0][0]']                 \n",
      "                                                                                                  \n",
      " bn-3 (BatchNormalization)      (None, 13, 1024)     4096        ['conv-4[0][0]']                 \n",
      "                                                                                                  \n",
      " maxpool-3 (MaxPooling1D)       (None, 7, 1024)      0           ['bn-3[0][0]']                   \n",
      "                                                                                                  \n",
      " flatten (Flatten)              (None, 7168)         0           ['maxpool-3[0][0]']              \n",
      "                                                                                                  \n",
      " dense-1 (Dense)                (None, 1024)         7341056     ['flatten[0][0]']                \n",
      "                                                                                                  \n",
      " bn-4 (BatchNormalization)      (None, 1024)         4096        ['dense-1[0][0]']                \n",
      "                                                                                                  \n",
      " do-1 (Dropout)                 (None, 1024)         0           ['bn-4[0][0]']                   \n",
      "                                                                                                  \n",
      " labels (Dense)                 (None, 187)          191675      ['do-1[0][0]']                   \n",
      "                                                                                                  \n",
      " concat (Concatenate)           (None, 1211)         0           ['do-1[0][0]',                   \n",
      "                                                                  'labels[0][0]']                 \n",
      "                                                                                                  \n",
      " dense-2 (Dense)                (None, 1024)         1241088     ['concat[0][0]']                 \n",
      "                                                                                                  \n",
      " bn-5 (BatchNormalization)      (None, 1024)         4096        ['dense-2[0][0]']                \n",
      "                                                                                                  \n",
      " pos (Dense)                    (None, 10)           10250       ['bn-5[0][0]']                   \n",
      "                                                                                                  \n",
      "==================================================================================================\n",
      "Total params: 21,137,093\n",
      "Trainable params: 21,128,901\n",
      "Non-trainable params: 8,192\n",
      "__________________________________________________________________________________________________\n"
     ]
    }
   ],
   "source": [
    "model.summary()"
   ]
  },
  {
   "cell_type": "code",
   "execution_count": null,
   "metadata": {},
   "outputs": [],
   "source": [
    "#| hide\n",
    "nbdev.nbdev_export()"
   ]
  }
 ],
 "metadata": {
  "kernelspec": {
   "display_name": "python3",
   "language": "python",
   "name": "python3"
  },
  "widgets": {
   "application/vnd.jupyter.widget-state+json": {
    "26b205197a934fdeabb71e65ac11acba": {
     "model_module": "@jupyter-widgets/base",
     "model_module_version": "1.2.0",
     "model_name": "LayoutModel",
     "state": {
      "_model_module": "@jupyter-widgets/base",
      "_model_module_version": "1.2.0",
      "_model_name": "LayoutModel",
      "_view_count": null,
      "_view_module": "@jupyter-widgets/base",
      "_view_module_version": "1.2.0",
      "_view_name": "LayoutView",
      "align_content": null,
      "align_items": null,
      "align_self": null,
      "border": null,
      "bottom": null,
      "display": null,
      "flex": null,
      "flex_flow": null,
      "grid_area": null,
      "grid_auto_columns": null,
      "grid_auto_flow": null,
      "grid_auto_rows": null,
      "grid_column": null,
      "grid_gap": null,
      "grid_row": null,
      "grid_template_areas": null,
      "grid_template_columns": null,
      "grid_template_rows": null,
      "height": null,
      "justify_content": null,
      "justify_items": null,
      "left": null,
      "margin": null,
      "max_height": null,
      "max_width": null,
      "min_height": null,
      "min_width": null,
      "object_fit": null,
      "object_position": null,
      "order": null,
      "overflow": null,
      "overflow_x": null,
      "overflow_y": null,
      "padding": null,
      "right": null,
      "top": null,
      "visibility": null,
      "width": null
     }
    },
    "514ad0bfcabf4df580a9a872af814af9": {
     "model_module": "@jupyter-widgets/controls",
     "model_module_version": "1.5.0",
     "model_name": "ProgressStyleModel",
     "state": {
      "_model_module": "@jupyter-widgets/controls",
      "_model_module_version": "1.5.0",
      "_model_name": "ProgressStyleModel",
      "_view_count": null,
      "_view_module": "@jupyter-widgets/base",
      "_view_module_version": "1.2.0",
      "_view_name": "StyleView",
      "bar_color": null,
      "description_width": ""
     }
    },
    "55646397fc9349d3af9e98b1f2b26f5d": {
     "model_module": "@jupyter-widgets/base",
     "model_module_version": "1.2.0",
     "model_name": "LayoutModel",
     "state": {
      "_model_module": "@jupyter-widgets/base",
      "_model_module_version": "1.2.0",
      "_model_name": "LayoutModel",
      "_view_count": null,
      "_view_module": "@jupyter-widgets/base",
      "_view_module_version": "1.2.0",
      "_view_name": "LayoutView",
      "align_content": null,
      "align_items": null,
      "align_self": null,
      "border": null,
      "bottom": null,
      "display": null,
      "flex": null,
      "flex_flow": null,
      "grid_area": null,
      "grid_auto_columns": null,
      "grid_auto_flow": null,
      "grid_auto_rows": null,
      "grid_column": null,
      "grid_gap": null,
      "grid_row": null,
      "grid_template_areas": null,
      "grid_template_columns": null,
      "grid_template_rows": null,
      "height": null,
      "justify_content": null,
      "justify_items": null,
      "left": null,
      "margin": null,
      "max_height": null,
      "max_width": null,
      "min_height": null,
      "min_width": null,
      "object_fit": null,
      "object_position": null,
      "order": null,
      "overflow": null,
      "overflow_x": null,
      "overflow_y": null,
      "padding": null,
      "right": null,
      "top": null,
      "visibility": null,
      "width": null
     }
    },
    "70f6be4247664b708b662c34e7abe3ee": {
     "model_module": "@jupyter-widgets/base",
     "model_module_version": "1.2.0",
     "model_name": "LayoutModel",
     "state": {
      "_model_module": "@jupyter-widgets/base",
      "_model_module_version": "1.2.0",
      "_model_name": "LayoutModel",
      "_view_count": null,
      "_view_module": "@jupyter-widgets/base",
      "_view_module_version": "1.2.0",
      "_view_name": "LayoutView",
      "align_content": null,
      "align_items": null,
      "align_self": null,
      "border": null,
      "bottom": null,
      "display": null,
      "flex": null,
      "flex_flow": null,
      "grid_area": null,
      "grid_auto_columns": null,
      "grid_auto_flow": null,
      "grid_auto_rows": null,
      "grid_column": null,
      "grid_gap": null,
      "grid_row": null,
      "grid_template_areas": null,
      "grid_template_columns": null,
      "grid_template_rows": null,
      "height": null,
      "justify_content": null,
      "justify_items": null,
      "left": null,
      "margin": null,
      "max_height": null,
      "max_width": null,
      "min_height": null,
      "min_width": null,
      "object_fit": null,
      "object_position": null,
      "order": null,
      "overflow": null,
      "overflow_x": null,
      "overflow_y": null,
      "padding": null,
      "right": null,
      "top": null,
      "visibility": null,
      "width": null
     }
    },
    "7179c6cc207941648c348b1bf10cb87f": {
     "model_module": "@jupyter-widgets/controls",
     "model_module_version": "1.5.0",
     "model_name": "LabelModel",
     "state": {
      "_dom_classes": [],
      "_model_module": "@jupyter-widgets/controls",
      "_model_module_version": "1.5.0",
      "_model_name": "LabelModel",
      "_view_count": null,
      "_view_module": "@jupyter-widgets/controls",
      "_view_module_version": "1.5.0",
      "_view_name": "LabelView",
      "description": "",
      "description_tooltip": null,
      "layout": "IPY_MODEL_70f6be4247664b708b662c34e7abe3ee",
      "placeholder": "​",
      "style": "IPY_MODEL_bdde467d943148ce9bb6355fd7582a5c",
      "value": "0.078 MB of 0.078 MB uploaded (0.020 MB deduped)\r"
     }
    },
    "7849f255e99b4853bdba7f8badf1054a": {
     "model_module": "@jupyter-widgets/controls",
     "model_module_version": "1.5.0",
     "model_name": "VBoxModel",
     "state": {
      "_dom_classes": [],
      "_model_module": "@jupyter-widgets/controls",
      "_model_module_version": "1.5.0",
      "_model_name": "VBoxModel",
      "_view_count": null,
      "_view_module": "@jupyter-widgets/controls",
      "_view_module_version": "1.5.0",
      "_view_name": "VBoxView",
      "box_style": "",
      "children": [
       "IPY_MODEL_7179c6cc207941648c348b1bf10cb87f",
       "IPY_MODEL_e0819a1ddcc64c08a748a2fd88350f09"
      ],
      "layout": "IPY_MODEL_26b205197a934fdeabb71e65ac11acba"
     }
    },
    "bdde467d943148ce9bb6355fd7582a5c": {
     "model_module": "@jupyter-widgets/controls",
     "model_module_version": "1.5.0",
     "model_name": "DescriptionStyleModel",
     "state": {
      "_model_module": "@jupyter-widgets/controls",
      "_model_module_version": "1.5.0",
      "_model_name": "DescriptionStyleModel",
      "_view_count": null,
      "_view_module": "@jupyter-widgets/base",
      "_view_module_version": "1.2.0",
      "_view_name": "StyleView",
      "description_width": ""
     }
    },
    "e0819a1ddcc64c08a748a2fd88350f09": {
     "model_module": "@jupyter-widgets/controls",
     "model_module_version": "1.5.0",
     "model_name": "FloatProgressModel",
     "state": {
      "_dom_classes": [],
      "_model_module": "@jupyter-widgets/controls",
      "_model_module_version": "1.5.0",
      "_model_name": "FloatProgressModel",
      "_view_count": null,
      "_view_module": "@jupyter-widgets/controls",
      "_view_module_version": "1.5.0",
      "_view_name": "ProgressView",
      "bar_style": "",
      "description": "",
      "description_tooltip": null,
      "layout": "IPY_MODEL_55646397fc9349d3af9e98b1f2b26f5d",
      "max": 1,
      "min": 0,
      "orientation": "horizontal",
      "style": "IPY_MODEL_514ad0bfcabf4df580a9a872af814af9",
      "value": 1
     }
    }
   }
  }
 },
 "nbformat": 4,
 "nbformat_minor": 1
}
