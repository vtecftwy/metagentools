{
 "cells": [
  {
   "cell_type": "markdown",
   "metadata": {},
   "source": [
    "# core\n",
    "\n",
    "> WIP - Common functions and classes"
   ]
  },
  {
   "cell_type": "code",
   "execution_count": 1,
   "metadata": {},
   "outputs": [],
   "source": [
    "#| default_exp core"
   ]
  },
  {
   "cell_type": "code",
   "execution_count": 2,
   "metadata": {},
   "outputs": [],
   "source": [
    "#| hide\n",
    "from __future__ import annotations\n",
    "from nbdev.showdoc import *"
   ]
  },
  {
   "cell_type": "code",
   "execution_count": 3,
   "metadata": {},
   "outputs": [],
   "source": [
    "#| hide\n",
    "import json\n",
    "import urllib\n",
    "import urllib\n",
    "from itertools import chain\n",
    "from pathlib import Path, PurePath\n",
    "from typing import Generator, Tuple, Union\n",
    "\n",
    "# import ipykernel\n",
    "# from jupyter_core.paths import jupyter_runtime_dir\n",
    "# from traitlets.config import MultipleInstanceError"
   ]
  },
  {
   "cell_type": "code",
   "execution_count": 4,
   "metadata": {},
   "outputs": [],
   "source": [
    "#| export\n",
    "def foo(a:int|float = 0,   # first value\n",
    "        b:int|float = 0    # second value\n",
    "       )->int|float:   # sum of both values\n",
    "    \"\"\"Example of a function not that useful\"\"\"\n",
    "    return a + b"
   ]
  },
  {
   "cell_type": "markdown",
   "metadata": {},
   "source": [
    "#### `foo` Illustration"
   ]
  },
  {
   "cell_type": "code",
   "execution_count": 5,
   "metadata": {},
   "outputs": [
    {
     "data": {
      "text/plain": [
       "3"
      ]
     },
     "execution_count": 5,
     "metadata": {},
     "output_type": "execute_result"
    }
   ],
   "source": [
    "foo(1, 2)"
   ]
  },
  {
   "cell_type": "markdown",
   "metadata": {},
   "source": [
    "#### Other `foo` Examples"
   ]
  },
  {
   "cell_type": "code",
   "execution_count": 6,
   "metadata": {},
   "outputs": [
    {
     "data": {
      "text/plain": [
       "3"
      ]
     },
     "execution_count": 6,
     "metadata": {},
     "output_type": "execute_result"
    }
   ],
   "source": [
    "foo(3)"
   ]
  },
  {
   "cell_type": "code",
   "execution_count": 7,
   "metadata": {},
   "outputs": [
    {
     "data": {
      "text/plain": [
       "0"
      ]
     },
     "execution_count": 7,
     "metadata": {},
     "output_type": "execute_result"
    }
   ],
   "source": [
    "foo()"
   ]
  },
  {
   "cell_type": "markdown",
   "metadata": {},
   "source": []
  },
  {
   "cell_type": "code",
   "execution_count": 8,
   "metadata": {},
   "outputs": [],
   "source": [
    "#|hide\n",
    "\n",
    "\n",
    "\n",
    "FILE_ERROR = \"Can't identify the notebook {}.\"\n",
    "CONN_ERROR = \"Unable to access server;\\n\" \\\n",
    "           + \"ipynbname requires either no security or token based security.\"\n",
    "\n",
    "\n",
    "def _list_maybe_running_servers(runtime_dir=None) -> Generator[dict, None, None]:\n",
    "    \"\"\" Iterate over the server info files of running notebook servers.\n",
    "    \"\"\"\n",
    "    if runtime_dir is None:\n",
    "        runtime_dir = jupyter_runtime_dir()\n",
    "    runtime_dir = Path(runtime_dir)\n",
    "\n",
    "    if runtime_dir.is_dir():\n",
    "        for file_name in chain(\n",
    "            runtime_dir.glob('nbserver-*.json'),  # jupyter notebook (or lab 2)\n",
    "            runtime_dir.glob('jpserver-*.json'),  # jupyterlab 3\n",
    "        ):\n",
    "            yield json.loads(file_name.read_bytes())\n",
    "\n",
    "\n",
    "def _get_kernel_id() -> str:\n",
    "    \"\"\" Returns the kernel ID of the ipykernel.\n",
    "    \"\"\"\n",
    "    connection_file = Path(ipykernel.get_connection_file()).stem\n",
    "    kernel_id = connection_file.split('-', 1)[1]\n",
    "    return kernel_id\n",
    "\n",
    "\n",
    "def _get_sessions(srv):\n",
    "    \"\"\" Given a server, returns sessions, or HTTPError if access is denied.\n",
    "        NOTE: Works only when either there is no security or there is token\n",
    "        based security. An HTTPError is raised if unable to connect to a \n",
    "        server.\n",
    "    \"\"\"\n",
    "    try:\n",
    "        qry_str = \"\"\n",
    "        token = srv['token']\n",
    "        if token:\n",
    "            qry_str = f\"?token={token}\"\n",
    "        url = f\"{srv['url']}api/sessions{qry_str}\"\n",
    "        with urllib.request.urlopen(url) as req:\n",
    "            return json.load(req)\n",
    "    except Exception:\n",
    "        raise urllib.error.HTTPError(CONN_ERROR)\n",
    "\n",
    "\n",
    "def _find_nb_path() -> Union[Tuple[dict, PurePath], Tuple[None, None]]:\n",
    "    try:\n",
    "        kernel_id = _get_kernel_id()\n",
    "    except (MultipleInstanceError, RuntimeError):\n",
    "        return None, None  # Could not determine\n",
    "    for srv in _list_maybe_running_servers():\n",
    "        try:\n",
    "            sessions = _get_sessions(srv)\n",
    "            for sess in sessions:\n",
    "                if sess['kernel']['id'] == kernel_id:\n",
    "                    return srv, PurePath(sess['notebook']['path'])\n",
    "        except Exception:\n",
    "            pass  # There may be stale entries in the runtime directory\n",
    "    return None, None\n",
    "\n",
    "\n",
    "def name() -> str:\n",
    "    \"\"\" Returns the short name of the notebook w/o the .ipynb extension,\n",
    "        or raises a FileNotFoundError exception if it cannot be determined.\n",
    "    \"\"\"\n",
    "    _, path = _find_nb_path()\n",
    "    if path:\n",
    "        return path.stem\n",
    "    raise FileNotFoundError(FILE_ERROR.format('name'))\n",
    "\n",
    "\n",
    "def path() -> Path:\n",
    "    \"\"\" Returns the absolute path of the notebook,\n",
    "        or raises a FileNotFoundError exception if it cannot be determined.\n",
    "    \"\"\"\n",
    "    srv, path = _find_nb_path()\n",
    "    if srv and path:\n",
    "        root_dir = Path(srv.get('root_dir') or srv['notebook_dir'])\n",
    "        return root_dir / path\n",
    "    raise FileNotFoundError(FILE_ERROR.format('path'))"
   ]
  },
  {
   "cell_type": "code",
   "execution_count": null,
   "metadata": {},
   "outputs": [],
   "source": []
  },
  {
   "cell_type": "code",
   "execution_count": null,
   "metadata": {},
   "outputs": [],
   "source": []
  },
  {
   "cell_type": "code",
   "execution_count": null,
   "metadata": {},
   "outputs": [],
   "source": []
  },
  {
   "cell_type": "code",
   "execution_count": null,
   "metadata": {},
   "outputs": [],
   "source": []
  },
  {
   "cell_type": "code",
   "execution_count": null,
   "metadata": {},
   "outputs": [],
   "source": []
  },
  {
   "cell_type": "code",
   "execution_count": null,
   "metadata": {},
   "outputs": [],
   "source": []
  },
  {
   "cell_type": "code",
   "execution_count": null,
   "metadata": {},
   "outputs": [],
   "source": []
  },
  {
   "cell_type": "code",
   "execution_count": null,
   "metadata": {},
   "outputs": [],
   "source": []
  },
  {
   "cell_type": "code",
   "execution_count": null,
   "metadata": {},
   "outputs": [],
   "source": []
  },
  {
   "cell_type": "code",
   "execution_count": null,
   "metadata": {},
   "outputs": [],
   "source": []
  },
  {
   "cell_type": "code",
   "execution_count": null,
   "metadata": {},
   "outputs": [],
   "source": []
  },
  {
   "cell_type": "code",
   "execution_count": null,
   "metadata": {},
   "outputs": [],
   "source": [
    "#| hide\n",
    "import nbdev; nbdev.nbdev_export()"
   ]
  }
 ],
 "metadata": {
  "kernelspec": {
   "display_name": "Python 3.10.6 ('metagentools')",
   "language": "python",
   "name": "python3"
  },
  "language_info": {
   "codemirror_mode": {
    "name": "ipython",
    "version": 3
   },
   "file_extension": ".py",
   "mimetype": "text/x-python",
   "name": "python",
   "nbconvert_exporter": "python",
   "pygments_lexer": "ipython3",
   "version": "3.10.6"
  },
  "vscode": {
   "interpreter": {
    "hash": "d79c725d3d254ae089d5edf9eb2dce3237f80d64dd85a8bedc17bd8054b8b312"
   }
  }
 },
 "nbformat": 4,
 "nbformat_minor": 4
}
