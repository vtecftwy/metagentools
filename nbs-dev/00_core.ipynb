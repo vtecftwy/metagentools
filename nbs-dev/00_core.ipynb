{
 "cells": [
  {
   "cell_type": "markdown",
   "metadata": {},
   "source": [
    "# core\n",
    "\n",
    "> This module is a placeholder and is a WIP that needs to be completed"
   ]
  },
  {
   "cell_type": "code",
   "execution_count": null,
   "metadata": {},
   "outputs": [],
   "source": [
    "#| default_exp core"
   ]
  },
  {
   "cell_type": "code",
   "execution_count": null,
   "metadata": {},
   "outputs": [],
   "source": [
    "#| hide\n",
    "from ecutilities.ipython import nb_setup\n",
    "from nbdev import nbdev_export, show_doc\n",
    "from pprint import pprint"
   ]
  },
  {
   "cell_type": "code",
   "execution_count": null,
   "metadata": {},
   "outputs": [
    {
     "name": "stdout",
     "output_type": "stream",
     "text": [
      "Set autoreload mode\n"
     ]
    }
   ],
   "source": [
    "#| hide\n",
    "nb_setup()"
   ]
  },
  {
   "cell_type": "code",
   "execution_count": null,
   "metadata": {},
   "outputs": [],
   "source": [
    "#| export\n",
    "import json\n",
    "import re\n",
    "from ecutilities.core import validate_path, validate_type\n",
    "from pathlib import Path\n",
    "from typing import Any, Optional"
   ]
  },
  {
   "cell_type": "markdown",
   "metadata": {},
   "source": [
    "# Text file iterators"
   ]
  },
  {
   "cell_type": "code",
   "execution_count": null,
   "metadata": {},
   "outputs": [],
   "source": [
    "#| export\n",
    "class TextFileBaseIterator:\n",
    "    \"\"\"Iterator going through a text file by chunks of `nlines` lines\"\"\"\n",
    "    def __init__(\n",
    "        self, \n",
    "        path:str|Path,  # path to the file to read \n",
    "        nlines:int=1, # number of text lines in each text chunk \n",
    "    ):\n",
    "        validate_path(path, raise_error=True)\n",
    "        self.path = path\n",
    "        self.fp = open(path, 'r')\n",
    "        self.nlines = nlines\n",
    "\n",
    "    def __iter__(self):\n",
    "        return self\n",
    "\n",
    "    def _safe_readline(self):\n",
    "        \"\"\"Read a new line and handle end of file tasks\"\"\"\n",
    "        line = self.fp.readline()\n",
    "        if line == '':\n",
    "            self.fp.close()\n",
    "            raise StopIteration()\n",
    "        return line\n",
    "\n",
    "    def __next__(self):\n",
    "        \"\"\"Return one chunk at the time\"\"\"\n",
    "        lines = []\n",
    "        for i in range(self.nlines):\n",
    "            lines.append(self._safe_readline())\n",
    "        return ''.join(lines)\n",
    "    \n",
    "    def print_first_chuncks(\n",
    "        self, \n",
    "        nchunks:int=3,  # number of chuncks to print\n",
    "    ):\n",
    "        \"\"\"Print the first `nchunck chuncks of text from the file\"\"\"\n",
    "        for i, chunk in enumerate(self.__iter__()):\n",
    "            if i > nchunks-1: break\n",
    "            print(f\"{self.nlines}-line chunk {i+1}\")\n",
    "            print(chunk)\n",
    "        "
   ]
  },
  {
   "cell_type": "code",
   "execution_count": null,
   "metadata": {},
   "outputs": [
    {
     "data": {
      "text/markdown": [
       "---\n",
       "\n",
       "[source](https://github.com/vtecftwy/metagentools/blob/main/metagentools/core.py#L14){target=\"_blank\" style=\"float:right; font-size:smaller\"}\n",
       "\n",
       "### TextFileBaseIterator\n",
       "\n",
       ">      TextFileBaseIterator (path:str|pathlib.Path, nlines:int=1)\n",
       "\n",
       "Iterator going through a text file by chunks of `nlines` lines\n",
       "\n",
       "|    | **Type** | **Default** | **Details** |\n",
       "| -- | -------- | ----------- | ----------- |\n",
       "| path | str \\| pathlib.Path |  | path to the file to read |\n",
       "| nlines | int | 1 | number of text lines in each text chunk |"
      ],
      "text/plain": [
       "---\n",
       "\n",
       "[source](https://github.com/vtecftwy/metagentools/blob/main/metagentools/core.py#L14){target=\"_blank\" style=\"float:right; font-size:smaller\"}\n",
       "\n",
       "### TextFileBaseIterator\n",
       "\n",
       ">      TextFileBaseIterator (path:str|pathlib.Path, nlines:int=1)\n",
       "\n",
       "Iterator going through a text file by chunks of `nlines` lines\n",
       "\n",
       "|    | **Type** | **Default** | **Details** |\n",
       "| -- | -------- | ----------- | ----------- |\n",
       "| path | str \\| pathlib.Path |  | path to the file to read |\n",
       "| nlines | int | 1 | number of text lines in each text chunk |"
      ]
     },
     "execution_count": null,
     "metadata": {},
     "output_type": "execute_result"
    }
   ],
   "source": [
    "show_doc(TextFileBaseIterator)"
   ]
  },
  {
   "cell_type": "code",
   "execution_count": null,
   "metadata": {},
   "outputs": [
    {
     "name": "stdout",
     "output_type": "stream",
     "text": [
      "TCAAAATAATCAGAAATGTTGAACCTAGGGTTGGACACATAATGACCAGC\t76\t0\n",
      "ATTGTTTAACAATTTGTGCTCGTCCCGGTCACCCGCATCCAATCTTGATG\t4\t9\n",
      "AATCTTGTCCTATCCTACCCGCAGGGGAATTGATGATAGANGTGCTTTTA\t181\t0\n",
      "\n"
     ]
    }
   ],
   "source": [
    "p2textfile = Path('data_dev/train_short')\n",
    "it = TextFileBaseIterator(path=p2textfile, nlines=3)\n",
    "\n",
    "one_iteration = next(it)\n",
    "\n",
    "print(one_iteration)"
   ]
  },
  {
   "cell_type": "code",
   "execution_count": null,
   "metadata": {},
   "outputs": [
    {
     "data": {
      "text/markdown": [
       "---\n",
       "\n",
       "### TextFileBaseIterator.print_first_chuncks\n",
       "\n",
       ">      TextFileBaseIterator.print_first_chuncks (nchunks:int=3)\n",
       "\n",
       "Print the first `nchunck chuncks of text from the file\n",
       "\n",
       "|    | **Type** | **Default** | **Details** |\n",
       "| -- | -------- | ----------- | ----------- |\n",
       "| nchunks | int | 3 | number of chuncks to print |"
      ],
      "text/plain": [
       "---\n",
       "\n",
       "### TextFileBaseIterator.print_first_chuncks\n",
       "\n",
       ">      TextFileBaseIterator.print_first_chuncks (nchunks:int=3)\n",
       "\n",
       "Print the first `nchunck chuncks of text from the file\n",
       "\n",
       "|    | **Type** | **Default** | **Details** |\n",
       "| -- | -------- | ----------- | ----------- |\n",
       "| nchunks | int | 3 | number of chuncks to print |"
      ]
     },
     "execution_count": null,
     "metadata": {},
     "output_type": "execute_result"
    }
   ],
   "source": [
    "show_doc(TextFileBaseIterator.print_first_chuncks)"
   ]
  },
  {
   "cell_type": "code",
   "execution_count": null,
   "metadata": {},
   "outputs": [
    {
     "name": "stdout",
     "output_type": "stream",
     "text": [
      "3-line chunk 1\n",
      "TCAAAATAATCAGAAATGTTGAACCTAGGGTTGGACACATAATGACCAGC\t76\t0\n",
      "ATTGTTTAACAATTTGTGCTCGTCCCGGTCACCCGCATCCAATCTTGATG\t4\t9\n",
      "AATCTTGTCCTATCCTACCCGCAGGGGAATTGATGATAGANGTGCTTTTA\t181\t0\n",
      "\n",
      "3-line chunk 2\n",
      "GGAGCGGAGCCAACCCCTATGCTCACTTGCAACCCAAGGGGCGTTCCAGT\t74\t3\n",
      "TGGATCCTGCGCGGGACGTCCTTTGTCTACGTCCCGTCGGCGCATCCCGC\t60\t3\n",
      "GAGAGACTTACTAAAAAGCTGGCACTTACCATCAGTGTTTCACCTACATG\t44\t0\n",
      "\n",
      "3-line chunk 3\n",
      "ACACACGACACTAGAGATAATGTGTCAGTGGATTATAAACAAACCAAGTT\t43\t7\n",
      "TTGTAGCATAAGAACTGGTCTTCGCTGAAATTCTTGTCTTGATCTCATCT\t35\t2\n",
      "TGGCCCTGCGGTCTGGGGCCCAGAAGCATATGTCAAGTCCTTTGAGAAGT\t73\t4\n",
      "\n"
     ]
    }
   ],
   "source": [
    "it = TextFileBaseIterator(path=p2textfile, nlines=3)\n",
    "\n",
    "it.print_first_chuncks(nchunks=3)"
   ]
  },
  {
   "cell_type": "markdown",
   "metadata": {},
   "source": [
    "This is a base class.\n",
    "\n",
    "It is easy to override `__next__` method to customize how the iterator parses files.\n",
    "\n",
    "For instance, the following class takes a fasta sequence file, extracts the definition line and the sequence, and return them as a dictionary (to keep the output clean, we only return the first 25 bases of the sequence:\n",
    "```\n",
    "    {\n",
    "    'definition line': '>2591237:ncbi:1 [MK211378]\\t2591237\\tncbi\\t1 [MK211378] '\n",
    "                    '2591237\\tCoronavirus BtRs-BetaCoV/YN2018D\\t\\tscientific '\n",
    "                    'name\\n',\n",
    "    'sequence': 'TATTAGGTTTTCTACCTACCCAGGA'\n",
    "    }\n",
    "```"
   ]
  },
  {
   "cell_type": "code",
   "execution_count": null,
   "metadata": {},
   "outputs": [],
   "source": []
  },
  {
   "cell_type": "code",
   "execution_count": null,
   "metadata": {},
   "outputs": [],
   "source": []
  },
  {
   "cell_type": "code",
   "execution_count": null,
   "metadata": {},
   "outputs": [],
   "source": [
    "#| hide\n",
    "nbdev_export()"
   ]
  },
  {
   "cell_type": "code",
   "execution_count": null,
   "metadata": {},
   "outputs": [],
   "source": []
  }
 ],
 "metadata": {
  "kernelspec": {
   "display_name": "Python 3 (ipykernel)",
   "language": "python",
   "name": "python3"
  }
 },
 "nbformat": 4,
 "nbformat_minor": 4
}
