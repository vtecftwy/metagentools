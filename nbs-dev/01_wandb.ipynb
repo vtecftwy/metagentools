{
 "cells": [
  {
   "cell_type": "code",
   "execution_count": null,
   "metadata": {},
   "outputs": [],
   "source": [
    "#|default_exp wandb"
   ]
  },
  {
   "cell_type": "code",
   "execution_count": null,
   "metadata": {},
   "outputs": [
    {
     "name": "stdout",
     "output_type": "stream",
     "text": [
      "Running locally\n"
     ]
    }
   ],
   "source": [
    "#|hide\n",
    "import nbdev\n",
    "from pathlib import Path\n",
    "from __future__ import annotations\n",
    "from fastcore.test import *\n",
    "from nbdev.showdoc import *\n",
    "from pdb import set_trace\n",
    "\n",
    "# Todo: move the google code in utils module\n",
    "try:\n",
    "    from google.colab import drive\n",
    "    ON_COLAB = True\n",
    "    print('Running on colab')\n",
    "    print('Installing wandb and project code')\n",
    "    !pip install -U git+https://github.com/vtecftwy/metagenomics.git@refactor_cnn_virus\n",
    "    !pip install -qqU wandb\n",
    "    \n",
    "    # Assumes shared gdrive dir accessible through shortcut `Metagenomics` under the root of gdrive.     \n",
    "    drive.mount('/content/gdrive')\n",
    "    p2drive = Path('/content/gdrive/MyDrive/Metagenonics')\n",
    "    p2data =  p2drive / 'CNN_Virus_data'\n",
    "    assert p2drive.is_dir()\n",
    "    assert p2data.is_dir()\n",
    "\n",
    "except ModuleNotFoundError:\n",
    "    ON_COLAB = False\n",
    "    print('Running locally')\n",
    "    try:\n",
    "        import metagentools\n",
    "    except ModuleNotFoundError:\n",
    "        raise ModuleNotFoundError('Cannot find package metagentools. Make sure you pip -e install it in your environment')\n",
    "    p2data = Path('../data/CNN_Virus_data').resolve()\n",
    "    assert p2data.is_dir()\n",
    "\n",
    "\n",
    "\n",
    "\n",
    "%load_ext autoreload\n",
    "%autoreload 2"
   ]
  },
  {
   "cell_type": "code",
   "execution_count": null,
   "metadata": {},
   "outputs": [],
   "source": [
    "#|export\n",
    "# Imports all dependencies\n",
    "import numpy as np\n",
    "import os\n",
    "import tensorflow as tf\n",
    "import wandb\n",
    "\n",
    "from pathlib import Path"
   ]
  },
  {
   "cell_type": "code",
   "execution_count": null,
   "metadata": {},
   "outputs": [
    {
     "name": "stdout",
     "output_type": "stream",
     "text": [
      "Tensorflow version: 2.8.2 - Expected 2.8.2\n"
     ]
    }
   ],
   "source": [
    "#|hide\n",
    "print(f\"Tensorflow version: {tf.__version__} - Expected 2.8.2\")"
   ]
  },
  {
   "cell_type": "markdown",
   "metadata": {},
   "source": [
    "# `wandb`: WandB tracking\n",
    "\n",
    "> Utility functions and classes to work with **WandB** for this metagenomics project"
   ]
  },
  {
   "cell_type": "markdown",
   "metadata": {},
   "source": [
    "Once setup, **WandB** tracks datasets, models, training runs, evaluation runs across several experiments. The original documentation is [here](https://docs.wandb.ai/).\n",
    "\n",
    "Key concepts we use in this package: \n",
    "- `run` (status, losses and other metadata logged during training or evaluation experiments).\n",
    "- `artifact` (datasets, code (incl. notebooks), models, ...); "
   ]
  },
  {
   "cell_type": "markdown",
   "metadata": {},
   "source": [
    "## Steps:"
   ]
  },
  {
   "cell_type": "markdown",
   "metadata": {},
   "source": [
    "- login to `wandb`: requires an API key, available at https://wandb.ai/authorize (requires to be logged in)\n",
    "- initialize a **`run`** with desired parameters and metadata\n",
    "- perform operations to be tracked (e.g. train model, load dataset as artifact, ...)\n",
    "- finish the **run**"
   ]
  },
  {
   "cell_type": "markdown",
   "metadata": {},
   "source": [
    "The first step is to login into WandB, from the active notebook. To allow WandB to store the code used for the session, the name or path of the notebook should be passed as argument."
   ]
  },
  {
   "cell_type": "code",
   "execution_count": null,
   "metadata": {},
   "outputs": [],
   "source": [
    "#| export\n",
    "def login_nb(\n",
    "    nb_file: str|Path=None   # name of the notebook (str) or path to the notebook (Path)\n",
    "    ):\n",
    "    \"\"\"Logs in to WandB from the current notebook. Registers current notebooks as the source of code\"\"\"\n",
    "\n",
    "    # Validate nb_file\n",
    "    if nb_file is None:\n",
    "        raise TypeError('login requires the file name of the current nb to allow code tracking')   \n",
    "    if isinstance(nb_file, str):\n",
    "        if nb_file[-6:] != '.ipynb': nb_file = f\"{nb_file}.ipynb\"\n",
    "        nb_file = Path.cwd()/nb_file\n",
    "    elif not isinstance(nb_file, Path):\n",
    "        raise TypeError('nb_file must me a `str` or a `Path`')\n",
    "    \n",
    "    if not nb_file.is_file():\n",
    "        raise ValueError(f\"{nb_file.name} is not a file, please correct the file name\")\n",
    "\n",
    "    # Registers notebook as WandB code\n",
    "    os.environ['WANDB_NOTEBOOK_NAME'] = str(nb_file.absolute())\n",
    "    print(f\"Logging in from notebook: {os.environ['WANDB_NOTEBOOK_NAME']}\")\n",
    "\n",
    "    wandb.login(relogin=False)    "
   ]
  },
  {
   "cell_type": "code",
   "execution_count": null,
   "metadata": {},
   "outputs": [
    {
     "name": "stdout",
     "output_type": "stream",
     "text": [
      "Logging in from notebook: /home/vtec/projects/bio/metagentools/nbs-dev/01_wandb.ipynb\n"
     ]
    },
    {
     "name": "stderr",
     "output_type": "stream",
     "text": [
      "\u001b[34m\u001b[1mwandb\u001b[0m: W&B API key is configured. Use \u001b[1m`wandb login --relogin`\u001b[0m to force relogin\n"
     ]
    }
   ],
   "source": [
    "login_nb('01_wandb')"
   ]
  },
  {
   "cell_type": "markdown",
   "metadata": {},
   "source": [
    "```python\n",
    "login_nb('01_wandb')\n",
    "```\n",
    "Logs as:\n",
    "- Logging in from notebook: `/home/vtec/projects/bio/metagentools/nbs-dev/01_wandb.ipynb`\n",
    "- wandb: W&B API key is configured. Use `wandb login --relogin` to force relogin"
   ]
  },
  {
   "cell_type": "markdown",
   "metadata": {},
   "source": [
    "`login_nb` raises error in the following cases:"
   ]
  },
  {
   "cell_type": "markdown",
   "metadata": {},
   "source": [
    "- If `nb_file` is not passed, the function raises a `TypeError`"
   ]
  },
  {
   "cell_type": "code",
   "execution_count": null,
   "metadata": {},
   "outputs": [],
   "source": [
    "#| hide\n",
    "test_fail(login_nb, kwargs={'nb_file':None}, contains='requires the file name')"
   ]
  },
  {
   "cell_type": "markdown",
   "metadata": {},
   "source": [
    "- If `nb_file` is not a string or a Path, the function raises a `TypeError`"
   ]
  },
  {
   "cell_type": "code",
   "execution_count": null,
   "metadata": {},
   "outputs": [],
   "source": [
    "#| hide\n",
    "test_fail(login_nb, kwargs={'nb_file':999}, contains='nb_file must me a `str` or a `Path`')"
   ]
  },
  {
   "cell_type": "markdown",
   "metadata": {},
   "source": [
    "- There must exist a file `nb_file` or a `ValueError` is raised"
   ]
  },
  {
   "cell_type": "code",
   "execution_count": null,
   "metadata": {},
   "outputs": [],
   "source": [
    "#| hide\n",
    "test_fail(login_nb, kwargs={'nb_file':'fake_file_name'}, contains='is not a file, please correct the file name')"
   ]
  },
  {
   "cell_type": "code",
   "execution_count": null,
   "metadata": {},
   "outputs": [],
   "source": [
    "#| export\n",
    "class WandbRun():\n",
    "    \"\"\"Manages a run with WandB and all registered actions performed while the run is active. Close run with .finish()\"\"\"\n",
    "    \n",
    "    def __init__(\n",
    "        self,\n",
    "        entity: str='', # the user or organization under which the run will be logged. Default: `metagenomics_sh` \n",
    "        project: str='', # the name of the WandB project under which the run will be logged \n",
    "        run_name: str='', # unique name for the run,\n",
    "        job_type: str='', # e.g.: `load_datasets`, `train_exp`, ... \n",
    "        notes: str='', # (optional) any text description or additional information to store with the run \n",
    "        testing: bool=False # (optional) If True, will not create a run on WandB. Use for local testing\n",
    "        ) -> wandb.sdk.wandb_run.Run:\n",
    "        \"\"\"Validates metadata inputs and initialize the wandb run, unless testing is set to True\"\"\"\n",
    "        \n",
    "        # Validate inputs\n",
    "        for k,v in [key_val for key_val in locals().items() if key_val[0] not in ['self', 'notes', 'testing']]:\n",
    "            if v == '': raise ValueError(f\"{k} may not be an empty string. Please provide a value\")\n",
    "\n",
    "        for k,v in [key_val for key_val in locals().items() if key_val[0] not in ['self', 'testing']]:\n",
    "            if not isinstance(v, str): raise TypeError(f\"{k} must be a string, not a {type(v)}\")\n",
    "\n",
    "        self.entity = entity\n",
    "        self.project = project\n",
    "        self.run_name = run_name\n",
    "        self.job_type = job_type\n",
    "        self.notes = notes\n",
    "        \n",
    "        if not testing:\n",
    "            self.run = wandb.init(\n",
    "                entity=entity, \n",
    "                project=project, \n",
    "                name=run_name, \n",
    "                job_type=job_type, \n",
    "                notes=notes, \n",
    "                save_code=True\n",
    "            )\n",
    "\n",
    "\n",
    "    def finish(self):\n",
    "        \"\"\"End the run\"\"\"\n",
    "        self.run.finish()"
   ]
  },
  {
   "cell_type": "markdown",
   "metadata": {},
   "source": [
    "A WandB run allows to set a range of metadata, such as: `entity`, `project`, `name`, `job_type` and some additional `notes`."
   ]
  },
  {
   "cell_type": "code",
   "execution_count": null,
   "metadata": {},
   "outputs": [],
   "source": [
    "entity = 'metagenomics_sh'\n",
    "project = 'reproduce_cnn_virus'\n",
    "run_name = 'nbdev'\n",
    "job_type = \"code_testing\"\n",
    "notes = '???'"
   ]
  },
  {
   "cell_type": "code",
   "execution_count": null,
   "metadata": {},
   "outputs": [],
   "source": [
    "#| hide\n",
    "# wandb_run = WandbRun(\n",
    "#     entity=entity, \n",
    "#     project=project, \n",
    "#     run_name=run_name, \n",
    "#     job_type=job_type, \n",
    "#     notes=notes\n",
    "#     )"
   ]
  },
  {
   "cell_type": "markdown",
   "metadata": {},
   "source": [
    "```python\n",
    "wandb_run = WandbRun(\n",
    "    entity=entity, \n",
    "    project=project, \n",
    "    run_name=run_name, \n",
    "    job_type=job_type, \n",
    "    notes=notes\n",
    "    )\n",
    "```\n",
    "Will print the following log, including links to WandB project pages and documentation:\n",
    "- Waiting for wandb.init()...\n",
    "- Tracking run with wandb version 0.13.5\n",
    "-Run data is saved locally in /home/vtec/projects/bio/metagentools/nbs-dev/wandb/run-20221123_150346-1aa0q1n4\n",
    "- Syncing run [nbdev](https://wandb.ai/metagenomics_sh/reproduce_cnn_virus/runs/1aa0q1n4?workspace=user-vtecftyw) to [Weights & Biases](https://wandb.ai/metagenomics_sh/reproduce_cnn_virus?workspace=user-vtecftyw) ([docs](https://docs.wandb.ai/guides))"
   ]
  },
  {
   "cell_type": "markdown",
   "metadata": {},
   "source": [
    "#### Close a run"
   ]
  },
  {
   "cell_type": "code",
   "execution_count": null,
   "metadata": {},
   "outputs": [],
   "source": [
    "#| hide\n",
    "# wandb_run.finish()"
   ]
  },
  {
   "cell_type": "markdown",
   "metadata": {},
   "source": [
    "```python\n",
    "wandb_run.finish()\n",
    "```\n",
    "Will print the following log, including links to WandB project pages and documentation:\n",
    "- Waiting for W&B process to finish... (success).\n",
    "- Synced nbdev-2: https://wandb.ai/metagenomics_sh/reproduce_cnn_virus/runs/1aa0q1n4\n",
    "- Synced 6 W&B file(s), 0 media file(s), 0 artifact file(s) and 2 other file(s)\n",
    "- Find logs at: ./wandb/run-20221123_150346-1aa0q1n4/logs"
   ]
  },
  {
   "cell_type": "markdown",
   "metadata": {},
   "source": [
    "- If one of `entity`, `project`, `run_name` or `job_type` is not passed, the function raises a `ValueError`"
   ]
  },
  {
   "cell_type": "code",
   "execution_count": null,
   "metadata": {},
   "outputs": [],
   "source": [
    "#| hide\n",
    "test_fail(WandbRun, kwargs={}, contains='entity may not be an empty string')\n",
    "test_fail(WandbRun, kwargs={'entity':entity}, contains='project may not be an empty string')\n",
    "test_fail(WandbRun, kwargs={'entity':entity, 'project':project}, contains='run_name may not be an empty string')\n",
    "test_fail(WandbRun, kwargs={'entity':entity, 'project':project, 'run_name':run_name}, contains='job_type may not be an empty string')"
   ]
  },
  {
   "cell_type": "markdown",
   "metadata": {},
   "source": [
    "- If one of `entity`, `project`, `run_name`, `job_type` or `notes` is not a string, the function raises a `TypeError`"
   ]
  },
  {
   "cell_type": "code",
   "execution_count": null,
   "metadata": {},
   "outputs": [],
   "source": [
    "#| hide\n",
    "test_fail(\n",
    "    WandbRun, \n",
    "    kwargs={'entity':9, 'project':project, 'run_name':run_name, 'job_type':job_type, 'notes':notes, 'testing':True}, \n",
    "    contains='entity must be a string'\n",
    "    )\n",
    "test_fail(\n",
    "    WandbRun, \n",
    "    kwargs={'entity':entity, 'project':9, 'run_name':run_name, 'job_type':job_type, 'notes':notes, 'testing':True}, \n",
    "    contains='project must be a string'\n",
    "    )\n",
    "test_fail(\n",
    "    WandbRun, \n",
    "    kwargs={'entity':entity, 'project':project, 'run_name':9, 'job_type':job_type, 'notes':notes, 'testing':True}, \n",
    "    contains='run_name must be a string'\n",
    "    )\n",
    "test_fail(\n",
    "    WandbRun, \n",
    "    kwargs={'entity':entity, 'project':project, 'run_name':run_name, 'job_type':9, 'notes':notes, 'testing':True}, \n",
    "    contains='job_type must be a string'\n",
    "    )\n",
    "test_fail(\n",
    "    WandbRun, \n",
    "    kwargs={'entity':entity, 'project':project, 'run_name':run_name, 'job_type':job_type, 'notes':9, 'testing':True}, \n",
    "    contains='notes must be a string'\n",
    "    )"
   ]
  },
  {
   "cell_type": "code",
   "execution_count": null,
   "metadata": {},
   "outputs": [],
   "source": [
    "#| hide\n",
    "nbdev.nbdev_export()"
   ]
  }
 ],
 "metadata": {
  "kernelspec": {
   "display_name": "Python 3.10.6 ('metagentools')",
   "language": "python",
   "name": "python3"
  },
  "widgets": {
   "application/vnd.jupyter.widget-state+json": {
    "26b205197a934fdeabb71e65ac11acba": {
     "model_module": "@jupyter-widgets/base",
     "model_module_version": "1.2.0",
     "model_name": "LayoutModel",
     "state": {
      "_model_module": "@jupyter-widgets/base",
      "_model_module_version": "1.2.0",
      "_model_name": "LayoutModel",
      "_view_count": null,
      "_view_module": "@jupyter-widgets/base",
      "_view_module_version": "1.2.0",
      "_view_name": "LayoutView",
      "align_content": null,
      "align_items": null,
      "align_self": null,
      "border": null,
      "bottom": null,
      "display": null,
      "flex": null,
      "flex_flow": null,
      "grid_area": null,
      "grid_auto_columns": null,
      "grid_auto_flow": null,
      "grid_auto_rows": null,
      "grid_column": null,
      "grid_gap": null,
      "grid_row": null,
      "grid_template_areas": null,
      "grid_template_columns": null,
      "grid_template_rows": null,
      "height": null,
      "justify_content": null,
      "justify_items": null,
      "left": null,
      "margin": null,
      "max_height": null,
      "max_width": null,
      "min_height": null,
      "min_width": null,
      "object_fit": null,
      "object_position": null,
      "order": null,
      "overflow": null,
      "overflow_x": null,
      "overflow_y": null,
      "padding": null,
      "right": null,
      "top": null,
      "visibility": null,
      "width": null
     }
    },
    "514ad0bfcabf4df580a9a872af814af9": {
     "model_module": "@jupyter-widgets/controls",
     "model_module_version": "1.5.0",
     "model_name": "ProgressStyleModel",
     "state": {
      "_model_module": "@jupyter-widgets/controls",
      "_model_module_version": "1.5.0",
      "_model_name": "ProgressStyleModel",
      "_view_count": null,
      "_view_module": "@jupyter-widgets/base",
      "_view_module_version": "1.2.0",
      "_view_name": "StyleView",
      "bar_color": null,
      "description_width": ""
     }
    },
    "55646397fc9349d3af9e98b1f2b26f5d": {
     "model_module": "@jupyter-widgets/base",
     "model_module_version": "1.2.0",
     "model_name": "LayoutModel",
     "state": {
      "_model_module": "@jupyter-widgets/base",
      "_model_module_version": "1.2.0",
      "_model_name": "LayoutModel",
      "_view_count": null,
      "_view_module": "@jupyter-widgets/base",
      "_view_module_version": "1.2.0",
      "_view_name": "LayoutView",
      "align_content": null,
      "align_items": null,
      "align_self": null,
      "border": null,
      "bottom": null,
      "display": null,
      "flex": null,
      "flex_flow": null,
      "grid_area": null,
      "grid_auto_columns": null,
      "grid_auto_flow": null,
      "grid_auto_rows": null,
      "grid_column": null,
      "grid_gap": null,
      "grid_row": null,
      "grid_template_areas": null,
      "grid_template_columns": null,
      "grid_template_rows": null,
      "height": null,
      "justify_content": null,
      "justify_items": null,
      "left": null,
      "margin": null,
      "max_height": null,
      "max_width": null,
      "min_height": null,
      "min_width": null,
      "object_fit": null,
      "object_position": null,
      "order": null,
      "overflow": null,
      "overflow_x": null,
      "overflow_y": null,
      "padding": null,
      "right": null,
      "top": null,
      "visibility": null,
      "width": null
     }
    },
    "70f6be4247664b708b662c34e7abe3ee": {
     "model_module": "@jupyter-widgets/base",
     "model_module_version": "1.2.0",
     "model_name": "LayoutModel",
     "state": {
      "_model_module": "@jupyter-widgets/base",
      "_model_module_version": "1.2.0",
      "_model_name": "LayoutModel",
      "_view_count": null,
      "_view_module": "@jupyter-widgets/base",
      "_view_module_version": "1.2.0",
      "_view_name": "LayoutView",
      "align_content": null,
      "align_items": null,
      "align_self": null,
      "border": null,
      "bottom": null,
      "display": null,
      "flex": null,
      "flex_flow": null,
      "grid_area": null,
      "grid_auto_columns": null,
      "grid_auto_flow": null,
      "grid_auto_rows": null,
      "grid_column": null,
      "grid_gap": null,
      "grid_row": null,
      "grid_template_areas": null,
      "grid_template_columns": null,
      "grid_template_rows": null,
      "height": null,
      "justify_content": null,
      "justify_items": null,
      "left": null,
      "margin": null,
      "max_height": null,
      "max_width": null,
      "min_height": null,
      "min_width": null,
      "object_fit": null,
      "object_position": null,
      "order": null,
      "overflow": null,
      "overflow_x": null,
      "overflow_y": null,
      "padding": null,
      "right": null,
      "top": null,
      "visibility": null,
      "width": null
     }
    },
    "7179c6cc207941648c348b1bf10cb87f": {
     "model_module": "@jupyter-widgets/controls",
     "model_module_version": "1.5.0",
     "model_name": "LabelModel",
     "state": {
      "_dom_classes": [],
      "_model_module": "@jupyter-widgets/controls",
      "_model_module_version": "1.5.0",
      "_model_name": "LabelModel",
      "_view_count": null,
      "_view_module": "@jupyter-widgets/controls",
      "_view_module_version": "1.5.0",
      "_view_name": "LabelView",
      "description": "",
      "description_tooltip": null,
      "layout": "IPY_MODEL_70f6be4247664b708b662c34e7abe3ee",
      "placeholder": "​",
      "style": "IPY_MODEL_bdde467d943148ce9bb6355fd7582a5c",
      "value": "0.078 MB of 0.078 MB uploaded (0.020 MB deduped)\r"
     }
    },
    "7849f255e99b4853bdba7f8badf1054a": {
     "model_module": "@jupyter-widgets/controls",
     "model_module_version": "1.5.0",
     "model_name": "VBoxModel",
     "state": {
      "_dom_classes": [],
      "_model_module": "@jupyter-widgets/controls",
      "_model_module_version": "1.5.0",
      "_model_name": "VBoxModel",
      "_view_count": null,
      "_view_module": "@jupyter-widgets/controls",
      "_view_module_version": "1.5.0",
      "_view_name": "VBoxView",
      "box_style": "",
      "children": [
       "IPY_MODEL_7179c6cc207941648c348b1bf10cb87f",
       "IPY_MODEL_e0819a1ddcc64c08a748a2fd88350f09"
      ],
      "layout": "IPY_MODEL_26b205197a934fdeabb71e65ac11acba"
     }
    },
    "bdde467d943148ce9bb6355fd7582a5c": {
     "model_module": "@jupyter-widgets/controls",
     "model_module_version": "1.5.0",
     "model_name": "DescriptionStyleModel",
     "state": {
      "_model_module": "@jupyter-widgets/controls",
      "_model_module_version": "1.5.0",
      "_model_name": "DescriptionStyleModel",
      "_view_count": null,
      "_view_module": "@jupyter-widgets/base",
      "_view_module_version": "1.2.0",
      "_view_name": "StyleView",
      "description_width": ""
     }
    },
    "e0819a1ddcc64c08a748a2fd88350f09": {
     "model_module": "@jupyter-widgets/controls",
     "model_module_version": "1.5.0",
     "model_name": "FloatProgressModel",
     "state": {
      "_dom_classes": [],
      "_model_module": "@jupyter-widgets/controls",
      "_model_module_version": "1.5.0",
      "_model_name": "FloatProgressModel",
      "_view_count": null,
      "_view_module": "@jupyter-widgets/controls",
      "_view_module_version": "1.5.0",
      "_view_name": "ProgressView",
      "bar_style": "",
      "description": "",
      "description_tooltip": null,
      "layout": "IPY_MODEL_55646397fc9349d3af9e98b1f2b26f5d",
      "max": 1,
      "min": 0,
      "orientation": "horizontal",
      "style": "IPY_MODEL_514ad0bfcabf4df580a9a872af814af9",
      "value": 1
     }
    }
   }
  }
 },
 "nbformat": 4,
 "nbformat_minor": 1
}
