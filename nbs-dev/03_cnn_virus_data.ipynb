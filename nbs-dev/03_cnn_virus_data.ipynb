{
 "cells": [
  {
   "cell_type": "code",
   "execution_count": null,
   "metadata": {},
   "outputs": [],
   "source": [
    "#|default_exp cnn_virus.data"
   ]
  },
  {
   "cell_type": "code",
   "execution_count": null,
   "metadata": {},
   "outputs": [],
   "source": [
    "#|hide\n",
    "from __future__ import annotations\n",
    "from ecutilities.ipython import nb_setup\n",
    "from fastcore.test import test_fail\n",
    "from nbdev import show_doc, nbdev_export\n",
    "from pprint import pprint\n",
    "\n",
    "import numpy as np"
   ]
  },
  {
   "cell_type": "code",
   "execution_count": null,
   "metadata": {},
   "outputs": [
    {
     "name": "stdout",
     "output_type": "stream",
     "text": [
      "Set autoreload mode\n"
     ]
    }
   ],
   "source": [
    "#| hide\n",
    "nb_setup()\n",
    "\n",
    "# ON_COLAB, p2dataroot, p2data = setup_nb(_dev=True)"
   ]
  },
  {
   "cell_type": "code",
   "execution_count": null,
   "metadata": {},
   "outputs": [],
   "source": [
    "#|export\n",
    "from ecutilities.core import validate_path\n",
    "from functools import partial, partialmethod\n",
    "from metagentools.bio import q_score2prob_error\n",
    "from metagentools.core import TextFileBaseIterator\n",
    "from pathlib import Path\n",
    "from typing import Any, Optional\n",
    "\n",
    "import json\n",
    "import numpy as np\n",
    "import re\n",
    "import tensorflow as tf"
   ]
  },
  {
   "cell_type": "code",
   "execution_count": null,
   "metadata": {},
   "outputs": [
    {
     "name": "stdout",
     "output_type": "stream",
     "text": [
      "Tensorflow version: 2.8.2 - Expected 2.8.2\n"
     ]
    }
   ],
   "source": [
    "#|hide\n",
    "print(f\"Tensorflow version: {tf.__version__} - Expected 2.8.2\")"
   ]
  },
  {
   "cell_type": "markdown",
   "metadata": {},
   "source": [
    "# data\n",
    "\n",
    "> Data preprocessing functions, data loaders, ..."
   ]
  },
  {
   "cell_type": "markdown",
   "metadata": {},
   "source": [
    "# Data structure for CNN Virus project"
   ]
  },
  {
   "cell_type": "markdown",
   "metadata": {},
   "source": [
    "The following diagram shows the different types of data from raw data to processed data to data used by the CNN Virus model"
   ]
  },
  {
   "attachments": {
    "image-3.png": {
     "image/png": "[encoded data removed]"
    }
   },
   "cell_type": "markdown",
   "metadata": {},
   "source": [
    "![image-3.png](attachment:image-3.png)"
   ]
  },
  {
   "cell_type": "markdown",
   "metadata": {},
   "source": [
    "## Corona Virus Sequence Files"
   ]
  },
  {
   "cell_type": "markdown",
   "metadata": {},
   "source": [
    "All cov sequence are available as FASTA files."
   ]
  },
  {
   "cell_type": "markdown",
   "metadata": {},
   "source": [
    "Examples of corona virus sequence files (fasta) with different number of sequences used in the project:\n",
    "```\n",
    "data\n",
    "  |--cov_data\n",
    "  |    |--cov_virus_sequences_hundred.fa\n",
    "  |    |--cov_virus_sequence_one_2.fa\n",
    "  |    |--cov_virus_sequences_two.fa\n",
    "  |    |--cov_virus_sequences_twenty_five.fa\n",
    "  |    |--cov_virus_sequences_ten.fa\n",
    "  |    |--cov_virus_sequence_one_1.fa\n",
    "  |    |--cov_virus_sequences.fa\n",
    "```\n",
    "\n",
    "Those fasta files have the following format (showing 5 sequences):\n",
    "```\n",
    ">2591237:ncbi:1 [MK211378]\t2591237\tncbi\t1 [MK211378] 2591237\tCoronavirus BtRs-BetaCoV/YN2018D\tscient\n",
    "TATTAGGTTTTCTACCTACCCAGGAAAAGCCAACCAACCTCGATCTCTTGTAGATCTGTTCTCTAAACGAACTTTAAAATCTGTGTAGCTGTCGCTCGGCTGCATGCCTA ...\n",
    ">11128:ncbi:2 [LC494191]\n",
    "CATCCCGCTTCACTGATCTCTTGTTAGATCTTTTCATAATCTAAACTTTATAAAAACATCCACTCCCTGTAGTCTATGCCTATGGGCGTAGATTTTTCATAGTGGTGTCT ...\n",
    ">31631:ncbi:3 [KY967361]\t31631\tncbi\t3 [KY967361] 31631\tHuman coronavirus OC43\tscientific name\n",
    "ATCTCTTGTTAGATCTTTTTGTAATCTAAACTTTATAAAAACATCCACTCCCTGTAATCTATGCTTGTGGGCGTAGATTTTTCATAGTGGTGTTTATATTCATTTCTGCT ...\n",
    ">277944:ncbi:4 [LC654455]\t277944\tncbi\t4 [LC654455] 277944\tHuman coronavirus NL63\tscientific name\n",
    "ATTTTCTTATTTAGACTTTGTGTCTACTCTTCTCAACTAAACGAAATTTTTCTAGTGCTGTCATTTGTTATGGCAGTCCTAGTGTAATTGAAATTTCGTCAAGTTTGTAA ...\n",
    ">11120:ncbi:5 [MN987231]\t11120\tncbi\t5 [MN987231] 11120\tInfectious bronchitis virus\tscientific name\n",
    "TCCTAAGTGTGATATAAATATATATCATACACACTAGCCTTGCGCTAGATTTCTAACTTAACAAAACGGACTTAAATACCTACAGCTGGTCCCTATAGGTGTTCCATTGC ...\n",
    "....\n",
    "```"
   ]
  },
  {
   "cell_type": "markdown",
   "metadata": {},
   "source": [
    "In this format, a *Definition Lines* includes the following **metadata**:\n",
    "\n",
    "- `SeqID`, a unique ID for the sequence\n",
    "- `source`, the source of the sequence\n",
    "- `seq_nbr`, the number/position of the sequence in the file\n",
    "- `accession`, another idenfifier for the sequence on NCBI\n",
    "- `species`, a full name for the sequence, sometimes this information is missing."
   ]
  },
  {
   "cell_type": "markdown",
   "metadata": {},
   "source": [
    "Example 1:\n",
    "\n",
    "- Definition Line:\n",
    "```ascii\n",
    "    >2591237:ncbi:1 [MK211378]\t2591237\tncbi\t1 [MK211378] 2591237\tCoronavirus BtRs-BetaCoV/YN2018D\t\tscientific name\n",
    "```\n",
    "- Metadata:\n",
    "    - `SeqID` = `2591237`\n",
    "    - `source` = `ncbi`\n",
    "    - `seq_nbr` = `1`\n",
    "    - `accession` = `MK211378`\n",
    "    - `species` = `Coronavirus BtRs-BetaCoV/YN2018D`\n",
    "\n",
    "Example 2:\n",
    "\n",
    "- Definition Line\n",
    "```ascii\n",
    "    >11128:ncbi:2 [LC494191]\n",
    "```\n",
    "\n",
    "- Metadata:\n",
    "    - `SeqID` = `11128`\n",
    "    - `source` = `ncbi`\n",
    "    - `seq_nbr` = `2`\n",
    "    - `accession` = `LC494191`\n",
    "    - `species` = `''`"
   ]
  },
  {
   "cell_type": "markdown",
   "metadata": {},
   "source": [
    "## Simulated Read Files"
   ]
  },
  {
   "cell_type": "markdown",
   "metadata": {},
   "source": [
    "Simulated reads information is split between two files:\n",
    "\n",
    "- FASTQ (`.fq`) files providing the read sequences and their ASCII quality scores\n",
    "- ALN (`.aln`) files with alignment information"
   ]
  },
  {
   "cell_type": "markdown",
   "metadata": {},
   "source": [
    "Example of read sequence FASTA and ALN files used in this project\n",
    "\n",
    "```ascii\n",
    "data\n",
    "  |--cov_simreads\n",
    "  |    |--single_25seq_50bp\n",
    "  |    |    |--single_25seq_50bp.aln\n",
    "  |    |    |--single_25seq_50bp.fq\n",
    "  |    |--single_25seq_150bp\n",
    "  |    |    |--single_25seq_150bp.fq\n",
    "  |    |    |--single_25seq_150bp.aln\n",
    "  |    |--single_100seq_50bp\n",
    "  |    |    |--single_100seq_50bp.fq\n",
    "  |    |    |--single_100seq_50bp.aln\n",
    "  |    |--single_100seq_150bp\n",
    "  |    |    |--single_100seq_150bp.fq\n",
    "  |    |    |--single_100seq_150bp.aln\n",
    "  ```"
   ]
  },
  {
   "cell_type": "markdown",
   "metadata": {},
   "source": [
    "**FASTQ** (`.fq`) files generated by ART Illumina have the following structure (showing 5 reads):\n",
    "\n",
    "```ascii\n",
    "@2591237:ncbi:1-60400\n",
    "ACAACTCCTATTCGTAGTTGAAGTTGTTGACAAATACTTTGATTGTTACG\n",
    "+\n",
    "CCCBCGFGBGGGGGGGBGGGGGGGGG>GGG1G=/GGGGGGGGGGGGGGGG\n",
    "@2591237:ncbi:1-60399\n",
    "GATCAATGTGGCATCTACAATACAGACAGCATGAAGCACCACCAAAGGAC\n",
    "+\n",
    "BCBCCFGGGGGGGG1CGGGG<GGBGGGGGFGCGGGGGGDGGG/GG1GGGG\n",
    "@2591237:ncbi:1-60398\n",
    "ATCTACCAGTGGTAGATGGGTTCTTAATAATGAACATTATAGAGCTCTAC\n",
    "+\n",
    "CCCCCGGGEGG1GGF1G/GGEGGGGGGGGGGGGFFGGGGGGGGGGDGGDG\n",
    "@2591237:ncbi:1-60397\n",
    "CGTAAAGTAGAGGCTGTATGGTAGCTAGCACAAATGCCAGCACCAATAGG\n",
    "+\n",
    "BCCCCGGGFGGGGGGFGGGGFGG1GGGGGGG>GG1GGGGGGGGGGE<GGG\n",
    "@2591237:ncbi:1-60396\n",
    "GGTATCGGGTATCTCCTGCATCAATGCAAGGTCTTACAAAGATAAATACT\n",
    "+\n",
    "CBCCCGGG@CGGGGGGGGGGGG=GFGGGGDGGGFG1GGGGGGGG@GGGGG\n",
    "```"
   ]
  },
  {
   "cell_type": "markdown",
   "metadata": {},
   "source": [
    "The following information can be parsed from the each read sequence in the FASTQ file:\n",
    "\n",
    "- Line 1: `readid`, a unique ID for the read, under for format `@read_id` \n",
    "- Line 2: `sequence`, the sequence of the read\n",
    "- Line 3: a separator `+`\n",
    "- Line 4: `q scores`, the base quality scores encoded in ASCII \n",
    "\n",
    "Example:\n",
    "```\n",
    "@2591237:ncbi:1-60400\n",
    "ACAACTCCTATTCGTAGTTGAAGTTGTTGACAAATACTTTGATTGTTACG\n",
    "+\n",
    "CCCBCGFGBGGGGGGGBGGGGGGGGG>GGG1G=/GGGGGGGGGGGGGGGG\n",
    "```\n",
    "- `readid` = `2591237:ncbi:1-60400`\n",
    "- `sequence` = `ACAACTCCTATTCGTAGTTGAAGTTGTTGACAAATACTTTGATTGTTACG`, a 50 bp read\n",
    "- `q scores` = `CCCBCGFGBGGGGGGGBGGGGGGGGG>GGG1G=/GGGGGGGGGGGGGGGG`"
   ]
  },
  {
   "cell_type": "markdown",
   "metadata": {},
   "source": [
    "**ALN** (`.aln`) files generated by ART Illumina have the following structure (showing 5 reads):\n",
    "\n",
    "```ascii\n",
    "##ART_Illumina\tread_length\t50\n",
    "@CM\t/bin/art_illumina -i /home/vtec/projects/bio/metagentools/data/cov_data/cov_virus_sequences_ten.fa -ss HS25 -l 50 -f 100 -o /home/vtec/projects/bio/metagentools/data/cov_simreads/single_10seq_50bp/single_10seq_50bp -rs 1674660835\n",
    "@SQ\t2591237:ncbi:1 [MK211378]\t2591237\tncbi\t1 [MK211378] 2591237\tCoronavirus BtRs-BetaCoV/YN2018D\t\tscientific name\t30213\n",
    "@SQ\t11128:ncbi:2 [LC494191]\t11128\tncbi\t2 [LC494191] 11128\tBovine coronavirus\t\tscientific name\t30942\n",
    "@SQ\t31631:ncbi:3 [KY967361]\t31631\tncbi\t3 [KY967361] 31631\tHuman coronavirus OC43\t\tscientific name\t30661\n",
    "@SQ\t277944:ncbi:4 [LC654455]\t277944\tncbi\t4 [LC654455] 277944\tHuman coronavirus NL63\t\tscientific name\t27516\n",
    "@SQ\t11120:ncbi:5 [MN987231]\t11120\tncbi\t5 [MN987231] 11120\tInfectious bronchitis virus\t\tscientific name\t27617\n",
    "@SQ\t28295:ncbi:6 [KU893866]\t28295\tncbi\t6 [KU893866] 28295\tPorcine epidemic diarrhea virus\t\tscientific name\t28043\n",
    "@SQ\t28295:ncbi:7 [KJ645638]\t28295\tncbi\t7 [KJ645638] 28295\tPorcine epidemic diarrhea virus\t\tscientific name\t27998\n",
    "@SQ\t28295:ncbi:8 [KJ645678]\t28295\tncbi\t8 [KJ645678] 28295\tPorcine epidemic diarrhea virus\t\tscientific name\t27998\n",
    "@SQ\t28295:ncbi:9 [KR873434]\t28295\tncbi\t9 [KR873434] 28295\tPorcine epidemic diarrhea virus\t\tscientific name\t28038\n",
    "@SQ\t1699095:ncbi:10 [KT368904]\t1699095\tncbi\t10 [KT368904] 1699095\tCamel alphacoronavirus\t\tscientific name\t27395\n",
    "##Header End\n",
    ">2591237:ncbi:1\t2591237:ncbi:1-60400\t14770\t+\n",
    "ACAACTCCTATTCGTAGTTGAAGTTGTTGACAAATACTTTGATTGTTACG\n",
    "ACAACTCCTATTCGTAGTTGAAGTTGTTGACAAATACTTTGATTGTTACG\n",
    ">2591237:ncbi:1\t2591237:ncbi:1-60399\t17012\t-\n",
    "GATCAATGTGGCATCTACAATACAGACAGCATGAAGCACCACCAAAGGAC\n",
    "GATCAATGTGGCATCTACAATACAGACAGCATGAAGCACCACCAAAGGAC\n",
    ">2591237:ncbi:1\t2591237:ncbi:1-60398\t9188\t+\n",
    "ATCTACCAGTGGTAGATGGGTTCTTAATAATGAACATTATAGAGCTCTAC\n",
    "ATCTACCAGTGGTAGATGGGTTCTTAATAATGAACATTATAGAGCTCTAC\n",
    ">2591237:ncbi:1\t2591237:ncbi:1-60397\t6764\t-\n",
    "CGTAAAGTAGAGGCTGTATGGTAGCTAGCACAAATGCCAGCACCAATAGG\n",
    "CGTAAAGTAGAGGCTGTATGGTAGCTAGCACAAATGCCAGCACCAATAGG\n",
    ">2591237:ncbi:1\t2591237:ncbi:1-60396\t27357\t+\n",
    "GGTATCGGGTATCTCCTGCATCAATGCAAGGTCTTACAAAGATAAATACT\n",
    "GGTATCGGGTATCTCCTGCATCAATGCAAGGTCTTACAAAGATAAATACT\n",
    ".....\n",
    "```"
   ]
  },
  {
   "cell_type": "markdown",
   "metadata": {},
   "source": [
    "ALN files consist of \n",
    "\n",
    "- a header with the simulation ART command and information about the reference full sequences used for the simulations\n",
    "- the body with three lines for each read:\n",
    "    - definition line with `readid`, \n",
    "    - reference sequence `seqid', \n",
    "    - the position in the read in the reference sequence 'aln_start_pos' \n",
    "    - the 'ref_seq_strand'"
   ]
  },
  {
   "cell_type": "code",
   "execution_count": null,
   "metadata": {},
   "outputs": [],
   "source": [
    "#| hide\n",
    "# p2aln = Path('../data/cov_simreads/single_10seq_50bp/single_10seq_50bp.aln').resolve()\n",
    "# it = TextFileBaseIterator(p2aln, nlines=30)\n",
    "# it.print_first_chuncks(1)"
   ]
  },
  {
   "cell_type": "markdown",
   "metadata": {},
   "source": [
    "# Parsing sequence files"
   ]
  },
  {
   "cell_type": "markdown",
   "metadata": {},
   "source": [
    "The following classes and functions make it easier to read and parse files of different format into their underlying components to generated the training, validation, testing and inference datasets for the model.\n",
    "\n",
    "- File Iterators: classes to read the file chunch by chunch and handle basic underlying components.\n",
    "- Parsing Functions: function taking the output of a File Iterator and extracting the metadata from the relevant element under the form or a key:value dictionary\n",
    "- File Readers: classes reading in a specific file and using file iterators and parsing functions to give access to the underlying data in different format, either as an iterator or as a full dataset dictionary"
   ]
  },
  {
   "cell_type": "markdown",
   "metadata": {},
   "source": [
    "## FASTA file"
   ]
  },
  {
   "cell_type": "code",
   "execution_count": null,
   "metadata": {},
   "outputs": [],
   "source": [
    "#| export\n",
    "class FastaFileIterator(TextFileBaseIterator):\n",
    "    \"\"\"Iterator going through a fasta file sequence by sequence and returning definition line and sequence as a dict\"\"\"\n",
    "    def __init__(\n",
    "        self,\n",
    "        path:str|Path,   # path to the fasta file\n",
    "    ):\n",
    "        super().__init__(path, nlines=1)\n",
    "    \n",
    "    def __next__(self)-> dict[str, str]:   # `{'definition line': text in dfn line, 'sequence': full sequence as str}` \n",
    "        \"\"\"Return one definition line and the corresponding sequence\"\"\"\n",
    "        lines = []\n",
    "        for i in range(2):\n",
    "            lines.append(self._safe_readline())\n",
    "        dfn_line = lines[0]\n",
    "        sequence = lines[1].replace('\\n', '')\n",
    "        return {'definition line':dfn_line, 'sequence':f\"{sequence}\"}\n",
    "    \n",
    "    def print_first_chuncks(\n",
    "        self, \n",
    "        nchunks:int=3,  # number of chunks to print out\n",
    "    ):\n",
    "        \"\"\"Print the first `nchunks` chuncks of text from the file\"\"\"\n",
    "        for i, seq_dict in enumerate(self.__iter__()):\n",
    "            print(f\"\\nSequence {i+1}:\")\n",
    "            print(seq_dict['definition line'])\n",
    "            print(f\"{seq_dict['sequence'][:80]} ...\")\n",
    "            if i >= nchunks: break"
   ]
  },
  {
   "cell_type": "code",
   "execution_count": null,
   "metadata": {},
   "outputs": [
    {
     "data": {
      "text/markdown": [
       "---\n",
       "\n",
       "[source](https://github.com/vtecftwy/metagentools/blob/main/metagentools/cnn_virus/data.py#L22){target=\"_blank\" style=\"float:right; font-size:smaller\"}\n",
       "\n",
       "### FastaFileIterator\n",
       "\n",
       ">      FastaFileIterator (path:str|pathlib.Path)\n",
       "\n",
       "Iterator going through a fasta file sequence by sequence and returning definition line and sequence as a dict\n",
       "\n",
       "|    | **Type** | **Details** |\n",
       "| -- | -------- | ----------- |\n",
       "| path | str \\| Path | path to the fasta file |"
      ],
      "text/plain": [
       "---\n",
       "\n",
       "[source](https://github.com/vtecftwy/metagentools/blob/main/metagentools/cnn_virus/data.py#L22){target=\"_blank\" style=\"float:right; font-size:smaller\"}\n",
       "\n",
       "### FastaFileIterator\n",
       "\n",
       ">      FastaFileIterator (path:str|pathlib.Path)\n",
       "\n",
       "Iterator going through a fasta file sequence by sequence and returning definition line and sequence as a dict\n",
       "\n",
       "|    | **Type** | **Details** |\n",
       "| -- | -------- | ----------- |\n",
       "| path | str \\| Path | path to the fasta file |"
      ]
     },
     "execution_count": null,
     "metadata": {},
     "output_type": "execute_result"
    }
   ],
   "source": [
    "show_doc(FastaFileIterator)"
   ]
  },
  {
   "cell_type": "markdown",
   "metadata": {},
   "source": [
    "At each iteration, `FastaFileIterator` returns a `dict` as follows:\n",
    "```python\n",
    "{\n",
    "    'definition line': 'string in file as the definition line for the sequence',\n",
    "    'sequence': 'the full sequence'\n",
    "}\n",
    "```\n",
    "\n",
    "Example:"
   ]
  },
  {
   "cell_type": "code",
   "execution_count": null,
   "metadata": {},
   "outputs": [
    {
     "name": "stdout",
     "output_type": "stream",
     "text": [
      "output type .... <class 'dict'>\n",
      "keys ........... dict_keys(['definition line', 'sequence'])\n",
      "definition line  '>2591237:ncbi:1 [MK211378]\t2591237\tncbi\t1 [MK211378] 2591237\tCoronavirus BtRs-BetaCoV/YN2018D\t\tscientific name'\n",
      "sequence ....... 'TATTAGGTTTTCTACCTACCCAGGAAAAGCCAACCAACCTCGATCTCTTGTAGATCTGTTCTCTAAACGAACTTTAAAATCTGTGTAGCTGTCGCTCGGC ...'\n"
     ]
    }
   ],
   "source": [
    "p2fasta = Path('data_dev/cov_virus_sequences_two.fa')\n",
    "\n",
    "it = FastaFileIterator(p2fasta)\n",
    "iteration_output = next(it)\n",
    "\n",
    "print(f\"output type .... {type(iteration_output)}\")\n",
    "print(f\"keys ........... {iteration_output.keys()}\")\n",
    "print(f\"definition line  '{iteration_output['definition line'][:-1]}'\")\n",
    "print(f\"sequence ....... '{iteration_output['sequence'][:100]} ...'\")"
   ]
  },
  {
   "cell_type": "code",
   "execution_count": null,
   "metadata": {},
   "outputs": [
    {
     "data": {
      "text/markdown": [
       "---\n",
       "\n",
       "[source](https://github.com/vtecftwy/metagentools/blob/main/metagentools/cnn_virus/data.py#L39){target=\"_blank\" style=\"float:right; font-size:smaller\"}\n",
       "\n",
       "### FastaFileIterator.print_first_chuncks\n",
       "\n",
       ">      FastaFileIterator.print_first_chuncks (nchunks:int=3)\n",
       "\n",
       "Print the first `nchunks` chuncks of text from the file\n",
       "\n",
       "|    | **Type** | **Default** | **Details** |\n",
       "| -- | -------- | ----------- | ----------- |\n",
       "| nchunks | int | 3 | number of chunks to print out |"
      ],
      "text/plain": [
       "---\n",
       "\n",
       "[source](https://github.com/vtecftwy/metagentools/blob/main/metagentools/cnn_virus/data.py#L39){target=\"_blank\" style=\"float:right; font-size:smaller\"}\n",
       "\n",
       "### FastaFileIterator.print_first_chuncks\n",
       "\n",
       ">      FastaFileIterator.print_first_chuncks (nchunks:int=3)\n",
       "\n",
       "Print the first `nchunks` chuncks of text from the file\n",
       "\n",
       "|    | **Type** | **Default** | **Details** |\n",
       "| -- | -------- | ----------- | ----------- |\n",
       "| nchunks | int | 3 | number of chunks to print out |"
      ]
     },
     "execution_count": null,
     "metadata": {},
     "output_type": "execute_result"
    }
   ],
   "source": [
    "show_doc(FastaFileIterator.print_first_chuncks)"
   ]
  },
  {
   "cell_type": "markdown",
   "metadata": {},
   "source": [
    "Allows to quickly discover new fasta files:"
   ]
  },
  {
   "cell_type": "code",
   "execution_count": null,
   "metadata": {},
   "outputs": [
    {
     "name": "stdout",
     "output_type": "stream",
     "text": [
      "\n",
      "Sequence 1:\n",
      ">2591237:ncbi:1 [MK211378]\t2591237\tncbi\t1 [MK211378] 2591237\tCoronavirus BtRs-BetaCoV/YN2018D\t\tscientific name\n",
      "\n",
      "TATTAGGTTTTCTACCTACCCAGGAAAAGCCAACCAACCTCGATCTCTTGTAGATCTGTTCTCTAAACGAACTTTAAAAT ...\n",
      "\n",
      "Sequence 2:\n",
      ">11128:ncbi:2 [LC494191]\n",
      "\n",
      "CATCCCGCTTCACTGATCTCTTGTTAGATCTTTTCATAATCTAAACTTTATAAAAACATCCACTCCCTGTAGTCTATGCC ...\n"
     ]
    }
   ],
   "source": [
    "it = FastaFileIterator(p2fasta)\n",
    "it.print_first_chuncks(nchunks=2)"
   ]
  },
  {
   "cell_type": "code",
   "execution_count": null,
   "metadata": {},
   "outputs": [],
   "source": []
  },
  {
   "cell_type": "code",
   "execution_count": null,
   "metadata": {},
   "outputs": [],
   "source": [
    "#| export\n",
    "def base_metadata_parser(\n",
    "    txt:str,         # string to parse\n",
    "    pattern:str,     # regex pattern to apply to parse the string\n",
    "    keys:list[str],  # list of keys: keys are both the regex match group names and the corresponding output dict keys\n",
    ")-> dict:            # parsed metadata in key/value format\n",
    "    \"\"\"Basic parser fn parsing metadata from string, using regex pattern and return a metadata dictionary\"\"\"\n",
    "    matches = re.match(pattern, txt)\n",
    "    metadata = {}\n",
    "    if matches is not None:\n",
    "        for g in keys:\n",
    "            m = matches.group(g)\n",
    "            metadata[g] = m.replace('\\t', ' ').strip() if m is not None else None\n",
    "        return metadata\n",
    "    else:\n",
    "        raise ValueError(f\"No match on this line\")"
   ]
  },
  {
   "cell_type": "code",
   "execution_count": null,
   "metadata": {},
   "outputs": [
    {
     "data": {
      "text/markdown": [
       "---\n",
       "\n",
       "[source](https://github.com/vtecftwy/metagentools/blob/main/metagentools/cnn_virus/data.py#L51){target=\"_blank\" style=\"float:right; font-size:smaller\"}\n",
       "\n",
       "### base_metadata_parser\n",
       "\n",
       ">      base_metadata_parser (txt:str, pattern:str, keys:list[str])\n",
       "\n",
       "Basic parser fn parsing metadata from string, using regex pattern and return a metadata dictionary\n",
       "\n",
       "|    | **Type** | **Details** |\n",
       "| -- | -------- | ----------- |\n",
       "| txt | str | string to parse |\n",
       "| pattern | str | regex pattern to apply to parse the string |\n",
       "| keys | list[str] | list of keys: keys are both the regex match group names and the corresponding output dict keys |\n",
       "| **Returns** | **dict** | **parsed metadata in key/value format** |"
      ],
      "text/plain": [
       "---\n",
       "\n",
       "[source](https://github.com/vtecftwy/metagentools/blob/main/metagentools/cnn_virus/data.py#L51){target=\"_blank\" style=\"float:right; font-size:smaller\"}\n",
       "\n",
       "### base_metadata_parser\n",
       "\n",
       ">      base_metadata_parser (txt:str, pattern:str, keys:list[str])\n",
       "\n",
       "Basic parser fn parsing metadata from string, using regex pattern and return a metadata dictionary\n",
       "\n",
       "|    | **Type** | **Details** |\n",
       "| -- | -------- | ----------- |\n",
       "| txt | str | string to parse |\n",
       "| pattern | str | regex pattern to apply to parse the string |\n",
       "| keys | list[str] | list of keys: keys are both the regex match group names and the corresponding output dict keys |\n",
       "| **Returns** | **dict** | **parsed metadata in key/value format** |"
      ]
     },
     "execution_count": null,
     "metadata": {},
     "output_type": "execute_result"
    }
   ],
   "source": [
    "show_doc(base_metadata_parser)"
   ]
  },
  {
   "cell_type": "markdown",
   "metadata": {},
   "source": [
    "Set up the pattern and keys for parsing"
   ]
  },
  {
   "cell_type": "code",
   "execution_count": null,
   "metadata": {},
   "outputs": [],
   "source": [
    "pattern = r\"^>(?P<seqid>\\d+):(?P<source>ncbi):(?P<seq_nbr>\\d*)(\\s*|\\t*)\\[(?P<accession>\\w*\\d*)\\](\\s*\\n|((\\s*|\\t)(?P=seqid))(\\s*|\\t)(?P=source)(\\s*|\\t)\\d*(\\s*|\\t)\\[(?P=accession)\\](\\s*|\\t)(?P=seqid)(\\s*|\\t)(?P<species>.*)(\\s*|\\t)scientific name\\s*\\n)\"\n",
    "\n",
    "keys = 'seqid accession seq_nbr species'.split(' ')"
   ]
  },
  {
   "cell_type": "markdown",
   "metadata": {},
   "source": [
    "Running the parser function on a FASTA definition line used in this project"
   ]
  },
  {
   "cell_type": "code",
   "execution_count": null,
   "metadata": {},
   "outputs": [
    {
     "name": "stdout",
     "output_type": "stream",
     "text": [
      ">2591237:ncbi:1 [MK211378]\t2591237\tncbi\t1 [MK211378] 2591237\tCoronavirus BtRs-BetaCoV/YN2018D\t\tscientific name\n"
     ]
    }
   ],
   "source": [
    "it = FastaFileIterator(p2fasta)\n",
    "dfn_line, sequence = next(it).values()\n",
    "print(dfn_line.replace('\\n', ''))"
   ]
  },
  {
   "cell_type": "code",
   "execution_count": null,
   "metadata": {},
   "outputs": [
    {
     "data": {
      "text/plain": [
       "{'seqid': '2591237',\n",
       " 'accession': 'MK211378',\n",
       " 'seq_nbr': '1',\n",
       " 'species': 'Coronavirus BtRs-BetaCoV/YN2018D'}"
      ]
     },
     "execution_count": null,
     "metadata": {},
     "output_type": "execute_result"
    }
   ],
   "source": [
    "base_metadata_parser(dfn_line, pattern=pattern, keys=keys)"
   ]
  },
  {
   "cell_type": "code",
   "execution_count": null,
   "metadata": {},
   "outputs": [],
   "source": [
    "#| export\n",
    "def parse_metadata_fasta_cov(\n",
    "    txt:str,                       # definition line in covid sequence fasta file\n",
    "    pattern:Optional[str]=None,    # regex pattern to apply to parse the definition line\n",
    "    keys: Optional[list[str]]=None # list of keys: keys are both the regex match group names and the corresponding output dict keys\n",
    ")-> dict:                          # parsed metadata in key/value format\n",
    "    \"\"\"Parse metadata from one sequence definition line and return a metadata dictionary\n",
    "    \n",
    "    By default, `pattern` and `keys` are set to match the format of the project cov sequences\n",
    "    \"\"\"\n",
    "    if pattern is None:\n",
    "        pattern = r\"^>(?P<seqid>\\d+):(?P<source>ncbi):(?P<seq_nbr>\\d*)(\\s*|\\t*)\\[(?P<accession>\\w*\\d*)\\](\\s*\\n|((\\s*|\\t)(?P=seqid))(\\s*|\\t)(?P=source)(\\s*|\\t)\\d*(\\s*|\\t)\\[(?P=accession)\\](\\s*|\\t)(?P=seqid)(\\s*|\\t)(?P<species>.*)(\\s*|\\t)scientific name\\s*\\n)\"\n",
    "    if keys is None: keys = 'seqid accession seq_nbr species'.split(' ')\n",
    "    return base_metadata_parser(txt, pattern, keys)"
   ]
  },
  {
   "cell_type": "code",
   "execution_count": null,
   "metadata": {},
   "outputs": [
    {
     "data": {
      "text/markdown": [
       "---\n",
       "\n",
       "### parse_metadata_fasta_cov\n",
       "\n",
       ">      parse_metadata_fasta_cov (txt:str, pattern:Optional[str]=None,\n",
       ">                                keys:Optional[list[str]]=None)\n",
       "\n",
       "Parse metadata from one sequence definition line and return a metadata dictionary\n",
       "\n",
       "By default, `pattern` and `keys` are set to match the format of the project cov sequences\n",
       "\n",
       "|    | **Type** | **Default** | **Details** |\n",
       "| -- | -------- | ----------- | ----------- |\n",
       "| txt | str |  | definition line in covid sequence fasta file |\n",
       "| pattern | Optional[str] | None | regex pattern to apply to parse the definition line |\n",
       "| keys | Optional[list[str]] | None | list of keys: keys are both the regex match group names and the corresponding output dict keys |\n",
       "| **Returns** | **dict** |  | **parsed metadata in key/value format** |"
      ],
      "text/plain": [
       "---\n",
       "\n",
       "### parse_metadata_fasta_cov\n",
       "\n",
       ">      parse_metadata_fasta_cov (txt:str, pattern:Optional[str]=None,\n",
       ">                                keys:Optional[list[str]]=None)\n",
       "\n",
       "Parse metadata from one sequence definition line and return a metadata dictionary\n",
       "\n",
       "By default, `pattern` and `keys` are set to match the format of the project cov sequences\n",
       "\n",
       "|    | **Type** | **Default** | **Details** |\n",
       "| -- | -------- | ----------- | ----------- |\n",
       "| txt | str |  | definition line in covid sequence fasta file |\n",
       "| pattern | Optional[str] | None | regex pattern to apply to parse the definition line |\n",
       "| keys | Optional[list[str]] | None | list of keys: keys are both the regex match group names and the corresponding output dict keys |\n",
       "| **Returns** | **dict** |  | **parsed metadata in key/value format** |"
      ]
     },
     "execution_count": null,
     "metadata": {},
     "output_type": "execute_result"
    }
   ],
   "source": [
    "show_doc(parse_metadata_fasta_cov)"
   ]
  },
  {
   "cell_type": "code",
   "execution_count": null,
   "metadata": {},
   "outputs": [
    {
     "name": "stdout",
     "output_type": "stream",
     "text": [
      "definition line: '>2591237:ncbi:1 [MK211378]\t2591237\tncbi\t1 [MK211378] 2591237\tCoronavirus BtRs-BetaCoV/YN2018D\t\tscientific name'\n"
     ]
    }
   ],
   "source": [
    "it = FastaFileIterator(p2fasta)\n",
    "dfn_line, sequence = next(it).values()\n",
    "print(f\"definition line: '{dfn_line[:-1]}'\")"
   ]
  },
  {
   "cell_type": "code",
   "execution_count": null,
   "metadata": {},
   "outputs": [
    {
     "data": {
      "text/plain": [
       "{'seqid': '2591237',\n",
       " 'accession': 'MK211378',\n",
       " 'seq_nbr': '1',\n",
       " 'species': 'Coronavirus BtRs-BetaCoV/YN2018D'}"
      ]
     },
     "execution_count": null,
     "metadata": {},
     "output_type": "execute_result"
    }
   ],
   "source": [
    "parse_metadata_fasta_cov(dfn_line)"
   ]
  },
  {
   "cell_type": "code",
   "execution_count": null,
   "metadata": {},
   "outputs": [],
   "source": [
    "#| export\n",
    "class FastaMetadataIterator(FastaFileIterator):\n",
    "    \"\"\"Parse all definition lines in a FASTA file for metadata\"\"\"\n",
    "    def get_metadata(\n",
    "        self,\n",
    "        save_json:bool=False  # save metadata as json if True\n",
    "    )-> dict: # key/value where key is SeqID and value is metadata `dict`\n",
    "        \"\"\"returns metadata as a dictionary and optionally save as json next to original fasta file:\n",
    "\n",
    "        - keys are the `SeqID` for each sequence in the fasta file\n",
    "        - values are `dict` with parsed metadata from the corresponding sequence definition line\n",
    "        \"\"\"       \n",
    "        fasta_metadata = {}\n",
    "        for o in self.__iter__():\n",
    "            dfn_line = o['definition line']\n",
    "            seq_metadata = parse_metadata_fasta_cov(dfn_line)\n",
    "            fasta_metadata[seq_metadata['seqid']] = seq_metadata\n",
    "        \n",
    "        if save_json:\n",
    "            p2json = self.path.parent / f\"{self.path.stem}_metadata.json\"\n",
    "            with open(p2json, 'w') as fp:\n",
    "                json.dump(fasta_metadata, fp, indent=4)\n",
    "                print(f\"Metadata for '{self.path.name}'> saved as <{p2json.name}> in  \\n{p2json.parent.absolute()}\\n\")\n",
    "            \n",
    "        return fasta_metadata"
   ]
  },
  {
   "cell_type": "code",
   "execution_count": null,
   "metadata": {},
   "outputs": [
    {
     "data": {
      "text/markdown": [
       "---\n",
       "\n",
       "[source](https://github.com/vtecftwy/metagentools/blob/main/metagentools/cnn_virus/data.py#L85){target=\"_blank\" style=\"float:right; font-size:smaller\"}\n",
       "\n",
       "### FastaMetadataIterator.get_metadata\n",
       "\n",
       ">      FastaMetadataIterator.get_metadata (save_json:bool=False)\n",
       "\n",
       "returns metadata as a dictionary and optionally save as json next to original fasta file:\n",
       "\n",
       "- keys are the `SeqID` for each sequence in the fasta file\n",
       "- values are `dict` with parsed metadata from the corresponding sequence definition line\n",
       "\n",
       "|    | **Type** | **Default** | **Details** |\n",
       "| -- | -------- | ----------- | ----------- |\n",
       "| save_json | bool | False | save metadata as json if True |\n",
       "| **Returns** | **dict** |  | **key/value where key is SeqID and value is metadata `dict`** |"
      ],
      "text/plain": [
       "---\n",
       "\n",
       "[source](https://github.com/vtecftwy/metagentools/blob/main/metagentools/cnn_virus/data.py#L85){target=\"_blank\" style=\"float:right; font-size:smaller\"}\n",
       "\n",
       "### FastaMetadataIterator.get_metadata\n",
       "\n",
       ">      FastaMetadataIterator.get_metadata (save_json:bool=False)\n",
       "\n",
       "returns metadata as a dictionary and optionally save as json next to original fasta file:\n",
       "\n",
       "- keys are the `SeqID` for each sequence in the fasta file\n",
       "- values are `dict` with parsed metadata from the corresponding sequence definition line\n",
       "\n",
       "|    | **Type** | **Default** | **Details** |\n",
       "| -- | -------- | ----------- | ----------- |\n",
       "| save_json | bool | False | save metadata as json if True |\n",
       "| **Returns** | **dict** |  | **key/value where key is SeqID and value is metadata `dict`** |"
      ]
     },
     "execution_count": null,
     "metadata": {},
     "output_type": "execute_result"
    }
   ],
   "source": [
    "show_doc(FastaMetadataIterator.get_metadata)"
   ]
  },
  {
   "cell_type": "code",
   "execution_count": null,
   "metadata": {},
   "outputs": [
    {
     "name": "stdout",
     "output_type": "stream",
     "text": [
      "{'11128': {'accession': 'LC494191',\n",
      "           'seq_nbr': '2',\n",
      "           'seqid': '11128',\n",
      "           'species': None},\n",
      " '2591237': {'accession': 'MK211378',\n",
      "             'seq_nbr': '1',\n",
      "             'seqid': '2591237',\n",
      "             'species': 'Coronavirus BtRs-BetaCoV/YN2018D'}}\n"
     ]
    }
   ],
   "source": [
    "it = FastaMetadataIterator(p2fasta)\n",
    "meta = it.get_metadata(save_json=False)\n",
    "pprint(meta)"
   ]
  },
  {
   "cell_type": "code",
   "execution_count": null,
   "metadata": {},
   "outputs": [
    {
     "name": "stdout",
     "output_type": "stream",
     "text": [
      "Metadata for 'cov_virus_sequences_two.fa'> saved as <cov_virus_sequences_two_metadata.json> in  \n",
      "/home/vtec/projects/bio/metagentools/nbs-dev/data_dev\n",
      "\n",
      "{'11128': {'accession': 'LC494191',\n",
      "           'seq_nbr': '2',\n",
      "           'seqid': '11128',\n",
      "           'species': None},\n",
      " '2591237': {'accession': 'MK211378',\n",
      "             'seq_nbr': '1',\n",
      "             'seqid': '2591237',\n",
      "             'species': 'Coronavirus BtRs-BetaCoV/YN2018D'}}\n"
     ]
    }
   ],
   "source": [
    "it = FastaMetadataIterator(p2fasta)\n",
    "meta = it.get_metadata(save_json=True)\n",
    "pprint(meta)"
   ]
  },
  {
   "cell_type": "code",
   "execution_count": null,
   "metadata": {},
   "outputs": [
    {
     "name": "stdout",
     "output_type": "stream",
     "text": [
      "Metadata for 'cov_virus_sequence_one.fa'> saved as <cov_virus_sequence_one_metadata.json> in  \n",
      "/home/vtec/projects/bio/metagentools/nbs-dev/data_dev\n",
      "\n",
      "{'2591237': {'accession': 'MK211378',\n",
      "             'seq_nbr': '1',\n",
      "             'seqid': '2591237',\n",
      "             'species': 'Coronavirus BtRs-BetaCoV/YN2018D'}}\n"
     ]
    }
   ],
   "source": [
    "p2fasta = Path('data_dev/cov_virus_sequence_one.fa').resolve()\n",
    "it = FastaMetadataIterator(p2fasta)\n",
    "meta = it.get_metadata(save_json=True)\n",
    "pprint(meta)"
   ]
  },
  {
   "cell_type": "code",
   "execution_count": null,
   "metadata": {},
   "outputs": [],
   "source": [
    "#| export\n",
    "class FastaFileReader:\n",
    "    \"\"\"Wrap a FASTA file and retrieve its contend in raw format and parsed format\"\"\"\n",
    "    def __init__(\n",
    "        self,\n",
    "        path: str|Path,  # path to the Fasta file\n",
    "    ):\n",
    "        validate_path(path, raise_error=True)\n",
    "        self.path = path\n",
    "        self.it = None\n",
    "        self.reset_iterator()\n",
    "        \n",
    "    def reset_iterator(self):\n",
    "        \"\"\"Reset the iterator to first file line\"\"\"\n",
    "        self.it = FastaFileIterator(self.path)\n",
    "        \n",
    "    def parse_fasta(\n",
    "        self,\n",
    "        add_seq:bool=False,    # Add the full sequence to the parsed dictionary when True\n",
    "    )-> dict[str]:              # Key/Values for keys: `seqid`, `seq_nbr`, `accession`, `species` and optionaly `sequence`\n",
    "        \"\"\"Read fasta file and return a dictionary with definition line metadata and optionally sequences\"\"\"\n",
    "        self.reset_iterator()\n",
    "        parsed = {}\n",
    "        for d in self.it:\n",
    "            dfn_line = d['definition line']\n",
    "            seq = d['sequence']\n",
    "            metadata = parse_metadata_fasta_cov(dfn_line)\n",
    "            if add_seq: metadata['sequence'] = seq         \n",
    "            parsed[metadata['seqid']] = metadata\n",
    "        return parsed"
   ]
  },
  {
   "cell_type": "code",
   "execution_count": null,
   "metadata": {},
   "outputs": [
    {
     "data": {
      "text/markdown": [
       "---\n",
       "\n",
       "[source](https://github.com/vtecftwy/metagentools/blob/main/metagentools/cnn_virus/data.py#L109){target=\"_blank\" style=\"float:right; font-size:smaller\"}\n",
       "\n",
       "### FastaFileReader\n",
       "\n",
       ">      FastaFileReader (path:str|pathlib.Path)\n",
       "\n",
       "Wrap a FASTA file and retrieve its contend in raw format and parsed format\n",
       "\n",
       "|    | **Type** | **Details** |\n",
       "| -- | -------- | ----------- |\n",
       "| path | str \\| Path | path to the Fasta file |"
      ],
      "text/plain": [
       "---\n",
       "\n",
       "[source](https://github.com/vtecftwy/metagentools/blob/main/metagentools/cnn_virus/data.py#L109){target=\"_blank\" style=\"float:right; font-size:smaller\"}\n",
       "\n",
       "### FastaFileReader\n",
       "\n",
       ">      FastaFileReader (path:str|pathlib.Path)\n",
       "\n",
       "Wrap a FASTA file and retrieve its contend in raw format and parsed format\n",
       "\n",
       "|    | **Type** | **Details** |\n",
       "| -- | -------- | ----------- |\n",
       "| path | str \\| Path | path to the Fasta file |"
      ]
     },
     "execution_count": null,
     "metadata": {},
     "output_type": "execute_result"
    }
   ],
   "source": [
    "show_doc(FastaFileReader)"
   ]
  },
  {
   "cell_type": "code",
   "execution_count": null,
   "metadata": {},
   "outputs": [],
   "source": [
    "fasta = FastaFileReader(p2fasta)"
   ]
  },
  {
   "cell_type": "code",
   "execution_count": null,
   "metadata": {},
   "outputs": [
    {
     "name": "stdout",
     "output_type": "stream",
     "text": [
      ">2591237:ncbi:1 [MK211378]\t2591237\tncbi\t1 [MK211378] 2591237\tCoronavirus BtRs-BetaCoV/YN2018D\t\tscientific name\n",
      "\n"
     ]
    }
   ],
   "source": [
    "for d in fasta.it:\n",
    "    print(d['definition line'])"
   ]
  },
  {
   "cell_type": "code",
   "execution_count": null,
   "metadata": {},
   "outputs": [
    {
     "data": {
      "text/markdown": [
       "---\n",
       "\n",
       "[source](https://github.com/vtecftwy/metagentools/blob/main/metagentools/cnn_virus/data.py#L120){target=\"_blank\" style=\"float:right; font-size:smaller\"}\n",
       "\n",
       "### FastaFileReader.reset_iterator\n",
       "\n",
       ">      FastaFileReader.reset_iterator ()\n",
       "\n",
       "Reset the iterator to first file line"
      ],
      "text/plain": [
       "---\n",
       "\n",
       "[source](https://github.com/vtecftwy/metagentools/blob/main/metagentools/cnn_virus/data.py#L120){target=\"_blank\" style=\"float:right; font-size:smaller\"}\n",
       "\n",
       "### FastaFileReader.reset_iterator\n",
       "\n",
       ">      FastaFileReader.reset_iterator ()\n",
       "\n",
       "Reset the iterator to first file line"
      ]
     },
     "execution_count": null,
     "metadata": {},
     "output_type": "execute_result"
    }
   ],
   "source": [
    "show_doc(FastaFileReader.reset_iterator)"
   ]
  },
  {
   "cell_type": "markdown",
   "metadata": {},
   "source": [
    "Once the iterator is consumed, it no longer can be used:"
   ]
  },
  {
   "cell_type": "code",
   "execution_count": null,
   "metadata": {},
   "outputs": [
    {
     "name": "stdout",
     "output_type": "stream",
     "text": [
      "I/O operation on closed file.\n"
     ]
    }
   ],
   "source": [
    "try:\n",
    "    for d in fasta.it:\n",
    "        print(d['definition line'])\n",
    "except ValueError as e:\n",
    "    print(e)"
   ]
  },
  {
   "cell_type": "code",
   "execution_count": null,
   "metadata": {},
   "outputs": [],
   "source": [
    "#| hide\n",
    "def test_fn():\n",
    "    for d in fasta.it:\n",
    "        print(d['definition line'])\n",
    "test_fail(test_fn, msg='should raise a ValueError', contains='I/O operation on closed file.')"
   ]
  },
  {
   "cell_type": "markdown",
   "metadata": {},
   "source": [
    "`reset_iterator` resets the iterator so that it can be consumed again"
   ]
  },
  {
   "cell_type": "code",
   "execution_count": null,
   "metadata": {},
   "outputs": [
    {
     "name": "stdout",
     "output_type": "stream",
     "text": [
      ">2591237:ncbi:1 [MK211378]\t2591237\tncbi\t1 [MK211378] 2591237\tCoronavirus BtRs-BetaCoV/YN2018D\t\tscientific name\n",
      "\n"
     ]
    }
   ],
   "source": [
    "fasta.reset_iterator()\n",
    "for d in fasta.it:\n",
    "    print(d['definition line'])"
   ]
  },
  {
   "cell_type": "code",
   "execution_count": null,
   "metadata": {},
   "outputs": [
    {
     "data": {
      "text/markdown": [
       "---\n",
       "\n",
       "[source](https://github.com/vtecftwy/metagentools/blob/main/metagentools/cnn_virus/data.py#L124){target=\"_blank\" style=\"float:right; font-size:smaller\"}\n",
       "\n",
       "### FastaFileReader.parse_fasta\n",
       "\n",
       ">      FastaFileReader.parse_fasta (add_seq:bool=False)\n",
       "\n",
       "Read fasta file and return a dictionary with definition line metadata and optionally sequences\n",
       "\n",
       "|    | **Type** | **Default** | **Details** |\n",
       "| -- | -------- | ----------- | ----------- |\n",
       "| add_seq | bool | False | Add the full sequence to the parsed dictionary when True |\n",
       "| **Returns** | **dict[str]** |  | **Key/Values for keys: `seqid`, `seq_nbr`, `accession`, `species` and optionaly `sequence`** |"
      ],
      "text/plain": [
       "---\n",
       "\n",
       "[source](https://github.com/vtecftwy/metagentools/blob/main/metagentools/cnn_virus/data.py#L124){target=\"_blank\" style=\"float:right; font-size:smaller\"}\n",
       "\n",
       "### FastaFileReader.parse_fasta\n",
       "\n",
       ">      FastaFileReader.parse_fasta (add_seq:bool=False)\n",
       "\n",
       "Read fasta file and return a dictionary with definition line metadata and optionally sequences\n",
       "\n",
       "|    | **Type** | **Default** | **Details** |\n",
       "| -- | -------- | ----------- | ----------- |\n",
       "| add_seq | bool | False | Add the full sequence to the parsed dictionary when True |\n",
       "| **Returns** | **dict[str]** |  | **Key/Values for keys: `seqid`, `seq_nbr`, `accession`, `species` and optionaly `sequence`** |"
      ]
     },
     "execution_count": null,
     "metadata": {},
     "output_type": "execute_result"
    }
   ],
   "source": [
    "show_doc(FastaFileReader.parse_fasta)"
   ]
  },
  {
   "cell_type": "code",
   "execution_count": null,
   "metadata": {},
   "outputs": [
    {
     "data": {
      "text/plain": [
       "{'2591237': {'seqid': '2591237',\n",
       "  'accession': 'MK211378',\n",
       "  'seq_nbr': '1',\n",
       "  'species': 'Coronavirus BtRs-BetaCoV/YN2018D'}}"
      ]
     },
     "execution_count": null,
     "metadata": {},
     "output_type": "execute_result"
    }
   ],
   "source": [
    "parsed_fasta = fasta.parse_fasta()\n",
    "parsed_fasta"
   ]
  },
  {
   "cell_type": "code",
   "execution_count": null,
   "metadata": {},
   "outputs": [
    {
     "name": "stdout",
     "output_type": "stream",
     "text": [
      "2591237\n",
      "dict_keys(['seqid', 'accession', 'seq_nbr', 'species', 'sequence'])\n"
     ]
    }
   ],
   "source": [
    "parsed_fasta_with_sequences = fasta.parse_fasta(add_seq=True)\n",
    "for k, v in parsed_fasta_with_sequences.items():\n",
    "    print(k)\n",
    "    print(v.keys())"
   ]
  },
  {
   "cell_type": "code",
   "execution_count": null,
   "metadata": {},
   "outputs": [],
   "source": []
  },
  {
   "cell_type": "markdown",
   "metadata": {},
   "source": [
    "## FASTQ file"
   ]
  },
  {
   "cell_type": "code",
   "execution_count": null,
   "metadata": {},
   "outputs": [
    {
     "name": "stdout",
     "output_type": "stream",
     "text": [
      "4-line chunk 1\n",
      "@2591237:ncbi:1-20100\n",
      "GTGGGTTGTTGACTTTCACAAGCAAGATTGTCCATTCCTTGTGTGTCTTCTACTGCCAGAACTTCAAATGAATTTGAAGTATCTACTGGTTTTGTACTCCAAAGACAACGTAAACACCAAGTATTTGGTTTAAACGTTGTCTTGGTTGTA\n",
      "+\n",
      "CCC1=GGGGGGGGJJJGCGJJJGCJCJJJGGGG=GGJJJJCGGGJJCJ1GJJGJC1J8GGCJGGJJGGJGGJGGGGGGGGG8G=GGCGGGCGCGGCGCGGJCGGC=CGGGGGGCGGCGGGCGGGGCGGGGCG81CC=G=GGGCCGGGCGC\n",
      "\n",
      "4-line chunk 2\n",
      "@2591237:ncbi:1-20099\n",
      "TCTTAAAATAGTTGAACTGTGTTTTTACTGATTCTCCAATTAATGTGACTCCATTGACACTAGCTTGTGCTGGTCCTTTTGAAGGTGTTAAACCTTTAACTGAACCTTCTGTTATTAAAACACCATTACGGGCATTTCTATAAAGGTCTA\n",
      "+\n",
      "CCCGGCGCGGGGGJJCJJGGCCJJGJJJGCJJGJJG1GGGJJCJJ(JGJGGJGJCGJGGCJJG=JGGJGGCGCCGGCG8GGGGCGGGCCCG(8C=GGCGGJGCC8G=CG=8CGGG=CCGGGGGGCGCGG=CGGG8GG=CGCCCGGGGGGC\n",
      "\n",
      "4-line chunk 3\n",
      "@2591237:ncbi:1-20098\n",
      "AAAGAAATTGACCGCCTCAATGAGGTTGCCAAAAATCTAAATGAATCGCTCATTGACCTCCAAGAACTTGGTAAATATGAGCAATACATCAAATGGCCCTGGTACGTTTGGCTCGGCTTCATTGCTGGACTGATTGCTATCGTTATGGCC\n",
      "+\n",
      "CCC1GG=CGGGGGCCGJGJJJJJJJJJJJ=J1JGCGJCGGJJCGJGGGGCJGJGCGGJJJJGJGGJGGJJGGGGJGJGJGGGGCCGGGGGCGG=GGGGGGJCGCCG1CGGGGGCGGCGCGGG=GGGGGGGC=CGGGCGGCGGG1GGG=GG\n",
      "\n"
     ]
    }
   ],
   "source": [
    "#| hide\n",
    "p2fastq = Path('data_dev/single_1seq_150bp/single_1seq_150bp.fq').resolve()\n",
    "it = TextFileBaseIterator(p2fastq, nlines=4)\n",
    "it.print_first_chuncks(nchunks=3)"
   ]
  },
  {
   "cell_type": "code",
   "execution_count": null,
   "metadata": {},
   "outputs": [],
   "source": [
    "#| export\n",
    "class FastqFileIterator(TextFileBaseIterator):\n",
    "    \"\"\"Iterator going through a fastq file's sequences and return each section + prob error as a dict\"\"\"\n",
    "    def __init__(\n",
    "        self,\n",
    "        path:str|Path,   # path to the fastq file\n",
    "    )-> dict:           # key/value with keys: definition line; sequence; q score; prob error\n",
    "        self.nlines = 4\n",
    "        super().__init__(path, nlines=self.nlines)\n",
    "    \n",
    "    def __next__(self):\n",
    "        \"\"\"Return definition line, sequence and quality scores\"\"\"\n",
    "        lines = []\n",
    "        for i in range(self.nlines):\n",
    "            lines.append(self._safe_readline().replace('\\n', ''))\n",
    "        \n",
    "        output = {\n",
    "            'definition line':lines[0], \n",
    "            'sequence':f\"{lines[1]}\", \n",
    "            'q scores': f\"{lines[3]}\",\n",
    "        }\n",
    "        \n",
    "        output['prob error'] = np.array([q_score2prob_error(q) for q in output['q scores']])\n",
    "        \n",
    "        return output\n",
    "    \n",
    "#     def print_first_chuncks(\n",
    "#         self, \n",
    "#         nchunks:int=3,  # number of chunks to print out\n",
    "#     ):\n",
    "#         \"\"\"Print the first `nchunks` chuncks of text from the file\"\"\"\n",
    "#         for i, seq_dict in enumerate(self.__iter__()):\n",
    "#             print(f\"\\nSequence {i+1}:\")\n",
    "#             print(seq_dict['definition line'])\n",
    "#             print(f\"{seq_dict['sequence'][:80]} ...\")\n",
    "#             if i >= nchunks: break"
   ]
  },
  {
   "cell_type": "code",
   "execution_count": null,
   "metadata": {},
   "outputs": [
    {
     "data": {
      "text/markdown": [
       "---\n",
       "\n",
       "[source](https://github.com/vtecftwy/metagentools/blob/main/metagentools/cnn_virus/data.py#L140){target=\"_blank\" style=\"float:right; font-size:smaller\"}\n",
       "\n",
       "### FastqFileIterator\n",
       "\n",
       ">      FastqFileIterator (path:str|pathlib.Path)\n",
       "\n",
       "Iterator going through a fastq file's sequences and return each section + prob error as a dict\n",
       "\n",
       "|    | **Type** | **Details** |\n",
       "| -- | -------- | ----------- |\n",
       "| path | str \\| Path | path to the fastq file |\n",
       "| **Returns** | **dict** | **key/value with keys: definition line; sequence; q score; prob error** |"
      ],
      "text/plain": [
       "---\n",
       "\n",
       "[source](https://github.com/vtecftwy/metagentools/blob/main/metagentools/cnn_virus/data.py#L140){target=\"_blank\" style=\"float:right; font-size:smaller\"}\n",
       "\n",
       "### FastqFileIterator\n",
       "\n",
       ">      FastqFileIterator (path:str|pathlib.Path)\n",
       "\n",
       "Iterator going through a fastq file's sequences and return each section + prob error as a dict\n",
       "\n",
       "|    | **Type** | **Details** |\n",
       "| -- | -------- | ----------- |\n",
       "| path | str \\| Path | path to the fastq file |\n",
       "| **Returns** | **dict** | **key/value with keys: definition line; sequence; q score; prob error** |"
      ]
     },
     "execution_count": null,
     "metadata": {},
     "output_type": "execute_result"
    }
   ],
   "source": [
    "show_doc(FastqFileIterator)"
   ]
  },
  {
   "cell_type": "code",
   "execution_count": null,
   "metadata": {},
   "outputs": [
    {
     "name": "stdout",
     "output_type": "stream",
     "text": [
      "<class 'dict'>\n",
      "dict_keys(['definition line', 'sequence', 'q scores', 'prob error'])\n",
      "Definition line:  @2591237:ncbi:1-20100\n",
      "Read sequence:    GTGGGTTGTTGACTTTCACAAGCAAGATTGTCCATTCCTTGTGTGTCTTCTACTGCCAGAACTTCAAATGAATTTGAAGTATCTACTGGTTTTGTACTCCAAAGACAACGTAAACACCAAGTATTTGGTTTAAACGTTGTCTTGGTTGTA\n",
      "Q scores (ASCII): CCC1=GGGGGGGGJJJGCGJJJGCJCJJJGGGG=GGJJJJCGGGJJCJ1GJJGJC1J8GGCJGGJJGGJGGJGGGGGGGGG8G=GGCGGGCGCGGCGCGGJCGGC=CGGGGGGCGGCGGGCGGGGCGGGGCG81CC=G=GGGCCGGGCGC\n",
      "Prob error:       0.0004,0.0004,0.0004,0.0251,0.0016,0.0002,0.0002,0.0002,0.0002,0.0002,0.0002,0.0002,0.0002,0.0001,0.0001,0.0001,0.0002,0.0004,0.0002,0.0001,0.0001,0.0001,0.0002,0.0004,0.0001,0.0004,0.0001,0.0001,0.0001,0.0002,0.0002,0.0002,0.0002,0.0016,0.0002,0.0002,0.0001,0.0001,0.0001,0.0001,0.0004,0.0002,0.0002,0.0002,0.0001,0.0001,0.0004,0.0001,0.0251,0.0002,0.0001,0.0001,0.0002,0.0001,0.0004,0.0251,0.0001,0.0050,0.0002,0.0002,0.0004,0.0001,0.0002,0.0002,0.0001,0.0001,0.0002,0.0002,0.0001,0.0002,0.0002,0.0001,0.0002,0.0002,0.0002,0.0002,0.0002,0.0002,0.0002,0.0002,0.0002,0.0050,0.0002,0.0016,0.0002,0.0002,0.0004,0.0002,0.0002,0.0002,0.0004,0.0002,0.0004,0.0002,0.0002,0.0004,0.0002,0.0004,0.0002,0.0002,0.0001,0.0004,0.0002,0.0002,0.0004,0.0016,0.0004,0.0002,0.0002,0.0002,0.0002,0.0002,0.0002,0.0004,0.0002,0.0002,0.0004,0.0002,0.0002,0.0002,0.0004,0.0002,0.0002,0.0002,0.0002,0.0004,0.0002,0.0002,0.0002,0.0002,0.0004,0.0002,0.0050,0.0251,0.0004,0.0004,0.0016,0.0002,0.0016,0.0002,0.0002,0.0002,0.0004,0.0004,0.0002,0.0002,0.0002,0.0004,0.0002,0.0004\n"
     ]
    }
   ],
   "source": [
    "it = FastqFileIterator(p2fastq)\n",
    "iteration_output = next(it)\n",
    "\n",
    "print(type(iteration_output))\n",
    "print(iteration_output.keys())\n",
    "print(f\"Definition line:  {iteration_output['definition line']}\")\n",
    "print(f\"Read sequence:    {iteration_output['sequence']}\")\n",
    "print(f\"Q scores (ASCII): {iteration_output['q scores']}\")\n",
    "print(f\"Prob error:       {','.join([f'{p:.4f}' for p in iteration_output['prob error']])}\")"
   ]
  },
  {
   "cell_type": "markdown",
   "metadata": {},
   "source": [
    "Five largest probabilities of error:"
   ]
  },
  {
   "cell_type": "code",
   "execution_count": null,
   "metadata": {},
   "outputs": [
    {
     "data": {
      "text/plain": [
       "array([0.00501187, 0.02511886, 0.02511886, 0.02511886, 0.02511886])"
      ]
     },
     "execution_count": null,
     "metadata": {},
     "output_type": "execute_result"
    }
   ],
   "source": [
    "np.sort(iteration_output['prob error'])[-5:]"
   ]
  },
  {
   "cell_type": "code",
   "execution_count": null,
   "metadata": {},
   "outputs": [
    {
     "data": {
      "text/plain": [
       "array([ 81,  48,   3,  55, 133])"
      ]
     },
     "execution_count": null,
     "metadata": {},
     "output_type": "execute_result"
    }
   ],
   "source": [
    "np.argsort(iteration_output['prob error'])[-5:]"
   ]
  },
  {
   "cell_type": "code",
   "execution_count": null,
   "metadata": {},
   "outputs": [],
   "source": []
  },
  {
   "cell_type": "code",
   "execution_count": null,
   "metadata": {},
   "outputs": [],
   "source": [
    "#| export\n",
    "def parse_metadata_art_reads(\n",
    "    txt:str,                   # definition line in ART read definition line\n",
    "    pattern:str|None=None,     # regex pattern to apply to parse the definition line\n",
    "    keys:list[str]|None=None,  # list of keys: keys are both regex match group names and corresponding output dict keys \n",
    ")->dict[str]:                  # parsed metadata in key/value format\n",
    "    \"\"\"Parse metadata from one read definition line and return a metadata dictionary\n",
    "\n",
    "    By default, pattern and keys are set to match the output format of ART Illumina simulated reads\"\"\"\n",
    "    if pattern is None:\n",
    "        pattern = r\"^@(?P<readid>(?P<seqid>\\d*):(?P<source>\\w*):(?P<seq_nbr>\\d*)-(?P<read_nbr>\\d*))$\"\n",
    "    if keys is None: keys = 'readid seqid source seq_nbr read_nbr'.split(' ')\n",
    "    return base_metadata_parser(txt, pattern, keys)"
   ]
  },
  {
   "cell_type": "code",
   "execution_count": null,
   "metadata": {},
   "outputs": [
    {
     "data": {
      "text/markdown": [
       "---\n",
       "\n",
       "### parse_metadata_art_reads\n",
       "\n",
       ">      parse_metadata_art_reads (txt:str, pattern:str|None=None,\n",
       ">                                keys:list[str]|None=None)\n",
       "\n",
       "Parse metadata from one read definition line and return a metadata dictionary\n",
       "\n",
       "By default, pattern and keys are set to match the output format of ART Illumina simulated reads\n",
       "\n",
       "|    | **Type** | **Default** | **Details** |\n",
       "| -- | -------- | ----------- | ----------- |\n",
       "| txt | str |  | definition line in ART read definition line |\n",
       "| pattern | str \\| None | None | regex pattern to apply to parse the definition line |\n",
       "| keys | list[str] \\| None | None | list of keys: keys are both regex match group names and corresponding output dict keys |\n",
       "| **Returns** | **dict[str]** |  | **parsed metadata in key/value format** |"
      ],
      "text/plain": [
       "---\n",
       "\n",
       "### parse_metadata_art_reads\n",
       "\n",
       ">      parse_metadata_art_reads (txt:str, pattern:str|None=None,\n",
       ">                                keys:list[str]|None=None)\n",
       "\n",
       "Parse metadata from one read definition line and return a metadata dictionary\n",
       "\n",
       "By default, pattern and keys are set to match the output format of ART Illumina simulated reads\n",
       "\n",
       "|    | **Type** | **Default** | **Details** |\n",
       "| -- | -------- | ----------- | ----------- |\n",
       "| txt | str |  | definition line in ART read definition line |\n",
       "| pattern | str \\| None | None | regex pattern to apply to parse the definition line |\n",
       "| keys | list[str] \\| None | None | list of keys: keys are both regex match group names and corresponding output dict keys |\n",
       "| **Returns** | **dict[str]** |  | **parsed metadata in key/value format** |"
      ]
     },
     "execution_count": null,
     "metadata": {},
     "output_type": "execute_result"
    }
   ],
   "source": [
    "show_doc(parse_metadata_art_reads)"
   ]
  },
  {
   "cell_type": "code",
   "execution_count": null,
   "metadata": {},
   "outputs": [
    {
     "data": {
      "text/plain": [
       "{'readid': '2591237:ncbi:1-20100',\n",
       " 'seqid': '2591237',\n",
       " 'source': 'ncbi',\n",
       " 'seq_nbr': '1',\n",
       " 'read_nbr': '20100'}"
      ]
     },
     "execution_count": null,
     "metadata": {},
     "output_type": "execute_result"
    }
   ],
   "source": [
    "dfn_line = iteration_output['definition line']\n",
    "meta = parse_metadata_art_reads(dfn_line)\n",
    "meta"
   ]
  },
  {
   "cell_type": "code",
   "execution_count": null,
   "metadata": {},
   "outputs": [],
   "source": [
    "#| export\n",
    "class FastqFileReader:\n",
    "    \"\"\"Wrap a FASTQ file and retrieve its content in raw format and parsed format\"\"\"\n",
    "    def __init__(\n",
    "        self,\n",
    "        path: str|Path,  # path to the Fastq file\n",
    "    ):\n",
    "        validate_path(path, raise_error=True)\n",
    "        self.path = path\n",
    "        self.it = None\n",
    "        self.reset_iterator()\n",
    "        \n",
    "    def reset_iterator(self):\n",
    "        \"\"\"Reset the iterator to first file line\"\"\"\n",
    "        self.it = FastqFileIterator(self.path)\n",
    "        \n",
    "    def parse_fastq(\n",
    "        self, \n",
    "        add_seq:bool=False,        # Add the read sequence to the parsed dictionary when True\n",
    "        add_q_scores:bool=False,    # Add the read ASCII Q Scores to the parsed dictionary when True\n",
    "        add_prob_error:bool=False  # Add the read probability of error to the parsed dictionary when True\n",
    "    )-> dict[str]: # Key/Values. Keys: `seqid`,`seq_nbr`,`accession`,`species`; optionaly 'sequence','q scores','prob error'\n",
    "        \"\"\"Read fasta file and return a dictionary with definition line metadata and optionally sequences, Q scores and prop error\"\"\"\n",
    "        self.reset_iterator()\n",
    "        parsed = {}\n",
    "        for d in self.it:\n",
    "            dfn_line = d['definition line']\n",
    "#             print(dfn_line)\n",
    "            seq, q_scores, prob_e = d['sequence'], d['q scores'], d['prob error']\n",
    "            metadata = parse_metadata_art_reads(dfn_line)\n",
    "            if add_seq: metadata['sequence'] = seq         \n",
    "            if add_q_scores: metadata['q scores'] = q_scores\n",
    "            if add_prob_error: metadata['prob error'] = prob_e\n",
    "            parsed[metadata['readid']] = metadata \n",
    "        return parsed"
   ]
  },
  {
   "cell_type": "code",
   "execution_count": null,
   "metadata": {},
   "outputs": [
    {
     "data": {
      "text/markdown": [
       "---\n",
       "\n",
       "[source](https://github.com/vtecftwy/metagentools/blob/main/metagentools/cnn_virus/data.py#L191){target=\"_blank\" style=\"float:right; font-size:smaller\"}\n",
       "\n",
       "### FastqFileReader\n",
       "\n",
       ">      FastqFileReader (path:str|pathlib.Path)\n",
       "\n",
       "Wrap a FASTQ file and retrieve its content in raw format and parsed format\n",
       "\n",
       "|    | **Type** | **Details** |\n",
       "| -- | -------- | ----------- |\n",
       "| path | str \\| Path | path to the Fastq file |"
      ],
      "text/plain": [
       "---\n",
       "\n",
       "[source](https://github.com/vtecftwy/metagentools/blob/main/metagentools/cnn_virus/data.py#L191){target=\"_blank\" style=\"float:right; font-size:smaller\"}\n",
       "\n",
       "### FastqFileReader\n",
       "\n",
       ">      FastqFileReader (path:str|pathlib.Path)\n",
       "\n",
       "Wrap a FASTQ file and retrieve its content in raw format and parsed format\n",
       "\n",
       "|    | **Type** | **Details** |\n",
       "| -- | -------- | ----------- |\n",
       "| path | str \\| Path | path to the Fastq file |"
      ]
     },
     "execution_count": null,
     "metadata": {},
     "output_type": "execute_result"
    }
   ],
   "source": [
    "show_doc(FastqFileReader)"
   ]
  },
  {
   "cell_type": "code",
   "execution_count": null,
   "metadata": {},
   "outputs": [
    {
     "data": {
      "text/plain": [
       "dict_keys(['definition line', 'sequence', 'q scores', 'prob error'])"
      ]
     },
     "execution_count": null,
     "metadata": {},
     "output_type": "execute_result"
    }
   ],
   "source": [
    "fastq = FastqFileReader(p2fastq)\n",
    "next(fastq.it).keys()"
   ]
  },
  {
   "cell_type": "code",
   "execution_count": null,
   "metadata": {},
   "outputs": [
    {
     "data": {
      "text/markdown": [
       "---\n",
       "\n",
       "[source](https://github.com/vtecftwy/metagentools/blob/main/metagentools/cnn_virus/data.py#L206){target=\"_blank\" style=\"float:right; font-size:smaller\"}\n",
       "\n",
       "### FastqFileReader.parse_fastq\n",
       "\n",
       ">      FastqFileReader.parse_fastq (add_seq:bool=False, add_q_scores:bool=False,\n",
       ">                                   add_prob_error:bool=False)\n",
       "\n",
       "Read fasta file and return a dictionary with definition line metadata and optionally sequences, Q scores and prop error"
      ],
      "text/plain": [
       "---\n",
       "\n",
       "[source](https://github.com/vtecftwy/metagentools/blob/main/metagentools/cnn_virus/data.py#L206){target=\"_blank\" style=\"float:right; font-size:smaller\"}\n",
       "\n",
       "### FastqFileReader.parse_fastq\n",
       "\n",
       ">      FastqFileReader.parse_fastq (add_seq:bool=False, add_q_scores:bool=False,\n",
       ">                                   add_prob_error:bool=False)\n",
       "\n",
       "Read fasta file and return a dictionary with definition line metadata and optionally sequences, Q scores and prop error"
      ]
     },
     "execution_count": null,
     "metadata": {},
     "output_type": "execute_result"
    }
   ],
   "source": [
    "show_doc(FastqFileReader.parse_fastq)"
   ]
  },
  {
   "cell_type": "code",
   "execution_count": null,
   "metadata": {},
   "outputs": [
    {
     "name": "stdout",
     "output_type": "stream",
     "text": [
      "2591237:ncbi:1-20100\n",
      "{'read_nbr': '20100',\n",
      " 'readid': '2591237:ncbi:1-20100',\n",
      " 'seq_nbr': '1',\n",
      " 'seqid': '2591237',\n",
      " 'source': 'ncbi'}\n",
      "2591237:ncbi:1-20099\n",
      "{'read_nbr': '20099',\n",
      " 'readid': '2591237:ncbi:1-20099',\n",
      " 'seq_nbr': '1',\n",
      " 'seqid': '2591237',\n",
      " 'source': 'ncbi'}\n",
      "2591237:ncbi:1-20098\n",
      "{'read_nbr': '20098',\n",
      " 'readid': '2591237:ncbi:1-20098',\n",
      " 'seq_nbr': '1',\n",
      " 'seqid': '2591237',\n",
      " 'source': 'ncbi'}\n",
      "2591237:ncbi:1-20097\n",
      "{'read_nbr': '20097',\n",
      " 'readid': '2591237:ncbi:1-20097',\n",
      " 'seq_nbr': '1',\n",
      " 'seqid': '2591237',\n",
      " 'source': 'ncbi'}\n"
     ]
    }
   ],
   "source": [
    "parsed = fastq.parse_fastq()\n",
    "for i, (k, v) in enumerate(parsed.items()):\n",
    "    print(k)\n",
    "    pprint(v)\n",
    "    if i >=3: break"
   ]
  },
  {
   "cell_type": "markdown",
   "metadata": {},
   "source": [
    "## ALN Alignment Files"
   ]
  },
  {
   "cell_type": "code",
   "execution_count": null,
   "metadata": {},
   "outputs": [],
   "source": [
    "#| export\n",
    "class AlnFileIterator(TextFileBaseIterator):\n",
    "    \"\"\"Iterator going through aln file\"\"\"\n",
    "    def __init__(\n",
    "        self,\n",
    "        path:str|Path,   # path to the aln file\n",
    "    )-> dict:            # key/value with keys: \n",
    "        self.nlines = 1\n",
    "        super().__init__(path, nlines=self.nlines)\n",
    "        self.header = self.read_header()\n",
    "        self.nlines = 3\n",
    "    \n",
    "    def __next__(self):\n",
    "        \"\"\"Return definition line, sequence and quality scores\"\"\"\n",
    "        lines = []\n",
    "        for i in range(self.nlines):\n",
    "            lines.append(self._safe_readline().replace('\\n', ''))\n",
    "\n",
    "        output = {\n",
    "            'definition line':lines[0], \n",
    "            'ref_seq_aligned':f\"{lines[1]}\", \n",
    "            'read_seq_aligned': f\"{lines[2]}\",\n",
    "        }   \n",
    "        return output\n",
    "    \n",
    "    def read_header(self):\n",
    "        \"\"\"Read ALN file Header and return a each section parsed in a dictionary\"\"\"\n",
    "        \n",
    "        header = {}\n",
    "        line = self._safe_readline().replace('\\n', '')\n",
    "        if not line.startswith('##ART_Illumina'): \n",
    "            raise ValueError(f\"Header of this file does not start with ##ART_Illumina\")\n",
    "        line = self._safe_readline().replace('\\n', '')\n",
    "        if not line.startswith('@CM'): \n",
    "            raise ValueError(f\"First header line should start with @CM\")\n",
    "        else: \n",
    "            header['command'] = line[3:].replace('\\t', '').strip()\n",
    "\n",
    "        refseqs = []\n",
    "        while True:\n",
    "            line = self._safe_readline().replace('\\n', '')\n",
    "            if line.startswith('##Header End'): break\n",
    "            else:\n",
    "                refseqs.append(line)\n",
    "        header['reference sequences'] = refseqs\n",
    "        \n",
    "        return header\n",
    "            \n",
    "    \n",
    "#     def print_first_chuncks(\n",
    "#         self, \n",
    "#         nchunks:int=3,  # number of chunks to print out\n",
    "#     ):\n",
    "#         \"\"\"Print the first `nchunks` chuncks of text from the file\"\"\"\n",
    "#         for i, seq_dict in enumerate(self.__iter__()):\n",
    "#             print(f\"\\nSequence {i+1}:\")\n",
    "#             print(seq_dict['definition line'])\n",
    "#             print(f\"{seq_dict['sequence'][:80]} ...\")\n",
    "#             if i >= nchunks: break"
   ]
  },
  {
   "cell_type": "code",
   "execution_count": null,
   "metadata": {},
   "outputs": [
    {
     "data": {
      "text/plain": [
       "True"
      ]
     },
     "execution_count": null,
     "metadata": {},
     "output_type": "execute_result"
    }
   ],
   "source": [
    "p2aln = Path('data_dev/single_1seq_150bp/single_1seq_150bp.aln').resolve()\n",
    "p2aln.is_file()"
   ]
  },
  {
   "cell_type": "code",
   "execution_count": null,
   "metadata": {},
   "outputs": [],
   "source": [
    "it = AlnFileIterator(p2aln)"
   ]
  },
  {
   "cell_type": "code",
   "execution_count": null,
   "metadata": {},
   "outputs": [
    {
     "name": "stdout",
     "output_type": "stream",
     "text": [
      "{'command': '/bin/art_illumina -i '\n",
      "            '/home/vtec/projects/bio/metagentools/nbs-dev/data_dev/cov_virus_sequence_one.fa '\n",
      "            '-ss HS25 -l 150 -f 100 -o '\n",
      "            '/home/vtec/projects/bio/metagentools/nbs-dev/data_dev/single_1seq_150bp/single_1seq_150bp '\n",
      "            '-rs 1674645489',\n",
      " 'reference sequences': ['@SQ\\t2591237:ncbi:1 [MK211378]\\t2591237\\tncbi\\t1 '\n",
      "                         '[MK211378] 2591237\\tCoronavirus '\n",
      "                         'BtRs-BetaCoV/YN2018D\\t\\tscientific name\\t30213']}\n"
     ]
    }
   ],
   "source": [
    "pprint(it.header)"
   ]
  },
  {
   "cell_type": "code",
   "execution_count": null,
   "metadata": {},
   "outputs": [],
   "source": [
    "d  = next(it)\n",
    "dfn_line, ref_seq_aligned, read_seq_aligned = d['definition line'], d['ref_seq_aligned'], d['read_seq_aligned']"
   ]
  },
  {
   "cell_type": "code",
   "execution_count": null,
   "metadata": {},
   "outputs": [
    {
     "data": {
      "text/plain": [
       "'>2591237:ncbi:1\\t2591237:ncbi:1-20100\\t23878\\t-'"
      ]
     },
     "execution_count": null,
     "metadata": {},
     "output_type": "execute_result"
    }
   ],
   "source": [
    "dfn_line"
   ]
  },
  {
   "cell_type": "code",
   "execution_count": null,
   "metadata": {},
   "outputs": [
    {
     "data": {
      "text/plain": [
       "'GTGGGTTGTTGACTTTCACAAGCAAGATTGTCCATTCCTTGTGTGTCTTCTACTGCCAGAACTTCAAATGAATTTGAAGTATCTACTGGTTTTGTACTCCAAAGACAACGTAAACACCAAGTATTTGGTTTAAACGTTGTCTTGGTTGTA'"
      ]
     },
     "execution_count": null,
     "metadata": {},
     "output_type": "execute_result"
    }
   ],
   "source": [
    "ref_seq_aligned"
   ]
  },
  {
   "cell_type": "code",
   "execution_count": null,
   "metadata": {},
   "outputs": [
    {
     "data": {
      "text/plain": [
       "'GTGGGTTGTTGACTTTCACAAGCAAGATTGTCCATTCCTTGTGTGTCTTCTACTGCCAGAACTTCAAATGAATTTGAAGTATCTACTGGTTTTGTACTCCAAAGACAACGTAAACACCAAGTATTTGGTTTAAACGTTGTCTTGGTTGTA'"
      ]
     },
     "execution_count": null,
     "metadata": {},
     "output_type": "execute_result"
    }
   ],
   "source": [
    "read_seq_aligned"
   ]
  },
  {
   "cell_type": "code",
   "execution_count": null,
   "metadata": {},
   "outputs": [],
   "source": [
    "#| export\n",
    "def parse_metadata_art_read_aln(\n",
    "    txt:str,                   # definition line in ALN read definition line\n",
    "    pattern:str|None=None,     # regex pattern to apply to parse the definition line\n",
    "    keys:list[str]|None=None,  # list of keys: keys are both regex match group names and corresponding output dict keys \n",
    ")->dict[str]:                  # parsed metadata in key/value format\n",
    "    \"\"\"Parse metadata from one read aligmnent definition line and return a metadata dictionary\n",
    "\n",
    "    By default, pattern and keys are set to match the output format of ART Illumina simulated reads\"\"\"\n",
    "    if pattern is None:\n",
    "        pattern = r\"^>(?P<refseqid>\\d*):(?P<source>\\w*):(?P<refseq_nbr>\\d*)(\\s|\\t)(?P<readid>(?P=refseqid):(?P=source):(?P=refseq_nbr)-(?P<read_nbr>\\d*))(\\s|\\t)(?P<aln_start_pos>\\d*)(\\s|\\t)(?P<ref_seq_strand>(-|\\+))$\"\n",
    "    if keys is None: keys = 'readid refseqid source refseq_nbr read_nbr aln_start_pos ref_seq_strand'.split(' ')\n",
    "    return base_metadata_parser(txt, pattern, keys)"
   ]
  },
  {
   "cell_type": "code",
   "execution_count": null,
   "metadata": {},
   "outputs": [
    {
     "data": {
      "text/markdown": [
       "---\n",
       "\n",
       "### parse_metadata_art_read_aln\n",
       "\n",
       ">      parse_metadata_art_read_aln (txt:str, pattern:str|None=None,\n",
       ">                                   keys:list[str]|None=None)\n",
       "\n",
       "Parse metadata from one read aligmnent definition line and return a metadata dictionary\n",
       "\n",
       "By default, pattern and keys are set to match the output format of ART Illumina simulated reads\n",
       "\n",
       "|    | **Type** | **Default** | **Details** |\n",
       "| -- | -------- | ----------- | ----------- |\n",
       "| txt | str |  | definition line in ALN read definition line |\n",
       "| pattern | str \\| None | None | regex pattern to apply to parse the definition line |\n",
       "| keys | list[str] \\| None | None | list of keys: keys are both regex match group names and corresponding output dict keys |\n",
       "| **Returns** | **dict[str]** |  | **parsed metadata in key/value format** |"
      ],
      "text/plain": [
       "---\n",
       "\n",
       "### parse_metadata_art_read_aln\n",
       "\n",
       ">      parse_metadata_art_read_aln (txt:str, pattern:str|None=None,\n",
       ">                                   keys:list[str]|None=None)\n",
       "\n",
       "Parse metadata from one read aligmnent definition line and return a metadata dictionary\n",
       "\n",
       "By default, pattern and keys are set to match the output format of ART Illumina simulated reads\n",
       "\n",
       "|    | **Type** | **Default** | **Details** |\n",
       "| -- | -------- | ----------- | ----------- |\n",
       "| txt | str |  | definition line in ALN read definition line |\n",
       "| pattern | str \\| None | None | regex pattern to apply to parse the definition line |\n",
       "| keys | list[str] \\| None | None | list of keys: keys are both regex match group names and corresponding output dict keys |\n",
       "| **Returns** | **dict[str]** |  | **parsed metadata in key/value format** |"
      ]
     },
     "execution_count": null,
     "metadata": {},
     "output_type": "execute_result"
    }
   ],
   "source": [
    "show_doc(parse_metadata_art_read_aln)"
   ]
  },
  {
   "cell_type": "code",
   "execution_count": null,
   "metadata": {},
   "outputs": [
    {
     "data": {
      "text/plain": [
       "{'readid': '2591237:ncbi:1-20100',\n",
       " 'refseqid': '2591237',\n",
       " 'source': 'ncbi',\n",
       " 'refseq_nbr': '1',\n",
       " 'read_nbr': '20100',\n",
       " 'aln_start_pos': '23878',\n",
       " 'ref_seq_strand': '-'}"
      ]
     },
     "execution_count": null,
     "metadata": {},
     "output_type": "execute_result"
    }
   ],
   "source": [
    "parse_metadata_art_read_aln(dfn_line)"
   ]
  },
  {
   "cell_type": "code",
   "execution_count": null,
   "metadata": {},
   "outputs": [],
   "source": [
    "#| export\n",
    "def parse_art_read_aln_refseqs(\n",
    "    txt:str,                   # reference sequence info in the ALN header\n",
    "    pattern:str|None=None,     # regex pattern to apply to parse the reference sequence info\n",
    "    keys:list[str]|None=None,  # list of keys: keys are both regex match group names and corresponding output dict keys \n",
    ")->dict[str]:                  # parsed metadata in key/value format\n",
    "    \"\"\"Parse metadata from one reference sequence from the ALN header and return a metadata dictionary\n",
    "\n",
    "    By default, pattern and keys are set to match the output format of ART Illumina simulated reads\"\"\"\n",
    "    if pattern is None:\n",
    "        pattern = r\"^@SQ[\\t\\s]*(?P<refseqid>\\d*):(?P<source>\\w*):(?P<refseq_nbr>\\d*)[\\t\\s]*\\[(?P<refseq_accession>[\\d\\w]*)\\][\\t\\s]*(?P=refseqid)[\\s\\t]*(?P=source)[\\s\\t]*(?P=refseq_nbr)[\\s\\t]*\\[(?P=refseq_accession)\\][\\s\\t]*(?P=refseqid)[\\s\\t]*(?P<species>[\\w\\d\\s\\-\\/]*)[\\s\\t](?P<refseq_length>\\d*)$\"\n",
    "    if keys is None: keys = 'refseqid source refseq_nbr refseq_accession species refseq_length'.split(' ')\n",
    "        \n",
    "    return base_metadata_parser(txt, pattern, keys)"
   ]
  },
  {
   "cell_type": "code",
   "execution_count": null,
   "metadata": {},
   "outputs": [
    {
     "data": {
      "text/markdown": [
       "---\n",
       "\n",
       "### parse_art_read_aln_refseqs\n",
       "\n",
       ">      parse_art_read_aln_refseqs (txt:str, pattern:str|None=None,\n",
       ">                                  keys:list[str]|None=None)\n",
       "\n",
       "Parse metadata from one reference sequence from the ALN header and return a metadata dictionary\n",
       "\n",
       "By default, pattern and keys are set to match the output format of ART Illumina simulated reads\n",
       "\n",
       "|    | **Type** | **Default** | **Details** |\n",
       "| -- | -------- | ----------- | ----------- |\n",
       "| txt | str |  | reference sequence info in the ALN header |\n",
       "| pattern | str \\| None | None | regex pattern to apply to parse the reference sequence info |\n",
       "| keys | list[str] \\| None | None | list of keys: keys are both regex match group names and corresponding output dict keys |\n",
       "| **Returns** | **dict[str]** |  | **parsed metadata in key/value format** |"
      ],
      "text/plain": [
       "---\n",
       "\n",
       "### parse_art_read_aln_refseqs\n",
       "\n",
       ">      parse_art_read_aln_refseqs (txt:str, pattern:str|None=None,\n",
       ">                                  keys:list[str]|None=None)\n",
       "\n",
       "Parse metadata from one reference sequence from the ALN header and return a metadata dictionary\n",
       "\n",
       "By default, pattern and keys are set to match the output format of ART Illumina simulated reads\n",
       "\n",
       "|    | **Type** | **Default** | **Details** |\n",
       "| -- | -------- | ----------- | ----------- |\n",
       "| txt | str |  | reference sequence info in the ALN header |\n",
       "| pattern | str \\| None | None | regex pattern to apply to parse the reference sequence info |\n",
       "| keys | list[str] \\| None | None | list of keys: keys are both regex match group names and corresponding output dict keys |\n",
       "| **Returns** | **dict[str]** |  | **parsed metadata in key/value format** |"
      ]
     },
     "execution_count": null,
     "metadata": {},
     "output_type": "execute_result"
    }
   ],
   "source": [
    "show_doc(parse_art_read_aln_refseqs)"
   ]
  },
  {
   "cell_type": "code",
   "execution_count": null,
   "metadata": {},
   "outputs": [
    {
     "name": "stdout",
     "output_type": "stream",
     "text": [
      "@SQ\t2591237:ncbi:1 [MK211378]\t2591237\tncbi\t1 [MK211378] 2591237\tCoronavirus BtRs-BetaCoV/YN2018D\t\tscientific name\t30213\n"
     ]
    },
    {
     "data": {
      "text/plain": [
       "{'refseqid': '2591237',\n",
       " 'source': 'ncbi',\n",
       " 'refseq_nbr': '1',\n",
       " 'refseq_accession': 'MK211378',\n",
       " 'species': 'Coronavirus BtRs-BetaCoV/YN2018D  scientific name',\n",
       " 'refseq_length': '30213'}"
      ]
     },
     "execution_count": null,
     "metadata": {},
     "output_type": "execute_result"
    }
   ],
   "source": [
    "print(it.header['reference sequences'][0])\n",
    "parse_art_read_aln_refseqs(it.header['reference sequences'][0])"
   ]
  },
  {
   "cell_type": "code",
   "execution_count": null,
   "metadata": {},
   "outputs": [],
   "source": [
    "#| export\n",
    "class AlnFileReader:\n",
    "    \"\"\"Wrap an ALN alignment file and retrieve its content in raw format and parsed format\"\"\"\n",
    "    def __init__(\n",
    "        self,\n",
    "        path: str|Path,  # path to the ALN file\n",
    "    ):\n",
    "        validate_path(path, raise_error=True)\n",
    "        self.path = path\n",
    "        self.it = None\n",
    "        self.reset_iterator()\n",
    "        \n",
    "    def reset_iterator(self):\n",
    "        \"\"\"Reset the iterator to first file line\"\"\"\n",
    "        self.it = AlnFileIterator(self.path)\n",
    "        \n",
    "    def parse_aln(\n",
    "        self, \n",
    "        add_ref_seq_aligned:bool=False,   # Add the reference sequence aligned to the parsed dictionary when True\n",
    "        add_read_seq_aligned:bool=False,  # Add the read sequence aligned to the parsed dictionary when True\n",
    "    )-> dict[str]: # Key/Values. Keys: `readid`,`seqid`,`seq_nbr`,`read_nbr`,`aln_start_pos`,`ref_seq_strand`; optionaly 'ref_seq_aligned','read_seq_aligned'\n",
    "        \"\"\"Read ALN file and return a dictionary with alignment info for each read and optionaly the aligned reference sequence and read\"\"\"\n",
    "        self.reset_iterator()\n",
    "        parsed = {}\n",
    "        for d in self.it:\n",
    "            dfn_line = d['definition line']\n",
    "            ref_seq_aligned, read_seq_aligned = d['ref_seq_aligned'], d['read_seq_aligned']\n",
    "            metadata = parse_metadata_art_read_aln(dfn_line)\n",
    "            if add_ref_seq_aligned: metadata['ref_seq_aligned'] = ref_seq_aligned         \n",
    "            if add_read_seq_aligned: metadata['read_seq_aligned'] = read_seq_aligned\n",
    "            parsed[metadata['readid']] = metadata \n",
    "        return parsed\n",
    "\n",
    "    @property\n",
    "    def header(self):\n",
    "        return self.it.header\n",
    "    \n",
    "    @property\n",
    "    def ref_sequences(self):\n",
    "        refseq_metadata = {}\n",
    "        for refseq in self.it.header['reference sequences']:\n",
    "            meta = parse_art_read_aln_refseqs(refseq)\n",
    "            refseq_metadata[meta['refseqid']] = meta\n",
    "        \n",
    "        return refseq_metadata"
   ]
  },
  {
   "cell_type": "code",
   "execution_count": null,
   "metadata": {},
   "outputs": [],
   "source": [
    "aln = AlnFileReader(p2aln)"
   ]
  },
  {
   "cell_type": "markdown",
   "metadata": {},
   "source": [
    "#### Access the header and metadata on the reference sequences"
   ]
  },
  {
   "cell_type": "code",
   "execution_count": null,
   "metadata": {},
   "outputs": [
    {
     "name": "stdout",
     "output_type": "stream",
     "text": [
      "{'command': '/bin/art_illumina -i '\n",
      "            '/home/vtec/projects/bio/metagentools/nbs-dev/data_dev/cov_virus_sequence_one.fa '\n",
      "            '-ss HS25 -l 150 -f 100 -o '\n",
      "            '/home/vtec/projects/bio/metagentools/nbs-dev/data_dev/single_1seq_150bp/single_1seq_150bp '\n",
      "            '-rs 1674645489',\n",
      " 'reference sequences': ['@SQ\\t2591237:ncbi:1 [MK211378]\\t2591237\\tncbi\\t1 '\n",
      "                         '[MK211378] 2591237\\tCoronavirus '\n",
      "                         'BtRs-BetaCoV/YN2018D\\t\\tscientific name\\t30213']}\n"
     ]
    }
   ],
   "source": [
    "pprint(aln.header)"
   ]
  },
  {
   "cell_type": "code",
   "execution_count": null,
   "metadata": {},
   "outputs": [
    {
     "name": "stdout",
     "output_type": "stream",
     "text": [
      "{'2591237': {'refseq_accession': 'MK211378',\n",
      "             'refseq_length': '30213',\n",
      "             'refseq_nbr': '1',\n",
      "             'refseqid': '2591237',\n",
      "             'source': 'ncbi',\n",
      "             'species': 'Coronavirus BtRs-BetaCoV/YN2018D  scientific name'}}\n"
     ]
    }
   ],
   "source": [
    "pprint(aln.ref_sequences)"
   ]
  },
  {
   "cell_type": "code",
   "execution_count": null,
   "metadata": {},
   "outputs": [
    {
     "data": {
      "text/markdown": [
       "---\n",
       "\n",
       "[source](https://github.com/vtecftwy/metagentools/blob/main/metagentools/cnn_virus/data.py#L331){target=\"_blank\" style=\"float:right; font-size:smaller\"}\n",
       "\n",
       "### AlnFileReader.parse_aln\n",
       "\n",
       ">      AlnFileReader.parse_aln (add_ref_seq_aligned:bool=False,\n",
       ">                               add_read_seq_aligned:bool=False)\n",
       "\n",
       "Read ALN file and return a dictionary with alignment info for each read and optionaly the aligned reference sequence and read\n",
       "\n",
       "|    | **Type** | **Default** | **Details** |\n",
       "| -- | -------- | ----------- | ----------- |\n",
       "| add_ref_seq_aligned | bool | False | Add the reference sequence aligned to the parsed dictionary when True |\n",
       "| add_read_seq_aligned | bool | False | Add the read sequence aligned to the parsed dictionary when True |\n",
       "| **Returns** | **dict[str]** |  | **Key/Values. Keys: `readid`,`seqid`,`seq_nbr`,`read_nbr`,`aln_start_pos`,`ref_seq_strand`; optionaly 'ref_seq_aligned','read_seq_aligned'** |"
      ],
      "text/plain": [
       "---\n",
       "\n",
       "[source](https://github.com/vtecftwy/metagentools/blob/main/metagentools/cnn_virus/data.py#L331){target=\"_blank\" style=\"float:right; font-size:smaller\"}\n",
       "\n",
       "### AlnFileReader.parse_aln\n",
       "\n",
       ">      AlnFileReader.parse_aln (add_ref_seq_aligned:bool=False,\n",
       ">                               add_read_seq_aligned:bool=False)\n",
       "\n",
       "Read ALN file and return a dictionary with alignment info for each read and optionaly the aligned reference sequence and read\n",
       "\n",
       "|    | **Type** | **Default** | **Details** |\n",
       "| -- | -------- | ----------- | ----------- |\n",
       "| add_ref_seq_aligned | bool | False | Add the reference sequence aligned to the parsed dictionary when True |\n",
       "| add_read_seq_aligned | bool | False | Add the read sequence aligned to the parsed dictionary when True |\n",
       "| **Returns** | **dict[str]** |  | **Key/Values. Keys: `readid`,`seqid`,`seq_nbr`,`read_nbr`,`aln_start_pos`,`ref_seq_strand`; optionaly 'ref_seq_aligned','read_seq_aligned'** |"
      ]
     },
     "execution_count": null,
     "metadata": {},
     "output_type": "execute_result"
    }
   ],
   "source": [
    "show_doc(AlnFileReader.parse_aln)"
   ]
  },
  {
   "cell_type": "code",
   "execution_count": null,
   "metadata": {},
   "outputs": [
    {
     "name": "stdout",
     "output_type": "stream",
     "text": [
      "2591237:ncbi:1-20100\n",
      "{'aln_start_pos': '23878',\n",
      " 'read_nbr': '20100',\n",
      " 'readid': '2591237:ncbi:1-20100',\n",
      " 'ref_seq_strand': '-',\n",
      " 'refseq_nbr': '1',\n",
      " 'refseqid': '2591237',\n",
      " 'source': 'ncbi'}\n",
      "2591237:ncbi:1-20099\n",
      "{'aln_start_pos': '10122',\n",
      " 'read_nbr': '20099',\n",
      " 'readid': '2591237:ncbi:1-20099',\n",
      " 'ref_seq_strand': '-',\n",
      " 'refseq_nbr': '1',\n",
      " 'refseqid': '2591237',\n",
      " 'source': 'ncbi'}\n",
      "2591237:ncbi:1-20098\n",
      "{'aln_start_pos': '24935',\n",
      " 'read_nbr': '20098',\n",
      " 'readid': '2591237:ncbi:1-20098',\n",
      " 'ref_seq_strand': '+',\n",
      " 'refseq_nbr': '1',\n",
      " 'refseqid': '2591237',\n",
      " 'source': 'ncbi'}\n"
     ]
    }
   ],
   "source": [
    "parsed = aln.parse_aln()\n",
    "\n",
    "for i, (k,v) in enumerate(parsed.items()):\n",
    "    print(k)\n",
    "    pprint(v)\n",
    "    if i+1 >= 3: break"
   ]
  },
  {
   "cell_type": "code",
   "execution_count": null,
   "metadata": {},
   "outputs": [
    {
     "name": "stdout",
     "output_type": "stream",
     "text": [
      "2591237:ncbi:1-20100\n",
      "dict_keys(['readid', 'refseqid', 'source', 'refseq_nbr', 'read_nbr', 'aln_start_pos', 'ref_seq_strand'])\n",
      "2591237:ncbi:1-20099\n",
      "dict_keys(['readid', 'refseqid', 'source', 'refseq_nbr', 'read_nbr', 'aln_start_pos', 'ref_seq_strand'])\n",
      "2591237:ncbi:1-20098\n",
      "dict_keys(['readid', 'refseqid', 'source', 'refseq_nbr', 'read_nbr', 'aln_start_pos', 'ref_seq_strand'])\n"
     ]
    }
   ],
   "source": [
    "parsed = aln.parse_aln()\n",
    "\n",
    "for i, (k,v) in enumerate(parsed.items()):\n",
    "    print(k)\n",
    "    print(v.keys())\n",
    "    if i+1 >= 3: break"
   ]
  },
  {
   "cell_type": "code",
   "execution_count": null,
   "metadata": {},
   "outputs": [
    {
     "name": "stdout",
     "output_type": "stream",
     "text": [
      "2591237:ncbi:1-20100\n",
      "dict_keys(['readid', 'refseqid', 'source', 'refseq_nbr', 'read_nbr', 'aln_start_pos', 'ref_seq_strand', 'ref_seq_aligned', 'read_seq_aligned'])\n",
      "2591237:ncbi:1-20099\n",
      "dict_keys(['readid', 'refseqid', 'source', 'refseq_nbr', 'read_nbr', 'aln_start_pos', 'ref_seq_strand', 'ref_seq_aligned', 'read_seq_aligned'])\n",
      "2591237:ncbi:1-20098\n",
      "dict_keys(['readid', 'refseqid', 'source', 'refseq_nbr', 'read_nbr', 'aln_start_pos', 'ref_seq_strand', 'ref_seq_aligned', 'read_seq_aligned'])\n"
     ]
    }
   ],
   "source": [
    "parsed = aln.parse_aln(add_ref_seq_aligned=True, add_read_seq_aligned=True)\n",
    "\n",
    "for i, (k,v) in enumerate(parsed.items()):\n",
    "    print(k)\n",
    "    print(v.keys())\n",
    "    if i+1 >= 3: break"
   ]
  },
  {
   "cell_type": "code",
   "execution_count": null,
   "metadata": {},
   "outputs": [],
   "source": []
  },
  {
   "cell_type": "markdown",
   "metadata": {},
   "source": [
    "# Preprocessors for CNN model data"
   ]
  },
  {
   "cell_type": "code",
   "execution_count": null,
   "metadata": {},
   "outputs": [],
   "source": [
    "#| export\n",
    "def strings_to_tensors(\n",
    "    b: tf.Tensor        # batch of strings \n",
    "    ):\n",
    "    \"\"\"Function converting a batch of bp strings into three tensors: (x_seqs, (y_labels, y_pos))\"\"\"\n",
    "    \n",
    "    # Split the string in three : returns a ragged tensor which needs to be converted into a normal tensor using .to_tensor()\n",
    "    t = tf.strings.split(b, '\\t').to_tensor(default_value = '', shape=[None, 3])\n",
    "\n",
    "    # Split each sequence string into a list of single base strings:\n",
    "    # 'TCAAAATAATCA' -> ['T','C','A','A','A','A','T','A','A','T','C','A']\n",
    "    seqs = tf.strings.bytes_split(t[:, 0]).to_tensor(shape=(None, 50))\n",
    "\n",
    "\n",
    "    # BHE sequences\n",
    "    # Each base letter (A, C, G, T, N) is replaced by a OHE vector\n",
    "    #     \"A\" converted into [1,0,0,0,0]\n",
    "    #     \"C\" converted into [0,1,0,0,0]\n",
    "    #     \"G\" converted into [0,0,1,0,0]\n",
    "    #     \"T\" converted into [0,0,0,1,0]\n",
    "    #     \"N\" converted into [0,0,0,0,1]\n",
    "    # \n",
    "    # Technical Notes:\n",
    "    # a. The batch of sequence `seqs` has a shape (batch_size, 50) after splitting each byte. \n",
    "    #    Must flatten it first, then apply the transform on each base, then reshape to original shape\n",
    "    # b. We need to map each letter to one vector/tensor. \n",
    "    #    1. Cast bytes seqs into integer sequence (uint8 to work byte by byte)\n",
    "    #    2. For each base letter (A, C, G, T, N) create one tensor (batch_size, 50) (seqs_A, _C, _G, _T, _N)\n",
    "    #    3. Value is 1 if it is the base in the sequence, otherwise 0\n",
    "    #    4. Concatenate these 5 tensors into a tensor of shape (batch_size, 50, 5)\n",
    " \n",
    "    seqs_uint8 = tf.io.decode_raw(seqs, out_type=tf.uint8)\n",
    "    # note: tf.io.decode_raw adds one dimension at the end in the process\n",
    "    #       [b'C', b'A', b'T'] will return [[67], [65], [84]] and not [67, 65, 84]\n",
    "    #       this is actually what we want to contatenate the values for each base letter\n",
    "\n",
    "    A, C, G, T, N = 65, 67, 71, 84, 78\n",
    "\n",
    "    seqs_A = tf.cast(seqs_uint8 == A, tf.float32)\n",
    "    seqs_C = tf.cast(seqs_uint8 == C, tf.float32)\n",
    "    seqs_G = tf.cast(seqs_uint8 == G, tf.float32)\n",
    "    seqs_T = tf.cast(seqs_uint8 == T, tf.float32)\n",
    "    seqs_N = tf.cast(seqs_uint8 == N , tf.float32)\n",
    "\n",
    "    x_seqs = tf.concat([seqs_A, seqs_C, seqs_G, seqs_T, seqs_N], axis=2)\n",
    "\n",
    "    # OHE labels\n",
    "    n_labels = 187\n",
    "    y_labels = tf.strings.to_number(t[:, 1], out_type=tf.int32)\n",
    "    y_labels = tf.gather(tf.eye(n_labels), y_labels)\n",
    "\n",
    "    # OHE positions\n",
    "    n_pos = 10\n",
    "    y_pos = tf.strings.to_number(t[:, 2], out_type=tf.int32)\n",
    "    y_pos= tf.gather(tf.eye(n_pos), y_pos)\n",
    "\n",
    "    return (x_seqs, (y_labels, y_pos))"
   ]
  },
  {
   "cell_type": "code",
   "execution_count": null,
   "metadata": {},
   "outputs": [],
   "source": []
  },
  {
   "cell_type": "code",
   "execution_count": null,
   "metadata": {},
   "outputs": [],
   "source": [
    "#| hide\n",
    "nbdev_export()"
   ]
  }
 ],
 "metadata": {
  "kernelspec": {
   "display_name": "Python 3 (ipykernel)",
   "language": "python",
   "name": "python3"
  },
  "widgets": {
   "application/vnd.jupyter.widget-state+json": {
    "26b205197a934fdeabb71e65ac11acba": {
     "model_module": "@jupyter-widgets/base",
     "model_module_version": "1.2.0",
     "model_name": "LayoutModel",
     "state": {
      "_model_module": "@jupyter-widgets/base",
      "_model_module_version": "1.2.0",
      "_model_name": "LayoutModel",
      "_view_count": null,
      "_view_module": "@jupyter-widgets/base",
      "_view_module_version": "1.2.0",
      "_view_name": "LayoutView",
      "align_content": null,
      "align_items": null,
      "align_self": null,
      "border": null,
      "bottom": null,
      "display": null,
      "flex": null,
      "flex_flow": null,
      "grid_area": null,
      "grid_auto_columns": null,
      "grid_auto_flow": null,
      "grid_auto_rows": null,
      "grid_column": null,
      "grid_gap": null,
      "grid_row": null,
      "grid_template_areas": null,
      "grid_template_columns": null,
      "grid_template_rows": null,
      "height": null,
      "justify_content": null,
      "justify_items": null,
      "left": null,
      "margin": null,
      "max_height": null,
      "max_width": null,
      "min_height": null,
      "min_width": null,
      "object_fit": null,
      "object_position": null,
      "order": null,
      "overflow": null,
      "overflow_x": null,
      "overflow_y": null,
      "padding": null,
      "right": null,
      "top": null,
      "visibility": null,
      "width": null
     }
    },
    "514ad0bfcabf4df580a9a872af814af9": {
     "model_module": "@jupyter-widgets/controls",
     "model_module_version": "1.5.0",
     "model_name": "ProgressStyleModel",
     "state": {
      "_model_module": "@jupyter-widgets/controls",
      "_model_module_version": "1.5.0",
      "_model_name": "ProgressStyleModel",
      "_view_count": null,
      "_view_module": "@jupyter-widgets/base",
      "_view_module_version": "1.2.0",
      "_view_name": "StyleView",
      "bar_color": null,
      "description_width": ""
     }
    },
    "55646397fc9349d3af9e98b1f2b26f5d": {
     "model_module": "@jupyter-widgets/base",
     "model_module_version": "1.2.0",
     "model_name": "LayoutModel",
     "state": {
      "_model_module": "@jupyter-widgets/base",
      "_model_module_version": "1.2.0",
      "_model_name": "LayoutModel",
      "_view_count": null,
      "_view_module": "@jupyter-widgets/base",
      "_view_module_version": "1.2.0",
      "_view_name": "LayoutView",
      "align_content": null,
      "align_items": null,
      "align_self": null,
      "border": null,
      "bottom": null,
      "display": null,
      "flex": null,
      "flex_flow": null,
      "grid_area": null,
      "grid_auto_columns": null,
      "grid_auto_flow": null,
      "grid_auto_rows": null,
      "grid_column": null,
      "grid_gap": null,
      "grid_row": null,
      "grid_template_areas": null,
      "grid_template_columns": null,
      "grid_template_rows": null,
      "height": null,
      "justify_content": null,
      "justify_items": null,
      "left": null,
      "margin": null,
      "max_height": null,
      "max_width": null,
      "min_height": null,
      "min_width": null,
      "object_fit": null,
      "object_position": null,
      "order": null,
      "overflow": null,
      "overflow_x": null,
      "overflow_y": null,
      "padding": null,
      "right": null,
      "top": null,
      "visibility": null,
      "width": null
     }
    },
    "70f6be4247664b708b662c34e7abe3ee": {
     "model_module": "@jupyter-widgets/base",
     "model_module_version": "1.2.0",
     "model_name": "LayoutModel",
     "state": {
      "_model_module": "@jupyter-widgets/base",
      "_model_module_version": "1.2.0",
      "_model_name": "LayoutModel",
      "_view_count": null,
      "_view_module": "@jupyter-widgets/base",
      "_view_module_version": "1.2.0",
      "_view_name": "LayoutView",
      "align_content": null,
      "align_items": null,
      "align_self": null,
      "border": null,
      "bottom": null,
      "display": null,
      "flex": null,
      "flex_flow": null,
      "grid_area": null,
      "grid_auto_columns": null,
      "grid_auto_flow": null,
      "grid_auto_rows": null,
      "grid_column": null,
      "grid_gap": null,
      "grid_row": null,
      "grid_template_areas": null,
      "grid_template_columns": null,
      "grid_template_rows": null,
      "height": null,
      "justify_content": null,
      "justify_items": null,
      "left": null,
      "margin": null,
      "max_height": null,
      "max_width": null,
      "min_height": null,
      "min_width": null,
      "object_fit": null,
      "object_position": null,
      "order": null,
      "overflow": null,
      "overflow_x": null,
      "overflow_y": null,
      "padding": null,
      "right": null,
      "top": null,
      "visibility": null,
      "width": null
     }
    },
    "7179c6cc207941648c348b1bf10cb87f": {
     "model_module": "@jupyter-widgets/controls",
     "model_module_version": "1.5.0",
     "model_name": "LabelModel",
     "state": {
      "_dom_classes": [],
      "_model_module": "@jupyter-widgets/controls",
      "_model_module_version": "1.5.0",
      "_model_name": "LabelModel",
      "_view_count": null,
      "_view_module": "@jupyter-widgets/controls",
      "_view_module_version": "1.5.0",
      "_view_name": "LabelView",
      "description": "",
      "description_tooltip": null,
      "layout": "IPY_MODEL_70f6be4247664b708b662c34e7abe3ee",
      "placeholder": "​",
      "style": "IPY_MODEL_bdde467d943148ce9bb6355fd7582a5c",
      "value": "0.078 MB of 0.078 MB uploaded (0.020 MB deduped)\r"
     }
    },
    "7849f255e99b4853bdba7f8badf1054a": {
     "model_module": "@jupyter-widgets/controls",
     "model_module_version": "1.5.0",
     "model_name": "VBoxModel",
     "state": {
      "_dom_classes": [],
      "_model_module": "@jupyter-widgets/controls",
      "_model_module_version": "1.5.0",
      "_model_name": "VBoxModel",
      "_view_count": null,
      "_view_module": "@jupyter-widgets/controls",
      "_view_module_version": "1.5.0",
      "_view_name": "VBoxView",
      "box_style": "",
      "children": [
       "IPY_MODEL_7179c6cc207941648c348b1bf10cb87f",
       "IPY_MODEL_e0819a1ddcc64c08a748a2fd88350f09"
      ],
      "layout": "IPY_MODEL_26b205197a934fdeabb71e65ac11acba"
     }
    },
    "bdde467d943148ce9bb6355fd7582a5c": {
     "model_module": "@jupyter-widgets/controls",
     "model_module_version": "1.5.0",
     "model_name": "DescriptionStyleModel",
     "state": {
      "_model_module": "@jupyter-widgets/controls",
      "_model_module_version": "1.5.0",
      "_model_name": "DescriptionStyleModel",
      "_view_count": null,
      "_view_module": "@jupyter-widgets/base",
      "_view_module_version": "1.2.0",
      "_view_name": "StyleView",
      "description_width": ""
     }
    },
    "e0819a1ddcc64c08a748a2fd88350f09": {
     "model_module": "@jupyter-widgets/controls",
     "model_module_version": "1.5.0",
     "model_name": "FloatProgressModel",
     "state": {
      "_dom_classes": [],
      "_model_module": "@jupyter-widgets/controls",
      "_model_module_version": "1.5.0",
      "_model_name": "FloatProgressModel",
      "_view_count": null,
      "_view_module": "@jupyter-widgets/controls",
      "_view_module_version": "1.5.0",
      "_view_name": "ProgressView",
      "bar_style": "",
      "description": "",
      "description_tooltip": null,
      "layout": "IPY_MODEL_55646397fc9349d3af9e98b1f2b26f5d",
      "max": 1,
      "min": 0,
      "orientation": "horizontal",
      "style": "IPY_MODEL_514ad0bfcabf4df580a9a872af814af9",
      "value": 1
     }
    }
   }
  }
 },
 "nbformat": 4,
 "nbformat_minor": 1
}
