{
 "cells": [
  {
   "cell_type": "markdown",
   "metadata": {},
   "source": [
    "# metagentools\n",
    "\n",
    "> Code used as part of a research project focusing on deep learning classificaion of a wide range of corona viruses."
   ]
  },
  {
   "cell_type": "markdown",
   "metadata": {},
   "source": [
    "This repo includes the code developed as part of a research project to aiming at using deep learning techniques to classify a wide range of corona virus based on NG reads. \n",
    "\n",
    "The code is structured into _general code_ and _submodules_:\n",
    "\n",
    "**_General code_** is used across the project and can also be reused for other projects:\n",
    "\n",
    "1. `art`: wrapper code to use ART-ILLUMINA read simulator package from a jupyter notebook\n",
    "1. `core`: base classes used accross the package\n",
    "1. `wandb`: utility classes to open, retrieve, use WandB runs and artifacts accross the project\n",
    "\n",
    "**_Submodules_** cover code written for a specific part of the project\n",
    "\n",
    "1. `cnn_virus`: all specific code related to the evaluation and improvement of CNN Virus model \n",
    "    - `architecture`: all code related to evaluated and trained architectures\n",
    "    - `data`: data processing, iterators and parsing functions to handle data\n",
    "    - `utils`: other utility functions\n",
    "\n",
    "This is a work in progress, and some functions or modules may be broken. We may or may not be able to provide support depending on the when the support is requested.\n",
    "\n",
    "**_Installation_**:\n",
    "\n",
    "- `pip install metagentools` for the stable version\n",
    "\n",
    "- `pip install git+https://github.com/vtecftwy/metagentools.git@main` for the latest committed version\n",
    "\n",
    "**_Requirements_**:\n",
    "\n",
    "- python 3.8 or higher is required for this package\n",
    "- package tested with python 3.10"
   ]
  }
 ],
 "metadata": {
  "kernelspec": {
   "display_name": "Python 3.10.6 ('metagentools')",
   "language": "python",
   "name": "python3"
  }
 },
 "nbformat": 4,
 "nbformat_minor": 4
}
