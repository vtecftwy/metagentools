{
 "cells": [
  {
   "cell_type": "markdown",
   "metadata": {},
   "source": [
    "# metagentools\n",
    "\n",
    "> Set of tools used for covid taxonomy project and metagenomics research project"
   ]
  },
  {
   "cell_type": "markdown",
   "metadata": {},
   "source": [
    "This repository includes the code developed as part of our metagenomics project. \n",
    "\n",
    "The code is structured into general code and submodules to cover the various aspects of the project:\n",
    "\n",
    "General utility code to be used across the project:\n",
    "- `core`: general code\n",
    "- `art`: use ART-ILLUMINA read simulator package from a jupyter notebook\n",
    "- `wandb`: use to open, retrieve, use WandB runs and artifacts accross the project\n",
    "\n",
    "Submodules:\n",
    "- `cnn_virus`\n",
    "    - `architecture`\n",
    "    - `data`\n",
    "    - `utils`\n",
    "\n",
    "This is work in progress and aspects are probably broken. We cannot provide support. Use at your own risk\n",
    "\n",
    "Requirements:\n",
    "- python 3.10 is required for this package"
   ]
  }
 ],
 "metadata": {
  "kernelspec": {
   "display_name": "Python 3.10.6 ('metagentools')",
   "language": "python",
   "name": "python3"
  }
 },
 "nbformat": 4,
 "nbformat_minor": 4
}
