{
 "cells": [
  {
   "cell_type": "code",
   "execution_count": 2,
   "metadata": {},
   "outputs": [],
   "source": [
    "#|default_exp art"
   ]
  },
  {
   "cell_type": "code",
   "execution_count": 3,
   "metadata": {},
   "outputs": [
    {
     "name": "stdout",
     "output_type": "stream",
     "text": [
      "Running locally\n"
     ]
    }
   ],
   "source": [
    "#|hide\n",
    "import nbdev\n",
    "\n",
    "from pathlib import Path\n",
    "from __future__ import annotations\n",
    "from fastcore.test import *\n",
    "from nbdev.showdoc import *\n",
    "from pdb import set_trace\n",
    "\n",
    "# Todo: move the google code in utils module\n",
    "try:\n",
    "    from google.colab import drive\n",
    "    ON_COLAB = True\n",
    "    print('Running on colab')\n",
    "    print('Installing wandb and project code')\n",
    "    !pip install -U git+https://github.com/vtecftwy/metagenomics.git@refactor_cnn_virus\n",
    "    !pip install -qqU wandb\n",
    "    \n",
    "    # Assumes shared gdrive dir accessible through shortcut `Metagenomics` under the root of gdrive.     \n",
    "    drive.mount('/content/gdrive')\n",
    "    p2drive = Path('/content/gdrive/MyDrive/Metagenonics')\n",
    "    p2data =  p2drive / 'CNN_Virus_data'\n",
    "    assert p2drive.is_dir()\n",
    "    assert p2data.is_dir()\n",
    "\n",
    "except ModuleNotFoundError:\n",
    "    ON_COLAB = False\n",
    "    print('Running locally')\n",
    "    try:\n",
    "        import metagentools\n",
    "    except ModuleNotFoundError:\n",
    "        raise ModuleNotFoundError('Cannot find package metagentools. Make sure you pip -e install it in your environment')\n",
    "    p2data = Path('../data/CNN_Virus_data').resolve()\n",
    "    assert p2data.is_dir()\n",
    "\n",
    "%load_ext autoreload\n",
    "%autoreload 2"
   ]
  },
  {
   "cell_type": "code",
   "execution_count": 4,
   "metadata": {},
   "outputs": [],
   "source": [
    "#|export\n",
    "# Imports all dependencies\n",
    "import os\n",
    "import subprocess\n",
    "import shlex\n",
    "import sys\n",
    "\n",
    "from pathlib import Path\n",
    "from typing import Tuple, List, Optional"
   ]
  },
  {
   "cell_type": "markdown",
   "metadata": {},
   "source": [
    "# art\n",
    "\n",
    "> Use **ART**, next gen read simmulation tool, from python notebook"
   ]
  },
  {
   "cell_type": "markdown",
   "metadata": {},
   "source": [
    "`ART` is an open source package simmulation next generation read of genomes, available on the website of the National Institute of Environmental Health Sciences [here](https://www.niehs.nih.gov/research/resources/software/biostatistics/art/index.cfm). It is a command line interface package. This module makes the package accessible from a jupyter notebook"
   ]
  },
  {
   "cell_type": "markdown",
   "metadata": {},
   "source": [
    "**Typical usage**\n",
    "\n",
    "- read simulation with paired reads:\n",
    "    - `art_illumina -ss HS25 -sam -i file.fa -p -l 150 -f 20 -m 200 -s 10 -o paired_seq_1`\n",
    "- read simulation  with single reads:\n",
    "    - `art_illumina -ss HS25 -sam -i file.fa -l 150 -f 10 -o single_seq_1`\n",
    "\n",
    "Where the parameters are:\n",
    "\n",
    "```ASCII\n",
    "  -f   --fcov   the fold of read coverage to be simulated or number of reads/read pairs generated for each amplicon\n",
    "  -i   --in     the filename of input DNA/RNA reference\n",
    "  -l   --len    the length of reads to be simulated\n",
    "  -m   --mflen  the mean size of DNA/RNA fragments for paired-end simulations\n",
    "  -o   --out    the prefix of output filename\n",
    "  -p   --paired indicate a paired-end read simulation or to generate reads from both ends of amplicons\n",
    "                NOTE: art will automatically switch to a mate-pair simulation if the given mean fragment size >= 2000\n",
    "  -s   --sdev   the standard deviation of DNA/RNA fragment size for paired-end simulations.\n",
    "  -sam --samout indicate to generate SAM alignment file\n",
    "  -ss  --seqSys The name of Illumina sequencing system of the built-in profile used for simulation\n",
    "                NOTE: sequencing system ID names are:\n",
    "                GA1 - GenomeAnalyzer I (36bp,44bp), GA2 - GenomeAnalyzer II (50bp, 75bp)\n",
    "                HS10 - HiSeq 1000 (100bp),          HS20 - HiSeq 2000 (100bp),      HS25 - HiSeq 2500 (125bp, 150bp)\n",
    "                HSXn - HiSeqX PCR free (150bp),     HSXt - HiSeqX TruSeq (150bp),   MinS - MiniSeq TruSeq (50bp)\n",
    "                MSv1 - MiSeq v1 (250bp),            MSv3 - MiSeq v3 (250bp),        NS50 - NextSeq500 v2 (75bp)\n",
    "```\n",
    "Notes:\n",
    "\n",
    "- For single-end simulation, ART requires input sequence file, output file prefix, read length, and read count/fold coverage.\n",
    "- For paired-end simulation (except for amplicon sequencing), ART also requires the parameter values of the mean and standard deviation of DNA/RNA fragment lengths"
   ]
  },
  {
   "cell_type": "code",
   "execution_count": null,
   "metadata": {},
   "outputs": [],
   "source": []
  },
  {
   "cell_type": "markdown",
   "metadata": {},
   "source": [
    "https://docs.python.org/3/library/subprocess.html"
   ]
  },
  {
   "cell_type": "code",
   "execution_count": 5,
   "metadata": {},
   "outputs": [],
   "source": [
    "#| export\n",
    "def _run(args: List[str], shell: bool=False):\n",
    "    \"\"\"Wrapper subprocess.run and prints the output\"\"\"\n",
    "    p = subprocess.run(args=args, stdout=subprocess.PIPE, shell=shell)\n",
    "    print('return code: ',p.returncode, '\\n')\n",
    "    print(str(p.stdout, 'utf-8'))"
   ]
  },
  {
   "cell_type": "code",
   "execution_count": 7,
   "metadata": {},
   "outputs": [],
   "source": [
    "#| export\n",
    "def _validate_path(p:str|Path) -> Path:\n",
    "    \"\"\"checks that path is a string or a Path, and returns a Path\"\"\"\n",
    "    if isinstance(p, str): \n",
    "        p = Path(p)\n",
    "    elif not isinstance(p, Path): \n",
    "        raise TypeError(f\"a path must be a string or a Path, not a {type(p)}\")\n",
    "    return p"
   ]
  },
  {
   "cell_type": "code",
   "execution_count": 8,
   "metadata": {},
   "outputs": [],
   "source": [
    "#| export\n",
    "class ArtIllumina:\n",
    "    \"\"\"Simulate sequence reads with art_illumina\"\"\"\n",
    "\n",
    "    def __init__(\n",
    "        self, \n",
    "        path2app: str|Path,           # path to the art_illumina application on the system\n",
    "        input_dir: str|Path,          # path to the dir where input files are\n",
    "        output_dir: str|Path=None     # path to the dir where to save output files, if different from input_dir\n",
    "        ):\n",
    "        \"\"\"Initialize the art_illumina instance\"\"\"\n",
    "\n",
    "        # Validate and save paths\n",
    "        path2app = _validate_path(path2app)        \n",
    "        if path2app.is_file():\n",
    "            self.app = path2app\n",
    "        else:\n",
    "            raise ValueError(f\"{path2app.name} is not a file, please check the path to the application\")\n",
    "\n",
    "        input_dir = _validate_path(input_dir)\n",
    "        if input_dir.is_dir():\n",
    "            self.input_dir = input_dir\n",
    "        else:\n",
    "            raise ValueError(f\"{input_dir.name} is not a directory, please check the path\")\n",
    "\n",
    "        if output_dir is None: \n",
    "            self.output_dir = input_dir\n",
    "        else:\n",
    "            output_dir = _validate_path(output_dir)\n",
    "            if output_dir.is_dir():\n",
    "                self.output_dir = output_dir\n",
    "            else:\n",
    "                raise ValueError(f\"{input_dir.name} is not a directory, please check the path\")\n",
    "\n",
    "        print(f\"Ready to operate with art: {self.app.absolute()}\")\n",
    "        print(f\"Input files from : {self.input_dir.absolute()}\")\n",
    "        print(f\"Output files to :  {self.output_dir.absolute()}\")\n",
    "\n",
    "    def sim_reads(\n",
    "        self,\n",
    "        input_file: str,     # name of the fasta file to use as input\n",
    "        output_seed: str,    # seed to use for the output files\n",
    "        sim_type='paired',   # type of read simmulation: 'single' or 'paired'\n",
    "        read_length=150,     # length of the read in bp\n",
    "        fold=10,             # fold\n",
    "        mean_read=None,      # mean length of the read for paired reads\n",
    "        std_read=None,       # std of the read length, for paired reads\n",
    "        ss='HS25',           # quality profile to use for simulation\n",
    "        ):\n",
    "        \"\"\"Simulates reads with art_illumina\"\"\"\n",
    "        \n",
    "        self.last_input_file = self.input_dir / input_file\n",
    "        p2in = (self.last_input_file).absolute()\n",
    "        self.last_ouput_seed = output_seed\n",
    "        p2out = (self.output_dir / output_seed).absolute()\n",
    "\n",
    "        if sim_type == 'single':\n",
    "            params = f\"-ss {ss} -sam -l {read_length} -f {fold}\"\n",
    "        elif sim_type == 'paired':\n",
    "            if mean_read is None or std_read is None:\n",
    "                raise ValueError(f\"mean_read and std_read are required for a paired reads simulation\")\n",
    "            else:\n",
    "                params = f\"-ss {ss} -sam -p -l {read_length} -f {fold} -m {mean_read} -s {std_read}\"\n",
    "        else:\n",
    "            raise RuntimeError(f\"{sim_type} in not a type or is not implemented yet\")\n",
    "\n",
    "        cmd = f\"{self.app.absolute()} -i {p2in} {params} -o {p2out}\"\n",
    "\n",
    "        _run(args=shlex.split(cmd))"
   ]
  },
  {
   "cell_type": "markdown",
   "metadata": {},
   "source": [
    "Create an instance of ArtIllumina with the path to the application on the system, and the directories for input and output files"
   ]
  },
  {
   "cell_type": "code",
   "execution_count": 9,
   "metadata": {},
   "outputs": [],
   "source": [
    "p2art = Path('/bin/art_illumina')\n",
    "assert p2art.is_file()\n",
    "\n",
    "p2data = Path('data_dev')\n",
    "input_fname = 'cov_virus_sequence_1.fa'\n",
    "assert (p2data/input_fname).is_file()"
   ]
  },
  {
   "cell_type": "code",
   "execution_count": 10,
   "metadata": {},
   "outputs": [
    {
     "name": "stdout",
     "output_type": "stream",
     "text": [
      "Ready to operate with art: /bin/art_illumina\n",
      "Input files from : /home/vtec/projects/bio/metagentools/nbs-dev/data_dev\n",
      "Output files to :  /home/vtec/projects/bio/metagentools/nbs-dev/data_dev\n"
     ]
    }
   ],
   "source": [
    "art = ArtIllumina(\n",
    "    path2app=p2art,\n",
    "    input_dir=p2data,\n",
    "    )"
   ]
  },
  {
   "cell_type": "code",
   "execution_count": 16,
   "metadata": {},
   "outputs": [
    {
     "data": {
      "text/markdown": [
       "---\n",
       "\n",
       "[source](https://github.com/vtecftwy/metagentools/blob/main/metagentools/art.py#L70){target=\"_blank\" style=\"float:right; font-size:smaller\"}\n",
       "\n",
       "### ArtIllumina.sim_reads\n",
       "\n",
       ">      ArtIllumina.sim_reads (input_file:str, output_seed:str,\n",
       ">                             sim_type='paired', read_length=150, fold=10,\n",
       ">                             mean_read=None, std_read=None, ss='HS25')\n",
       "\n",
       "Simulates reads with art_illumina\n",
       "\n",
       "|    | **Type** | **Default** | **Details** |\n",
       "| -- | -------- | ----------- | ----------- |\n",
       "| input_file | str |  | name of the fasta file to use as input |\n",
       "| output_seed | str |  | seed to use for the output files |\n",
       "| sim_type | str | paired | type of read simmulation: 'single' or 'paired' |\n",
       "| read_length | int | 150 | length of the read in bp |\n",
       "| fold | int | 10 | fold |\n",
       "| mean_read | NoneType | None | mean length of the read for paired reads |\n",
       "| std_read | NoneType | None | std of the read length, for paired reads |\n",
       "| ss | str | HS25 | quality profile to use for simulation |"
      ],
      "text/plain": [
       "---\n",
       "\n",
       "[source](https://github.com/vtecftwy/metagentools/blob/main/metagentools/art.py#L70){target=\"_blank\" style=\"float:right; font-size:smaller\"}\n",
       "\n",
       "### ArtIllumina.sim_reads\n",
       "\n",
       ">      ArtIllumina.sim_reads (input_file:str, output_seed:str,\n",
       ">                             sim_type='paired', read_length=150, fold=10,\n",
       ">                             mean_read=None, std_read=None, ss='HS25')\n",
       "\n",
       "Simulates reads with art_illumina\n",
       "\n",
       "|    | **Type** | **Default** | **Details** |\n",
       "| -- | -------- | ----------- | ----------- |\n",
       "| input_file | str |  | name of the fasta file to use as input |\n",
       "| output_seed | str |  | seed to use for the output files |\n",
       "| sim_type | str | paired | type of read simmulation: 'single' or 'paired' |\n",
       "| read_length | int | 150 | length of the read in bp |\n",
       "| fold | int | 10 | fold |\n",
       "| mean_read | NoneType | None | mean length of the read for paired reads |\n",
       "| std_read | NoneType | None | std of the read length, for paired reads |\n",
       "| ss | str | HS25 | quality profile to use for simulation |"
      ]
     },
     "execution_count": 16,
     "metadata": {},
     "output_type": "execute_result"
    }
   ],
   "source": [
    "#| echo: false\n",
    "nbdev.show_doc(ArtIllumina.sim_reads)"
   ]
  },
  {
   "cell_type": "markdown",
   "metadata": {},
   "source": [
    "#### Run a read simulation"
   ]
  },
  {
   "cell_type": "markdown",
   "metadata": {},
   "source": [
    "Run a single read simulations with the input file."
   ]
  },
  {
   "cell_type": "code",
   "execution_count": 11,
   "metadata": {},
   "outputs": [
    {
     "name": "stdout",
     "output_type": "stream",
     "text": [
      "return code:  0 \n",
      "\n",
      "\n",
      "    ====================ART====================\n",
      "             ART_Illumina (2008-2016)          \n",
      "          Q Version 2.5.8 (June 6, 2016)       \n",
      "     Contact: Weichun Huang <whduke@gmail.com> \n",
      "    -------------------------------------------\n",
      "\n",
      "                  Single-end Simulation\n",
      "\n",
      "Total CPU time used: 0.244098\n",
      "\n",
      "The random seed for the run: 1669285217\n",
      "\n",
      "Parameters used during run\n",
      "\tRead Length:\t150\n",
      "\tGenome masking 'N' cutoff frequency: \t1 in 150\n",
      "\tFold Coverage:            20X\n",
      "\tProfile Type:             Combined\n",
      "\tID Tag:                   \n",
      "\n",
      "Quality Profile(s)\n",
      "\tFirst Read:   HiSeq 2500 Length 150 R1 (built-in profile) \n",
      "\n",
      "Output files\n",
      "\n",
      "  FASTQ Sequence File:\n",
      "\t/home/vtec/projects/bio/metagentools/nbs-dev/data_dev/single_1_.fq\n",
      "\n",
      "  ALN Alignment File:\n",
      "\t/home/vtec/projects/bio/metagentools/nbs-dev/data_dev/single_1_.aln\n",
      "\n",
      "  SAM Alignment File:\n",
      "\t/home/vtec/projects/bio/metagentools/nbs-dev/data_dev/single_1_.sam\n",
      "\n",
      "\n"
     ]
    }
   ],
   "source": [
    "art.sim_reads(\n",
    "    input_file=input_fname,\n",
    "    output_seed='single_1_',\n",
    "    sim_type=\"single\",\n",
    "    read_length=150,\n",
    "    fold=20,\n",
    ")   \n",
    "    "
   ]
  },
  {
   "cell_type": "markdown",
   "metadata": {},
   "source": [
    "Run a paired read simulations with the input file."
   ]
  },
  {
   "cell_type": "code",
   "execution_count": 12,
   "metadata": {},
   "outputs": [
    {
     "name": "stdout",
     "output_type": "stream",
     "text": [
      "return code:  0 \n",
      "\n",
      "\n",
      "    ====================ART====================\n",
      "             ART_Illumina (2008-2016)          \n",
      "          Q Version 2.5.8 (June 6, 2016)       \n",
      "     Contact: Weichun Huang <whduke@gmail.com> \n",
      "    -------------------------------------------\n",
      "\n",
      "                  Paired-end sequencing simulation\n",
      "\n",
      "Total CPU time used: 0.26764\n",
      "\n",
      "The random seed for the run: 1669285250\n",
      "\n",
      "Parameters used during run\n",
      "\tRead Length:\t150\n",
      "\tGenome masking 'N' cutoff frequency: \t1 in 150\n",
      "\tFold Coverage:            20X\n",
      "\tMean Fragment Length:     200\n",
      "\tStandard Deviation:       10\n",
      "\tProfile Type:             Combined\n",
      "\tID Tag:                   \n",
      "\n",
      "Quality Profile(s)\n",
      "\tFirst Read:   HiSeq 2500 Length 150 R1 (built-in profile) \n",
      "\tFirst Read:   HiSeq 2500 Length 150 R2 (built-in profile) \n",
      "\n",
      "Output files\n",
      "\n",
      "  FASTQ Sequence Files:\n",
      "\t the 1st reads: /home/vtec/projects/bio/metagentools/nbs-dev/data_dev/paired_seq_1_1.fq\n",
      "\t the 2nd reads: /home/vtec/projects/bio/metagentools/nbs-dev/data_dev/paired_seq_1_2.fq\n",
      "\n",
      "  ALN Alignment Files:\n",
      "\t the 1st reads: /home/vtec/projects/bio/metagentools/nbs-dev/data_dev/paired_seq_1_1.aln\n",
      "\t the 2nd reads: /home/vtec/projects/bio/metagentools/nbs-dev/data_dev/paired_seq_1_2.aln\n",
      "\n",
      "  SAM Alignment File:\n",
      "\t/home/vtec/projects/bio/metagentools/nbs-dev/data_dev/paired_seq_1_.sam\n",
      "\n",
      "\n"
     ]
    }
   ],
   "source": [
    "art.sim_reads(\n",
    "    input_file=input_fname,\n",
    "    output_seed='paired_seq_1_',\n",
    "    sim_type=\"paired\",\n",
    "    read_length=150,\n",
    "    fold=20,\n",
    "    mean_read=200,\n",
    "    std_read=10\n",
    ")   "
   ]
  },
  {
   "cell_type": "code",
   "execution_count": null,
   "metadata": {},
   "outputs": [],
   "source": []
  },
  {
   "cell_type": "code",
   "execution_count": 13,
   "metadata": {},
   "outputs": [],
   "source": [
    "#| hide\n",
    "nbdev.nbdev_export()"
   ]
  }
 ],
 "metadata": {
  "kernelspec": {
   "display_name": "Python 3.10.6 ('metagentools')",
   "language": "python",
   "name": "python3"
  },
  "language_info": {
   "codemirror_mode": {
    "name": "ipython",
    "version": 3
   },
   "file_extension": ".py",
   "mimetype": "text/x-python",
   "name": "python",
   "nbconvert_exporter": "python",
   "pygments_lexer": "ipython3",
   "version": "3.10.6"
  },
  "vscode": {
   "interpreter": {
    "hash": "d79c725d3d254ae089d5edf9eb2dce3237f80d64dd85a8bedc17bd8054b8b312"
   }
  },
  "widgets": {
   "application/vnd.jupyter.widget-state+json": {
    "26b205197a934fdeabb71e65ac11acba": {
     "model_module": "@jupyter-widgets/base",
     "model_module_version": "1.2.0",
     "model_name": "LayoutModel",
     "state": {
      "_model_module": "@jupyter-widgets/base",
      "_model_module_version": "1.2.0",
      "_model_name": "LayoutModel",
      "_view_count": null,
      "_view_module": "@jupyter-widgets/base",
      "_view_module_version": "1.2.0",
      "_view_name": "LayoutView",
      "align_content": null,
      "align_items": null,
      "align_self": null,
      "border": null,
      "bottom": null,
      "display": null,
      "flex": null,
      "flex_flow": null,
      "grid_area": null,
      "grid_auto_columns": null,
      "grid_auto_flow": null,
      "grid_auto_rows": null,
      "grid_column": null,
      "grid_gap": null,
      "grid_row": null,
      "grid_template_areas": null,
      "grid_template_columns": null,
      "grid_template_rows": null,
      "height": null,
      "justify_content": null,
      "justify_items": null,
      "left": null,
      "margin": null,
      "max_height": null,
      "max_width": null,
      "min_height": null,
      "min_width": null,
      "object_fit": null,
      "object_position": null,
      "order": null,
      "overflow": null,
      "overflow_x": null,
      "overflow_y": null,
      "padding": null,
      "right": null,
      "top": null,
      "visibility": null,
      "width": null
     }
    },
    "514ad0bfcabf4df580a9a872af814af9": {
     "model_module": "@jupyter-widgets/controls",
     "model_module_version": "1.5.0",
     "model_name": "ProgressStyleModel",
     "state": {
      "_model_module": "@jupyter-widgets/controls",
      "_model_module_version": "1.5.0",
      "_model_name": "ProgressStyleModel",
      "_view_count": null,
      "_view_module": "@jupyter-widgets/base",
      "_view_module_version": "1.2.0",
      "_view_name": "StyleView",
      "bar_color": null,
      "description_width": ""
     }
    },
    "55646397fc9349d3af9e98b1f2b26f5d": {
     "model_module": "@jupyter-widgets/base",
     "model_module_version": "1.2.0",
     "model_name": "LayoutModel",
     "state": {
      "_model_module": "@jupyter-widgets/base",
      "_model_module_version": "1.2.0",
      "_model_name": "LayoutModel",
      "_view_count": null,
      "_view_module": "@jupyter-widgets/base",
      "_view_module_version": "1.2.0",
      "_view_name": "LayoutView",
      "align_content": null,
      "align_items": null,
      "align_self": null,
      "border": null,
      "bottom": null,
      "display": null,
      "flex": null,
      "flex_flow": null,
      "grid_area": null,
      "grid_auto_columns": null,
      "grid_auto_flow": null,
      "grid_auto_rows": null,
      "grid_column": null,
      "grid_gap": null,
      "grid_row": null,
      "grid_template_areas": null,
      "grid_template_columns": null,
      "grid_template_rows": null,
      "height": null,
      "justify_content": null,
      "justify_items": null,
      "left": null,
      "margin": null,
      "max_height": null,
      "max_width": null,
      "min_height": null,
      "min_width": null,
      "object_fit": null,
      "object_position": null,
      "order": null,
      "overflow": null,
      "overflow_x": null,
      "overflow_y": null,
      "padding": null,
      "right": null,
      "top": null,
      "visibility": null,
      "width": null
     }
    },
    "70f6be4247664b708b662c34e7abe3ee": {
     "model_module": "@jupyter-widgets/base",
     "model_module_version": "1.2.0",
     "model_name": "LayoutModel",
     "state": {
      "_model_module": "@jupyter-widgets/base",
      "_model_module_version": "1.2.0",
      "_model_name": "LayoutModel",
      "_view_count": null,
      "_view_module": "@jupyter-widgets/base",
      "_view_module_version": "1.2.0",
      "_view_name": "LayoutView",
      "align_content": null,
      "align_items": null,
      "align_self": null,
      "border": null,
      "bottom": null,
      "display": null,
      "flex": null,
      "flex_flow": null,
      "grid_area": null,
      "grid_auto_columns": null,
      "grid_auto_flow": null,
      "grid_auto_rows": null,
      "grid_column": null,
      "grid_gap": null,
      "grid_row": null,
      "grid_template_areas": null,
      "grid_template_columns": null,
      "grid_template_rows": null,
      "height": null,
      "justify_content": null,
      "justify_items": null,
      "left": null,
      "margin": null,
      "max_height": null,
      "max_width": null,
      "min_height": null,
      "min_width": null,
      "object_fit": null,
      "object_position": null,
      "order": null,
      "overflow": null,
      "overflow_x": null,
      "overflow_y": null,
      "padding": null,
      "right": null,
      "top": null,
      "visibility": null,
      "width": null
     }
    },
    "7179c6cc207941648c348b1bf10cb87f": {
     "model_module": "@jupyter-widgets/controls",
     "model_module_version": "1.5.0",
     "model_name": "LabelModel",
     "state": {
      "_dom_classes": [],
      "_model_module": "@jupyter-widgets/controls",
      "_model_module_version": "1.5.0",
      "_model_name": "LabelModel",
      "_view_count": null,
      "_view_module": "@jupyter-widgets/controls",
      "_view_module_version": "1.5.0",
      "_view_name": "LabelView",
      "description": "",
      "description_tooltip": null,
      "layout": "IPY_MODEL_70f6be4247664b708b662c34e7abe3ee",
      "placeholder": "​",
      "style": "IPY_MODEL_bdde467d943148ce9bb6355fd7582a5c",
      "value": "0.078 MB of 0.078 MB uploaded (0.020 MB deduped)\r"
     }
    },
    "7849f255e99b4853bdba7f8badf1054a": {
     "model_module": "@jupyter-widgets/controls",
     "model_module_version": "1.5.0",
     "model_name": "VBoxModel",
     "state": {
      "_dom_classes": [],
      "_model_module": "@jupyter-widgets/controls",
      "_model_module_version": "1.5.0",
      "_model_name": "VBoxModel",
      "_view_count": null,
      "_view_module": "@jupyter-widgets/controls",
      "_view_module_version": "1.5.0",
      "_view_name": "VBoxView",
      "box_style": "",
      "children": [
       "IPY_MODEL_7179c6cc207941648c348b1bf10cb87f",
       "IPY_MODEL_e0819a1ddcc64c08a748a2fd88350f09"
      ],
      "layout": "IPY_MODEL_26b205197a934fdeabb71e65ac11acba"
     }
    },
    "bdde467d943148ce9bb6355fd7582a5c": {
     "model_module": "@jupyter-widgets/controls",
     "model_module_version": "1.5.0",
     "model_name": "DescriptionStyleModel",
     "state": {
      "_model_module": "@jupyter-widgets/controls",
      "_model_module_version": "1.5.0",
      "_model_name": "DescriptionStyleModel",
      "_view_count": null,
      "_view_module": "@jupyter-widgets/base",
      "_view_module_version": "1.2.0",
      "_view_name": "StyleView",
      "description_width": ""
     }
    },
    "e0819a1ddcc64c08a748a2fd88350f09": {
     "model_module": "@jupyter-widgets/controls",
     "model_module_version": "1.5.0",
     "model_name": "FloatProgressModel",
     "state": {
      "_dom_classes": [],
      "_model_module": "@jupyter-widgets/controls",
      "_model_module_version": "1.5.0",
      "_model_name": "FloatProgressModel",
      "_view_count": null,
      "_view_module": "@jupyter-widgets/controls",
      "_view_module_version": "1.5.0",
      "_view_name": "ProgressView",
      "bar_style": "",
      "description": "",
      "description_tooltip": null,
      "layout": "IPY_MODEL_55646397fc9349d3af9e98b1f2b26f5d",
      "max": 1,
      "min": 0,
      "orientation": "horizontal",
      "style": "IPY_MODEL_514ad0bfcabf4df580a9a872af814af9",
      "value": 1
     }
    }
   }
  }
 },
 "nbformat": 4,
 "nbformat_minor": 1
}
