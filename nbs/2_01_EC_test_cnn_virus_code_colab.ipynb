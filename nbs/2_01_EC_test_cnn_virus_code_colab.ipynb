{
  "cells": [
    {
      "cell_type": "markdown",
      "metadata": {
        "id": "view-in-github",
        "colab_type": "text"
      },
      "source": [
        "<a href=\"https://colab.research.google.com/github/vtecftwy/metagenomics/blob/refactor_cnn_virus/nbs/2_01_EC_test_cnn_virus_code_colab.ipynb\" target=\"_parent\"><img src=\"https://colab.research.google.com/assets/colab-badge.svg\" alt=\"Open In Colab\"/></a>"
      ]
    },
    {
      "cell_type": "markdown",
      "metadata": {
        "id": "0wBmc9__aZ3-"
      },
      "source": [
        "# First experiments with CNN_Virus code"
      ]
    },
    {
      "cell_type": "markdown",
      "metadata": {
        "id": "a6aeu_XfaZ3_"
      },
      "source": [
        "- Original code is in the github repo [here](https://github.com/MaHaoran627/CNN_Virus).\n",
        "- This notebook includes basic refactoring of the CNN_Virus code for `tf.keras`.\n",
        "- Refactored modules are on the repo [here](https://github.com/vtecftwy/metagenomics) under branch `refactor_cnn_virus`\n",
        "- Status of the custom code:\n",
        "    - `refactor_cnn_virus` branch is cloned locally and accessed later\n",
        "    - `preprocessing.py`: \n",
        "        - `get_kmer_from_50mer(filepath, max_seqs=None)` allows to limit to a max number of sequences for initial experiments\n",
        "        - small corrections in how keras functions are imported\n",
        "    - `architecture.py`:\n",
        "        - correction on hopw keras layers are imported and called\n",
        "\n",
        "> This notebook assumes you have access to the `Metagenomics` gdrive shared folder, right under the grdive root. You should add a shortcut to the shared directory at the top of you gdrive."
      ]
    },
    {
      "cell_type": "code",
      "execution_count": 1,
      "metadata": {
        "id": "qvhl4uR3aZ4A"
      },
      "outputs": [],
      "source": [
        "import numpy as np\n",
        "import os\n",
        "import sys\n",
        "from pathlib import Path\n",
        "\n",
        "%load_ext autoreload\n",
        "%autoreload 2"
      ]
    },
    {
      "cell_type": "code",
      "source": [
        "COLAB = True"
      ],
      "metadata": {
        "id": "nnWaf46nbXBl"
      },
      "execution_count": 2,
      "outputs": []
    },
    {
      "cell_type": "code",
      "source": [
        "if COLAB:\n",
        "    from google.colab import drive\n",
        "    drive.mount('/content/gdrive')"
      ],
      "metadata": {
        "colab": {
          "base_uri": "https://localhost:8080/"
        },
        "id": "HUOEZ3Qwajd3",
        "outputId": "f4432b3d-8e05-4de3-eb83-0ed365f4ef89"
      },
      "execution_count": 3,
      "outputs": [
        {
          "output_type": "stream",
          "name": "stdout",
          "text": [
            "Mounted at /content/gdrive\n"
          ]
        }
      ]
    },
    {
      "cell_type": "code",
      "execution_count": null,
      "metadata": {
        "id": "FjGKzT4raZ4B"
      },
      "outputs": [],
      "source": [
        "if COLAB:\n",
        "    if not Path('repo').is_dir():\n",
        "        !git clone -b refactor_cnn_virus https://github.com/vtecftwy/metagenomics.git repo\n",
        "\n",
        "    cnn_src = Path('/content/repo/src')\n",
        "    assert cnn_src.is_dir()\n",
        "\n",
        "    data = Path('/content/gdrive/MyDrive/Metagenonics/CNN_Virus_data')\n",
        "    assert data.is_dir()\n",
        "\n",
        "    # add src where the custom code is into the path\n",
        "    if cnn_src.is_dir():\n",
        "        sys.path.insert(1, str(cnn_src))\n",
        "        print(f\"Added following path: {cnn_src}\")\n",
        "    else:\n",
        "        print(f\"There is no directory {cnn_src}\")\n",
        "else: \n",
        "    print('This notebook should run on colab')"
      ]
    },
    {
      "cell_type": "markdown",
      "metadata": {
        "id": "_r_QZTykaZ4B"
      },
      "source": [
        "# Preprocessing data"
      ]
    },
    {
      "cell_type": "code",
      "execution_count": 5,
      "metadata": {
        "id": "EMYjlfmfaZ4C"
      },
      "outputs": [],
      "source": [
        "from preprocessing import get_learning_weights, get_params_50mer, get_kmer_from_50mer\n",
        "from preprocessing import DataGenerator_from_50mer\n",
        "\n",
        "from architecture import build_model"
      ]
    },
    {
      "cell_type": "code",
      "execution_count": 25,
      "metadata": {
        "id": "jlfjVYq5aZ4D"
      },
      "outputs": [],
      "source": [
        "#path for the training file\n",
        "filepath_train= data /\"50mer_training\"\n",
        "assert filepath_train.is_file()\n",
        "#path for the validating file\n",
        "filepath_val= data / \"50mer_validating\"\n",
        "assert filepath_val.is_file()\n",
        "#path for the learning weights file\n",
        "filepath_weights=data / \"weight_of_classes\"\n",
        "assert filepath_weights.is_file()"
      ]
    },
    {
      "cell_type": "markdown",
      "source": [
        "Use function to get lists of sequences, labels and positions from text file"
      ],
      "metadata": {
        "id": "e4Pb-pJMmajm"
      }
    },
    {
      "cell_type": "code",
      "execution_count": 27,
      "metadata": {
        "id": "Oxr3VsgmaZ4C",
        "outputId": "12b876d2-62f7-4a94-9521-a58a29bf01f6",
        "colab": {
          "base_uri": "https://localhost:8080/"
        }
      },
      "outputs": [
        {
          "output_type": "execute_result",
          "data": {
            "text/plain": [
              "(100000, 100000, 100000)"
            ]
          },
          "metadata": {},
          "execution_count": 27
        }
      ],
      "source": [
        "f_matrix, f_labels, f_pos = get_kmer_from_50mer(filepath_train, max_seqs=100_000)\n",
        "len(f_matrix), len(f_labels), len(f_pos)"
      ]
    },
    {
      "cell_type": "code",
      "execution_count": 28,
      "metadata": {
        "id": "7Yj1jCEpaZ4C",
        "outputId": "01f51726-cfea-4941-a617-c417005082fc",
        "colab": {
          "base_uri": "https://localhost:8080/"
        }
      },
      "outputs": [
        {
          "output_type": "execute_result",
          "data": {
            "text/plain": [
              "('TCAAAATAATCAGAAATGTTGAACCTAGGGTTGGACACATAATGACCAGC', '76', '0')"
            ]
          },
          "metadata": {},
          "execution_count": 28
        }
      ],
      "source": [
        "i = 0\n",
        "f_matrix[i], f_labels[i], f_pos[i]"
      ]
    },
    {
      "cell_type": "markdown",
      "source": [
        "Create the generators for training and validation using custom functions"
      ],
      "metadata": {
        "id": "0eMenOfLmzOX"
      }
    },
    {
      "cell_type": "code",
      "execution_count": 33,
      "metadata": {
        "id": "lV_2uA1paZ4D"
      },
      "outputs": [],
      "source": [
        "d_nucl={\"A\":0,\"C\":1,\"G\":2,\"T\":3,\"N\":4}\n",
        "f_matrix,f_labels,f_pos=get_kmer_from_50mer(filepath_train, max_seqs=100_000)\n",
        "f_matrix_val,f_labels_val,f_pos_val=get_kmer_from_50mer(filepath_val, max_seqs=20_000)\n",
        "\n",
        "params = get_params_50mer()\n",
        "d_weights=get_learning_weights(filepath_weights)\n",
        "\n",
        "training_generator = DataGenerator_from_50mer(f_matrix, f_labels, f_pos, **params)\n",
        "val_generator = DataGenerator_from_50mer(f_matrix_val, f_labels_val, f_pos_val, **params)"
      ]
    },
    {
      "cell_type": "code",
      "execution_count": 34,
      "metadata": {
        "id": "kWJ6hff_aZ4D",
        "outputId": "c7b6751b-ed1c-40b5-fde6-4b5b59b7d65c",
        "colab": {
          "base_uri": "https://localhost:8080/"
        }
      },
      "outputs": [
        {
          "output_type": "execute_result",
          "data": {
            "text/plain": [
              "98"
            ]
          },
          "metadata": {},
          "execution_count": 34
        }
      ],
      "source": [
        "len(training_generator)"
      ]
    },
    {
      "cell_type": "markdown",
      "source": [
        "Review the elements of generators"
      ],
      "metadata": {
        "id": "h7TcLaZUnE1u"
      }
    },
    {
      "cell_type": "code",
      "execution_count": 35,
      "metadata": {
        "id": "xa9iZwjmaZ4E"
      },
      "outputs": [],
      "source": [
        "tg = training_generator.__getitem__(5)"
      ]
    },
    {
      "cell_type": "code",
      "execution_count": 36,
      "metadata": {
        "id": "sfkerEGNaZ4E",
        "outputId": "67c02cd2-c2dc-417f-ff99-e72bb383987e",
        "colab": {
          "base_uri": "https://localhost:8080/"
        }
      },
      "outputs": [
        {
          "output_type": "execute_result",
          "data": {
            "text/plain": [
              "(2, tuple, numpy.ndarray, dict)"
            ]
          },
          "metadata": {},
          "execution_count": 36
        }
      ],
      "source": [
        "len(tg), type(tg), type(tg[0]), type(tg[1])"
      ]
    },
    {
      "cell_type": "code",
      "execution_count": 45,
      "metadata": {
        "id": "pXi0G7DHaZ4E",
        "outputId": "a854b866-649e-473e-8282-68c857bbeec8",
        "colab": {
          "base_uri": "https://localhost:8080/"
        }
      },
      "outputs": [
        {
          "output_type": "stream",
          "name": "stdout",
          "text": [
            "<class 'numpy.ndarray'> <class 'dict'>\n",
            "dict_keys(['output1', 'output2'])\n"
          ]
        }
      ],
      "source": [
        "inp, out_d = tg\n",
        "print(type(inp), type(out_d))\n",
        "print(out_d.keys())"
      ]
    },
    {
      "cell_type": "code",
      "execution_count": 46,
      "metadata": {
        "id": "fTjybSekaZ4E",
        "outputId": "717a36bc-8b36-4c73-ddb6-4481501ef4a1",
        "colab": {
          "base_uri": "https://localhost:8080/"
        }
      },
      "outputs": [
        {
          "output_type": "execute_result",
          "data": {
            "text/plain": [
              "((1024, 50, 5), (1024, 187), (1024, 10))"
            ]
          },
          "metadata": {},
          "execution_count": 46
        }
      ],
      "source": [
        "inp.shape, out_d['output1'].shape, out_d['output2'].shape"
      ]
    },
    {
      "cell_type": "code",
      "execution_count": 47,
      "metadata": {
        "id": "Idde3zKCaZ4F",
        "outputId": "cf01adff-4853-4f31-bed7-1c34efd3cd71",
        "colab": {
          "base_uri": "https://localhost:8080/"
        }
      },
      "outputs": [
        {
          "output_type": "execute_result",
          "data": {
            "text/plain": [
              "array([[[0., 0., 1., 0., 0.],\n",
              "        [0., 0., 1., 0., 0.],\n",
              "        [1., 0., 0., 0., 0.],\n",
              "        [0., 0., 0., 1., 0.]],\n",
              "\n",
              "       [[0., 0., 1., 0., 0.],\n",
              "        [0., 0., 0., 1., 0.],\n",
              "        [0., 0., 0., 1., 0.],\n",
              "        [0., 0., 1., 0., 0.]]])"
            ]
          },
          "metadata": {},
          "execution_count": 47
        }
      ],
      "source": [
        "inp[:2, :4, :]"
      ]
    },
    {
      "cell_type": "code",
      "execution_count": 48,
      "metadata": {
        "id": "WG3YWSajaZ4F",
        "outputId": "f71e4376-8ab9-47de-bda4-261905818c8c",
        "colab": {
          "base_uri": "https://localhost:8080/"
        }
      },
      "outputs": [
        {
          "output_type": "execute_result",
          "data": {
            "text/plain": [
              "array([[0., 0., 0., 0., 0., 0., 0., 0., 0., 0.],\n",
              "       [0., 0., 0., 0., 0., 0., 0., 0., 0., 0.]], dtype=float32)"
            ]
          },
          "metadata": {},
          "execution_count": 48
        }
      ],
      "source": [
        "out1 = out_d['output1']\n",
        "out2 = out_d['output2']\n",
        "\n",
        "out1[:2, :10]"
      ]
    },
    {
      "cell_type": "markdown",
      "metadata": {
        "id": "7rY_7bAIaZ4G"
      },
      "source": [
        "# Build model and review it"
      ]
    },
    {
      "cell_type": "code",
      "execution_count": 49,
      "metadata": {
        "id": "pfBTHSP8aZ4G",
        "outputId": "2c2617e5-9bc5-4a7a-f2e0-aa2ccccf3176",
        "colab": {
          "base_uri": "https://localhost:8080/"
        }
      },
      "outputs": [
        {
          "output_type": "stream",
          "name": "stdout",
          "text": [
            "Creating Model\n",
            "Model: \"model_1\"\n",
            "__________________________________________________________________________________________________\n",
            " Layer (type)                   Output Shape         Param #     Connected to                     \n",
            "==================================================================================================\n",
            " input_2 (InputLayer)           [(None, 50, 5)]      0           []                               \n",
            "                                                                                                  \n",
            " conv1d_4 (Conv1D)              (None, 50, 512)      13312       ['input_2[0][0]']                \n",
            "                                                                                                  \n",
            " batch_normalization_5 (BatchNo  (None, 50, 512)     2048        ['conv1d_4[0][0]']               \n",
            " rmalization)                                                                                     \n",
            "                                                                                                  \n",
            " max_pooling1d_3 (MaxPooling1D)  (None, 25, 512)     0           ['batch_normalization_5[0][0]']  \n",
            "                                                                                                  \n",
            " conv1d_5 (Conv1D)              (None, 25, 512)      1311232     ['max_pooling1d_3[0][0]']        \n",
            "                                                                                                  \n",
            " batch_normalization_6 (BatchNo  (None, 25, 512)     2048        ['conv1d_5[0][0]']               \n",
            " rmalization)                                                                                     \n",
            "                                                                                                  \n",
            " max_pooling1d_4 (MaxPooling1D)  (None, 13, 512)     0           ['batch_normalization_6[0][0]']  \n",
            "                                                                                                  \n",
            " conv1d_6 (Conv1D)              (None, 13, 1024)     3671040     ['max_pooling1d_4[0][0]']        \n",
            "                                                                                                  \n",
            " conv1d_7 (Conv1D)              (None, 13, 1024)     7341056     ['conv1d_6[0][0]']               \n",
            "                                                                                                  \n",
            " batch_normalization_7 (BatchNo  (None, 13, 1024)    4096        ['conv1d_7[0][0]']               \n",
            " rmalization)                                                                                     \n",
            "                                                                                                  \n",
            " max_pooling1d_5 (MaxPooling1D)  (None, 7, 1024)     0           ['batch_normalization_7[0][0]']  \n",
            "                                                                                                  \n",
            " flatten_1 (Flatten)            (None, 7168)         0           ['max_pooling1d_5[0][0]']        \n",
            "                                                                                                  \n",
            " dense_2 (Dense)                (None, 1024)         7341056     ['flatten_1[0][0]']              \n",
            "                                                                                                  \n",
            " batch_normalization_8 (BatchNo  (None, 1024)        4096        ['dense_2[0][0]']                \n",
            " rmalization)                                                                                     \n",
            "                                                                                                  \n",
            " dropout_1 (Dropout)            (None, 1024)         0           ['batch_normalization_8[0][0]']  \n",
            "                                                                                                  \n",
            " output1 (Dense)                (None, 187)          191675      ['dropout_1[0][0]']              \n",
            "                                                                                                  \n",
            " concatenate_1 (Concatenate)    (None, 1211)         0           ['dropout_1[0][0]',              \n",
            "                                                                  'output1[0][0]']                \n",
            "                                                                                                  \n",
            " dense_3 (Dense)                (None, 1024)         1241088     ['concatenate_1[0][0]']          \n",
            "                                                                                                  \n",
            " batch_normalization_9 (BatchNo  (None, 1024)        4096        ['dense_3[0][0]']                \n",
            " rmalization)                                                                                     \n",
            "                                                                                                  \n",
            " output2 (Dense)                (None, 10)           10250       ['batch_normalization_9[0][0]']  \n",
            "                                                                                                  \n",
            "==================================================================================================\n",
            "Total params: 21,137,093\n",
            "Trainable params: 21,128,901\n",
            "Non-trainable params: 8,192\n",
            "__________________________________________________________________________________________________\n"
          ]
        }
      ],
      "source": [
        "model=build_model()\n",
        "model.summary()"
      ]
    },
    {
      "cell_type": "code",
      "execution_count": 50,
      "metadata": {
        "id": "Yf3TqQxHaZ4G"
      },
      "outputs": [],
      "source": [
        "model.compile(\n",
        "\t  optimizer='adam',\n",
        "\t  loss={'output1':'categorical_crossentropy','output2':'categorical_crossentropy'},\n",
        "\t  metrics=['accuracy'])"
      ]
    },
    {
      "cell_type": "code",
      "execution_count": 52,
      "metadata": {
        "id": "hkzlpvDraZ4H",
        "colab": {
          "base_uri": "https://localhost:8080/"
        },
        "outputId": "fac33c36-04f5-4179-921c-b01c39bb9c93"
      },
      "outputs": [
        {
          "output_type": "stream",
          "name": "stdout",
          "text": [
            "Epoch 1/5\n",
            "98/98 [==============================] - 20s 202ms/step - loss: 5.9038 - output1_loss: 3.5918 - output2_loss: 2.3120 - output1_accuracy: 0.1782 - output2_accuracy: 0.1311 - val_loss: 6.1100 - val_output1_loss: 3.7917 - val_output2_loss: 2.3183 - val_output1_accuracy: 0.1409 - val_output2_accuracy: 0.1259\n",
            "Epoch 2/5\n",
            "98/98 [==============================] - 20s 201ms/step - loss: 5.6560 - output1_loss: 3.3567 - output2_loss: 2.2994 - output1_accuracy: 0.2195 - output2_accuracy: 0.1437 - val_loss: 6.1204 - val_output1_loss: 3.8203 - val_output2_loss: 2.3001 - val_output1_accuracy: 0.1444 - val_output2_accuracy: 0.1253\n",
            "Epoch 3/5\n",
            "98/98 [==============================] - 20s 200ms/step - loss: 5.4119 - output1_loss: 3.1173 - output2_loss: 2.2946 - output1_accuracy: 0.2845 - output2_accuracy: 0.1547 - val_loss: 6.2755 - val_output1_loss: 3.9558 - val_output2_loss: 2.3197 - val_output1_accuracy: 0.1339 - val_output2_accuracy: 0.1233\n",
            "Epoch 4/5\n",
            "98/98 [==============================] - 20s 200ms/step - loss: 4.5280 - output1_loss: 2.3019 - output2_loss: 2.2261 - output1_accuracy: 0.4239 - output2_accuracy: 0.1902 - val_loss: 7.0194 - val_output1_loss: 4.6469 - val_output2_loss: 2.3725 - val_output1_accuracy: 0.1259 - val_output2_accuracy: 0.1222\n",
            "Epoch 5/5\n",
            "98/98 [==============================] - 20s 200ms/step - loss: 3.0672 - output1_loss: 0.9832 - output2_loss: 2.0840 - output1_accuracy: 0.7441 - output2_accuracy: 0.2657 - val_loss: 7.9567 - val_output1_loss: 5.5393 - val_output2_loss: 2.4174 - val_output1_accuracy: 0.1189 - val_output2_accuracy: 0.1263\n"
          ]
        }
      ],
      "source": [
        "from tensorflow.keras.callbacks import EarlyStopping\n",
        "\n",
        "es = EarlyStopping(monitor='val_loss', patience=5, restore_best_weights=True)\n",
        "\n",
        "result = model.fit(\n",
        "    training_generator,\n",
        "\tepochs=5,\n",
        "\tverbose=1,\n",
        "\tvalidation_data=val_generator,\n",
        "\tcallbacks=[es]\n",
        "\t)\n"
      ]
    },
    {
      "cell_type": "code",
      "execution_count": 53,
      "metadata": {
        "id": "3Oqk6kWbaZ4H",
        "colab": {
          "base_uri": "https://localhost:8080/",
          "height": 283
        },
        "outputId": "09cefa2c-8cd6-4721-b649-e3d3b5d353d8"
      },
      "outputs": [
        {
          "output_type": "execute_result",
          "data": {
            "text/plain": [
              "<matplotlib.axes._subplots.AxesSubplot at 0x7f89dacacb50>"
            ]
          },
          "metadata": {},
          "execution_count": 53
        },
        {
          "output_type": "display_data",
          "data": {
            "text/plain": [
              "<Figure size 432x288 with 1 Axes>"
            ],
            "image/png": "[encoded data removed]"
          },
          "metadata": {
            "needs_background": "light"
          }
        }
      ],
      "source": [
        "import pandas as pd\n",
        "pd.DataFrame(result.history['val_output1_accuracy']).plot()"
      ]
    },
    {
      "cell_type": "code",
      "execution_count": 54,
      "metadata": {
        "id": "0IDLJAkgaZ4H"
      },
      "outputs": [],
      "source": [
        "model.save(Path('saved_temp'))"
      ]
    },
    {
      "cell_type": "code",
      "source": [
        "from tensorflow.keras.models import load_model\n",
        "\n",
        "m = load_model(Path('saved_temp'))"
      ],
      "metadata": {
        "id": "HP0qufIDEYjf"
      },
      "execution_count": 55,
      "outputs": []
    },
    {
      "cell_type": "code",
      "source": [
        "m.evaluate(val_generator)"
      ],
      "metadata": {
        "colab": {
          "base_uri": "https://localhost:8080/"
        },
        "id": "Pf5GITHCEkd4",
        "outputId": "3d5c5f9d-6cd4-43b9-91ac-0cbefa167475"
      },
      "execution_count": 56,
      "outputs": [
        {
          "output_type": "stream",
          "name": "stdout",
          "text": [
            "20/20 [==============================] - 2s 62ms/step - loss: 7.9567 - output1_loss: 5.5393 - output2_loss: 2.4174 - output1_accuracy: 0.1189 - output2_accuracy: 0.1263\n"
          ]
        },
        {
          "output_type": "execute_result",
          "data": {
            "text/plain": [
              "[7.956679821014404,\n",
              " 5.539268970489502,\n",
              " 2.417412281036377,\n",
              " 0.11890000104904175,\n",
              " 0.12630000710487366]"
            ]
          },
          "metadata": {},
          "execution_count": 56
        }
      ]
    }
  ],
  "metadata": {
    "kernelspec": {
      "display_name": "Python 3.9.12 ('metagen')",
      "language": "python",
      "name": "python3"
    },
    "language_info": {
      "codemirror_mode": {
        "name": "ipython",
        "version": 3
      },
      "file_extension": ".py",
      "mimetype": "text/x-python",
      "name": "python",
      "nbconvert_exporter": "python",
      "pygments_lexer": "ipython3",
      "version": "3.9.12"
    },
    "orig_nbformat": 4,
    "vscode": {
      "interpreter": {
        "hash": "dfd3b4934a6b4e35dd599b40cbe0afdec143404ac9fcb14c4b97cc2a93514568"
      }
    },
    "colab": {
      "provenance": [],
      "collapsed_sections": [],
      "include_colab_link": true
    },
    "accelerator": "GPU",
    "gpuClass": "standard"
  },
  "nbformat": 4,
  "nbformat_minor": 0
}