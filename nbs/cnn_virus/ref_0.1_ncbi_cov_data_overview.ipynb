{
 "cells": [
  {
   "cell_type": "markdown",
   "metadata": {},
   "source": [
    "# Review NCBI CoV Sequences and SimReads Data"
   ]
  },
  {
   "cell_type": "markdown",
   "metadata": {},
   "source": [
    "In this notebook, we review the CoV sequence retireved from NCBI and the corresponding simulated reads generated with ARt Illumina."
   ]
  },
  {
   "cell_type": "markdown",
   "metadata": {},
   "source": [
    "Note: The notebook was built and tested to run locally but should also work on Colab or Kaggle. If on Colab, it assumes that the project shared gdrive directory is accessible through a shortcut called `Metagenomics` under the root of gdrive."
   ]
  },
  {
   "cell_type": "markdown",
   "metadata": {},
   "source": [
    "# 1. Imports and setup environment"
   ]
  },
  {
   "cell_type": "markdown",
   "metadata": {},
   "source": [
    "### Install and import packages"
   ]
  },
  {
   "cell_type": "code",
   "execution_count": 28,
   "metadata": {},
   "outputs": [
    {
     "name": "stdout",
     "output_type": "stream",
     "text": [
      "`ecutilities` already installed\n",
      "`metagentools` already installed\n"
     ]
    }
   ],
   "source": [
    "# Install required custom packages if not installed yet.\n",
    "import importlib.util\n",
    "if not importlib.util.find_spec('ecutilities'):\n",
    "    print('installing package: `ecutilities`')\n",
    "    ! pip install -qqU ecutilities\n",
    "else:\n",
    "    print('`ecutilities` already installed')\n",
    "if not importlib.util.find_spec('metagentools'):\n",
    "    print('installing package: `metagentools')\n",
    "    ! pip install -qqU metagentools\n",
    "else:\n",
    "    print('`metagentools` already installed')"
   ]
  },
  {
   "cell_type": "code",
   "execution_count": 74,
   "metadata": {},
   "outputs": [
    {
     "name": "stdout",
     "output_type": "stream",
     "text": [
      "The autoreload extension is already loaded. To reload it, use:\n",
      "  %reload_ext autoreload\n",
      "Set autoreload mode\n"
     ]
    }
   ],
   "source": [
    "# Import all required packages\n",
    "import matplotlib.pyplot as plt\n",
    "import numpy as np\n",
    "import pandas as pd\n",
    "import os\n",
    "\n",
    "from ecutilities.core import files_in_tree\n",
    "from ecutilities.ipython import nb_setup\n",
    "from IPython.display import display, Markdown\n",
    "from pathlib import Path\n",
    "from pprint import pprint\n",
    "from tqdm.notebook import tqdm, trange\n",
    "\n",
    "# Setup the notebook for development\n",
    "nb_setup()\n",
    "\n",
    "from metagentools.cnn_virus.data import FastaFileReader, FastqFileReader, AlnFileReader\n",
    "from metagentools.core import ProjectFileSystem"
   ]
  },
  {
   "cell_type": "markdown",
   "metadata": {},
   "source": [
    "# 2. Review project file system"
   ]
  },
  {
   "cell_type": "markdown",
   "metadata": {},
   "source": [
    "This project adopts a unified file structure to make coding and colaboration easier. In addition, we can run the code locally (from a `project-root` directory) or in the cloud (colab or kaggle).\n",
    "\n",
    "The unified file structure when running localy is:\n",
    "```text\n",
    "    project-root   \n",
    "        |--- data\n",
    "        |      |--- CNN_Virus_data  (all data related to CNN Virus original paper)\n",
    "        |      |--- models          (trained and finetuned models)\n",
    "        |      |--- ....            (raw and pre-processed data from various sources)  \n",
    "        |      \n",
    "        |--- nbs  (all reference and work notebooks)\n",
    "        |      |--- cnn_virus\n",
    "        |      |        |--- notebooks.ipynb\n",
    "```\n",
    "\n",
    "When running on google colab, it is assumed that a google drive is mounted on the colab server instance, and that the google drive root includes a shortcut named `Metagenomics` and pointing to the project shared directory. The project shared directory is accessible [here](/https://drive.google.com/drive/folders/134uei5fmt08TpzhmjG4sW0FQ06kn2ZfZ) if your google account was given access permission."
   ]
  },
  {
   "cell_type": "markdown",
   "metadata": {},
   "source": [
    "To make access to the unified file system, `metagentools` provides a `ProjectFileSystem` class (see [documentation](https://vtecftwy.github.io/metagentools/core.html#projectfilesystem) for more info).\n",
    "\n",
    "Key folders and system information"
   ]
  },
  {
   "cell_type": "code",
   "execution_count": 75,
   "metadata": {},
   "outputs": [
    {
     "name": "stdout",
     "output_type": "stream",
     "text": [
      "Running linux on local computer\n",
      "Device's home directory: /home/vtec\n",
      "Project file structure:\n",
      " - Root ........ /home/vtec/projects/bio/metagentools \n",
      " - Data Dir .... /home/vtec/projects/bio/metagentools/data \n",
      " - Notebooks ... /home/vtec/projects/bio/metagentools/nbs\n"
     ]
    }
   ],
   "source": [
    "pfs = ProjectFileSystem()\n",
    "pfs.info()"
   ]
  },
  {
   "cell_type": "code",
   "execution_count": 76,
   "metadata": {},
   "outputs": [
    {
     "data": {
      "text/markdown": [
       "*/home/vtec/projects/bio/metagentools/data*"
      ],
      "text/plain": [
       "<IPython.core.display.Markdown object>"
      ]
     },
     "metadata": {},
     "output_type": "display_data"
    },
    {
     "data": {
      "text/markdown": [
       "This directory includes all the data for the project `metagentools`.\n",
       "\n",
       "```text\n",
       "data\n",
       "     |--- CNN_Virus_data  (all data related to CNN Virus original paper)\n",
       "     |--- models          (trained and finetuned models)\n",
       "     |--- ncbi            (refsequences, simreads, datasets and infer_results for CoV from NCBI)\n",
       "     |--- ncov_data       (refsequences, simreads, datasets and infer_results for non CoV sequences)\n",
       "     |--- ....            (raw and pre-processed data from various sources)  \n",
       "     \n",
       "```\n",
       "\n"
      ],
      "text/plain": [
       "<IPython.core.display.Markdown object>"
      ]
     },
     "metadata": {},
     "output_type": "display_data"
    }
   ],
   "source": [
    "pfs.readme()"
   ]
  },
  {
   "cell_type": "markdown",
   "metadata": {},
   "source": [
    "### Explore files in NCBI data directory"
   ]
  },
  {
   "cell_type": "code",
   "execution_count": 77,
   "metadata": {},
   "outputs": [
    {
     "name": "stdout",
     "output_type": "stream",
     "text": [
      "data\n",
      "  |--ncbi\n",
      "  |    |--refsequences\n",
      "  |    |    |--cov_virus_sequence_001-seq1.fa (0)\n",
      "  |    |    |--cov_virus_sequences.txt (1)\n",
      "  |    |    |--cov_virus_sequences_100-seqs.fa (2)\n",
      "  |    |    |--readme.md (3)\n",
      "  |    |    |--cov_virus_sequences_002-seqs.fa (4)\n",
      "  |    |    |--cov_virus_sequences_025-seqs.fa (5)\n",
      "  |    |    |--cov_virus_sequences_010-seqs.fa (6)\n",
      "  |    |    |--cov_virus_sequence_001-seq2.fa (7)\n",
      "  |    |    |--cov_virus_original_cnn_sequences.json (8)\n",
      "  |    |    |--cov_virus_sequences.fa (9)\n",
      "  |    |--simreads\n",
      "  |    |    |--readme.md (10)\n",
      "  |    |--infer_results\n",
      "  |    |    |--readme.md (11)\n",
      "  |    |--ds\n",
      "  |    |    |--single_10seq_50bp_metadata.csv (12)\n",
      "  |    |    |--readme.md (13)\n",
      "  |    |    |--single_10seq_50bp_ds (14)\n"
     ]
    }
   ],
   "source": [
    "files_in_tree(pfs.data/'ncbi');"
   ]
  },
  {
   "cell_type": "code",
   "execution_count": 78,
   "metadata": {},
   "outputs": [
    {
     "data": {
      "text/markdown": [
       "*/home/vtec/projects/bio/metagentools/data/ncbi/refsequences*"
      ],
      "text/plain": [
       "<IPython.core.display.Markdown object>"
      ]
     },
     "metadata": {},
     "output_type": "display_data"
    },
    {
     "data": {
      "text/markdown": [
       "# Information on CoV sequence files in this folder\n",
       "This folder includes CoV sequences in fasta files, retrieved from the NCBI database. \n",
       "\n",
       "The main file is **`cov_virus_sequences.fa`**.\n",
       "- it includes 3,318 sequences of corona virus with different types of hosts. \n",
       "- the names of the virus species is listed in the file `cov_virus_sequences.txt`\n",
       "\n",
       "\n",
       "Smaller files are also available. Each of which includes a limited number of sequences to test the code on smaller datasets. The files are named `cov_virus_sequences_*-seqs.fa` , where `*` is the number of sequences in the file:\n",
       "- `cov_virus_sequences_001-seq1.fa` includes 1 sequence\n",
       "- `cov_virus_sequences_001-seq2.fa` includes 1 other sequence\n",
       "- `cov_virus_sequences_002-seqs.fa` includes 2 sequences\n",
       "- `cov_virus_sequences_010-seqs.fa` includes 10 sequences\n",
       "- `cov_virus_sequences_025-seqs.fa` includes 25 sequences\n",
       "- `cov_virus_sequences_100-seqs.fa` includes 100 sequences\n",
       "\n",
       "\n",
       "Each sequence is preceded by the following Definition Line, with the following information:\n",
       "|item | example |\n",
       "|:---:|:-------|\n",
       "|sequence id | (2591237:ncbi:1)|\n",
       "|accession | MK211378|\n",
       "|taxonomy id | 2591237|\n",
       "|source |ncbi|\n",
       "|sequence nbr |1|\n",
       "|specie name |Coronavirus BtRs-BetaCoV/YN2018D|\n"
      ],
      "text/plain": [
       "<IPython.core.display.Markdown object>"
      ]
     },
     "metadata": {},
     "output_type": "display_data"
    },
    {
     "name": "stdout",
     "output_type": "stream",
     "text": [
      "----------------------------------------------------------------------------------------------------\n",
      "ncbi\n",
      "  |--refsequences\n",
      "  |    |--cov_virus_sequence_001-seq1.fa (0)\n",
      "  |    |--cov_virus_sequences.txt (1)\n",
      "  |    |--cov_virus_sequences_100-seqs.fa (2)\n",
      "  |    |--readme.md (3)\n",
      "  |    |--cov_virus_sequences_002-seqs.fa (4)\n",
      "  |    |--cov_virus_sequences_025-seqs.fa (5)\n",
      "  |    |--cov_virus_sequences_010-seqs.fa (6)\n",
      "  |    |--cov_virus_sequence_001-seq2.fa (7)\n",
      "  |    |--cov_virus_original_cnn_sequences.json (8)\n",
      "  |    |--cov_virus_sequences.fa (9)\n",
      "  |    |--groups_1\n",
      "  |    |    |--seqs_human.fa (10)\n",
      "  |    |    |--seqs_porcine_epidemic_diarrhea_virus.fa (11)\n",
      "  |    |    |--seqs_middle_east_respiratory_syndrome.fa (12)\n",
      "  |    |    |--seqs_bovine.fa (13)\n",
      "  |    |    |--seqs_betacoronavirus.fa (14)\n",
      "  |    |    |--seqs_infectious_bronchitis.fa (15)\n",
      "  |    |    |--seqs_feline.fa (16)\n",
      "  |    |    |--seqs_tgev.fa (17)\n",
      "  |    |    |--seqs_porcine_deltacoronavirus.fa (18)\n",
      "  |    |    |--seqs_coronavirus.fa (19)\n",
      "  |    |    |--seqs_bat_hp.fa (20)\n",
      "  |    |    |--seqs_severe_acute_respiratory_syndrome.fa (21)\n",
      "  |    |    |--seqs_murine_hepatitis.fa (22)\n",
      "  |    |    |--seqs_bat_coronavirus.fa (23)\n",
      "  |    |    |--seqs_porcine_coronavirus.fa (24)\n",
      "  |    |    |--seqs_bat_sars_cov.fa (25)\n",
      "  |    |    |--seqs_bt.fa (26)\n",
      "  |    |    |--seqs_deltacoronavirus.fa (27)\n",
      "  |    |    |--seqs_others.fa (28)\n",
      "  |    |    |--seqs_pangolin_coronavirus.fa (29)\n",
      "  |    |    |--seqs_bat_sars-like.fa (30)\n",
      "  |    |    |--seqs_sars.fa (31)\n",
      "  |    |    |--seqs_bat_cov.fa (32)\n",
      "  |    |    |--seqs_bat_sars_coronavirus.fa (33)\n",
      "  |    |    |--seqs_alphacoronavirus.fa (34)\n",
      "  |    |    |--seqs_murine_coronavirus.fa (35)\n",
      "====================================================================================================\n"
     ]
    },
    {
     "data": {
      "text/markdown": [
       "*/home/vtec/projects/bio/metagentools/data/ncbi/simreads*"
      ],
      "text/plain": [
       "<IPython.core.display.Markdown object>"
      ]
     },
     "metadata": {},
     "output_type": "display_data"
    },
    {
     "data": {
      "text/markdown": [
       "# Information on CoV simulated read sequence files\n",
       "This folder includes a set of simulated read sequence files generated from CoV sequences in `cov_data` and ARC Illumina. \n",
       "\n",
       "\n",
       "Each simread sub-directory is named as `<method>_<nb seq>_<nb bp>` where\"\n",
       "- `<method>` is either `single` or `paired` depending on the simulation method\n",
       "- `<nb seq>` is the number of reference sequences used for simulation, and refers to the `fa` files in `cov_data`\n",
       "- `<nb bp>` is the number of base pairs in the simulated read\n",
       "\n",
       "Each directory includes simreads files made using a simulation method and a specific number of reference sequences.\n",
       "- `xxx.fq` and `xxx.aln` files with method is `single`\n",
       "- `xxx1.fq`, `xxx2.fq`, `xxx1.aln` and `xxx2.aln` files with method is `paired`.\n",
       "\n",
       "Example:\n",
       "- `paired_10seq_50bp` means that the simreads were generated by using the `paired` method to simulate 50-bp reads, and using the `fa` file `/cov_data/cov_virus_sequences_010-seqs.fa`\n",
       "- `single_100seq_50bp` means that the simreads were generated by using the `single` method to simulate 50-bp reads, and using the `fa` file `/cov_data/cov_virus_sequences_100-seqs.fa`. Note that this generated 20,660,104 reads !\n",
       "\n"
      ],
      "text/plain": [
       "<IPython.core.display.Markdown object>"
      ]
     },
     "metadata": {},
     "output_type": "display_data"
    },
    {
     "name": "stdout",
     "output_type": "stream",
     "text": [
      "----------------------------------------------------------------------------------------------------\n",
      "ncbi\n",
      "  |--simreads\n",
      "  |    |--readme.md (0)\n",
      "  |    |--paired_25seq_150bp\n",
      "  |    |    |--paired_25seq_150bp2.fq (1)\n",
      "  |    |    |--paired_25seq_150bp1.aln (2)\n",
      "  |    |    |--paired_25seq_150bp2.aln (3)\n",
      "  |    |    |--paired_25seq_150bp1.fq (4)\n",
      "  |    |--paired_100seq_150bp\n",
      "  |    |    |--paired_100seq_150bp1.aln (5)\n",
      "  |    |    |--paired_100seq_150bp2.aln (6)\n",
      "  |    |    |--paired_100seq_150bp1.fq (7)\n",
      "  |    |    |--paired_100seq_150bp2.fq (8)\n",
      "  |    |--paired_100seq_50bp\n",
      "  |    |    |--paired_100seq_50bp2.aln (9)\n",
      "  |    |    |--paired_100seq_50bp1.aln (10)\n",
      "  |    |    |--paired_100seq_50bp2.fq (11)\n",
      "  |    |    |--paired_100seq_50bp1.fq (12)\n",
      "  |    |--paired_10seq_150bp\n",
      "  |    |    |--paired_10seq_150bp1.aln (13)\n",
      "  |    |    |--paired_10seq_150bp2.fq (14)\n",
      "  |    |    |--paired_10seq_150bp2.aln (15)\n",
      "  |    |    |--paired_10seq_150bp1.fq (16)\n",
      "  |    |--paired_10seq_50bp\n",
      "  |    |    |--paired_10seq_50bp2.aln (17)\n",
      "  |    |    |--paired_10seq_50bp1.fq (18)\n",
      "  |    |    |--paired_10seq_50bp1.aln (19)\n",
      "  |    |    |--paired_10seq_50bp2.fq (20)\n",
      "  |    |--single_25seq_50bp\n",
      "  |    |    |--single_25seq_50bp.aln (21)\n",
      "  |    |    |--single_25seq_50bp.fq (22)\n",
      "  |    |--single_10seq_50bp\n",
      "  |    |    |--single_10seq_50bp.fq (23)\n",
      "  |    |    |--single_10seq_50bp.aln (24)\n",
      "  |    |--single_25seq_150bp\n",
      "  |    |    |--single_25seq_150bp.fq (25)\n",
      "  |    |    |--single_25seq_150bp.aln (26)\n",
      "  |    |--single_10seq_150bp\n",
      "  |    |    |--single_10seq_150bp.fq (27)\n",
      "  |    |    |--single_10seq_150bp.aln (28)\n",
      "  |    |--single_100seq_50bp\n",
      "  |    |    |--single_100seq_50bp.fq (29)\n",
      "  |    |    |--single_100seq_50bp.aln (30)\n",
      "  |    |--single_100seq_150bp\n",
      "  |    |    |--single_100seq_150bp.fq (31)\n",
      "  |    |    |--single_100seq_150bp.aln (32)\n",
      "  |    |--paired_25seq_50bp\n",
      "  |    |    |--paired_25seq_50bp1.fq (33)\n",
      "  |    |    |--paired_25seq_50bp2.aln (34)\n",
      "  |    |    |--paired_25seq_50bp2.fq (35)\n",
      "  |    |    |--paired_25seq_50bp1.aln (36)\n",
      "====================================================================================================\n"
     ]
    },
    {
     "data": {
      "text/markdown": [
       "*/home/vtec/projects/bio/metagentools/data/ncbi/infer_results*"
      ],
      "text/plain": [
       "<IPython.core.display.Markdown object>"
      ]
     },
     "metadata": {},
     "output_type": "display_data"
    },
    {
     "data": {
      "text/markdown": [
       "# CoV Virus Inference Data\n",
       "This folder includes results from inference using CoV simulated read sequences from `fq` and `aln` files in `cov_simreads`. \n",
       "\n",
       "## `cnn_virus`\n",
       "The directory `cnn_virus` includes results from inference made with the original pretrained model. \n",
       "\n",
       "Results are saved into many individual `parquet` files during inference. Then they are merged into a single `parquet` file. \n",
       "\n",
       "Each inference experiment receives a unique 8-character unique ID.\n",
       "\n",
       "Each inference experiment will therefore generate a set of files like follows, where `xxxxxxxx` is the experiment UID and `nnnn` is the index of a partial result file:\n",
       "- `results_nnnn_infer_xxxxxxxx.parquet`\n",
       "- `results_all_infer_xxxxxxxx.parquet`\n",
       "\n",
       "\n"
      ],
      "text/plain": [
       "<IPython.core.display.Markdown object>"
      ]
     },
     "metadata": {},
     "output_type": "display_data"
    },
    {
     "name": "stdout",
     "output_type": "stream",
     "text": [
      "----------------------------------------------------------------------------------------------------\n",
      "ncbi\n",
      "  |--infer_results\n",
      "  |    |--readme.md (0)\n",
      "  |    |--xlsx\n",
      "  |    |    |--all_taxonomies_infer_5yucnk_6.xlsx (1)\n",
      "  |    |    |--top25_sars_infer_5yucnk_6.xlsx (2)\n",
      "  |    |    |--top25_cov_infer_5yucnk_6.xlsx (3)\n",
      "  |    |    |--top25_mers_infer_5yucnk_6.xlsx (4)\n",
      "  |    |--cnn_virus\n",
      "  |    |    |--results_0051_infer_5yucnk_6.parquet (5)\n",
      "  |    |    |--results_0049_infer_5yucnk_6.parquet (6)\n",
      "  |    |    |--results_0059_infer_s4gjodd8.parquet (7)\n",
      "  |    |    |--results_0021_infer_s4gjodd8.parquet (8)\n",
      "  |    |    |--results_0032_infer_s4gjodd8.parquet (9)\n",
      "  |    |    |--results_0006_infer_s4gjodd8.parquet (10)\n",
      "  |    |    |--results_0058_infer_5yucnk_6.parquet (11)\n",
      "  |    |    |--results_0031_infer_5yucnk_6.parquet (12)\n",
      "  |    |    |--results_0013_infer_s4gjodd8.parquet (13)\n",
      "  |    |    |--results_0044_infer_s4gjodd8.parquet (14)\n",
      "  |    |    |--results_0049_infer_s4gjodd8.parquet (15)\n",
      "  |    |    |--results_0010_infer_s4gjodd8.parquet (16)\n",
      "  |    |    |--results_0056_infer_s4gjodd8.parquet (17)\n",
      "  |    |    |--results_0047_infer_s4gjodd8.parquet (18)\n",
      "  |    |    |--results_0026_infer_s4gjodd8.parquet (19)\n",
      "  |    |    |--results_0045_infer_5yucnk_6.parquet (20)\n",
      "  |    |    |--results_0057_infer_5yucnk_6.parquet (21)\n",
      "  |    |    |--results_0054_infer_s4gjodd8.parquet (22)\n",
      "  |    |    |--results_0060_infer_s4gjodd8.parquet (23)\n",
      "  |    |    |--results_0062_infer_s4gjodd8.parquet (24)\n",
      "  |    |    |--results_0033_infer_s4gjodd8.parquet (25)\n",
      "  |    |    |--results_0008_infer_5yucnk_6.parquet (26)\n",
      "  |    |    |--results_0004_infer_5yucnk_6.parquet (27)\n",
      "  |    |    |--results_0037_infer_5yucnk_6.parquet (28)\n",
      "  |    |    |--results_0050_infer_5yucnk_6.parquet (29)\n",
      "  |    |    |--results_0036_infer_s4gjodd8.parquet (30)\n",
      "  |    |    |--results_0056_infer_5yucnk_6.parquet (31)\n",
      "  |    |    |--results_0037_infer_s4gjodd8.parquet (32)\n",
      "  |    |    |--results_0044_infer_5yucnk_6.parquet (33)\n",
      "  |    |    |--results_0035_infer_5yucnk_6.parquet (34)\n",
      "  |    |    |--results_0051_infer_s4gjodd8.parquet (35)\n",
      "  |    |    |--results_0055_infer_5yucnk_6.parquet (36)\n",
      "  |    |    |--results_0048_infer_s4gjodd8.parquet (37)\n",
      "  |    |    |--results_0012_infer_5yucnk_6.parquet (38)\n",
      "  |    |    |--results_0063_infer_5yucnk_6.parquet (39)\n",
      "  |    |    |--results_0039_infer_5yucnk_6.parquet (40)\n",
      "  |    |    |--results_0064_infer_5yucnk_6.parquet (41)\n",
      "  |    |    |--results_all_infer_5yucnk_6.parquet (42)\n",
      "  |    |    |--results_0023_infer_s4gjodd8.parquet (43)\n",
      "  |    |    |--results_0026_infer_5yucnk_6.parquet (44)\n",
      "  |    |    |--results_0029_infer_5yucnk_6.parquet (45)\n",
      "  |    |    |--results_0043_infer_s4gjodd8.parquet (46)\n",
      "  |    |    |--results_0015_infer_s4gjodd8.parquet (47)\n",
      "  |    |    |--results_0040_infer_s4gjodd8.parquet (48)\n",
      "  |    |    |--results_0046_infer_s4gjodd8.parquet (49)\n",
      "  |    |    |--results_0030_infer_5yucnk_6.parquet (50)\n",
      "  |    |    |--results_0027_infer_s4gjodd8.parquet (51)\n",
      "  |    |    |--results_0028_infer_s4gjodd8.parquet (52)\n",
      "  |    |    |--results_0040_infer_5yucnk_6.parquet (53)\n",
      "  |    |    |--results_0001_infer_5yucnk_6.parquet (54)\n",
      "  |    |    |--results_0021_infer_5yucnk_6.parquet (55)\n",
      "  |    |    |--results_0024_infer_s4gjodd8.parquet (56)\n",
      "  |    |    |--results_0000_infer_s4gjodd8.parquet (57)\n",
      "  |    |    |--results_0034_infer_s4gjodd8.parquet (58)\n",
      "  |    |    |--results_0009_infer_s4gjodd8.parquet (59)\n",
      "  |    |    |--results_0016_infer_5yucnk_6.parquet (60)\n",
      "  |    |    |--results_0061_infer_5yucnk_6.parquet (61)\n",
      "  |    |    |--results_0045_infer_s4gjodd8.parquet (62)\n",
      "  |    |    |--results_0010_infer_5yucnk_6.parquet (63)\n",
      "  |    |    |--results_0019_infer_s4gjodd8.parquet (64)\n",
      "  |    |    |--results_0050_infer_s4gjodd8.parquet (65)\n",
      "  |    |    |--results_all_infer_s4gjodd8.parquet (66)\n",
      "  |    |    |--results_0061_infer_s4gjodd8.parquet (67)\n",
      "  |    |    |--results_0032_infer_5yucnk_6.parquet (68)\n",
      "  |    |    |--results_0019_infer_5yucnk_6.parquet (69)\n",
      "  |    |    |--results_0014_infer_s4gjodd8.parquet (70)\n",
      "  |    |    |--results_0029_infer_s4gjodd8.parquet (71)\n",
      "  |    |    |--results_0011_infer_s4gjodd8.parquet (72)\n",
      "  |    |    |--results_0034_infer_5yucnk_6.parquet (73)\n",
      "  |    |    |--results_0003_infer_s4gjodd8.parquet (74)\n",
      "  |    |    |--results_0065_infer_s4gjodd8.parquet (75)\n",
      "  |    |    |--results_0020_infer_5yucnk_6.parquet (76)\n",
      "  |    |    |--results_0046_infer_5yucnk_6.parquet (77)\n",
      "  |    |    |--results_0007_infer_5yucnk_6.parquet (78)\n",
      "  |    |    |--results_0059_infer_5yucnk_6.parquet (79)\n",
      "  |    |    |--results_0043_infer_5yucnk_6.parquet (80)\n",
      "  |    |    |--results_0011_infer_5yucnk_6.parquet (81)\n",
      "  |    |    |--results_0002_infer_5yucnk_6.parquet (82)\n",
      "  |    |    |--results_0017_infer_s4gjodd8.parquet (83)\n",
      "  |    |    |--results_0023_infer_5yucnk_6.parquet (84)\n",
      "  |    |    |--results_0016_infer_s4gjodd8.parquet (85)\n",
      "  |    |    |--results_0018_infer_s4gjodd8.parquet (86)\n",
      "  |    |    |--results_0002_infer_s4gjodd8.parquet (87)\n",
      "  |    |    |--results_0035_infer_s4gjodd8.parquet (88)\n",
      "  |    |    |--results_0004_infer_s4gjodd8.parquet (89)\n",
      "  |    |    |--results_0003_infer_5yucnk_6.parquet (90)\n",
      "  |    |    |--results_0039_infer_s4gjodd8.parquet (91)\n",
      "  |    |    |--results_0065_infer_5yucnk_6.parquet (92)\n",
      "  |    |    |--results_0017_infer_5yucnk_6.parquet (93)\n",
      "  |    |    |--results_0052_infer_5yucnk_6.parquet (94)\n",
      "  |    |    |--results_0053_infer_s4gjodd8.parquet (95)\n",
      "  |    |    |--results_0022_infer_5yucnk_6.parquet (96)\n",
      "  |    |    |--results_0024_infer_5yucnk_6.parquet (97)\n",
      "  |    |    |--results_0042_infer_s4gjodd8.parquet (98)\n",
      "  |    |    |--results_0000_infer_5yucnk_6.parquet (99)\n",
      "  |    |    |--results_0033_infer_5yucnk_6.parquet (100)\n",
      "  |    |    |--results_0006_infer_5yucnk_6.parquet (101)\n",
      "  |    |    |--results_0030_infer_s4gjodd8.parquet (102)\n",
      "  |    |    |--results_0062_infer_5yucnk_6.parquet (103)\n",
      "  |    |    |--results_0048_infer_5yucnk_6.parquet (104)\n",
      "  |    |    |--results_0063_infer_s4gjodd8.parquet (105)\n",
      "  |    |    |--results_0052_infer_s4gjodd8.parquet (106)\n",
      "  |    |    |--results_0042_infer_5yucnk_6.parquet (107)\n",
      "  |    |    |--results_0057_infer_s4gjodd8.parquet (108)\n",
      "  |    |    |--results_0031_infer_s4gjodd8.parquet (109)\n",
      "  |    |    |--results_0015_infer_5yucnk_6.parquet (110)\n",
      "  |    |    |--results_0025_infer_5yucnk_6.parquet (111)\n",
      "  |    |    |--results_0036_infer_5yucnk_6.parquet (112)\n",
      "  |    |    |--results_0041_infer_5yucnk_6.parquet (113)\n",
      "  |    |    |--results_0027_infer_5yucnk_6.parquet (114)\n",
      "  |    |    |--results_0009_infer_5yucnk_6.parquet (115)\n",
      "  |    |    |--results_0038_infer_s4gjodd8.parquet (116)\n",
      "  |    |    |--results_0054_infer_5yucnk_6.parquet (117)\n",
      "  |    |    |--results_0055_infer_s4gjodd8.parquet (118)\n",
      "  |    |    |--results_0041_infer_s4gjodd8.parquet (119)\n",
      "  |    |    |--results_0005_infer_s4gjodd8.parquet (120)\n",
      "  |    |    |--results_0053_infer_5yucnk_6.parquet (121)\n",
      "  |    |    |--results_0025_infer_s4gjodd8.parquet (122)\n",
      "  |    |    |--results_0047_infer_5yucnk_6.parquet (123)\n",
      "  |    |    |--results_0028_infer_5yucnk_6.parquet (124)\n",
      "  |    |    |--results_0014_infer_5yucnk_6.parquet (125)\n",
      "  |    |    |--results_0018_infer_5yucnk_6.parquet (126)\n",
      "  |    |    |--results_0060_infer_5yucnk_6.parquet (127)\n",
      "  |    |    |--results_0058_infer_s4gjodd8.parquet (128)\n",
      "  |    |    |--results_0001_infer_s4gjodd8.parquet (129)\n",
      "  |    |    |--results_0064_infer_s4gjodd8.parquet (130)\n",
      "  |    |    |--results_0013_infer_5yucnk_6.parquet (131)\n",
      "  |    |    |--results_0008_infer_s4gjodd8.parquet (132)\n",
      "  |    |    |--results_0007_infer_s4gjodd8.parquet (133)\n",
      "  |    |    |--results_0005_infer_5yucnk_6.parquet (134)\n",
      "  |    |    |--results_0022_infer_s4gjodd8.parquet (135)\n",
      "  |    |    |--results_0020_infer_s4gjodd8.parquet (136)\n",
      "  |    |    |--results_0012_infer_s4gjodd8.parquet (137)\n",
      "  |    |    |--results_0038_infer_5yucnk_6.parquet (138)\n",
      "====================================================================================================\n"
     ]
    }
   ],
   "source": [
    "for d in ['refsequences', 'simreads', 'infer_results']:\n",
    "    path = pfs.data / 'ncbi' / d\n",
    "    pfs.readme(dir_path=path)\n",
    "    print(f\"{'-'*100}\")\n",
    "    files_in_tree(path)\n",
    "    print(f\"{'='*100}\")"
   ]
  },
  {
   "cell_type": "markdown",
   "metadata": {},
   "source": [
    "# 3. Review fasta, fastq and aln files"
   ]
  },
  {
   "cell_type": "markdown",
   "metadata": {},
   "source": [
    "## Setup paths"
   ]
  },
  {
   "cell_type": "markdown",
   "metadata": {},
   "source": [
    "- `p2refseqs`: path to a reference sequence file (FASTA)\n",
    "- `p2simreads`: path to folder where reads files are located (FASTQ and ALN)"
   ]
  },
  {
   "cell_type": "code",
   "execution_count": 80,
   "metadata": {},
   "outputs": [],
   "source": [
    "p2refseqs = pfs.data / 'ncbi/refsequences/cov_virus_sequences_010-seqs.fa'\n",
    "assert p2refseqs.is_file(), f\"No file found at {p2refseqs.absolute()}\"\n",
    "\n",
    "p2simreads = pfs.data / 'ncbi/simreads/single_10seq_50bp'\n",
    "assert p2simreads.is_dir(), f\"No directory found at {p2simreads.absolute()}\""
   ]
  },
  {
   "cell_type": "markdown",
   "metadata": {},
   "source": [
    "## Explore Reference Files (FASTA)"
   ]
  },
  {
   "cell_type": "markdown",
   "metadata": {},
   "source": [
    "`FastaFileReader` is a class to make reading and accessing fasta file information easier"
   ]
  },
  {
   "cell_type": "code",
   "execution_count": 81,
   "metadata": {},
   "outputs": [],
   "source": [
    "fasta = FastaFileReader(path=p2refseqs)"
   ]
  },
  {
   "cell_type": "code",
   "execution_count": 82,
   "metadata": {},
   "outputs": [
    {
     "name": "stdout",
     "output_type": "stream",
     "text": [
      "\n",
      "Sequence 1:\n",
      ">2591237:ncbi:1 [MK211378]\t2591237\tncbi\t1 [MK211378] 2591237\tCoronavirus BtRs-BetaCoV/YN2018D\t\tscientific name\n",
      "TATTAGGTTTTCTACCTACCCAGGAAAAGCCAACCAACCTCGATCTCTTGTAGATCTGTTCTCTAAACGAACTTTAAAAT ...\n",
      "\n",
      "Sequence 2:\n",
      ">11128:ncbi:2 [LC494191]\t11128\tncbi\t2 [LC494191] 11128\tBovine coronavirus\t\tscientific name\n",
      "CATCCCGCTTCACTGATCTCTTGTTAGATCTTTTCATAATCTAAACTTTATAAAAACATCCACTCCCTGTAGTCTATGCC ...\n",
      "\n",
      "Sequence 3:\n",
      ">31631:ncbi:3 [KY967361]\t31631\tncbi\t3 [KY967361] 31631\tHuman coronavirus OC43\t\tscientific name\n",
      "ATCTCTTGTTAGATCTTTTTGTAATCTAAACTTTATAAAAACATCCACTCCCTGTAATCTATGCTTGTGGGCGTAGATTT ...\n"
     ]
    }
   ],
   "source": [
    "fasta.print_first_chunks(nchunks=3)"
   ]
  },
  {
   "cell_type": "markdown",
   "metadata": {},
   "source": [
    "Access each sequence (definition line and sequence) one by one"
   ]
  },
  {
   "cell_type": "code",
   "execution_count": 83,
   "metadata": {},
   "outputs": [
    {
     "name": "stdout",
     "output_type": "stream",
     "text": [
      "Definition Line for sequence 1:\n",
      ">2591237:ncbi:1 [MK211378]\t2591237\tncbi\t1 [MK211378] 2591237\tCoronavirus BtRs-BetaCoV/YN2018D\t\tscientific name\n",
      "30,213 bases:\n",
      "TATTAGGTTTTCTACCTACCCAGGAAAAGCCAACCAACCTCGATCTCTTGTAGATCTGTTCTCTAAACGAACTTTAAAATCTGTGTAGCTGTCGCTCGGCTGCATGCCTAGTGCACCTACGCAGTATAAACAATAATAAATTTTACTGTCGTTGACAAGAAACGAGTAACTCGTCCCTCTTCTGCAGACTGCTTACGGTTCCGTCCGTGTTGCAGTCGATCATCAGCATACCTAGGTTTCGTCCGGGTGTGACCGAAAGGTAAGATGGAGAGCCTTGTTCTTGGTGTCAACGAGAAAACACACGTCCAACTCAGTTTGCCTGTTCTTCAGGTTAGAGACGTGCTAGTGCGTGGCTTCGGGGACTCTGTGGAAGAGGCCCTATCGGAGGCACGTGAACATCTTAAAAATGGCACTTGTGGTTTAGTAGAGCTGGAAAAAGGCGTACTGCCCCAGCTTGAACAGCCCTATGTGTTCATTAAACGTTCTGATGCCTTAAGCACCAATCACGGCCACAAGGTCGTTGAGCTGGTTGCAGAATTGGACGGCATTCAGTACGGTCGTAGCGGTATAACTCTGGGAGTACTCGTGCCACATGTGGGCGAAACCCCAATCGCATACCGCAATGTTCTTCTTCGTAAGAACGGTAATAAGGGAGCCGGTGGCCATAGCTTTGGCATCGATCTAAAGTCTTATGACTTAGGTGACGAGCTTGGTACTGATCCCATTGAAGATTATGAACAAAACTGGAACACTAAGCATGGCAGTGGTGTACTCCGTGAACTCACTCGTGAGCTCAATGGAGGTGCAGTCACTCGCTATGTCGACAACAACTTCTGTGGCCCAGATGGGTACCCTCTTGATTGCATCAAAGATTTTCTCGCTCGCGCGGGTAAGTCAATGTGCACTCTTTCTGAACAACTTGATTACATTGAGTCGAAGAGAGGTGTCTACTGCTGCCGTGACCATGAGCATGAAGTTGCCTGGTTCACTGAGCGCTCTGATAAGAGCTATGAGCATCAGACACCCTTCGAAATTAAGAGTGCCAAGAAATTTGACACTTTCAAAGGGGAATGCCCAAAGTTTGTATTTCCTCTCAATTCAAAAGTCAAAGTCATTCAACCACGTGTTGAAAAGAAAAAGACTGAAGGTTTCATGGGGCGTATACGCTCTGTGTACCCTGTTGCATCTCCACAGGAGTGTAACAACATGCACTTGTCTACCTTGATGAAATGTAATCATTGCGATGAAGTTTCATGGCAGACGTGCGACTTTCTGAAAGCCACTTGTGAACATTGTGGCACTGAAAATTTAGTCACTGAAGGACCTACTACATGTGGGTACCTACCTACTAATGCTGTAGTGAAAATGCCATGTCCTGCCTGTCAAGACCCAGAGATTGGACCTGAGCATAGTGTTGCAGATTATCACAACCACTCAAACATTGAAACTCGACTCCGCAAGGGAGGTAGGACTAGATGTTTTGGAGGCTGTGTGTTTGCCTATGTCGGCTGCTATAACAAGCGTGCCTACTGGGTTCCTCGTGCTAGTGCTGATATTGGTTCAGGCCATACCGGCATTACTGGTGACAACGTGGAGACCTTGAATGAGGATCTCCTCGAGATACTGAGTCGTGAACGTGTTAACATTAACATTGTTGGCGATTTTCAGTTGACTGAAGAGGTTGCCATCATTTTGGCATCTTTTTCTGCTTCTACAAGTGCCTTTATTGACACTATAAAGAGTCTTGATTACAAGTCTTTCAAAGCCATTGTTGAGTCCTGCGGTAACTACAAAGTCACCAAGGGAAAGCCCGTAAAAGGTGCTTGGAACATAGGACAACAGAGATCAGTTTTAACACCACTGTGTGGTTTTCCCTCACAGGCTGCTGGTGTTATCAGATCAATTTTTGCACGCACACTTGATGCAGCAAACCACTCAATTCCTGACTTGCAAAGAGCAGCTGTCACCATACTTGATGGTATTTCTGAACAGTCATTGCGTCTTGTTGATGCCATGGTTTACACCTCAGACCTGATCACCAACAGTGTCATTATTATGGCATATGTAACTGGTGGTCTTGTACAACAGACTTCTCAGTGGTTGTCTAATCTTTTGGGCACTACTGTTGAAAAACTCAGGCCCGTCTTTGCATGGATTGAGGCGAAACTTAGTGCAGGAGTTGAATTTCTCAAGGATGCTTGGGAGATTCTCAAATTTCTCATTACAGGTGTTTTTGACATCGTCAAGGGTCAAATACAGGTCGCTTCAGATAACATCAAGGATTGTGTAAAATGCTTCATTGATGTTGTTAACAAAGCACTCGAAATGTGCATTGACCAAGTCACTATCGCTGGCGCAAAGTTGCGATCACTCAACTTGGGTGAAGTCTTCATCGCTCAAAGCAAGGGACTTTACCGTCAGTGTATACGTGGCAAGGAACAGCTGCAACTACTCATGCCTCTTAAGGCACCAAAAGAAGTCACCTTTCTTGAAGGTGATTCACATGACACAGTACTTACCTCTGAGGAGGTTGTTCTCAAGAACGGTGAACTCGAAGCACTCGAGACGCCTGTTGATAGCTTCACAAATGGAGCTGTCGTTGGCACACCAGTCTGTGTGAATGGCCTCATGCTCTTAGAGATCAAAGACAAAGAACAATATTGCGCATTGTCTCCTGGTTTACTGGCTACAAACAATGTCTTTCGCCTAAAAGGAGGTGCACCAACTAAAGGTGTAACCTTTGGAGAAGATACTGTTTTGGAAGTTCAAGGCTACAAGAATGTGAGAATCACATTTGAGCTTGATGAACGTGTAGACAAAGTGCTTAATGAAAAGTGCTCTGTCTACACTGTTGAATCCGGTACTGAAGTTACTGAGTTTGCATGTGTTGTAGCAGAGGCTGTTGTGAAGACTTTACAACCAGTTTCTGATCTTCTTACCAATATGGGTATTGATCTTGATGAATGGAGTGTGGCTACATTCTATTTGTTTGATGATGCTGGTGAAGAAAAACTTTCTTCACGTATGTACTGTTCCTTTTATCCTCCCGATGATGAGGAGGATTGTGATGAGTATGAGGAAGAAGAGGAAGTCCTGGAAGAATCCTGTGCGCATGAATACGGTACAGAAGAAGACTACCAAGGTCTTCCACTGGAATTTGGTGCCTCAACTGAAATGCAAGTTGAGGAAGAAGAAGAAGAGGACTGGCTTGGTGATGCTACCGAATTATCGGAGCATGAACTAGAATCAGAACCAACACCTGAGGAACCAGTTAACCAGTTTACTGGTTATTTAAAACTTACTGACAATGTTGCCATTAAGTGTGTGGACATCGTGAAGGAGGCGCAAAATGCTAACCCCACGGTGATTGTAAATGCTGCTAACATACATCTGAAACATGGTGGTGGTGTAGCAGGTGCACTCAACAAGGCAACCAACGGTGCCATGCAAAAAGAGAGCGATGATTACATTAAGCTAAATGGTCCTCTCGCAGTTGGAGGTTCATGTTTGCTTTCTGGACATAATCTTGCTAAGAAGTGTCTGCATGTTGTTGGACCTAACCTAAATGCAGGTGAGGACATCCAGCTTCTTAAGGCAGCATATGAAAATTTCAATTCACAGGACACCTTACTTGCACCATTGTTGTCAGCAGGCATATTTGGTGCTAAACCACTTCAGTCTTTACAAGTGTGCGTACAGACAGTTCGTACACAGGTTTACATTGCAGTCAATGACAAAGCTCTTTATGAGCAGGTTGTCATGGATTACCTTGATAGCCTGAAGCCTAGAGTGGAAGCACCTAAACAAGAGGAGCCACCAAAGACAGAAGATCCTAAAATTGAGGAGAAATCTGTCGTACAGAAGCCTGTCGATGTGAAGCCAAAAATTAAGGCTTGCATTGATGAGGTTACCACAACACTGGAAGAAACTAAGTTTCTTACCAATAAGTTACTCTTGTTTGCTGACATCAATGGTAAGCTTTACCATGATTCTCACAACATGCTTAGAGGTGAAGATATGTCTTTCCTTGAGAAGGATGCACCTTACATGGTAGGTGATGTTATCACTAGTGGTGATATCACTTGTGTTGTAATACCCTCCAAAAAGGCTGGTGGCACTACAGAGATGCTCTCAAGAGCTTTGAAGAAAGTGCCAGTTGATGAGTATATAACCACATACCCTGGACAAGGATGTGCTGGTTATACACTTGAGGAAGCTAAGACTGCTCTTAAGAAATGCAAATCTGCATTTTACGTGTTACCTTCAGAAACACCTAATGCTAAGGAGGAGATTCTAGGAACTGTGTCCTGGAATTTGAGAGAAATGCTTGCTCATGCTGAAGAGACAAGAAAATTAATGCCTATATGCATGGATGTTAGAGCCATAATGGCCACCATCCAACGCAAGTACAAAGGAATTAAAGTTCAAGAAGGCATTGTTGACTATGGAGTCCGATTCTTCTTTTATACTAGTAAAGAGCCTGTAGCTTCTATCATTACGAAGCTGAACTCTCTAAATGAGCCACTTGTCACAATGCCAATTGGTTATGTGACACATGGTTTTAATCTTGAAGAGGCTGCGCGCTGTATGCGTTCTCTTAAAGCTCCTGCCGTAGTGTCAGTATCATCACCAGATGCTGTTACTACATATAATGGATACCTCACTTCGTCATCAAAGACATCTGAGGAGCACTTTGTGGAAACAGTTTCTTTGGCTGGCTCTTACAGAGATTGGTCCTATTCAGGACAGCGTACAGAGTTAGGTGTTGAGTTTCTTAAGCGTGGTGACAAAATTGTGTACCACACTTTGGAGAGCCCCGTCGAGTTTCATCTTGACGGTGAAGTTCTTCCACTTGACAAACTAAAGAGTCTCTTATCCCTACGGGAGGTTAAGACTATAAAAGTGTTCACAACTGTGGACAACACTAATCTCCACACACAGCTTGTGGATATGTCTATGACATATGGACAGCAGTTTGGTCCAACATACTTGGATGGTGCTGATGTTACAAAAATTAAACCTCATGTAAATCATGAGGGTAAGACTTTCTTTGTACTACCTAGTGATGACACACTACGTAGTGAAGCTTTCGAGTACTACCACACTCTTGATGAGAGTTTTCTTGGTAGATACATGTCTGCTTTAAACCACACAAAGAAATGGAAATTTCCTCAAGTTGGTGGTTTAACTTCAATTAAATGGGCTGATAACAATTGTTATTTGTCTAGTGTTTTATTAGCACTTCAACAGATTGAAGTCAAATTCAATGCACCAGCACTTCAAGAGGCCTATTATAGAGCCCGTGCTGGTGATGCTGCTAACTTTTGTGCACTCATACTCGCTTACAGTAATAAAACTGTTGGCGAGCTTGGTGATGTCAGAGAAACTATGACCCATCTTCTACAGCATGCTAATTTGGAATCTGCAAAGCGAGTTCTTAATGTGGTGTGTAAACATTGCGGTCAGAAAACTACTACCTTAATGGGTGTAGAAGCTGTGATGTATATGGGTACTCTATCTTATGATAATCTTAAGACAGGTGTTTCCATTCCATGTGTGTGTGGTCGCGATGCTACACAATATCTAGTACAACAAGAGTCTTCTTTTGTTATGATGTCTGCACCACCTGCTGAATATAAATTACAGCAAGGTACATTCTTATGTGCGAATGAGTACACTGGTAACTATCAGTGTGGTCATTACACTCATATAACTGCTAAGGAGACCCTCTATCGTATTGACGGAGCTCACCTTACAAAGATGTCAGAGTACAAAGGACCAGTGACTGATGTTTTCTATAAGGAAACATCTTACACTACAACCATCAAGCCTGTGTCATATAAACTCGATGGAGTTACTTACACAGAGATTGAACCAAAATTGGATGGGTATTATAAAAAGGATAATGCTTACTATACAGAGCAGCCTATAGACCTTGTACCAACTCAACCACTACCAAATGCGAGTTTTGACAATTTCAAACTCACATGTTCTAATACAAAATTCGCTGATGACTTAAATCAAATGACAGGCTTCACAAAGCCAGCTTCACGAGAGCTATCTGTCACATTCTTTCCAGACTTGAATGGCGATGTAGTGGCTATTGACTATAGACACTATTCAGCGAGTTTCAAGAAAGGTGCTAAATTACTGCATAAGCCAATTGTTTGGCACATTAACCAGGCTACAACCAAGACAACGTTTAAACCAAATACTTGGTGTTTACGTTGTCTTTGGAGTACAAAACCAGTAGATACTTCAAATTCATTTGAAGTTCTGGCAGTAGAAGACACACAAGGAATGGACAATCTTGCTTGTGAAAGTCAACAACCCACCTCTGAAGAAGTAGTGGAAAATCCTACCATACAGAAGGAAGTCCTAGAGTGTGACGTGAAAACTACCGAAGTTGTAGGCAATGTCATACTTAAACCATCAGATGAAGGTGTTAAAGTAACACAAGAGTTAGGTCATGAGGATCTTATGGCTGCCTATGTGGAAAACACAAGCATTACCATTAAGAAACCTAATGAGCTTTCATTAGCCCTAGGTTTAAAAACAATTGCCACTCATGGTATTGCTGCAATTAATAGTGTGCCTTGGAGTAAAATTTTGGCTTATGTCAAACCATTCTTAGGACAGGCAGCAATTACAACATCAAACTGCGCTAAGAGATTAGCGCAATGTGTGTTTAACAACTATATGCCTTATGTGCTTACACTACTGTTTCAATTGTGTACTTTTACCAAAAGTACAAATTCTAGAATTAGAGCTTCACTACCTACGACTATTGCTAAAAATAGTGTTAAGGGTGTAGCTAGATTATGTTTGGATGCTGTCATCAATTATGTAAAGTCACCCAAATTTTCTAAATTGTTCACTATTGCAATGTGGCTATTATTGTTAAGCATTTGCTTAGGTTCACTAATCTATGTAACTGCAGCTTTAGGTGTATTATTGTCCAACTTTGGAGCTCCTTCTTATTGTAGTGGCGTTAGAGAATCGTACCTCAATTCCTCTAATGTTACTACTATGGATTTCTGTGAAGGTTCTTTTCCTTGCAGTGTTTGTTTAAGTGGATTAGATTCTCTTGATTCCTATCCAGCTCTTGAAACCATTCAGGTGACGATCTCATCGTACAAGCTAGACTTGACAATTTTAGGTCTGGCTGCTGAGTGGTTTTTGGCATATATGTTGTTTACAAAATTCTTTTATTTACTAGGTCTTTCAGCTATAATGCAGGTGTTCTTTGGCTATTTTGCTAGTCATTTCATCAGCAATTCTTGGCTCATGTGGTTTATCATTAGCATTGTACAAATGGCACCCGTTTCTGCAATGGTTAGGATGTACATCTTCTTTGCTTCTTTTTACTACATATGGAAGAGCTATGTTCATATTATGGATGGTTGTACCTCTTCGACTTGCATGATGTGCTATAAGCGCAATCGTGCCACACGCGTTGAGTGTACAACTATTGTTAATGGCATGAAGAGATCTTTCTATGTCTATGCAAATGGAGGCCGTGGCTTCTGCAAGACTCACAATTGGAATTGTCTCAATTGTGACACATTTTGCACTGGTAGTACATTCATTAGTGATGAAGTTGCTCGTGATTTGTCACTCCAGTTTAAAAGACCAATTAACCCTACTGACCAGTCATCGTATATTGTTGATAGTGTTGCTGTGAAAAATGGCGCACTTCACCTCTACTTTGACAAGGCTGGTCAAAAGACTTATGAGAGACACCCACTCTCCCATTTTGTCAATTTAGACAATTTGAGAGCTAACAACACTAAAGGTTCACTACCTATTAATGTCATAGTCTTTGATGGCAAGTCCAAATGCGACGAGTCTGCTGCTAGGTCTGCATCTGTGTACTACAGTCAGCTAATGTGCCAACCTATTCTGTTGCTTGACCAAGCTCTCGTATCAGATGTTGGAGATAGTACTGAAGTTTCTGTTAAGATGTTTGATGCTTATGTCGACACCTTTTCAGCAACTTTTAGTGTTCCTATGGAAAAACTTAAGGTACTCGTTGCTACAGCTCATAGCGAGCTGGCAAAGGGTGTAGCTTTAGATGGTGTCCTTTCTACATTTGTGTCAGCAGCCCGTCAAGGTGTTGTTGATACTGATGTTGACACAAAGGATGTCATTGAATGTCTCAAACTTTCACATCACTCCGACTTGGAAGTGACAGGTGACAGTTGTAACAACTTCATGCTCACCTATAACAAAGTTGAAAACATGACGCCTAGAGATCTTGGCGCATGTATTGATTGTAATGCAAGGCATATTAATGCTCAAGTAGCAAAAAGTCACAATGTTTCACTCATCTGGAATGTAAAAGACTATATGTCTTTATCTGAACAGCTGCGTAAACAAATTCGTAGTGCTGCTAAGAAGAACAACATACCTTTTAGACTAACTTGTGCTACAACTAGACAGGTTGTCAATGTCATAACTACTAAAATCTCACTCAAGGGTGGTAAGATTGTTAGTACTTGGTTTAAACTTATGCTTAAGGCCACATTATTGTGCGTTTTTGCTGCATTGGTCTGTTACATCGTTATGCCAGTACATACATTGTCTGCTCATGATGGTTATACAAATGAAATCATTGGTTACAAAGCCATTCAGGATGGTGTCACTCGTGACATCGTTTCTACTGATGATTGTTTTGCAAACAAACATGCTGGTTTTGACTCATGGTTTAGCCAGCGTGGTGGTTCATACAAAAATGACAAAAGCTGCCCTGTAGTAGCTGCTATCATTACAAGAGAGATTGGTTTCATAGTGCCTGGCTTACCAGGTACTGTGTTGAGAGCAATCAATGGTGACTTCTTGCATTTTCTACCTCGTGTTTTTAGTGCTGTTGGCAACATTTGCTACACACCTTCCAAACTCATTGAGTATAGTGATTTTGCTACCTCTGCTTGCGTTCTTGCTGCTGAGTGTACAATTTTTAAGGATGCTATGGGCAAACCTGTGCCATATTGTTATGACACTAATTTGCTAGAGGGTTCTATTTCTTATAGTGAGCTTCGTCCAGACACTCGTTATGTCCTTATGGATGGTTCTATCATACAGTTTCCTAACACTTACCTGGAGGGTTCTGTTAGAGTGGTAACAACTTTTGATGCTGAGTACTGTAGACATGGTACATGCGAAAGGTCAGAAGCTGGTATTTGCTTATCTACCAGTGGTAGATGGGTTCTTAATAATGAACATTATAGAGCTCTACCTGGAGTATTCTGTGGTGTTGATGCAATGAATCTTATAGCAAACATCTTTACTCCCCTTGTGCAACCTGTGGGTGCTTTAGATGTGTCTGCTTCAGTAGTGGCTGGTGGTATTATTGCCATATTGGTGACTTGTGCTGCCTACTACTTTATGAAATTCAGACGTGCTTTTGGTGAGTACAACCATGTTGTTGCTGCTAATGCACTTTTGTTTTTGATGTCTTTCACTATACTTTGTCTGGCACCAGCTTATAGCTTTTTGCCAGGAGTCTACTCAGTCTTTTACTTGTACTTGACATTCTATTTCACTAATGATGTTTCGTTCTTGGCTCACCTTCAATGGTTTGCCATGTTTTCTCCTATTGTGCCTTTTTGGATAACAGCAATCTATGTATTCTGTATTTCTCTGAAGCACTGCCATTGGTTCTTTAACAACTATCTTAGGAAAAGAGTCATGTTTAATGGAGTTACATTTAGTACCTTCGAGGAGGCTGCTTTGTGTACCTTTTTGCTCAATAAGGAAATGTACCTAAAATTGCGTAGTGAGACACTGTTGCCACTTACACAGTACAACAGGTATCTTGCTCTATATAACAAGTACAAGTATTTCAGTGGAGCCTTAGATACTACCAGCTATCGTGAAGCAGCTTGCTGCCACTTAGCAAAGGCTCTAAATGACTTTAGCAATTCAGGTGCTGATGTTCTCTACCAACCACCACAGACATCAATCACTTCTGCTGTTCTGCAGAGTGGTTTTAGGAAAATGGCATTCCCATCAGGCAAAGTTGAAGGGTGCATGGTACAAGTAACCTGTGGAACTACAACTCTTAATGGATTGTGGTTAGATGACACAGTATACTGTCCAAGACATGTCATTTGCACAGCAGAAGACATGCTTAATCCTAACTATGAAGATCTGCTCATTCGCAAATCCAACCATAGCTTCCTTGTTCAGGCTGGCAATGTACAACTCCGAGTTATCGGCCATTCTATGCAAAATTGTCTGCTTAGGCTTAAAGTTGATACCTCTAACCCTAAGACACCCAAGTATAAATTTGTCCGTATTCAACCTGGTCAAACATTTTCAGTTCTAGCATGCTACAATGGTTCACCATCTGGTGTTTATCAGTGTGCCATGAGACCTAACCATACCATTAAAGGTTCTTTCCTTAATGGATCATGTGGTAGTGTTGGTTTTAACATTGATTATGATTGCGTGTCTTTCTGCTATATGCATCACATGGAGCTTCCAACAGGAGTACACGCTGGTACTGACTTAGAAGGTAAATTCTATGGTCCATTTGTTGACAGACAAACTGCACAGGCTGCAGGTACAGACACAACCATAACATTAAATGTTTTGGCATGGCTGTATGCTGCTGTTATCAATGGTGATAGGTGGTTTCTTAATAGATTCACCACTACTTTGAATGACTTTAACCTTGTGGCAATGAAGTACAACTATGAACCTTTGACACAAGATCATGTTGACATATTGGGACCTCTTTCTGCTCAAACAGGAATTGCTGTCTTAGATATGTGTGCTGCTTTGAAAGAGCTGCTGCAGAATGGTATGAATGGTCGTACTATCCTTGGTAGCACTATTTTAGAAGATGAGTTTACACCATTTGATGTTGTTAGACAATGCTCTGGTGTTACCTTCCAAGGTAAGTTCAAGAAAATTGTTAAAGGCACTCATCATTGGATGCTTTTAACTTTCTTGACATCACTATTGATTCTTGTCCAAAGTACTCAGTGGTCACTGTTTTTCTTTGTTTACGAGAATGCTTTCTTGCCATTTACTCTTGGTATTATGGCAATTGCTGCATGTGCTATGCTGCTTGTTAAGCATAAGCACGCATTCTTGTGCTTGTTCCTGTTACCTTCTCTTGCAACAGTTGCTTACTTTAATATGGTCTACATGCCTGCTAGCTGGGTGATGCGTATTATGACATGGCTTGAATTGGCTGACACTAGCTTGTCTGGTTATCGGCTTAAGGACTGTGTTATGTATGCTTCAGCTTTAGTTTTGCTTATTCTCATGACAGCTCGCACTGTTTATGATGATGCTGCTAGACGTGTTTGGACACTGATGAATGTCATTACACTTGTTTACAAAGTCTACTATGGTAATGCTTTAGATCAAGCTATTTCCATGTGGGCCTTAGTTATTTCTGTAACCTCTAACTATTCTGGTGTCGTCACGACTATCATGTTTTTAGCTAGAGCTATAGTGTTTGTGTGTGTTGAGTATTACCCATTGTTATTTATTACTGGCAACACCTTACAGTGTATCATGCTTGTTTATTGTTTCTTAGGCTATTGTTGCTGCTGCTATTTTGGCCTTTTCTGTTTACTCAACCGTTACTTCAGGCTTACTCTTGGTGTTTATGACTACTTGGTCTCTACACAAGAATTTAGGTATATGAACTCCCAGGGGCTTTTGCCTCCTAAGAGTAGTATTGATGCTTTCAAGCTTAACATTAAGTTGTTAGGTATTGGAGGTAAACCATGTATCAAGGTTGCTACTGTACAGTCTAAAATGTCTGACGTAAAGTGCACATCTGTGGTACTGCTCTCGGTTCTTCAACAACTTAGAGTAGAGTCATCTTCTAAATTGTGGGCACAATGTGTACAACTCCACAATGATATTCTTCTTGCAAAAGACACAACTGAAGCTTTCGAGAAGATGGTTTCTCTTTTGTCTGTTTTGCTATCCATGCAGGGTGCTGTAGACATTAACAAGTTGTGCGAGGAAATGCTCGACAACCGTGCTACTCTTCAGGCTATTGCTTCAGAATTTAGTTCTTTACCATCATATGCCGCTTATGCCACTGCCCAAGAGGCCTATGAGCAGGCTGTAGCTAATGGTGATTCTGAAGTCGTTCTCAAAAAGTTAAAGAAATCTTTGAATGTGGCTAAATCTGAGTTTGACCGTGATGCTGCCATGCAACGCAAGTTGGAAAAGATGGCAGATCAGGCTATGACCCAAATGTACAAACAGGCAAGATCTGAGGACAAGAGGGCAAAAGTAACTAGTGCTATGCAAACAATGCTTTTCACTATGCTTAGGAAGCTTGATAATGATGCACTTAACAACATTATCAACAATGCGCGTGATGGTTGTGTTCCACTCAACATCATACCATTGACTACAGCAGCCAAACTTATGGTTGTTGTCCCTGATTATGGTACCTACAAGAACACTTGTGATGGTAACACTTTTACATATGCATCTGCACTCTGGGAAATCCAGCAAGTTGTTGATGCAGATAGTAAGATTGTTCAACTTAGTGAAATTAACATGGATAATTCACCAAATTTGGCTTGGCCTCTTATTGTTACAGCTCTAAGAGCCAACTCAGCTGTCAAACTACAGAATAATGAACTGAGTCCGGTAGCACTACGACAGATGTCTTGTGCGGCTGGTACCACACAAACAGCTTGTACTGATGACAATGCACTTGCCTACTATAACAATTCAAAGGGAGGTAGATTTGTGCTGGCATTACTATCAGACCACCAAGATCTCAAATGGGCTAGATTCCCTAAGAGTGATGGTACAGGTACAATTTACACAGAACTGGAACCACCTTGTAGGTTTGTTACAGACACACCAAAAGGGCCTAAAGTGAAATACTTGTACTTCATCAAAGGCTTAAATAACCTAAATAGAGGTATGGTGCTGGGCAGTTTAGCTGCTACAGTACGTCTTCAGGCTGGAAATGCTACAGAAGTACCTGCCAATTCAACTGTGCTTTCCTTCTGTGCCTTTGCAGTAGACCCTGCTAAAGCATATAAGGATTACCTAGCAAGTGGAGGACAACCAATCACCAACTGTGTGAAGATGTTGTGTACACACACTGGTACAGGACAGGCAATTACTGTAACACCAGAAGCTAACATGGACCAAGAGTCCTTTGGTGGTGCTTCATGCTGTCTGTATTGTAGATGCCACATTGATCATCCAAATCCTAAAGGATTTTGTGACTTGAAAGGTAAGTACGTCCAAATACCTACCACTTGTGCTAATGACCCAGTGGGTTTTACACTTAGAAACACAGTCTGTACCGTCTGCGGAATGTGGAAAGGTTATGGCTGTAGTTGTGATCAACTCCGCGAACCCATGATGCAGTCTGCGGATGCGTCAACGTTTTTAAACGGGTTTGCGGTGTAAGTGCAGCCCGTCTTACACCGTGCGGCACAGGCACTAGCACTGATGTCGTCTACAGGGCTTTTGATATTTACAACGAAAAAGTTGCTGGTTTTGCAAAGTTCCTAAAAACTAATTGCTGCCGCTTCCAGGAGAAGGATGAGGAAGGCAATTTATTAGACTCTTACTTTGTAGTTAAGAGGCATACTATGTCTAACTACCAACATGAAGAGACTATTTACAACTTGGTTAAAGATTGTCCAGCGGTTGCTGTTCATGACTTTTTCAAGTTTAGAGTAGATGGTGACATGGTACCACATATATCACGTCAGCGTCTAACTAAATACACAATGGCTGATTTAGTCTATGCTCTACGTCATTTTGACGAGGGTAATTGTGACACATTAAAAGAAATACTCGTCACATACAATTGTTGTGATGATGATTATTTCAATAAGAAGGATTGGTATGACTTCGTAGAGAATCCTGACATCTTACGCGTATATGCTAACTTAGGTGAACGTGTACGCCAAGCATTATTAAAGACTGTACAATTCTGCGATGCTATGCGTGATGCAGGCATTGTAGGCGTACTGACATTAGACAATCAGGATCTTAATGGGAACTGGTACGACTTCGGTGATTTCGTACAAGTAGCACCAGGCTGCGGAGTTCCTATTGTGGATTCATACTACTCATTGCTGATGCCCATCCTCACTCTGACTAGGGCATTGGCTGCTGAGTCCCATATGGATGCTGATCTCGCAAAACCACTTATTAAGTGGGATTTGCTGAAATATGATTTTACGGAAGAGAGACTTTGTCTCTTCGACCGTTATTTTAAATATTGGGACCAGACATACCATCCCAATTGTATTAACTGTTTGGATGATAGGTGTATCCTTCATTGTGCAAACTTTAATGTGTTATTTTCTACTGTGTTTCCACCTACAAGTTTTGGACCACTAGTAAGAAAAATATTTGTAGATGGTGTTCCTTTTGTTGTTTCAACTGGATACCATTTTCGTGAGTTAGGAGTTGTACATAATCAGGATGTAAACTTACATAGCTCGCGTCTCAGTTTCAAGGAACTTTTAGTGTATGCTGCTGATCCAGCCATGCATGCAGCTTCTGGCAATTTATTGCTAGATAAACGCACTACATGCTTTTCAGTAGCTGCACTAACAAACAATGTTGCTTTTCAAACTGTCAAACCCGGTAATTTTAACAAAGACTTTTATGACTTTGCTGTGTCTAAAGGTTTCTTTAAGGAAGGAAGTTCTGTTGAACTAAAACACTTCTTCTTTGCTCAGGATGGCAATGCTGCTATCAGTGATTATGACTATTATCGTTATAATCTGCCAACAATGTGTGATATCAGACAACTCCTATTCGTAGTTGAAGTTGTTGACAAATACTTTGATTGTTACGATGGTGGCTGTATTAATGCCAACCAAGTAATCGTTAACAATCTGGACAAATCAGCTGGTTTTCCATTTAATAAATGGGGTAAGGCTAGACTTTATTATGACTCAATGAGTTATGAGGATCAAGATGCACTTTTCGCGTATACTAAGCGTAATGTCATCCCTACTATAACTCAAATGAATCTTAAGTACGCCATTAGTGCAAAGAATAGAGCTCGCACCGTAGCTGGTGTCTCTATCTGTAGTACTATGACAAATAGACAGTTTCATCAGAAATTATTGAAGTCAATAGCCGCCACTAGAGGAGCTACTGTGGTAATTGGAACAAGCAAATTTTACGGTGGCTGGCATAACATGTTAAAAACTGTTTACAGTGATGTAGAAACTCCACACCTTATGGGTTGGGATTATCCAAAATGTGACAGAGCCATGCCTAACATGCTTAGGATAATGGCCTCTCTTGTTCTTGCTCGCAAACATAGCACTTGCTGTAACTTGTCACACCGTTTCTACAGGTTAGCTAATGAGTGTGCGCAAGTATTAAGTGAGATGGTCATGTGTGGCGGCTCACTATATGTTAAACCAGGTGGAACATCATCCGGTGATGCTACAACTGCTTATGCTAATAGTGTCTTTAACATTTGTCAAGCTGTTACAGCTAATGTAAATGCACTCCTTTCAACTGATGGTAACAAGATAGCTGACAAGTACGTCCGCAATCTACAACACAGGCTTTATGAGTGTCTCTATAGAAACAGGGATGTTGATCATGAATTCGTGGATGAGTTTTACGCATACCTGCGTAAACATTTCTCCATGATGATTCTTTCTGATGATGCCGTTGTGTGCTATAACAGTAACTATGCGGCTCAAGGTTTAGTAGCTAGCATTAAGAACTTTAAGGCAGTTCTTTATTATCAAAATAATGTGTTCATGTCTGAGGCAAAATGTTGGACTGAGACTGACCTTACTAAAGGACCTCACGAATTTTGCTCACAGCATACAATGCTAGTTAAACAAGGAGATGACTACGTGTACCTGCCTTACCCAGATCCATCAAGAATATTAGGCGCGGGCTGTTTTGTCGATGATATTGTCAAAACAGATGGTACACTTATGATTGAGAGGTTTGTGTCATTAGCTATTGATGCCTACCCTCTTACTAAACATCCTAATCAGGAGTATGCTGATGTCTTTCACTTGTATTTACAATACATTAGGAAGTTACATGATGAGCTTACTGGTCACATGTTAGACATGTATTCTGTAATGCTAACCAATGACAACACCTCACGGTATTGGGAACCTGAGTTTTATGAAGCTATGTACACACCACACACAGTCTTGCAGGCTGTAGGTGCTTGTGTATTGTGTAATTCACAGACTTCACTTCGTTGCGGTGCCTGCATTAGGAGACCATTCCTGTGTTGCAAGTGCTGCTATGACCATGTCATTTCAACATCACATAAATTAGTGTTGTCTGTTAATCCCTATGTTTGCAATGCACCAGGTTGTGATGTCACTGACGTGACACAACTATATCTAGGAGGTATGAGCTATTACTGCAAGTCACATAAGCCTCCCATTAGTTTTCCATTGTGTGCTAATGGTCAGGTTTTTGGTTTATACAAGAACACATGTGTAGGTAGTGACAATGTCACTGACTTCAATGCGATAGCAACATGTGATTGGACTAATGCTGGCGATTACATACTTGCCAACACTTGTACTGAGAGACTCAAACTCTTTGCAGCAGAAACACTCAAAGCTACTGAGGAAACATTCAAGCTGTCATATGGTATTGCCACTGTACGTGAAGTACTCTCTGACAGAGAATTGCATCTTTCATGGGAGGTTGGAAAACCTAGACCACCATTGAATAGAAATTATGTCTTTACTGGTTACCGTGTAACTAAAAATAGTAAAGTACAGATTGGAGAGTACACTTTTGAAAAGGGTGACTACGGTGACGCTGTTGTGTACAGAGGTACTACAACATACAAATTGAATGTTGGTGATTACTTTGTGTTAACATCTCACACTGTAATGCCACTCAGTGCACCTACTCTAGTGCCACAAGAGCACTATGTTAGAATTACTGGCTTGTACCCAACACTCAACATCTCAGATGAGTTTTCTAGCAATGTTGCAAATTATCAAAAGGTCGGTATGCAAAAGTACTCTACACTCCAAGGACCACCAGGTACTGGTAAGAGTCATTTTGCCATTGGACTTGCTCTCTACTACCCATCTGCTCGCATAGTGTATACAGCTTGCTCTCATGCGGCTGTTGATGCCCTATGCGAAAAGGCATTAAAATACTTGCCTATAGATAAATGTAGTAGGATTATACCTGCGCGTGCGCGCGTAGAGTGTTTTGACAAATTCAAAGTGAATTCAACACTAGAACAGTATGTTTTCTGCACTGTAAATGCATTGCCAGAAACAACTGCTGACATTGTAGTCTTTGATGAAATCTCTATGGCTACCAATTATGACTTGAGTGTCGTCAATGCTAGACTTCGTGCAAAACACTATGTCTACATTGGTGATCCTGCTCAACTACCAGCTCCTCGCACATTGCTGACCAAAGGCACACTAGAACCAGAATACTTCAATTCAGTGTGCAGACTTATGAAAACAATAGGTCCAGACATGTTCCTTGGAACTTGTCGCCGTTGTCCTGCTGAAATTGTCGACACTGTGAGTGCTTTAGTTTATGATAATAAGCTAAAGGCACACAAGGAGAAGTCAGCTCAATGCTTCAAAATGTTTTACAAGGGTGTTATTACACATGATGTTTCATCTGCAATTAACAGACCTCAAATAGGCGTTGTAAGAGAATTTCTTACACGCAATCCTGCTTGGAGAAAAGCTGTTTTTATCTCACCTTATAATTCACAGAATGCTGTAGCTTCAAAAATCTTAGGATTGCCTACGCAGACTGTTGATTCCTCACAGGGTTCTGAGTATGACTATGTCATATTCACGCAAACTACCGAAACAGCACACTCTTGCAATGTCAACCGCTTTAATGTGGCTATCACAAGAGCAAAAATTGGCATTTTGTGCATAATGTCTGATAGAGATCTTTATGACAAACTGCAATTTACAAGTCTAGAAGTACCACGCCGCAATGTGGCTACATTACAGGCAGAAAATGGAACTGGACTTTTTAAGGACTGTAGTAAGATCATTACCGGTCTTCATCCAACACAGGCACCTACACACCTCAGCGTTGACACAAAATTTAAGACTGAGGGACTATGTGTTGACATACCAGGCATACCAAAGGACATGACCTACCGTAGACTCATCTCTATGATGGGTTTTAAAATGAATTACCAAGTCAATGGTTACCCTAATATGTTTATCACCCGCGAAGAAGCTATTCGTCACGTTCGTGCATGGATTGGCTTCGACGTAGAGGGCTGTCATGCAACTAGAGATGCTGTGGGTACTAACCTACCTCTCCAGCTAGGATTTTCTACAGGTGTTAACTTAGTAGCTGTACCGACTGGCTATGTTGACACTGAAAATAATACAGAATTCACCAGAGTTAATGCAAAACCTCCACCAGGTGACCAGTTTAAACATCTTATACCACTCATGTACAAAGGCTTGCCCTGGAATGTAGTGCGTATTAAGATAGTACAAATGCTCAGTGATACACTGAAAGGATTGTCAGACAGAGTCGTGTTTGTCCTTTGGGCGCATGGCTTTGAGCTTACATCAATGAAGTACTTTGTCAAGATTGGACCTGAAAGAACGTGCTGTCTGTGTGACAAACGTGCAACTTGCTTTTCTACTTCATCAGATACTTATGCCTGCTGGAATCATTCTGTGGGTTTTGACTATGTCTACAACCCATTTATGATTGATGTTCAGCAGTGGGGTTTTACGGGTAACCTTCAGAGTAACCACGACCAACATTGTCAAGTGCATGGAAATGCACATGTGGCTAGTTGTGATGCTATCATGACTAGATGCCTGGCGGTCCATGAGTGCTTTGTTAAGCGCGTTGATTGGTCTGTTGAATACCCCATTATAGGAGATGAACTGAAGATTAATTCTGCTTGCAGAAAAGTACAGCATATGGTTGTAAAGTCTGCATTGCTTGCTGATAAGTTTCCAGTTCTTCATGACATTGGAAATCCAAAGGCTATCAAGTGTGTGCCTCAGGCTGAAGTAGAGTGGAAGTTCTATGACGCTCAGCCATGCAGTGACAAAGCCTACAAAATAGAGGAACTTTTCTATTCTTATGCTACACATCATGATAAATTCACTGATGGTGTTTGTTTGTTTTGGAACTGTAACGTCGATCGTTACCCAGCCAATGCAATTGTGTGTAGGTTTGACACGAGAGTTTTGTCAAACTTGAACTTACCAGGTTGTGATGGTGGTAGCTTGTATGTGAATAAGCATGCATTCCACACTCCAGCTTTTGATAAAAGTGCATTTACCAATTTAAAGCAATTGCCTTTCTTTTATTATTCTGATAGTCCTTGTGAGTCTCATGGCAAACAAGTAGTGTCAGATATTGATTATGTACCACTTAAATCAGCTACGTGTATTACACGTTGCAATTTGGGAGGTGCTGTTTGCAGACACCATGCAAATGAGTACCGACAGTACTTAGATGCATACAACATGATGATTTCTGCTGGATTTAGCCTATGGATTTACAAACAGTTTGATACTTATAACCTGTGGAATACATTTACCAGGTTACAAAGCTTAGAAAATGTGGCTTACAACGTTGTTAATAAAGGACACTTTGATGGACAAGCTGGTGAAGCGCCTGTTTCCATCATCAATAATGCTGTTTACACAAAGGTAGATGGTGTTGATGTAGAAATCTTTGAGAACAAGACAACACTTCCTGTTAATGTTGCATTTGAGCTTTGGGCTAAGCGTAACATTAAACCAGTGCCAGAGATTAAGATACTCAATAATTTGGGTGTCGACATCGCTGCTAATACTGTGGTCTGGGACTACAAGAGAGAAGCACCAGCACATATGTCAACAATAGGTGTCTGCACAATGACTGACATTGCTAAGAAACCTACTGAGAGTGCTTGTTCCTCGCTTACTGTCTTATTTGATGGTAGAGTGGAAGGACAGGTAGACCTTTTTAGAAATGCCCGTAATGGTGTTTTAATAACAGAAGGTTCAGTTAAAGGTTTAACACCTTCAAAAGGACCAGCACAAGCTAGTGTCAATGGAGTCACATTAATTGGAGAATCAGTAAAAACACAGTTCAACTATTTTAAGAAAGTAGATGGCATTATTCAACAGTTGCCTGAAACCTACTTTACTCAGAGCCGAGACTTAGAGGATTTCAAGCCCAGATCACAAATGGAAACTGACTTTCTTGAGCTCGCTATGGATGAATTCATACAGCGGTATAAGCTAGAGGGTTATGCCTTCGAACATATCGTTTATGGGGATTTCAGTCATGGACAACTTGGCGGCCTTCATCTAATGATTGGTTTAGCCAAGCGCTCACAAGATTCACCGCTTAAATTAGAGGATTTTATCCCTATGGATAGCACAGTGAAAAATTACTTCATAACAGACGCACAAACAGGTTCATCAAAATGTGTGTGTTCTGTTATTGACCTCTTACTCGATGACTTTGTTGAGATAATAAAGTCACAGGATTTGTCAGTAATCTCTAAGGTAGTCAAGGTTACAATTGACTACGCTGAGATTTCATTCATGCTTTGGTGTAAAGATGGTCATGTCGAAACCTTCTACCCAAAATTACAAGCAAGTCAAGCGTGGCAACCGGGGGTTGCAATGCCTAACTTGTACAAGATGCAAAGAATGCTTCTTGAAAAGTGTGACCTTCAGAATTATGGTGAAAATGCTGTCATACCAAAAGGAATAATGATGAATGTCGCAAAATACACTCAACTGTGTCAATACTTAAATACACTTACTTTAGCTGTACCCTACAACATGAGAGTTATTCACTTTGGTGCGGGCTCTGATAAAGGAGTCGCACCTGGTACAGCTGTACTCAGACAATGGTTGCCAACTGGCACACTACTTGTCGATTCAGACCTTAATGACTTCGTCTCTGACGCGGATTCTACTTTAATTGGAGACTGTGCAACAGTACATACGGCTAATAAATGGGACCTCATTATTAGCGATATGTATGACCCTAAGACCAAACACGTGAAAAAAGAGAATGACTCAAAAGAAGGGTTTTTCACTTACCTGTGTGGATTTATAAAGCAAAAGCTAGCCCTGGGCGGTTCTGTGGCTGTGAAGATAACAGAGCATTCTTGGAATGCTGATCTTTACAAGCTTATGGGACATTTCTCATGGTGGACAGCTTTTGTTACAAATGTAAATGCATCATCATCAGAAGCATTTTTAATTGGGGCTAACTATCTTGGCAAGCCGAAGGAACAAATTGACGGCTATACCATGCATGCTAACTACATTTTCTGGAGGAACACAAACCCTATCCAATTGTCTTCCTATTCACTTTTTGACATGAGTAAATTTCCCCTTAAGTTAAGAGGGACTGCTGTTATGTCTTTAAAAGAGAATCAAATCAATGACATGATTTATTCTTTGCTTGAAAAAGGTAGACTCATCATTAGAGAAAACAACAGAGTTGTGGTCTCGAGTGACGTGCTTGTTAATAATTAAACGAACATGAAAGTTTTGATTGTTCTTTTATGCCTCGGCCTTGTTACTGCTCAAGATGGCTGTGGGCATATTAGCACTAAACCTCAACCATTATTGGATAAATTTTCTTCTTCGCGTAGGGGTGTCTATTATAATGATGACATTTTTCGTTCAGATGTTTTACATCTTACTCAGGATTATTTTCTACCATTTGACACCAATCTAACGCGTTATTTGTCTTTTAACATGGATTCTGCAACAAAGGTTTACTTTGATAATCCAACATTACCATTTGGTGACGGCATTTATTTTGCAGCCACTGAAAAATCTAATGTTGTTAGAGGCTGGATTTTTGGTTCCACTATGGATAACACCACGCAATCTGCCATTATAGTCAATAATTCCACGCATATTATTATACGTGTGTGTTATTTTAATTTATGTAAAGAACCCATGTATGCTATCTCGAATGAGCAGCATTACAAATCATGGGTGTATCAAAATGCATATAATTGCACATATGATAGAGTGGAGCAGAGCTTTCAACTCGACACTGCCCCTCAGACTGGAAATTTTAAGGACTTACGTGAGTATGTCTTTAAAAATAAGGATGGGTTTCTAAGTGTTTATAATGCTTATTCACCTATTGACATACCAAGGGGTCTTCCTGTTGGTTTTTCGGTGTTGAAACCAATTCTTAAACTCCCTATAGGTATAAATATTACCTCTTTTAAGGTAGTTATGTCCATGTTTAGCAGAACAACTTCTAATTTCCTACCTGAAGTTGCTGCTTATTTTGTTGGTAACTTAAAATATAGTACCTTCATGCTTAATTTTAATGAGAATGGGACTATTACTGATGCCATTGATTGTGCCCAAAATCCCCTATCTGAATTAAAATGCACCATTAAAAATTTTAATGTCAGTAAAGGAATCTATCAGACATCTAACTTCAGAGTATCACCAACTCATGAAGTTATTAGGTTCCCTAACATTACAAACCGTTGTCCTTTCGACAAAGTTTTTAATGCTAGTCGCTTTCCCAATGTTTATGCTTGGGAAAGAACAAAAATTTCTGATTGTGTTGCTGATTACACTGTTCTCTACAACTCAACTTCATTTTCAACTTTTAAATGTTATGGAGTCTCTCCCTCTAAGTTGATTGATTTGTGCTTTACAAGTGTGTATGCTGATACATTCTTGATAAGATCTTCAGAAGTAAGGCAAGTTGCACCAGGTGAAACTGGTGTTATTGCTGACTATAACTACAAACTGCCTGATGACTTTACAGGCTGCGTCATAGCTTGGAACACTGCTAAACAAGATCAGGGCCAGTATTATTATAGATCCTCCCGAAAAACAAAACTTAAACCTTTTGAGAGGGATCTAACTTCTGACGAAAATGGTGTACGTACTCTTAGTACTTATGACTTCTATCCTAATGTGCCTATTGAATATCAGGCTACTAGGGTTGTTGTGCTTTCATTTGAACTTCTAAATGCACCTGCTACAGTTTGTGGACCTAAATTATCCACAGGACTTGTTAAGAACCAGTGTGTTAATTTTAACTTCAATGGACTCAGGGGCACTGGTGTTTTGACTGACTCATCAAAGAGGTTTCAGTCTTTTCAACAATTTGGTCGTGACACTTCTGACTTTACGGATTCAGTGCGTGATCCACAAACACTAGAAATACTTGACATTACACCATGTTCTTTTGGTGGTGTGAGTGTAATAACACCTGGAACAAATGCTTCATCTGAAGTGGCTGTTCTTTACCAAGATGTAAATTGCACTGATGTCCCAACGGCCATACGTGCTGATCAACTAACACCAGCTTGGCGCGTTTACTCCACTGGAATAAATGTTTTTCAAACACAAGCTGGCTGTCTTATTGGGGCTGAACATGTCAATGCTTCTTACGAGTGTGACATCCCTATTGGTGCTGGCATTTGTGCTAGCTACCATACAGCCTCTACTTTACGTAGTGTAGGTCAGAAATCCATTGTGGCTTACACTATGTCTTTGGGTGCAGAAAATTCCATTGCTTACGCTAATAACTCAATTGCCATACCTACAAATTTTTCAATTAGTGTCACGACTGAAGTGATGCCAGTTTCAATGTCTAAGACATCAGTAGATTGTACAATGTACATCTGTGGTGACTCTCAGGAGTGCAGTAATTTACTTCTTCAATACGGAAGTTTCTGCACGCAATTGAATCGTGCTCTTACGGGCATTGCCATAGAACAGGACAAAAATACACAGGAGGTTTTTGCCCAGGTTAAACAAATGTACAAGACACCAGCCATAAAGGATTTTGGCGGTTTCAATTTTTCACAAATATTGCCTGACCCTTCTAAGCCAACAAAGAGATCATTTATTGAAGATTTACTTTTCAACAAGGTGACTCTCGCTGATGCTGGCTTTATGAAGCAGTATGGCGAATGCCTAGGTGATATTAATGCTAGAGACCTCATCTGTGCACAAAAGTTCAATGGCCTTACTGTCCTGCCACCTTTACTCACGGATGACATGATCGCTGCGTACACTGCTGCCCTTGTCAGTGGTACTGCTACTGCTGGCTGGACATTCGGTGCTGGTGCTGCTCTTCAAATACCTTTTGCTATGCAAATGGCATATAGGTTCAATGGCATTGGAGTTACTCAAAATGTTCTCTATGAGAATCAAAAACAGATCGCCAATCAATTCAACAAGGCGATCAGTCAAATTCAAGAATCACTTACAACAACATCAACTGCGTTGGGCAAGCTGCAAGACGTTGTCAACCAGAACGCTCAAGCATTGAACACACTTGTTAAACAGCTTAGCTCCAATTTTGGTGCAATTTCAAGTGTGCTAAATGACATTCTTTCACGACTAGACAAAGTCGAGGCAGAGGTGCAAATTGACAGGTTGATCACAGGCAGATTGCAGAGCCTTCAAACCTATGTAACACAACAACTAATTAGAGCTGCTGAAATCAGAGCTTCTGCTAATCTTGCTGCTACTAAAATGTCTGAGTGTGTTCTTGGACAATCAAAAAGAGTTGACTTCTGTGGAAGAGGCTATCATCTTATGTCTTTTCCTCAGGCTGCTCCGCATGGTGTTGTTTTCTTACATGTCACATATGTGCCATCGCAGGAGAAAAACTTCACCACAGCTCCGGCAATTTGTCATGAAGGCAAAGCATACTTCCCGCGTGAAGGTGTTTTTGTATCTAATGGCACTTCTTGGTTCATTACACAGAGGAATTTTTACTCACCACAAATAATCACAACAGATAATACATTTGTTGCTGGAAGCTGTGATGTCGTAATTGGCATCATTAACAACACAGTCTATGATCCTCTGCAACCTGAGCTTGACTCATTCAAGGAAGAGCTGGACAAGTACTTCAAAAATCATACATCACCTGATGTTGATCTCGGCGACATTTCAGGCATTAATGCTTCTGTCGTCAACATTCAGAAAGAAATTGACCGCCTCAATGAGGTTGCCAAAAATCTAAATGAATCGCTCATTGACCTCCAAGAACTTGGTAAATATGAGCAATACATCAAATGGCCCTGGTACGTTTGGCTCGGCTTCATTGCTGGACTGATTGCTATCGTTATGGCCACTATACTGCTTTGTTGCATGACCAGCTGTTGCAGTTGCCTCAAGGGTGCATGCTCTTGTGGTTCTTGCTGCAAATTTGATGAGGACGACTCTGAGCCAGTGCTCAAAGGAGTCAAATTACACTACACATAAACGAACTTAATGGATTTGTTTATGAGTATTTTCACACTTGGCTCAATCACACGTCAACCGAGTAAGATTGACAATGCTTCTCCTGCAGGTACTGTTCATGCTACAGCAACGATACCGCTACAGGCCTCACTCCCTTTCGGATGGCTTGTTATTGGCGTTGCATTTCTTGCTGTTTTTCAGAGCGCTACCAAAATAATTGCGCTCAATAAAAAATGGCAGCTAGCCCTTTATAAGGGCTTCCAGTTCATTTGCAATTTACTGCTGCTATTTATTACCATCTATTCACATCTTTTGCTTGTCGCTGCGGGTATGGAGGCGCAATTTTTGTACCTCTATGCCTTGATATATTTTCTACAATGCATCAACGCATGTAGAATTATCATGAGATGTTGGCTTTGTTGGAAGTGTAAATCCAAGAACCCATTACTTTATGATGCCAACTACTTTGTTTGCTGGCACACACATAACTATGACTACTGTATACCATATAACAGTGTCACAGATACAATTGTCGTTACTGCAGGTGACGGCATTTCAACACCAAAACTCAAAGAAGACTACCAAATTGGTGGTTATTCTGAGAATTGGCACTCAGGTGTTAAAGACTATGTCGTCGTACATGGCTATTTCACTGAAGTTTACTACCAGCTTGAGTCTACACAAATTACTACAGACACTGGTATTGAAAATGCTACATTCTTCATCTTTAACAAGCTTGTTAAAGATCCGCCGAATGTGCAAATACACACAATCGACGGCTCTTCAGGAGTTGTAAATCCAGCAATGGATCCAATTTATGATGAGCCGACGACGACTACTAGCGTGCCTTTGTAAGCACAAGAAAGTGAGTACGAACTTATGTACTCATTCGTTTCGGAAGAAACAGGTACGTTAATAGTTAATAGCGTACTTCTTTTTCTTGCTTTCGTGGTATTCTTGCTAGTCACACTAGCCATCCTTACTGCGCTTCGATTGTGTGCGTACTGCTGCAATATTGTTAACGTGAGTTTAGTAAAACCAACGGTTTACGTCTACTCGCGTGTCAAAAATCTGAACTCTTCTGAAGGAGTTCCTGATCTTCTGGTCTAAACGAACTAACTATTATTATTATTCTGTTTGGAACTTTAACATTGCTTATCATGGCTGAGAACGGGACTATTTCCGTTGAGGAGCTCAAAAGACTCCTTGAACAATGGAACCTAGTAATAGGTTTCCTATTCCTAGCCTGGATTATGTTACTACAATTTGCCTATTCTAATCGGAACAGGTTTTTGTACATAATAAAGCTTGTTTTCCTGTGGCTCTTGTGGCCAGTAACACTTGCTTGCTTTGTGCTTGCTGCTGTTTACAGAATTAATTGGGTGACTGGCGGGATTGCGATTGCAATGGCTTGTATTGTAGGCTTGATGTGGCTTAGCTACTTCATTGCTTCCTTCAGGCTATTTGCTCGTACCCGCTCAATGTGGTCATTCAACCCAGAAACAAACATTCTTCTCAATGTGCCTCTTCGAGGGACAATTGTGACCAGACCGCTCATGGAAAGTGAACTTGTCATTGGCGCTGTGATCATTCGTGGTCACTTGCGCATGGCTGGACACTCCCTAGGGCGCTGTGACATCAAGGACCTGCCAAAAGAGATCACTGTGGCTACATCACGAACGCTTTCTTATTACAAATTAGGAGCGTCGCAGGTGTAGGCACTGATTCAGGTTTTGCTGCATACAACCGCTACCGTATTGGAAACTACAAATTAAATACAGACCACGCCGGTAGCAACGACAATATTGCTTTGCTAGTACAGTAAGTGACAACAGATGTTTCATCTTGTTGACTTCCAGGTTACAATAGCAGAGATATTGATTATCATTATGAGGACTTTCAGGATTGCTATTTGGAATCTTGACATGATAATAAGTTCAATAGTGAGACAGTTATTTAAGCCTCTAACTAAGAATAAATATTCAGAGTTAGATGATGAAGAACCTATGGAGATAGATTATCCTTGATAAACGAACCACTATGTTACTTTTAGTAACATTGTTTGGTTTAGCACAAGGGTGCAGCTTACCACTTACGGTTAGCTGCCCTAGAGGCCTACCTTTCACTCTACAGATTAACACTACTAGTGTTACTGTGGAGTGGTATCGGGTATCTCCTGCATCAATGCAAGGTCTTACAAAGATAAATACTGGCAGCACTATTTTTGATAACAACTTTAGTGTAGTCAATAATAATTTGTACTTCAAACAGTGTTTTGGAGGCTTTTTTACAGCACGCTGTTACCGCCAGGGTAAGCATGACGGTGCTATAGTAGATAATTCTCAACCTGTCTTTGTGGATGCTAGGAATTATGTACCAACTACTGCACCATTAGTCTCATCGCAGGGCATTGTGCAGCCAAAAAGTTCCAATGTGTTAGCTATAGTGTTACCTATAGCCCTTGTTGGTATTTGTCTTTTTATTCTTTTACTTTGGTATCTGTTTTCTAAGCAAAACAAAATTTACCAACAGGCCACGCAATCAGTCTAAACGAACATGAAAATTATTCTCTTCCTGACATTGATTGCACTTGCATCTTGCGAGCTATATCACTATCAGGAGTGTGTTAGAGGTACAACTATACTACTAAAAGAACCTTGCCTATCTGGAACTTACGAGGGCAATTCACCATTTCATCCTCTTGCTGATAACAAATTTGCACTAACTTGCACTAGCACCCACTTTGCTTTTGCTTGTGCTGACGGTACTAGACATACCTATCAGCTTCGTGCAAGATCAGTTTCACCAAAACTTTTCATCAGACAAGAGGAAGTTCACCAAGAGCTCTACTCACCGCTTTTTCTCATTGTTGCTGCTCTAGTATTTATAATACTTTGCTTCACCATTAAGAGAAAGACAGAATGAATGAGCTCACTTTAATTGACTTCTATTTGTGCTTTTTAGCCTTTCTGCTATTCCTTGTTCTAATAATGCTTATTATATTTTGGTTTTCACTTGAACTCCAGGATATAGAAGAACCTTGTAACAAAGTCTAAACGAACATGAAACTTCTCATTGTTTTAGGACTCTTAACATCAGTGTATTGCATGCATAAAGAATGCAGTATACAAGAATGTTGTGAAAATCAACCATTCCAACCTGAAGACCCATGTCCAATACATTACTATTCGGACTGGTTTGTAAAAATTGGACCTCGCAAGTCTGCTCGCCTAGTACAACTTTGTGCTGGTGAATATGGACATAGAGTTCCAATACATTATGAAATGTTTGGCAATTATACTATTTCATGTGAACCACTTGAAATAAATTGTCAAAACCCACCAGTTGGAAGTCTCATTGTACGTTGTTCATATGATGTTGACTTTATGGAGTATCACGACGTTCGTGTTGTTCTAGATTTCATCTAAACGAACAAACTAAAATGTCTGATAATGGACCCCAACCAAACCAGCGTAGTGCCCCCCGCATTACATTTGGTGGACCCACAGATTCAACTGACAATAACCAGAATGGAGGACGCAATGGGGCAAGGCCAAAACAACGCCGACCCCAAGGTTTACCCAATAATACTGCGTCTTGGTTCACAGCTCTCACTCAGCATGGCAAGGAGGAACTTAGATTCCCTCGAGGCCAGGGCGTTCCAATCAACACCAATAGTGGTCCAGATGACCAAATTGGCTACTACCGAAGAGCTACCCGACGAGTTCGTGGTGGTGACGGCAAAATGAAAGAGCTCAGCCCCAGATGGTACTTCTATTACCTAGGAACTGGCCCAGAAGCTTCACTTCCCTACGGCGCTAACAAAGAAGGCATCGTATGGGTCGCAACTGAGGGAGCCTTGAATACACCGAAAGATCACATTGGCACCCGCAATCCTAATAACAATGCTGCCACCGTGCTACAACTTCCTCAAGGAACAACATTGCCAAAAGGCTTCTACGCAGAGGGGAGCAGAGGCGGCAGTCAAGCCTCTTCTCGCTCTTCATCACGTAGTCGCGGTAATTCAAGAAATTCAACTCCTGGCAGCAGTAGGGGAAATTCTCCTGCTCGAATGGCTAGCGGAGGTGGTGAAACTGCCCTCGCGCTATTGCTGCTAGACAGACTGAACCAGCTTGAGAGCAAAGTTTCTGGTAAAGGCCAACAACAACAAGGCCAAACTGTCACTAAGAAATCTGCTGCTGAGGCATCTAAAAAGCCTCGCCAAAAACGTACTGCTACAAAACAGTACAACGTCACTCAAGCTTTTGGGAGACGTGGTCCAGAACAAACCCAAGGAAACTTCGGGGACCAAGATCTAATCAGACAAGGAACTGATTACAAACATTGGCCGCAAATTGCACAATTTGCTCCAAGTGCCTCTGCATTCTTCGGAATGTCACGCATTGGCATGGAAGTCACACCTTCGGGAACATGGCTGACTTATCATGGAGCCATTAAACTGGATGACAAAGATCCACAATTCAAAGACAACGTCATACTGCTGAATAAGCACATTGACGCATACAAAACATTCCCACCAACAGAGCCTAAAAAGGACAAAAAGAAAAAGACTGATGAAGCTCAGCCTTTACCGCAGAGACAAAAGAAGCAGCCCACTGTGACTCTTCTTCCTGCGGCTGACATGGATGATTTCTCCAGACAACTTCAAAATTCCATGAGTGGAGCTTCTGCTGATTCAACTCAGGCATAAACACTCATGATGACCACACAAGGCAGATGGGCTATGTAAACGTTTTCGCAATTCCGTTTACGATACATAGTCTACTCTTGTGCAGAATGAATTCTCGTAGCTAAACAGCACAAGTAGGTTTAGTTAACTTTAATCTCACATAGCAATCTTTAATCAATGTGTAACATTAGGGAGGACTTGAAAGAGCCACCACATTTTCACCGAGGCCACGCGGAGTACGATCGAGGGTACAGTGAATAATGCTAGGGAGAGCTGCCTATATGGAAGAGCCCTAATGTGTAAAATTAATTTTAGTAGTGCTATCCC\n",
      "\n",
      "Definition Line for sequence 2:\n",
      ">11128:ncbi:2 [LC494191]\t11128\tncbi\t2 [LC494191] 11128\tBovine coronavirus\t\tscientific name\n",
      "30,942 bases:\n",
      "CATCCCGCTTCACTGATCTCTTGTTAGATCTTTTCATAATCTAAACTTTATAAAAACATCCACTCCCTGTAGTCTATGCCTATGGGCGTAGATTTTTCATAGTGGTGTCTATATTCATTTCTGCTGTTAACAGCTTTCAGCCAGGGACGTGTTGTATCCTAGGCAGTGGCCCACTCATAGGTCACAATGTCGAAGATCAACAAATACGGTCTCGAACTACATTGGGCTCCAGAATTTCCATGGATGTTTGAGGACGCAGAGGAGAAGTTGGACAACCCTAGTAGTTCAGAGGTGGATATATTTTGCTCCACCACTGCGCAAAAGCTGGAAACAGGCGGAATTTGTCCTGAAAATCATGTGATGGTGGATTGTCGCCGACTTCTTAAACAAGAATGTTGTGTGCAGTCTAGCCTAATACGTGAAATTGTTATGAATACACGTCCATATGATTTGGAGGTGCTACTTCAAGATGCTTTGCAGTCCCGCGAAGCAGTTTTGGTTACACCCCCTCTAGGTATGTCTCTGGAGGCATGCTATGTGAGAGGTTGTAATCCTAAAGGATGGACCATGGGTTTGTTTCGGCGTAGAAGTGTGTGTAACACTGGTCGCTGCGCTGTTAACAAGCATGTGGCCTATCAGCTATATATGATTGATCCTGCGGGTGTCTGTTTTGGTGCAGGTCAATTTGTGGGTTGGGTTATACCCTTAGCCTTTATGCCTGTTCAGTCCCGGAAATTTATTGTTCCTTGGGTTATGTACTTGCGTAAGTGTGGCGAAAAGGGTGCCTACAACAAAGATCATAAACGTGGCGGTTTTGAACACGTTTATAATTTTAAAGTTGAGGATGCTTACGACTTGGTTCATGATGAGCCTAAGGGTAAGTTTTCTAAGAAGGCTTATGCTTTAATTAGAGGATACCGTGGTGTTAAACCGCTTCTTTATGTAGACCAGTATGGTTGTGATTATACTGGTGGTCTTGCAGATGGCTTAGAGGCTTATGCTGATAAGACATTGCAAGAAATGAAGGCATTATTTCCTATTTGGAGCCAGGAACTCCATTTTGATGTAATTGTGGCATGGCACGTTGTGCGTGATCCACGTTATGTTATGAGACTGCAGAGTGCTTCTACTATACGTAGTGTTGCATATGTTGCTAACCCTACTGAAGATTTGTGTGATGGTTCTGTTGTTATAAAGGAACCTGTGCATGTTTATGCGGATGATTCCATTATTTTACGTCAACATAATTTAGTTGACATTATGAGTTGTTTTTATATGGAGGCAGATGCAGTTGTAAATGCTTTTTATGGTGTTGATTTGAAAAATTGTGGTTTTGTTATGCAGTTTGGTTATATTGACTGCGAACAAGACTCGTGTGATTTTAAAGGTTGGGTTCCTGGTAATATGATAGATGGTTTTGCTTGCACTACTTGTGGTCATGTTTATGAGACAGGTGATTTGCTAGCACAATCTTCAGGTGTTCTGCCTGTTAATCCTGTATTGCACACTAAGAGTGCAGCAGGTTATGGTGGTTTTGGTTGTAAGGATTCTTTTACCCTGTATGGCCAAACTGTGGTTTATTTTGGAGGTTGTGTGTATTGGAGTCCAGCACGTAATATATGGATTCCTATATTAAAATCTTCTGTTAAGTCTTATGACGGTTTGGTTTATACTGGAGTTGTAGGTTGCAAGGCTATTGTAAAGGAAACAAATCTCATTTGCAAAGCGTTGTACCTTGATTATGTTCAACACAAGTGTGGCAATTTACACCAGCGGGAGTTGCTAGGTGTGTCAGATGTGTGGCATAAACAATTGTTATTAAATAGAGGTGTGTATAAACCTCTTTTAGAGAATATTGATTATTTTAATATGCAGCGCGCTAAATTTAGTTTAGAAACTTTTACTGTTTGTGCAGATGGTTTTATGCCTTTTCTTTTAGATGATTTGGTTCCGCGCGCATATTATTTGGCAGTAAGTGGTCAAGCATTTTGTGACTACGCAGATAAAATCTGCCATGCTGTTGTGTCTAAGAGTAAAGAGTTACTTGATGTGTCTCTGGATTCTTTAAGTGCAGCTATACATTATTTGAATTCTAAAATTGTTGATTTGGCTCAACATTTTAGTGGTTTTGGAACAAGTTTTGTTTCTAAAATTGTTCATTTCTTTAAGACTTTTACTACTGGCACTGCTCTTGCATTTGCATGGGTTTTATTTCATGTTTTGCATGGTGCTTATATAGTAGTAGAGAGTGATATATATTTTGTTAAAAACATTCCTCGTTATGCTAGTGCTGTTGCACAAGCATTTCGGAGTGTTGCTAAAGTTGTACTGGACTCTTTAAGAGTTACTTTTATTGATGGCCTTTCTTGTTTTAAGATTGGACGTAGAAGAATCTGTCTTTCAGGCAGTAAAATTTATGAAGTTGAGCGTGGCTTGTTACATTCATCTCAATTGCCATTAGATGTTTATGATTTAACCATGCCTAGTCAAGTTCAGAAAGCCAAGCAAAAACCTATTTATTTAAAAGGTTCTGGTTCTGATTTTTCATTAGCAGATAGTGTGGTTGAAGTTGTTACAACTTCACTTACACCATGTGGTTATTCTGAACCACCTAAAGTTGCAGATAAAATTTGCATTGTGGATAATGTTTATATGGCCAAGGCTGGTGACAAATATTACCCTGTTGTGGTTGATGGTCATGTAGGACTCTTGGATCAAGCATGGAGGGTTCCTTGTGCTGGAAGGCGTGTTACATTTAAGGAACAGCCTACAGTAAATGAGATTGCAAGCACACCTAAGACTATTAAAGTTTTTTATGAGCTTGATAAAGATTTTAATACTATTTTAAACACTGCATGTGGAGTGTTTGAAGTAGATGATACCGTGGATATGGAGGAATTTTATGCTGTGGTGGTTGATGCCATAGAAGAGAAACTTTCTCCATGTAAGGAGCTTGAAGGTGTAGGTGCTAAAGTTAGTGCCTTTTTACAGAAATTAGAGGATAATTCCCTATTTTTATTTGATGAGGCTGGAGAGGAAGTTCTTGCTTCTAAATTGTATTGTGCTTTTACAGCTCCTGAAGACGATGACTTTCTTGAAGAAAGTGTTGTTGAAGAAGATGATGTAGAAGGTGAGGAAACTGATTTAACTGTCACAAGTGCTGGAGAGCCTTGTGTTGCCAGTGAACAGGAGGAGTCTTCTGAAATCTTAGAGGACACTTTGGATGATGGTCCATGTGTGGAGACATCTGATTCACAAGTTGAAGAAGATGTAGAAATGTCAGATTTTGCTGACCTTGAATCTGTGATTCAGGATTATGAAAATGTTTGTTTTGAGTTTTATACTACAGAGCCAGAATTTGTTAAAGTTTTGGATCTGTATGTGCCTAAAGCAACTCGCAATAATTGCTGGTTGCGATCAGTTTTGGCAGTGATGCAGAAACTGCCTTGTCAATTTAAAGATAAAAATTTGCAGGATCTTTGGGTGTTATATAAGCAACAGTATAGTCAGTTGTTTGTTGATACATTGGTTAATAAGATACCTGCTAATATTGTAGTTCCACAAGGTGGTTATGTTGCCGATTTTGCATATTGGTTCTTAACCTTATGTGATTGGCAGTGTGTTGCATACTGGAAATGCATTAAATGTGATTTAGCTCTTAAGCTTAAAGGCTTGGATGCTATGTTCTTTTATGGTGATGTTGTCTCACATGTGTGCAAGTGTGGTGAGTCTATGGTACTTATTGATGTTGATGTGCCATTTACAGCCCACTTTGCTCTTAAAGATAAGTTGTTTTGTGCATTTATTACTAAGCGTAGTGTGTATAAAGCAGCTTGTGTTGTGGATGTTAATGATAGTCATTCTATGGCTGTTGTTGATGGTAAACAAATTGATGATCGTCGTGTCACTAGTATTACTAGTGATAAGTTTGATTTTATTATTGGGCATGGTATGTCGTTTTCAATGACTACTTTTGAAATTGCCCAATTGTATGGTTCTTGTATAACACCTAATGTATGTTTTGTTAAAGGTGATATAATTAAAGTTTCTAAGTGTGTTAAAGCAGAAGTTGTTGTAAATCCTGCTAATGGCAATATGGCACATGGTGGTGGTGTTGCAAAGGCTATTGCAGTAGCAGCTGGACAGCAGTTTGTTAAAGAGACTACCGATATGGTTAAGTCTAAAGGAGTTTGTGCTACTGGAGACTGTTATGTCTCTACAGGGGGTAAATTATGTAAAACTGTGCTTAATGTTGTTGGACCTGATGCGAGAACACAGGGTAAACAAAGTTATGCATTGTTAGAGCGTGTTTATAAACATCTTAACAAATATGATTGTGTTGTTACAACTTTGATATCAGCTGGTATATTTAGTGTGCCTTCTGATGTGTCTTTAACATATCTACTTGGTACTGCCGAGAAACAAGTTGTTCTTGTTAGCAATAATCAAGAGGATTTTGATCTTATTTCTAAGTGTCAGATAACTGCTGTTGAGGGCACTAAGAAATTGGCAGAGCGTCTTTCTTTTAATGTAGGGCGTTCTATCGTTTACGAAACAGATGCTAATAAGTTGATTAGCAATGACGTTGCATTTGTTTCGACATTTAATGTCTTACAGGATGTTTTATCCTTAAGACATGATATAGCACTTGATGATGATGCACGAACCTTTGTTCAGAGCAATGTTGATGTTGTACCTGAGGGTTGGCGTGTTGTCAATAAGTTTTGTCAAATTAATGGTGTTAGAACCGTTAAGTATTTTGAGTGTCCCGGTGGCATAGATATATGCAGCCAGGATAAAGTTTTTGGTTATGTACAGCAGGGTAGTTTTAATAAGGCTACTGTTGCTCAAATTAAAGCCTTGTTTTTGGATAAAGTGGACATCTTGCTAACTGTTGATGGTGTTAATTTCACGAACAGGTTTGTGCCTGTAGGTGAAAGTTTTGGTAAGAGTCTAGGAAATGTGTTCTGTGATGGAGTTAATGTCACGAAACATAAGTGTGATATAAATTATAAAGGTAAAGTCTTTTTCCAGTTTGATAATCTTTCTAGTGAAGATTTAAAGGCTGTAAGAAGTTCTTTTAATTTTGACCAGAAGGAATTGCTTGCCTATTACAACATGCTTGTTAATTGTTCTAAATGGCAGGTTGTTTTTAATGGTAAGTATTTCACTTTTAAGCAAGCTAATAACAATTGTTTTGTTAATGTTTCTTGCTTAATGCTCCAGAGTTTGAATTTGAAATTTAAAATTGTTCAATGGCAGGAGGCGTGGCTTGAATTTCGTTCTGGCCGCCCTGCTAGATTTGTATCTTTGGTTTTAGCCAAAGGTGGGTTTAAATTTGGTGATCCTGCTGATTCTAGAGATTTTTTGCGTGTTGTGTTTAGTCAAGTTGATTTGACAGGGGCAATATGTGATTTTGAAATTGCATGTAAATGTGGTGTAAAGCAGGAACAGCGTACTGGTGTGGACGCTGTTATGCATTTTGGTACATTGAGTCGTGAAGATCTTGAGATTGGTTATACCGTGGATTGTTCTTGCGGTAGAAAGCTAATCCATTGTGTACGATTTGATATACCATTTTTAATTTGTAGTAATACACCTTCTAGTGTAAAATTACCTAAGGGTGTAGGAAGTGCAAATATTTTTAAAGGTGATAAGGTTGGTCACTATGTTCATGTTAAGTGTGAGCAGTCTTATCAGCTTTATGATGCTTCTAATGTTAAGAAGGTTACAGACGTTACTGGCAATTTGTCAGATTGTTTGTATCTTAAAAATTTGAAACAAACTTTTAAATCGGTGTTAACCACCTATTATTTGGATGATGTTAAGAAAATTGAGTATAAACCTGACTTGTCACAATATTATTGTGACGGAGGTAAGTATTATACTCAGCGTATTATTAAAGCCCAATTTAAAACATTTGAGAAAGTAGATGGTGTGTATACTAATTTTAAATTGATAGGACACACCATCTGTGATATTCTTAATGCTAAGTTGGGTTTTGATAGCTCTAAAGAGTTTGTTGAATATAAAGTTACTGAGTGGCCAACAGCTACAGGTGATGTGGTGTTGGCTACTGATGATTTGTATGTTAAGAGATATGAAAGGGGTTGTATTACTTTTGGTAAACCTGTTATATGGTTAAGCCATGAGCAAGCTTCCCTCAATTCTTTAACATATTTTAACAGACCTTTATTGGTTGATGAGAATAAATTTGATGTTTTAAAAGTGGATGATGTTGACGATGGTGGTGATATCTTAGATAGTGATGCCAAAGAATCTAAAGAAATCAACATTATTAAGTTAAGTGGTGTTAAAAAACCATTTAAGGTTGAAGATAGTGTCATTGTTAATGATGATACTAGCGAAATCAAATATGTTAAGAGTTTGTCTATAGTTGATGTGTATGATATGTGGCTTACAGGTTGTAGGTATGTTGTTAGAACTGCTAATGCTTTGAGCATGGCAGTTAACGTACCTACAATACGTAAGTTTATAAAATTTGGTATGACTCTTGTTAGTATACCAATTGATTTGTTAAATTTAACAGAGATTAAGCCTGTTTTTAATGTGGTTAAAGCTTTGCGAAATAAAATTTCTGCATGCTTTAATTTTATTAAATGGCTTTTTGTCTTATTATTTGGCTGGATTAAAACATCCGCTGATAATAAAGTAATTTACACCACAGAAGTTGCATCAAAGCTTACATGTAAGCTTGTAGCTTTAGCTTTTAAAAATGCGTTTTTGACATTTAATTGGAGTGTGGTTGCTAGAGGTGCTTGCATTATAGCGACTATATTTCTATTGTGGTTTAATTTTATATATGCCAATGTAATTTTTAGTGATTTTTATTTGCCTAAAATTGGTTTCTTGCCTACTTTTGTTGGTAAGATCGCACAGTGGATTAAGAGCACTTTTAGTCTTGTAACTATTTGTGATCTATATTCCATTCAGGATGTGGGTTTTAAGAATCAGTATTGTAATGGAAGTATCGCATGTCAGTTCTGCTTGGCAGGATTTGATATGTTAGATAATTATAAAGCCATTGATGTAGTACAGTATGAAGCTGATAGGAGAGCATTTGTTGATTATACAGGTGTGTTAAAGATTGTCATTGAATTGATAGTTAGTTACGCCCTGTATACGGCATGGTTCTACCCATTGTTTGCTCTTATTAGTATTCAGATCTTGACCACTTGGCTGCCTGAGCTTTTTATGCTTAGTACATTGCATTGGAGTGTTAGGTTGCTGGTGTCTTTAGCTAATATGTTACCAGCACATGTGTTTATGAGGTTTTATATTATTATTGCCTCTTTTATTAAGCTGTTTAGCTTGTTTAGGCATGTTGCCTATGGTTGTAGTAAACCTGGTTGTTTGTTTTGTTACAAGAGGAATCGTAGTCTACGTGTTAAATGTAGTACTATTGTTGGTGGCATGATACGCTATTACGATGTTATGGCTAATGGTGGCACTGGCTTTTGTTCCAAACATCAATGGAATTGCATTGATTGTGAGTCTTATAAACCAGGTAATACTTTTATTACTGTTGAGGCCGCTCTTGATTTATCTAAGGAATTGAAACGGCCTATTCAGCCTACAGATGTTGCTTATCATACTGTTACGGATGTTAAGCAAGTTGGTTGTTATATGCGCTTGTTTTATGAGCGTGATGGACAGCGCACATATGATGATGTTAATGCTAGTTTGTTTGTGGATTATAGTAATTTGCTACATTCTAAGGTTAAAGGTGTGCCTAATATGCATGTTGTGGTAGTGGAAAATGATGCCGATAAAGCTAATTTTCTTAATGCTGCTGTATTTTATGCACAATCTTTGTTTAGACCTATTTTAATGGTTGATAAAAATCTGATAACTACTGCTAATACTGGTACGTCTGTTACAGAAACTATGTTTGATGTTTATGTTGACACATTTTTGTCTATGTTTGATGTGGATAAAAAGAGTCTTAATGCTTTAATAGCAACTGCGCATTCTTCTATAAAACAGGGTACGCAGATTTGTAAAGTTTTGGATACCTTTTTAAGCTGTGCTCGTAAAAGTTGTTCTATTGATTCAGATGTTGATACTAAGTGTTTAGCTGATTCTGTCATGTCTGCTGTATCGGCAGGCCTTGAATTGACGGATGAAAGTTGTAATAACTTGGTGCCAACATATTTGAAGGGTGATAACATTGTGGCAGCTGATTTAGGTGTTCTGATTCAAAATTCTGCTAAGCATGTGCAGGGTAATGTTGCTAAGATAGCCGGTGTTTCCTGTATATGGTCTGTGGATGCTTTTAATCAGCTAAGTTCTGATTTCCAGCATAAATTGAAGAAAGCATGTTGTAAAACTGGTTTGAAATTGAAGCTTACTTATAATAAGCAGATGGCTAATGTCTCTGTTTTAACTACACCCTTTAGTCTTAAAGGGGGTGCAGTTTTTAGTTATTTTGTTTATGTATGTTTTCTGTTGAGTTTGGTTTGTTTTATTGGATTGTGGTGCTTAATGCCCACTTACACAGTACACAAATCAGATTTTCAGCTTCCAGTTTATGCCAGTTATAAAGTTTTAGATAACGGTGTTATTAGAGATGTTAGCGTTGAAGATGTTTGTTTCGCTAACAAATTTGAACAATTTGATCAATGGTATGAGTCTACATTTGGTCTAAGTTATTATAGTAACAGTATGGCTTGTCCCATTGTTGTTGCTGTAGTAGACCAGGATTTTGGCTCTACTGTGTTTAATGTTCCTACCAAAGTGTTACGATATGGTTACCATGTGTTGCACTTTATTACACATGCACTTTCTGCTGATGGAGTGCAGTGTTATACGCCACATAGTCAAATATCGTATTTTAATTTTTATGCTAGTGGCTGTGTGCTTTCCTCCGCTTGTACTATGTTTGCAATGGCCGATGGTAGTCCACAACCTTATTGTTATACAGAGGGGCTTATGCAGAACGCTTCTCTGTATAGTTCATTGGTACCTCATGTGCGGTATAATCTTGCTAATGCTAAAGGTTTTATCCGTTTTCCAGAAGTGTTGCGAGAAGGACTTGTGCGTGTTGTGCGTACTCGTTCTATGTCGTATTGCAGAGTTGGATTATGTGAGGAAGCTGATGAGGGTATATGCTTTAATTTTAATGGTTCTTGGGTGCTTAATAATGATTATTATAGATCATTGCCTGGGACCTTTTGTGGTAGAGATGTTTTTGATTTAATTTATCAGCTTTTTAAAGGTTTAGCACAGCCTGTGGATTTTTTGGCATTGACTGCTAGTTCTATTGCTGGTGCTATACTTGCTGTAATTGTTGTTTTGGTGTTTTATTACTTAATAAAGCTTAAACGTGCTTTTGGTGATTACACCAGTATTGTTTTTGTTAATGTGATTGTGTGGTGTGTAAATTTTATGATGCTTTTTGTGTTTCAAGTTTACCCTACACTTTCTTGTGTATATGCTATTTGTTATTTTTATGCCACGCTTTATTTCCCTTCGGAGATAAGTGTGATAATGCATTTACAATGGCTAGTTATGTATGGCACTATTATGCCTTTATGGTTTTGTTTGCTATATATATCTGTTGTTGTTTCAAATCATGCTTTTTGGGTATTTGCTTACTGCAGACGGCTTGGTACTTCTGTTCGTAGTGATGGTACATTTGAAGAAATGGCTCTTACTACTTTTATGATTACAAAAGATTCTTATTGTAAGCTTAAGAATTCCTTGTCTGATGTTGCTTTTAATAGATATTTGAGTTTGTATAATAAATATAGGTATTACAGCGGTAAAATGGATACTGCTGCATATAGGGAGGCTGCTTGTTCTCAGTTGGCTAAAGCAATGGATACATTTACCAATAATAATGGTAGTGATGTGCTTTACCAACCACCTACTGCTTCTGTTTCAACTTCATTCTTGCAATCTGGTATTGTGAAAATGGTTAATCCTACCTCTAAGGTAGAACCATGTATTGTCAGTGTTACCTATGGTAATATGACATTGAATGGTTTATGGTTGGATGATAAGGTCTACTGTCCCAGACATGTGATATGTTCTGTTTCAGATATGACTAATCCAGATTATACAAATTTGTTGTGTAGAGTAACATCAAGTGATTTTACTGTATTGTTTGATCGTTTGAGCCTTACAGTGATGTCTTATCAAATGCAGGGTTGTATGCTTGTTCTTACAGTGACCCTGCAAAATTCTCGTACGCCAAAATATACATTTGGTGTGGTTAAACCTGGTGAGACTTTTACTGTTTTAGCTGCTTATAACGGCAAACCACAAGGAGCCTTTCATGTGACTATGCGTAGTAGTTATACCATTAAGGGTTCCTTTTTATGCGGATCTTGTGGATCTGTTGGTTATGTGCTAATGGGTGATTGTGTTAAATTTGTTTATATGCATCAATTGGAGCTTAGTACTGGTTGTCATACTGGTACTGATTTCAATGGGGATTTTTATGGTCCTTATAAGGATGCTCAGGTTGTCCAATTGCCCGTTCAGGATTATATACAATCTGTTAATTTTGTAGCATGGCTTTATGCTGCTATACTTAATAATTGTAATTGGTTTGTACAAAGTGATAAGTGTTCTGTTGAAGATTTTAATGTGTGGGCTTTGTCTAATGGGTTTAGCCAAGTTAAGTCTGATCTTGTTATAGATGCTTTAGCTTCTATGACTGGTGTGTCTTTGGAAACATTATTGGCTGCCATTAAGCGTCTCAAGAATGGTTTTCAAGGACGTCAGATTATGGGTAGTTGCTCTTTTGAGGATGAATTGACACCTAGCGATGTTTATCAACAACTCGCTGGTATCAAGTTACAATCAAAGCGCACTAGATTGGTTAAAGGCATTGTTTGTTGGATTATGGCTTCTACATTTTTGTTTAGTTGTATAATTACAGCATTTGTGAAATGGACTATGTTTATGTATGTAACTACTAATATGCTTAGTATTACGTTTTGTGCACTTTGTGTTATAAGTTTGGCCATGTTGTTGGTTAAACATAAGCATCTTTATTTGACTATGTATATAATTCCTGTGCTTTTTACACTGCTGTATAACAATTATTTGGTTGTGTACAAGCAGACATTTAGAGGCTATGTTTATGCATGGCTATCATATTATGTTCCATCAGTTGAGTATACTTATACTGATGAAGTTATTTATGGCATGTTATTGCTTATAGGAATGGTCTTTGTTACATTACGTAGCATTAACCATGATTTGTTCTCTTTTATAATGTTTGTTGGCCGTGTGATTTCTGTTGTCTCTTTGTGGTACATGGGTTCTAACTTAGAGGAAGAAATTCTTCTTATGTTGGCTTCTCTTTTTGGTACTTACACATGGACAACAGCTTTATCTATGGCTGCAGCAAAGGTTATTGCTAAGTGGGTTGCTGTGAATGTTTTGTATTTCACAGATATACCTCAAATTAAGATAGTGCTTGTATGCTATTTGTTTATAGGTTATATTATTAGCTGTTATTGGGGTTTGTTCTCCTTGATGAACAGTTTGTTTAGAATGCCTTTGGGTGTTTACAATTATAAAATTTCAGTACAGGAATTAAGATATATGAATGCTAATGGATTGCGCCCTCCTAAGAATAGTTTTGAAGCCCTTATGCTTAATTTTAAGCTTTTGGGTATTGGAGGTGTGCCAATTATTGAAGTATCTCAATTTCAATCAAAATTGACTGATGTTAAATGTGCTAATGTTGTCTTGCTTAATTGCTTGCAACATTTGCATGTTGCTTCTAATTCTAAGTTGTGGCAGTATTGTAGCACTTTGCACAATGAAATACTTGCCACTTCTGATCTGGGTGTTGCTTTTGAAAAGCTTGCTCAGTTGTTAATTGTTTTGTTTGCTAATCCAGCTGCTGTGGATAGCAAGTGCCTGACTAGTATTGAAGAAGTTTGCGACGATTACGCAAAGGACAATACTGTTTTGCAGGCTTTACAGAGTGAATTTGTTAATATGGCTAGCTTCGTTGAATATGAAGTTGCTAAGAAAAATCTTGATGAGGCGCGTTCTAGTGGTTCTGCTAATCAACAGCAGTTAAAACAGCTAGAGAAAGCCTGTAATATTGCTAAATCTGCTTATGAACGCGACCGTGCTGTAGCAAGAAAGTTGGAGCGTATGGCAGATTTGGCTCTCACTAATATGTATAAAGAAGCTAGAATTAATGATAAGAAGAGTAAGGTTGTTTCTGCCTTGCAAACTATGCTTTTTAGTATGGTGCGTAAGTTAGATAATCAAGCTCTGAATTCAATATTAGATAATGCTGTGAAGGGTTGTGTACCATTGAATGCAATCCCTTCATTGGCTGCAAATACTCTGACTATAATTGTACCAGATAAAAGTGTTTACGATCAGGTAGTTGACAATGTCTATGTTACCTATGCGGGTAATGTATGGCAGATTCAAACTATCCAAGATTCAGATGGTACAAATAAGCAGTTGAATGAGATATCTGATGATTGTAACTGGCCACTAGTTATTATTGCAAATCGGCATAATGAGGTATCTGCAACCGTTTTGCAAAATAATGAATTAATGCCTGCTAAGTTGAAAACTCAGGTCGTTAATAGTGGTCCAGATCAGACTTGTAATACACCTACTCAATGTTACTATAATAATAGTAACAATGGGAAGATTGTTTATGCTATACTTAGTGATGTTGATGGTCTTAAGTATACAAAGATTCTTAAAGATGATGGCAATTTTGTTGTTTTGGAGTTAGATCCTCCTTGTAAATTTACTGTTCAAGATGTTAAAGGTCTTAAAATTAAGTACCTTTATTTTGTAAAAGGTTGCAACACACTAGCAAGGGGCTGGGTTGTTGGTACAATTTCTTCTACAGTTAGATTGCAAGCTGGAACTGCTACTGAGTATGCTTCCAACTCATCTATATTATCTTTATGTGCGTTTTCTGTAGATCCTAAGAAAACGTATTTAGATTTTATACAGCAGGGAGGAACACCTATTGCTAATTGTGTTAAAATGTTGTGTGACCATGCTGGTACCGGTATGGCCATTACTGTTAAACCCGATGCTACCACTAATCAGGATTCATATGGTGGTGCGTCTGTTTGTATATATTGCCGCGCACGAGTTGAACACCCAGATGTTGATGGGTTGTGCAAATTACGCGGCAAGTTTGTACAAGTGCCTGTAGGTATAAAAGATCCTGTGTCTTATGTTTTGACACATGATGTTTGTCAAGTTTGTGGATTTTGGCGGGATGGAAGTTGTTCATGTGTTAGCACTGACACTACTGTTCAGTCAAAAGATACTAATTTTTTAAACGGGTTCGGGGTACGAGTGTAGATGCCCGTCTCGTACCCTGTGCCAGTGGTTTATCTACTGATGTACAATTAAGGGCATTTGATATTTGCAATGCTAGTGTTGCTGGCATTGGTTTACATTTAAAAGTTAATTGCTGCCGTTTTCAGCGTGTTGACGAGAACGGTGATAAATTAGATCGGTTCTTTGTTGTTAAGAGGACAGATCTGACTATATATAATAGAGAGATGGAATGCTATGAGCGTGTAAAAGATTGTAAGTTTGTGGCTGAACACGATTTCTTTACATTTGATGTAGAAGGTAGTCGTGTGCCACATATTGTACGCAAGGATTTAACAAAGTATACTATGTTGGATCTTTGCTATGCGTTGCGACATTTTGATCGCAATGATTGCATGCTGCTTTGTGACATTCTCTCTATATATGCTGGTTGTGAACAATCCTACTTTACTAAGAAGGATTGGTATGATTTTGTTGAAAATCCTGATATTATTAATGTTTATAAAAAGCTAGGACCTATTTTTAATAGAGCCCTAGTTAGCGCTACTGAGTTTGCAGACAAATTAGTGGAGGTAGGCTTAGTAGGCATTTTAACACTTGATAACCAAGATTTAAATGGTAAATGGTATGATTTTGGTGACTATGTTATTGCAGCCCCAGGTTGTGGTGTTGCTATAGCAGACTCTTATTATTCTTATATGATGCCTATGCTGACCATGTGTCATGCATTGGATTGTGAATTGTATGTGAATAATGCTTATAGACTATTTGATCTTGTACAGTATGATTTTACTGATTACAAGCTCGAATTGTTTAATAAGTATTTTAAGCACTGGAGTATGCCATACCATCCTAACACGGTTGATTGTCAGGATGATCGGTGTATCATACATTGTGCTAATTTTAACATACTTTTTAGTATGGTTTTACCTAATACATGTTTTGGGCCTCTTGTTAGGCAAATTTTTGTGGATGGTGTTCCTTTTGTTGTTTCAATTGGATACCATTATAAAGAACTTGGTATTGTTATGAATATGGATGTGGATACACATCGTTATCGCTTGTCTTTAAAAGACTTGCTTTTATATGCTGCTGATCCAGCTTTGCATGTAGCTTCTGCTAGTGCATTGTATGATTTACGCACTTGCTGTTTTAGTGTTGCGGCTATAACAAGCGGTGTGAAATTTCAAACAGTTAAACCTGGTAATTTTAATCAGGATTTTTATGATTTTATTTTAAGTAAGGGCCTGCTTAAAGAGGGTAGTTCAGTTGATCTGAAGCACTTTTTCTTTACGCAGGATGGTAATGCTGCTATTACTGATTATAATTATTATAAGTATAATTTGCCCACCATGGTGGACATTAAGCAGTTGTTGTTTGTTTTGGAAGTTGTTTATAAGTATTTTGAGATTTATGATGGTGGGTGTATACCGGCATCACAAGTCATTGTTAATAATTATGATAAGAGTGCTGGCTATCCATTTAATAAATTTGGAAAAGCCAGGCTCTATTATGAAGCATTATCATTTGAGGAGCAGGATGAAATTTACGCCTATACTAAGCGCAATGTCCTGCCAACACTTACTCAAATGAATTTGAAATATGCTATTAGTGCTAAGAATAGAGCCCGCACTGTTGCTGGTGTTTCCATACTTAGTACTATGACTGGCAGAATGTTTCATCAAAAGTGTTTGAAAAGTATAGCAGCTACACGTGGTGTTCCTGTTGTTATAGGCACCACTAAATTTTATGGCGGCTGGGATGATATGTTACGTCGCCTTATTAAAGATGTTGATAATCCTGTACTTATGGGTTGGGATTATCCTAAATGTGATCGTGCTATGCCAAACATACTACGTATTGTTAGTAGTCTGGTTTTGGCTCGAAAACATGAGGCATGTTGTTCGCAAAGCGATAGGTTTTATCGACTTGCGAATGAATGCGCACAAGTTTTGAGTGAAATTGTTATGTGTGGTGGCTGTTATTATGTTAAGCCTGGGGGCACTAGTAGTGGTGATGCAACTACTGCTTTTGCTAATTCAGTCTTTAACATATGTCAAGCTGTTTCAGCCAATGTATGTGCTTTAATGTCATGCAATGGTAATAAGATTGAAGATTTGAGTATACGTGCTCTTCAGAAGCGCTTATACTCACATGTCTATAGAAGTGATGTGGTTGATACAACCTTTGTCACAGAATATTATGAATTTTTAAATAAGCATTTTAGTATGATGATTTTGAGTGATGATGGCGTTGTGTGTTATAATTCTGATTATGCGTCCAAAGGGTATATTGCTAATATAAGTGCTTTTCAACAGGTATTGTATTATCAAAATAACGTCTTTATGTCAGAATCCAAATGTTGGGTTGAAAATGACATAAACAATGGACCTCATGAATTCTGTTCACAACACACAATGCTTGTAAAGATGGATGGGGACGATGTCTATCTTCCATACCCTGATCCTAGTCGTATATTAGGAGCTGGATGTTTTGTAGATGATTTGTTAAAGACTGATAGTGTTCTTTTAATAGAACGATTTGTAAGTCTTGCAATAGATGCTTATCCACTTGTGTACCACGAAAATGAAGAATACCAAAAGGTTTTTCGTGTTTATTTGGAGTATATAAAGAAGTTGTACAATGACCTGGGTAATCAGATCTTGGATAGCTACAGTGTTATTTTAAGTACTTGTGATGGACAAAAGTTTACTGATGAGTCCTTTTACAAGAACATGTATTTAAGAAGTGCAGTTATGCAGAGTGTTGGAGCTTGCGTGGTCTGCTCTTCTCAAACATCATTACGTTGTGGCAGTTGCATCAGAAAGCCTCTTCTTTGCTGCAAGTGTTGTTACGATCATGTTATGGCAACTGATCATAAATATGTTTTGAGTGTTTCACCATATGTGTGTAACGCACCAGGATGTGATGTAAATGATGTTACCAAATTGTATCTAGGTGGTATGTCATATTATTGTGAAGATCATAAGCCACAATATTCGTTTAAGTTGGTAATGAATGGTATGGTTTTTGGTCTATATAAACAATCTTGTACAGGATCTCCGTACATAGATGATTTTAATCGTATAGCTAGTTGTAAATGGACTGATGTTGATGATTACATACTGGCTAATGAATGTACAGAGCGCTTGAAATTGTTTGCTGCAGAAACTCAAAAGGCGACTGAGGAAGCCTTTAAGCAGAGTTATGCATCAGCCACAATACAAGAGATTGTTAGCGAGCGCGAATTGATCCTTTCTTGGGAGATTGGAAAAGTGAAGCCACCACTTAATAAAAATTATGTTTTTACTGGCTACCATTTTACTAAAAATGGCAAGACAGTTTTAGGTGAGTATGTTTTTGATAAGAGTGAGTTGACTAATGGTGTGTATTATCGCGCCACAACCACTTATAAGCTATCTGTAGGAGATGTTTTTGTTTTAACCTCTCATTCAGTAGCTAATTTAAGTGCTCCCACGCTTGTGCCGCAGGAGAATTATAGTAGTATTAGATTTGCTAGTGTTTATAGTGTGCTTGAGACGTTTCAGAACAATGTCGTTAATTATCAACACATTGGTATGAAACGTTATTGTACCGTGCAAGGACCTCCTGGCACAGGAAAGTCACATCTTGCTATTGGTCTTGCTGTTTATTATTGTACAGCACGTGTAGTATACACTGCGGCCAGCCATGCAGCTGTTGACGCATTGTGTGAAAAAGCATACAAATTTTTGAATATAAATGACTGCACTCGTATTGTTCCTGCCAAGGTCAGGGTGGAGTGCTATGATAAGTTTAAAATTAATGACACCACTCGTAAGTATGTGTTTACTACTATAAATGCATTACCTGAGATGGTGACTGATATTGTTGTTGTAGATGAAGTTAGTATGCTTACCAATTATGAGCTTTCTGTTATTAATGCTCGTATTCGTGCTAAGCATTATGTTTACATTGGTGATCCTGCCCAATTGCCAGCACCACGTGTGTTATTGAGCAAGGGTACACTTGAACCTAAATATTTTAACACTGTTACTAAGCTTATGTGTTGCTTAGGGCCAGACATTTTTCTTGGTACATGTTATAGATGTCCTAAGGAAATTGTTGATACAGTGTCTGCCTTGGTTTATGAAAATAAGCTTAAGGCTAAGAATGAAAGTAGTTCATTGTGTTTTAAGGTCTATTATAAAGGCGTTACAACACATGAAAGTTCTAGTGCTGTAAATATGCAGCAGATTTATTTGATTAATAAGTTTTTGAAGGCTAACCCTTTGTGGCATAAAGCCGTTTTTATTAGCCCATATAATAGCCAGAACTTTGCAGCTAAGCGTGTTTTGGGTTTGCAAACCCAGACCGTGGATTCTGCTCAAGGTTCTGAATATGATTATGTTATATATTCACAGACTGCAGAAACAGCGCATTCTGTAAATGTTAATCGTTTCAATGTTGCTATTACTCGAGCCAAGAAAGGTATTCTTTGTGTTATGAGTAATATGCAGTTGTTCGAAGCATTACAGTTTACTACATTGACCTTAGATAAAGTGCCACAGGCCGTTGAAACGAGAGTTCAATGTAGTACCAATTTATTTAAAGATTGTAGCAAGAGTTATAGTGGTTACCACCCAGCTCACGCTCCTTCATTTTTGGCAGTAGATGACAAATATAAGGCAACTGGCGATTTAGCCGTGTGTCTTGGTATTGGAGATTCTGCTGTTACATATTCAAGATTAATATCACTCATGGGTTTTAAACTTGACGTCACCCTTGATGGGTATTGTAAGCTTTTTATAACTAAAGAAGAAGCTGTTAAACGCGTGCGTGCTTGGGTTGGCTTTGATGCTGAAGGCGCTCATGCCACGCGTGATAGCATTGGGACAAATTTCCCACTTCAATTAGGGTTTTCTACAGGAATTGATTTTGTTGTGGAAGCCACTGGTTTGTTTGCTGATAGAGATGGTTACAGCTTTAAAAAGGCTGTGGCTAAAGCTCCTCCTGGTGAACAATTTAAGCATCTCATCCCTTTGATGACGAGAGGTCAGCGCTGGGATGTTGTTAGACCTAGAATAGTACAAATGTTTGCAGATCATTTAATTGATCTGTCTGATTGTGTTGTGTTAGTTACATGGGCAGCCAACTTTGAGCTCACTTGTCTCCGATACTTTGCAAAAGTAGGTCGTGAGATCTCTTGTAATGTGTGCACTAAACGTGCCACAGCTTACAATTCTAGAACTGGTTACTATGGTTGTTGGCGCCATAGTGTTACATGTGATTACTTGTATAATCCACTTATTGTTGATATTCAACAGTGGGGATATACTGGATCTTTATCAAGTAATCATGATTTATATTGTAGTGTCCACAAAGGAGCACATGTTGCTTCATCTGATGCTATAATGACACGGTGTTTAGCCGTTTATGATTGTTTTTGCAATAATATTAATTGGAATGTGGAGTATCCCATTATTTCAAATGAGTTAAGTATTAATACCTCTTGTAGGGTCTTGCAGCGTGTTATGCTTAAAGCTGCAATGCTCTGCAACAGATATACTTTGTGTTATGATATTGGCAACCCAAAAGCGATTGCCTGTGTCAAAGATTTTGATTTTAAGTTCTATGATGCCCAACCTATTGTTAAGTCTGTCAAGACTCTTTTGTATTCTTTTGAGGCACATAAGGACTCTTTTAAAGATGGTTTGTGTATGTTTTGGAACTGTAATGTGGATAAGTATCCACCGAATGCAGTTGTATGTAGATTTGACACGAGAGTGTTGAATAATTTAAATCTTCCTGGCTGTAATGGAGGTAGTTTGTATGTTAATAAACATGCATTCCACACTAAACCCTTTTCTAGGGCAGCCTTTGAGCATTTGAAGCCTATGCCATTTTTCTATTATTCAGATACGCCTTGTGTGTATATGGATGGCATGGATGCTAAGCAGGTTGATTATGTACCTTTGAAATCCGCCACTTGCATCACAAGATGCAATTTAGGTGGTGCAGTTTGTTTAAAACATGCTGAAGAGTATCGTGAGTACCTAGAGTCTTACAATACAGCTACTACAGCAGGTTTTACTTTTTGGGTCTATAAGACATTTGATTTTTATAATTTGTGGAATACGTTCACCAAGCTACAAAGCTTGGAGAACGTTGTATATAATTTAGTCAAAACTGGTCATTATACGGGACAGGCTGGTGAAATGCCTTGTGCCATTATAAATGATAAAGTCGTGGCTAAGATCGATAAGGAAGATGTTGTCATTTTTATTAATAATACAACATACCCTACTAATGTGGCTGTTGAATTATTTGCCAAGCGCAGTATTCGACACCATCCAGAGCTTAAGCTCTTTAGAAATTTGAATATAGACGTGTGTTGGAAGCACGTCATTTGGGATTATGCTAGAGAAAGTATATTTTGCAGTAATACCTATGGTGTCTGCATGTATACAGATTTAAAGTTCATTGATAAATTGAATGTCCTTTTTGATGGTCGTGATAATGGTGCTCTTGAAGCTTTTAAACGCTCTAATAATGGCGTTTACATTTCCACGACAAAAGTTAAGAGTCTTTCGATGATAAAAGGTCCACCGCGTGCTGAATTAAATGGCGTAGTGGTGGACAAGGTTGGAGACACTGATTGTGTGTTTTATTTTGCTGTGCGTAAAGAGGGTCAGGATGTCATCTTCAGCCAATTCGACAGCCTGAGAGTCAGCTCTAACCAGAGCCCACAAGGTAATCTGGGGAGTAATGAACCCGGTAATGTCGGTGGTAATGATGCTCTGGCAACCTCCACTATATTTACACAAAGCCGTGTTATTAGCTCTTTTACATGTCGTACTGATATGGAAAAAGATTTTATAGCTTTAGATCAACACGTGTTTATTCAGAAGTATGGTTTGGAGGACTATGCCTTTGAACACATTGTTTATGGTAATTTCAACCAGAAGATTATTGGTGGTTTGCATTTGTTAATAGGCTTGTACCGAAGACATCAAACTTCCAATCTGGTTATTCAGGAGTTTGTTTCATACGACTCCAGCATACACTCTTATTTTATCACTGATGGGAAGAGTGGTGGTAGTAAGAGTGTTTGCACTGTTATAGATATCTTGTTGGATGATTTTGTGGCTCTTGTTAAGTCACTTAATCTCAGCTGTGTGAGTAAGGTTGTTAACGTTAATGTTGATTTTAAAGACTTTCAGTTCATGCTTTGGTGTAACGATGAGAAAGTTATGACTTTCTATCCTCGTTTGCAAGCTGCATCTGACTGGAAGCCTGGTTATTCTATGCCTGTATTATATAAGTATTTGAATTCCCCTATGGAAAGAGTTAGTCTCTGGAATTATGGGAAGCCGGTTACTTTGCCTACTGGCTGTATGATGAATGTTGCTAAGTATACTCAGTTATGTCAATATCTGAATACTACAACATTAGCTGTACCTGTTAATATGCGAGTTTTGCATTTAGGTGCAGGTTCAGAAAAAGGAGTAGCACCGGGTTCTGCAGTTCTTAGGCAGTGGTTGCCTGCTGGTACTATTCTTGTAGATAATGATTTATACCCATTTGTGAGTGACAGTGTCGCTACATATTTTGGGGATTGTATAACCTTACCCTTTGATTGTCAATGGGATTTGATAATTTCTGATATGTATGACCCTATTACTAAGAACATAGGGGAGTACAATGTAAGTAAAGATGGTTTCTTTACATACATTTCTCATATGATTCGCGACAAGTTAGCTCTGGGTGGCAGTGTTGCTATAAAAATAACAGAGTTTTCTTGGAATGCAGAATTATATAAGTTAATGGGGTATTTTGCATTTTGGACGGTTTTCTGCACAAATGCAAACGCTTCTTCTAGTGAAGGGTTTTTAATTGGCATAAATTATTTGGGTAAGCCCAAAGTTGAGATAGATGGAAGTGTTATGCATGCCAATTATTTGTTTTGGAGAAATTCCACAGTTTGGAACGGGGGTGCTTATAGCCTGTTTGACATGGCTAAATTCCCGCTTAAGTTGGCTGGTACTGCCGTAATAAATTTAAGAGCAGATCAGATTAATGATATGGTTTATTCCCTTCTTGAAAAGGGTAAACTACTTGTTAGAGATACAAATAAAGAAGTTTTTGTTGGTGATAGTTTGGTTAATGTAATCTAAACTTTAAGAATGGCAGTCGCTTATGCAGACAAGCCTAATCACTTTATCAATTTTCCACTTACCCAGTTTCAGGGTTTTGTGTTAAATTATAAAGGTTTACAATTTCAACTTCTCGATGAAGGAGTGGATTGTAAAATACAAACAGCGCCTCACATTAGTCTTGCTATGCTGGATATTCAGCCTGAAGACTACAGAAGTGTTGATGTTGCTATTCAAGAAGTTATTGATGATATGCATTGGGGTGAGGGCTTTCAGATTAAATTTGAAAACCCCCATATCCTAGGAAGATGCATAGTTTTAGATGTTAAAGGTGTAGAAGAATTGCATGATGATTTAGTCAATTACATTCGTGATAAAGGTTGTGTTGCTGACCAATCCAGGAAGTGGATTGGACATTGCACCATAGCCCAACTCACTGATGCTGCACTTTCCATTAAGGAAAATGTTGATTTTATAAACAGCATGCAATTCAACTATAAAATCACTATCAATCCCTCATCACCGGCTAGACTTGAAATAGTTAAGCTTGGTGCTGAAAAGAAAGATGGTTTTTATGAAACCATAGCTAGCCACTGGATGGGAATTCGTTTTGAATATAATCCACCCACTGATAAGCTAGCTATGATTATGGGTTATTGTTGTTTAGAAGTGGTGCGTAAAGAGCTAGAAGAAGGTGACCTTCCCGAGAATGATGATGATGCTTGGTTTAAGCTCTCGTACCATTATGAAAACAATTCTTGGTTCTTTCGACATGTCTACAGGAAAAGTTCTTACTTCCGTAAGTCTTGTCAAAATTTAGATTGTAATTGTTTGGGGTTTTATGAATCTTCAGTTGAAGAAGACTAAACTCAGTGAAAATGTTTTTGCTTCCTAGATTTGTTCTAGTTAGCTGCATAATTGGTAGCCTAGGTTTTGACAACCCTCCTACCAATGTTGTTTCTCATTTAAATGGAGATTGGTTTTTATTTGGTGACAGTCGTTCAGATTGTAATCATGTTGTTACTACCAATCCCCGTAATTATTCTTATATGGACCTTAATCCTGCCTTGTGTGGTTCTGGCAAAATATCATCTAAAGCTGGCAACTCCATCTTTAGGAGTTTTCACTTTACTGATTTTTATAATTACACAGGCGAAGGTCAACAAATTATTTTCTATGAGGGTGTTAATTTTACGCCTTATCATGCCTTTAAATGCACCACTTCTGGTAGTAATGATATTTGGATGCAGAATAAAGGCTTGTTTTACACTCAGGTTTATAAGAATATGGCTGTGTATCGCAGCCTTACTTTTGTTAATGTACCATATGTTTATAATGGCTCTGCACAATCTACAGCCCTTTGTAAATCTGGTAGTTTAGTTCTTAATAACCCTGCATACATAGCTCGTGAAGCTAATTTTGGGGATTATTATTATAAGGTTGAAGCTGATTTTTATTTGTCAGGTTGTGACGAGTATATCGTACCACTTTGTATTTTCAACGGCAAGTTTTTGTCGAATACAAAGTATTATGATGATAGTCAATATTATTTTAATAAAGACACTGGTGTTATTTATGGTCTCAATTCTACTGAAACCATTACCACTGGTTTTGACTTTAATTGTCATTATTTAGTTCTACCCTCTGGTAATTATTTAGCCATTTCAAATGAGCTATTGTTAACTGTTCCTACTAAAGCAATCTGTCTTAATAAGCGTAAGGATTTTACGCCTGTACAGGTTGTTGATTCGCGGTGGAACAATGCCACGCTGTCTGATAACATGACGGCAGTTGCTTGTCAACCCCCGTACTGTTATTTTCGTAATTCTACTACCAATTATGTTGGTGTTTATGATATCAATCATGGGGATGCTGGTTTTACTAGCATACTCAGTGGTTTGTTATATGACTCACCTTGTTTTTCGCAGCAAGGTGTTTTTAGGTATGATAATGTTAGCAGTGTCTGGCCTCTCTACCCTTATGGCAGATGCCCTACTGCTGCTAATATTAATACCCCTGATGTACCTATTTGTGTGTATGATCCGCTACCAATTATTTTGCTTGGCATTCTTTTGGTTGTTGCGGTCATAATTATTGTAGTTTTGTTGTTATATTTTATGGTGGATAATGGTACTAGGCTGCATGATGCTTAGACCATAATCTAAACATGTTTTTGATACTTTTAATTTCCTTACCAACGGCTTTTGCTGTTATAGGAGATTTAAAGTGTACTACAGTTTCCATTAATGATGTTGACACAGGTGTTCCTTCTATTAGCACTGATACTGTCGATGTTACTAATGGTTTAGGTACTTATTATGTTTTAGATCGTGTGTATTTAAATACTACGTTGTTGCTTAATGGTTATTACCCTACTTCAGGTTCTACATATCGTAATATGGCACTGAAGGGAACTTTACTATTGAGCACACTGTGGTTTAAACCACCTTTTCTTTCTGATTTTACTAATGGTATTTTTGCTAAGGTCAAAAATACCAAGGTTATTAAAGATGGTGTAATGTATAGTGAGTTTCCTGCTATAACTATAGGTAGTACTTTTGTAAATACATCCTATAGTGTGGTAGTACAACCACATACTACCATTTTGGGTAATAAATTACAAGGTTTCTTAGAGATCTCTGTTTGCCAGTATACTATGTGCGAGTACCCAAATACGATTTGTAATCCTAATCTGGGTAATCAACGCGTAGAACTATGGCATTGGGATACAGGTGTTGTTTCCTGTTTATATAAGCGTAATTTCACATATGATGTGAATGCTGATTATTTGTATTTCCATTTTTATCAAGAAGGTGGTACTTTTTATGCATATTTTACAGACACTGGTGTGGTTACTAAGTTTCTGTTTAATGTTTATTTAGGCACGGTGCTTTCACATTATTATGTCATGCCTTTGACTTGTAATAGTGCTCTGACTTTAGAATATTGGGTTACACCCCTCACTTCTAAACAATATCTACTAGCTTTCAATCAAGATGGTGTTATTTTTAATGCTGTTGATTGTAAGAGTGATTTTATGAGTGAGATTAAGTGTAAAACACTATCTATAGCACCATCTACTGGTGTTTATGAAGTAAACGGTTACACTGTTCAGCCAATTGCAGATGTTTACCGACGTATACCTAACCTTCCCGATTGCAATATTGAGGCTTGGCTTAATGATAAGTCGGTGCCCTCTCCATTAAATTGGGAACGTAAGACCTTTTCAAATTGTAATTTTAATATGAGCAGCCTGATGTCTTTTATTCAGGCAGACTCATTTACTTGTAATAATATTGATGCTGCTAAGATATATGGTATGTGTTTTTCCAGCATAACTATAGATAAGTTTGCTATTCCCAATGGTAGGAAGGTTGACCTACAATTGGGTAATTTGGGCTATTTGCAATCTTTTAATTATAGAATTGATACTACTGCTACAAGTTGTCAGTTGTATTATAATTTACCTGCTGCTAATGTTTCTGTTAGCAGGTTTAATCCTTCTACTTGGAATAGGAGATTTGGTTTTACAGAACAATCTGTTTTTAAGCCTCAACCTGCAGGTGTTTTTACTGATCATGATGTTGTTTATGCACAACATTGTTTTAAAGCTCCCACAAATTTCTGTCCTTGTAAATTGGATGGGTCTTTGTGTGTAGGTAGTGGTTCTGGTATAGATGCTGGTTATAAAAATACTGGCATAGGCACTTGTCCTGCAGGTACTAATTATTTAACTTGCCATAATGCTGCCCAATGTGATTGTTTGTGCACTCCAGATCCCATTACATCTAAAGCTACAGGGCCTCACAAATGCCCTCAAACTAAATATTTAGTTGGCATAGGTGAGCACTGTTCGGGTCTTGCTATTAAAAGTGATCATTGTGGAGGTAACCCTTGTAGTTGCCAACCACAAGCATTTTTGGGTTGGTCTGTTGACTCTTGTTTACAAGGGGATAGGTGTAATATTTTTGCTAATTTTATTTTGCATGATGTTAATAGTGGTACTACTTGTTCTACTGATTTACAAAAATCAAACACAGACATAATTCTTGGTGTTTGTGTTAATTATGATCTTTATGGTATTACTGGCCAAGGGATTTTTGTTGAGGTTAATGCGACTTATTATAATAGTTGGCAGAACCTTTTATATGATTCTAATGGTAATCTCTACGGTTTCAGAGATTACTTAACAAATAGAACTTTTATGATTCGTAGTTGCTATAGTGGTCGTGTTTCAGCGGCTTTTCATGCTAACTCTTCCGAACCAGCATTGCTATTTCGGAATATCAAATGCAATTACGTTTTTAATAACACTCTTTCACGACAGCTTCAACCTATTAACTATTTTGATAGCTATCTTGGTTGTGTTGTCAATGCTGATAATAGTACTTCTAGTGTAGTTCAAACATGTGACCTCACAGTAGGTAGTGGTTACTGTGTGGATTACTCTACAAAAAGACGAAGTCGTAGATCGATTACCACTGGTTATCGGTTTACTAATTTTGAGCCATTTACTGTTAATTCAGTAAATGATAGCTTAGAACCTGTAGGTGGTTTGTATGAAATTCAAATACCTTCAGAGTTTACTATAGGTAATATGGAGGAGTTTATTCAAACAAGCTCTCCTAAAGTTACTATTGATTGTTCTGCTTTTGTCTGTGGTGATTATGCAGCATGTAAATCACAGTTGGTTGAATATGGTAGCTTCTGTGACAATATTAATGCTATACTCACAGAAGTAAATGAACTACTTGACACTACACAGTTGCAAGTAGCTAATAGTTTAATGAATGGTGTCACTCTTAGCACCAAGCTTAAAGATGGCGTTAATTTTAATGTAGACGACATCAATTTTTCCCCTGTATTAGGTTGTTTAGGAAGCGATTGTAATAAAGTTTCCAGTAGATCTGCTATAGAGGACTTACTTTTCTCTAAAGTAAAGTTATCTGATGTCGGTTTCGTTGAGGCTTATAATAATTGTACTGGAGGTGCCGAAATTAGGGACCTCATTTGTGTGCAAAGTTATAATGGTATCAAGGTGTTGCCCCCACTGCTATCAGAAAATCAGATCAGTGGTTACACTTTGGCTGCCACCTCTGCTAGCCTGTTTCCTCCATGGTCAGCAGCAGCAGGTGTACCATTCTATTTAAATGTTCAGTATCGTATTAATGGTATTGGTGTTACCATGGATGTGCTAAGTCAAAATCAAAAGCTTATTGCTAATGCATTTAACAATGCTCTTGGTGCTATTCAGGAAGGGTTTGATGCTACCAATTCTGCTTTAGTTAAAATTCAAGCTGTTGTTAATGCAAATGCTGAAGCTCTTAATAACTTATTGCAACAACTCTCTAATAGATTTGGTGCTATAAGTTCTTCTTTACAAGAAATTCTATCTAGACTGGATGCTCTTGAAGCGCAAGCTCAGATAGACAGGCTTATTAATGGGCGTCTTACCGCTCTTAATGCTTATGTTTCTCAACAGCTTAGTGACTCTACACTAGTAAAGTTTAGTGCAGCACAAGCTATGGAGAAGGTTAATGAATGTGTCAAAAGCCAATCATCTAGGATAAATTTTTGTGGTAATGGTAATCATATTATATCATTAGTGCAGAATGCTCCATATGGTTTGTATTTCATTCATTTTAGCTATGTCCCTACTAAGTATGTCACTGCGAAGGTTAGTCCCGGCCTGTGCATTGCTGGTGATAGGGGTATAGCCCCTAAGAGTGGTTATTTTGTTAATGTAAATAATACTTGGATGTTCACTGGTAGTGGTTATTACTACCCTGAACCTATAACTGGAAATAATGTTGTTGTTATGAGTACCTGTGCTGTTAATTATACTAAAGCGCCAGATGTAATGCTGAACATTTCAACACCCAACCTCCCTGATTTTAAGGAAGAGTTGGATCAATGGTTTAAAAACCAAACATCAGTGGCACCAGATTTGTCACTTGATTATATAAATGTTACATTCTTGGACCTACAAGATGAAATGAATAGGTTACAGGAGGCAATAAAAGTTTTAAATCAGAGCTACATCAATCTCAAGGACATTGGTACATATGAGTATTATGTAAAATGGCCTTGGTATGTATGGCTTTTAATTGGCTTTGCTGGTGTAGCTATGCTTGTTTTACTATTCTTCATATGCTGTTGTACAGGATGTGGGACTAGTTGTTTTAAGAAATGTGGTGGTTGTTGTGATGATTATACTGGACACCAGGAGTTAGTAATTAAAACATCACATGAAGACTAAGTTCGTCTTTGATTTATTGACTCCTGACGATATATTACATCCCTCCAATCATGTGAATCTTATTATAAGACCCATTTAGGTCGAGCATATTATAATAGCTACCACAATGCCTGCTGTCTAGTGGGTACTGTGTCTTATATAACTAGTAAACCTGCAATGCCAATGGCTACAATCATTGAAGTTGCAGATTATACTAACATTATTCCTATTACTGTTCTTACAACAGTTCATTTAGGTGTTTCTATAGGTATTGACACTAGCACCACTGGTTTTTCATGGTACTAGTTCCAAACCATATTATAATTCAGGTAGACCTTATAACTTTAAGCATTATTGCCAAAGGTTTTAAGGTCACGCCTTAGTAATGGACATCTGGAAACCTGAGATTAAATATCTCCGTTATACTAACGGTTTTAATGTCTCAGAATTAGAAGATGCTTGTTTTAAATTTAACTATAAATTTCCTAAAGTAGGATATTGTAGAGTTCCTAGTCATGCTTGGTGCCGTAATCAAGGTAGCTTTTGTGCTACACTCACTCTTTATGGCAAATCCAAACATTATGATAAATATTTTGGAGTAATAACTGGTTTTACAGCATTCGCTAATACTGTAGAGGAGGCTGTTAATAAACTGGTTTTCTTAGCTGTTGACTTTATTACCTGGCGTAGACAGGAGTTAAATGTTTATGGCTGATGCTTATTTTGCAGACACTGTGTGGTATGTGGGGCAAATAATTTTTATAGTTGCCATTTGTTTATTGGTTATAATAGTTGTAGTGGCATTTTTGGCAACTTTTAAATTGTGTATTCAACTTTGCGGTATGTGTAATACCTTAGTACTGTCCCCTTCTATTTATGTGTTTAATAGAGGTAGGCAGTTTTATGAGTTTTACAATGATGTAAAACCACCAGTTCTTGATGTGGATGACGTTTAGTTAATCCAAACATTATGAGTAGTGTAACTACACCAGCACCAGTTTACACCTGGACTGCTGATGAAGCTATTAAATTCCTAAAGGAATGGAACTTTTCTTTGGGTATTATACTACTTTTTATTACAGTCATATTGCAATTTGGATATACAAGTCGCAGTATGTTTGTTTATGTTATTAAGATGATTATTTTGTGGCTTATGTGGCCCCTTACTATCATCTTAACTATTTTCAATTGCGTGTATGCGTTGAATAATGTGTACCTTGGCTTCTCTATAGTTTTTACCATAGTGGCCATTATCATGTGGATTGTGTATTTTGTGAATAGTATCAGGTTGTTTATTAGAACTGGAAGTTGGTGGAGTTTCAACCCAGAAACAAACAACTTGATGTCTATAGATATGAAGGGAAGGATGTATGTTAGGCCGATAATTGAGGACTACCATACCCTTACGGTCACAATAATACGTGGTCATCTTTACATGCAAGGTATAAAACTAGGTACTGGCTATTCTTTGTCAGATTTGCCAGCTTATGTGTCTGTTGCTAAGGTCTCGCACCTGCTCACGTATAAGCGTGGTTTTCTTGACAAGATAGGCGATACTAGTGGTTTTGCTGTTTATGTTAAGTCCAAAGTCGGTAATTACCGACTGCCATCAACTCAAAAGGGTTCTGGCTTGGACACCGCATTGTTGAGAAATAATATCTAAACTTTAAGGATGTCTTTTACTCCTGGTAAGCAATCCAGTAGTAGAGCGTCCTCTGGAAATCGTTCTGGTAATGGCATCCTTAAGTGGGCCGATCAGTCCGACCAATCTAGAAATGTTCAAACCAGGGGTAGAAGAGCTCAACCCAAGCAAACTGCTACTTCTCAGCAACCATCAGGAGGGAATGTTGTACCCTACTATTCTTGGTTCTCTGGAATTACTCAGTTTCAAAAGGGAAAGGAGTTTGAATTTGCAGAGGGACAAGGTGTGCCTATTGCACCAGGAGTCCCAGCTACTGAAGCTAAAGGGTACTGGTACAGACACAACAGACGTTCCTTTAAAACAGCCGATGGCAACCAGCGTCAATTGCTTCCACGATGGTATTTTTACTATCTTGGAACAGGACCGCATGCCAAAGACCAGTATGGCACCGACATTGACGGAGTCTTCTGGGTCGCTAGTAATCAGGCTGATGTCAATACCCCGGCTGACATTCTCGATCGGGACCCAAGTAGCGATGAGGCTATTCCGACTAGGTTTCCGCCTGGCACGGTACTCCCTCAGGGTTACTATATTGAAGGCTCAGGAAGGTCTGCTCCTAATTCCAGATCTACTTCACGCGCATCCAGTAGAGCCTCTAGTGCAGGATCGCGCAGTAGAGCCAATTCTGGCAATAGAACCCCTACCTCTGGTGTAACACCTGATATGGCTGATCAAATTGCTAGTCTTGTTCTGGCAAAACTTGGCAAGGACGCCACTAAGCCACAGCAAGTAACTAAGCAGACTGCCAAGGAAATCAGACAGAAAATTTTGAATAAGCCCCGCCAAAAGAGGAGCCCCAATAAACAATGCACTGTTCAGCAGTGTTTTGGGAAGAGAGGCCCCAATCAGAATTTTGGTGGTGGAGAAATGTTAAAACTTGGAACTAGTGATCCACAGTTTCCGATTCTTGCAGAACTCGCACCCACAGCTGGTGCGTTTTTCTTTGGATCTAGATTAGAGTTGGCCAAAGTGCAGAATTTGTCTGGGAATCTTGACGAGCCCCAGAAGGATGTTTATGAATTGCGCTATAATGGCGCAATTAGATTTGATAGTACACTTTCAGGTTTTGAGACCATAATGAAGGTGTTGAATGAGAATTTGAATGCATACCAACAACAGGATGGTACGATGAATATGAGTCCAAAACCACAGCGTCAGCGTGGTCAGAAGAACGGACAAGGAGAAAATGATAATATAAGTGTTGCAGCGCCCAAAAGCCGTGTGCAGCAAAATAAGATTAGAGAGTTGACTGCAGAGGACATCAGCCTTCTTAAGAAGATGGATGAGCCCTTTACTGAAGACACCTCAGAAATATAAGAGAATGAACCTTATGTCGGCACCTGGTGGTAACCCCTCGCAGGAAAGTCGGGATAAGGCACTCTCTATCAGAATGGATGTCTTGCTGCTATAATAGATAGTGAAGGTTATAGCAGACTATAGATTAATTAGTTGAAAGTTTTGTGTGGTAATGTATAGTGTTGGAGAAAGTGAAAGACTTGCGGAAGTAATTGCCGACAAGTGCCCAAGGGGAAGAGCCAGCATGTTAAGTTACCACC\n",
      "\n",
      "Definition Line for sequence 3:\n",
      ">31631:ncbi:3 [KY967361]\t31631\tncbi\t3 [KY967361] 31631\tHuman coronavirus OC43\t\tscientific name\n",
      "30,661 bases:\n",
      "ATCTCTTGTTAGATCTTTTTGTAATCTAAACTTTATAAAAACATCCACTCCCTGTAATCTATGCTTGTGGGCGTAGATTTTTCATAGTGGTGTTTATATTCATTTCTGCTGTTAACAGCTTTCAGCCAGGGACGTGTTGTATCCTAGGCAGTGGCCCTCCCATAGGTCACAATGTCGAAGATCAACAAATACGGTCTCGAACTACACTGGGCTCCAGAATTTCCATGGATGTTTGAGGACGCAGAGGAGAAGTTGGACAACCCTAGTAGTTCAGAGGTGGATATGATTTGCTCCACCACTGCGCAAAAGCTGGAAACAGACGGAATTTGTCCTGAAAATCATGTGATGGTGGATTGTCGCCGACTTCTTAAACAAGAGTGTTGTGTGCAGTCTAGCCTAATACGTGAAATTGTTATGAATGCAAGTCCATATCATTTGGAGGTGCTACTTCAAGATGCTTTGCAGTCCCGTGAAGCAGTTTTGGTTACAACCCCCTTAGGTATGTCCTTAGAGGCATGCTATGTGAGAGGTTGTAATCCTAAAGGATGGACCATGGGTTTGTTTCGGCGTAGAAGTGTGTGTAACACTGGTCGTTGCACTGTTAATAAGCATGTGGCCTATCAGTTATATATGATTGATCCTACGGGTGTCTGTCTTGGTGCAGGTCAATTCGTGGGTTGGGTCATACCCTTAGCCTTTATGCCTGTGCAATCCCGGAAATTTATTGTTCCATGGGTTATGTACTTGCGTAAGCGTGGCGAAAAGGGTGCTTATAATAAAGATCATGGATGTGGCGGTTTTGGACATGTTTATGATTTTAAAGTTGAAGATGCTTATGACCAGGTGCATGATGAGCCTAAGGGTAAGTTTTCTAAGAAGGCTTATGCTTTAATTAGAGGGTATCGTGGTGTTAAACCACTTCTCTATGTAGACCAGTATGGTTGTGATTATACTGGTAGTCTTGCAGATGGCTTAGAGGCTTATGCTGATAAGACATTGCAAGAAATGAAGGCATTATTTCCTACTTGGAGTCAGGAACTCCCTTTTGATGTAATTGTGGCATGGCATGTTGTGCGTGATCCACGTTATGTTATGAGATTGCAGAGTGCTGCTACTATATGTAGTGTTGCATATGTTGCTAATCCTACTGAAGACTTGTGTGATGGTTCTGTTGTTATAAAAGAACCTGTGCATGTTTATGCAGATGACTCTATTATTTTACGTCAATATAATTTATTTGACATTATGAGTCATTTTTATATGGAGGCAGATACAGTTGTAAATGCTTTTTATGGTGTTGCTTTGAAAGATTGTGGTTTTGTTATGCAGTTTGGTTACATTGATTGCGAACAAGACTCGTGTGATTTTAAAGGTTGGATTCCTGGTAACATGATAGATGGTTTTGCTTGCACCACTTGTGGTCATGTTTATGAAGTAGGTGATTTGATAGCACAATCTTCAGGTGTTTTGCCTGTTAACCCTGTATTGCATACTAAGAGTGCAGCAGGTTATGGTGGTTTTGGTTGTAAAGATTCTTTTACTCTGTATGGCCAAACTGTAGTTTATTTTGGAGGTTGTGTGTATTGGAGTCCAGCACGTAATATATGGATTCCTATATTAAAATCCTCTGTTAAGTCATATGACAGTTTGGTTTATACTGGAGTTTTAGGTTGCAAGGCTATTGTAAAGGAAACAAATCTCATTTGCAAAGCTCTGTACCTTGATTATGTTCAACACAAGTGTGGCAATTTACACCAACGGGAGTTGCTAGGTGTTTCAGATGTGTGGCATAAACAATTGCTAATAAATAGAGGTGTTTATAAACCTCTGTTAGAGAATATTGATTATTTTAATATGCGACGCGCTAAATTTAGTTTAGAAACTTTTACTGTTTGTGCAGATGGCTTTATGCCTTTTCTTTTAGATGATTTAGTTCCACGCGCATATTATTTGGCAGTAAGTGGTCAAGCATTTTGTGATTATGCAGATAAACTTTGCCATGCTGTTGTGTCTAAGAGTAAAGAGTTACTTGATGTGTCTCTGGATTCTTTAGGTGCAGCTATACATTATTTGAATTCTAAGATTGTTGATTTGGCTCAACATTTTAGTGATTTTGGAACAAGTTTTGTTTCTAAAATTGTTCATTTCTTTAAGACTTTTACTACTAGCACTGCTCTTGCATTTGCATGGGTTTTATTTCATGTTTTGCATGGTGCTTATATAGTAGTGGAGAGTGATATATATTTTGTTAAAAACATTCCTCGTTATGCTAGTGCTGTTGCACAAGCATTTCAGAGTGTTGCTAAAGTTGTACTGGACTCTTTAAGAGTTACTTTTATTGATGGCCTTTCTTGTTTTAAGATTGGACGTAGAAGAATTTGTCTTTCAGGCAGAAAAATTTATGAAGTTGCGCGTGGCTTGTTACATTCATCCCAATTGCCATTAGATGTTTATGATTTAACCATGCCTAGTCAAGTTCAGAAAGCCAAGCAAAAACCTATTTATTTAAAAGGTTCTGGTTCTGATTTTTCATTAGCGGATAGTGTAGTTGAAGTTGTTACAACTTCACTTACACCATGTGGCTATTCTGAACCACCTAAAGTTGCAGATAAAATTTGCATTGTAGATAATGTTTATATGGCCAAGGCTGGTGATAAATATTACCCTGTTGTGGTTGATGATCATGTTGGACTCTTGGATCAAGCATGGAGAGTTCCTTGTGCTGGACGGCGTGTTACATTTAAGGAACAGCCTACAGTAAAGGAGATTATAAGCATGCCTAAGATTATTAAGGTTTTTTATGAGCTTGACAATGATTTTAATACTATTTTAAATACTGCGTGTGGAGTGTTTGAAGTGGATGATACTGTCGATATGGAGGAATTTTATGCTGTGGTGATTGATGCCATAGAAGAGAAACTTTCTCCATGTAAGGAGCTTGAAGGTGTAGGTGCTAAAGTTAGTGCCTTTTTACAGAAATTAGAGGATAATCCCCTATTTTTATTTGATGAGGCTGGCGAAGAAGTTTTTGCTCCTAAATTGTATTGTGCCTTTACAGCTCCTGAAGATGATGACTTTCTTGAGGAAAGTGATGTTGAAGAAGATGATGTAGAAGGTGAGGAAACTGATTTAACTATCACAAGTGCTGGACAGCCTTGTGTTGCTAGTGAACAGGAGGAATCTTCTGAAGTCTTAGAGGACACTTTGGATGATGGTCCAAGTGTGGAGACATCTGATTCACAAGTTGAAGAAGATGTAGAAATGTCGGATTTTGTTGATCTTGAATCTGTGATTCAGGATTATGAAAATGTTTGTTTTGAGTTTTATACTACAGAGCCAGAATTTGTTAAAGTTTTGGGTCTGTATGTGCCTAAAGCAACTCGCAACAATTGCTGGTTGCGATCAGTTTTGGCAGTGATGCAGAAATTGCCCTGTCAATTTAAAGATAAAAATTTGCAGGATCTTTGGGTGTTATACAAGCAACAGTATAGTCAGTTGTTTGTTGATACCTTGGTTAATAAGATACCTGCTAATATTGTACTTCCACAAGGTGGTTATGTTGCTGATTTTGCATATTGGTTTTTAACCTTATGTGATTGGCAGTGTGTTGCATACTGGAAATGCATTAAATGTGATTTAGCTCTTAAGCTTAAAGGCTTGGATGCTATGTTCTTTTATGGTGATGTTGTCTCACATATATGCAAGTGTGGTGAGTCTATGGTACTTATTGATGTTGATGTGCCATTTACAGCCCACTTTGCTCTTAAAGATAAGTTGTTTTGTGCATTTATTACTAAGCGTATTGTGTATAAAGCAGCTTGTGTTGTGGATGTTAATGATAGTCATTCTATGGCTGTTGTTGATGGCAAACAAATTGATGATCATCGTATCACTAGTATTACTAGTGATAAGTTTGATTTTATTATTGGGCATGGTATGTCATTTTCAATGACTACTTTTGAAATTGCCCAATTGTATGGTTCTTGTATAACACCTAATGTGTGTTTTGTTAAAGGTGATATAATTAAAGTGTCTAAGCTTGTTAAAGCAGAAGTTGTTGTAAACCCTGCTAATGGCCATATGGTACATGGTGGTGGTGTTGCAAAAGCTATTGCAGTAGCAGCTGGACAGCAGTTTGTTAAAGAGACTACCAATATGGTTAAGTCTAAAGGAGTTTGTGCTACTGGAGATTGTTATGTCTCTACAGGGGGCAAATTATGTAAAACTGTGCTTAATGTTGTTGGACCTGATGCGAGAACACAGGGTAAACAAAGTTATGTATTGTTAGAGCGTGTTTATAAACATTTTAACAACTATGACTGTGTTGTTACAACTTTGATCTCAGCTGGTATATTTAGTGTGCCTTCTGATGTGTCTTTAACATATCTACTTGGTACTGCTAAGAAACAAGTTGTTCTTGTTAGCAATAATCAAGAGGATTTTGATCTTATTTCTAAGTGTCAGATAACTGCTGTTGAGGGCACTAAGAAATTGGCAGCGCGTCTTTCCTTTAATGTTGGACGTTCCATTGTTTACGAAACAGATGCTAATAAGTTGATTTTAATCAATGATGTTGCATTTGTTTCGACATTTAATGTTTTACAGGATGTTTTATCCTTAAGACATGATATAGCACTTGATGATGATGCACGAACCTTCGTTCAGAGCAATGTTGATGTTCTACCTGAGGGTTGGCGTGTTGTCAATAAGTTTTATCAAATTAATGGTGTTAGAACCGTTAAGTATTTTGAGTGTACTGGAGGCATAGATATATGCAGCCAGGATAAAGTTTTTGGTTATGTACAGCAGGGTATTTTTAATAAGGCTACTGTTGCTCAAATTAAAGCCTTGTTTTTGGATAAAGTGGACATCTTGCTAACTGTTGATGGTGTTAATTTCACTAATAGGTTTGTGCCTGTTGGTGATAGTTTTGGTAAGAGTCTAGGAAATGTGTTTTGTGATGGAGTTAATGTCACGAAGCATAAGTGTGATATAAATTATAAAGGTAAAGTCTTTTTCCAGTTTGATAATCTTTCTAGTGAAGATTTAAAGGCTGTAAGAAGTTCCTTTAATTTTGATCAGAAGGAATTGCTTGCCTATTACAACATGCTTGTTAATTGTTTTAAGTGGCAGGTTGTTGTTAATGGTACGTATTTCACTTTTAAGCAAGCTAATAACAATTGTTTTGTTAATGTTTCTTGCTTAATGCTCCAGAGCTTGCATCTGACATTTAAAATTGTTCAATGGCAAGAGGCATGGCTTGAATTTCGTTCTGGCCGCCCTGCTAGATTTGTAGCTTTGGTTTTGGCCAAAGGTGGGTTTAAATTTGGAGATCCTGCTGATTCTAGAGATTTCTTGCGTGTTGTGTTTAGTCAAGTTGATTTGACTGGGGCAATATGTGATTTTGAAATTGCATGTAAATGTGGTGTAAAGCAGGAACAGCGTACTGGTCTAGATGCTGTTATGCATTTTGGTACATTGAGTCGTGAAGATCTTGAGATTGGTTATACCGTGGACTGTTCTTGCGGTAAAAAGCTAATTCATTGTGTACGATTTGATGTACCATTTTTAATTTGCAGTAATACACCTGCTAGTGTAAAATTACCTAAGGGTGTAGGAAGTGCAAATATTTTTATAGGAGATAATGTTGGTCATTATGTTCATGTTAAGTGTGAACAATCTTATCAGCTTTATGATGCTTCTAATGTTAAGAAGGTTACAGATGTTACTGGCAAATTGTCAGATTGTCTGTATCTTAAAAATTTGAAACAAACTTTTAAATCTGTGTTAACCACCTATTATTTGGATGATGTTAAGAAAATTGAGTATAAACCTGACTTGTCACAATACTATTGTGACGGAGGTAAGTATTATACTCAGCGTATTATTAAAGCCCAATTTAAAACATTCGAGAAAGTAGATGGTGTGTATACTAATTTTAAATTGATAGGACACACCGTCTGTGACAGTCTTAATTCTAAGTTGGGTTTTGATAGCTCTAAAGAGTTTGTTGAATATAAGATTACTGAGTGGCCAACAGCTACAGGTGATGTGGTGTTGGCTAATGATGATTTGTATGTTAAGAGATATGAGAGGGGTTGTATTACTTTTGGTAAACCTGTTATATGGTTAAGCCATGAGAAAGCTTCTCTCAATTCTTTAACATATTTTAATAGACCTTTATTGGTTGATGATAATAAATTTGATGTTTTAAAAGTGGATGATGTTGATGATAGTGGTGACAGCTCAGAGAGTGGTGTCAAAGAAACCAAAGAAATCAACATTATTAAGTTAAGTGGTGTTAAAAAACCATTTAAGGTTGAAGATAGTGTCATTGTTAACGATGATACTAGTGAAACCAAATACGTTAAGAGTTTGTCTATTGTTGATGTGTATGATATGTGGCTTACAGGTTGTAAGTATGTTGTTAGAACTGCTAATGCTTTGAGCAGAGCAGTTAACGTACCTACAATACGTAAGTTTATAAAATTTGGTATGACTCTTGTTAGTATACCAATTGATTTGTTAAATTTAAGAGAGATTAAGCCTGCTGTTAATGTGGTTAAAGCTGTGCGAAATAAAACTTCTGCATGCTTTAATTTTATTAAATGGCTTTTTGTCTTATTATTTGGCTGGATTAAAATATCCGCTGATAATAAAGTAATCTATACCACAGAAATTGCATCAAAGCTTACGTGTAAGCTTGTAGCTTTAGCTTTTAAAAATGCATTTTTGACATTTAAGTGGAGTATGGTTGCTAGAGGTGCTTGCATTATAGCGACTATATTTCTATTGTGGTTTAATTTTATATATGCCAATGTAATTTTTAGTGATTTTTATTTGCCTAAAATCGGTTTCTTGCCGACTTTTGTTGGTAAGATTGCACAGTGGATTAAGAACACTTTTAGTCTTGTAACTATTTGTGATCTATATTCCATTCAGGATGTGGGTTTTAAGAATCAGTATTGTAATGGAAGTATTGCATGTCAGTTCTGCTTGGCAGGATTTGATATGTTAGATAATTATAAAGCCATTGATGTAGTACAGTATGAAGCTGATAGGAGAGCATTTGTTGATTATACAGGTGTGTTAAAGATTGTCATTGAATTGATAGTAAGTTATGCCCTGTATACGGCATGGTTTTATCCATTGTTTGCCCTTATCAGTATTCAGATTTTGACCACTTGGCTGCCTGAGCTTTTTATGCTTAGTACATTACATTGGAGTTTTAGGTTGTTGGTGGCTTTAGCTAATATGTTACCAGCACATGTGTTTATGAGGTTTTATATTATTATTGCCTCTTTTATTAAGCTCTTTAGCTTGTTTAAGCATGTTGCCTATGGTTGTAGTAAATCTGGTTGTTTGTTTTGTTACAAGAGGAATCGTAGTCTACGTGTTAAATGTAGTACTATCGTTGGTGGCATGATACGCTATTACGATGTTATGGCTAATGGTGGCACCGGCTTTTGTTCAAAACATCAATGGAATTGCATTGATTGTGATTCTTATAAACCAGGTAATACTTTTATTACTGTTGAGGCCGCTCTTGATCTATCTAAGGAATTGAAACGGCCCATTCAGCCTACAGATGTTGCTTATCATACGGTTACTGATGTTAAGCAAGTTGGTTGTTCTATGCGCTTGTTCTATGATCGTGATGGACAGCGCATATATGATGATGTTAATGCTAGTTTGTTTGTGGATTATAGTAATTTGCTACATTCTAAGGTTAAGAGTGTGCCTAATATGCATGTTGTGGTAGTGGAAAATGATGCTGATAAAGCCAATTTTCTGAATGCTGCTGTATTTTATGCACAGTCTTTGTTTAGACCTATTTTAATGGTTGATAAAAATCTGATAACTACTGCTAACACTGGTACGTCTGTTACAGAAACTATGTTTGATGTTTATGTGGATACATTTTTGTCTATGTTTGATGTGGATAAAAAGAGTCTTAATGCTTTAATAGCAACTGCGCATTCTTCTATAAAACAGGGTACGCAGATTTATAAAGTTTTGGATACCTTTTTAAGCTGTGCTCGTAAAAGTTGTTCTATTGATTCAGATGTTGATACTAAGTGTTTAGCTGATTCTGTCATGTCTGCTGTATCGGCAGGTCTCGAATTGACGGATGAAAGTTGTAATAACTTGGTGCCAACATATTTGAAGAGTGACAACATTGTAGCAGCTGATTTAGGTGTTCTGATTCAAAATTCTGCAAAGCATGTGCAGGGTAATGTTGCTAAAATAGCTGGTGTTTCCTGTATATGGTCTGTGGATGCTTTTAATCAGTTTAGTTCTGATTTCCAGCATAAATTGAAGAAAGCATGTTGTAAAACTGGTTTGAAACTGAAGCTTACTTATAATAAGCAGATGGCTAATGTCTCTGTTTTAACTACACCCTTTAGTCTTAAAGGGGGTGCAGTTTTTAGTTATTTTGTTTATGTGTGTTTTGTGTTGAGTTTGGTCTGTTTTATTGGACTGTGGTGCGTAATGCCCACTTACACAGTACACAAATCAGATTTTCAGCTTCCTGTTTATGCCAGTTATAAAGTTTTAGATAACGGTGTTATTAGAGATGTTAGCGTTGAAGATGTTTGTTTCGCTAACAAATTTGAGCAATTTGATCAATGGTATGAGTCTACATTTGGTCTAAGTTATTATAGTAACAGTATGGCTTGTCCCATTGTTGTTGCTGTAATAGATCAGGATTTTGGCTCTACAGTGTTTAATGTCCCTACCAAAGTGTTACGATATGGTTATCATGTGTTGCACTTTATTACACATGCACTTTCTGCTGATGGAGTGCAGTGTTATACTCCACATAGTCAAATATCGTATTCTAATTTTTATGCTAGTGGCTGTGTGCTTTCCTCTGCTTGCACTATGTTTACAATGGCCGATGGTAGTCCACAACCTTATTGTTATACAGATGGGCTTATGCAAAATGCTTCTCTGTATAGTTCATTGGTACCTCACGTGCGGTATAATCTTGCTAATGCTAAAGGTTTTATCCGTTTTCCAGAAGTGTTGCGAGAAGGGCTTGTACGTGTCGTGCGTACTCGTTCTATGTCGTATTGCAGAGTTGGATTATGTGAGGAAGCTGATGAGGGTATATGCTTTAATTTTAATGGTTCTTGGGTGCTTAATAATGATTATTATAGATCATTGCCTGGGACCTTTTGTGGTAGAGATGTTTTTGATTTAATTTATCAGCTATTTAAAGGTTTAGCACAGCCTGTGGATTTTTTGGCATTGACTGCTAGTTCCATTGCTGGTGCTATACTCGCTGTAATTGTTGTTTTGGTGTTTTATTACCTAATAAAGCTTAAACGTGCTTTTGGTGATTACACCAGTGTTGTTTTTGTTAATGTGATTGTGTGGTGTGTAAATTTTATGATGCTTTTTGTGTTTCAAGTTTACCCCACACTTTCTTGTGTATATGCTATTTGTTATTTTTATGCCACGCTTTATTTCCCTTCGGAGATAAGTGTGATAATGCACTTACAATGGCTAGTTATGTATGGCACTATTATGCCTTTATGGTTTTGTTTGCTATATATAGCTGTTGTTGTTTCAAATCATGCTTTTTGGGTATTTTCTTACTGCAGAAAGCTTGGTACTACTGTTCGTAGTGATGGTACATTTGAAGAAATGGCTCTCACTACTTTTATGATTACAAAAGATTCTTATTGTAAGCTTAAGAATTCTTTGTCTGATGTTGCTTTTAATAGATATTTGAGTTTGTATAATAAATATAGGTATTACAGCGGTAAAATGGACACTGCTGCATATAGGGAGGCTGCTTGCTCTCAGTTGGCTAAAGCAATGGACACATTTACCAATAATAATGGTAGTGATGTGCTTTACCAACCGCCTACTGCTTCCGTTTCAACTTCATTCTTGCAATCCGGTATTGTGAAAATGGTAAATCCTACTTCTAAGGTAGAACCATGTGTTGTCAGTGTTACCTATGGTAATATGACATTGAATGGTTTATGGTTGGATGACAAGGTCTACTGTCCCAGACATGTAATATGTTCTGCTTCAGATATGACTAATCCAGATTATACAAATTTGTTGTGTAGAGTAACATCAAGTGATTTTACTGTATTGTTTGATCGTCTAAGCCTTACAGTGATGTCTTATCAAATGCGGGGTTGTATGCTTGTTCTTACAGTGACCCTGCAAAATTCTCGTACGCCAAAATATACATTTGGTGTGGTTAAACCTGGTGATACTTTTACTGTTTTAGCTGCTTATAACGGCAAACCACAAGGAGCCTTTCATGTAACTATGCGTAGTAGTTATACCATTAAGGGTTCCTTTTTATGCGGATCTTGTGGATCTGTTGGTTATGTAATAATGGGTGATTGTGTTAAATTTGTTTATATGCATCAATTGGAGCTTAGTACTGGTTGTCATACTGGTACTGACTTCAATGGGGATTTTTATGGTCCTTATAAGGATGCTCAGGTTGTTCAGTTGCCCATTCAGGATTATATACAATCTGTTAATTTTTTAGCATGGCTTTATGCTGCTATACTTAACAATTGTAATTGGTTTATACAAAGTGATAAGTGTTCTGTAGAAGATTTTAATGTGTGGGCTCTGTCCAATGGATTTAGCCAAGTTAAATCTGACCTTGTTATAGATGCTTTAGCTTCTATGACTGGTGTGTCTTTGGAAACACTGTTGGCTGCTATTAAGCGTCTTAAGAATGGTTTCCAAGGACGTCAGATTATGGGTAGTTGCTCTTTTGAGGATGAATTGACACCTAGCGACGTTTATCAACAACTCGCTGGTATCAAGTTACAATCAAAACGCACTAGATTGTTTAAAGGTACTGTTTGTTGGATTATGGCTTCTACATTTTTGTTTAGTTGCATAATTACAGCATTTGTGAAATGGACTATGTTCATGTATGTAACTACTAATATGTTTAGTATTACGTTTTGTGCACTTTGTGTTATAAGTTTGGCCATGTTGTTGGTTAAGCATAAGCATCTTTATTTGACTATGTATATAACACCTGTGCTTTTTACATTGTTGTATAACAACTATTTGGTTGTGTACAAGCATACATTTAGAGGCTATGTTTATGCATGGCTATCGTATTATGTTCCATCAGTTGAGTACACTTATACTGATGAAGTTATTTATGGCATGTTATTGCTTGTAGGAATGGTCTTTGTTACATTACGTAGCATTAACCATGATTTGTTTTCTTTTATAATGTTTGTTGGTCGTTTGATTTCTGTTTTCTCTTTGTGGTACAAGGGTTCTAACTTAGAGGAAGAAATTCTTCTTATGTTGGCTTCCCTTTTTGGTACTTACACATGGACAACAGTTTTATCTATGGCTGTAGCAAAGGTTATTGCTAAGTGGGTTGCTGTGAATGTCTTGTATTTCACAGATATACCTCAAATTAAGATAGTGCTTTTGTGCTATTTGTTTATTGGTTATATTATTAGCTGTTATTGGGGTTTGTTTTCCTTGATGAACAGTTTGTTTAGAATGCCTTTGGGNNNNNNNNNNNNNNNNNNNNNNNNNNNNNNNNNNNNNNNNNNNNNTGCTAATGGATTGCGCCCTCCTAAGAATAGTTTTGAAGCCCTTATGCTTAATTTTAAGCTGTTGGGTATTGGAGGTGTTCCAATCATTGAAGTATCTCAATTTCAATCAAAATTGACTGATGTCAAATGTGCTAATGTCGTCTTGCTTAATTGCTTGCAACATTTGCATGTTGCTTCTAATTCTAAGTTGTGGCATTATTGTAGCACTTTGCACAATGAAATACTTGCCACTTCGGATCTGAGTGTTGCTTTTGAAAAGCTTGCTCAGTTATTAATTGTTTTGTTTGCTAATCCAGCTGCTGTGGATAGCAAGTGCCTGACTAGTATTGAAGAAGTTTGCGATGATTACGCAAAGGACAATACTGTTTTGCAGGCTTTACAGAGTGAATTTGTTAATATGGCTAGCTTCGTTGAATATGAAGTTGCTAAGAAAAATCTTGATGAGGCGCGTTTTAGTGGTTCTGCTAATCAACAGCAGTTAAAACAGCTAGAGAAAGCCTGTAATATTGCTAAATCTGCTTATGAACGCGACCGTGCTGTAGCAAAAAAGTTGGAGCGTATGGCTGATTTAGCTCTTACTAATATGTATAAAGAAGCTAGAATTAATGATAAGAAGAGTAAGGTTGTTTCTGCCTTGCAAACTATGCTTTTTAGTATGGTGCGTAAGTTAGATAATCAAGCTCTGAATTCAATATTAGATAACGCTGTGAAGGGTTGTGTACCATTGAATGCAATACCTTCATTGGCAGCAAATACTCTGAATATAATTGTACCAGATAAAAGTGTTTATGACCAGATAGTTGATAATATCTATGTTACCTATGCTGGTAATGTATGGCAGATTCAAACTATCCAGGATTCAGATGGTACAAATAAGCAGTTGAATGAGATATCTGATGATTGTAACTGGCCACTAGTTATTATTGCAAATCGGTATAATGAGGTACCTGCTACTGTTTTGCAAAATAATGAATTAATGCCTGCTAAGTTGAAAATTCAGGTTGTTAATAGTGGTCCAGATCAGACTTGTAATACACCTACTCAATGTTACTATAATAATAGTAACAATGGTAAGATTGTTTATGCTATACTTAGTGATGTTGATGGTCTTAAGTATACAAAAATTCTTAAAGATGATGGCAATTTTGTTGTTTTGGAGTTAGATCCTCCTTGTAAATTTACTGTTCAAGATGCTAAAGGTCTTAAAATTAAGTACCTTTATTTTGTAAAAGGTTGTAACACACTAGCAAGAGGCTGGGTTGTTGGTACAATTTCTTCTACAGTTAGATTGCAAGCTGGAACTGCTACTGAATATGCTTCCAACTCATCTATATTGTCTTTATGTGCGTTTTCTGTAGATCCTAAGAAAACGTATTTAGATTTTATACAACAAGGAGGTACACCTATTGCCAATTGTGTTAAAATGTTGTGTGACCATGCTGGTACCGGTATGGCCATTACTGTTAAACCCGATGCTACCACTAGTCAGGATTCATATGGTGGTGCGTCTGTTTGTATATATTGCCGCGCACGAGTTGAACACCCAGATGTTGATGGGTTGTGCAAATTACGCGGCAAGTTTGTACAAGTGCCTGTAGGTATAAAAGATCCTGTGTCTTATGTTTTGACACATGATGTTTGTCGAGTTTGTGGATTTTGGCGGGATGGAAGTTGTTCATGTGTTAGCACTGACACTACTGTTCAATCAAAAGATACTAATTTTTTAAACGCGTTCGGGGTGCGAGTGTAGATGCCCGTCTCGTACCCTGCGCCAGTGGTTTATCTACTGATGTACAATTAAGGGCATTTGATATTTACAATGCTAGTGTTGCTGGCATTGGTTTACATTTAAAAGTTAATTGTTGCCGTTTTCAGCGTGTTGATGAGAACGGTGATAAATTAGATCAGTTCTTTGTTGTTAAGAGGACAGATCTGACTATATATAATAGAGAGATGAAATGCTATGAGCGTGTAAAAGATTGTAAGTTTGTGGCTGAACACGATTTCTTTACATTTGATGTAGAAGGTAGTCGTGTGCCACACATTGTACGCAAGGATTTAACAAAGTATACTATGTTGGATCTTTGCTATGCATTGCGACATTTTGATCGCAATGATTGCATGCTGCTTTGTGACATTCTCTCTATATATGCTGGTTGTGAACAATCCTATTTTACTAAGAAGGATTGGTATGATTTTGTTGAAAATCCTGATATTATTAATGTGTATAAAAAGCTAGGACCTATTTTTAATAGAGCCCTAGTTAGCGCTACTGAGTTTGCGGACAAATTGGTGGAGGTAGGCTTAGTAGGCGTTTTAACACTTGATAATCAAGATTTAAATGGTAAATGGTATGATTTTGGTGACTATGTTATTGCAGCCCCAGGATGTGGTGTTGCTATAGCAGATTCTTATTATTCTTATATCATGCCTATGCTGACCATGTGTCATGCATTGGATTGTGAATTGTATGTGAATAATGCTTATAGACTATTTGATCTTGTACAGTATGATTTTACTGATTACAAGCTTGAATTGTTTAATAAGTATTTTAAGCACTGGAGTATGCCATATCATCCTAACACGGTTGATTGTCAGGATGATCGGTGTATTATACATTGTGCTAATTTTAACATACTTTTTAGTATGGTTTTACCTAATACATGTTTTGGGCCTCTTGTTAGGCAAATTTTTGTGGATGGTGTGCCTTTTGTTGTTTCAATTGGCTACCATTATAAAGAACTTGGTATTGTGATGAATATGGATGTGGATACACATCGTTATCGCTTGTCTTTAAAAGACTTGCTTTTATATGCTGCTGATCCAGCTTTGCATGTAGCTTCTGCTAGTGCATTGTATGATTTACGCACTTGCTGTTTTAGTGTTGCCGCTATAACAAGCGGTGTAAAATTTCAAACAGTTAAACCTGGTAATTTTAATCAGGATTTTTATGATTTTGTTTTAAGTAAAGGCCTGCTTAAAGAGGGTAGCTCAGTTGATCTGAAGCACTTTTTCTTTACACAGGATGGTAATGCTGCTATTACTGATTATAATTATTATAAGTATAATTTGCCCACCATGGTGGACATTAAGCAGTTGTTGTTTGTTTTGGAAGTTGTTTATAAGTATTTTGAGATTTATGATGGTGGTTGTATACCGGCATCACAAGTCATTGTTAATAATTATGATAAGAGTGCTGGCTATCCATTTAACAAATTTGGAAAAGCCAGGCTCTATTATGAAGCATTATCATTTGAGGAACAGGATGAAATTTACGCTTATACTAAGCGTAATGTCCTGCCAACACTTACTCAAATGAATTTGAAATATGCTATTAGTGCTAAGAATAGAGCCCGCACTGTTGCTGGTGTTTCCATACTTAGTACTATGACTGGCAGAATGTTTCATCAAAAATGTTTGAAAAGTATAGCAGCTACACGTGGTGTTCCTGTAGTTATAGGCACCACTAAATTTTATGGTGGCTGGGATGATATGTTACGCCGCCTTATTAAAGATGTCGACAATCCTGTACTTATGGGTTGGGATTATCCTAAGTGTGATCGTGCTATGCCAAACATACTACGTATTGTTAGTAGTTTGGTATTAGCCCGAAAACATGAGACATGTTGTTCGCAAAGCGATAGGTTTTATCGACTTGCGAATGAATGCGCACAAGTTTTGAGTGAAATTGTTATGTGTGGTGGCTGTTATTATGTTAAGCCTGGTGGCACTAGTAGTGGTGATGCAACTACTGCTTTTGCTAATTCAGTCTTTAACATATGTCAAGCTGTTTCAGCCAATGTATGTGCCTTAATGTCATGCAATGGCAATAAGATTGAAGATCTTAGTATACGTGCTCTTCAGAAGCGCTTATACTCACATGTGTATAGAAGTGATAAGGTTGATTCAACCTTTGTCACAGAATATTATGAATTTTTAAATAAGCATTTTAGTATGATGATTTTGAGTGATGATGGGGTTGTGTGTTATAATTCTGATTATGCGTCCAAAGGGTATATTGCTAATATAAGTGCCTTTCAACAGGTATTATATTATCAAAATAACGTTTTTATGTCAGAATCCAAATGTTGGGTTGAGCATGACATAAATAATGGACCTCATGAATTTTGTTCACAACACACAATGCTTGTAAAGATGGATGGTGACGATGTCTACCTTCCATATCCTAATCCTAGTCGTATATTAGGAGCTGGATGTTTTGTAGATGATTTGTTAAAGACTGATAGTGTTCTTTTAATAGAACGATTTGTAAGTCTTGCAATAGATGCTTATCCACTTGTGTATCATGAAAATGAAGAATACCAAAAGGTTTTTCGTGTTTATTTGGCGTATATAAAGAAGTTGTACAATGACCTGGGTAATCAGATCTTGGATAGCTACAGTGTTATTTTAAGTACTTGTGATGGACAAAAGTTCACTGATGAGTCCTTTTACAAGAACATGTATTTAAGAAGTGCAGTCATGCAGAGTGTTGGAGCTTGCGTGGTCTGCTCTTCTCAAACATCATTACGTTGTGGCAGTTGCATCAGAAAGCCTCTTCTTTGCTGCAAGTGTTGTTATGATCACGTTATGGCGACTGATCATAAATATGTCTTGAGTGTTTCACCATATGTGTGTAATGCACCAGGATGTGATGTAAATGATGTTACCAAATTGTATCTAGGTGGTATGTCATATTATTGTGAAGACCATAAGCCACAATATTCATTCAAGTTGGTAATGAATGGTCTGGTTTTTGGTCTATATAAACAATCTTGTACAGGATCTCCGTACATAGACGATTTTAATCGTATAGCTAGTTGTAAATGGACCGATGTGGATGATTACATACTAGCTAATGAATGTACAGAGCGCTTGAAATTGTTTGCTGCAGAAACGCAAAAGGCAACCGAGGAAGCCTTTAAGCAGAGTTATGCATCAGCAACAATACAAGAGATTGTTAGTGAGCGCGAATTGATTCTCTCTTGGGAGATTGGAAAAGTTAAGCCACCACTTAATAAAAATTATGTTTTTACTGGCTACCATTTTACTAAAAATGGTAAGACAGTTTTAGGTGAGTATGTTTTTGATAAGAGTGAGTTGACTAATGGTGTGTACTATCGCGCCACAACCACTTATAAGCTATCTGTAGGAGATGTTTTTGTTTTAACCTCTCATTCAGTAGCTAATTTAAGTGCTCCTACGCTTGTTCCGCAGGAGAATTATAGTAGTATTAGATTTGCTAGTGTTTATAGTGTGCTTGAGACGTTTCAGAACAATGTTGTTAATTATCAACACATTGGTATGAAACGTTACTGTACCGTGCAAGGACCTCCTGGTACAGGGAAGTCACATCTTGCTATTGGTCTTGCTGTATTTTATTGTACAGCACGTGTTGTATACACAGCGGCCAGCCATGCAGCTGTTGACGCATTGTGTGAAAAAGCATATAAATTTTTGAATATAAATGATTGCACTCGTATTGTTCCGGCCAAGGTCAGGGTAGAGTGCTATGATAAGTTTAAAATTAATGACACCACTCGTAAGTATGTGTTTACTACCATAAATGCATTACCTGAGATGGTGACTGATATTGTTGTTGTAGATGAAGTTAGCATGCTTACCAATTATGAGCTTTCTGTTATTAATGCTCGTATTCGTGCTAAGCATTATGTTTATATTGGTGATCCTGCTCAATTGCCAGCACCACGTGTGTTATTGAGCAAGGGTACACTTGAACCTAAATATTTTAACACTGTTACTAAGCTCATGTGTTGCTTAGGGCCAGACATTTTTCTTGGTACATGTTATAGATGTCCTAAGGAAATTGTTGATACAGTGTCCGCCTTGGTTTATGAAAATAAGCTTAAGGCTAAGAATGAGAGTAGTTCATTGTGTTTTAAGGTCTATTATAAGGGCGTTACAACACATGAAAGTTCTAGTGCTGTAAATATGCAGCAGATTTATTTGATTAATAAGTTTTTGAAGGCTAACCCTTTGTGGCATAAAGCTGTTTTTATTAGCCCATATAATAGTCAGAACTTTGCAGCTAAGCGTGTTTTGGGTTTACAAACCCAAACCGTGGATTCTGCTCAAGGTTCTGAATACGATTATGTTATATATTCACAGACTGCAGAAACAGCGCATTCTGTAAATGTTAATCGCTTCAATGTTGCCATTACTCGAGCCAAGAAAGGTATTCTTTGTGTTATGAGTAATATGCAGTTGTTTGAAGCATTACAGTTTACTACATTGACCTTAGATAAAGTGCCACAGGCCGTTGAAACTAAAGTTCAATGTAGTACTAATTTATTTAAAGATTGTAGCAAGAGTTATAGCGGTTACCACCCAGCTCATGCTCCTTCATTTTTGGCAGTAGATGACAAATATAAGGCAACTGGCGATTTAGCCGTGTGTCTTGGCATTGGTGATTCTGCTGTTACATATTCAAGATTAATATCACTCATGGGTTTTAAATTGGATGTTACCCTTGATGGGTATTGTAAGCTTTTTATAACTAAAGAAGAAGCTGTTAAACGCGTGCGTGCCTGGGTTGGCTTTGATGCTGAAGGTGCTCATGCCACGCTTGATAGCATTGGGACAAATTTCCCACTCCAATTAGGATTTTCCACAGGAATTGATTTTGTTGTGGAAGCCACTGGTTTGTTTGCTGATAGAGATGGTTACAGCTTTAAAAAGGCTGTGGCGAAAGCTCCTCCTGGTGAACAATTTAAGCACCTCATCCCTTTGATGACGAGAGGTCATCGCTGGGATGTTGTTAGACCTAGAATAGTACAAATGTTTGCAGATCATTTAATTGATCTGTCTGATTGTGTTGTGCTAGTTACATGGGCAGCCAACTTTGAGCTCACTTGTCTCCGCTACTTTGCAAAAGTAGGTCGTGAGATTTCTTGTAATGTATGCACTAAACGTGCTACAGTTTACAATTCTAGAACTGGTTACTATGGTTGTTGGCGCCATAGTGTTACATGTGATTACTTGTATAATCCACTTATTGTTGATATTCAACAGTGGGGATATATTGGTTCTTTATCAAGTAATCATGATTTATATTGTAGTGTCCATAAAGGAGCACATGTTGCTTCCTCTGATGCTATAATGACACGGTGTTTGGCCGTTTATGATTGCTTTTGCAATAATATTAATTGGAATGTGGAGTATCCCATCATTTCAAATGAGTTAAGTATTAATACCTCTTGTAGAGTCTTGCAGCGTGTGATTCTTAAAGCTGCCATGCTCTGCAACAGATATACTTTGTGTTATGATATTGGCAACCCAAAAGGGATTGCCTGTGTCAAAGATTTTGATTTTAAGTTCTATGATGCCCAACCAATTGTTAAGTCTGTTAAGACTCTTTTGTATTCTTTTGAGGCACATAAGGACTCTTTTAAAGACGGTTTGTGTATGTTTTGGAACTGTAATGTGGATAAGTATCCACCGAATGCAGTTGTATGTAGATTTGACACTAGAGTGTTGAATAATTTAAATCTTCCTGGCTGTAATGGAGGTAGTTTGTATGTTAATAAACATGCATTCCACACTAAACCCTTTGCTAGGGCAGCCTTTGAGCATTTGAAGCCTATGCCATTCTTCTATTATTCAGATACGCCTTGTGTGTATATGGATGGTATGGATGCTAAGCAGGTTGATTATGTACCTTTGAAATCTGCCACGTGCATCACAAGATGCAATTTAGGTGGTGCAGTTTGTTTAAAACATGCTGAAGAGTATCGTGAGTACTTAGAGTCTTACAATACAGCTACTACAGCAGGTTTTACTTTTTGGGTCTATAAGACATTTGATTTTTATAATTTGTGGAATACGTTCACCAAGCTACAAAGCTTGGAGAATGTTGTATATAATTTAGTCAAGACTGGTCATTATACAGGACAGGCTGGTGAAATGCCTTGTGCCATTATAAATGATAAAGTTGTGACTAAGATCGATAAGGAGGATGTTGTCATTTTTATTAATAATACAACATACCCTACTAATGTGGCTGTTGAATTATTTGCCAAGCGCAGTGTTCGACACCACCCAGAGCTTAAGCTCTTTAGAAATTTAAATATAGACGTGTGTTGGAAGCACGTCATTTGGGATTATGCTAGAGAAAGTATATTTTGCAGTAATACCTATGGTGTCTGCATGTATACAGATTTAAAGTTCATTGATAAATTGAATGTCCTTTTTGATGGTCGTGATAATGGTGCTTTTGAAGCTTTTAAACGCTCTAATAATGGCGTTTACATTTCCACGACAAAAGTTAAGAGTCTTTCGATGATAAGAGGTCCACCGCGTGCTGAATTAAATGGCGTGGTGGTGGACAAGGTTGGAGACACTGATTGTGTGTTTTATTTTGCTGTGCGTAAAGAAGGTCAGGATGTCATCTTCAGCCAATTCGACAGCCTGGGAGTCAGCTCTAACCAGAGCCCACAAGGTAATCTGGGGAGTAATGGTAAACCCGGTAATGTCGGTGGTAATGATGCTCTGTCAACCTCAACTATCTTTACACAAAGCCGTGTTATTAGCTCTTTTACATGTCGTACTGATATGGAAAAAGATTTTATAGCTTTAGATCAAGATGTGTTTATTCAGAAGTATGGTTTGGAGGACTATGCCTTTGAACACATTGTTTATGGTAATTTCAACCAGAAGATTATTGGTGGTTTGCACTTGTTAATAGGCTTGTACCGAAGACAGCAAACTTCCAATCTGGTTGTTCAGGAGTTTGTCTCATATGACTCCAGCATACACTCTTATTTTATCACTGACGAGAAGAGTGGTGGTAGTAAGAGTGTTTGCACTGTTATAGACATTTTATTGGATGATTTTGTGACTCTTGTTAAGTCACTTAATCTTAATTGTGTGAGTAAAGTTGTTAATGTTAACGTTGATTTTAAAGATTTTCAGTTTATGCTTTGGTGTAACGATGAGAAAGTTATGACTTTCTATCCTCGTTTGCAAGCTGCATCTGACTGGAAGCCTGGTTATTCTATGCCTGTATTATATAAGTATTTGAATTCTCCAATGGAAAGAGTTAGTCTCTGGAATTATGGGAAGCCAGTTACTTTGCCTACAGGCTGTATGATGAATGTTGCTAAGTATACTCAGTTATGTCAATATCTGAATACTACAACATTAGCTGTACCTGTTAATATGCGAGTTTTGCATTTAGGTGCAGGTTCAGAAAAAGGAGTAGCACCGGGTTCTGCAGTTCTTAGGCAGTGGTTGCCTGCTGGTACTATTCTTGTAGATAATGATTTATACCCATTTGTTAGTGACAGTGTCGCTACATATTTTGGGGATTGTATAACTTTACCCTTTGATTGTCAATGGGATTTGATAATTTCTGATATGTATGACCCTATTACTAAGAACATAGGTGAGTACAATGTGAGTAAAGATGGTTTCTTTACATACATTTGTCATATGATTCGAGACAAGTTAGCTCTTGGTGGCAGTGTTGCTATAAAAATAACAGAGTTTTCTTGGAATGCAGAATTATATAATTTAATGGGGTATTTTGCATTTTGGACTGTGTTTTGCACAAATGCAAATGCTTCTTCTAGTGAAGGATTTTTAATTGGCATAAATTATTTGTGTAAGCCCAAGGTTGAGATAGATGGAAATGTTATGCATGCCAATTATTTGTTTTGGAGAAATTCCACAGTTTGGAACGGGGGTGCTTATAGCCTGTTTGACATGGCTAAATTCCCGCTTAAGTTGGCTGGTACTGCCGTAATAAATTTAAGAGCAGACCAGATTAATGATATGGTTTATTCCCTTCTTGAAAAGGGTAAACTACTTATTAGAGATACAAATAAAGAAGTTTTCGTTGGTGACAGTTTGGTTAATGTAATCTAAACTTTAAAAATGGCTGTCGCTTATGCAGACAAGCCTAATCATTTTATCAATTTTCCACTTACCCATTTTCAGGGTTTTGTGTTAAATTATAAAGGTTTACAATTTCAAATTCTCGATGAAGGAGTGGATTGTAAAATACAAACAGCGCCACACATTAGTCTTACTATGCTGGATATACAGCCTGAAGACTATAAAAGTGTTGATGTCGCTATTCAAGAAGTTATTGATGATATGCATTGGGGTGATGGTTTTCAGATTAAATTTGAGAATCCTCACATCCTAGGAACATGCATAGTTTTAGATGTTAAAGGTGTAGAAGAATTGCATGACGATTTAGTTAATTACATTCGTGATAAAGGTTGTGTTGCTGACCAATCCAGGAAATGGATTGGCCATTGTACCATAGCTCAACTCACGGATGCAGCACTGTCCATTAAGGAAAATGTTGATTTTATAAACAGCATGCAATTCAATTATAAAATCACCATCAACCCCTCATCACCAGCTAGACTTGAAATAGTTAAGCTCGGTGCTGAAAAGAAAGATGGTTTTTATGAAACCATAGTTAGTCACTGGATGGGAATTCGTTTTGAATACACATCGCCCACTGATAAGCTAGCTATGATTATGGGTTATTGTTGTTTAGATGTGGTACGTAAAGAGCTAGAAGAAGGCGATCTTCCCGAGAATGATGATGATGCTTGGTTTAAGCTATCGTACCATTATGAAAACAATTCTTGGTTCTTCCGACATGTCTACAGGAAAAGTTTTCATTTCCGTAAGGCTTGTCAAAATTTAGATTGTAATTGTTTGGGGTTTTATGAATCTTCAGTTGAAGAATATTAAACTCAGTGAAAATGTTTTTGCTTCCTAGATTTATTCTAGTTAGCTGCGTAATTGGTAGCTTAGGTTTTTATAACCCTCCTACCAATGTTGTTTCGCATGTAAATGGAGATTGGTTTTTATTTGGTGACAGTCGTTCAGATTGTAATCATATTGTTAATATCAACCCCCATAATTATTCTTATATGGACCTTAATCCTGCTTTATGTGATTCTGGTAAAATATCATCTAAAGCTGGCAACTCCATTTTCAGGAGTTTTCACTTTACCGATTTTTATAATTATACAGGCGAAGGTCAACAAATTATTTTTTATGAGGGTGTTAATTTTACGCCTTATCATGCCTTTAAATGCAACCGTTCTGGTAGTAATGATATTTGGATGCAGAATAAAGGCTTGTTTTATACTCAGGTTTATAAGAATATGGCTGTGTATCGCAGCCTTACTTTTGTTAATGTATCATATGTTTATAATGGCTCCGCACAAGCTACATCTTTTTGTAAATCTGGTAGTAAGCTTAAGAATTTAGTCCTTAATAACCCTGCTTATATAGCTCCTCAAGCTAAATCTGGGATTATTACGAAGGTTGAAGCTGATTTTTATTTGTCAGGTTGTGACGAGTATATCGTACCACTTTGTATTTTTAACGGCAAGTCTTTGTCGAATACAAAGTATTATGATCATAGTCAATATTATTTTAATAAAGACACTGGTGTTATTTATGGTCTCAATTCAACAGAAACCATTACCACTGGTTTTGATCTTAATTGTCATTATTTAGTTTTACCCTCTGGTAATTATTTAGCCATTTCAAATGAGCTATTGTTAACTGTTCCTACGAAAGCAATCTGTTTTAATAAGCGTAAGGATTTTACGCCTGTACAGGTTGTTGATTCGCGGTGGAACAATGCCAGGCAGTCTGATAACATGACGGCGGTTGCTTGTCAACCTCCGTACTGTTATTTTCGTAATTCTACCACCAACTATGTTGGTGTTTATGATATTAATCATGGAGATGCTGGTTTCACTAGCATACTCAGTGGTTTGTTATATAATTCATCTTGTTTTTCGCAGCAAGGTGTTTTTAGGTATGATAATATTAGCAGTGTTTGGCCTCTCTACCCCTATGGCAGATGTCCTACTGCTGCTTATATTAATATCCCTGATTTACCCATTTGTGTGTATGATCCGCTACCAGTTATTTTGCTTGGCATTCTTTTGGGCGTTGCCATTGTAATTATTGTAGTTTTGTTGTTACATTTTATGGTGGATAATGTTACTAGGCTGCATGATGCTTAGACCATAATCTAAACATGTTTTTGATACTTTTAATTTCCTTACCAACGGCTTTTGCTGTTATAGGAGATTTAAATTGTACTTTAGATCCTAGGCTTAAAGGTAGCTTTAATAATAGAGACACCGGTCCTCCTTCTATAAGTATTGATACTGTTGATGTTACTAATGGTTTGGGTACTTATTATGTTTTAGATCGTGTGTATTTAAATACCACGTTGTTTCTTAATGGTTATTACCCCACTTCAGGTTCCACATATCGTAATATGGCACTGAAGGGAACTGACTTATTGAGCACATTATGGTTTAAACCACCATTTCTTTCTGATTTTATTAATGGTATTTTTGCTAAGGTCAAAAATACCAAGGTTTTTAAAGATGGTGTAATGTATAGTGAGTTCCCTGCTATAACTATAGGTAGTACTTTTGTAAATACATCCTATAGTGTGGTAGTACAACCACGTACAATTAATTCAACACAGGATGGTGTTAATAAATTACAAGGTCTTTTAGAGGTCTCTGTTTGCCAGTATAATATGTGTGAGTACCCACATACGATTTGTCATCCTAACTTGGGTAACCATTTCAAAGAACTATGGCATTATGATACAGGTGTTGTTTCCTGTTTGTATAAGCGTAATTTCACATATGATGTGAATGCTACTTATTTGTATTTTCATTTTTATCAAGAAGGTGGTACTTTTTATGCATATTTTACAGACACTGGTTTTGTTACTAAGTTTTTGTTTAATGTTTATTTAGGCATGGCACTTTCACACTATTATGTCATGCCTCTGACTTGTATTCGTAGGCCTAAAGACGGTTTTAGTTTAGAATATTGGGTTACACCCCTCACTCCTAGACAATATTTACTCGCTTTCAATCAAGATGGTATTATTTTTAATGCTGTTGATTGTATGAGTGATTTTATGAGTGAGATTAAGTGTAAAACACAATCTATAGCACCACCCACTGGTGTTTATGAATTAAACGGTTACACTGTTCAGCCAGTTGCAGATGTTTACCGACGCAAACCTGATCTTCCCAATTGTAATATAGAAGCTTGGCTTAATGATAAGTCGGTGCCCTCCCCATTAAATTGGGAACGTAAGACATTTTCAAATTGTAATTTTAATATGAGCAGCCTGATGTCTTTTATTCAGGCAGACTCATTTACTTGTAATAATATTGATGCTGCTAAGATATATGGTATGTGTTTTTCCAGCATAACTATAGATAAGTTTGCTATACCCAATCGCAGGAAGGTTGACCTACAATTGGGTAATTTGGGCTATTTGCAGTCATCCAACTATAGAATTGATACTACTGCAACAAGTTGTCAGTTGTATTATAATTTACCTGCTGCTAATGTCTCTGTTAGCAGGTTTAATCCTTCTACTTGGAATAAGAGATTTGGTTTTATAGAAGATTCTGTTTTTGTGCCTCAACCTACAGGTGTTTTTACTAATCACAGTGTAGTTTATGCACAACACTGTTTTAAAGCCCCTAAAAATTTCTGTCCGTGTAGTTCCTGTCCTGGTAAAAATAATGGTATAGGCACTTGTCCTGCAGGTACTAATTCTTTAACTTGTGATAATTTATGTACTCTTGATCCTATTACACTTAAAGCTCCAGATACTTATAAGTGCCCCCAATCTAAATCTTTAGTTGGTATAGGTGAGCACTGTTCGGGTCTTGCTGTTAAAAGTGATTATTGTGGAAACAATTCTTGTACTTGCCAACCACAAGCATTTTTGGGTTGGTCTGCAGACTCTTGTTTACAAGGAGACAAGTGTAATATTTTTGCTAATTTCATTTTGCATGATGTTAATAATGGTCTTACTTGTTCTACTGATTTACAAAAAGCTAACACAGAAATAGAACTTGGTGTTTGTGTTAATTATGACCTCTATGGTATTTCTGGCCAAGGCATTTTTGTTGAGGTTAATGCGACTTATTATAATAGTTGGCAGAACCTTTTATATGATTCTAATGGTAACCTCTACGGTTTTAGAGACTACATAACAAACAGAACTTTTATGATTCATAGTTGCTATAGCGGTCGTGTTTCTGCGGCCTATCATGCCAACTCTTCCGAACCAGCATTGCTATTTCGGAATATTAAATGCAACTACGTTTTTAATAATAGTCTTACACGACAGCTGCAACCTATTAACTATTCGTTTGATAGTTATCTTGGTTGTGTTGTCAATGCTTATAATAGTACTTCTATTTCTGTCCAAACATGTGATCTCACAGTAGGTAGTGGTTACTGTGTGGATTACTCTAAAAACAGACGAAGTCGTAGAGCGATCACCACTGGTTATCGGTTTACTAATTTTGAGCCATTTACTGTTAATTCAGTAAATGATAGTTTGGAACCTGTAGGTGGTTTGTATGAAATTCAAATACCTTCAGAGTTTACTATAGGTAATATGGAGGAGTTTATTCAAACAAGCTCTCCCAAAGTTACTATTGATTGTGCTGCATTTGTCTGTGGTGATTATGCAGCATGTAAATTACAGTTGGTTGAATATGGTAGTTTCTGTGATAACATTAATGCCATACTCACAGAAGTAAATGAACTACTTGATACTACACAGTTGCAAGTAGCTAATAGTTTAATGAATGGTGTTACTCTTAGCACTAAGCTTAAAGATGGTGTTAATTTCAATGTAGACGACATCAATTTTTCCCCTGTATTAGGTTGTCTAGGCAGCGAATGTAGTAAAGCTTCCAGTAGATCTGCTATAGAGGATTTACTTTTTGATAAAGTAAAGTTATCTGATGTCGGTTTCGTTGAGGCTTATAATAATTGTACAGGAGGTGCCGAAATTAGGGACCTCATTTGTGTGCAAAGTTATAAAGGCATCAAAGTGTTGCCTCCACTGCTCTCAGAAAATCAGATCAGTGGATATACTTTGGCTGCCACCTCTGCTAGTCTATTTCCTCCTTGGACAGCAGCAGCAGGTGTACCATTTTATTTAAATGTTCAGTATCGCATTAATGGGCTTGGTGTCACCATGGATGTGCTAAGTCAAAATCAAAAGCTTATTGCTAATGCATTTAACAATGCCCTTCATGCTATTCAGCAAGGGTTCGATGCAACTAATTCTGCTTTAGTTAAAATTCAAGCTGTTGTTAATGCAAATGCTGAAGCTCTTAATAACTTATTGCAACAACTCTCTAATAGATTTGGTGCTATAAGTGCTTCTTTACAAGAAATTCTATCTAGACTTGATGCTCTTGAAGCGGAAGCTCAGATAGATAGACTTATTAATGGTCGTCTCACCGCTCTTAATGCTTATGTTTCTCAACAGCTTAGTGATTCTACACTGGTAAAATTTAGTGCAGCACAAGCTATGGAGAAGGTTAATGAATGTGTCAAAAGCCAATCATCTAGGATAAATTTCTGTGGTAATGGTAATCATATTATATCATTAGTGCAGAATGCTCCATATGGTTTGTATTTTATCCACTTTAATTATGTCCCTACTAAGTATGTCACAGCGAAGGTTAGTCCTGGTCTGTGCATTGCTGGTAATAGAGGTATAGCTCCTAAGAGTGGTTATTTTGTTAATGTAAATAATACTTGGATGTACACTGGTAGTGGTTACTACTACCCTGAACCTATAACTGAAAATAATGTTGTTGTTATGAGTACCTGCGCTGTTAATTATACTAAAGCGCCGTATGTAATGCTGAACACCTCAATACCCAACCTTCCTGATTTTAAGGAAGAGTTGGACCAATGGTTCAAAAATCAAACATCAGTGGCACCAGATTTGTCACTTGATTATATAAATGTTACATTCTTGGACCTACAAGTTGAAATGAATAGGTTACAGGAGGCAATAAAAGTTTTAAATCATAGCTACATCAATCTCAAGGACATTGGTACATATGAATATTATGTAAAATGGCCTTGGTATGTATGGCTTTTAATCTGCCTTGCTGGTGTAGCTATGCTTGTTTTACTATTCTTCATATGCTGTTGTACAGGATGTGGGACTAGTTGTTTTAAGAAATGTGGTGGTTGTTGTGATGATTATACTGGATACCAGGAGTTAGTAATCAAAACTTCACATGACGACTAAGTTCGTCTTTGATTCATTGCATTGATCTTTTGTTAGATCTTTTTCCAATCTAGCATTCTTTACCACGCCCTTTTAATGGACATTTGGAGACCTGAGAAGAAATTTCTCCGTTATATTAACGGTTTTAATGTCTCAGAATTAGAAGATGCTTGTTTTAAATTTAACTATCAATTTCCTAAAGTAGGATATTGTAGAGTTCCTAGTCATGCTTGGTGCCGTAATCAAGGTAGATTTTGTGCTACATTCACTCTTTATGGTAAATCCAAACATTATGATAAATATTTTGGAGTAATAAATGGTTTCACAGCATTCGCTAATACTGTAGAGGATGCTGTTAATAAACTGGTTTTCTTAGCTGTTGACTTTATTACCTGGCGTAGACAGGAGTTAAATGTTTATGGCTGATGCTTATCTTGCAGACACTGTGTGGTATGTGGGGCAAATAATTTTTATAGTTGCCATTTGTTTATTGGTTACAATAGTTGTAGTGGCATTTTTGGCAACTTTTAAATTGTGTATTCAACTTTGCGGTATGTGTAATACCTTAGTACTGTCCCCTTCTATTTATGTGTTTAATAGAGGTAGGCAGTTTTATGAGTTTTACAATGATATAAAACCACCAGTCCTTGATGTGGATGACGTTTAGGTAATCCAAACATTATGAGTAGTAAACCTACACCAGCACCAGTTTATATCTGGACTGCTGATGAAGCTATTAAATTCCTAAAGGAATGGAATTTTTCTTTGGGTATTATACTACTTTTTATTACAATCATATTGCAATATGGATATACAAGTCGCAGTATGTTTGTTTATGTTATTAAGATGATTATTTTGTGGCTTATGTGGCCCATTACTATAATCTTAACTACTTTCAATTGCGTATACGCATTGAATAACGTGTATCTTGGCCTTTCTATAGTTTTTACCATAGTGGCCATTATTATGTGGATTGTGTATTTTGTGAATAGTATCAGGTTGTTTATTAGAACTGGAAGTTTTTGGAGTTTTAACCCAGAAACAAACAACTTGATGTGTATAGATATGAAAGGAACAATGTATGTTAGGCCGATAATTGAGGACTATCATACCCTGACGGTCACAATAATACGCGGTCATCTTTATATTCAAGGTATAAAACTAGGTATTGGCTATTCTTTGGCAGATTTGCCAGCTTATATGTCTGTTGCTAAGGTTACACACCTGTGCACATATAAGCGTGGTTTTCTTGACAGGATAAGCGATACTAGTGGTTTTGCTGTTTATGTTAAGTTCAAAGTCGGTAATTACCGACTGCCATCAACCCAAAAGGGTTCTGGCATGGACACCGCATTGTTGAGAAATAATATCTAAATTTTAAGGATGTCTTTTACTCCTGGTAAGCAATCCAGTAGTAGAGCGTCCTCTGGAAATCGGTCTGGTAATGGCATCCTCAAGTGGGCCGATCAGTCCGACCAGTTTAGAAATTTTCAAACCAGGGGTAGAAGAGCTCAACCCAAGCAAACTGCTACTTCTCAGCAACCATCAGGAGGGAATGTTGTACCCCACTATTCTTGGTTCTCTGGAATTACTCAGTTTCAAAAGGGAAAGGAGTTTGAGTTTGCAGAAGGACAAGGTGTGCCTATTGCACCAGGAGTCCCAGCTACTGAAGCTAAGGGGTACTGGTACAGACACAACAGACGTTCTTTTAAAACAGCCGATGGCAACCAGCGTCAACTGCTGCCACGATGGTATTTTTACTATCTGGGAACCGGACCGCATGCTAAAGACCAGTATGGCACCGATATTAACGGAGTCTACTGGGTCGCTAGCAACCAGGCTGATGTCAATACCCCGGCTGACATTGTCGATCGGGACCCAAGTAGCGATGAGGCTATTCCGACTAGGTTTCCGCCTGGCACGGTACTCCCTCAGGGTTACTATATTGAAGGCTCAGGAAGGTCTGCTCCTAATTCCAGATCTACTTCGCGCACATCCAGCAGAGCCTCTAGTGCAGGATCGCGTAGTAGAGCCAATTCTGGCAATAGAACCCCTACCTCTGGTGTAACACCTGACATGGCTGATCAAATTGCTAGTCTTGTTCTGGCAAAACTTGGCAAGGATGCCACCAAACCTCAGCAAGTAACTAAGCATACTGCCAAAGAAGTCAGACAGAAAATTTTGAATAAACCCCGCCAGAAGAGGAGCCCCAATAAACAATGCACTGTTCAGCAGTGTTTTGGTAAGAGAGGCCCTAATCAGAATTTTGGTGGTGGAGAAATGTTAAAACTTGGAACTAGTGACCCACAGTTCCCCATTCTTGCAGAACTCGCACCCACAGCTGGTGCGTTTTTCTTTGGATCAAAATTAGAGTTGGCCAAAGTGCAGAATTTATCTGGGAATCCTGATGAGCCTCAGAAGGATGTTTATGAATTGCGCTATAACGGCGCAATTAGGTTTGACAGTACACTTTCAGGCTTTGAGACCATAATGAAGGTGCTGAGTGAGAATTTGAATGCCTATCAACAACAAGATGGTATGATGAATATGAGTCCAAAACCACAGCGTCAGCGTGGTCATAAGAATGGACAAGGAGAAAATGATAATATAAGTGTTGCAGTGCCCAAAAGCCGCGTGCAGCAAAATAAGAGTATAGAGTTGACTGCAGAGGACATCAGCCTTCTTAAGAAGATGGATGAGCCCTTTACTGAAGACACCTCAGAAATATAAGAGAATGAACCTTATGTCGGCATCTGGTGGTAACCCCTCGCAGAAAAGTCGAGATAAGGCACTCTCTATCAGAATGGATGTCTTGCTGCTATAATAGATAGAGAAGGTTATAGCAGACTATATATTAATTAGTTGAAAGTTTTGTGTTGTAATGTATAGTGTTGGAGAAAGTGAAAGACTTGCGGAAGTAATTGCCGACAAGTGCCAAAGGGAAGAGCCAGCATGTTAAGTTACTACCCAGTAATTAGTAAATGAATGAAGT\n",
      "\n"
     ]
    }
   ],
   "source": [
    "fasta.reset_iterator()\n",
    "\n",
    "for i, seq in enumerate(fasta):\n",
    "    print(f\"Definition Line for sequence {i+1}:\")\n",
    "    print(seq['definition line'])\n",
    "    print(f\"{len(seq['sequence']):,d} bases:\")\n",
    "    print(seq['sequence'])\n",
    "    print()\n",
    "    if i >= 2: break"
   ]
  },
  {
   "cell_type": "code",
   "execution_count": 84,
   "metadata": {},
   "outputs": [
    {
     "name": "stdout",
     "output_type": "stream",
     "text": [
      "Definition Line for sequence 1:\n",
      ">2591237:ncbi:1 [MK211378]\t2591237\tncbi\t1 [MK211378] 2591237\tCoronavirus BtRs-BetaCoV/YN2018D\t\tscientific name\n",
      "Parsed data:\n",
      "key: 2591237:ncbi:1\n",
      "metadata:\n",
      "{'accession': 'MK211378',\n",
      " 'seqid': '2591237:ncbi:1',\n",
      " 'seqnb': '1',\n",
      " 'source': 'ncbi',\n",
      " 'species': 'Coronavirus BtRs-BetaCoV/YN2018D  scientific name',\n",
      " 'taxonomyid': '2591237'}\n",
      "====================================================================================================\n",
      "Definition Line for sequence 2:\n",
      ">11128:ncbi:2 [LC494191]\t11128\tncbi\t2 [LC494191] 11128\tBovine coronavirus\t\tscientific name\n",
      "Parsed data:\n",
      "key: 11128:ncbi:2\n",
      "metadata:\n",
      "{'accession': 'LC494191',\n",
      " 'seqid': '11128:ncbi:2',\n",
      " 'seqnb': '2',\n",
      " 'source': 'ncbi',\n",
      " 'species': 'Bovine coronavirus  scientific name',\n",
      " 'taxonomyid': '11128'}\n",
      "====================================================================================================\n",
      "Definition Line for sequence 3:\n",
      ">31631:ncbi:3 [KY967361]\t31631\tncbi\t3 [KY967361] 31631\tHuman coronavirus OC43\t\tscientific name\n",
      "Parsed data:\n",
      "key: 31631:ncbi:3\n",
      "metadata:\n",
      "{'accession': 'KY967361',\n",
      " 'seqid': '31631:ncbi:3',\n",
      " 'seqnb': '3',\n",
      " 'source': 'ncbi',\n",
      " 'species': 'Human coronavirus OC43  scientific name',\n",
      " 'taxonomyid': '31631'}\n",
      "====================================================================================================\n"
     ]
    }
   ],
   "source": [
    "definition_lines = fasta.parse_file()\n",
    "fasta.reset_iterator()\n",
    "\n",
    "for i, (k, v) in enumerate(definition_lines.items()):\n",
    "    print(f\"Definition Line for sequence {i+1}:\")\n",
    "    print(next(fasta)['definition line'])\n",
    "    print('Parsed data:')\n",
    "    print(f\"key: {k}\\nmetadata:\")\n",
    "    pprint(v)\n",
    "    print(f\"{'='*100}\")\n",
    "    if i >= 2: break"
   ]
  },
  {
   "cell_type": "markdown",
   "metadata": {},
   "source": [
    "## Explore simulated read output files (FASTQ and ALN)"
   ]
  },
  {
   "cell_type": "markdown",
   "metadata": {},
   "source": [
    "When simulating with ART Illumina,:\n",
    "- We simulated reads from referenmce sequences in a fasta file (`fasta` reader)\n",
    "- ART returns two files:\n",
    "    - a fastq file (`fastq` reader) with the reads sequences, their quality and some read metadata\n",
    "    - a aln file (`aln` reader), including:\n",
    "        - a header with the summulation command and the list of reference sequences\n",
    "        - additional metadata on each reads, including: \n",
    "            - the readid and its number (rank in the list)\n",
    "            - the read sequence itself (may include errors)\n",
    "            - the same sequence as in the reference sequence\n",
    "            - the read alignment starting position in the reference sequence\n",
    "            - the reference sequence strand\n",
    "            - the reference sequence id and its number in the sequence file            "
   ]
  },
  {
   "cell_type": "markdown",
   "metadata": {},
   "source": [
    "Like for FASTA file, `FastqFileReader` and `AlnFileReader` makes it easier to load and work with fastq and aln file"
   ]
  },
  {
   "cell_type": "code",
   "execution_count": 86,
   "metadata": {},
   "outputs": [
    {
     "name": "stdout",
     "output_type": "stream",
     "text": [
      " fq reads file:  single_10seq_50bp.fq\n",
      " aln reads file: single_10seq_50bp.aln\n"
     ]
    }
   ],
   "source": [
    "p2fastq = p2simreads / f\"{p2simreads.stem}.fq\"\n",
    "assert p2fastq.is_file()\n",
    "p2aln = p2simreads / f\"{p2simreads.stem}.aln\"\n",
    "assert p2aln.is_file()\n",
    "\n",
    "print(f\" fq reads file:  {p2fastq.name}\\n aln reads file: {p2aln.name}\")\n",
    "\n",
    "fastq = FastqFileReader(p2fastq)\n",
    "aln = AlnFileReader(p2aln)"
   ]
  },
  {
   "cell_type": "markdown",
   "metadata": {},
   "source": [
    "### Exploring information about the simreads in fastaq"
   ]
  },
  {
   "cell_type": "code",
   "execution_count": 88,
   "metadata": {},
   "outputs": [
    {
     "name": "stdout",
     "output_type": "stream",
     "text": [
      "Read 0:\n",
      "{'readid': '2591237:ncbi:1-60400',\n",
      " 'readnb': '60400',\n",
      " 'readseq': 'ACAACTCCTATTCGTAGTTGAAGTTGTTGACAAATACTTTGATTGTTACG',\n",
      " 'refseqnb': '1',\n",
      " 'refsource': 'ncbi',\n",
      " 'reftaxonomyid': '2591237'}\n",
      "\n",
      "Read 1:\n",
      "{'readid': '2591237:ncbi:1-60399',\n",
      " 'readnb': '60399',\n",
      " 'readseq': 'GATCAATGTGGCATCTACAATACAGACAGCATGAAGCACCACCAAAGGAC',\n",
      " 'refseqnb': '1',\n",
      " 'refsource': 'ncbi',\n",
      " 'reftaxonomyid': '2591237'}\n",
      "\n",
      "Read 2:\n",
      "{'readid': '2591237:ncbi:1-60398',\n",
      " 'readnb': '60398',\n",
      " 'readseq': 'ATCTACCAGTGGTAGATGGGTTCTTAATAATGAACATTATAGAGCTCTAC',\n",
      " 'refseqnb': '1',\n",
      " 'refsource': 'ncbi',\n",
      " 'reftaxonomyid': '2591237'}\n",
      "\n"
     ]
    }
   ],
   "source": [
    "for i, (k,v) in enumerate(fastq.parse_file(add_readseq=True).items()):\n",
    "    print(f\"Read {i}:\")\n",
    "    pprint(v)\n",
    "    print()\n",
    "\n",
    "    if i+1 >= 3: break"
   ]
  },
  {
   "cell_type": "markdown",
   "metadata": {},
   "source": [
    "### Exploring information in ALN header"
   ]
  },
  {
   "cell_type": "markdown",
   "metadata": {},
   "source": [
    "The header of ALN file includes:\n",
    "- the ART command used to simulate the reads\n",
    "- the list of reference sequences used to create the reads, with metadata"
   ]
  },
  {
   "cell_type": "markdown",
   "metadata": {},
   "source": [
    "First we can see from which reference fasta file the simulated sequences were imported, by checking the ART command in the alignment file's header. Then we can open a fasta reader for the reference fasta file as well:"
   ]
  },
  {
   "cell_type": "code",
   "execution_count": 89,
   "metadata": {},
   "outputs": [
    {
     "data": {
      "text/plain": [
       "'/bin/art_illumina -i /home/vtec/projects/bio/metagentools/data/cov_data/cov_virus_sequences_ten.fa -ss HS25 -l 50 -f 100 -o /home/vtec/projects/bio/metagentools/data/cov_simreads/single_10seq_50bp/single_10seq_50bp -rs 1674660835'"
      ]
     },
     "execution_count": 89,
     "metadata": {},
     "output_type": "execute_result"
    }
   ],
   "source": [
    "aln.header['command']"
   ]
  },
  {
   "cell_type": "markdown",
   "metadata": {},
   "source": [
    "We see that the simulated reads were generated from the reference sequences in `data/cov_data/cov_virus_sequences_ten.fa`, that is the same as the file in our `fasta`"
   ]
  },
  {
   "cell_type": "code",
   "execution_count": 92,
   "metadata": {},
   "outputs": [
    {
     "data": {
      "text/plain": [
       "PosixPath('/home/vtec/projects/bio/metagentools/data/ncbi/refsequences/cov_virus_sequences_010-seqs.fa')"
      ]
     },
     "execution_count": 92,
     "metadata": {},
     "output_type": "execute_result"
    }
   ],
   "source": [
    "fasta.path"
   ]
  },
  {
   "cell_type": "markdown",
   "metadata": {},
   "source": [
    "Then we can review the metadata available for each reference sequence, as listed in `aln`'s header.\n",
    "\n",
    "This information can be seen in `aln.header` or with the method `parse_header_reference_sequences()`"
   ]
  },
  {
   "cell_type": "code",
   "execution_count": 117,
   "metadata": {},
   "outputs": [
    {
     "data": {
      "text/plain": [
       "{'command': '/bin/art_illumina -i /home/vtec/projects/bio/metagentools/data/cov_data/cov_virus_sequences_ten.fa -ss HS25 -l 50 -f 100 -o /home/vtec/projects/bio/metagentools/data/cov_simreads/single_10seq_50bp/single_10seq_50bp -rs 1674660835',\n",
       " 'reference sequences': ['@SQ\\t2591237:ncbi:1 [MK211378]\\t2591237\\tncbi\\t1 [MK211378] 2591237\\tCoronavirus BtRs-BetaCoV/YN2018D\\t\\tscientific name\\t30213',\n",
       "  '@SQ\\t11128:ncbi:2 [LC494191]\\t11128\\tncbi\\t2 [LC494191] 11128\\tBovine coronavirus\\t\\tscientific name\\t30942',\n",
       "  '@SQ\\t31631:ncbi:3 [KY967361]\\t31631\\tncbi\\t3 [KY967361] 31631\\tHuman coronavirus OC43\\t\\tscientific name\\t30661',\n",
       "  '@SQ\\t277944:ncbi:4 [LC654455]\\t277944\\tncbi\\t4 [LC654455] 277944\\tHuman coronavirus NL63\\t\\tscientific name\\t27516',\n",
       "  '@SQ\\t11120:ncbi:5 [MN987231]\\t11120\\tncbi\\t5 [MN987231] 11120\\tInfectious bronchitis virus\\t\\tscientific name\\t27617',\n",
       "  '@SQ\\t28295:ncbi:6 [KU893866]\\t28295\\tncbi\\t6 [KU893866] 28295\\tPorcine epidemic diarrhea virus\\t\\tscientific name\\t28043',\n",
       "  '@SQ\\t28295:ncbi:7 [KJ645638]\\t28295\\tncbi\\t7 [KJ645638] 28295\\tPorcine epidemic diarrhea virus\\t\\tscientific name\\t27998',\n",
       "  '@SQ\\t28295:ncbi:8 [KJ645678]\\t28295\\tncbi\\t8 [KJ645678] 28295\\tPorcine epidemic diarrhea virus\\t\\tscientific name\\t27998',\n",
       "  '@SQ\\t28295:ncbi:9 [KR873434]\\t28295\\tncbi\\t9 [KR873434] 28295\\tPorcine epidemic diarrhea virus\\t\\tscientific name\\t28038',\n",
       "  '@SQ\\t1699095:ncbi:10 [KT368904]\\t1699095\\tncbi\\t10 [KT368904] 1699095\\tCamel alphacoronavirus\\t\\tscientific name\\t27395']}"
      ]
     },
     "execution_count": 117,
     "metadata": {},
     "output_type": "execute_result"
    }
   ],
   "source": [
    "aln.header"
   ]
  },
  {
   "cell_type": "markdown",
   "metadata": {},
   "source": [
    "With `AlnFileReader.parse_header_reference_sequences`, we can extract information on all the sequences used to generate the reads:"
   ]
  },
  {
   "cell_type": "code",
   "execution_count": 118,
   "metadata": {},
   "outputs": [
    {
     "name": "stdout",
     "output_type": "stream",
     "text": [
      "Reads simulated from 10 reference sequences.\n",
      "\n",
      "Reference Sequence 0:\n",
      "{'refseq_accession': 'MK211378',\n",
      " 'refseq_length': '30213',\n",
      " 'refseqid': '2591237:ncbi:1',\n",
      " 'refseqnb': '1',\n",
      " 'refsource': 'ncbi',\n",
      " 'reftaxonomyid': '2591237',\n",
      " 'species': 'Coronavirus BtRs-BetaCoV/YN2018D  scientific name'}\n",
      "\n",
      "Reference Sequence 1:\n",
      "{'refseq_accession': 'LC494191',\n",
      " 'refseq_length': '30942',\n",
      " 'refseqid': '11128:ncbi:2',\n",
      " 'refseqnb': '2',\n",
      " 'refsource': 'ncbi',\n",
      " 'reftaxonomyid': '11128',\n",
      " 'species': 'Bovine coronavirus  scientific name'}\n",
      "\n",
      "Reference Sequence 2:\n",
      "{'refseq_accession': 'KY967361',\n",
      " 'refseq_length': '30661',\n",
      " 'refseqid': '31631:ncbi:3',\n",
      " 'refseqnb': '3',\n",
      " 'refsource': 'ncbi',\n",
      " 'reftaxonomyid': '31631',\n",
      " 'species': 'Human coronavirus OC43  scientific name'}\n",
      "\n"
     ]
    }
   ],
   "source": [
    "header_refseq_meta = aln.parse_header_reference_sequences()\n",
    "\n",
    "print(f\"Reads simulated from {len(header_refseq_meta)} reference sequences.\\n\")\n",
    "\n",
    "for i, (k,v) in enumerate(header_refseq_meta.items()):\n",
    "    print(f\"Reference Sequence {i}:\")\n",
    "    pprint(v)\n",
    "    print()\n",
    "\n",
    "    if i+1 >= 3: break"
   ]
  },
  {
   "cell_type": "markdown",
   "metadata": {},
   "source": [
    "We see that the first reference sequence is a **Coronavirus BtRs-BetaCoV/YN2018D**"
   ]
  },
  {
   "cell_type": "markdown",
   "metadata": {},
   "source": [
    "### Exploring metadata available for simulated read's"
   ]
  },
  {
   "cell_type": "code",
   "execution_count": 119,
   "metadata": {},
   "outputs": [
    {
     "name": "stdout",
     "output_type": "stream",
     "text": [
      "571,980 reads were simulated.\n",
      "\n",
      "Read 0\n",
      "2591237:ncbi:1-60400\n",
      "{'aln_start_pos': '14770',\n",
      " 'read_seq_aligned': 'ACAACTCCTATTCGTAGTTGAAGTTGTTGACAAATACTTTGATTGTTACG',\n",
      " 'readid': '2591237:ncbi:1-60400',\n",
      " 'readnb': '60400',\n",
      " 'ref_seq_aligned': 'ACAACTCCTATTCGTAGTTGAAGTTGTTGACAAATACTTTGATTGTTACG',\n",
      " 'refseq_strand': '+',\n",
      " 'refseqid': '2591237:ncbi:1',\n",
      " 'refseqnb': '1',\n",
      " 'refsource': 'ncbi',\n",
      " 'reftaxonomyid': '2591237'}\n",
      "\n",
      "Read 1\n",
      "2591237:ncbi:1-60399\n",
      "{'aln_start_pos': '17012',\n",
      " 'read_seq_aligned': 'GATCAATGTGGCATCTACAATACAGACAGCATGAAGCACCACCAAAGGAC',\n",
      " 'readid': '2591237:ncbi:1-60399',\n",
      " 'readnb': '60399',\n",
      " 'ref_seq_aligned': 'GATCAATGTGGCATCTACAATACAGACAGCATGAAGCACCACCAAAGGAC',\n",
      " 'refseq_strand': '-',\n",
      " 'refseqid': '2591237:ncbi:1',\n",
      " 'refseqnb': '1',\n",
      " 'refsource': 'ncbi',\n",
      " 'reftaxonomyid': '2591237'}\n",
      "\n",
      "Read 2\n",
      "2591237:ncbi:1-60398\n",
      "{'aln_start_pos': '9188',\n",
      " 'read_seq_aligned': 'ATCTACCAGTGGTAGATGGGTTCTTAATAATGAACATTATAGAGCTCTAC',\n",
      " 'readid': '2591237:ncbi:1-60398',\n",
      " 'readnb': '60398',\n",
      " 'ref_seq_aligned': 'ATCTACCAGTGGTAGATGGGTTCTTAATAATGAACATTATAGAGCTCTAC',\n",
      " 'refseq_strand': '+',\n",
      " 'refseqid': '2591237:ncbi:1',\n",
      " 'refseqnb': '1',\n",
      " 'refsource': 'ncbi',\n",
      " 'reftaxonomyid': '2591237'}\n",
      "\n"
     ]
    }
   ],
   "source": [
    "reads_meta = aln.parse_file(add_ref_seq_aligned=True, add_read_seq_aligned=True)\n",
    "\n",
    "print(f\"{len(reads_meta):,d} reads were simulated.\\n\")\n",
    "\n",
    "for i, (k,v) in enumerate(reads_meta.items()):\n",
    "    print(f\"Read {i}\")\n",
    "    print(k)\n",
    "    pprint(v)\n",
    "    print()\n",
    "    if i+1>=3: break"
   ]
  },
  {
   "cell_type": "markdown",
   "metadata": {},
   "source": [
    "### Comparison metadata in fasta, fastq and aln"
   ]
  },
  {
   "cell_type": "markdown",
   "metadata": {},
   "source": [
    "There is redendancy in metadata across the three sets of files (`.fa`, `.fq`, `.aln`). Let's compare them to confirm this is consistent"
   ]
  },
  {
   "cell_type": "markdown",
   "metadata": {},
   "source": [
    "Create the following list and dictionaries parsing metadata from fasta, fastq and aln:\n",
    "- `refseqs_fasta`: metadata in fasta sequence file used as reference sequences to create reads\n",
    "- `simreads`: metadata on reads, as available in the fastq read file\n",
    "- `refseqs_aln`: reference sequences with metadata as available in the aln header\n",
    "- `simread_align`: read sequence and alignment info"
   ]
  },
  {
   "cell_type": "code",
   "execution_count": 120,
   "metadata": {},
   "outputs": [],
   "source": [
    "refseqs_fasta = fasta.parse_file(add_seq=True)\n",
    "simreads = fastq.parse_file(add_readseq=True)\n",
    "refseqs_aln = aln.ref_sequences\n",
    "simread_align = aln.parse_file(add_ref_seq_aligned=True, add_read_seq_aligned=True)"
   ]
  },
  {
   "cell_type": "code",
   "execution_count": 121,
   "metadata": {},
   "outputs": [
    {
     "name": "stdout",
     "output_type": "stream",
     "text": [
      "reads simulated from the following 10 full sequences from `cov_virus_sequences_ten.fa`:\n",
      "\n",
      " 00: Coronavirus BtRs-BetaCoV/YN2018D  scientific name\n",
      " 01: Bovine coronavirus  scientific name\n",
      " 02: Human coronavirus OC43  scientific name\n",
      " 03: Human coronavirus NL63  scientific name\n",
      " 04: Infectious bronchitis virus  scientific name\n",
      " 05: Porcine epidemic diarrhea virus  scientific name\n",
      " 06: Porcine epidemic diarrhea virus  scientific name\n",
      " 07: Porcine epidemic diarrhea virus  scientific name\n",
      " 08: Porcine epidemic diarrhea virus  scientific name\n",
      " 09: Camel alphacoronavirus  scientific name\n"
     ]
    }
   ],
   "source": [
    "print(f\"reads simulated from the following {len(refseqs_fasta)} full sequences from `{fasta.path.name}`:\\n\")\n",
    "print('\\n'.join([f\" {i:02d}: {refseq['species']}\" for i, refseq in enumerate(refseqs_fasta.values())]))"
   ]
  },
  {
   "cell_type": "code",
   "execution_count": 122,
   "metadata": {},
   "outputs": [
    {
     "name": "stdout",
     "output_type": "stream",
     "text": [
      "571,980 reads generated and available in fastq file.\n",
      "For each read, following metadata is available in the fastq file:\n",
      " - readid\n",
      " - readnb\n",
      " - refseqnb\n",
      " - refsource\n",
      " - reftaxonomyid\n",
      " - readseq\n"
     ]
    }
   ],
   "source": [
    "print(f\"{len(simreads):,d} reads generated and available in fastq file.\")\n",
    "print('For each read, following metadata is available in the fastq file:')\n",
    "for s in ['readid', 'readnb', 'refseqnb', 'refsource', 'reftaxonomyid', 'readseq']:\n",
    "    print(f\" - {s}\")"
   ]
  },
  {
   "cell_type": "code",
   "execution_count": 123,
   "metadata": {},
   "outputs": [
    {
     "name": "stdout",
     "output_type": "stream",
     "text": [
      "571,980 reads generated and available in aln file.\n",
      "For each read, following metadata is available in the aln file:\n",
      " - aln_start_pos\n",
      " - readid\n",
      " - readnb\n",
      " - refseq_strand\n",
      " - refseqid\n",
      " - refseqnb\n",
      " - refsource\n",
      " - reftaxonomyid\n",
      " - ref_seq_aligned\n",
      " - read_seq_aligned\n"
     ]
    }
   ],
   "source": [
    "print(f\"{len(simread_align):,d} reads generated and available in aln file.\")\n",
    "print('For each read, following metadata is available in the aln file:')\n",
    "for s in ['aln_start_pos', 'readid', 'readnb', 'refseq_strand', 'refseqid', 'refseqnb', 'refsource', 'reftaxonomyid', 'ref_seq_aligned', 'read_seq_aligned']:\n",
    "    print(f\" - {s}\")"
   ]
  },
  {
   "cell_type": "markdown",
   "metadata": {},
   "source": [
    "Check consistency between refseqs from fasta and from aln "
   ]
  },
  {
   "cell_type": "code",
   "execution_count": 124,
   "metadata": {},
   "outputs": [
    {
     "name": "stdout",
     "output_type": "stream",
     "text": [
      "ATCCGTGGGT TAGGCACCCA\n",
      "ATCCGTGGGT TGGGTGCCTA\n"
     ]
    }
   ],
   "source": [
    "# utility functions\n",
    "def complementary_strand(seq):\n",
    "    \"\"\"Converts a strand in its complementary\"\"\"\n",
    "    conv = {'A':'T', 'C':'G', 'G':'C', 'T':'A'}\n",
    "    return ''.join([conv[base] for base in seq])\n",
    "\n",
    "strand = 'ATCCGTGGGT'\n",
    "print(strand, complementary_strand(strand))\n",
    "\n",
    "def reverse_sequence(seq):\n",
    "    return seq[::-1]\n",
    "\n",
    "print(strand, reverse_sequence(strand))"
   ]
  },
  {
   "cell_type": "markdown",
   "metadata": {},
   "source": [
    "### Check aln reference sequence information"
   ]
  },
  {
   "cell_type": "code",
   "execution_count": 125,
   "metadata": {},
   "outputs": [],
   "source": [
    "refseqid = '2591237:ncbi:1'\n",
    "# refseqid = '11128:ncbi:2'"
   ]
  },
  {
   "cell_type": "markdown",
   "metadata": {},
   "source": [
    "In the source `.fa` file"
   ]
  },
  {
   "cell_type": "code",
   "execution_count": 126,
   "metadata": {},
   "outputs": [
    {
     "data": {
      "text/plain": [
       "('MK211378', 30213)"
      ]
     },
     "execution_count": 126,
     "metadata": {},
     "output_type": "execute_result"
    }
   ],
   "source": [
    "original_seq = refseqs_fasta[refseqid]['sequence']\n",
    "original_seq_accession = refseqs_fasta[refseqid]['accession']\n",
    "\n",
    "original_seq_accession, len(original_seq)"
   ]
  },
  {
   "cell_type": "markdown",
   "metadata": {},
   "source": [
    "In the output`.aln` file"
   ]
  },
  {
   "cell_type": "code",
   "execution_count": 127,
   "metadata": {},
   "outputs": [
    {
     "data": {
      "text/plain": [
       "('MK211378', 30213)"
      ]
     },
     "execution_count": 127,
     "metadata": {},
     "output_type": "execute_result"
    }
   ],
   "source": [
    "assert original_seq_accession == refseqs_aln[refseqid]['refseq_accession']\n",
    "assert len(original_seq) == int(refseqs_aln[refseqid]['refseq_length'])\n",
    "\n",
    "refseqs_aln[refseqid]['refseq_accession'], int(refseqs_aln[refseqid]['refseq_length'])"
   ]
  },
  {
   "cell_type": "markdown",
   "metadata": {},
   "source": [
    "### Check alignment information"
   ]
  },
  {
   "cell_type": "code",
   "execution_count": 128,
   "metadata": {},
   "outputs": [
    {
     "name": "stdout",
     "output_type": "stream",
     "text": [
      "{'aln_start_pos': '14770',\n",
      " 'read_seq_aligned': 'ACAACTCCTATTCGTAGTTGAAGTTGTTGACAAATACTTTGATTGTTACG',\n",
      " 'readid': '2591237:ncbi:1-60400',\n",
      " 'readnb': '60400',\n",
      " 'ref_seq_aligned': 'ACAACTCCTATTCGTAGTTGAAGTTGTTGACAAATACTTTGATTGTTACG',\n",
      " 'refseq_strand': '+',\n",
      " 'refseqid': '2591237:ncbi:1',\n",
      " 'refseqnb': '1',\n",
      " 'refsource': 'ncbi',\n",
      " 'reftaxonomyid': '2591237'}\n"
     ]
    }
   ],
   "source": [
    "pprint(simread_align['2591237:ncbi:1-60400'])"
   ]
  },
  {
   "cell_type": "markdown",
   "metadata": {},
   "source": [
    "Select all reads generated from a single reference sequence"
   ]
  },
  {
   "cell_type": "code",
   "execution_count": 129,
   "metadata": {},
   "outputs": [
    {
     "name": "stdout",
     "output_type": "stream",
     "text": [
      "Select all reads from reference sequence '2591237:ncbi:1''\n",
      "Total of 60,400 reads\n"
     ]
    }
   ],
   "source": [
    "print(f\"Select all reads from reference sequence '{refseqid}''\")\n",
    "reads_from_refseq = {k:v for k,v in simread_align.items() if v['refseqid']==refseqid}\n",
    "nbr_generated_reads = len(reads_from_refseq)\n",
    "print(f\"Total of {nbr_generated_reads:,d} reads\")"
   ]
  },
  {
   "cell_type": "code",
   "execution_count": 130,
   "metadata": {},
   "outputs": [
    {
     "name": "stdout",
     "output_type": "stream",
     "text": [
      "{'aln_start_pos': '11417',\n",
      " 'read_seq_aligned': 'CTCTAACTATTCTGGTGTCGTCACGACTATCATGTTTTTAGCTAGAGCTA',\n",
      " 'readid': '2591237:ncbi:1-60394',\n",
      " 'readnb': '60394',\n",
      " 'ref_seq_aligned': 'CTCTAACTATTCTGGTGTCGTCACGACTATCATGTTTTTAGCTAGAGCTA',\n",
      " 'refseq_strand': '+',\n",
      " 'refseqid': '2591237:ncbi:1',\n",
      " 'refseqnb': '1',\n",
      " 'refsource': 'ncbi',\n",
      " 'reftaxonomyid': '2591237'}\n"
     ]
    }
   ],
   "source": [
    "n = 6\n",
    "selected_simread = [v for k,v in reads_from_refseq.items()][n]\n",
    "pprint(selected_simread)"
   ]
  },
  {
   "cell_type": "code",
   "execution_count": 131,
   "metadata": {},
   "outputs": [],
   "source": [
    "def check_alignment(n, reads):\n",
    "    selected_simread = [v for k,v in reads.items()][n]\n",
    "    print(f\"{'='*80}\")\n",
    "    print(f\"checking read {selected_simread['readid']}\")\n",
    "    start = int(selected_simread['aln_start_pos'])\n",
    "    strand = selected_simread['refseq_strand']\n",
    "    print(f\"simread info:\")\n",
    "    print(f\" - from `{strand}` strand\")\n",
    "    print(f\" - position: {start:,d}\")\n",
    "\n",
    "    if strand == '+':\n",
    "        segment_from_refseq = original_seq[start:start+50]\n",
    "    else:\n",
    "        segment_from_refseq = complementary_strand(reverse_sequence(original_seq)[start:start+50])\n",
    "\n",
    "    print('sequences:')\n",
    "    print(f'- simread seq          :', selected_simread['read_seq_aligned'])\n",
    "    print(f'- refseq aligned       :', selected_simread['ref_seq_aligned'])\n",
    "    print(f'- segment in orig. seq :', segment_from_refseq)"
   ]
  },
  {
   "cell_type": "code",
   "execution_count": 132,
   "metadata": {},
   "outputs": [
    {
     "name": "stdout",
     "output_type": "stream",
     "text": [
      "================================================================================\n",
      "checking read 2591237:ncbi:1-1\n",
      "simread info:\n",
      " - from `+` strand\n",
      " - position: 12,125\n",
      "sequences:\n",
      "- simread seq          : CAAAAAGTTAAAGAAATCTTTGAATGTGGCTAAATCTGAGTTTGACCGTG\n",
      "- refseq aligned       : CAAAAAGTTAAAGAAATCTTTGAATGTGGCTAAATCTGAGTTTGACCGTG\n",
      "- segment in orig. seq : CAAAAAGTTAAAGAAATCTTTGAATGTGGCTAAATCTGAGTTTGACCGTG\n",
      "================================================================================\n",
      "checking read 2591237:ncbi:1-2\n",
      "simread info:\n",
      " - from `-` strand\n",
      " - position: 15,136\n",
      "sequences:\n",
      "- simread seq          : TCTATTTGTCATAGTACTACAGATAGAGACACCAGCTACGGTGCGAGCTC\n",
      "- refseq aligned       : TCTATTTGTCATAGTACTACAGATAGAGACACCAGCTACGGTGCGAGCTC\n",
      "- segment in orig. seq : TCTATTTGTCATAGTACTACAGATAGAGACACCAGCTACGGTGCGAGCTC\n",
      "================================================================================\n",
      "checking read 2591237:ncbi:1-3\n",
      "simread info:\n",
      " - from `+` strand\n",
      " - position: 19,210\n",
      "sequences:\n",
      "- simread seq          : TGATGGTGGTAGCTTGTATGTGAATAAGCATGCATTCCACACTCCAGCTT\n",
      "- refseq aligned       : TGATGGTGGTAGCTTGTATGTGAATAAGCATGCATTCCACACTCCAGCTT\n",
      "- segment in orig. seq : TGATGGTGGTAGCTTGTATGTGAATAAGCATGCATTCCACACTCCAGCTT\n",
      "================================================================================\n",
      "checking read 2591237:ncbi:1-4\n",
      "simread info:\n",
      " - from `+` strand\n",
      " - position: 16,021\n",
      "sequences:\n",
      "- simread seq          : TTTACAATACATTAGGAAGTTACATGATGAGCTTACTGGTCACATGTTAG\n",
      "- refseq aligned       : TTTACAATACATTAGGAAGTTACATGATGAGCTTACTGGTCACATGTTAG\n",
      "- segment in orig. seq : TTTACAATACATTAGGAAGTTACATGATGAGCTTACTGGTCACATGTTAG\n",
      "================================================================================\n",
      "checking read 2591237:ncbi:1-5\n",
      "simread info:\n",
      " - from `-` strand\n",
      " - position: 9,376\n",
      "sequences:\n",
      "- simread seq          : AGCTGTACCAGGTGCGACTCCTTTATCAGAGCCCGCACCAAAGTGAATAA\n",
      "- refseq aligned       : AGCTGTACCAGGTGCGACTCCTTTATCAGAGCCCGCACCAAAGTGAATAA\n",
      "- segment in orig. seq : AGCTGTACCAGGTGCGACTCCTTTATCAGAGCCCGCACCAAAGTGAATAA\n"
     ]
    }
   ],
   "source": [
    "for n in range(nbr_generated_reads-1, nbr_generated_reads-6, -1):\n",
    "    check_alignment(n, reads_from_refseq)"
   ]
  },
  {
   "cell_type": "markdown",
   "metadata": {},
   "source": [
    "## end of section"
   ]
  }
 ],
 "metadata": {
  "kernelspec": {
   "display_name": "Python 3.10.6 ('metagentools')",
   "language": "python",
   "name": "python3"
  },
  "language_info": {
   "codemirror_mode": {
    "name": "ipython",
    "version": 3
   },
   "file_extension": ".py",
   "mimetype": "text/x-python",
   "name": "python",
   "nbconvert_exporter": "python",
   "pygments_lexer": "ipython3",
   "version": "3.10.6"
  },
  "vscode": {
   "interpreter": {
    "hash": "d79c725d3d254ae089d5edf9eb2dce3237f80d64dd85a8bedc17bd8054b8b312"
   }
  }
 },
 "nbformat": 4,
 "nbformat_minor": 1
}
