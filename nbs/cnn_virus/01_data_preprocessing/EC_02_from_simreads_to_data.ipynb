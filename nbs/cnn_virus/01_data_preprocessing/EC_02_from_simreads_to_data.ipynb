{
 "cells": [
  {
   "cell_type": "markdown",
   "id": "5eed1a20",
   "metadata": {},
   "source": [
    "# Convert ART simulated reads into CNN Virus data file"
   ]
  },
  {
   "cell_type": "markdown",
   "id": "1c531cf3",
   "metadata": {},
   "source": [
    "## Setup"
   ]
  },
  {
   "cell_type": "code",
   "execution_count": null,
   "id": "b10e6d4f",
   "metadata": {},
   "outputs": [
    {
     "name": "stdout",
     "output_type": "stream",
     "text": [
      "The notebook is running locally\n"
     ]
    }
   ],
   "source": [
    "try:\n",
    "    from google.colab import drive\n",
    "    ON_COLAB = True\n",
    "    print('The notebook is running on colab')\n",
    "    !pip install -qq git+https://github.com/vtecftwy/metagentools.git@main\n",
    "except:\n",
    "    ON_COLAB = False\n",
    "    print('The notebook is running locally')"
   ]
  },
  {
   "cell_type": "code",
   "execution_count": null,
   "id": "7a8592bd",
   "metadata": {},
   "outputs": [],
   "source": [
    "from ecutils.ipython import nb_setup, colab_install_project_code"
   ]
  },
  {
   "cell_type": "code",
   "execution_count": null,
   "id": "bcfc22f3",
   "metadata": {},
   "outputs": [
    {
     "name": "stdout",
     "output_type": "stream",
     "text": [
      "Set autoreload mode\n"
     ]
    }
   ],
   "source": [
    "nb_setup()"
   ]
  },
  {
   "cell_type": "code",
   "execution_count": null,
   "id": "9bf64d26",
   "metadata": {},
   "outputs": [
    {
     "name": "stdout",
     "output_type": "stream",
     "text": [
      "The notebook is running locally, will not automatically install project code\n"
     ]
    }
   ],
   "source": [
    "package_name = 'git+https://github.com/vtecftwy/metagentools.git@main'\n",
    "colab_install_project_code(package_name);"
   ]
  },
  {
   "cell_type": "code",
   "execution_count": null,
   "id": "95351c0e",
   "metadata": {},
   "outputs": [],
   "source": [
    "from metagentools.art import ArtIllumina\n",
    "from pathlib import Path"
   ]
  },
  {
   "cell_type": "markdown",
   "id": "df4553a9",
   "metadata": {},
   "source": [
    "# Getting simreads locally"
   ]
  },
  {
   "cell_type": "code",
   "execution_count": null,
   "id": "ccd16ecc",
   "metadata": {},
   "outputs": [
    {
     "data": {
      "text/plain": [
       "Path('/home/vtec/projects/bio/metagentools/data/cov_simreads')"
      ]
     },
     "execution_count": null,
     "metadata": {},
     "output_type": "execute_result"
    }
   ],
   "source": [
    "p2simreads = Path('../../../data/cov_simreads').resolve()\n",
    "p2simreads.is_dir()\n",
    "p2simreads"
   ]
  },
  {
   "cell_type": "code",
   "execution_count": null,
   "id": "f1d6cf4c",
   "metadata": {},
   "outputs": [
    {
     "name": "stdout",
     "output_type": "stream",
     "text": [
      "data\n",
      "  |--cov_simreads\n",
      "  |    |--single_10seq_50bp.fq (0)\n",
      "  |    |--single_10seq_50bp.aln (1)\n",
      "  |    |--single_10seq_150bp.fq (2)\n",
      "  |    |--single_10seq_150bp.aln (3)\n"
     ]
    }
   ],
   "source": [
    "# TEMP - TODO - Replaced by function from ecutil package\n",
    "\n",
    "def show_subdirectory_tree(path, pattern=''):\n",
    "    \"\"\"Print the tree of what is in path: subdiretories and their content\"\"\"\n",
    "    parents = [p.name for p in path.parents]\n",
    "    paths = []\n",
    "    pad = ' ' * 2\n",
    "    idx = 0\n",
    "    print(f\"{parents[0]}\")\n",
    "    print(f\"{pad}|--{path.name}\")\n",
    "    for f in [p for p in path.glob(f\"*{pattern}*\") if p.is_file()]:\n",
    "        paths.append(f)\n",
    "        print(f\"{pad}|{pad*2}|--{f.name} ({idx})\")\n",
    "        idx += 1\n",
    "    for d in [p for p in path.glob(f\"*{pattern}*\") if p.is_dir()]:\n",
    "        for f in d.iterdir():\n",
    "            paths.append(f)\n",
    "            print(f\"{pad}|{pad*2}|--{f.name} ({idx})\")\n",
    "            idx += 1\n",
    "    return paths\n",
    "    \n",
    "files = show_subdirectory_tree(p2simreads, pattern='single_10seq')"
   ]
  },
  {
   "cell_type": "code",
   "execution_count": null,
   "id": "a3bc93c2",
   "metadata": {},
   "outputs": [
    {
     "data": {
      "text/plain": [
       "Path('/home/vtec/projects/bio/metagentools/data/cov_simreads/single_10seq_50bp/single_10seq_50bp.fq')"
      ]
     },
     "execution_count": null,
     "metadata": {},
     "output_type": "execute_result"
    }
   ],
   "source": [
    "p2infile = files[0]\n",
    "p2infile.is_file()\n",
    "p2infile"
   ]
  },
  {
   "cell_type": "code",
   "execution_count": null,
   "id": "db9d4cee",
   "metadata": {},
   "outputs": [
    {
     "name": "stdout",
     "output_type": "stream",
     "text": [
      "@2591237:ncbi:1-60400\n",
      "ACAACTCCTATTCGTAGTTGAAGTTGTTGACAAATACTTTGATTGTTACG\n",
      "+\n",
      "CCCBCGFGBGGGGGGGBGGGGGGGGG>GGG1G=/GGGGGGGGGGGGGGGG\n",
      "@2591237:ncbi:1-60399\n",
      "GATCAATGTGGCATCTACAATACAGACAGCATGAAGCACCACCAAAGGAC\n",
      "+\n",
      "BCBCCFGGGGGGGG1CGGGG<GGBGGGGGFGCGGGGGGDGGG/GG1GGGG\n",
      "@2591237:ncbi:1-60398\n",
      "ATCTACCAGTGGTAGATGGGTTCTTAATAATGAACATTATAGAGCTCTAC\n",
      "+\n",
      "CCCCCGGGEGG1GGF1G/GGEGGGGGGGGGGGGFFGGGGGGGGGGDGGDG\n",
      "@2591237:ncbi:1-60397\n",
      "CGTAAAGTAGAGGCTGTATGGTAGCTAGCACAAATGCCAGCACCAATAGG\n",
      "+\n",
      "BCCCCGGGFGGGGGGFGGGGFGG1GGGGGGG>GG1GGGGGGGGGGE<GGG\n",
      "@2591237:ncbi:1-60396\n",
      "GGTATCGGGTATCTCCTGCATCAATGCAAGGTCTTACAAAGATAAATACT\n",
      "+\n",
      "CBCCCGGG@CGGGGGGGGGGGG=GFGGGGDGGGFG1GGGGGGGG@GGGGG\n",
      "@2591237:ncbi:1-60395\n",
      "AACATCTGAACGAAAAATGTCATCATTATAATAGACACCCCTACGCGAAG\n",
      "+\n",
      "CCCBCFG1?GGGGGGGGGGGGGGGDGGGGGGGEC1GGGGGGGBGGGGFGG\n",
      "@2591237:ncbi:1-60394\n",
      "CTCTAACTATTCTGGTGTCGTCACGACTATCATGTTTTTAGCTAGAGCTA\n",
      "+\n",
      "<CAC:F;GGGGGGGGGGGGG>:GGGG1GGGGGGGGGGGGEGGG1GGGGGG\n",
      "@2591237:ncbi:1-60393\n",
      "AGAAAGAGTGCACATTGACTTACCCGCGCGAGCGAGAAAATCTTTGATGC\n",
      "+\n",
      "BC@CCGGGGFGGGGGGGGG0FGGGGGGEGG1GGEGGGBGGGGGGGGGGGG\n",
      "@2591237:ncbi:1-60392\n",
      "GCTCTAGCTAAAAACATGATAGTCGTGACGACACCAGAATAGTTAGAGGT\n",
      "+\n",
      "CC=CCCG;G1G/GGGGGGF;FGGGGGG/GGG1BGGGGGGGGFGGGBGGGG\n",
      "@2591237:ncbi:1-60391\n",
      "GAAGTTGTCTGGAGAAATCATCCATGTCAGCCGCAGGAAGAAGAGTCACA\n",
      "+\n",
      "BCCCBGGGGGGGEGGGGGGGGGGGGD@1GFGG1G1GGGGGGGGGFGGGCG\n",
      "@2591237:ncbi:1-60390\n",
      "GTCATTTTTGTATGAACCACCACGCTGGCTAAACCATGAGTCAAAACCAG\n",
      "+\n",
      "CBCCCFEGGGGGG@GGGGGGGGGGGGFGGGGGG=F/GGGFGEGGFGBGGG\n",
      "@2591237:ncbi:1-60389\n",
      "TCTGAAGCACTGCCATTGGTTCTTTAACAACTATCTTAGGAAAAGAGTCA\n",
      "+\n",
      "C3?CBGGGG1GGGGGGGGGGGGGGGGGGBGGGG/GGGGGGGGGGGGFGGG\n",
      "@2591237:ncbi:1-60388\n",
      "AGCAGGCATGTAGACCATATTAAAGTAAGCAACTGTTGCAAGAGAAGGTA\n",
      "\n"
     ]
    }
   ],
   "source": [
    "with open(p2infile, 'r') as fp:\n",
    "    lines = []\n",
    "    for i in range(50):\n",
    "        lines.append(fp.readline())\n",
    "print(''.join(lines))"
   ]
  },
  {
   "cell_type": "markdown",
   "id": "79cde486",
   "metadata": {},
   "source": [
    "```ascii\n",
    ">>> Start of a new sequence:   @2591237:ncbi:1-60400\n",
    ">>> Sequence:                  ACAACTCCTATTCGTAGTTGAAGTTGTTGACAAATACTTTGATTGTTACG\n",
    ">>> Start of sequence quality: +\n",
    ">>> Quality info on sequence:  CCCBCGFGBGGGGGGGBGGGGGGGGG>GGG1G=/GGGGGGGGGGGGGGGG\n",
    "```"
   ]
  },
  {
   "cell_type": "markdown",
   "id": "9e751379",
   "metadata": {},
   "source": [
    "# CNN Virus data format"
   ]
  },
  {
   "cell_type": "code",
   "execution_count": null,
   "id": "51a990ad",
   "metadata": {},
   "outputs": [
    {
     "data": {
      "text/plain": [
       "Path('/home/vtec/projects/bio/metagentools/data/CNN_Virus_data')"
      ]
     },
     "execution_count": null,
     "metadata": {},
     "output_type": "execute_result"
    }
   ],
   "source": [
    "p2data = Path('../../../data/CNN_Virus_data').resolve()\n",
    "assert p2data.is_dir()\n",
    "p2data"
   ]
  },
  {
   "cell_type": "code",
   "execution_count": null,
   "id": "a95fa855",
   "metadata": {},
   "outputs": [
    {
     "data": {
      "text/plain": [
       "['data', 'metagentools', 'bio', 'projects', 'vtec', 'home', '']"
      ]
     },
     "execution_count": null,
     "metadata": {},
     "output_type": "execute_result"
    }
   ],
   "source": [
    "[p.name for p in p2data.parents]"
   ]
  },
  {
   "cell_type": "code",
   "execution_count": null,
   "id": "e36139bd",
   "metadata": {},
   "outputs": [
    {
     "name": "stdout",
     "output_type": "stream",
     "text": [
      "data\n",
      "  |--CNN_Virus_data\n",
      "  |    |--50mer_validating\n",
      "  |    |--validation_sequences.fasta\n",
      "  |    |--ICTV_150mer_benchmarking\n",
      "  |    |--50mer_training\n",
      "  |    |--training_sequences_500bp.fasta\n",
      "  |    |--weight_of_classes\n",
      "  |    |--virus_name_mapping\n",
      "  |    |--training_sequences_300bp.fasta\n"
     ]
    }
   ],
   "source": [
    "data_files = show_subdirectory_tree(p2data)"
   ]
  },
  {
   "cell_type": "code",
   "execution_count": null,
   "id": "29d7885c",
   "metadata": {},
   "outputs": [
    {
     "data": {
      "text/plain": [
       "Path('/home/vtec/projects/bio/metagentools/data/CNN_Virus_data/50mer_training')"
      ]
     },
     "execution_count": null,
     "metadata": {},
     "output_type": "execute_result"
    }
   ],
   "source": [
    "p2datafile = data_files[3]\n",
    "assert p2datafile.is_file()\n",
    "p2datafile"
   ]
  },
  {
   "cell_type": "code",
   "execution_count": null,
   "id": "9ff4b57a",
   "metadata": {},
   "outputs": [
    {
     "name": "stdout",
     "output_type": "stream",
     "text": [
      "TCAAAATAATCAGAAATGTTGAACCTAGGGTTGGACACATAATGACCAGC\t76\t0\n",
      "ATTGTTTAACAATTTGTGCTCGTCCCGGTCACCCGCATCCAATCTTGATG\t4\t9\n",
      "AATCTTGTCCTATCCTACCCGCAGGGGAATTGATGATAGANGTGCTTTTA\t181\t0\n",
      "GGAGCGGAGCCAACCCCTATGCTCACTTGCAACCCAAGGGGCGTTCCAGT\t74\t3\n",
      "TGGATCCTGCGCGGGACGTCCTTTGTCTACGTCCCGTCGGCGCATCCCGC\t60\t3\n",
      "GAGAGACTTACTAAAAAGCTGGCACTTACCATCAGTGTTTCACCTACATG\t44\t0\n",
      "ACACACGACACTAGAGATAATGTGTCAGTGGATTATAAACAAACCAAGTT\t43\t7\n",
      "TTGTAGCATAAGAACTGGTCTTCGCTGAAATTCTTGTCTTGATCTCATCT\t35\t2\n",
      "TGGCCCTGCGGTCTGGGGCCCAGAAGCATATGTCAAGTCCTTTGAGAAGT\t73\t4\n",
      "TAGATTTAGTGGTTAGGTAGTAAGGCTACAATGTAAACACGTAGTGGCAA\t11\t6\n",
      "\n"
     ]
    }
   ],
   "source": [
    "with open(p2datafile, 'r') as fp:\n",
    "    lines = []\n",
    "    for i in range(10):\n",
    "        lines.append(fp.readline())\n",
    "print(''.join(lines))"
   ]
  },
  {
   "cell_type": "markdown",
   "id": "88da3e2e",
   "metadata": {},
   "source": [
    "```ascii\n",
    "< ----              sequence                 --->     virus label   position\n",
    "TCAAAATAATCAGAAATGTTGAACCTAGGGTTGGACACATAATGACCAGC         76           0\n",
    "ATTGTTTAACAATTTGTGCTCGTCCCGGTCACCCGCATCCAATCTTGATG         4            9\n",
    "AATCTTGTCCTATCCTACCCGCAGGGGAATTGATGATAGANGTGCTTTTA         181          0\n",
    "```\n"
   ]
  },
  {
   "cell_type": "markdown",
   "id": "948e45b4",
   "metadata": {},
   "source": [
    "Label for corona virus name"
   ]
  },
  {
   "cell_type": "code",
   "execution_count": null,
   "id": "844fd663",
   "metadata": {},
   "outputs": [
    {
     "name": "stdout",
     "output_type": "stream",
     "text": [
      "94 Middle_East_respiratory_syndrome-related_coronavirus\t94\n",
      "\n",
      "117 Severe_acute_respiratory_syndrome-related_coronavirus\t117\n",
      "\n"
     ]
    }
   ],
   "source": [
    "with open(Path('../../../data/CNN_Virus_data/virus_name_mapping'), 'r') as fp:\n",
    "    i = 0\n",
    "    while True:\n",
    "        line = fp.readline()\n",
    "        if line == '': break\n",
    "        elif 'corona' in line.lower():\n",
    "            print(i, line)\n",
    "        i += 1\n",
    "            "
   ]
  },
  {
   "cell_type": "code",
   "execution_count": null,
   "id": "8f4090ca",
   "metadata": {},
   "outputs": [],
   "source": []
  },
  {
   "cell_type": "code",
   "execution_count": null,
   "id": "17cb83e2",
   "metadata": {},
   "outputs": [],
   "source": []
  }
 ],
 "metadata": {
  "kernelspec": {
   "display_name": "Python 3 (ipykernel)",
   "language": "python",
   "name": "python3"
  }
 },
 "nbformat": 4,
 "nbformat_minor": 5
}
