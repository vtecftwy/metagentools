{
 "cells": [
  {
   "cell_type": "markdown",
   "metadata": {},
   "source": [
    "# Create simreads from Yellow Fever NCBI reference sequences"
   ]
  },
  {
   "cell_type": "markdown",
   "metadata": {},
   "source": [
    "This reference notebook shows how to create different sets of simulated reads for yellow fever reference sequences from NCBI"
   ]
  },
  {
   "cell_type": "markdown",
   "metadata": {},
   "source": [
    "# 1. Imports and setup environment"
   ]
  },
  {
   "cell_type": "markdown",
   "metadata": {},
   "source": [
    "### Install and import packages"
   ]
  },
  {
   "cell_type": "code",
   "execution_count": 1,
   "metadata": {},
   "outputs": [
    {
     "name": "stdout",
     "output_type": "stream",
     "text": [
      "`ecutilities` already installed\n",
      "`metagentools` already installed\n"
     ]
    }
   ],
   "source": [
    "# Install required custom packages if not installed yet.\n",
    "import importlib.util\n",
    "if not importlib.util.find_spec('ecutilities'):\n",
    "    print('installing package: `ecutilities`')\n",
    "    ! pip install -qqU ecutilities\n",
    "else:\n",
    "    print('`ecutilities` already installed')\n",
    "if not importlib.util.find_spec('metagentools'):\n",
    "    print('installing package: `metagentools')\n",
    "    ! pip install -qqU metagentools\n",
    "else:\n",
    "    print('`metagentools` already installed')"
   ]
  },
  {
   "cell_type": "code",
   "execution_count": 2,
   "metadata": {},
   "outputs": [
    {
     "name": "stdout",
     "output_type": "stream",
     "text": [
      "Set autoreload mode\n"
     ]
    }
   ],
   "source": [
    "# Import all required packages\n",
    "import matplotlib.pyplot as plt\n",
    "import numpy as np\n",
    "import pandas as pd\n",
    "import re\n",
    "\n",
    "from ecutilities.core import files_in_tree, path_to_parent_dir\n",
    "from ecutilities.ipython import nb_setup\n",
    "from metagentools.art import ArtIllumina\n",
    "from metagentools.core import ProjectFileSystem, TextFileBaseReader\n",
    "from metagentools.cnn_virus.data import FastaFileReader, FastqFileReader, AlnFileReader\n",
    "from nbdev import show_doc\n",
    "from pathlib import Path\n",
    "from pprint import pprint\n",
    "\n",
    "# Setup the notebook for development\n",
    "nb_setup()"
   ]
  },
  {
   "cell_type": "markdown",
   "metadata": {},
   "source": [
    "# 2. Setup project file system"
   ]
  },
  {
   "cell_type": "code",
   "execution_count": 3,
   "metadata": {},
   "outputs": [
    {
     "name": "stdout",
     "output_type": "stream",
     "text": [
      "Running linux on local computer\n",
      "Device's home directory: /home/vtec\n",
      "Project file structure:\n",
      " - Root ........ /home/vtec/projects/bio/metagentools \n",
      " - Data Dir .... /home/vtec/projects/bio/metagentools/data \n",
      " - Notebooks ... /home/vtec/projects/bio/metagentools/nbs\n"
     ]
    }
   ],
   "source": [
    "pfs = ProjectFileSystem()\n",
    "pfs.info()"
   ]
  },
  {
   "cell_type": "markdown",
   "metadata": {},
   "source": [
    "## Load fasta file with reference sequences and review"
   ]
  },
  {
   "cell_type": "code",
   "execution_count": 4,
   "metadata": {},
   "outputs": [
    {
     "data": {
      "text/markdown": [
       "---\n",
       "\n",
       "[source](https://github.com/vtecftwy/metagentools/blob/main/metagentools/art.py#LNone){target=\"_blank\" style=\"float:right; font-size:smaller\"}\n",
       "\n",
       "### ArtIllumina\n",
       "\n",
       ">      ArtIllumina (path2app:str|pathlib.Path, input_dir:str|pathlib.Path,\n",
       ">                   output_dir:str|pathlib.Path=None,\n",
       ">                   app_in_system_path:bool=False)\n",
       "\n",
       "Class to handle all aspects of simulating sequencing with art_illumina\n",
       "\n",
       "|    | **Type** | **Default** | **Details** |\n",
       "| -- | -------- | ----------- | ----------- |\n",
       "| path2app | str \\| pathlib.Path |  | full path to art_illumina application on the system |\n",
       "| input_dir | str \\| pathlib.Path |  | full path to dir where input files are |\n",
       "| output_dir | str \\| pathlib.Path | None | full path to dir where to save output files, if different from input_dir |\n",
       "| app_in_system_path | bool | False | whether `art_illumina` is in the system path or not |"
      ],
      "text/plain": [
       "---\n",
       "\n",
       "[source](https://github.com/vtecftwy/metagentools/blob/main/metagentools/art.py#LNone){target=\"_blank\" style=\"float:right; font-size:smaller\"}\n",
       "\n",
       "### ArtIllumina\n",
       "\n",
       ">      ArtIllumina (path2app:str|pathlib.Path, input_dir:str|pathlib.Path,\n",
       ">                   output_dir:str|pathlib.Path=None,\n",
       ">                   app_in_system_path:bool=False)\n",
       "\n",
       "Class to handle all aspects of simulating sequencing with art_illumina\n",
       "\n",
       "|    | **Type** | **Default** | **Details** |\n",
       "| -- | -------- | ----------- | ----------- |\n",
       "| path2app | str \\| pathlib.Path |  | full path to art_illumina application on the system |\n",
       "| input_dir | str \\| pathlib.Path |  | full path to dir where input files are |\n",
       "| output_dir | str \\| pathlib.Path | None | full path to dir where to save output files, if different from input_dir |\n",
       "| app_in_system_path | bool | False | whether `art_illumina` is in the system path or not |"
      ]
     },
     "execution_count": 4,
     "metadata": {},
     "output_type": "execute_result"
    }
   ],
   "source": [
    "show_doc(ArtIllumina)"
   ]
  },
  {
   "cell_type": "markdown",
   "metadata": {},
   "source": [
    "We need to define several paths:\n",
    "- path2app\n",
    "- input_dir: the directory where all the fasta files we want to use are located\n",
    "- output_dit: the directory where to save output files"
   ]
  },
  {
   "cell_type": "code",
   "execution_count": 5,
   "metadata": {},
   "outputs": [
    {
     "name": "stdout",
     "output_type": "stream",
     "text": [
      "/home/vtec/projects/bio/metagentools/data/ncbi/refsequences/yf\n",
      "refsequences\n",
      "  |--yf\n",
      "  |    |--yf_1971_angola.fa (0)\n",
      "  |    |--yf_2023_yellow_fever.fa (1)\n",
      "  |    |--yf_2023_multiple_alignment_original.fa (2)\n",
      "  |    |--readme.md (3)\n"
     ]
    }
   ],
   "source": [
    "p2inputs = pfs.data/ 'ncbi/refsequences/yf'\n",
    "assert p2inputs.is_dir()\n",
    "print(p2inputs.absolute())\n",
    "files_in_tree(p2inputs);"
   ]
  },
  {
   "cell_type": "code",
   "execution_count": 6,
   "metadata": {},
   "outputs": [
    {
     "name": "stdout",
     "output_type": "stream",
     "text": [
      "/home/vtec/projects/bio/metagentools/data/ncbi/simreads/yf\n",
      "simreads\n",
      "  |--yf\n",
      "  |    |--readme.md (0)\n",
      "  |    |--single_1seq_150bp\n",
      "  |    |    |--single_1seq_150bp.fq (1)\n",
      "  |    |    |--single_1seq_150bp.aln (2)\n",
      "  |    |--single_69seq_150bp\n",
      "  |    |    |--single_69seq_150bp.fq (3)\n",
      "  |    |    |--single_69seq_150bp.aln (4)\n",
      "  |    |--paired_1seq_150bp\n",
      "  |    |    |--paired_1seq_150bp2.aln (5)\n",
      "  |    |    |--paired_1seq_150bp2.fq (6)\n",
      "  |    |    |--paired_1seq_150bp1.fq (7)\n",
      "  |    |    |--paired_1seq_150bp1.aln (8)\n",
      "  |    |--paired_69seq_150bp\n",
      "  |    |    |--paired_69seq_150bp1.fq (9)\n",
      "  |    |    |--paired_69seq_150bp2.fq (10)\n",
      "  |    |    |--paired_69seq_150bp1.aln (11)\n",
      "  |    |    |--paired_69seq_150bp2.aln (12)\n"
     ]
    }
   ],
   "source": [
    "p2outputs = pfs.data/ 'ncbi/simreads/yf'\n",
    "assert p2outputs.is_dir()\n",
    "print(p2outputs.absolute())\n",
    "files_in_tree(p2outputs);"
   ]
  },
  {
   "cell_type": "markdown",
   "metadata": {},
   "source": [
    "Explore files in the directory:"
   ]
  },
  {
   "cell_type": "markdown",
   "metadata": {},
   "source": [
    "Review fasta file for reference sequences"
   ]
  },
  {
   "cell_type": "code",
   "execution_count": 7,
   "metadata": {},
   "outputs": [
    {
     "name": "stdout",
     "output_type": "stream",
     "text": [
      "There are 69 sequences in this file\n",
      "\n",
      "First Sequence:\n",
      ">11089:ncbi:1\t1\tAY968064\t11089\tncbi\tAngola_1971\n",
      "ATGTCTGGTCGAAAAGCTCAGGGTAAAACCCTGGGCGTCAATATGGTAAGACGAGGGGTTCGCTCCTTGTCAAACAAAAT ...\n",
      "{'accession': 'AY968064', 'organism': 'Angola_1971', 'seqid': '11089:ncbi:1', 'seqnb': '1', 'source': 'ncbi', 'taxonomyid': '11089'}\n",
      "\n",
      "Last Sequence:\n",
      ">11089:ncbi:69\t69\tOM066737\t11089\tncbi\tVHF-21-037/GHA/Damongo/2021\n",
      "ATGTCTGGTCGTAAAGCTCAGGGCAAAACCCTGGGCGTCAATATGGTACGACGAGGAGTCCGCTCCNNNNNNNNNAAAAT ...\n",
      "{'accession': 'OM066737', 'organism': 'VHF-21-037/GHA/Damongo/2021', 'seqid': '11089:ncbi:69', 'seqnb': '69', 'source': 'ncbi', 'taxonomyid': '11089'}\n"
     ]
    }
   ],
   "source": [
    "p2fasta = p2inputs / 'yf_1971_angola.fa'        # one sequence only\n",
    "p2fasta = p2inputs / 'yf_2023_yellow_fever.fa'  # all sequences\n",
    "fasta = FastaFileReader(p2fasta)\n",
    "nb_seqs = fasta.review()"
   ]
  },
  {
   "cell_type": "markdown",
   "metadata": {},
   "source": [
    "# Simulate reads using 1 sequence"
   ]
  },
  {
   "cell_type": "markdown",
   "metadata": {},
   "source": [
    "## Single read simulation - 150 bp reads"
   ]
  },
  {
   "cell_type": "code",
   "execution_count": 8,
   "metadata": {},
   "outputs": [
    {
     "name": "stdout",
     "output_type": "stream",
     "text": [
      "/home/vtec/projects/bio/metagentools/data/ncbi/refsequences/yf\n",
      "/home/vtec/projects/bio/metagentools/data/ncbi/simreads/yf\n"
     ]
    }
   ],
   "source": [
    "print(p2inputs.absolute())\n",
    "print(p2outputs.absolute())"
   ]
  },
  {
   "cell_type": "code",
   "execution_count": 9,
   "metadata": {},
   "outputs": [
    {
     "name": "stdout",
     "output_type": "stream",
     "text": [
      "Ready to operate with art: /usr/bin/art_illumina\n",
      "Input files from : /home/vtec/projects/bio/metagentools/data/ncbi/refsequences/yf\n",
      "Output files to :  /home/vtec/projects/bio/metagentools/data/ncbi/simreads/yf\n"
     ]
    }
   ],
   "source": [
    "art = ArtIllumina(\n",
    "    path2app=Path('/usr/bin/art_illumina'), \n",
    "    input_dir=p2inputs, \n",
    "    output_dir=p2outputs\n",
    "    )"
   ]
  },
  {
   "cell_type": "markdown",
   "metadata": {},
   "source": [
    "### Define the input file and number of sequences"
   ]
  },
  {
   "cell_type": "code",
   "execution_count": 10,
   "metadata": {},
   "outputs": [
    {
     "name": "stdout",
     "output_type": "stream",
     "text": [
      "yf_1971_angola.fa\n",
      "yf_2023_multiple_alignment_original.fa\n",
      "yf_2023_yellow_fever.fa\n"
     ]
    }
   ],
   "source": [
    "art.list_all_input_files()"
   ]
  },
  {
   "cell_type": "code",
   "execution_count": 11,
   "metadata": {},
   "outputs": [
    {
     "name": "stdout",
     "output_type": "stream",
     "text": [
      "There is 1 sequences in this file\n",
      "\n",
      "First Sequence:\n",
      ">11089:ncbi:1\t1\tAY968064\t11089\tncbi\tAngola_1971\n",
      "ATGTCTGGTCGAAAAGCTCAGGGTAAAACCCTGGGCGTCAATATGGTAAGACGAGGGGTTCGCTCCTTGTCAAACAAAAT ...\n",
      "{'accession': 'AY968064', 'organism': 'Angola_1971', 'seqid': '11089:ncbi:1', 'seqnb': '1', 'source': 'ncbi', 'taxonomyid': '11089'}\n"
     ]
    },
    {
     "data": {
      "text/plain": [
       "1"
      ]
     },
     "execution_count": 11,
     "metadata": {},
     "output_type": "execute_result"
    }
   ],
   "source": [
    "input_fname = 'yf_1971_angola.fa'\n",
    "fasta = FastaFileReader(p2inputs / input_fname)\n",
    "nb_sequences = fasta.review()\n",
    "nb_sequences"
   ]
  },
  {
   "cell_type": "markdown",
   "metadata": {},
   "source": [
    "### Run the simulation"
   ]
  },
  {
   "cell_type": "markdown",
   "metadata": {},
   "source": [
    "Parameter `fold`:\n",
    "\n",
    "Fold coverage, also known as sequencing depth or read depth, represents the average number of times each base in the reference genome is expected to be sequenced. For example:\n",
    "- If you set -f 20, it means you're simulating a sequencing run that would cover each base in the reference genome an average of 20 times.\n",
    "- If you set -f 100, it would simulate coverage where each base is sequenced an average of 100 times.\n",
    "\n",
    "The fold coverage is an important parameter because it affects:\n",
    "- The total number of reads generated: Higher fold coverage results in more reads.\n",
    "- The likelihood of capturing rare variants or sequencing errors: Higher coverage generally improves the ability to detect rare variants and distinguish true variants from sequencing errors.\n",
    "- The overall quality of the simulated dataset: Higher coverage typically leads to more accurate representation of the reference genome in the simulated data.\n",
    "\n",
    "It's worth noting that ART Illumina uses this fold coverage value along with the read length and reference genome size to calculate the total number of reads to generate. The actual formula is:\n",
    "\n",
    "```Total number of reads = (Genome size * Fold coverage) / Read length```"
   ]
  },
  {
   "cell_type": "code",
   "execution_count": 12,
   "metadata": {},
   "outputs": [
    {
     "name": "stdout",
     "output_type": "stream",
     "text": [
      "Estimated number of simulated reads per reference sequence:  17,063.\n"
     ]
    }
   ],
   "source": [
    "read_length = 150\n",
    "genome_size = 10_238\n",
    "fold = 250\n",
    "\n",
    "print(f\"Estimated number of simulated reads per reference sequence: {(genome_size * fold) // read_length: ,d}.\")\n"
   ]
  },
  {
   "cell_type": "code",
   "execution_count": 13,
   "metadata": {},
   "outputs": [
    {
     "data": {
      "text/plain": [
       "{'input_file': 'yf_1971_angola.fa',\n",
       " 'sim_type': 'single',\n",
       " 'read_length': 150,\n",
       " 'nb_sequences': 1,\n",
       " 'fold': 250,\n",
       " 'q_profile': 'HS25',\n",
       " 'output_seed': 'single_1seq_150bp'}"
      ]
     },
     "execution_count": 13,
     "metadata": {},
     "output_type": "execute_result"
    }
   ],
   "source": [
    "sim_params = {\n",
    "    'input_file': input_fname,\n",
    "    \"sim_type\": \"single\",\n",
    "    \"read_length\": read_length,\n",
    "    'nb_sequences': nb_sequences,\n",
    "    \"fold\": fold,\n",
    "    'q_profile': 'HS25'\n",
    "}\n",
    "\n",
    "sim_params['output_seed'] = f\"{sim_params['sim_type']}_{sim_params['nb_sequences']}seq_{sim_params['read_length']}bp\"\n",
    "sim_params"
   ]
  },
  {
   "cell_type": "code",
   "execution_count": 14,
   "metadata": {},
   "outputs": [
    {
     "name": "stdout",
     "output_type": "stream",
     "text": [
      "return code:  0 \n",
      "\n",
      "\n",
      "    ====================ART====================\n",
      "             ART_Illumina (2008-2016)          \n",
      "          Q Version 2.5.8 (June 6, 2016)       \n",
      "     Contact: Weichun Huang <whduke@gmail.com> \n",
      "    -------------------------------------------\n",
      "\n",
      "                  Single-end Simulation\n",
      "\n",
      "Total CPU time used: 0.399107\n",
      "\n",
      "The random seed for the run: 1724163574\n",
      "\n",
      "Parameters used during run\n",
      "\tRead Length:\t150\n",
      "\tGenome masking 'N' cutoff frequency: \t1 in 150\n",
      "\tFold Coverage:            250X\n",
      "\tProfile Type:             Combined\n",
      "\tID Tag:                   \n",
      "\n",
      "Quality Profile(s)\n",
      "\tFirst Read:   HiSeq 2500 Length 150 R1 (built-in profile) \n",
      "\n",
      "Output files\n",
      "\n",
      "  FASTQ Sequence File:\n",
      "\t/home/vtec/projects/bio/metagentools/data/ncbi/simreads/yf/single_1seq_150bp/single_1seq_150bp.fq\n",
      "\n",
      "  ALN Alignment File:\n",
      "\t/home/vtec/projects/bio/metagentools/data/ncbi/simreads/yf/single_1seq_150bp/single_1seq_150bp.aln\n",
      "\n",
      "\n"
     ]
    }
   ],
   "source": [
    "art.sim_reads( \n",
    "    input_file=sim_params['input_file'],\n",
    "    output_seed=sim_params['output_seed'],\n",
    "    sim_type=sim_params['sim_type'],\n",
    "    read_length=sim_params['read_length'],\n",
    "    fold=sim_params['fold'],\n",
    "    ss=sim_params['q_profile'],\n",
    "    overwrite=True\n",
    ")"
   ]
  },
  {
   "cell_type": "code",
   "execution_count": 15,
   "metadata": {},
   "outputs": [
    {
     "name": "stdout",
     "output_type": "stream",
     "text": [
      "single_1seq_150bp.fq\n",
      "single_1seq_150bp.aln\n"
     ]
    }
   ],
   "source": [
    "art.list_last_output_files()"
   ]
  },
  {
   "cell_type": "code",
   "execution_count": 16,
   "metadata": {},
   "outputs": [
    {
     "name": "stdout",
     "output_type": "stream",
     "text": [
      "paired_1seq_150bp\n",
      "- paired_1seq_150bp2.aln\n",
      "- paired_1seq_150bp2.fq\n",
      "- paired_1seq_150bp1.fq\n",
      "- paired_1seq_150bp1.aln\n",
      "paired_69seq_150bp\n",
      "- paired_69seq_150bp1.fq\n",
      "- paired_69seq_150bp2.fq\n",
      "- paired_69seq_150bp1.aln\n",
      "- paired_69seq_150bp2.aln\n",
      "single_1seq_150bp\n",
      "- single_1seq_150bp.fq\n",
      "- single_1seq_150bp.aln\n",
      "single_69seq_150bp\n",
      "- single_69seq_150bp.fq\n",
      "- single_69seq_150bp.aln\n"
     ]
    }
   ],
   "source": [
    "art.list_all_output_files()"
   ]
  },
  {
   "cell_type": "markdown",
   "metadata": {},
   "source": [
    "## Paired read simulation - 150 bp read"
   ]
  },
  {
   "cell_type": "code",
   "execution_count": 17,
   "metadata": {},
   "outputs": [
    {
     "name": "stdout",
     "output_type": "stream",
     "text": [
      "/home/vtec/projects/bio/metagentools/data/ncbi/refsequences/yf\n",
      "/home/vtec/projects/bio/metagentools/data/ncbi/simreads/yf\n"
     ]
    }
   ],
   "source": [
    "print(p2inputs.absolute())\n",
    "print(p2outputs.absolute())"
   ]
  },
  {
   "cell_type": "code",
   "execution_count": 18,
   "metadata": {},
   "outputs": [
    {
     "name": "stdout",
     "output_type": "stream",
     "text": [
      "Ready to operate with art: /usr/bin/art_illumina\n",
      "Input files from : /home/vtec/projects/bio/metagentools/data/ncbi/refsequences/yf\n",
      "Output files to :  /home/vtec/projects/bio/metagentools/data/ncbi/simreads/yf\n"
     ]
    }
   ],
   "source": [
    "art = ArtIllumina(\n",
    "    path2app=Path('/usr/bin/art_illumina'), \n",
    "    input_dir=p2inputs, \n",
    "    output_dir=p2outputs\n",
    "    )"
   ]
  },
  {
   "cell_type": "markdown",
   "metadata": {},
   "source": [
    "### Define the input file and number of sequences"
   ]
  },
  {
   "cell_type": "code",
   "execution_count": 19,
   "metadata": {},
   "outputs": [
    {
     "name": "stdout",
     "output_type": "stream",
     "text": [
      "yf_1971_angola.fa\n",
      "yf_2023_multiple_alignment_original.fa\n",
      "yf_2023_yellow_fever.fa\n"
     ]
    }
   ],
   "source": [
    "art.list_all_input_files()"
   ]
  },
  {
   "cell_type": "code",
   "execution_count": 20,
   "metadata": {},
   "outputs": [
    {
     "name": "stdout",
     "output_type": "stream",
     "text": [
      "There is 1 sequences in this file\n",
      "\n",
      "First Sequence:\n",
      ">11089:ncbi:1\t1\tAY968064\t11089\tncbi\tAngola_1971\n",
      "ATGTCTGGTCGAAAAGCTCAGGGTAAAACCCTGGGCGTCAATATGGTAAGACGAGGGGTTCGCTCCTTGTCAAACAAAAT ...\n",
      "{'accession': 'AY968064', 'organism': 'Angola_1971', 'seqid': '11089:ncbi:1', 'seqnb': '1', 'source': 'ncbi', 'taxonomyid': '11089'}\n"
     ]
    },
    {
     "data": {
      "text/plain": [
       "1"
      ]
     },
     "execution_count": 20,
     "metadata": {},
     "output_type": "execute_result"
    }
   ],
   "source": [
    "input_fname = 'yf_1971_angola.fa'\n",
    "fasta = FastaFileReader(p2inputs / input_fname)\n",
    "nb_sequences = fasta.review()\n",
    "nb_sequences"
   ]
  },
  {
   "cell_type": "markdown",
   "metadata": {},
   "source": [
    "### Run the simulation"
   ]
  },
  {
   "cell_type": "markdown",
   "metadata": {},
   "source": [
    "Parameter `fold`:\n",
    "\n",
    "Fold coverage, also known as sequencing depth or read depth, represents the average number of times each base in the reference genome is expected to be sequenced. For example:\n",
    "- If you set -f 20, it means you're simulating a sequencing run that would cover each base in the reference genome an average of 20 times.\n",
    "- If you set -f 100, it would simulate coverage where each base is sequenced an average of 100 times.\n",
    "\n",
    "The fold coverage is an important parameter because it affects:\n",
    "- The total number of reads generated: Higher fold coverage results in more reads.\n",
    "- The likelihood of capturing rare variants or sequencing errors: Higher coverage generally improves the ability to detect rare variants and distinguish true variants from sequencing errors.\n",
    "- The overall quality of the simulated dataset: Higher coverage typically leads to more accurate representation of the reference genome in the simulated data.\n",
    "\n",
    "It's worth noting that ART Illumina uses this fold coverage value along with the read length and reference genome size to calculate the total number of reads to generate. The actual formula is:\n",
    "\n",
    "```Total number of reads = (Genome size * Fold coverage) / Read length```"
   ]
  },
  {
   "cell_type": "code",
   "execution_count": 21,
   "metadata": {},
   "outputs": [
    {
     "name": "stdout",
     "output_type": "stream",
     "text": [
      "Estimated number of simulated reads per reference sequence:  17,063.\n"
     ]
    }
   ],
   "source": [
    "read_length = 150\n",
    "genome_size = 10_238\n",
    "fold = 250\n",
    "\n",
    "print(f\"Estimated number of simulated reads per reference sequence: {(genome_size * fold) // read_length: ,d}.\")\n"
   ]
  },
  {
   "cell_type": "code",
   "execution_count": 22,
   "metadata": {},
   "outputs": [
    {
     "data": {
      "text/plain": [
       "{'input_file': 'yf_1971_angola.fa',\n",
       " 'sim_type': 'paired',\n",
       " 'read_length': 150,\n",
       " 'nb_sequences': 1,\n",
       " 'fold': 250,\n",
       " 'mean_read': 200,\n",
       " 'std_read': 10,\n",
       " 'q_profile': 'HS25',\n",
       " 'output_seed': 'paired_1seq_150bp'}"
      ]
     },
     "execution_count": 22,
     "metadata": {},
     "output_type": "execute_result"
    }
   ],
   "source": [
    "sim_params = {\n",
    "    'input_file': input_fname,\n",
    "    \"sim_type\": \"paired\",\n",
    "    \"read_length\": read_length,\n",
    "    'nb_sequences': nb_sequences,\n",
    "    \"fold\": fold,\n",
    "    'mean_read':read_length + 50,\n",
    "    'std_read':10,\n",
    "    'q_profile': 'HS25'\n",
    "}\n",
    "\n",
    "sim_params['output_seed'] = f\"{sim_params['sim_type']}_{sim_params['nb_sequences']}seq_{sim_params['read_length']}bp\"\n",
    "sim_params"
   ]
  },
  {
   "cell_type": "code",
   "execution_count": 23,
   "metadata": {},
   "outputs": [
    {
     "name": "stdout",
     "output_type": "stream",
     "text": [
      "return code:  0 \n",
      "\n",
      "\n",
      "    ====================ART====================\n",
      "             ART_Illumina (2008-2016)          \n",
      "          Q Version 2.5.8 (June 6, 2016)       \n",
      "     Contact: Weichun Huang <whduke@gmail.com> \n",
      "    -------------------------------------------\n",
      "\n",
      "                  Paired-end sequencing simulation\n",
      "\n",
      "Total CPU time used: 0.378615\n",
      "\n",
      "The random seed for the run: 1724163587\n",
      "\n",
      "Parameters used during run\n",
      "\tRead Length:\t150\n",
      "\tGenome masking 'N' cutoff frequency: \t1 in 150\n",
      "\tFold Coverage:            250X\n",
      "\tMean Fragment Length:     200\n",
      "\tStandard Deviation:       10\n",
      "\tProfile Type:             Combined\n",
      "\tID Tag:                   \n",
      "\n",
      "Quality Profile(s)\n",
      "\tFirst Read:   HiSeq 2500 Length 150 R1 (built-in profile) \n",
      "\tFirst Read:   HiSeq 2500 Length 150 R2 (built-in profile) \n",
      "\n",
      "Output files\n",
      "\n",
      "  FASTQ Sequence Files:\n",
      "\t the 1st reads: /home/vtec/projects/bio/metagentools/data/ncbi/simreads/yf/paired_1seq_150bp/paired_1seq_150bp1.fq\n",
      "\t the 2nd reads: /home/vtec/projects/bio/metagentools/data/ncbi/simreads/yf/paired_1seq_150bp/paired_1seq_150bp2.fq\n",
      "\n",
      "  ALN Alignment Files:\n",
      "\t the 1st reads: /home/vtec/projects/bio/metagentools/data/ncbi/simreads/yf/paired_1seq_150bp/paired_1seq_150bp1.aln\n",
      "\t the 2nd reads: /home/vtec/projects/bio/metagentools/data/ncbi/simreads/yf/paired_1seq_150bp/paired_1seq_150bp2.aln\n",
      "\n",
      "\n"
     ]
    }
   ],
   "source": [
    "art.sim_reads(\n",
    "    input_file=sim_params['input_file'],\n",
    "    output_seed=sim_params['output_seed'],\n",
    "    sim_type=sim_params['sim_type'],\n",
    "    read_length=sim_params['read_length'],\n",
    "    fold=sim_params['fold'],\n",
    "    mean_read=sim_params['mean_read'],\n",
    "    std_read=sim_params['std_read'],\n",
    "    overwrite=True\n",
    ")   "
   ]
  },
  {
   "cell_type": "code",
   "execution_count": 24,
   "metadata": {},
   "outputs": [
    {
     "name": "stdout",
     "output_type": "stream",
     "text": [
      "paired_1seq_150bp2.aln\n",
      "paired_1seq_150bp2.fq\n",
      "paired_1seq_150bp1.fq\n",
      "paired_1seq_150bp1.aln\n"
     ]
    }
   ],
   "source": [
    "art.list_last_output_files()"
   ]
  },
  {
   "cell_type": "code",
   "execution_count": 25,
   "metadata": {},
   "outputs": [
    {
     "name": "stdout",
     "output_type": "stream",
     "text": [
      "paired_1seq_150bp\n",
      "- paired_1seq_150bp2.aln\n",
      "- paired_1seq_150bp2.fq\n",
      "- paired_1seq_150bp1.fq\n",
      "- paired_1seq_150bp1.aln\n",
      "paired_69seq_150bp\n",
      "- paired_69seq_150bp1.fq\n",
      "- paired_69seq_150bp2.fq\n",
      "- paired_69seq_150bp1.aln\n",
      "- paired_69seq_150bp2.aln\n",
      "single_1seq_150bp\n",
      "- single_1seq_150bp.fq\n",
      "- single_1seq_150bp.aln\n",
      "single_69seq_150bp\n",
      "- single_69seq_150bp.fq\n",
      "- single_69seq_150bp.aln\n"
     ]
    }
   ],
   "source": [
    "art.list_all_output_files()"
   ]
  },
  {
   "cell_type": "markdown",
   "metadata": {},
   "source": [
    "# Simulate using all sequences\n"
   ]
  },
  {
   "cell_type": "markdown",
   "metadata": {},
   "source": [
    "## Single read simulation - 150 bp reads"
   ]
  },
  {
   "cell_type": "code",
   "execution_count": 26,
   "metadata": {},
   "outputs": [
    {
     "name": "stdout",
     "output_type": "stream",
     "text": [
      "/home/vtec/projects/bio/metagentools/data/ncbi/refsequences/yf\n",
      "/home/vtec/projects/bio/metagentools/data/ncbi/simreads/yf\n"
     ]
    }
   ],
   "source": [
    "print(p2inputs.absolute())\n",
    "print(p2outputs.absolute())"
   ]
  },
  {
   "cell_type": "code",
   "execution_count": 27,
   "metadata": {},
   "outputs": [
    {
     "name": "stdout",
     "output_type": "stream",
     "text": [
      "Ready to operate with art: /usr/bin/art_illumina\n",
      "Input files from : /home/vtec/projects/bio/metagentools/data/ncbi/refsequences/yf\n",
      "Output files to :  /home/vtec/projects/bio/metagentools/data/ncbi/simreads/yf\n"
     ]
    }
   ],
   "source": [
    "art = ArtIllumina(\n",
    "    path2app=Path('/usr/bin/art_illumina'), \n",
    "    input_dir=p2inputs, \n",
    "    output_dir=p2outputs\n",
    "    )"
   ]
  },
  {
   "cell_type": "markdown",
   "metadata": {},
   "source": [
    "### Define the input file and number of sequences"
   ]
  },
  {
   "cell_type": "code",
   "execution_count": 28,
   "metadata": {},
   "outputs": [
    {
     "name": "stdout",
     "output_type": "stream",
     "text": [
      "yf_1971_angola.fa\n",
      "yf_2023_multiple_alignment_original.fa\n",
      "yf_2023_yellow_fever.fa\n"
     ]
    }
   ],
   "source": [
    "art.list_all_input_files()"
   ]
  },
  {
   "cell_type": "code",
   "execution_count": 29,
   "metadata": {},
   "outputs": [
    {
     "name": "stdout",
     "output_type": "stream",
     "text": [
      "There are 69 sequences in this file\n",
      "\n",
      "First Sequence:\n",
      ">11089:ncbi:1\t1\tAY968064\t11089\tncbi\tAngola_1971\n",
      "ATGTCTGGTCGAAAAGCTCAGGGTAAAACCCTGGGCGTCAATATGGTAAGACGAGGGGTTCGCTCCTTGTCAAACAAAAT ...\n",
      "{'accession': 'AY968064', 'organism': 'Angola_1971', 'seqid': '11089:ncbi:1', 'seqnb': '1', 'source': 'ncbi', 'taxonomyid': '11089'}\n",
      "\n",
      "Last Sequence:\n",
      ">11089:ncbi:69\t69\tOM066737\t11089\tncbi\tVHF-21-037/GHA/Damongo/2021\n",
      "ATGTCTGGTCGTAAAGCTCAGGGCAAAACCCTGGGCGTCAATATGGTACGACGAGGAGTCCGCTCCNNNNNNNNNAAAAT ...\n",
      "{'accession': 'OM066737', 'organism': 'VHF-21-037/GHA/Damongo/2021', 'seqid': '11089:ncbi:69', 'seqnb': '69', 'source': 'ncbi', 'taxonomyid': '11089'}\n"
     ]
    },
    {
     "data": {
      "text/plain": [
       "69"
      ]
     },
     "execution_count": 29,
     "metadata": {},
     "output_type": "execute_result"
    }
   ],
   "source": [
    "input_fname = 'yf_2023_yellow_fever.fa'\n",
    "fasta = FastaFileReader(p2inputs / input_fname)\n",
    "nb_sequences = fasta.review()\n",
    "nb_sequences"
   ]
  },
  {
   "cell_type": "markdown",
   "metadata": {},
   "source": [
    "### Run the simulation"
   ]
  },
  {
   "cell_type": "markdown",
   "metadata": {},
   "source": [
    "Parameter `fold`:\n",
    "\n",
    "Fold coverage, also known as sequencing depth or read depth, represents the average number of times each base in the reference genome is expected to be sequenced. For example:\n",
    "- If you set -f 20, it means you're simulating a sequencing run that would cover each base in the reference genome an average of 20 times.\n",
    "- If you set -f 100, it would simulate coverage where each base is sequenced an average of 100 times.\n",
    "\n",
    "The fold coverage is an important parameter because it affects:\n",
    "- The total number of reads generated: Higher fold coverage results in more reads.\n",
    "- The likelihood of capturing rare variants or sequencing errors: Higher coverage generally improves the ability to detect rare variants and distinguish true variants from sequencing errors.\n",
    "- The overall quality of the simulated dataset: Higher coverage typically leads to more accurate representation of the reference genome in the simulated data.\n",
    "\n",
    "It's worth noting that ART Illumina uses this fold coverage value along with the read length and reference genome size to calculate the total number of reads to generate. The actual formula is:\n",
    "\n",
    "```Total number of reads = (Genome size * Fold coverage) / Read length```"
   ]
  },
  {
   "cell_type": "code",
   "execution_count": 30,
   "metadata": {},
   "outputs": [
    {
     "name": "stdout",
     "output_type": "stream",
     "text": [
      "Estimated number of simulated reads per reference sequence:  17,063.\n"
     ]
    }
   ],
   "source": [
    "read_length = 150\n",
    "genome_size = 10_238\n",
    "fold = 250\n",
    "\n",
    "print(f\"Estimated number of simulated reads per reference sequence: {(genome_size * fold) // read_length: ,d}.\")"
   ]
  },
  {
   "cell_type": "code",
   "execution_count": 31,
   "metadata": {},
   "outputs": [
    {
     "data": {
      "text/plain": [
       "{'input_file': 'yf_2023_yellow_fever.fa',\n",
       " 'sim_type': 'single',\n",
       " 'read_length': 150,\n",
       " 'nb_sequences': 69,\n",
       " 'fold': 250,\n",
       " 'q_profile': 'HS25',\n",
       " 'output_seed': 'single_69seq_150bp'}"
      ]
     },
     "execution_count": 31,
     "metadata": {},
     "output_type": "execute_result"
    }
   ],
   "source": [
    "sim_params = {\n",
    "    'input_file': input_fname,\n",
    "    \"sim_type\": \"single\",\n",
    "    \"read_length\": read_length,\n",
    "    'nb_sequences': nb_sequences,\n",
    "    \"fold\": fold,\n",
    "    'q_profile': 'HS25'\n",
    "}\n",
    "\n",
    "sim_params['output_seed'] = f\"{sim_params['sim_type']}_{sim_params['nb_sequences']}seq_{sim_params['read_length']}bp\"\n",
    "sim_params"
   ]
  },
  {
   "cell_type": "code",
   "execution_count": 32,
   "metadata": {},
   "outputs": [
    {
     "name": "stdout",
     "output_type": "stream",
     "text": [
      "return code:  0 \n",
      "\n",
      "\n",
      "    ====================ART====================\n",
      "             ART_Illumina (2008-2016)          \n",
      "          Q Version 2.5.8 (June 6, 2016)       \n",
      "     Contact: Weichun Huang <whduke@gmail.com> \n",
      "    -------------------------------------------\n",
      "\n",
      "                  Single-end Simulation\n",
      "\n",
      "Total CPU time used: 29.0825\n",
      "\n",
      "The random seed for the run: 1724163599\n",
      "\n",
      "Parameters used during run\n",
      "\tRead Length:\t150\n",
      "\tGenome masking 'N' cutoff frequency: \t1 in 150\n",
      "\tFold Coverage:            250X\n",
      "\tProfile Type:             Combined\n",
      "\tID Tag:                   \n",
      "\n",
      "Quality Profile(s)\n",
      "\tFirst Read:   HiSeq 2500 Length 150 R1 (built-in profile) \n",
      "\n",
      "Output files\n",
      "\n",
      "  FASTQ Sequence File:\n",
      "\t/home/vtec/projects/bio/metagentools/data/ncbi/simreads/yf/single_69seq_150bp/single_69seq_150bp.fq\n",
      "\n",
      "  ALN Alignment File:\n",
      "\t/home/vtec/projects/bio/metagentools/data/ncbi/simreads/yf/single_69seq_150bp/single_69seq_150bp.aln\n",
      "\n",
      "\n"
     ]
    }
   ],
   "source": [
    "art.sim_reads( \n",
    "    input_file=sim_params['input_file'],\n",
    "    output_seed=sim_params['output_seed'],\n",
    "    sim_type=sim_params['sim_type'],\n",
    "    read_length=sim_params['read_length'],\n",
    "    fold=sim_params['fold'],\n",
    "    ss=sim_params['q_profile'],\n",
    "    overwrite=True\n",
    ")"
   ]
  },
  {
   "cell_type": "code",
   "execution_count": 33,
   "metadata": {},
   "outputs": [
    {
     "name": "stdout",
     "output_type": "stream",
     "text": [
      "single_69seq_150bp.fq\n",
      "single_69seq_150bp.aln\n"
     ]
    }
   ],
   "source": [
    "art.list_last_output_files()"
   ]
  },
  {
   "cell_type": "code",
   "execution_count": 34,
   "metadata": {},
   "outputs": [
    {
     "name": "stdout",
     "output_type": "stream",
     "text": [
      "paired_1seq_150bp\n",
      "- paired_1seq_150bp2.aln\n",
      "- paired_1seq_150bp2.fq\n",
      "- paired_1seq_150bp1.fq\n",
      "- paired_1seq_150bp1.aln\n",
      "paired_69seq_150bp\n",
      "- paired_69seq_150bp1.fq\n",
      "- paired_69seq_150bp2.fq\n",
      "- paired_69seq_150bp1.aln\n",
      "- paired_69seq_150bp2.aln\n",
      "single_1seq_150bp\n",
      "- single_1seq_150bp.fq\n",
      "- single_1seq_150bp.aln\n",
      "single_69seq_150bp\n",
      "- single_69seq_150bp.fq\n",
      "- single_69seq_150bp.aln\n"
     ]
    }
   ],
   "source": [
    "art.list_all_output_files()"
   ]
  },
  {
   "cell_type": "markdown",
   "metadata": {},
   "source": [
    "## Paired read simulation - 150 bp read"
   ]
  },
  {
   "cell_type": "code",
   "execution_count": 36,
   "metadata": {},
   "outputs": [
    {
     "name": "stdout",
     "output_type": "stream",
     "text": [
      "/home/vtec/projects/bio/metagentools/data/ncbi/refsequences/yf\n",
      "/home/vtec/projects/bio/metagentools/data/ncbi/simreads/yf\n"
     ]
    }
   ],
   "source": [
    "print(p2inputs.absolute())\n",
    "print(p2outputs.absolute())"
   ]
  },
  {
   "cell_type": "code",
   "execution_count": 37,
   "metadata": {},
   "outputs": [
    {
     "name": "stdout",
     "output_type": "stream",
     "text": [
      "Ready to operate with art: /usr/bin/art_illumina\n",
      "Input files from : /home/vtec/projects/bio/metagentools/data/ncbi/refsequences/yf\n",
      "Output files to :  /home/vtec/projects/bio/metagentools/data/ncbi/simreads/yf\n"
     ]
    }
   ],
   "source": [
    "art = ArtIllumina(\n",
    "    path2app=Path('/usr/bin/art_illumina'), \n",
    "    input_dir=p2inputs, \n",
    "    output_dir=p2outputs\n",
    "    )"
   ]
  },
  {
   "cell_type": "markdown",
   "metadata": {},
   "source": [
    "### Define the input file and number of sequences"
   ]
  },
  {
   "cell_type": "code",
   "execution_count": 38,
   "metadata": {},
   "outputs": [
    {
     "name": "stdout",
     "output_type": "stream",
     "text": [
      "yf_1971_angola.fa\n",
      "yf_2023_multiple_alignment_original.fa\n",
      "yf_2023_yellow_fever.fa\n"
     ]
    }
   ],
   "source": [
    "art.list_all_input_files()"
   ]
  },
  {
   "cell_type": "code",
   "execution_count": 39,
   "metadata": {},
   "outputs": [
    {
     "name": "stdout",
     "output_type": "stream",
     "text": [
      "There are 69 sequences in this file\n",
      "\n",
      "First Sequence:\n",
      ">11089:ncbi:1\t1\tAY968064\t11089\tncbi\tAngola_1971\n",
      "ATGTCTGGTCGAAAAGCTCAGGGTAAAACCCTGGGCGTCAATATGGTAAGACGAGGGGTTCGCTCCTTGTCAAACAAAAT ...\n",
      "{'accession': 'AY968064', 'organism': 'Angola_1971', 'seqid': '11089:ncbi:1', 'seqnb': '1', 'source': 'ncbi', 'taxonomyid': '11089'}\n",
      "\n",
      "Last Sequence:\n",
      ">11089:ncbi:69\t69\tOM066737\t11089\tncbi\tVHF-21-037/GHA/Damongo/2021\n",
      "ATGTCTGGTCGTAAAGCTCAGGGCAAAACCCTGGGCGTCAATATGGTACGACGAGGAGTCCGCTCCNNNNNNNNNAAAAT ...\n",
      "{'accession': 'OM066737', 'organism': 'VHF-21-037/GHA/Damongo/2021', 'seqid': '11089:ncbi:69', 'seqnb': '69', 'source': 'ncbi', 'taxonomyid': '11089'}\n"
     ]
    },
    {
     "data": {
      "text/plain": [
       "69"
      ]
     },
     "execution_count": 39,
     "metadata": {},
     "output_type": "execute_result"
    }
   ],
   "source": [
    "input_fname = 'yf_2023_yellow_fever.fa'\n",
    "fasta = FastaFileReader(p2inputs / input_fname)\n",
    "nb_sequences = fasta.review()\n",
    "nb_sequences"
   ]
  },
  {
   "cell_type": "markdown",
   "metadata": {},
   "source": [
    "### Run the simulation"
   ]
  },
  {
   "cell_type": "markdown",
   "metadata": {},
   "source": [
    "Parameter `fold`:\n",
    "\n",
    "Fold coverage, also known as sequencing depth or read depth, represents the average number of times each base in the reference genome is expected to be sequenced. For example:\n",
    "- If you set -f 20, it means you're simulating a sequencing run that would cover each base in the reference genome an average of 20 times.\n",
    "- If you set -f 100, it would simulate coverage where each base is sequenced an average of 100 times.\n",
    "\n",
    "The fold coverage is an important parameter because it affects:\n",
    "- The total number of reads generated: Higher fold coverage results in more reads.\n",
    "- The likelihood of capturing rare variants or sequencing errors: Higher coverage generally improves the ability to detect rare variants and distinguish true variants from sequencing errors.\n",
    "- The overall quality of the simulated dataset: Higher coverage typically leads to more accurate representation of the reference genome in the simulated data.\n",
    "\n",
    "It's worth noting that ART Illumina uses this fold coverage value along with the read length and reference genome size to calculate the total number of reads to generate. The actual formula is:\n",
    "\n",
    "```Total number of reads = (Genome size * Fold coverage) / Read length```"
   ]
  },
  {
   "cell_type": "code",
   "execution_count": 43,
   "metadata": {},
   "outputs": [
    {
     "name": "stdout",
     "output_type": "stream",
     "text": [
      "Estimated number of simulated reads per reference sequence:  17,063.\n",
      "Estimated total number of simulated reads:  1,177,347.\n"
     ]
    }
   ],
   "source": [
    "read_length = 150\n",
    "genome_size = 10_238\n",
    "fold = 250\n",
    "\n",
    "print(f\"Estimated number of simulated reads per reference sequence: {(genome_size * fold) // read_length: ,d}.\")\n",
    "print(f\"Estimated total number of simulated reads: {(genome_size * fold) // read_length * nb_sequences: ,d}.\")\n"
   ]
  },
  {
   "cell_type": "code",
   "execution_count": 44,
   "metadata": {},
   "outputs": [
    {
     "data": {
      "text/plain": [
       "{'input_file': 'yf_2023_yellow_fever.fa',\n",
       " 'sim_type': 'paired',\n",
       " 'read_length': 150,\n",
       " 'nb_sequences': 69,\n",
       " 'fold': 250,\n",
       " 'mean_read': 200,\n",
       " 'std_read': 10,\n",
       " 'q_profile': 'HS25',\n",
       " 'output_seed': 'paired_69seq_150bp'}"
      ]
     },
     "execution_count": 44,
     "metadata": {},
     "output_type": "execute_result"
    }
   ],
   "source": [
    "sim_params = {\n",
    "    'input_file': input_fname,\n",
    "    \"sim_type\": \"paired\",\n",
    "    \"read_length\": read_length,\n",
    "    'nb_sequences': nb_sequences,\n",
    "    \"fold\": fold,\n",
    "    'mean_read':read_length + 50,\n",
    "    'std_read':10,\n",
    "    'q_profile': 'HS25'\n",
    "}\n",
    "\n",
    "sim_params['output_seed'] = f\"{sim_params['sim_type']}_{sim_params['nb_sequences']}seq_{sim_params['read_length']}bp\"\n",
    "sim_params"
   ]
  },
  {
   "cell_type": "code",
   "execution_count": 45,
   "metadata": {},
   "outputs": [
    {
     "name": "stdout",
     "output_type": "stream",
     "text": [
      "return code:  0 \n",
      "\n",
      "\n",
      "    ====================ART====================\n",
      "             ART_Illumina (2008-2016)          \n",
      "          Q Version 2.5.8 (June 6, 2016)       \n",
      "     Contact: Weichun Huang <whduke@gmail.com> \n",
      "    -------------------------------------------\n",
      "\n",
      "                  Paired-end sequencing simulation\n",
      "\n",
      "Total CPU time used: 26.4077\n",
      "\n",
      "The random seed for the run: 1724163819\n",
      "\n",
      "Parameters used during run\n",
      "\tRead Length:\t150\n",
      "\tGenome masking 'N' cutoff frequency: \t1 in 150\n",
      "\tFold Coverage:            250X\n",
      "\tMean Fragment Length:     200\n",
      "\tStandard Deviation:       10\n",
      "\tProfile Type:             Combined\n",
      "\tID Tag:                   \n",
      "\n",
      "Quality Profile(s)\n",
      "\tFirst Read:   HiSeq 2500 Length 150 R1 (built-in profile) \n",
      "\tFirst Read:   HiSeq 2500 Length 150 R2 (built-in profile) \n",
      "\n",
      "Output files\n",
      "\n",
      "  FASTQ Sequence Files:\n",
      "\t the 1st reads: /home/vtec/projects/bio/metagentools/data/ncbi/simreads/yf/paired_69seq_150bp/paired_69seq_150bp1.fq\n",
      "\t the 2nd reads: /home/vtec/projects/bio/metagentools/data/ncbi/simreads/yf/paired_69seq_150bp/paired_69seq_150bp2.fq\n",
      "\n",
      "  ALN Alignment Files:\n",
      "\t the 1st reads: /home/vtec/projects/bio/metagentools/data/ncbi/simreads/yf/paired_69seq_150bp/paired_69seq_150bp1.aln\n",
      "\t the 2nd reads: /home/vtec/projects/bio/metagentools/data/ncbi/simreads/yf/paired_69seq_150bp/paired_69seq_150bp2.aln\n",
      "\n",
      "\n"
     ]
    }
   ],
   "source": [
    "art.sim_reads(\n",
    "    input_file=sim_params['input_file'],\n",
    "    output_seed=sim_params['output_seed'],\n",
    "    sim_type=sim_params['sim_type'],\n",
    "    read_length=sim_params['read_length'],\n",
    "    fold=sim_params['fold'],\n",
    "    mean_read=sim_params['mean_read'],\n",
    "    std_read=sim_params['std_read'],\n",
    "    overwrite=True\n",
    ")   "
   ]
  },
  {
   "cell_type": "code",
   "execution_count": 46,
   "metadata": {},
   "outputs": [
    {
     "name": "stdout",
     "output_type": "stream",
     "text": [
      "paired_69seq_150bp1.fq\n",
      "paired_69seq_150bp2.fq\n",
      "paired_69seq_150bp1.aln\n",
      "paired_69seq_150bp2.aln\n"
     ]
    }
   ],
   "source": [
    "art.list_last_output_files()"
   ]
  },
  {
   "cell_type": "code",
   "execution_count": 47,
   "metadata": {},
   "outputs": [
    {
     "name": "stdout",
     "output_type": "stream",
     "text": [
      "paired_1seq_150bp\n",
      "- paired_1seq_150bp2.aln\n",
      "- paired_1seq_150bp2.fq\n",
      "- paired_1seq_150bp1.fq\n",
      "- paired_1seq_150bp1.aln\n",
      "paired_69seq_150bp\n",
      "- paired_69seq_150bp1.fq\n",
      "- paired_69seq_150bp2.fq\n",
      "- paired_69seq_150bp1.aln\n",
      "- paired_69seq_150bp2.aln\n",
      "single_1seq_150bp\n",
      "- single_1seq_150bp.fq\n",
      "- single_1seq_150bp.aln\n",
      "single_69seq_150bp\n",
      "- single_69seq_150bp.fq\n",
      "- single_69seq_150bp.aln\n"
     ]
    }
   ],
   "source": [
    "art.list_all_output_files()"
   ]
  },
  {
   "cell_type": "code",
   "execution_count": 51,
   "metadata": {},
   "outputs": [
    {
     "name": "stdout",
     "output_type": "stream",
     "text": [
      "@SQ\t11089:ncbi:1\t1\tAY968064\t11089\tncbi\tAngola_1971\t10237\n",
      "@SQ\t11089:ncbi:2\t2\tU54798\t11089\tncbi\tIvory_Coast_1982\t10237\n",
      "@SQ\t11089:ncbi:3\t3\tDQ235229\t11089\tncbi\tEthiopia_1961\t10237\n",
      "@SQ\t11089:ncbi:4\t4\tAY572535\t11089\tncbi\tGambia_2001\t10237\n",
      "@SQ\t11089:ncbi:5\t5\tMF405338\t11089\tncbi\tGhana_Hsapiens_1927\t10237\n",
      "@SQ\t11089:ncbi:6\t6\tU21056\t11089\tncbi\tSenegal_1927\t10237\n",
      "@SQ\t11089:ncbi:7\t7\tAY968065\t11089\tncbi\tUganda_1948\t10237\n",
      "@SQ\t11089:ncbi:8\t8\tJX898871\t11089\tncbi\tArD114896_Senegal_1995\t10237\n",
      "@SQ\t11089:ncbi:9\t9\tJX898872\t11089\tncbi\tSenegal_Aedes-aegypti_1995\t10237\n",
      "@SQ\t11089:ncbi:10\t10\tGQ379163\t11089\tncbi\tPeru_Hsapiens_2007\t10237\n",
      "@SQ\t11089:ncbi:11\t11\tDQ118157\t11089\tncbi\tSpain_Vaccine_2004\t10237\n",
      "@SQ\t11089:ncbi:12\t12\tMF289572\t11089\tncbi\tSingapore_2017\t10237\n",
      "@SQ\t11089:ncbi:13\t13\tKU978764\t11089\tncbi\tSudan_Hsapiens_1941\t10237\n",
      "@SQ\t11089:ncbi:14\t14\tJX898878\t11089\tncbi\tArD181250_Senegal_2005\t10237\n",
      "@SQ\t11089:ncbi:15\t15\tJX898879\t11089\tncbi\tArD181676_Senegal_2005\t10237\n",
      "@SQ\t11089:ncbi:16\t16\tJX898881\t11089\tncbi\tSenegal_Aedes_luteocephalus_2005\t10237\n",
      "@SQ\t11089:ncbi:17\t17\tJX898880\t11089\tncbi\tArD181564_Senegal_2005\t10237\n",
      "@SQ\t11089:ncbi:18\t18\tJX898877\t11089\tncbi\tArD181464_Senegal_2005\t10237\n",
      "@SQ\t11089:ncbi:19\t19\tJX898876\t11089\tncbi\tSenegal_Aedes_fucifer_2001\t10237\n",
      "@SQ\t11089:ncbi:20\t20\tKU978765\t11089\tncbi\tGuinea_Bissau_Hsapiens_1965\t10237\n",
      "@SQ\t11089:ncbi:21\t21\tJX898870\t11089\tncbi\tSenegal_Ae_fucifer_1996\t10237\n",
      "@SQ\t11089:ncbi:22\t22\tJX898868\t11089\tncbi\tisolate_HD117294_Senegal_1995\t10237\n",
      "@SQ\t11089:ncbi:23\t23\tJX898875\t11089\tncbi\tSenegal_Aedes_fucifer_2000\t10237\n",
      "@SQ\t11089:ncbi:24\t24\tJX898874\t11089\tncbi\tArD149194_Senegal_2000\t10237\n",
      "@SQ\t11089:ncbi:25\t25\tJX898873\t11089\tncbi\tArD149214_Senegal_2000\t10237\n",
      "@SQ\t11089:ncbi:26\t26\tMK292067\t11089\tncbi\tNetherlands_Hsapiens_Gambia_2018\t10237\n",
      "@SQ\t11089:ncbi:27\t27\tMK457701\t11089\tncbi\tNigeria_Hsapiens_2018\t10237\n",
      "@SQ\t11089:ncbi:28\t28\tMN958078\t11089\tncbi\tNigeria_Hsapiens_2018\t10237\n",
      "@SQ\t11089:ncbi:29\t29\tJX898869\t11089\tncbi\tCotedIvoire_Ae_africanus_1973\t10237\n",
      "@SQ\t11089:ncbi:30\t30\tKU978763\t11089\tncbi\tNigeria_Hsapiens_1946\t10237\n",
      "@SQ\t11089:ncbi:31\t31\tMF004382\t11089\tncbi\tBolivia_Hsapiens_1999\t10237\n",
      "@SQ\t11089:ncbi:32\t32\tJF912181\t11089\tncbi\tBrazil_Hsapiens_1983\t10237\n",
      "@SQ\t11089:ncbi:33\t33\tJF912179\t11089\tncbi\tBrazil_Haemagogus_sp_1980\t10237\n",
      "@SQ\t11089:ncbi:34\t34\tJF912183\t11089\tncbi\tBrazil_Hsapiens_1984\t10237\n",
      "@SQ\t11089:ncbi:35\t35\tJF912182\t11089\tncbi\tBrazil_Hsapiens_1984\t10237\n",
      "@SQ\t11089:ncbi:36\t36\tJF912188\t11089\tncbi\tBrazil_Hsapiens_2000\t10237\n",
      "@SQ\t11089:ncbi:37\t37\tJF912190\t11089\tncbi\tBrazil_Hsapiens_2002\t10237\n",
      "@SQ\t11089:ncbi:38\t38\tHM582851\t11089\tncbi\tTrinidadandTobago_Alouetta_seniculus_2009\t10237\n",
      "@SQ\t11089:ncbi:39\t39\tKM388814\t11089\tncbi\tVenezuela_Portuguesa_Hsapiens_2005\t10237\n",
      "@SQ\t11089:ncbi:40\t40\tKM388815\t11089\tncbi\tVenezuela_Apure_Aseniculus_2007\t10237\n",
      "@SQ\t11089:ncbi:41\t41\tKM388818\t11089\tncbi\tVenezuela_Barinas_Aseniculus_2006\t10237\n",
      "@SQ\t11089:ncbi:42\t42\tKM388817\t11089\tncbi\tVenezuela_Guarico_Allouetta_seniculus_2004\t10237\n",
      "@SQ\t11089:ncbi:43\t43\tKM388816\t11089\tncbi\tVenezuela_Monagas_Asiniculus_2010\t10237\n",
      "@SQ\t11089:ncbi:44\t44\tMH666058\t11089\tncbi\tBrazil_Sapajus_sp_2016\t10237\n",
      "@SQ\t11089:ncbi:45\t45\tMK583152\t11089\tncbi\tBrazil_SaoPaulo_Hsapiens_2017\t10237\n",
      "@SQ\t11089:ncbi:46\t46\tMK583166\t11089\tncbi\tBrazil_SaoPaulo_Hsapiens_2018\t10237\n",
      "@SQ\t11089:ncbi:47\t47\tMK760660\t11089\tncbi\tNetherlands_brazil_2018\t10237\n",
      "@SQ\t11089:ncbi:48\t48\tMK760665\t11089\tncbi\tNetherlands_Hsapiens-from-brazil_2018\t10237\n",
      "@SQ\t11089:ncbi:49\t49\tMF370549\t11089\tncbi\tBrazil_monkey_2015\t10237\n",
      "@SQ\t11089:ncbi:50\t50\tMF370535\t11089\tncbi\tBrazil_Allouatta_sp_2016\t10237\n",
      "@SQ\t11089:ncbi:51\t51\tMF370533\t11089\tncbi\tBrazil_Hsapiens_2017\t10237\n",
      "@SQ\t11089:ncbi:52\t52\tMK333805\t11089\tncbi\tBrazil_IlhaGrande_Sabethes_chloropterus_2018\t10237\n",
      "@SQ\t11089:ncbi:53\t53\tMF370530\t11089\tncbi\tBrazil_Haemagogus-janthinomys_2017\t10237\n",
      "@SQ\t11089:ncbi:54\t54\tMW960207\t11089\tncbi\tYellow_fever_YF118_CAR_2018\t10237\n",
      "@SQ\t11089:ncbi:55\t55\tJN620362\t11089\tncbi\tUganda_Hsapiens_2010\t10237\n",
      "@SQ\t11089:ncbi:56\t56\tKY495641\t11089\tncbi\tChina_Hsapiens_2016\t10237\n",
      "@SQ\t11089:ncbi:57\t57\tKU949599\t11089\tncbi\tshanghai_2016\t10237\n",
      "@SQ\t11089:ncbi:58\t58\tMG589641\t11089\tncbi\tChina_Hsapiens_2016\t10237\n",
      "@SQ\t11089:ncbi:59\t59\tKX268355\t11089\tncbi\tChina_Hsapiens_2016\t10237\n",
      "@SQ\t11089:ncbi:60\t60\tKY587416\t11089\tncbi\tChina_Hsapiens_2016\t10237\n",
      "@SQ\t11089:ncbi:61\t61\tMH633692\t11089\tncbi\tChina_Hsapiens_2016\t10237\n",
      "@SQ\t11089:ncbi:62\t62\tMF004383\t11089\tncbi\t432429_S4_MF004383\t10237\n",
      "@SQ\t11089:ncbi:63\t63\tMW960207\t11089\tncbi\typ\t10237\n",
      "@SQ\t11089:ncbi:64\t64\tON323052\t11089\tncbi\tNigeria_2020\t10237\n",
      "@SQ\t11089:ncbi:65\t65\tON323053\t11089\tncbi\tNigeria_2020\t10237\n",
      "@SQ\t11089:ncbi:66\t66\tON323054\t11089\tncbi\tNigeria_2020\t10237\n",
      "@SQ\t11089:ncbi:67\t67\tOM066735\t11089\tncbi\tVHF-21-014/GHA/Damongo/2021\t10237\n",
      "@SQ\t11089:ncbi:68\t68\tOM066736\t11089\tncbi\tVHF-21-029/GHA/Daboya/2021\t10237\n",
      "@SQ\t11089:ncbi:69\t69\tOM066737\t11089\tncbi\tVHF-21-037/GHA/Damongo/2021\t10237\n"
     ]
    }
   ],
   "source": [
    "p2aln = p2outputs / 'paired_69seq_150bp/paired_69seq_150bp1.aln'\n",
    "assert p2aln.exists()\n",
    "aln = AlnFileReader(p2aln)\n",
    "print('\\n'.join(aln.header['reference sequences']))"
   ]
  }
 ],
 "metadata": {
  "kernelspec": {
   "display_name": "metagentools",
   "language": "python",
   "name": "python3"
  },
  "language_info": {
   "codemirror_mode": {
    "name": "ipython",
    "version": 3
   },
   "file_extension": ".py",
   "mimetype": "text/x-python",
   "name": "python",
   "nbconvert_exporter": "python",
   "pygments_lexer": "ipython3",
   "version": "3.10.6"
  }
 },
 "nbformat": 4,
 "nbformat_minor": 2
}
