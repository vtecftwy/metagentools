{
 "cells": [
  {
   "cell_type": "markdown",
   "metadata": {},
   "source": [
    "# Review NCBI Yellow Fever (YF) Sequences and SimReads Data"
   ]
  },
  {
   "cell_type": "markdown",
   "metadata": {},
   "source": [
    "In this notebook, we review the yellow fever sequence retireved from NCBI and the corresponding simulated reads generated with ARt Illumina."
   ]
  },
  {
   "cell_type": "markdown",
   "metadata": {},
   "source": [
    "Note: The notebook was built and tested to run locally but should also work on Colab or Kaggle. If on Colab, it assumes that the project shared gdrive directory is accessible through a shortcut called `Metagenomics` under the root of gdrive."
   ]
  },
  {
   "cell_type": "markdown",
   "metadata": {},
   "source": [
    "# 1. Imports and setup environment"
   ]
  },
  {
   "cell_type": "markdown",
   "metadata": {},
   "source": [
    "### Install and import packages"
   ]
  },
  {
   "cell_type": "code",
   "execution_count": 249,
   "metadata": {},
   "outputs": [
    {
     "name": "stdout",
     "output_type": "stream",
     "text": [
      "`ecutilities` already installed\n",
      "`metagentools` already installed\n"
     ]
    }
   ],
   "source": [
    "# Install required custom packages if not installed yet.\n",
    "import importlib.util\n",
    "if not importlib.util.find_spec('ecutilities'):\n",
    "    print('installing package: `ecutilities`')\n",
    "    ! pip install -qqU ecutilities\n",
    "else:\n",
    "    print('`ecutilities` already installed')\n",
    "if not importlib.util.find_spec('metagentools'):\n",
    "    print('installing package: `metagentools')\n",
    "    ! pip install -qqU metagentools\n",
    "else:\n",
    "    print('`metagentools` already installed')"
   ]
  },
  {
   "cell_type": "code",
   "execution_count": 250,
   "metadata": {},
   "outputs": [
    {
     "name": "stdout",
     "output_type": "stream",
     "text": [
      "The autoreload extension is already loaded. To reload it, use:\n",
      "  %reload_ext autoreload\n",
      "Set autoreload mode\n"
     ]
    }
   ],
   "source": [
    "# Import all required packages\n",
    "import matplotlib.pyplot as plt\n",
    "import numpy as np\n",
    "import pandas as pd\n",
    "import os\n",
    "import re\n",
    "\n",
    "from ecutilities.core import files_in_tree\n",
    "from ecutilities.ipython import nb_setup\n",
    "from IPython.display import display, Markdown\n",
    "from pathlib import Path\n",
    "from pprint import pprint\n",
    "from tqdm.notebook import tqdm, trange\n",
    "\n",
    "# Setup the notebook for development\n",
    "nb_setup()\n",
    "\n",
    "from metagentools.cnn_virus.data import FastaFileReader, FastqFileReader, AlnFileReader\n",
    "from metagentools.core import ProjectFileSystem"
   ]
  },
  {
   "cell_type": "markdown",
   "metadata": {},
   "source": [
    "# 2. Review project file system"
   ]
  },
  {
   "cell_type": "markdown",
   "metadata": {},
   "source": [
    "This project adopts a unified file structure to make coding and colaboration easier. In addition, we can run the code locally (from a `project-root` directory) or in the cloud (colab or kaggle).\n",
    "\n",
    "The unified file structure when running localy is:\n",
    "```text\n",
    "    project-root   \n",
    "        |--- data\n",
    "        |      |--- CNN_Virus_data  (all data related to CNN Virus original paper)\n",
    "        |      |--- saved           (trained and finetuned models)\n",
    "        |      |--- ....            (raw and pre-processed data from various sources)  \n",
    "        |      \n",
    "        |--- nbs  (all reference and work notebooks)\n",
    "        |      |--- cnn_virus\n",
    "        |      |        |--- notebooks.ipynb\n",
    "```\n",
    "\n",
    "When running on google colab, it is assumed that a google drive is mounted on the colab server instance, and that the google drive root includes a shortcut named `Metagenomics` and pointing to the project shared directory. The project shared directory is accessible [here](/https://drive.google.com/drive/folders/134uei5fmt08TpzhmjG4sW0FQ06kn2ZfZ) if your google account was given access permission."
   ]
  },
  {
   "cell_type": "markdown",
   "metadata": {},
   "source": [
    "To make access to the unified file system, `metagentools` provides a `ProjectFileSystem` class (see [documentation](https://vtecftwy.github.io/metagentools/core.html#projectfilesystem) for more info).\n",
    "\n",
    "Key folders and system information"
   ]
  },
  {
   "cell_type": "code",
   "execution_count": 251,
   "metadata": {},
   "outputs": [
    {
     "name": "stdout",
     "output_type": "stream",
     "text": [
      "Running linux on local computer\n",
      "Device's home directory: /home/vtec\n",
      "Project file structure:\n",
      " - Root ........ /home/vtec/projects/bio/metagentools \n",
      " - Data Dir .... /home/vtec/projects/bio/metagentools/data \n",
      " - Notebooks ... /home/vtec/projects/bio/metagentools/nbs\n"
     ]
    }
   ],
   "source": [
    "pfs = ProjectFileSystem()\n",
    "pfs.info()"
   ]
  },
  {
   "cell_type": "code",
   "execution_count": 252,
   "metadata": {},
   "outputs": [
    {
     "data": {
      "text/html": [
       "<hr>"
      ],
      "text/plain": [
       "<IPython.core.display.HTML object>"
      ]
     },
     "metadata": {},
     "output_type": "display_data"
    },
    {
     "data": {
      "text/markdown": [
       "ReadMe file for directory `data`:"
      ],
      "text/plain": [
       "<IPython.core.display.Markdown object>"
      ]
     },
     "metadata": {},
     "output_type": "display_data"
    },
    {
     "data": {
      "text/html": [
       "<hr>"
      ],
      "text/plain": [
       "<IPython.core.display.HTML object>"
      ]
     },
     "metadata": {},
     "output_type": "display_data"
    },
    {
     "data": {
      "text/markdown": [
       "### Data structure for `metagentools`\n",
       "This directory includes all the data required for the project `metagentools`.\n",
       "\n",
       "```text\n",
       "data\n",
       " |--- CNN_Virus_data \n",
       " |--- ncbi                \n",
       " |--- saved         \n",
       " |--- yf-reads\n",
       " |--- ....           \n",
       "     \n",
       "```\n",
       "#### Sub-directories\n",
       "- `CNN_Virus_data`: includes all the data related to the original CNN Virus paper, i.e. training data and validation data in a format that can be used by the CNN Virus code.\n",
       "- `ncbi`: includes data related to the use of viral sequences from NCBI: reference sequences, simulated reads, inference datasets, inference results.\n",
       "- `saved`: includes model saved parameters and preprocessing datasets.\n",
       "- `yf-reads`: includes all data related to real yellow fever reads, from \"wet\" samples\n",
       "\n",
       "Also available on AWS S3 at `https://s3.ap-southeast-1.amazonaws.com/bio.cnn-virus.data/data/...`"
      ],
      "text/plain": [
       "<IPython.core.display.Markdown object>"
      ]
     },
     "metadata": {},
     "output_type": "display_data"
    },
    {
     "data": {
      "text/html": [
       "<hr>"
      ],
      "text/plain": [
       "<IPython.core.display.HTML object>"
      ]
     },
     "metadata": {},
     "output_type": "display_data"
    }
   ],
   "source": [
    "pfs.readme()"
   ]
  },
  {
   "cell_type": "markdown",
   "metadata": {},
   "source": [
    "# Rework definition line in NCBI YF Fasta"
   ]
  },
  {
   "cell_type": "code",
   "execution_count": 253,
   "metadata": {},
   "outputs": [
    {
     "name": "stdout",
     "output_type": "stream",
     "text": [
      "\n",
      "Sequence 1:\n",
      ">AY968064_Angola_1971\n",
      "ATGTCTGGTCGAAAAGCTCAGGGTAAAACCCTGGGCGTCAATATGGTAAGACGAGGGGTTCGCTCCTTGTCAAACAAAAT ...\n"
     ]
    },
    {
     "name": "stderr",
     "output_type": "stream",
     "text": [
      "/home/vtec/projects/bio/metagentools/metagentools/core.py:500: UserWarning: \n",
      "        None of the saved parsing rules were able to extract metadata from the first line in this file.\n",
      "        You must set a custom rule (pattern + keys) before parsing text, by using:\n",
      "            `self.set_parsing_rules(custom_pattern, custom_list_of_keys)`\n",
      "                \n",
      "  warnings.warn(msg, category=UserWarning)\n"
     ]
    }
   ],
   "source": [
    "p2yfrefseqs = pfs.data / 'ncbi/refsequences/yf/yf_2023_multiple_alignment_original.fa'\n",
    "assert p2yfrefseqs.is_file()\n",
    "fasta_original = FastaFileReader(p2yfrefseqs)\n",
    "fasta_original.print_first_chunks(1)"
   ]
  },
  {
   "cell_type": "markdown",
   "metadata": {},
   "source": [
    "Yellow Fever on NCBI database:\n",
    "- Accession Number: AY968064\n",
    "- https://www.ncbi.nlm.nih.gov/nuccore/AY968064\n",
    "- source: `/organism=\"Yellow fever virus\"/mol_type=\"genomic RNA\"/strain=\"Angola71\"/host=\"Homo sapiens\"/db_xref=\"taxon:11089\"/geo_loc_name=\"Angola\"`\n",
    "- https://www.ncbi.nlm.nih.gov/Taxonomy/Browser/wwwtax.cgi?id=11089"
   ]
  },
  {
   "cell_type": "markdown",
   "metadata": {},
   "source": [
    "Original file definition line is: `>AY968064_Angola_1971`.\n",
    "\n",
    "Rework it to match the structure of the NCBI CoV reference sequence files (tab separated):\n",
    "- `>taxonomy_id:ncbi:seqnb [accession]\ttaxonomy_id\tncbi\tseqnb [accession] taxonomy_id\tYellow Fever .....`\n",
    "- Yellow Fever Taxonomy ID is `11089` for all accessions\n",
    "- `taxonomy_id` is the start of the original definition line\n",
    "- end of the original definition line is name of the strain\n",
    "\n",
    "New dfn line: `>11089:ncbi:seqnb [acession]\t11089\tncbi\tseqnb [accession] 11098\t.....`"
   ]
  },
  {
   "cell_type": "code",
   "execution_count": 254,
   "metadata": {},
   "outputs": [],
   "source": [
    "p2yf_new_dfn_lines = pfs.data / 'ncbi/refsequences/yf/yf_2023_yellow_fever.fa'"
   ]
  },
  {
   "cell_type": "code",
   "execution_count": 255,
   "metadata": {},
   "outputs": [],
   "source": [
    "re_accession = re.compile(r'^>(?P<accession>[A-Z]{1,2}\\d*)(\\_|\\.\\d)?_(?P<species>.*)$')"
   ]
  },
  {
   "cell_type": "code",
   "execution_count": 256,
   "metadata": {},
   "outputs": [
    {
     "name": "stdout",
     "output_type": "stream",
     "text": [
      "No new fasta file created\n"
     ]
    }
   ],
   "source": [
    "CREATE_NEW_FA = False\n",
    "\n",
    "if CREATE_NEW_FA:\n",
    "    original_fa = FastaFileReader(p2yfrefseqs)\n",
    "    with open(p2yf_new_dfn_lines, 'w') as fp:\n",
    "        for i, refseq in enumerate(original_fa):\n",
    "            dfn = refseq['definition line']\n",
    "            accession = re_accession.search(dfn).group('accession')\n",
    "            species = re_accession.search(dfn).group('species')\n",
    "            new_dfn = f\">11089:ncbi:{i+1}\\t[{accession}]\\t11089\tncbi\\t{i+1}\\t[{accession}]\\t11089\\t{species}\"\n",
    "\n",
    "            fp.write(f\"{new_dfn}\\n{refseq['sequence']}\\n\")\n",
    "else:\n",
    "    print('No new fasta file created')"
   ]
  },
  {
   "cell_type": "markdown",
   "metadata": {},
   "source": [
    "When we create FastFileReader with the new file, the format is understood"
   ]
  },
  {
   "cell_type": "code",
   "execution_count": 257,
   "metadata": {},
   "outputs": [
    {
     "name": "stdout",
     "output_type": "stream",
     "text": [
      "\n",
      "Sequence 1:\n",
      ">11089:ncbi:1\t[AY968064]\t11089\tncbi\t1\t[AY968064]\t11089\tAngola_1971\n",
      "ATGTCTGGTCGAAAAGCTCAGGGTAAAACCCTGGGCGTCAATATGGTAAGACGAGGGGTTCGCTCCTTGTCAAACAAAAT ...\n"
     ]
    }
   ],
   "source": [
    "new_fa = FastaFileReader(p2yf_new_dfn_lines)\n",
    "new_fa.print_first_chunks(1)"
   ]
  },
  {
   "cell_type": "code",
   "execution_count": 258,
   "metadata": {},
   "outputs": [
    {
     "data": {
      "text/plain": [
       "'fasta_ncbi_std'"
      ]
     },
     "execution_count": 258,
     "metadata": {},
     "output_type": "execute_result"
    }
   ],
   "source": [
    "new_fa.re_rule_name"
   ]
  },
  {
   "cell_type": "markdown",
   "metadata": {},
   "source": [
    "### Explore files in NCBI data directory"
   ]
  },
  {
   "cell_type": "code",
   "execution_count": 259,
   "metadata": {},
   "outputs": [
    {
     "name": "stdout",
     "output_type": "stream",
     "text": [
      "data\n",
      "  |--ncbi\n",
      "  |    |--readme.md (0)\n",
      "  |    |--refsequences\n",
      "  |    |    |--readme.md (1)\n",
      "  |    |--simreads\n",
      "  |    |    |--readme.md (2)\n",
      "  |    |--infer_results\n",
      "  |    |    |--readme.md (3)\n",
      "  |    |--ds\n",
      "  |    |    |--readme.md (4)\n"
     ]
    }
   ],
   "source": [
    "files_in_tree(pfs.data/'ncbi');"
   ]
  },
  {
   "cell_type": "code",
   "execution_count": 260,
   "metadata": {},
   "outputs": [
    {
     "data": {
      "text/html": [
       "<hr>"
      ],
      "text/plain": [
       "<IPython.core.display.HTML object>"
      ]
     },
     "metadata": {},
     "output_type": "display_data"
    },
    {
     "data": {
      "text/markdown": [
       "ReadMe file for directory `data/ncbi/refsequences`:"
      ],
      "text/plain": [
       "<IPython.core.display.Markdown object>"
      ]
     },
     "metadata": {},
     "output_type": "display_data"
    },
    {
     "data": {
      "text/html": [
       "<hr>"
      ],
      "text/plain": [
       "<IPython.core.display.HTML object>"
      ]
     },
     "metadata": {},
     "output_type": "display_data"
    },
    {
     "data": {
      "text/markdown": [
       "### NCBI Reference Sequences\n",
       "\n",
       "This directory includes the reference sequences from NCBI, for each virus group. \n",
       "\n",
       "Each group of viruses is grouped into one directory:\n",
       "- `cov`: all reference sequences and related metadata files for corona (sars and mers)\n",
       "- `mRhiFer1`:  a reference sequence different from CoV and YF to test false positive predictions\n",
       "- `yf`: all reference sequences and related metadata files for yellow fever\n"
      ],
      "text/plain": [
       "<IPython.core.display.Markdown object>"
      ]
     },
     "metadata": {},
     "output_type": "display_data"
    },
    {
     "data": {
      "text/html": [
       "<hr>"
      ],
      "text/plain": [
       "<IPython.core.display.HTML object>"
      ]
     },
     "metadata": {},
     "output_type": "display_data"
    },
    {
     "name": "stdout",
     "output_type": "stream",
     "text": [
      "ncbi\n",
      "  |--refsequences\n",
      "  |    |--readme.md (0)\n",
      "  |    |--mRhiFer1\n",
      "  |    |    |--Rhinolophus_ferrumequinum.mRhiFer1_v1.p.dna_rm.primary_assembly.1.fa (1)\n",
      "  |    |    |--Rhinolophus_ferrumequinum.mRhiFer1_v1.p.dna.primary_assembly.1.fa.gz (2)\n",
      "  |    |    |--Rhinolophus_ferrumequinum.mRhiFer1_v1.p.dna_rm.primary_assembly.1.clean.fa (3)\n",
      "  |    |    |--readme.md (4)\n",
      "  |    |    |--Rhinolophus_ferrumequinum.mRhiFer1_v1.p.dna_rm.primary_assembly.1.fa.gz (5)\n",
      "  |    |--yf\n",
      "  |    |    |--yf_2023_yellow_fever.fa (6)\n",
      "  |    |    |--yf_2023_multiple_alignment_original.fa (7)\n",
      "  |    |    |--readme.md (8)\n",
      "  |    |    |--yf_1971_Angola.fa (9)\n",
      "  |    |--cov\n",
      "  |    |    |--cov_virus_sequence_001-seq1.fa (10)\n",
      "  |    |    |--cov_virus_sequences.txt (11)\n",
      "  |    |    |--cov_virus_sequences-original.txt (12)\n",
      "  |    |    |--cov_virus_sequences_100-seqs.fa (13)\n",
      "  |    |    |--readme.md (14)\n",
      "  |    |    |--taxonomyid-label-mapping.json (15)\n",
      "  |    |    |--cov_virus_sequences_002-seqs.fa (16)\n",
      "  |    |    |--cov_virus_sequences_025-seqs.fa (17)\n",
      "  |    |    |--cov_virus_sequences_010-seqs.fa (18)\n",
      "  |    |    |--accession-label-mapping.json (19)\n",
      "  |    |    |--cov_virus_sequence_001-seq2.fa (20)\n",
      "  |    |    |--cov_virus_original_cnn_sequences.json (21)\n",
      "  |    |    |--cov_virus_sequences.fa (22)\n",
      "====================================================================================================\n"
     ]
    },
    {
     "data": {
      "text/html": [
       "<hr>"
      ],
      "text/plain": [
       "<IPython.core.display.HTML object>"
      ]
     },
     "metadata": {},
     "output_type": "display_data"
    },
    {
     "data": {
      "text/markdown": [
       "ReadMe file for directory `data/ncbi/simreads`:"
      ],
      "text/plain": [
       "<IPython.core.display.Markdown object>"
      ]
     },
     "metadata": {},
     "output_type": "display_data"
    },
    {
     "data": {
      "text/html": [
       "<hr>"
      ],
      "text/plain": [
       "<IPython.core.display.HTML object>"
      ]
     },
     "metadata": {},
     "output_type": "display_data"
    },
    {
     "data": {
      "text/markdown": [
       "### NCBI simulated reads\n",
       "This directory includes all sets of simulated read sequence files generated from NCBI viral sequences using  ARC Illumina. \n",
       "\n",
       "```ascii\n",
       "this-directory\n",
       "    |--cov\n",
       "    |    |\n",
       "    |    |--single_10seq_50bp\n",
       "    |    |    |--single_10seq_50bp.fq\n",
       "    |    |    |--single_10seq_50bp.alnEnd\n",
       "    |    |-- ...\n",
       "    |    |--single_100seq_150bp\n",
       "    |    |    |--single_100seq_150bp.fq\n",
       "    |    |    |--single_100seq_150bp.aln\n",
       "    |    |--paired_100seq_50bp\n",
       "    |    |    |--paired_100seq_50bp2.aln\n",
       "    |    |    |--paired_100seq_50bp1.aln\n",
       "    |    |    |--paired_100seq_50bp2.fq\n",
       "    |    |    |--paired_100seq_50bp1.fq\n",
       "    |    |-- ...\n",
       "    |    |\n",
       "    |---yf\n",
       "    |    |\n",
       "    |    |--yf_AY968064-single-150bp\n",
       "    |    |    |--yf_AY968064-single-1seq-150bp.fq\n",
       "    |    |    |--yf_AY968064-single-1seq-150bp.aln\n",
       "    |    |\n",
       "    |--mRhiFer1\n",
       "    |    |--mRhiFer1_v1.p.dna_rm.primary_assembly.1\n",
       "    |    |    |--mRhiFer1_v1.p.dna_rm.primary_assembly.1.fq\n",
       "    |    |    |--mRhiFer1_v1.p.dna_rm.primary_assembly.1.aln\n",
       "    |    |\n",
       "\n",
       "```\n",
       "\n",
       "This directory includes several subdirectories, each for one virus, e.g. `cov` for corona, `yf` for yellow fever.\n",
       "\n",
       "In each virus subdirectory, several simreads directory includes simulated reads with various parameters, named as `<method>_<nb-seq>_<nb-bp>` where\"\n",
       "- `<method>` is either `single` or `paired` depending on the simulation method\n",
       "- `<nb-seq>` is the number of reference sequences used for simulation, and refers to the `fa` file used\n",
       "- `<nb-bp>` is the number of base pairs used to simulate reads\n",
       "\n",
       "\n",
       "Each sub-directory includes simreads files made using a simulation method and a specific number of reference sequences.\n",
       "- `xxx.fq` and `xxx.aln` files when method is `single`\n",
       "- `xxx1.fq`, `xxx2.fq`, `xxx1.aln` and `xxx2.aln` files when method is `paired`.\n",
       "\n",
       "Example:\n",
       "- `paired_10seq_50bp` means that the simreads were generated by using the `paired` method to simulate 50-bp reads, and using the `fa` file `cov_virus_sequences_010-seqs.fa`.\n",
       "- `single_100seq_50bp` means that the simreads were generated by using the `single` method to simulate 50-bp reads, and using the `fa` file `cov_virus_sequences_100-seqs.fa`. Note that this generated 20,660,104 reads !\n",
       "\n",
       "#### Simread file formats\n",
       "\n",
       "Simulated reads information is split between two files:\n",
       "- **FASTQ** (`.fq`) files providing the read sequences and their ASCII quality scores\n",
       "- **ALN** (`.aln`) files with alignment information\n",
       "\n",
       "##### FASTQ (`.fq`)\n",
       "FASTQ files generated by ART Illumina have the following structure (showing 5 reads), with 4 lines for each read:\n",
       "\n",
       "```ascii\n",
       "@2591237:ncbi:1-60400\n",
       "ACAACTCCTATTCGTAGTTGAAGTTGTTGACAAATACTTTGATTGTTACG\n",
       "+\n",
       "CCCBCGFGBGGGGGGGBGGGGGGGGG>GGG1G=/GGGGGGGGGGGGGGGG\n",
       "@2591237:ncbi:1-60399\n",
       "GATCAATGTGGCATCTACAATACAGACAGCATGAAGCACCACCAAAGGAC\n",
       "+\n",
       "BCBCCFGGGGGGGG1CGGGG<GGBGGGGGFGCGGGGGGDGGG/GG1GGGG\n",
       "@2591237:ncbi:1-60398\n",
       "ATCTACCAGTGGTAGATGGGTTCTTAATAATGAACATTATAGAGCTCTAC\n",
       "+\n",
       "CCCCCGGGEGG1GGF1G/GGEGGGGGGGGGGGGFFGGGGGGGGGGDGGDG\n",
       "@2591237:ncbi:1-60397\n",
       "CGTAAAGTAGAGGCTGTATGGTAGCTAGCACAAATGCCAGCACCAATAGG\n",
       "+\n",
       "BCCCCGGGFGGGGGGFGGGGFGG1GGGGGGG>GG1GGGGGGGGGGE<GGG\n",
       "@2591237:ncbi:1-60396\n",
       "GGTATCGGGTATCTCCTGCATCAATGCAAGGTCTTACAAAGATAAATACT\n",
       "+\n",
       "CBCCCGGG@CGGGGGGGGGGGG=GFGGGGDGGGFG1GGGGGGGG@GGGGG\n",
       "```\n",
       "The following information can be parsed from the each read sequence in the FASTQ file:\n",
       "\n",
       "- Line 1: `readid`, a unique ID for the read, under for format `@readid` \n",
       "- Line 2: `readseq`, the sequence of the read\n",
       "- Line 3: a separator `+`\n",
       "- Line 4: `read_qscores`, the base quality scores encoded in ASCII \n",
       "\n",
       "Example:\n",
       "```\n",
       "@2591237:ncbi:1-60400\n",
       "ACAACTCCTATTCGTAGTTGAAGTTGTTGACAAATACTTTGATTGTTACG\n",
       "+\n",
       "CCCBCGFGBGGGGGGGBGGGGGGGGG>GGG1G=/GGGGGGGGGGGGGGGG\n",
       "```\n",
       "- `readid` = `2591237:ncbi:1-60400`\n",
       "- `readseq` = `ACAACTCCTATTCGTAGTTGAAGTTGTTGACAAATACTTTGATTGTTACG`, a 50 bp read\n",
       "- `read_qscores` = `CCCBCGFGBGGGGGGGBGGGGGGGGG>GGG1G=/GGGGGGGGGGGGGGGG`\n",
       "\n",
       "\n",
       "#### ALN (`.aln`) \n",
       "ALN files generated by ART Illumina consist of :\n",
       "- a header with the ART-Ilumina command used for the simulation (`@CM`) and info on each of the reference sequences used for the simulations (`@SQ`). Header always starts with `##ART_Illumina` and ends with `##Header End` :\n",
       "- the body with 3 lines for each read:\n",
       "    1. definition line with `readid`, \n",
       "        - reference sequence identification number `refseqid`, \n",
       "        - the position in the read in the reference sequence `aln_start_pos` \n",
       "        - the strand the read was taken from `ref_seq_strand`. `+` for coding strand and `-` for template strand\n",
       "    2. aligned reference sequence, that is the sequence segment in the original reference corresponding to the read\n",
       "    3. aligned read sequence, that is the simmulated read sequence, where each bp corresponds to the reference sequence bp in the same position.\n",
       "\n",
       "Example of a ALN file generated by ART Illumina (showing 5 reads):\n",
       "\n",
       "```ascii\n",
       "##ART_Illumina    read_length    50\n",
       "@CM    /bin/art_illumina -i /home/vtec/projects/bio/metagentools/data/cov_data/cov_virus_sequences_ten.fa -ss HS25 -l 50 -f 100 -o /home/vtec/projects/bio/metagentools/data/cov_simreads/single_10seq_50bp/single_10seq_50bp -rs 1674660835\n",
       "@SQ    2591237:ncbi:1 [MK211378]    2591237    ncbi    1 [MK211378] 2591237    Coronavirus BtRs-BetaCoV/YN2018D    30213\n",
       "@SQ    11128:ncbi:2 [LC494191]    11128    ncbi    2 [LC494191] 11128    Bovine coronavirus    30942\n",
       "@SQ    31631:ncbi:3 [KY967361]    31631    ncbi    3 [KY967361] 31631    Human coronavirus OC43        30661\n",
       "@SQ    277944:ncbi:4 [LC654455]    277944    ncbi    4 [LC654455] 277944    Human coronavirus NL63    27516\n",
       "@SQ    11120:ncbi:5 [MN987231]    11120    ncbi    5 [MN987231] 11120    Infectious bronchitis virus    27617\n",
       "@SQ    28295:ncbi:6 [KU893866]    28295    ncbi    6 [KU893866] 28295    Porcine epidemic diarrhea virus    28043\n",
       "@SQ    28295:ncbi:7 [KJ645638]    28295    ncbi    7 [KJ645638] 28295    Porcine epidemic diarrhea virus    27998\n",
       "@SQ    28295:ncbi:8 [KJ645678]    28295    ncbi    8 [KJ645678] 28295    Porcine epidemic diarrhea virus    27998\n",
       "@SQ    28295:ncbi:9 [KR873434]    28295    ncbi    9 [KR873434] 28295    Porcine epidemic diarrhea virus    28038\n",
       "@SQ    1699095:ncbi:10 [KT368904]    1699095    ncbi    10 [KT368904] 1699095    Camel alphacoronavirus    27395\n",
       "##Header End\n",
       ">2591237:ncbi:1    2591237:ncbi:1-60400    14770    +\n",
       "ACAACTCCTATTCGTAGTTGAAGTTGTTGACAAATACTTTGATTGTTACG\n",
       "ACAACTCCTATTCGTAGTTGAAGTTGTTGACAAATACTTTGATTGTTACG\n",
       ">2591237:ncbi:1    2591237:ncbi:1-60399    17012    -\n",
       "GATCAATGTGGCATCTACAATACAGACAGCATGAAGCACCACCAAAGGAC\n",
       "GATCAATGTGGCATCTACAATACAGACAGCATGAAGCACCACCAAAGGAC\n",
       ">2591237:ncbi:1    2591237:ncbi:1-60398    9188    +\n",
       "ATCTACCAGTGGTAGATGGGTTCTTAATAATGAACATTATAGAGCTCTAC\n",
       "ATCTACCAGTGGTAGATGGGTTCTTAATAATGAACATTATAGAGCTCTAC\n",
       ".....\n",
       "```"
      ],
      "text/plain": [
       "<IPython.core.display.Markdown object>"
      ]
     },
     "metadata": {},
     "output_type": "display_data"
    },
    {
     "data": {
      "text/html": [
       "<hr>"
      ],
      "text/plain": [
       "<IPython.core.display.HTML object>"
      ]
     },
     "metadata": {},
     "output_type": "display_data"
    },
    {
     "name": "stdout",
     "output_type": "stream",
     "text": [
      "ncbi\n",
      "  |--simreads\n",
      "  |    |--readme.md (0)\n",
      "  |    |--mRhiFer1\n",
      "  |    |    |--readme.md (1)\n",
      "  |    |--yf\n",
      "  |    |    |--readme.md (2)\n",
      "  |    |--cov\n",
      "  |    |    |--readme.md (3)\n",
      "====================================================================================================\n"
     ]
    },
    {
     "data": {
      "text/html": [
       "<hr>"
      ],
      "text/plain": [
       "<IPython.core.display.HTML object>"
      ]
     },
     "metadata": {},
     "output_type": "display_data"
    },
    {
     "data": {
      "text/markdown": [
       "ReadMe file for directory `data/ncbi/infer_results`:"
      ],
      "text/plain": [
       "<IPython.core.display.Markdown object>"
      ]
     },
     "metadata": {},
     "output_type": "display_data"
    },
    {
     "data": {
      "text/html": [
       "<hr>"
      ],
      "text/plain": [
       "<IPython.core.display.HTML object>"
      ]
     },
     "metadata": {},
     "output_type": "display_data"
    },
    {
     "data": {
      "text/markdown": [
       "#### Inference Result Files\n",
       "\n",
       "Each directory includes a set of prediction/inference result files."
      ],
      "text/plain": [
       "<IPython.core.display.Markdown object>"
      ]
     },
     "metadata": {},
     "output_type": "display_data"
    },
    {
     "data": {
      "text/html": [
       "<hr>"
      ],
      "text/plain": [
       "<IPython.core.display.HTML object>"
      ]
     },
     "metadata": {},
     "output_type": "display_data"
    },
    {
     "name": "stdout",
     "output_type": "stream",
     "text": [
      "ncbi\n",
      "  |--infer_results\n",
      "  |    |--readme.md (0)\n",
      "  |    |--cov-ncbi\n",
      "  |    |    |--readme.md (1)\n",
      "  |    |--yf-ncbi\n",
      "  |    |    |--yf_2023-single-69seq-150bp-2024-05-02_16_29_18-probs.csv (2)\n",
      "  |    |    |--readme.md (3)\n",
      "  |    |    |--yf_AY968064-single-1seq-150bp-2024-05-02_01_10_12-probs.csv (4)\n",
      "  |    |    |--yf_AY968064-single-1seq-150bp-2024-05-02_01_10_12-results.csv (5)\n",
      "  |    |    |--yf_2023-single-69seq-150bp-2024-05-02_16_29_18-results.csv (6)\n",
      "====================================================================================================\n"
     ]
    }
   ],
   "source": [
    "for d in ['refsequences', 'simreads', 'infer_results']:\n",
    "    path = pfs.data / 'ncbi' / d\n",
    "    pfs.readme(dir_path=path)\n",
    "    # print(f\"{'-'*100}\")\n",
    "    files_in_tree(path)\n",
    "    print(f\"{'='*100}\")"
   ]
  },
  {
   "cell_type": "markdown",
   "metadata": {},
   "source": [
    "# 3. Review fasta, fastq and aln files"
   ]
  },
  {
   "cell_type": "markdown",
   "metadata": {},
   "source": [
    "## Setup paths"
   ]
  },
  {
   "cell_type": "markdown",
   "metadata": {},
   "source": [
    "- `p2refseqs`: path to a reference sequence file (FASTA)\n",
    "- `p2simreads`: path to folder where reads files are located (FASTQ and ALN)"
   ]
  },
  {
   "cell_type": "code",
   "execution_count": 261,
   "metadata": {},
   "outputs": [],
   "source": [
    "p2refseqs = pfs.data / 'ncbi/refsequences/yf/yf_2023_yellow_fever.fa'\n",
    "assert p2refseqs.is_file(), f\"No file found at {p2refseqs.absolute()}\"\n",
    "\n",
    "# p2simreads = pfs.data / 'ncbi/simreads/yf/single_all_seq_150bp'\n",
    "p2simreads = pfs.data / 'ncbi/simreads/yf/paired_all_seq_150bp'\n",
    "assert p2simreads.is_dir(), f\"No directory found at {p2simreads.absolute()}\""
   ]
  },
  {
   "cell_type": "markdown",
   "metadata": {},
   "source": [
    "## Explore Reference Files (FASTA)"
   ]
  },
  {
   "cell_type": "markdown",
   "metadata": {},
   "source": [
    "`FastaFileReader` is a class to make reading and accessing fasta file information easier"
   ]
  },
  {
   "cell_type": "code",
   "execution_count": 262,
   "metadata": {},
   "outputs": [],
   "source": [
    "fasta = FastaFileReader(path=p2refseqs)"
   ]
  },
  {
   "cell_type": "code",
   "execution_count": 263,
   "metadata": {},
   "outputs": [
    {
     "name": "stdout",
     "output_type": "stream",
     "text": [
      "\n",
      "Sequence 1:\n",
      ">11089:ncbi:1\t[AY968064]\t11089\tncbi\t1\t[AY968064]\t11089\tAngola_1971\n",
      "ATGTCTGGTCGAAAAGCTCAGGGTAAAACCCTGGGCGTCAATATGGTAAGACGAGGGGTTCGCTCCTTGTCAAACAAAAT ...\n",
      "\n",
      "Sequence 2:\n",
      ">11089:ncbi:2\t[U54798]\t11089\tncbi\t2\t[U54798]\t11089\tIvory_Coast_1982\n",
      "ATGTCTGGTCGCAAAGCTCAGGGAAAAACCCTGGGCGTCAATATGGTTCGACGGGGAGTCCGCTCCTTGTCAAACAAAAT ...\n",
      "\n",
      "Sequence 3:\n",
      ">11089:ncbi:3\t[DQ235229]\t11089\tncbi\t3\t[DQ235229]\t11089\tEthiopia_1961\n",
      "ATGTCTGGTCGAAAAGCTCAGGGTAAAACCCTGGGCGTCAATATGGTAAGACGGGGAGCACGCTCCTTGTCAAACAAAAT ...\n"
     ]
    }
   ],
   "source": [
    "fasta.print_first_chunks(nchunks=3)"
   ]
  },
  {
   "cell_type": "markdown",
   "metadata": {},
   "source": [
    "Access each sequence (definition line and sequence) one by one"
   ]
  },
  {
   "cell_type": "code",
   "execution_count": 264,
   "metadata": {},
   "outputs": [
    {
     "name": "stdout",
     "output_type": "stream",
     "text": [
      "Definition Line for sequence 1:\n",
      ">11089:ncbi:1\t[AY968064]\t11089\tncbi\t1\t[AY968064]\t11089\tAngola_1971\n",
      "10,237 bases:\n",
      "ATGTCTGGTCGAAAAGCTCAGGGTAAAACCCTGGGCGTCAATATGGTAAGACGAGGGGTTCGCTCCTTGTCAAACAAAATAAAACAAAAAACAAAACAGATTGGAAACAGACCTGGCCCTTCAAGAGGTGTTCAAGGATTTATTTTCTTCTTTTTGTTTAACATTCTGACTGGGAAAAAGTTGACTGCTCATCTAAAAAAACTTTGGAGGATGCTTGATCCAAGGCAGGGACTTGCTGTACTGCGGAAGGTCAAAAGAGTTGTAGCTAGCTTAATGAGAGGACTGTCTTCCAGGAAACGTAGATCCAATGAAATGGCCTTGTTTCCACTCTTGTTACTGGGTTTGTTGGCTCTATCAGGAGGAGTGACCCTCGTCAGAAAGAACAGATGGTTGCTCTTGAATGTAACTGCTGAAGATCTGGGGAAAACGTTTTCAGTGGGAACTGGGAATTGCACCACGAATATTCTGGAAGCAAAATACTGGTGCCCCGACTCAATGGAGTACAATTGTCCCAATCTCAGTCCAAGAGAAGAGCCAGATGACATAGATTGCTGGTGTTATGGAGTGGAAAATGTCAGAGTGGCCTATGGAAGATGTGATGCGGTAGGGCGATCAAAACGTTCTAGGAGAGCGATTGATCTACCCACACATGAGAACCATGGACTAAAGACTCGGCAGGAGAAGTGGATGACTGGCAGAATGGGTGAGAGGCAGCTCCAGAAGATTGAAAGATGGCTGGTTAGGAATCCATTTTTTGCGGTCACAGCATTGGCAATAGCCTATCTGGTGGGTAACAACACGACGCAACGAGTGGTAATAGCACTACTGGTTCTAGCGGTTGGTCCAGCGTACTCTGCCCATTGCATAGGGATAACCGACAGAGATTTCATTGAAGGTGTCCATGGGGGCACTTGGGTGTCAGCCACTCTGGAGCAGGACAAATGCGTGACTGTAATGGCCCCTGACAAACCTTCTCTAGACATCTCACTACAGACAGTGGCAATCGATGGACCGGCTGAAGCGAGGAAGGTTTGCTACAGTGCAGTCCTAACCCATGTGAAAATCAATGACAAATGCCCGAGCACTGGTGAGGCTCACCTTGCAGAGGAAAATGATGGTGACAATGCTTGCAAACGGACATATTCTGACAGAGGCTGGGGCAATGGCTGTGGTCTATTTGGGAAAGGGAGCATTGTGGCTTGTGCTAAGTTCACATGTGCCAAATCTATGAGTCTCTTTGAGGTGGATCAGACCAAGATTCAATATGTCATCAGGGCTCAGCTCCATGTGGGTGCCAAACAGGAAAACTGGAACACAGACATAAAAACGCTGAAATTTGATGCTCTTTCTGGCTCACAGGAGGCTGAATTCACTGGTTATGGAAAAGCAACACTGGAGTGTCAGGTCCAGACTGCCGTGGACTTTGGGAACAGCTACATCGCAGAGATGGAAAAAGATAGCTGGATCGTTGACCGCCAATGGGCACAGGACTTGACACTGCCATGGCAGAGTGGGAGTGGTGGCATATGGAGAGAAATGCACCACCTTGTTGAGTTTGAGCCCCCACATGCTGCCACAATTAGGGTGCTGGCCTTGGGCAATCAAGAAGGCTCCTTGAAGACCGCTCTCACAGGCGCCATGCGCGTCACCAAGGATGAGAATGACAACAACTTGTACAAACTGCACGGTGGTCACGTCTCCTGTAGAGTGAAACTGTCAGCTCTCACTCTCAAAGGAACATCCTACAAGATGTGTACAGACAAGATGTCATTTGTCAAGAATCCGACGGATACAGGGCATGGCACAGTTGTCATGCAAGTAAAGGTCCCCAAAGGGGCCCCATGCAAGATTCCCGTGATTGTGGCAGATGACCTAACGGCTGCGGTGAACAAAGGCATCTTGGTCACTGTCAATCCTATTGCATCCACAAATGATGATGAAGTTCTGATTGAGGTCAATCCCCCTTTTGGGGATAGCTACATCATAGTTGGGACTGGAGATTCACGACTGACCTATCAGTGGCACAAAGAAGGGAGTTCAATAGGAAAATTGTTTACACAGACAATGAAAGGAGCTGAACGTCTTGCAGTGATGGGTGATGCTGCTTGGGATTTTAGTTCTGCTGGGGGGTTCTTCACATCTGTGGGAAAAGGAATCCATACCGTGTTTGGCTCGGCCTTCCAGGGGCTGTTTGGTGGCTTGAGTTGGATTACGAAAGTCATCATGGGAGCCGTACTCATCTGGGTGGGAATAAACACCCGCAACATGACCATGTCCATGTCCATGATCTTGGTAGGTGTGATCATGATGTTTCTTTCATTGGGAGTTGGGGCTGACCAAGGATGTGCTGTCAACTTTGGGAAACGCGAGCTCAAATGCGGAGATGGCATCTTTGTGTTTAGAGACTCTGATGATTGGCTCACAAAGTACTCATACTATCCTGAAGACCCTGTCAAATTGGCATCCATTATTAAAGCCTCCCACGAGGAGGGCAAATGTGGATTGAATTCAGTTGATTCCCTCGAACACGAGATGTGGAGGAGTAGGGCGGATGAGATCAACGCCATTTTTGAAGAAAATGAGGTAGACATCTCGGTCGTCGTCCAAGACCCAAAGAACATCTATCAAAGAGGGACCCACCCGTTCTCAAGGATCCGTGACGGATTGCAGTATGGGTGGAAGACCTGGGGAAAAAACCTTGTTTTCTCACCAGGGAGGAAGAACGGCAGCTTCATCATTGACGGGAAGTCACGAAAGGAGTGCCCCTTCTCTAACAGAGTGTGGAACTCATTCCAGATTGAGGAGTTTGGCATGGGGGTCTTCACAACACGAGTTTTTATGGACGCGACCTTTGACTATTCAGTGGACTGTGATGGAGCCATCCTGGGTGCAGCGGTAAATGGAAAGAAGAGTGCCCATGGATCACCCACATTTTGGATGGGAAGTCATGAAGTCAATGGAACGTGGATGATACACACTCTGGAAACTCTTGATTACAAGGAGTGTGAATGGCCACTGACACACACTATTGGAACCTCAGTAGAAGAAAGTGACATGTTCATGCCCCGGTCCATTGGAGGTCCGGTGAGCTCCCACAACCGCATCCCGGGTTACAAGGTGCAAACTAATGGGCCATGGATGCAAGTCCCTCTGGAAGTAAAAAGGGAAGTCTGTCCAGGGACAAGCGTGGTGGTGGACTCCAACTGTGATGGACGTGGAAAATCAACAAGATCAACCACTGACAGTGGGAAAATAATCCCGGAATGGTGTTGCAGATCCTGTACCATGCCTCCAGTCAGCTTCCATGGAAGCGATGGTTGTTGGTATCCTATGGAGATCAGACCCATGAAAACATCCGACAGCCACCTAGTGAGGTCCTGGGTGACTGCAGGAGAAGTTCATGCAGTACCCTTTGGGCTGGTGAGCATGATGATTGCCATGGAGGTGGTGTTGCGCAGAAGGCAAGGACCAAAACAAATGCTGGTAGGAGGAGTTGTGCTGCTTGGAGCGATGTTAGTGGGACAAGTCACAGTCTTAGACCTTGTGAAGTTTGTTGTGGCAGTGGGATTGCACTTCCATGAGATTAACAACGGAGGAGATGCCATGTACATGGCATTAATTGCCAGCTTTTCCATCCGGCCAGGCCTGCTCATGGGCTTTGGGCTGCGCACACTGTGGAGTCCTCGGGAGCGACTTGTAATGGCATTTGGAGCAGCCATGGTTGAGATTGCCCTAGGTGGAATGATGGGTGGGCTTTGGCAGTACTTGAACGCCGTTTCACTGTGTGTGCTCACCATAAATGCAATCTCATCAAGGAAGGCCTCAAATATGATCCTCCCCCTGATGGCACTCATGACTCCCATGACAATGCATGAGGTGAGGATGGCGACGATGCTGTTCTGCACTGTTGTCATAATAGGGGTGCTTCATCAGAATTCAAAAGACACATCTATGCAAAAGACCATTCCCATTGTAGCCCTGACACTGACCTCATACATGGGCTTGACCCAGCCCTTTCTAGGGCTGTGTGCATACATGTCCACGCAGGTGTTTGGCAGAAGGAGTATACCTGTGAATGAAGCCTTGGCAGCGGCTGGCTTGGTGGGAGTGCTAGCAGGGCTAGCCTTCCAAGACATGGAAAACTTTTTGGGTCCAATAGCGGTGGGGGGGATCCTCATGATGCTAGTTAGTGTGGCAGGGAGAGTTGATGGACTAGAGCTCAAGAAACTTGGTGAAATCTCCTGGGAAGAAGAAGCTGAAATAAGCGGAAGCTCTAGCCGCTATGATGTGGCACTCAGTGAGCAGGGTGAATTTAAACTCCTCTCAGAGGACAAAGTGCCCTGGGACCAGATAGTAATGACATCCCTAGCCCTCGTGGGAGCAGCCATACATCCATTTGCCCTCTTGCTGGTCCTGGGAGGATGGATCCTGCACATTAAAGGTGCTAGGAGGAGTGGGGATGTTCTTTGGGACATTCCCACGCCAAAGGTGATTGAGGAATGTGAGCACCTGGAGGATGGAATCTATGGCATATTCCAGTCAACCTTCCTTGGAGCCTCGCAGCGAGGTGTTGGAGTGGCGCAGGGAGGGGTCTTCCACACAATGTGGCATGTCACTAGGGGAGCATTCCTCTTGAGGAATGGAAAGAAACTGGTTCCGTCTTGGGCTTCTGTGAAGGAAGATCTGGTGGCTTATGGTGGTTCCTGGAAACTAGACGGGAGATGGGATGGTGAGGAGGAAGTCCAACTCATCGCTGCTGTGCCTGGAAAATCTGTTGTCAACGTTCAAACAAAACCAAGCTTGTTCAGAGTGAAAAATGGTGGTGAGATTGGAGCAGTTGCTCTGGACTACCCCAGTGGAACCTCAGGCTCCCCCATTGTGAACCGAAATGGTGAAGTGGTCGGGCTCTATGGCAATGGAATTCTGGTGGGTGATAACTCCTTTGTGTCTGCCATCTCACAAACTGAATTGAAGGAAGAATCCAAAGAAGAACTGCAAGAAATACCAACTATGCTGAAGAAAGGAATGACCACCATCCTTGACTTCCACCCTGGGGCGGGGAAAACCCGTAGGTTCCTGCCTCAAATATTGGCGGAGTGTGCCAGAAGGCGTTTGCGCACTCTGGTATTAGCACCCACCAGGGTTGTTTTGTCAGAGATGAAAGAAGCTTTTCAGGGGTTGGATGTGAAATTCCACACACAAGCTTTCTCAGCCCATGGGAGTGGGAAGGAGGTCATTGATGCAATGTGCCATGCAACCCTTACATATAGAATGCTGGAACCAACAAGGGTAGTCAACTGGGAGGTCATTATCATGGATGAGGCGCACTTCCTGGACCCTGCTAGCATAGCAGCGAGAGGCTGGGCGGCTCATAGAGCAAGAGCAAATGAGAGCGCCACCATACTTATGACCGCCACCCCACCAGGCACCAGTGACGAGTTCCCTCACTCCAATGGTGAGATTGAGGACGTCCAGACTGACATCCCCAGCGAGCCATGGACCGCAGGACATGAATGGATCTTGGCGGACAAGCGACCAACTGCATGGTTCCTTCCATCGATCAGAGCAGCAAATGTCATGGCAGCCTCGCTGCGGAAAGCGGGGAAAAATGTGGTGGTGCTGAATAGGAAAACCTTTGAAAAGGAGTACCCCACCATTAAGCAGAAGAAACCGGATTTCATACTTGCCACCGATATCGCTGAGATGGGAGCAAACCTGTGTGTGGAGAGAGTCTTGGACTGCAGAACTGCCTACAAGCCTGTCCTGGTTGATGAAGGGAAGAAGGTGGCCATCAAAGGGCCGCTACGAATCTCAGCGTCATCGGCCGCTCAGAGGAGAGGACGCATTGGACGCAATCCCAACAGAGATGGTGACTCTTACTACTACTCAGAACCTACCAGTGAGGACAATGCACACCATGTGTGCTGGCTGGAGGCTTCCATGCTCCTGGATAACATGGAGGTTAGAGGGGGGATGGTTGCTCCACTTTATGGCATTGAGGGAACAAAGACTCCCGTCTCTCCAGGAGAAATGAGGCTAAGAGATGATCAGAGAAGGGTCTTTAGAGAGTTGGTGCGAGGGTGTGATTTGCCAGTGTGGTTGGCATGGCAAGTGGCAAAAGCTGGCCTGAAGACCAATGACCGCAAATGGTGTTTTGAGGGTCCTGAAGAGCATGAAATACTCAATGACAATGGTGAAACAGTAAAGTGTAGATCTCCGGGCGGAGCAAAAAGAGCATTGAGACCTAGATGGTGTGACGAGAGAGTTTCCTCAGACCAGAGTGCCTTGGCTGACTTCATCAAGTTTGCAGAAGGCAGAAGAGGGGCTGCTGAGATGCTTGTGATCCTCACGGAGTTGCCCGATTTCCTGGCAAAGAAGGGTGGGGAGGCCATGGATACCATCAGTGTGTTCCTACATTCTGAAGAGGGTTCAAGAGCGTACAGAAATGCCCTGTCAATGATGCCAGAAGCCATGACCATTGTCATGCTCTTCCTGCTTGCCGGACTCTTGACCTCAGGAGCGGTGATTTTCTTCATGTCGCCTAAAGGCATGAGTAGAATGTCAATGGCAATGGGTACCATGGCTGGCAGTGGATATCTCATGTTTTTGGGGGGAGTAAAACCAACCCACATCTCTTACGTCATGTTAATATTCTTTGTCCTCATGGTCGTCGTAATTCCCGAACCAGGACAGCAGAGAACAATCCAGGATAACCAAGTTGCCTATCTCATAATTGGGATCTTGACATTGCTATCAGTTGTGGCAGCTAATGAACTAGGGATGCTGGAGAAGACCAAGGAAGATTTTTTTGGAAAGAGAGACATCACAACACCAAGTGGGGCTATCCCATGGAGTTGGCCTGACCTGGATCTGAAACCTGGGGCAGCCTGGACAGTCTATGTGGGAATCGTGACGATGTTGTCTCCCATGTTACATCATTGGATAAAAGTTGAGTATGGCAATTTGTCACTATCGGGAATAGCCCAATCTGCCTCAGTTCTTTCATTTATGGACAAAGGAATTCCCTTCATGAAAATGAACATATCTGTGGTCATACTTTTGGTCAGTGGCTGGAATTCAATCACAGTGATCCCTCTGTTGTGCGGCATTGGTGGAGCCATGTTGCACTGGACGCTCATACTTCCTGGGATTAAAGCCCAGCAATCAAAGCTGGCTCAAAAAAGAGTTTTTCATGGAGTGGCAAAAAATCCAGTTGTTGATGGTAATCCAACTGCTGACATTGAGGAAGCCCCAGAAATGCCAGCTTTATATGAAAAGAAGCTGGCTCTTTACCTCCTTCTGGCCCTAAGCCTCATGTCAGTTGCCATGTGCAGAACCCCTTTTTCCTTAGCGGAAGGAATAGTATTGTCATCTGCCGCCCTTGGACCTCTCATTGAGGGGAACACTAGTCTGTTGTGGAATGGCCCAATGGCCGTTTCCATGACTGGAGTCATGCGTGGCAACTACTATGCTTTTGTGGGAGTCATGTACAATCTCTGGAAAATGAAAACAGAGCGTAGAGGGAGTGCAAGTGGAAAAACATTGGGTGAGGTCTGGAAGCGTGAACTCAACTTGCTAGACAAACAACAATTTGAAATGTACAAAAGAACAGACATCATTGAGGTGGACCGAGACATGGCACGACGACACTTGGCAGAGGGAAAGGTGGACACGGGAGTGGCCGTGTCGAGAGGGACTGCAAAGCTGAGATGGTTCCACGAGCGTGGCTATGTGAAGCTAGAAGGAAGGGTCACCGATCTTGGGTGTGGACGTGGAGGCTGGTGCTACTATGCAGCAGCTCAAAAAGAAGTTAGTGGTGTGAAGGGGTATACCCTTGGCAGAGATGGTCATGAGAAACCTATGAATGTCCAAAGCTTGGGATGGAATATTGTGACTTTTAAGGACAAGACTGATGTTCACCGACTGGAGCCACTCAAGTGTGAAACTCTCCTCTGTGACATTGGAGAATCGTCCCCATCCTCCGCAACTGAGG---GTGAGAGGACCTTAAGAGTTCTGGACACAGTTGAAAAGTGGTTGGCTTGTGGAGTGGACAACTTTTGCATCAAAGTTCTGGCACCATACATGCCCGATGTGATAGAGAAACTGGAGCTTCTTCAAAGAAGATTCGGTGGAACCGTCATTAGGAATCCTCTTTCCAGGAATTCCACTCATGAAATGTACTACGTGTCAGGAGCAAGAAGTAACATCACATTCACAGTCAATCAGACATCACGCCTGCTGATGCGAAGGATGAGGCGGCCCACAGGCAAAGTTACCTTGGAAGCTGATGTTATTCTTCCGATAGGCACGCGCAGTGTGGAAACTGATAAAGGCCCATTGGATAAGGATGCTATTGAGGAAAGAGTTGAGAGAATCAAGAATGAATATGCCACTACATGGTTCTATGACAATGACAACCCGTATAGAACGTGGCATTATTGTGGCTCCTATGTGACCAAAACGTCAGGAAGTGCAGCCAGCATGATAAATGGAGTTATCAAAATCTTAACTTTTCCATGGGACAGAATAGAAGAAGTCACAAGAATGGCAATGACTGACACCACACCTTTTGGACAACAAAGAGTTTTCAAGGAGAAAGTAGACACAAGAGCAAAAGACCCTCCTGCTGGAACAAGGAAGATCATGAAGGTGGTGAATAGATGGTTGTTTCGGCATCTGTCCAGGGAGAAGAACCCTAGGTTGTGCACCAAAGAAGAGTTCATTGCCAAAGTGCGGAGCCATGCCGCAGTGGGGGCTTTTCTAGAGGAGCAAGAGCAGTGGAAAACGGCCAATGAGGCAGTCCAGGATCCAAAGTTTTGGGAGATGGTCGATGCAGAACGCAAACTTCATCAGCAGGGGCGATGCCAGTCCTGTGTGTACAACATGATGGGAAAGAGGGAAAAGAAACTCTCTGAATTTGGAAAGGCCAAAGGGAGCCGTGCTATCTGGTACATGTGGCTTGGGGCACGGTTTCTTGAGTTTGAGGCTCTTGGGTTCTTAAATGAAGATCACTGGGCCTCCCGGGAGAACTCGGGGGGAGGAGTTGAGGGCACAGGACTCCAGTACTTGGGCTATGTTATCAGGGACTTGTCAGCCAAAGAAGGTGGAGGGTTTTATGCTGATGACACCGCCGGCTGGGACACACGCATCACAGAAGCTGACCTGGATGACGAGCAAGAGATCATGAGTTACATGAGCCCTGAACAAAGGAAGCTGGCCTGGGCCATAATGGAAATGACATACAAGAACAAAGTGGTCAAGGTGCTGAGGCCAGCCCCAGGAGGCAAGGCCTTCATGGACATCATCAGCCGGAGAGACCAAAGGGGGTCAGGACAAGTTGTGACATACGCCCTCAACACCATAACCAATCTAAAAGTCCAGCTCATAAGAATGGCTGAAGCTGAAATGGTGATTAACCATCAGCATGTGCAGGAGTGTGGTGAAAATGTCTTAGAGCGGCTCGAAACTTGGCTTGCTGAAAATGGATGTGACAGATTGAGCCGAATGGCTGTGAGTGGAGATGATTGTGTGGTGAGACCGGTGGATGACAGATTTGGTCTGGCCCTTTCCCATCTCAATGCAATGTCCAAAGTTAGGAAGGACATATCAGAATGGCAACCCTCCAAAGGATGGACAGATTGGGAAAATGTTCCTTTCTGCTCTCACCACTTCCATGAACTGGTGTTGAAAGATGGGAGGAAGATAGTGGTGCCTTGCAGAGACCAAGATGAACTGATAGGGAGAGGGAGAGTGTCCCCAGGAAATGGCTGGATGATCAAGGAAACAGCCTGCCTCAGCAAAGCTTATGCAAACATGTGGTCACTGATGTACTTCCACAAGAGGGACATGAGGCTACTTTCATTTGCTGTTTCCTCCGCTGTTCCAACAGCCTGGGTGCCCAGTGGAAGGACGACGTGGTCTGTCCACGGAAGAGGGGAGTGGATGACCACTGAGGACATGCTAGATGTCTGGAACAGGGTGTGGGTGTTGAATAACCCGCACATGACGGACAAAACAACCATCAAGGAGTGGAGAGATGTTCCCTACCTCACAAAGAGACAGGATAAGCTTTGCGGGTCACTGATAGGAATGACAAACAGGGCCACATGGGCATCTCACATCCACCTTGTGATCCACCGGATCAGAACTCTAATAGGTCAAGAGAAGTTCACAGACTACCTCACCGTCATGGACAGGTATTCTGTTGATGCTGACCTTCAGCCAGGAGAGCTTA\n",
      "\n",
      "Definition Line for sequence 2:\n",
      ">11089:ncbi:2\t[U54798]\t11089\tncbi\t2\t[U54798]\t11089\tIvory_Coast_1982\n",
      "10,237 bases:\n",
      "ATGTCTGGTCGCAAAGCTCAGGGAAAAACCCTGGGCGTCAATATGGTTCGACGGGGAGTCCGCTCCTTGTCAAACAAAATAAAACAAAAAACAAAACAAATTGGAAACAGACCTGGACCTTCAAGAGGTGTTCAAGGATTTATCTCTTTCTTCTCGTTCAACATTCTGACTGGAAAGAAGATCACGGCTCACCTAAAGAGGTTGTGGAAAATGCTAGACCCAAGGCAAGGCCTGGCTGTTCTGAGGAAAGTTAAAAGAGTGGTGGCTGGCTTGATGAGAGGGTTGTCTTCAAGGAAACGCCGCTCCCATGATGTCTTGACTGTGCAATTTCTGATTCTGGGAATGCTGCTGATGGCGGGTGGAGTTACCTTGGTGCGGAAAAACAGATGGCTACTCTTAAATGTGACATCTGAGGACCTTGGGAAGACCTTTTCTGTGGGCACAGGCAACTGTACAACAAACATTCTAGAAGCCAAGTACTGGTGCCCCGATTCAATGGAATACAACTGTCCCAATCTTAGCCCAAGAGAGGAGCCTGATGACATCGATTGCTGGTGTTACGGAGTGGAAAATGTTAGAGTTGCATATGGTAAGTGTGACTCAGCAGGCAGGTCGAGGAGGTCAAGAAGAGCCATTGATTTGCCCACGCATGAAAACCATGGCCTGAAAACTCGGCAAGAAAAATGGATGACTGGAAGAATGGGGGAGAGGCAACTCCAAAAGATTGAGAGATGGCTTGTGAGGAATCCCTTCTTTGCAGTAACAGCCCTGGCCATCGCCTACCTTGTGGGCAGCAACATGACACAACGAGTCGTGATTGCCCTGCTGGTTTTGGCTGTTGGCCCGGCTTACTCAGCTCACTGCATTGGAATCACTGACAGGGATTTCATTGAGGGGGTGCACGGAGGAACCTGGGTTTCAGCCACCTTGGAGCAAGACAAGTGTGTCACTGTCATGGCCCCTGACAAGCCTTCACTGGACATCTCACTGGAGACAGTGGCCATTGATGGACCTGCTGAGGCAAGAAAAGTGTGTTACAATGCAGTCCTTACCCATGTGAAGATCAATGACAAGTGCCCTAGCACTGGTGAGGCCCATTTAGCTGAAGAGAATGAGGGGGATAATGCGTGTAAGCGCACCTATTCGGACAGAGGCTGGGGAAACGGCTGTGGCCTGTTTGGGAAGGGAAGCATTGTGGCATGCGCCAAGTTCACTTGTGCCAAGTCCATGAGCTTGTTTGAGGTTGACCAGACAAAGATCCAGTACGTCATCAGAGCACAATTACATGTTGGGGCAAAGCAGGAAAATTGGAATACCGATATCAAAACTCTCAAGTTTGATGCGTTGTCAGGCTCTCAGGAAGCCGAGTTTACTGGGTATGGAAAAGCTACTCTGGAATGCCGGGTGCAGACTGCAGTAGACTTTGGCAACAGTTACATTGCTGAGATGGAGAAAGAGAGTTGGATAGTGGACAGGCAATGGGCCCAGGATCTAACCTTACCATGGCAGAGCGGTAGCGGCGGGGTGTGGAGAGAAATGCACCATCTTGTTGAATTTGAACCCCCTCACGCCGCAACCATCAGAGTGTTAGCCCTAGGAAACCAGGAAGGCTCTTTGAAAACAGCCCTTACAGGTGCAATGAGGGTCACAAAGGACACCAATGATAACAATCTGTACAAACTACATGGTGGACATGTTTCCTGTAGAGTGAAACTGTCAGCTTTAACACTCAAGGGGACATCCTACAAAATGTGCACAGATAAAATGTCCTTTGTCAAGAACCCGACTGACACTGACCATGGCACTGTTGTGATGCAGGTGAAAGTGCCAAAAGGAGCTCCCTGCAAGATCCCAGTGATAGTGGCTGATGATCTTACAGCAGCAATCAATAAAGGCATTTTGGTTACAGTTAACCCCATCGCCTCAACCAATGATGATGAAGTGCTGATTGAGGTGAATCCACCCTTTGGAGATAGTTACATCATAGTTGGAACGGGAGATTCACGTCTTACTTATCAGTGGCACAAAGAGGGGAGTTCAATAGGAAAGCTGTTTACCCAGACCATGAAAGGCGCAGAACGCCTGGCTGTTATGGGAGACGCTGCCTGGGATTTTAGCTCTGCTGGGGGGCTCTTCACTTCGATTGGGAAAGGAAGTCACACGGTGTTTGGCTCTGCCTTTCAGGGATTGTTTGGTGGCTTGAGCTGGATAACGAAGGTCATTATGGGCGCGGTCCTCATATGGGTTGGCATCAACACAAGAAACATGACAATGTCCATGAGTATGATCTTGGTGGGAGTGATCATGATGTTCTTGTCTCTGGGAGTTGGGGCGGATCAAGGATGTGCAATCAACTTTGGTAAGAGAGAGCTCAAGTGTGGGGATGGCATCTTCATCTTTAGAGATTCTGATGACTGGCTGAACAAGTACTCATACTACCCAGAGGATCCTGTGAAGCTTGCATCAATAGTGAAAGCCTCCTTTGAGGAAGGAAAGTGTGGCCTAAACTCAGTTGACTCCCTTGACCATGAGATGTGGAGAAGTAGGGCAGATGAGATCAATGCCATTCTCGAGGAAAATGAGGTTGACATTTCTGTTGTCGTGCAGGACCCAAAAAATGTGTACCAGAGAGGAACGCATCCATTTTCCAGAATCCGAGATGGTCTGCAGTATGGCTGGAAGACTTGGGGTAAGAACCTTGTGTTCTCCCCAGGGAGGAAGAACGGAAGCTTCATTATAGATGGAAAGTCCAGAAAAGAATGCCCGTTTTCAAACCGGGTTTGGAATTCCTTCCAGATAGAAGAGTTTGGGACAGGAGTGTTCACCACACGCGTGTACATGGACGCAGTCTTTGAATACACCATAGACTGTGATGGATCCATTCTGGGTGCAGCAGTGAATGGAAAAAAGAGTGCCCATGGGTCTCCAACATTTTGGATGGGAAGCCATGAGGTGAATGGGACATGGATGATCCACACCTTAGAGACATTAGATTATAAGGAGTGTGAGTGGCCACTGACGCACACAATAGGAACATCAGTTGAAGAAAGTGACATGTTCATGCCAAGATCAATTGGAGGCCCGGTTAGCTCCCACAATCATATTCCTGGATACAAGGTCCAGACGAATGGACCTTGGATGCAGGTGCCACTGGAAGTGAAGAGAGAAGCCTGCCCGGGGACCAGTGTGATCATTGATGGCAATTGTGATGGACGGGGAAAATCAACTAGATCCACCACAGACAGCGGGAAGATCATTCCTGAATGGTGTTGCCGCTCTTGCACAATGCCGCCTGTGAGCTTTCATGGGAATGATGGATGTTGGTACCCCATGGAAATTCGGCCAAGGAAAACACATGAAAGCCATCTGGTACGATCATGGGTAACGGCTGGAGAAATACATGCAGTCCCTTTTGGGCTGGTGAGCATGATGATAGCAATGGAGGTGGTCCTAAGGAAAAGACAGGGACCAAAGCAAATGCTAGTTGGAGGAATGGTGCTCCTGGGGGCAATGCTGGTTGGACAGGTAACTCTCCTTGATTTGCTGAAACTCACAATGGCCGTGGGACTGCATTTTCATGAGATGAACAATGGAGGAGACGCCATGTACATGGCGTTGATTGCTGCCTTTTCAATCAGGCCAGGGCTGCTCATTGGCTTTGGGCTCAGGACCCTGTGGAGCCCCCGGGAACGCCTTGTGCTGACCCTGGGTGCAGCCATGGTGGAGATTGCCCTGGGTGGCATGATGGGCGGCCTGTGGAAATATCTGAACGCAGTCTCTCTCTGCATCCTGACAATAAATGCTGTAGCCTCTAGGAAAGCATCAAACACCATCTTGCCCCTCATGGCTCTGTTAACACCTGTGACCATGGCGGAGGTGAGGCTTGCCACGATGCTCTTATGCGCCGTGGTTATCATAGGGGTCCTTCACCAGAACTCCAAGGACACCTCCATGCAAAAGACCATACCCTTGGTGGCTCTCACACTTACATCTTACCTGGGCTTGACACAACCTTTTCTGGGCCTGTGTGCATTTCTGGCAACCCGCATATTTGGGCGAAGGAGCATTCCAGTGAATGAGGCACTCGCGGCAGCTGGTTTGGTGGGAGTGCTGGCAGGACTGGCTTTCCAGGAGATGGAGAACTTCCTTGGTCCGATTGCAGTTGGAGGAATCCTGATGATGCTGGTTAGCGTGGCTGGGAGAGTAGATGGGCTTGAGCTGAAGAAGCTCGGTGAGGTTTCATGGGAAGAGGAGGCAGAGATCAGCGGGAGCTCCGCTCGCTATGATGTGGCACTCAGTGAACAGGGGGAATTCAAGCTGCTTTCTGAAGAGAAAGTGCCATGGGACCAGGTTGTGATGACCTCGCTGGCCTTGGTTGGAGCTGCCATTCATCCATCTGCTCTTCTGCTGGTCCTTGCTGGCTGGCTGTTCCATGTCAAGGGAGCTAGGAGAAGTGGGGATGTCCTGTGGGACATTCCCACTCCTAAGATCATTGAAGAATGTGAACATCTGGAGGATGGGATTTATGGCATATTCCAGTCAACCTTCTTGGGAGCCTCCCAGCGAGGAGTGGGAGTAGCACAAGGAGGGGTGTTCCACACAATGTGGCATGTCACAAGAGGAGCTTTCCTTGTCAGGAATGGCAAGAAGCTGATTCCATCTTGGGCTTCAGTAAAAGAGGACCTTGTCGCCTATGGTGGCTCATGGAAATTGGAAGGTAGATGGGATGGGGAAGAAGAGGTCCAGTTGATTGCTGCTGTACCAGGGAAGAATGTGGTCAATGTCCAGACGAAACCTAGCTTGTTCAAAGTGAGGAATGGGGGAGAAATCGGGGCGGTTGCTCTTGATTACCCAAGTGGCACTTCGGGATCTCCTATTGTCAACAGGAATGGAGAGGTGATTGGTCTGTATGGCAATGGCATTCTTGTCGGTGACAATTCATTCGTGTCCGCCATTTCCCAGACTGAGGTGAAGGAGGAAGGAAAGGAGGAGCTTCAGGAGATCCCGACAATGTTGAAGAAAGGAATGACAACTATCCTCGACTACCATCCTGGAGCTGGGAAGACGCGACGGTTTCTCCCACAGATCTTGGCTGAATGCGCACGGAGACGCCTACGCACGCTTGTGCTGGCTCCTACCAGGGTTGTTCTTTCTGAAATGAAGGAGGCTTTCCATGGCTTGGACGTGAAATTTCACACACAGGCTTTCTCCGCCCACGGCAGTGGAAGAGAAGTCATTGATGCCATGTGCCATGCCACTCTAACATATAGAATGTTGGAACCAACCAGGATTGTCAACTGGGAAGTGATCATTATGGATGAAGCCCATTTCCTGGACCCAGCCAGCATAGCAGCTAGAGGCTGGGCAGCACACAGAGCCAGGGCAAATGAAAGTGCAACAATTCTGATGACGGCCACACCGCCAGGGACCAGTGATGAATTCCCACATTCAAATGGTGAAATAGAAGATGTCCAAACGGACATACCCAGTGAACCCTGGAACACAGGGCATGATTGGATCCTGGCAGACAAAAGGCCCACGGCATGGTTCCTCCCTTCCATCAGGGCTGCAAATGTCATGGCTGCTTCCTTGCGCAAGGCTGGAAAGAGCGTGGTGGTCCTGAACAGAAAAACCTTTGAGAAAGAATACCCCACGATAAAACAGAAGAAACCTGATTTCATCTTGGCCACTGACATAGCTGAGATGGGAGCCAACCTTTGCGTGGACAGAGTGCTGGACTGCAGGACGGCTTTTAAGCCTGTACTTGTGGATGAAGGAAGGAAGGTGGCAATAAAGGGGCCACTCCGCATCTCTGCATCTTCTGCTGCCCAAAGAAGAGGACGCATTGGGAGAAATCCCAATAGAGATGGAGATTCATACTACTATTCTGAGCCCACAAGTGAGGATAATGCCCACCACGTCTGCTGGCTGGAGGCCTCAATGCTCCTGGACAACATGGAGGTGAGGGGTGGAATGGTCGCCCCACTCTATGGCATTGAAGGGACAAAAACACCAGTTTCCCCTGGTGAAATGAGACTGAGAGATGACCAGAGGAGAGTCTCCAGAGAATTGGTGAGGAACTGTGATCTGCCTGTCTGGCTGTCCTGGCAAGTGGCCAAGGCTGGTTTGAAGACGAATGACCGGAAATGGTGTTTCGATGGCCCTAAGGAACATGAAATTTTGAACGATAGTGGTGAAACAGTGAAGTGCAGGGCTCCTGGAGGAGCGAAGAGGCCTCTGCGCCCAAGGTGGTGTGATGAAAGGGTGTCATCTGATCAGAGTGCGCTTGCTGACTTCATAAAGTTCGCTGAAGGTAGAAGGGGAGCTGCAGAAATCCTGGTAGTGCTGAGTGAGCTCCCTGACTTCTTGGCGAAGAAAGGTGGAGAGGCCATGGATACCATCAGTGTGTTCCTGCATTCCGAGGAAGGCTCCAGGGCATACCGCAATGCTCTGTCAATGATGCCTGAAGCAATGACAATAGTCATGCTGTTCATACTGGCTGGATTGTTGACATCGGGAATGGTCATCTTCTTCATGTCTCCCAAAGGTATCAGTAGAATGTCCATGGCGATGGGCACAATGGCCGGCTGTGGATATCTCATGTTTCTTGGAGGCGCCAAACCCACTCATATTTCCTACATCATGCTCATATTCTTTGTCCTGATGGTAGTTGTGATTCCCGAGCCAGGGCAACAAAGGTCCATTCAGGACAATCAGGTGGCATATCTTATCATTGGCATCTTGACACTGGTCTCGGTAGTGGCAGCTAATGAATTGGGCATGCTGGAGAGAACTAAAGAAGACCTCTTTGGGAAGAAGAACTTGATTCCATCTAGCGCCTCA---CCCTGGAGTTGGCCGGATCTTGACTTAAAGCCAGGAGCGGCTTGGACTGTGTATGTTGGCATTGTCACAATCCTCTCTCCAATGTTGCACCACTGGATCAAGGTCGAGTATGGCAACCTGTCTCTGTCTGGAATAGCCCAGTCAGCCTCAGTCCTTTCTTTCATGGACAAGGGAATACCATTCATGAAGATGAACATCTCGGTCATAATACTGTTGGTTAGTGGCTGGAATTCAATAACAGTGATGCCCCTGCTTTGTGGCATAGGGTGTGCCATGCTCCACTGGACTCTCATCTTACCTGGGATCAAGGCGCAGCAGTCAAAGCTTCCACAAAGAAGGGTGTTTCATGGCGTAGCCAAGAACCCGGTGGTTGATGGAAACCCAACAGTTGACATTGAAGAAGCCCCTGAAATGCCTGCTCTGTATGAAAAGAAACTGGCCCTATATCTTCTTCTTGCTCTCAGCTTGGCCTCTGTTGCCATGTGCAGAACTCCCTTCTCACTGGCTGAAGGCATTGTCCTAGCATCAGCAGCCTTGGGGCCTCTCATAGAGGGAAACACTAGCCTTCTCTGGAACGGACCCATGGCTGTTTCCATGACAGGAGTTATGCGTGGAAACTACTATGCCTTTGTGGGAGTCATGTACAATCTGTGGAAGATGGAGACTGGACGCAGGGGGAGGGCGAATGGAAAAACTCTGGGTGAAGTCTGGAAAAGGGAGCTGAACCTGCTGGACAGGCAGCAGTTTGAGCTGTACAAAAGGACTGACATTGTGGAGGTGGACCGTGACACGGCACGCAGACATCTGGCTGAAGGAAAGGTGGACACCGGGGTGGCTGTCTCGAGGGGGACCGCAAAGTTAAGGTGGTTTCATGAACGTGGCTATGTCAAGCTGGAAGGCAGGGTGACTGACCTAGGGTGCGGACGCGGGGGCTGGTGCTACTACGCTGCTGCACAGAAGGAAGTGAGTGGGGTCAAAGGATTTACTCTTGGAAGAGAAGGCCATGAGAAACCCATGAACGTGCGAAGCCTGGGATGGAATATCATCACCTTCAAGGATAAAACTGACATCCACCACCTGGAACCAGTGAAATGTGACACCCTTCTGTGTGACATTGGAGAGTCATCATCGTCATCAGTGACAGAAG---GGGAAAGAACCATGAGAGTTCTTGATACCGTTGAGAAATGGCTGGCTTGCGGCGTTGACAATTTCTGTGTGAAGGTGTTGGCTCCATACATGCCAGATGTTCTCGAGAAGCTGGAACTGCTCCAAAGGAGGTTTGGTGGAACAGTGATCAGGAACCCTCTTTCCAGAAATTCCACTCATGAGATGTACTACGTGTCTGGAGCCCGCAGTAATGTCACATTTACTGTGAACCAAACATCTCGTCTCCTAATGAGGAGAATGAGACGTCCAACTGGCAAAGTGACCCTGGAAGCTGATGTCATTCTCCCAATTGGGACACGCAGTGTCGAGACAGACAAAGGACCCCTGAATAGAGAGGCCATAGAAGAGAGAGTTGAGAGAATAAAATCTGAGTACATGACTACCTGGTTTTATGACAATGACAACCCTTACAGGACTTGGCATTACTGTGGCTCCTATGTTACTAAAACCTCAGGGAGCGCGGCAAGCATGGTCAATGGTGTCATCAAGATTTTGACGTATCCATGGGACAGAATAGAGGAGGTTACAAGAATGGCAATGACTGACACAACCCCCTTTGGACAGCAGAGGGTGTTCAAAGAAAAAGTTGACACCAGAGCAAAGGATCCACCCGCGGGAACCAGAAAAATCATGAAAGTTGTCAACAGATGGCTCTTCCGTCACTTGGCCAGGGAGAAGAATCCTAGACTGTGCACAAAAGAAGAATTCATTGCAAAGGTCCGCAGCCACGCAGCCATTGGAGCCTACCTGGAAGAACAAGAACAGTGGAAGACTGCCAACGAGGCTGTCCAGGACCCGAAGTTTTGGGAATTGGTGGATGAAGAAAGGAGGCTGCACCAACAAGGCAGGTGCCGGACTTGCGTGTACAACATGATGGGGAAAAGAGAGAAGAAGTTGTCAGAGTTTGGGAAAGCAAAAGGAAGCCGTGCCATCTGGTACATGTGGCTGGGGGCGCGGTATCTTGAGTTTGAAGCCCTAGGATTCCTGAATGAAGACCATTGGGCATCCAGAGAGAATTCGGGGGGAGGAGTAGAAGGCATTGGTTTACAGTACCTAGGATATGTGATCAGAGACTTGGCTGCAATGGATGGTGGGGGATTCTACGCGGATGATACCGCTGGGTGGGACACACGCATCACAGAGGCAGACCTTGATGATGAACAGGAGATCCTGAATTACATGAGCTCACATCACAAAAAACTGGCACAAGCAGTGATGGAAATGACATACAAGAATAAGGTGGTGAAAGTGCTGAGACCAACACCAGGCGGGAAAGCCTACATGGATGTCATAAGCCGGAGAGACCAAAGAGGGTCCGGGCAGGTGGTGACCTATGCCCTGAACACCATCACCAACCTGAAAGTCCAATTGATCAGGATGGCAGAAGCAGAGATGGTGATACATCATCATCATGTTCAAGATTGTGATGACTCGACCTTGGTTAGACTGGAGGCATGGCTCATTGAGCATGGATGTGACAGACTGAATAGGATGGCGGTGAATGGAGACGACTGCGTGGTCCGGCCTATTGATGACAGGTTCGGCATGGCCTTGTCCCACCTCAACGCCATGTCCAAGGTTAGAAAGGACATATCTGAATGGCAGCCATCAAAAGGGTGGAATGACTGGGAGAATGTGCCCTTTTGTTCCCACCACTTCCACGAACTGCAGCTGAAGGACGGCAGGAGGATTGTGGTGCCCTGCCGGGAACAAGATGAGCTCATTGGGAGAGGAAGGGTGTCTCCAGGAAATGGCTGGATGATCAAGGAAACGGCATGCCTTAGCAAAGCCTATGCCAACATGTGGTCACTGATGTACTTTCACAAGAGGGACATGAGATTGTTGTCATTGGCTGTTTCCTCGGCCGTTCCCACCTCATGGGTCCCACAAGGACGCACGACATGGTCGATTCATGGGAAAGGGGAGTGGATGACCACGGAAGACATGCTTGAGGTGTGGAACAGGGTGTGGATAACCAATAACCCGCACATGCAGGACAAAACAGTGGTGAAAGAATGGAGGGATGTCCCCTATCTGACCAAGAGACAAGACAAGCTGTGCGGATCACTGATTGGAATGACCAACAGGGCCACCTGGGCCTCCCACATCCATTTGGTAATCCATCGCATCCGAACACTGATTGGACAGGAGAAATATACTGACTATCTGACAGTCATGGACAGATACTCTGTGGATGCTGACCTGCAACCAGGTGAGCTTA\n",
      "\n",
      "Definition Line for sequence 3:\n",
      ">11089:ncbi:3\t[DQ235229]\t11089\tncbi\t3\t[DQ235229]\t11089\tEthiopia_1961\n",
      "10,237 bases:\n",
      "ATGTCTGGTCGAAAAGCTCAGGGTAAAACCCTGGGCGTCAATATGGTAAGACGGGGAGCACGCTCCTTGTCAAACAAAATAAAACAAAAAACAAAACAGATTGGAAACAGACCTGGCCCTTCAAGAGGTGTTCAAGGATTTATTTTCTTCTTTTTGTTCAACATTCTAACTGGGAAAAAATTAACCACCCACCTGAAAAGGCTCTGGAGAATGCTTGACCCCCGACAGGGACTTGCTGTTCTGAGGAAAGTCAAGAGGGTGGTAGCCAGCTTGATGATAGGGCTGTCATCTAGGAAACGCCGCTCTAATGAGATGGCCATGATGCCACTTCTAATCTTGAGCATGGTGATTTTGGCTGGAGGGGTGACACTCGTCCGGAAAAATCGATGGTTGCTTTTGAATGTCACAGCTGAGGACTTGGGAAAGACGTTCTCATTGGGAACCGGGAACTGCACCACCAACATCCTTGAGGCAAAGTATTGGTGTCCCGACTCAATGGAATACAACTGTCCCAATCTCAGTCCCAGAGAGGAGCCTGACGACATTGACTGTTGGTGTTATGGAGTGGAAAATGTCAGAGTGGCCTATGGAAGGTGTGATGCAGTGGGGAGGTCAAAGCGGTCTAGGAGGGCAATTGATCTGCCCACGCATGAAAATCACGGACTGAAAACTCGGCAGGAGAAATGGATGGCAGGCAGAATGGGTGAGCGGCAACTCCAAAAGATTGAGCGGTGGCTGGTGAGAAATCCGTTTTTCGCCATAACAGCCTTGGCCATTGCTTATTTAGTGGGTAATAACATGACACAACGTGTCGTCATAGCTCTGCTAGTCTTAGCAGTTGGTCCAGCCTATTCTGCACATTGTATTGGGATAACTGACAGAGACTTCATTGAGGGTGTCCATGGGGGCACGTGGGTGTCAGCAACCCTAGAGCAGGGCAAGTGCGTAACTGTCATGGCTCCTGATAAACCATCATTGGATATCTCGCTCCAAACAGTGGCAATAGATGGGCCTGCTGAAGCGAGAAAGGTTTGCTACAGCGCGGTTCTCACCCATGTAAAAATCAATGACAAGTGCCCAAGCACTGGTGAGGCTCACCTCGCAGAGGAAAATGATGGTGACAATGCTTGCAAACGAACATACTCAGATAGAGGCTGGGGTAATGGTTGTGGGCTCTTTGGAAAGGGGAGTATTGTGGCATGTGCCAAATTTACGTGTGCCAAATCCATGAGCCTTTTTGAAGTGGACCAGACCAAAATCCAGTACGTTATCAGGGCTCAGCTTCATGTGGGTGCTAAGCAGGAGAACTGGAACACAGATATAAAGACACTGAAATTTGATGCCCTATCTGGCTCTCAAGAAGCCGAATTTACTGGTTATGGGAAAGCAACACTGGAGTGTCAGGTCCAGACTGCAGTTGACTTTGGGAACAGTTACATTGCAGAGATGGAGAAAGACAGCTGGATTGTTGACCGCCAGTGGGCACAAGACTTGACACTACCATGGCAGAGCGGGAGTGGTGGAATATGGAGGGAAATGCATCATCTTGTTGAGTTTGAGCCTCCTCATGCCGCCACAATCAGAGTGCTAGCCTTGGGAAACCAAGAGGGGTCTCTGAAAACAGCTCTCACAGGAGCTATGCGGGTCACTAAAGATGAAAATGACAACAACTTGTACAAGCTGCATGGTGGTCATGTCTCTTGTAGGGTGAAACTTTCAGCTCTAACTCTTAAGGGAACATCCTACAAGATGTGCACAGATAAAATGTCATTTGTGAAAAACCCAACGGACACAGGTCATGGCACGGTTGTCATGCAGGTGAAGGTCCCCAAAGGAGCCCCATGCAAGATTCCCGTGATTGTGGCTGATGACCTAACGGCTGCAGTGAACAAGGGCATACTGGTCACTGTCAACCCCATAGCATCCACAAATGATGATGAAGTCCTAATTGAAGTCAATCCCCCTTTTGGAGACAGCTACATCATTGTTGGGACTGGAGACTCAAGACTGACTTATCAGTGGCATAAGGAAGGAAGTTCAATTGGGAAACTGTTCACACAGACAATGAAGGGAGCTGAACGTCTTGCAGTGATGGGTGATGCCGCCTGGGACTTTAGCTCTGCAGGTGGTTTCTTCACGTCAGTGGGGAAAGGAATTCACACTGTGTTTGGCTCAGCTTTCCAGGGGTTGTTTGGTGGTCTGAGCTGGATTACGAAAGTCATCATGGGAGCCGTTCTCATCTGGGTAGGAATTAACACACGTAACATGACCATGTCCATGTCTATGATTCTGGTAGGTGTGATCATGATGTTCCTCTCCCTGGGTGTTGGGGCAGACCAAGGATGTGCTGTCAACTTTGGGAAGCGAGAGCTCAAATGTGGAGATGGCATCTTTGTGTTCAGAGACTCAGATGATTGGCTCACTAAGTATTCATATTATCCAGAAGACCCTGTTAAGCTGGCTTCTATCATCAAGGCCTCCCATGAAGAGGGCAAATGTGGACTGAATTCTGTGGACTCCCTTGAGCATGAAATGTGGAGGAGTAGAGCTGATGAGATCAACGCCATATTTGAGGAAAATGAGGTAGACATCTCGGTTGTTGTTCAAGACCCAAAGAATATCTATCAAAGAGGGACACATCCTTTCTCTCGGATTCGTGATGGGTTGCAGTATGGATGGAAAACCTGGGGAAAAAATCTCATCTTCTCACCCGGAAGGAAAAATGGCAGTTTCATCATTGATGGGAAGTCAAGGAAGGAATGCCCTTTCTCAAACAGAGTGTGGAACTCTTTCCAGATTGAGGAGTTTGGCATGGGAGTTTTCACAACACGGGTTTTTATGGATGCTGTTTTTGATTACTCAGTGGACTGTGATGGGGCTATACTAGGTGCAGCTGTGAATGGGAAGAAGAGCGCACACGGATCGCCCACATTCTGGATGGGAAGCCATGAGGTCAATGGAACATGGATGGTACACACACTTGAGACCCTTGATTACAAAGAGTGTGAATGGCCTTTGACACACACCATAGGAACCTCAGTGGAAGAGAGTGACATGTTCATGCCCCGTTCCATTGGAGGCCCAGTGAGCTCCCATAACCATATTCCAGGTTACAAAGTCCAAACGAATGGACCATGGATGCAAGTCCCTCTGGAAGTTAGAAGGGAGCCATGCCCGGGGACAAGTGTGGTGCTGGACACCGGCTGTGATGGACGTGGCAAATCAACCAGATCAACCACTGACAGTGGGAAAATTATTCCAGAATGGTGCTGCAGATCTTGCACTATGCCCCCAGTTAGCTTTCACGGCAGTGATGGCTGCTGGTACCCCATGGAAATCAGACCCATGAAAACCCATGAAAGCCATCTGGTGAGATCATGGGTTACCGCAGGAGAAGTGCATGCGGTTCCTTTCGGATTGGTGAGCATGATGATTGCCATGGAGGTTGTCCTACGTAAAAGACAAGGACCAAAGCAGATGCTGGTGGGAGGAATCATTTTACTTGGAGCAATGCTAGTGGGACAAGTCACGGTGCTAGATCTAGTGAAACTCATTGTGGCAGTAGGCTTGCACTTCCATGAGATCAACAATGGAGGAGATGCCATGTATATGGCTTTGATTGCGAGCTTTTCCATTCGCCCAGGCCTGCTCGTAGGCTTTGGACTGCGCACACTCTGGAGTCCTCGCGAGCGTCTCGTGATGGCATTCGGAGCAGCCATGGTCGAAGTGGCCTTGGGCGGGATGATGGGTGGACTGTGGCAGTACTTGAACGCCGTCTCACTATGTGTCCTCACCATCAACGCAATTTCTTCAAGAAAGGCGTCAAATGCGGTCCTCCCCCTGATGGCACTCTTGACTCCTGTAACAATGCATGAAGTAAGGATGGCAACAATGCTGTTCTGCACAGTGGTCATAGTGGGGGTGCTCCACCAGAATGCAAAAGACACGTCCATGCAAAAAACCATTCCCATTGTGGCTCTGACACTGACTTCATATATGGGTCTAACTCAGCCTTTTCTTGGATTGTGTGCCTACATGTCCACACAAGTGTTTGGCAGAAGAAGCATCCCTGTAAATGAAGCTCTTGCAGCAGCCGGCCTGGTAGGAGTGCTGGCAGGCCTAGCCTTCCAAGACATGGAAAATTTTTTAGGTCCGATTGCAGTGGGTGGGATACTCATGATGCTGGTCAGTGTGGCAGGGAAAGTTGATGGATTGGAACTCAAGAAGCTCGGTGAAGTCTCCTGGGAAGAGGAAGCTGAGATAAGTGGAAGCTCCAGCCGCTATGATGTGGCACTCAGTGAACAGGGAGAATTCAAGCTTCTCTCAGAGGATAAAGTGCCCTGGGACCAGATTGTCATGACTTCCTTGGCTCTCGTTGGGGCAGCGATACATCCATTTGCCCTATTACTGGTCCTAGGAGGTTGGGTTTTACACATCAAAGGAGCTAGAAGGAGCGGGGATGTTCTTTGGGACATTCCCACACCAAAAGTCATAGAGGAATGTGAGTATCTGGAAGATGGAATTTATGGCATATTTCAATCAACTTTTCTTGGAGCATCCCAGAGAGGAGTCGGAGTGGCCCAGGGGGGTGTCTTCCACACGATGTGGCACGTCACCAGAGGAGCGTTTCTCTTGAGGAACGGGAAGAAGTTAGTACCATCCTGGGCCTCTGTGAAGGAGGACTTAGTGGCCTATGGTGGATCTTGGAAGCTAGATGGAAAGTGGGATGGTGAGGAAGAGGTACAACTCATAGCTGCTGTGCCAGGAAAAGCCGTTGTCAATGTGCAAACCAAGCCAAGTGTGTTCAAAGTTAGAAATGGAGGTGAGATTGGAGCAGTTGCCTTGGACTATCCTAGCGGGACATCTGGTTCACCCATTGTGAATCGCAGTGGTGAAGTGGTGGGACTTTATGGCAATGGGATCCTGGTTGGTGACAATTCCTTTGTGTCCGCCATCTCACAAACTGAGGTGAAAGAGGAATCCAAAGAGGAACTGCAGGAAATACCAACAATGTTGAAAAAAGGAATGACAACTATCCTTGATTTCCACCCTGGTGCGGGAAAGACCCGTAGGTTCTTGCCCCAAATACTGGCAGAATGCGCCAGGAGGCGTCTACGGACGCTAGTGCTGGCGCCTACTCGGGTTGTCCTGTCAGAAATGAAGGAAGCCTTTCACGGACTTGATGTAAAGTTTCACACGCAGGCCTTTTCAGCCCATGGGAGTGGGAAAGAAGTCATTGATGCAATGTGCCACGCTACCCTCACGTACAGGATGCTGGAACCAACAAGAGCTGTTAACTGGGAGGTGATCATCATGGATGAGGCCCACTTCTTGGATCCTGCCAGCATCGCAGCAAGGGGCTGGGCAGCCCATAGGGCGAGAGCAAACGAGAGTGCCACAATACTTATGACAGCCACTCCACCAGGCACAAGTGATGAATTTCCCCATTCCAATGGTGAGATTGAGGATGTCCAAACTGACATTCCAAGTGAACCATGGACTTCAGGCCATGAGTGGATCCTAGCCGACAAGCGACCAACGGCATGGTTTCTCCCATCGATCAGAGCAGCAAATGTCATGGCCGCCTCTTTGCGGAAGGCCGGGAAGAGTGTGGTGGTGTTGAATAGGAAGACCTTTGAAAAGGAATACCCCACCATCAAACAAAAGAGGCCGGATTTCATCCTGGCCACAGACATTGCCGAAATGGGAGCAAACTTGTGCGTTGAAAGAGTGCTGGACTGTAGGACTGCATATAAACCTGTTCTGGTGGATGAAGGGAGGAAGGTGGCCATCAAAGGGCCACTACGGATTTCTGCATCATCGGCTGCTCAGAGAAGAGGGCGCATTGGACGAAACCCAAACAGGGATGGAGATTCCTACTACTATTCAGAACCCACCAGTGAGGACAATGCCCATCATGTGTGTTGGCTGGAAGCTTCCATGCTCCTTGACAACATGGAAGTTAGAGGAGGAATGGTTGCCCCGCTTTATGGAATTGAAGGGACAAAGACCCCTGTCTCCCCTGGGGAAATGAGGCTGAGAGATGATCAAAGGAGAGTCTTCAGGGAGTTGGTGCGTGGATGTGACTTACCAGTCTGGTTATCCTGGCAGGTAGCAAAGCCCGGTTTAAAAACCAATGACCGCAAGTGGTGCTTTGAAGGACCCGAGGAACACGAGATACTTAATGACAACGGTGAAACTGTGAAGTGCAGGTCACCCGGTGGAGCGAAAAAGGCACTGAGACCTAGATGGTGTGATGAAAGAGTGTCCTCAGACCAGAGCGCTTTGGCTGATTTCATCAAATTTGCCGAAGGTAGAAGAGGAGCAGCTGAGATGCTTGTGGTTCTCACGGAACTGCCTGATTTCCTGGCAAAAAAAGGTGGGGAGGCCATGGACACCATAAGTGTGTTTCTCCATTCTGAGGAGGGATCAAGAGCTTATAGAAATGCTCTGTCAATGATGCCTGAAGCCATGACCATCGTAATGCTTTTCATATTGGCTGGTCTCTTGACCTCAGGAATGGTGATTTTCTTCATGTCGCCCAAAGGCATGAGTAGGATGTCTATGGCAATGGGGACTATGGCTGGCAGCGGGTATCTCATGTTCTTGGGGGGAGTGAAACCAACACACATTTCATATGTTATGTTGATCTTTTTCGTCCTTATGGTCGTCATAATTCCAGAGCCAGGACAACAGAGGACCATCCAGGACAACCAAGTGGCCTATCTTATCATTGGAATACTCACATTGCTGTCCATTGTGGCAGCCAATGAGTTAGGAATGCTGGAAAAGACCAAGGAAGACTTTTTTGGAAGAAGGAATATTGCAACATCTGGTGGAACGATTCCATGGAGCTGGCCCGACTTGGATCTGAAACCTGGGGCCGCTTGGACTGTCTATGTGGGAATTGTGACAATGCTGTCACCAATGCTTCATCACTGGATTAAAGTGGAATATGGAAACCTCTCGCTGTCAGGAATAGCTCAGTCAGCCTCAGTCCTTTCATTCATGGACAAAGGAATTCCTTTCATGAAGATGAACATATCTGTGGTCATACTCCTGGTCAGTGGTTGGAACTCAATAACAGTGATCCCCCTGTTATGTGGAGTGGGTGGAGCCATGTTGCATTGGACGCTGATTCTTCCTGGAATCAAAGCCCAGCAGTCAAAACTGGCACAAAAAAGAGTTTTTCATGGAGTGGCAAAAAATCCAGTAGTTGATGGCAATCCAACCGCTGACATTGAAGAAGCACCTGAAATGCCTGCCTTGTATGAGAAGAAATTGGCACTGTATCTTCTTCTCGCTTTGAGCCTGATGTCAGTAGCCATGTGCAGAACTCCTTTTTCCCTAGCAGAAGGCATAGTGTTGTCATCTGCTGCTCTTGGGCCCCTAATAGAGGGAAACACAAGCTTGCTATGGAATGGTCCTATGGCCGTTTCCATGACTGGGGTCATGCGCGGCAACTACTACGCTTTTGTGGGTGTGATGTACAACCTCTGGAAGATGAAAACAGGGCGTAGAGGGAGCGCAAGCGGCAAGACACTAGGTGAGGTTTGGAAGAGGGAACTCAACCTGCTAGACAAACAGCAATTTGAGTTGTACAAGAGAACAGACATCACCGAGGTGGATCGCGACATGGCTAGGCGACATCTGGCAGAGGGGAAGGTGGATACTGGAGTGGCCGTGTCGAGGGGGACAGCAAAGCTGAGATGGTTCCACGAGCGTGGCTATGTAAAGCTGGAAGGAAGAGTCATGGATTTAGGATGTGGACGTGGAGGTTGGTGCTATTATGCAGCAGCTCAGAAAGAGGTCAGTGGTGTGAAAGGTTACACCCTGGGCAGAGATGGCCATGAAAAGCCCATGAACGTGCAAAGTTTAGGATGGAACATTGTGACCTTCAAGGACAAGACTGACATCCACAGGCTAGAGCCAGCCAAGTGTGAAACCCTCCTTTGTGACATTGGGGAATCCTCGCCTTCTTCCGTGACCGAGG---GTGAGAGGACCTTGAGAGTTCTTGAAACAATTGAAAAGTGGCTGGCTTGTGGAGTGGACAACTTTTGTGTCAAGGTTTTAGCACCATACATGCCTGATGTGATAGAGAAATTGGAACTTCTCCAAAGAAGATTTGGCGGAACTATCATCAGGAATCCCCTTTCCAGAAACTCAACCCATGAGATGTATTATGTGTCAGGAGCAAGAAGTAACATTACCTTCACAGTCAACCAAACATCACGTCTGCTGATGAGGAGGATGAGACGACCAACAGGCAAAGTCACTCTTGAGCCCGATGTCATTCTTCCCATAGGCACACGTAGTGTGGAAACTGATAAGGGACCCCTAGACAGGGATGCCATTGAAGAGAGGGTTGAGAGAATTAAGACAGAGTATGCTGCTACATGGTTCTATGACAATGATAACCCGTATCGGACCTGGCATTACTGTGGCTCATATATCACCAAGACATCAGGCAGTGCAGCCAGCATGATAAATGGAGTCATTAAAATCTTGACCTTCCCATGGGACAGGATAGAAGAGGTTACCAGAATGGCAATGACTGACACCACGCCTTTTGGCCAACAAAGAGTCTTTAAGGAAAAGGTGGACACAAGAGCCAAAGATCCTCCTGCTGGAACTAGGAAAATCATGAAGGTGGTAAACCGTTGGTTGTTTCGACATCTGGCCCGGGAAAAGAATCCCAGGCTGTGCACAAAGGAGGAATTCATAGCCAAGGTGCGCAGTCATGCTGCGGTAGGAGCCTTCTTAGAGGAGCAGGAGCAATGGAAGACAGCCAATGAAGCGGTTCAAGACCCTAAGTTTTGGGAGATGGTTGATGCTGAGCGCAAGCTCCATCAACAGGGGCGATGCCAGTCTTGTGTCTATAACATGATGGGAAAAAGAGAGAAAAAACTATCTGAGTTTGGAAAAGCAAAAGGAAGTCGTGCGATCTGGTACATGTGGCTGGGGGCACGTTTCCTTGAGTTTGAGGCTCTTGGGTTCCTGAATGAAGATCACTGGGCCTCCAGAGAGAATTCAGGAGGGGGTGTTGAAGGCATAGGACTCCAATATCTAGGCTATGTAATCAAGGACCTGTCCACCAAAGAAGGGGGAGGATTCTATGCAGATGACACAGCAGGATGGGACACACGCATCACGGAAGCTGACCTGGATGATGAACAGGAGATCATGAGCTACATGAACGCTGAGCAGAGGAAACTGGCCTGGGCAGTGATGGAAATGACATACAAGAACAAAGTGGTCAAGGTCCTTCGACCAGCACCAGGTGGCAAGGCTTTCATGGACATCATCAGTAGGAGAGATCAAAGGGGGTCAGGGCAAGTGGTGACATACGCTCTCAACACTATCACCAATTTGAAAGTCCAGCTCATAAGGATGGCTGAAGCTGAGATGGTAATCAACCATCAGCACGTGAATGAATGTGACGAGGGCGTTTTGGCACGGCTGGACGCATGGCTTGCTGAGAATGGATGTGACAGACTTGCCCGGATGGCTGTGAGTGGAGATGATTGTGTCGTGAGGCCTGTGGATGATAGATTTGGCCTGGCTCTTTCCCATCTTAATGCCATGTCAAAAGTCAGGAAGGACATTTCAGAATGGCAGCCCTCCAAGGAGTGGACAGATTGGGAAAATGTTCCTTTCTGCTCCCACCATTTCCATGAACTTGTGTTGAAAGATGGAAGGAAAGTGGTGGTGCCCTGTAGAGACCAAGATGAGTTGATAGGGAGAGGGAGAGTGTCTCCAGGAAATGGCTGGATGATTAAAGAAACGGCTTGCCTCAGCAAGGCTTATGCAAACATGTGGTCACTGATGTATTTCCATAAGAGAGACATGAGGCTGCTCTCATTTGCTGTCTCATCAGCCGTTCCAATGGCATGGGTACCCAGTGGAAGAACAACATGGTCTGTTCATGGAAAAGGAGAGTGGATGACCACGCAAGACATGTTGGACGTCTGGAACAGAGTTTGGGTCCTAAACAACCCACACATGAAGGACAAGACCACCGTAAAGGAGTGGAGAGATGTTCCTTACCTCACAAAAAGGCAGGACAAACTCTGTGGGTCCCTGATAGGGATGACAAACAGGGCCACATGGGCCTCACACATCCACCTGGTGATCCACCGAATCCGAACCTTAATCGGCCAAGAAAAATACACAGATTATCTCACTGTGATGGACAGGTACTCGGTTGATGCTGACCTCCAACCAGGAGAGCTCA\n",
      "\n"
     ]
    }
   ],
   "source": [
    "fasta.reset_iterator()\n",
    "\n",
    "for i, seq in enumerate(fasta):\n",
    "    print(f\"Definition Line for sequence {i+1}:\")\n",
    "    print(seq['definition line'])\n",
    "    print(f\"{len(seq['sequence']):,d} bases:\")\n",
    "    print(seq['sequence'])\n",
    "    print()\n",
    "    if i >= 2: break"
   ]
  },
  {
   "cell_type": "code",
   "execution_count": 265,
   "metadata": {},
   "outputs": [
    {
     "name": "stdout",
     "output_type": "stream",
     "text": [
      "Definition Line for sequence 1:\n",
      ">11089:ncbi:1\t[AY968064]\t11089\tncbi\t1\t[AY968064]\t11089\tAngola_1971\n",
      "Parsed data:\n",
      "key: 11089:ncbi:1\n",
      "metadata:\n",
      "{'accession': 'AY968064',\n",
      " 'seqid': '11089:ncbi:1',\n",
      " 'seqnb': '1',\n",
      " 'source': 'ncbi',\n",
      " 'species': 'Angola_1971',\n",
      " 'taxonomyid': '11089'}\n",
      "====================================================================================================\n",
      "Definition Line for sequence 2:\n",
      ">11089:ncbi:2\t[U54798]\t11089\tncbi\t2\t[U54798]\t11089\tIvory_Coast_1982\n",
      "Parsed data:\n",
      "key: 11089:ncbi:2\n",
      "metadata:\n",
      "{'accession': 'U54798',\n",
      " 'seqid': '11089:ncbi:2',\n",
      " 'seqnb': '2',\n",
      " 'source': 'ncbi',\n",
      " 'species': 'Ivory_Coast_1982',\n",
      " 'taxonomyid': '11089'}\n",
      "====================================================================================================\n",
      "Definition Line for sequence 3:\n",
      ">11089:ncbi:3\t[DQ235229]\t11089\tncbi\t3\t[DQ235229]\t11089\tEthiopia_1961\n",
      "Parsed data:\n",
      "key: 11089:ncbi:3\n",
      "metadata:\n",
      "{'accession': 'DQ235229',\n",
      " 'seqid': '11089:ncbi:3',\n",
      " 'seqnb': '3',\n",
      " 'source': 'ncbi',\n",
      " 'species': 'Ethiopia_1961',\n",
      " 'taxonomyid': '11089'}\n",
      "====================================================================================================\n"
     ]
    }
   ],
   "source": [
    "definition_lines = fasta.parse_file()\n",
    "fasta.reset_iterator()\n",
    "\n",
    "for i, (k, v) in enumerate(definition_lines.items()):\n",
    "    print(f\"Definition Line for sequence {i+1}:\")\n",
    "    print(next(fasta)['definition line'])\n",
    "    print('Parsed data:')\n",
    "    print(f\"key: {k}\\nmetadata:\")\n",
    "    pprint(v)\n",
    "    print(f\"{'='*100}\")\n",
    "    if i >= 2: break"
   ]
  },
  {
   "cell_type": "markdown",
   "metadata": {},
   "source": [
    "## Explore simulated read output files (FASTQ and ALN)"
   ]
  },
  {
   "cell_type": "markdown",
   "metadata": {},
   "source": [
    "When simulating with ART Illumina,:\n",
    "- We simulated reads from referenmce sequences in a fasta file (`fasta` reader)\n",
    "- ART returns two files:\n",
    "    - a fastq file (`fastq` reader) with the reads sequences, their quality and some read metadata\n",
    "    - a aln file (`aln` reader), including:\n",
    "        - a header with the summulation command and the list of reference sequences\n",
    "        - additional metadata on each reads, including: \n",
    "            - the readid and its number (rank in the list)\n",
    "            - the read sequence itself (may include errors)\n",
    "            - the same sequence as in the reference sequence\n",
    "            - the read alignment starting position in the reference sequence\n",
    "            - the reference sequence strand\n",
    "            - the reference sequence id and its number in the sequence file            "
   ]
  },
  {
   "cell_type": "markdown",
   "metadata": {},
   "source": [
    "Like for FASTA file, `FastqFileReader` and `AlnFileReader` makes it easier to load and work with fastq and aln file"
   ]
  },
  {
   "cell_type": "code",
   "execution_count": 266,
   "metadata": {},
   "outputs": [
    {
     "name": "stdout",
     "output_type": "stream",
     "text": [
      "yf\n",
      "  |--paired_all_seq_150bp\n",
      "  |    |--paired_all_seq_150bp2.fq (0)\n",
      "  |    |--paired_all_seq_150bp2.aln (1)\n",
      "  |    |--paired_all_seq_150bp1.fq (2)\n",
      "  |    |--paired_all_seq_150bp1.aln (3)\n"
     ]
    }
   ],
   "source": [
    "files_in_tree(p2simreads);"
   ]
  },
  {
   "cell_type": "code",
   "execution_count": 267,
   "metadata": {},
   "outputs": [
    {
     "name": "stdout",
     "output_type": "stream",
     "text": [
      "paired_all_seq_150bp2.fq\n",
      "paired_all_seq_150bp2.aln\n",
      "fq reads file:  paired_all_seq_150bp2.fq\n",
      "aln reads file: paired_all_seq_150bp2.aln\n"
     ]
    }
   ],
   "source": [
    "# suffix = '1' if 'paired' in p2simreads.stem else ''\n",
    "suffix = '2' if 'paired' in p2simreads.stem else ''\n",
    "\n",
    "p2fastq = p2simreads / f\"{p2simreads.stem}{suffix}.fq\"\n",
    "print(p2fastq.name)\n",
    "assert p2fastq.is_file(), f\"{p2fastq} is not a file\"\n",
    "p2aln = p2simreads / f\"{p2simreads.stem}{suffix}.aln\"\n",
    "print(p2aln.name)\n",
    "assert p2aln.is_file(), f\"{p2aln} is not a file\"\n",
    "\n",
    "print(f\"fq reads file:  {p2fastq.name}\\naln reads file: {p2aln.name}\")\n",
    "\n",
    "fastq = FastqFileReader(p2fastq)\n",
    "assert fastq.re_rule_name is not None\n",
    "aln = AlnFileReader(p2aln)\n",
    "assert aln.re_rule_name is not None"
   ]
  },
  {
   "cell_type": "markdown",
   "metadata": {},
   "source": [
    "### Exploring information about the simreads in fastaq"
   ]
  },
  {
   "cell_type": "code",
   "execution_count": 268,
   "metadata": {},
   "outputs": [
    {
     "data": {
      "text/plain": [
       "('fastq_art_illumina_ncbi_std', 'aln_art_illumina-refseq-ncbi-std')"
      ]
     },
     "execution_count": 268,
     "metadata": {},
     "output_type": "execute_result"
    }
   ],
   "source": [
    "fastq.re_rule_name, aln.re_header_rule_name"
   ]
  },
  {
   "cell_type": "code",
   "execution_count": 269,
   "metadata": {},
   "outputs": [
    {
     "name": "stdout",
     "output_type": "stream",
     "text": [
      "Read 0:\n",
      "{'readid': '11089:ncbi:1-13600/2',\n",
      " 'readnb': '13600/2',\n",
      " 'readseq': 'AGGCTTCATTCACAGGTATACTCCTTCTGCCAAACACCTGCGTGGACATGTATGCACACAGCCCTAGAAAGGGCTGGGTCAAGCCCATGTATGAGGTCAGTGTCAGGGCTACAATGGGAATGGTCTTTTGCATAGATGTGTCTTTTGAAT',\n",
      " 'refseqnb': '1',\n",
      " 'refsource': 'ncbi',\n",
      " 'reftaxonomyid': '11089'}\n",
      "\n",
      "Read 1:\n",
      "{'readid': '11089:ncbi:1-13598/2',\n",
      " 'readnb': '13598/2',\n",
      " 'readseq': 'CACTAACTTCTTTTTGAGCTGCTGCATAGTAGCACCAGCCTCCACGTCCACACCCAAGATCGGTGACCCTTCCTTCTAGCTTCACATAGCCACGCTCGTGGAACCATCTCAGCTTTGCAGTCCCTCTCGACACGGCCACTCCCGTGTCCA',\n",
      " 'refseqnb': '1',\n",
      " 'refsource': 'ncbi',\n",
      " 'reftaxonomyid': '11089'}\n",
      "\n",
      "Read 2:\n",
      "{'readid': '11089:ncbi:1-13596/2',\n",
      " 'readnb': '13596/2',\n",
      " 'readseq': 'TGTCTTGGAAGGCTAGCCCTGCTAGCACTCCCACCAAGCCAGCCGCTGCCAAGGCTTCATTCACAGGTATACTCCTTCTGCCAAACACCTGCGTGGACATGTATGCACACAGCCCTAGAAAGGGCTGGGTCAAGCCCATGTATGAGGTCA',\n",
      " 'refseqnb': '1',\n",
      " 'refsource': 'ncbi',\n",
      " 'reftaxonomyid': '11089'}\n",
      "\n"
     ]
    }
   ],
   "source": [
    "for i, (k,v) in enumerate(fastq.parse_file(add_readseq=True).items()):\n",
    "    print(f\"Read {i}:\")\n",
    "    pprint(v)\n",
    "    print()\n",
    "\n",
    "    if i+1 >= 3: break"
   ]
  },
  {
   "cell_type": "markdown",
   "metadata": {},
   "source": [
    "### Exploring information in ALN header"
   ]
  },
  {
   "cell_type": "markdown",
   "metadata": {},
   "source": [
    "The header of ALN file includes:\n",
    "- the ART command used to simulate the reads\n",
    "- the list of reference sequences used to create the reads, with metadata"
   ]
  },
  {
   "cell_type": "markdown",
   "metadata": {},
   "source": [
    "First we can see from which reference fasta file the simulated sequences were imported, by checking the ART command in the alignment file's header. Then we can open a fasta reader for the reference fasta file as well:"
   ]
  },
  {
   "cell_type": "code",
   "execution_count": 270,
   "metadata": {},
   "outputs": [
    {
     "data": {
      "text/plain": [
       "'/usr/bin/art_illumina -i /home/vtec/projects/bio/metagentools/data/ncbi/refsequences/yf/yf_2023_yellow_fever.fa -ss HS25 -p -l 150 -f 200 -m 200 -s 10 -o /home/vtec/projects/bio/metagentools/data/ncbi/simreads/yf/paired_all_seq_150bp/paired_all_seq_150bp -rs 1723183668'"
      ]
     },
     "execution_count": 270,
     "metadata": {},
     "output_type": "execute_result"
    }
   ],
   "source": [
    "aln.header['command']"
   ]
  },
  {
   "cell_type": "markdown",
   "metadata": {},
   "source": [
    "We see that the simulated reads were generated from the reference sequences in `data/cov_data/cov_virus_sequences_ten.fa`, that is the same as the file in our `fasta`"
   ]
  },
  {
   "cell_type": "code",
   "execution_count": 271,
   "metadata": {},
   "outputs": [
    {
     "data": {
      "text/plain": [
       "PosixPath('/home/vtec/projects/bio/metagentools/data/ncbi/refsequences/yf/yf_2023_yellow_fever.fa')"
      ]
     },
     "execution_count": 271,
     "metadata": {},
     "output_type": "execute_result"
    }
   ],
   "source": [
    "fasta.path"
   ]
  },
  {
   "cell_type": "markdown",
   "metadata": {},
   "source": [
    "Then we can review the metadata available for each reference sequence, as listed in `aln`'s header.\n",
    "\n",
    "This information can be seen in `aln.header` or with the method `parse_header_reference_sequences()`"
   ]
  },
  {
   "cell_type": "code",
   "execution_count": 272,
   "metadata": {},
   "outputs": [
    {
     "name": "stdout",
     "output_type": "stream",
     "text": [
      "@SQ\t11089:ncbi:1\t[AY968064]\t11089\tncbi\t1\t[AY968064]\t11089\tAngola_1971\t10237\n",
      "@SQ\t11089:ncbi:2\t[U54798]\t11089\tncbi\t2\t[U54798]\t11089\tIvory_Coast_1982\t10237\n",
      "@SQ\t11089:ncbi:3\t[DQ235229]\t11089\tncbi\t3\t[DQ235229]\t11089\tEthiopia_1961\t10237\n",
      "@SQ\t11089:ncbi:4\t[AY572535]\t11089\tncbi\t4\t[AY572535]\t11089\tGambia_2001\t10237\n",
      "@SQ\t11089:ncbi:5\t[MF405338]\t11089\tncbi\t5\t[MF405338]\t11089\tGhana_Hsapiens_1927\t10237\n",
      "@SQ\t11089:ncbi:6\t[U21056]\t11089\tncbi\t6\t[U21056]\t11089\tSenegal_1927\t10237\n",
      "@SQ\t11089:ncbi:7\t[AY968065]\t11089\tncbi\t7\t[AY968065]\t11089\tUganda_1948\t10237\n",
      "@SQ\t11089:ncbi:8\t[JX898871]\t11089\tncbi\t8\t[JX898871]\t11089\tArD114896_Senegal_1995\t10237\n",
      "@SQ\t11089:ncbi:9\t[JX898872]\t11089\tncbi\t9\t[JX898872]\t11089\tSenegal_Aedes-aegypti_1995\t10237\n",
      "@SQ\t11089:ncbi:10\t[GQ379163]\t11089\tncbi\t10\t[GQ379163]\t11089\tPeru_Hsapiens_2007\t10237\n",
      "@SQ\t11089:ncbi:11\t[DQ118157]\t11089\tncbi\t11\t[DQ118157]\t11089\tSpain_Vaccine_2004\t10237\n",
      "@SQ\t11089:ncbi:12\t[MF289572]\t11089\tncbi\t12\t[MF289572]\t11089\tSingapore_2017\t10237\n",
      "@SQ\t11089:ncbi:13\t[KU978764]\t11089\tncbi\t13\t[KU978764]\t11089\tSudan_Hsapiens_1941\t10237\n",
      "@SQ\t11089:ncbi:14\t[JX898878]\t11089\tncbi\t14\t[JX898878]\t11089\tArD181250_Senegal_2005\t10237\n",
      "@SQ\t11089:ncbi:15\t[JX898879]\t11089\tncbi\t15\t[JX898879]\t11089\tArD181676_Senegal_2005\t10237\n",
      "@SQ\t11089:ncbi:16\t[JX898881]\t11089\tncbi\t16\t[JX898881]\t11089\tSenegal_Aedes_luteocephalus_2005\t10237\n",
      "@SQ\t11089:ncbi:17\t[JX898880]\t11089\tncbi\t17\t[JX898880]\t11089\tArD181564_Senegal_2005\t10237\n",
      "@SQ\t11089:ncbi:18\t[JX898877]\t11089\tncbi\t18\t[JX898877]\t11089\tArD181464_Senegal_2005\t10237\n",
      "@SQ\t11089:ncbi:19\t[JX898876]\t11089\tncbi\t19\t[JX898876]\t11089\tSenegal_Aedes_fucifer_2001\t10237\n",
      "@SQ\t11089:ncbi:20\t[KU978765]\t11089\tncbi\t20\t[KU978765]\t11089\tGuinea_Bissau_Hsapiens_1965\t10237\n",
      "@SQ\t11089:ncbi:21\t[JX898870]\t11089\tncbi\t21\t[JX898870]\t11089\tSenegal_Ae_fucifer_1996\t10237\n",
      "@SQ\t11089:ncbi:22\t[JX898868]\t11089\tncbi\t22\t[JX898868]\t11089\tisolate_HD117294_Senegal_1995\t10237\n",
      "@SQ\t11089:ncbi:23\t[JX898875]\t11089\tncbi\t23\t[JX898875]\t11089\tSenegal_Aedes_fucifer_2000\t10237\n",
      "@SQ\t11089:ncbi:24\t[JX898874]\t11089\tncbi\t24\t[JX898874]\t11089\tArD149194_Senegal_2000\t10237\n",
      "@SQ\t11089:ncbi:25\t[JX898873]\t11089\tncbi\t25\t[JX898873]\t11089\tArD149214_Senegal_2000\t10237\n",
      "@SQ\t11089:ncbi:26\t[MK292067]\t11089\tncbi\t26\t[MK292067]\t11089\tNetherlands_Hsapiens_Gambia_2018\t10237\n",
      "@SQ\t11089:ncbi:27\t[MK457701]\t11089\tncbi\t27\t[MK457701]\t11089\tNigeria_Hsapiens_2018\t10237\n",
      "@SQ\t11089:ncbi:28\t[MN958078]\t11089\tncbi\t28\t[MN958078]\t11089\tNigeria_Hsapiens_2018\t10237\n",
      "@SQ\t11089:ncbi:29\t[JX898869]\t11089\tncbi\t29\t[JX898869]\t11089\tCotedIvoire_Ae_africanus_1973\t10237\n",
      "@SQ\t11089:ncbi:30\t[KU978763]\t11089\tncbi\t30\t[KU978763]\t11089\tNigeria_Hsapiens_1946\t10237\n",
      "@SQ\t11089:ncbi:31\t[MF004382]\t11089\tncbi\t31\t[MF004382]\t11089\tBolivia_Hsapiens_1999\t10237\n",
      "@SQ\t11089:ncbi:32\t[JF912181]\t11089\tncbi\t32\t[JF912181]\t11089\tBrazil_Hsapiens_1983\t10237\n",
      "@SQ\t11089:ncbi:33\t[JF912179]\t11089\tncbi\t33\t[JF912179]\t11089\tBrazil_Haemagogus_sp_1980\t10237\n",
      "@SQ\t11089:ncbi:34\t[JF912183]\t11089\tncbi\t34\t[JF912183]\t11089\tBrazil_Hsapiens_1984\t10237\n",
      "@SQ\t11089:ncbi:35\t[JF912182]\t11089\tncbi\t35\t[JF912182]\t11089\tBrazil_Hsapiens_1984\t10237\n",
      "@SQ\t11089:ncbi:36\t[JF912188]\t11089\tncbi\t36\t[JF912188]\t11089\tBrazil_Hsapiens_2000\t10237\n",
      "@SQ\t11089:ncbi:37\t[JF912190]\t11089\tncbi\t37\t[JF912190]\t11089\tBrazil_Hsapiens_2002\t10237\n",
      "@SQ\t11089:ncbi:38\t[HM582851]\t11089\tncbi\t38\t[HM582851]\t11089\tTrinidadandTobago_Alouetta_seniculus_2009\t10237\n",
      "@SQ\t11089:ncbi:39\t[KM388814]\t11089\tncbi\t39\t[KM388814]\t11089\tVenezuela_Portuguesa_Hsapiens_2005\t10237\n",
      "@SQ\t11089:ncbi:40\t[KM388815]\t11089\tncbi\t40\t[KM388815]\t11089\tVenezuela_Apure_Aseniculus_2007\t10237\n",
      "@SQ\t11089:ncbi:41\t[KM388818]\t11089\tncbi\t41\t[KM388818]\t11089\tVenezuela_Barinas_Aseniculus_2006\t10237\n",
      "@SQ\t11089:ncbi:42\t[KM388817]\t11089\tncbi\t42\t[KM388817]\t11089\tVenezuela_Guarico_Allouetta_seniculus_2004\t10237\n",
      "@SQ\t11089:ncbi:43\t[KM388816]\t11089\tncbi\t43\t[KM388816]\t11089\tVenezuela_Monagas_Asiniculus_2010\t10237\n",
      "@SQ\t11089:ncbi:44\t[MH666058]\t11089\tncbi\t44\t[MH666058]\t11089\tBrazil_Sapajus_sp_2016\t10237\n",
      "@SQ\t11089:ncbi:45\t[MK583152]\t11089\tncbi\t45\t[MK583152]\t11089\tBrazil_SaoPaulo_Hsapiens_2017\t10237\n",
      "@SQ\t11089:ncbi:46\t[MK583166]\t11089\tncbi\t46\t[MK583166]\t11089\tBrazil_SaoPaulo_Hsapiens_2018\t10237\n",
      "@SQ\t11089:ncbi:47\t[MK760660]\t11089\tncbi\t47\t[MK760660]\t11089\tNetherlands_brazil_2018\t10237\n",
      "@SQ\t11089:ncbi:48\t[MK760665]\t11089\tncbi\t48\t[MK760665]\t11089\tNetherlands_Hsapiens-from-brazil_2018\t10237\n",
      "@SQ\t11089:ncbi:49\t[MF370549]\t11089\tncbi\t49\t[MF370549]\t11089\tBrazil_monkey_2015\t10237\n",
      "@SQ\t11089:ncbi:50\t[MF370535]\t11089\tncbi\t50\t[MF370535]\t11089\tBrazil_Allouatta_sp_2016\t10237\n",
      "@SQ\t11089:ncbi:51\t[MF370533]\t11089\tncbi\t51\t[MF370533]\t11089\tBrazil_Hsapiens_2017\t10237\n",
      "@SQ\t11089:ncbi:52\t[MK333805]\t11089\tncbi\t52\t[MK333805]\t11089\tBrazil_IlhaGrande_Sabethes_chloropterus_2018\t10237\n",
      "@SQ\t11089:ncbi:53\t[MF370530]\t11089\tncbi\t53\t[MF370530]\t11089\tBrazil_Haemagogus-janthinomys_2017\t10237\n",
      "@SQ\t11089:ncbi:54\t[MW960207]\t11089\tncbi\t54\t[MW960207]\t11089\tYellow_fever_YF118_CAR_2018\t10237\n",
      "@SQ\t11089:ncbi:55\t[JN620362]\t11089\tncbi\t55\t[JN620362]\t11089\tUganda_Hsapiens_2010\t10237\n",
      "@SQ\t11089:ncbi:56\t[KY495641]\t11089\tncbi\t56\t[KY495641]\t11089\tChina_Hsapiens_2016\t10237\n",
      "@SQ\t11089:ncbi:57\t[KU949599]\t11089\tncbi\t57\t[KU949599]\t11089\tshanghai_2016\t10237\n",
      "@SQ\t11089:ncbi:58\t[MG589641]\t11089\tncbi\t58\t[MG589641]\t11089\tChina_Hsapiens_2016\t10237\n",
      "@SQ\t11089:ncbi:59\t[KX268355]\t11089\tncbi\t59\t[KX268355]\t11089\tChina_Hsapiens_2016\t10237\n",
      "@SQ\t11089:ncbi:60\t[KY587416]\t11089\tncbi\t60\t[KY587416]\t11089\tChina_Hsapiens_2016\t10237\n",
      "@SQ\t11089:ncbi:61\t[MH633692]\t11089\tncbi\t61\t[MH633692]\t11089\tChina_Hsapiens_2016\t10237\n",
      "@SQ\t11089:ncbi:62\t[MF004383]\t11089\tncbi\t62\t[MF004383]\t11089\t432429_S4_MF004383.1\t10237\n",
      "@SQ\t11089:ncbi:63\t[MW960207]\t11089\tncbi\t63\t[MW960207]\t11089\typ.bam from : MW960207.1\t10237\n",
      "@SQ\t11089:ncbi:64\t[ON323052]\t11089\tncbi\t64\t[ON323052]\t11089\tNigeria_2020\t10237\n",
      "@SQ\t11089:ncbi:65\t[ON323053]\t11089\tncbi\t65\t[ON323053]\t11089\tNigeria_2020\t10237\n",
      "@SQ\t11089:ncbi:66\t[ON323054]\t11089\tncbi\t66\t[ON323054]\t11089\tNigeria_2020\t10237\n",
      "@SQ\t11089:ncbi:67\t[OM066735]\t11089\tncbi\t67\t[OM066735]\t11089\tVHF-21-014/GHA/Damongo/2021\t10237\n",
      "@SQ\t11089:ncbi:68\t[OM066736]\t11089\tncbi\t68\t[OM066736]\t11089\tVHF-21-029/GHA/Daboya/2021\t10237\n",
      "@SQ\t11089:ncbi:69\t[OM066737]\t11089\tncbi\t69\t[OM066737]\t11089\tVHF-21-037/GHA/Damongo/2021\t10237\n"
     ]
    }
   ],
   "source": [
    "print('\\n'.join(aln.header['reference sequences']))"
   ]
  },
  {
   "cell_type": "markdown",
   "metadata": {},
   "source": [
    "With `AlnFileReader.parse_header_reference_sequences`, we can extract information on all the sequences used to generate the reads:"
   ]
  },
  {
   "cell_type": "code",
   "execution_count": 273,
   "metadata": {},
   "outputs": [
    {
     "name": "stdout",
     "output_type": "stream",
     "text": [
      "Reads simulated from 69 reference sequences.\n",
      "\n",
      "Reference Sequence 0:\n",
      "{'refseq_accession': 'AY968064',\n",
      " 'refseq_length': '10237',\n",
      " 'refseqid': '11089:ncbi:1',\n",
      " 'refseqnb': '1',\n",
      " 'refsource': 'ncbi',\n",
      " 'reftaxonomyid': '11089',\n",
      " 'species': 'Angola_1971'}\n",
      "\n",
      "Reference Sequence 1:\n",
      "{'refseq_accession': 'U54798',\n",
      " 'refseq_length': '10237',\n",
      " 'refseqid': '11089:ncbi:2',\n",
      " 'refseqnb': '2',\n",
      " 'refsource': 'ncbi',\n",
      " 'reftaxonomyid': '11089',\n",
      " 'species': 'Ivory_Coast_1982'}\n",
      "\n",
      "Reference Sequence 2:\n",
      "{'refseq_accession': 'DQ235229',\n",
      " 'refseq_length': '10237',\n",
      " 'refseqid': '11089:ncbi:3',\n",
      " 'refseqnb': '3',\n",
      " 'refsource': 'ncbi',\n",
      " 'reftaxonomyid': '11089',\n",
      " 'species': 'Ethiopia_1961'}\n",
      "\n"
     ]
    }
   ],
   "source": [
    "header_refseq_meta = aln.parse_header_reference_sequences()\n",
    "\n",
    "print(f\"Reads simulated from {len(header_refseq_meta)} reference sequences.\\n\")\n",
    "\n",
    "for i, (k,v) in enumerate(header_refseq_meta.items()):\n",
    "    print(f\"Reference Sequence {i}:\")\n",
    "    pprint(v)\n",
    "    print()\n",
    "\n",
    "    if i+1 >= 3: break"
   ]
  },
  {
   "cell_type": "markdown",
   "metadata": {},
   "source": [
    "We see that the first reference sequence is a **Coronavirus BtRs-BetaCoV/YN2018D**"
   ]
  },
  {
   "cell_type": "markdown",
   "metadata": {},
   "source": [
    "### Exploring metadata available for simulated read's"
   ]
  },
  {
   "cell_type": "code",
   "execution_count": 274,
   "metadata": {},
   "outputs": [
    {
     "name": "stdout",
     "output_type": "stream",
     "text": [
      "463,386 reads were simulated.\n",
      "\n",
      "Read 0\n",
      "11089:ncbi:1-13600/2\n",
      "{'aln_start_pos': '6153',\n",
      " 'read_seq_aligned': 'AGGCTTCATTCACAGGTATACTCCTTCTGCCAAACACCTGCGTGGACATGTATGCACACAGCCCTAGAAAGGGCTGGGTCAAGCCCATGTATGAGGTCAGTGTCAGGGCTACAATGGGAATGGTCTTTTGCATAGATGTGTCTTTTGAAT',\n",
      " 'readid': '11089:ncbi:1-13600/2',\n",
      " 'readnb': '13600/2',\n",
      " 'ref_seq_aligned': 'AGGCTTCATTCACAGGTATACTCCTTCTGCCAAACACCTGCGTGGACATGTATGCACACAGCCCTAGAAAGGGCTGGGTCAAGCCCATGTATGAGGTCAGTGTCAGGGCTACAATGGGAATGGTCTTTTGCATAGATGTGTCTTTTGAAT',\n",
      " 'refseq_strand': '-',\n",
      " 'refseqid': '11089:ncbi:1',\n",
      " 'refseqnb': '1',\n",
      " 'refsource': 'ncbi',\n",
      " 'reftaxonomyid': '11089'}\n",
      "\n",
      "Read 1\n",
      "11089:ncbi:1-13598/2\n",
      "{'aln_start_pos': '2421',\n",
      " 'read_seq_aligned': 'CACTAACTTCTTTTTGAGCTGCTGCATAGTAGCACCAGCCTCCACGTCCACACCCAAGATCGGTGACCCTTCCTTCTAGCTTCACATAGCCACGCTCGTGGAACCATCTCAGCTTTGCAGTCCCTCTCGACACGGCCACTCCCGTGTCCA',\n",
      " 'readid': '11089:ncbi:1-13598/2',\n",
      " 'readnb': '13598/2',\n",
      " 'ref_seq_aligned': 'CACTAACTTCTTTTTGAGCTGCTGCATAGTAGCACCAGCCTCCACGTCCACACCCAAGATCGGTGACCCTTCCTTCTAGCTTCACATAGCCACGCTCGTGGAACCATCTCAGCTTTGCAGTCCCTCTCGACACGGCCACTCCCGTGTCCA',\n",
      " 'refseq_strand': '-',\n",
      " 'refseqid': '11089:ncbi:1',\n",
      " 'refseqnb': '1',\n",
      " 'refsource': 'ncbi',\n",
      " 'reftaxonomyid': '11089'}\n",
      "\n",
      "Read 2\n",
      "11089:ncbi:1-13596/2\n",
      "{'aln_start_pos': '6102',\n",
      " 'read_seq_aligned': 'TGTCTTGGAAGGCTAGCCCTGCTAGCACTCCCACCAAGCCAGCCGCTGCCAAGGCTTCATTCACAGGTATACTCCTTCTGCCAAACACCTGCGTGGACATGTATGCACACAGCCCTAGAAAGGGCTGGGTCAAGCCCATGTATGAGGTCA',\n",
      " 'readid': '11089:ncbi:1-13596/2',\n",
      " 'readnb': '13596/2',\n",
      " 'ref_seq_aligned': 'TGTCTTGGAAGGCTAGCCCTGCTAGCACTCCCACCAAGCCAGCCGCTGCCAAGGCTTCATTCACAGGTATACTCCTTCTGCCAAACACCTGCGTGGACATGTATGCACACAGCCCTAGAAAGGGCTGGGTCAAGCCCATGTATGAGGTCA',\n",
      " 'refseq_strand': '-',\n",
      " 'refseqid': '11089:ncbi:1',\n",
      " 'refseqnb': '1',\n",
      " 'refsource': 'ncbi',\n",
      " 'reftaxonomyid': '11089'}\n",
      "\n"
     ]
    }
   ],
   "source": [
    "reads_meta = aln.parse_file(add_ref_seq_aligned=True, add_read_seq_aligned=True)\n",
    "\n",
    "print(f\"{len(reads_meta):,d} reads were simulated.\\n\")\n",
    "\n",
    "for i, (k,v) in enumerate(reads_meta.items()):\n",
    "    print(f\"Read {i}\")\n",
    "    print(k)\n",
    "    pprint(v)\n",
    "    print()\n",
    "    if i+1>=3: break"
   ]
  },
  {
   "cell_type": "markdown",
   "metadata": {},
   "source": [
    "### Comparison metadata in fasta, fastq and aln"
   ]
  },
  {
   "cell_type": "markdown",
   "metadata": {},
   "source": [
    "There is redendancy in metadata across the three sets of files (`.fa`, `.fq`, `.aln`). Let's compare them to confirm this is consistent"
   ]
  },
  {
   "cell_type": "markdown",
   "metadata": {},
   "source": [
    "Create the following list and dictionaries parsing metadata from fasta, fastq and aln:\n",
    "- `refseqs_fasta`: metadata in fasta sequence file used as reference sequences to create reads\n",
    "- `simreads`: metadata on reads, as available in the fastq read file\n",
    "- `refseqs_aln`: reference sequences with metadata as available in the aln header\n",
    "- `simread_align`: read sequence and alignment info"
   ]
  },
  {
   "cell_type": "code",
   "execution_count": 275,
   "metadata": {},
   "outputs": [],
   "source": [
    "refseqs_fasta = fasta.parse_file(add_seq=True)\n",
    "simreads = fastq.parse_file(add_readseq=True)\n",
    "refseqs_aln = aln.ref_sequences\n",
    "simread_align = aln.parse_file(add_ref_seq_aligned=True, add_read_seq_aligned=True)"
   ]
  },
  {
   "cell_type": "code",
   "execution_count": 277,
   "metadata": {},
   "outputs": [
    {
     "name": "stdout",
     "output_type": "stream",
     "text": [
      "aln_art_illumina-refseq-ncbi-std \n",
      " ^@SQ[\\t\\s]*(?P<refseqid>(?P<reftaxonomyid>\\d*):(?P<refsource>\\w*):(?P<refseqnb>\\d*))[\\t\\s]*\\[(?P<refseq_accession>[\\d\\w]*)\\][\\t\\s]*(?P=reftaxonomyid)[\\s\\t]*(?P=refsource)[\\s\\t]*(?P=refseqnb)[\\s\\t]*\\[(?P=refseq_accession)\\][\\s\\t]*(?P=reftaxonomyid)[\\s\\t]*(?P<species>\\w[\\w\\d\\/\\s\\-\\.:]*)[\\s\\t](?P<refseq_length>\\d*)$\n"
     ]
    }
   ],
   "source": [
    "print(aln.re_header_rule_name,'\\n',aln.re_header_pattern)"
   ]
  },
  {
   "cell_type": "code",
   "execution_count": 278,
   "metadata": {},
   "outputs": [
    {
     "name": "stdout",
     "output_type": "stream",
     "text": [
      "reads simulated from the following 69 full sequences from `yf_2023_yellow_fever.fa`:\n",
      "\n",
      " 00: Angola_1971\n",
      " 01: Ivory_Coast_1982\n",
      " 02: Ethiopia_1961\n",
      " 03: Gambia_2001\n",
      " 04: Ghana_Hsapiens_1927\n",
      " 05: Senegal_1927\n",
      " 06: Uganda_1948\n",
      " 07: ArD114896_Senegal_1995\n",
      " 08: Senegal_Aedes-aegypti_1995\n",
      " 09: Peru_Hsapiens_2007\n",
      " 10: Spain_Vaccine_2004\n",
      " 11: Singapore_2017\n",
      " 12: Sudan_Hsapiens_1941\n",
      " 13: ArD181250_Senegal_2005\n",
      " 14: ArD181676_Senegal_2005\n",
      " 15: Senegal_Aedes_luteocephalus_2005\n",
      " 16: ArD181564_Senegal_2005\n",
      " 17: ArD181464_Senegal_2005\n",
      " 18: Senegal_Aedes_fucifer_2001\n",
      " 19: Guinea_Bissau_Hsapiens_1965\n",
      " 20: Senegal_Ae_fucifer_1996\n",
      " 21: isolate_HD117294_Senegal_1995\n",
      " 22: Senegal_Aedes_fucifer_2000\n",
      " 23: ArD149194_Senegal_2000\n",
      " 24: ArD149214_Senegal_2000\n",
      " 25: Netherlands_Hsapiens_Gambia_2018\n",
      " 26: Nigeria_Hsapiens_2018\n",
      " 27: Nigeria_Hsapiens_2018\n",
      " 28: CotedIvoire_Ae_africanus_1973\n",
      " 29: Nigeria_Hsapiens_1946\n",
      " 30: Bolivia_Hsapiens_1999\n",
      " 31: Brazil_Hsapiens_1983\n",
      " 32: Brazil_Haemagogus_sp_1980\n",
      " 33: Brazil_Hsapiens_1984\n",
      " 34: Brazil_Hsapiens_1984\n",
      " 35: Brazil_Hsapiens_2000\n",
      " 36: Brazil_Hsapiens_2002\n",
      " 37: TrinidadandTobago_Alouetta_seniculus_2009\n",
      " 38: Venezuela_Portuguesa_Hsapiens_2005\n",
      " 39: Venezuela_Apure_Aseniculus_2007\n",
      " 40: Venezuela_Barinas_Aseniculus_2006\n",
      " 41: Venezuela_Guarico_Allouetta_seniculus_2004\n",
      " 42: Venezuela_Monagas_Asiniculus_2010\n",
      " 43: Brazil_Sapajus_sp_2016\n",
      " 44: Brazil_SaoPaulo_Hsapiens_2017\n",
      " 45: Brazil_SaoPaulo_Hsapiens_2018\n",
      " 46: Netherlands_brazil_2018\n",
      " 47: Netherlands_Hsapiens-from-brazil_2018\n",
      " 48: Brazil_monkey_2015\n",
      " 49: Brazil_Allouatta_sp_2016\n",
      " 50: Brazil_Hsapiens_2017\n",
      " 51: Brazil_IlhaGrande_Sabethes_chloropterus_2018\n",
      " 52: Brazil_Haemagogus-janthinomys_2017\n",
      " 53: Yellow_fever_YF118_CAR_2018\n",
      " 54: Uganda_Hsapiens_2010\n",
      " 55: China_Hsapiens_2016\n",
      " 56: shanghai_2016\n",
      " 57: China_Hsapiens_2016\n",
      " 58: China_Hsapiens_2016\n",
      " 59: China_Hsapiens_2016\n",
      " 60: China_Hsapiens_2016\n",
      " 61: 432429_S4_MF004383\n",
      " 62: yp\n",
      " 63: Nigeria_2020\n",
      " 64: Nigeria_2020\n",
      " 65: Nigeria_2020\n",
      " 66: VHF-21-014/GHA/Damongo/2021\n",
      " 67: VHF-21-029/GHA/Daboya/2021\n",
      " 68: VHF-21-037/GHA/Damongo/2021\n"
     ]
    }
   ],
   "source": [
    "print(f\"reads simulated from the following {len(refseqs_fasta)} full sequences from `{fasta.path.name}`:\\n\")\n",
    "print('\\n'.join([f\" {i:02d}: {refseq['species']}\" for i, refseq in enumerate(refseqs_fasta.values())]))"
   ]
  },
  {
   "cell_type": "code",
   "execution_count": 279,
   "metadata": {},
   "outputs": [
    {
     "name": "stdout",
     "output_type": "stream",
     "text": [
      "463,386 reads generated and available in fastq file.\n",
      "For each read, following metadata is available in the fastq file:\n",
      " - readid\n",
      " - readnb\n",
      " - refseqnb\n",
      " - refsource\n",
      " - reftaxonomyid\n",
      " - readseq\n"
     ]
    }
   ],
   "source": [
    "print(f\"{len(simreads):,d} reads generated and available in fastq file.\")\n",
    "print('For each read, following metadata is available in the fastq file:')\n",
    "for s in ['readid', 'readnb', 'refseqnb', 'refsource', 'reftaxonomyid', 'readseq']:\n",
    "    print(f\" - {s}\")"
   ]
  },
  {
   "cell_type": "code",
   "execution_count": 280,
   "metadata": {},
   "outputs": [
    {
     "name": "stdout",
     "output_type": "stream",
     "text": [
      "463,386 reads generated and available in aln file.\n",
      "For each read, following metadata is available in the aln file:\n",
      " - aln_start_pos\n",
      " - readid\n",
      " - readnb\n",
      " - refseq_strand\n",
      " - refseqid\n",
      " - refseqnb\n",
      " - refsource\n",
      " - reftaxonomyid\n",
      " - ref_seq_aligned\n",
      " - read_seq_aligned\n"
     ]
    }
   ],
   "source": [
    "print(f\"{len(simread_align):,d} reads generated and available in aln file.\")\n",
    "print('For each read, following metadata is available in the aln file:')\n",
    "for s in ['aln_start_pos', 'readid', 'readnb', 'refseq_strand', 'refseqid', 'refseqnb', 'refsource', 'reftaxonomyid', 'ref_seq_aligned', 'read_seq_aligned']:\n",
    "    print(f\" - {s}\")"
   ]
  },
  {
   "cell_type": "markdown",
   "metadata": {},
   "source": [
    "Check consistency between refseqs from fasta and from aln "
   ]
  },
  {
   "cell_type": "code",
   "execution_count": 281,
   "metadata": {},
   "outputs": [
    {
     "name": "stdout",
     "output_type": "stream",
     "text": [
      "ATCCGTGGGT TAGGCACCCA\n",
      "ATCCGTGGGT TGGGTGCCTA\n"
     ]
    }
   ],
   "source": [
    "# utility functions\n",
    "def complementary_strand(seq):\n",
    "    \"\"\"Converts a strand in its complementary\"\"\"\n",
    "    conv = {'A':'T', 'C':'G', 'G':'C', 'T':'A'}\n",
    "    return ''.join([conv[base] for base in seq])\n",
    "\n",
    "strand = 'ATCCGTGGGT'\n",
    "print(strand, complementary_strand(strand))\n",
    "\n",
    "def reverse_sequence(seq):\n",
    "    return seq[::-1]\n",
    "\n",
    "print(strand, reverse_sequence(strand))"
   ]
  },
  {
   "cell_type": "markdown",
   "metadata": {},
   "source": [
    "### Check aln reference sequence information"
   ]
  },
  {
   "cell_type": "code",
   "execution_count": 282,
   "metadata": {},
   "outputs": [],
   "source": [
    "# refseqid = '2591237:ncbi:1'\n",
    "# refseqid = '11128:ncbi:2'\n",
    "refseqid = '11089:ncbi:1'\n"
   ]
  },
  {
   "cell_type": "markdown",
   "metadata": {},
   "source": [
    "In the source `.fa` file"
   ]
  },
  {
   "cell_type": "code",
   "execution_count": 283,
   "metadata": {},
   "outputs": [
    {
     "data": {
      "text/plain": [
       "('AY968064', 10237)"
      ]
     },
     "execution_count": 283,
     "metadata": {},
     "output_type": "execute_result"
    }
   ],
   "source": [
    "original_seq = refseqs_fasta[refseqid]['sequence']\n",
    "original_seq_accession = refseqs_fasta[refseqid]['accession']\n",
    "\n",
    "original_seq_accession, len(original_seq)"
   ]
  },
  {
   "cell_type": "code",
   "execution_count": 284,
   "metadata": {},
   "outputs": [
    {
     "data": {
      "text/plain": [
       "dict_keys(['11089:ncbi:1', '11089:ncbi:2', '11089:ncbi:3', '11089:ncbi:4', '11089:ncbi:5', '11089:ncbi:6', '11089:ncbi:7', '11089:ncbi:8', '11089:ncbi:9', '11089:ncbi:10', '11089:ncbi:11', '11089:ncbi:12', '11089:ncbi:13', '11089:ncbi:14', '11089:ncbi:15', '11089:ncbi:16', '11089:ncbi:17', '11089:ncbi:18', '11089:ncbi:19', '11089:ncbi:20', '11089:ncbi:21', '11089:ncbi:22', '11089:ncbi:23', '11089:ncbi:24', '11089:ncbi:25', '11089:ncbi:26', '11089:ncbi:27', '11089:ncbi:28', '11089:ncbi:29', '11089:ncbi:30', '11089:ncbi:31', '11089:ncbi:32', '11089:ncbi:33', '11089:ncbi:34', '11089:ncbi:35', '11089:ncbi:36', '11089:ncbi:37', '11089:ncbi:38', '11089:ncbi:39', '11089:ncbi:40', '11089:ncbi:41', '11089:ncbi:42', '11089:ncbi:43', '11089:ncbi:44', '11089:ncbi:45', '11089:ncbi:46', '11089:ncbi:47', '11089:ncbi:48', '11089:ncbi:49', '11089:ncbi:50', '11089:ncbi:51', '11089:ncbi:52', '11089:ncbi:53', '11089:ncbi:54', '11089:ncbi:55', '11089:ncbi:56', '11089:ncbi:57', '11089:ncbi:58', '11089:ncbi:59', '11089:ncbi:60', '11089:ncbi:61', '11089:ncbi:62', '11089:ncbi:63', '11089:ncbi:64', '11089:ncbi:65', '11089:ncbi:66', '11089:ncbi:67', '11089:ncbi:68', '11089:ncbi:69'])"
      ]
     },
     "execution_count": 284,
     "metadata": {},
     "output_type": "execute_result"
    }
   ],
   "source": [
    "refseqs_fasta.keys()\n",
    "refseqs_aln.keys()"
   ]
  },
  {
   "cell_type": "markdown",
   "metadata": {},
   "source": [
    "In the output`.aln` file"
   ]
  },
  {
   "cell_type": "code",
   "execution_count": 285,
   "metadata": {},
   "outputs": [
    {
     "data": {
      "text/plain": [
       "('AY968064', 10237)"
      ]
     },
     "execution_count": 285,
     "metadata": {},
     "output_type": "execute_result"
    }
   ],
   "source": [
    "assert original_seq_accession == refseqs_aln[refseqid]['refseq_accession']\n",
    "assert len(original_seq) == int(refseqs_aln[refseqid]['refseq_length'])\n",
    "\n",
    "refseqs_aln[refseqid]['refseq_accession'], int(refseqs_aln[refseqid]['refseq_length'])"
   ]
  },
  {
   "cell_type": "markdown",
   "metadata": {},
   "source": [
    "### Check alignment information"
   ]
  },
  {
   "cell_type": "code",
   "execution_count": 289,
   "metadata": {},
   "outputs": [
    {
     "name": "stdout",
     "output_type": "stream",
     "text": [
      "{'aln_start_pos': '2421',\n",
      " 'read_seq_aligned': 'CACTAACTTCTTTTTGAGCTGCTGCATAGTAGCACCAGCCTCCACGTCCACACCCAAGATCGGTGACCCTTCCTTCTAGCTTCACATAGCCACGCTCGTGGAACCATCTCAGCTTTGCAGTCCCTCTCGACACGGCCACTCCCGTGTCCA',\n",
      " 'readid': '11089:ncbi:1-13598/2',\n",
      " 'readnb': '13598/2',\n",
      " 'ref_seq_aligned': 'CACTAACTTCTTTTTGAGCTGCTGCATAGTAGCACCAGCCTCCACGTCCACACCCAAGATCGGTGACCCTTCCTTCTAGCTTCACATAGCCACGCTCGTGGAACCATCTCAGCTTTGCAGTCCCTCTCGACACGGCCACTCCCGTGTCCA',\n",
      " 'refseq_strand': '-',\n",
      " 'refseqid': '11089:ncbi:1',\n",
      " 'refseqnb': '1',\n",
      " 'refsource': 'ncbi',\n",
      " 'reftaxonomyid': '11089'}\n"
     ]
    }
   ],
   "source": [
    "pprint(simread_align['11089:ncbi:1-13598/2'])"
   ]
  },
  {
   "cell_type": "markdown",
   "metadata": {},
   "source": [
    "Select all reads generated from a single reference sequence"
   ]
  },
  {
   "cell_type": "code",
   "execution_count": 290,
   "metadata": {},
   "outputs": [
    {
     "name": "stdout",
     "output_type": "stream",
     "text": [
      "Select all reads from reference sequence '11089:ncbi:1''\n",
      "Total of 6,800 reads\n"
     ]
    }
   ],
   "source": [
    "print(f\"Select all reads from reference sequence '{refseqid}''\")\n",
    "reads_from_refseq = {k:v for k,v in simread_align.items() if v['refseqid']==refseqid}\n",
    "nbr_generated_reads = len(reads_from_refseq)\n",
    "print(f\"Total of {nbr_generated_reads:,d} reads\")"
   ]
  },
  {
   "cell_type": "code",
   "execution_count": 291,
   "metadata": {},
   "outputs": [
    {
     "name": "stdout",
     "output_type": "stream",
     "text": [
      "{'aln_start_pos': '3744',\n",
      " 'read_seq_aligned': 'ATGGGTGGGCTTTGGCAGTACTTGAACGCCGTTTCACTGTGTGTGCTCACCATAAATGCAATCTCATCAAGGAAGGCCTCAAATATGATCCTCCCCCTGATGGCACTCATGACTCCCATGACAATGCATGAGGTGAGGATGGCGACGATG',\n",
      " 'readid': '11089:ncbi:1-13588/2',\n",
      " 'readnb': '13588/2',\n",
      " 'ref_seq_aligned': 'ATGGGTGGGCTTTGGCAGTACTTGAACGCCGTTTCACTGTGTGTGCTCACCATAAATGCAATCTCATCAAGGAAGGCCTCAAATATGATCCTCCCCCTGATGGCACTCATGACTCCCATGACAATGCATGAGGTGAGGATGGCGACGATG',\n",
      " 'refseq_strand': '+',\n",
      " 'refseqid': '11089:ncbi:1',\n",
      " 'refseqnb': '1',\n",
      " 'refsource': 'ncbi',\n",
      " 'reftaxonomyid': '11089'}\n"
     ]
    }
   ],
   "source": [
    "n = 6\n",
    "selected_simread = [v for k,v in reads_from_refseq.items()][n]\n",
    "pprint(selected_simread)"
   ]
  },
  {
   "cell_type": "code",
   "execution_count": 292,
   "metadata": {},
   "outputs": [],
   "source": [
    "def check_alignment(n, reads):\n",
    "    selected_simread = [v for k,v in reads.items()][n]\n",
    "    print(f\"{'='*80}\")\n",
    "    print(f\"checking read {selected_simread['readid']}\")\n",
    "    start = int(selected_simread['aln_start_pos'])\n",
    "    strand = selected_simread['refseq_strand']\n",
    "    print(f\"simread info:\")\n",
    "    print(f\" - from `{strand}` strand\")\n",
    "    print(f\" - position: {start:,d}\")\n",
    "\n",
    "    if strand == '+':\n",
    "        segment_from_refseq = original_seq[start:start+50]\n",
    "    else:\n",
    "        segment_from_refseq = complementary_strand(reverse_sequence(original_seq)[start:start+50])\n",
    "\n",
    "    print('sequences:')\n",
    "    print(f'- simread seq          :', selected_simread['read_seq_aligned'])\n",
    "    print(f'- refseq aligned       :', selected_simread['ref_seq_aligned'])\n",
    "    print(f'- segment in orig. seq :', segment_from_refseq)"
   ]
  },
  {
   "cell_type": "code",
   "execution_count": 293,
   "metadata": {},
   "outputs": [
    {
     "name": "stdout",
     "output_type": "stream",
     "text": [
      "================================================================================\n",
      "checking read 11089:ncbi:1-2/2\n",
      "simread info:\n",
      " - from `+` strand\n",
      " - position: 4,435\n",
      "sequences:\n",
      "- simread seq          : TTAAAGGTGCTAGGAGGAGTGGGGATGTTCTTTGGGACATTCCCACGCCAAAGGTGATTGAGGAATGTGAGCACCTGGAGGATGGAATCTATGGCATATTCCAGTCAACCTTCCTTGGAGCCTCGCAGCGAGGTGTTGGAGTGGCGCAGG\n",
      "- refseq aligned       : TTAAAGGTGCTAGGAGGAGTGGGGATGTTCTTTGGGACATTCCCACGCCAAAGGTGATTGAGGAATGTGAGCACCTGGAGGATGGAATCTATGGCATATTCCAGTCAACCTTCCTTGGAGCCTCGCAGCGAGGTGTTGGAGTGGCGCAGG\n",
      "- segment in orig. seq : TTAAAGGTGCTAGGAGGAGTGGGGATGTTCTTTGGGACATTCCCACGCCA\n",
      "================================================================================\n",
      "checking read 11089:ncbi:1-4/2\n",
      "simread info:\n",
      " - from `+` strand\n",
      " - position: 4,927\n",
      "sequences:\n",
      "- simread seq          : TGGGTGATAACTCCTTTGTGTCTGCCATCTCACAAACTGAATTGAAGGAAGAATCCAAAGAAGAACTGCAAGAAATACCAACTATGCTGAAGAAAGGAATGACCACCATCCTTGACTTCCACCCTGGGGCGGGGAAAACCCGTAGGTTCC\n",
      "- refseq aligned       : TGGGTGATAACTCCTTTGTGTCTGCCATCTCACAAACTGAATTGAAGGAAGAATCCAAAGAAGAACTGCAAGAAATACCAACTATGCTGAAGAAAGGAATGACCACCATCCTTGACTTCCACCCTGGGGCGGGGAAAACCCGTAGGTTCC\n",
      "- segment in orig. seq : TGGGTGATAACTCCTTTGTGTCTGCCATCTCACAAACTGAATTGAAGGAA\n",
      "================================================================================\n",
      "checking read 11089:ncbi:1-6/2\n",
      "simread info:\n",
      " - from `-` strand\n",
      " - position: 4,529\n",
      "sequences:\n",
      "- simread seq          : CCCATCTCAGCGATATCGGTGGCAAGTATGAAATCCGGTTTCTTCTGCTTAATGGTGGGGTACTCCTTTTCAAAGGTTTTCCTATTCAGCACCACCACATTTTTCCCCGCTTTCCGCAGCGAGGCTGCCATGACATTTGCTGCTCTGATC\n",
      "- refseq aligned       : CCCATCTCAGCGATATCGGTGGCAAGTATGAAATCCGGTTTCTTCTGCTTAATGGTGGGGTACTCCTTTTCAAAGGTTTTCCTATTCAGCACCACCACATTTTTCCCCGCTTTCCGCAGCGAGGCTGCCATGACATTTGCTGCTCTGATC\n",
      "- segment in orig. seq : CCCATCTCAGCGATATCGGTGGCAAGTATGAAATCCGGTTTCTTCTGCTT\n",
      "================================================================================\n",
      "checking read 11089:ncbi:1-8/2\n",
      "simread info:\n",
      " - from `-` strand\n",
      " - position: 9,320\n",
      "sequences:\n",
      "- simread seq          : ACCCAAGTGCCCCCATGGACACCTTCAATGAAATCTCTGTCGGTTATCCCTATGCAATGGGCAGAGTACGCTGGACCAACCGCTAGAACCAGTAGTGCTATTACCACTCGTTGCGTCGTGTTGTTACCCACCAGATAGGCTATTGCCAAT\n",
      "- refseq aligned       : ACCCAAGTGCCCCCATGGACACCTTCAATGAAATCTCTGTCGGTTATCCCTATGCAATGGGCAGAGTACGCTGGACCAACCGCTAGAACCAGTAGTGCTATTACCACTCGTTGCGTCGTGTTGTTACCCACCAGATAGGCTATTGCCAAT\n",
      "- segment in orig. seq : ACCCAAGTGCCCCCATGGACACCTTCAATGAAATCTCTGTCGGTTATCCC\n",
      "================================================================================\n",
      "checking read 11089:ncbi:1-10/2\n",
      "simread info:\n",
      " - from `+` strand\n",
      " - position: 1,493\n",
      "sequences:\n",
      "- simread seq          : GACACTGCCATGGCAGAGTGGGAGTGGTGGCATATGGAGAGAAATGCACCACCTTGTTGAGTTTGAGCCCCCACATGCTGCCACAATTAGGGTGCTGGCCTTGGGCAATCAAGAAGGCTCCTTGAAGACCGCTCTCACAGGCGCCATGCG\n",
      "- refseq aligned       : GACACTGCCATGGCAGAGTGGGAGTGGTGGCATATGGAGAGAAATGCACCACCTTGTTGAGTTTGAGCCCCCACATGCTGCCACAATTAGGGTGCTGGCCTTGGGCAATCAAGAAGGCTCCTTGAAGACCGCTCTCACAGGCGCCATGCG\n",
      "- segment in orig. seq : GACACTGCCATGGCAGAGTGGGAGTGGTGGCATATGGAGAGAAATGCACC\n"
     ]
    }
   ],
   "source": [
    "for n in range(nbr_generated_reads-1, nbr_generated_reads-6, -1):\n",
    "    check_alignment(n, reads_from_refseq)"
   ]
  },
  {
   "cell_type": "markdown",
   "metadata": {},
   "source": [
    "# end of section"
   ]
  }
 ],
 "metadata": {
  "kernelspec": {
   "display_name": "Python 3.10.6 ('metagentools')",
   "language": "python",
   "name": "python3"
  },
  "language_info": {
   "codemirror_mode": {
    "name": "ipython",
    "version": 3
   },
   "file_extension": ".py",
   "mimetype": "text/x-python",
   "name": "python",
   "nbconvert_exporter": "python",
   "pygments_lexer": "ipython3",
   "version": "3.10.6"
  },
  "vscode": {
   "interpreter": {
    "hash": "d79c725d3d254ae089d5edf9eb2dce3237f80d64dd85a8bedc17bd8054b8b312"
   }
  }
 },
 "nbformat": 4,
 "nbformat_minor": 1
}
