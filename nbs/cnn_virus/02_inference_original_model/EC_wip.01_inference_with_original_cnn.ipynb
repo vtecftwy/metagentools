{
 "cells": [
  {
   "cell_type": "markdown",
   "metadata": {},
   "source": [
    "# Inference with original cnn_virus trained model"
   ]
  },
  {
   "cell_type": "markdown",
   "metadata": {},
   "source": [
    "- Inference only, no training.\n",
    "- Experiments with cov_reads files\n",
    "- Trying locally"
   ]
  },
  {
   "cell_type": "markdown",
   "metadata": {},
   "source": [
    "# Imports and setup environment"
   ]
  },
  {
   "cell_type": "markdown",
   "metadata": {},
   "source": [
    "### Install and import packages"
   ]
  },
  {
   "cell_type": "code",
   "execution_count": null,
   "metadata": {},
   "outputs": [
    {
     "name": "stdout",
     "output_type": "stream",
     "text": [
      "`ecutilities` already installed\n",
      "The autoreload extension is already loaded. To reload it, use:\n",
      "  %reload_ext autoreload\n",
      "Set autoreload mode\n"
     ]
    }
   ],
   "source": [
    "try:\n",
    "    from ecutilities.ipython import nb_setup\n",
    "    print('`ecutilities` already installed')\n",
    "except ModuleNotFoundError as e:\n",
    "    print('will install ecutilities')\n",
    "    !pip install -qqU ecutilities\n",
    "    from ecutilities.ipython import nb_setup\n",
    "\n",
    "nb_setup()"
   ]
  },
  {
   "cell_type": "code",
   "execution_count": null,
   "metadata": {},
   "outputs": [],
   "source": [
    "# import configparser\n",
    "import numpy as np\n",
    "import pandas as pd\n",
    "# import psutil\n",
    "# import os\n",
    "# import shutil\n",
    "# import sys\n",
    "import tensorflow as tf\n",
    "\n",
    "from pathlib import Path\n",
    "from pprint import pprint\n",
    "from tensorflow.python.client import device_lib"
   ]
  },
  {
   "cell_type": "code",
   "execution_count": null,
   "metadata": {},
   "outputs": [
    {
     "name": "stdout",
     "output_type": "stream",
     "text": [
      "Tensorflow version: 2.8.2\n",
      "\n",
      "\n",
      "Devices:\n",
      "  - CPU  /device:CPU:0                          \n",
      "  - GPU  /device:GPU:0  NVIDIA GeForce GTX 1050 \n"
     ]
    },
    {
     "name": "stderr",
     "output_type": "stream",
     "text": [
      "2023-02-03 16:47:03.267662: I tensorflow/stream_executor/cuda/cuda_gpu_executor.cc:922] could not open file to read NUMA node: /sys/bus/pci/devices/0000:01:00.0/numa_node\n",
      "Your kernel may have been built without NUMA support.\n",
      "2023-02-03 16:47:03.268415: I tensorflow/stream_executor/cuda/cuda_gpu_executor.cc:922] could not open file to read NUMA node: /sys/bus/pci/devices/0000:01:00.0/numa_node\n",
      "Your kernel may have been built without NUMA support.\n",
      "2023-02-03 16:47:03.269173: I tensorflow/stream_executor/cuda/cuda_gpu_executor.cc:922] could not open file to read NUMA node: /sys/bus/pci/devices/0000:01:00.0/numa_node\n",
      "Your kernel may have been built without NUMA support.\n",
      "2023-02-03 16:47:04.118487: I tensorflow/stream_executor/cuda/cuda_gpu_executor.cc:922] could not open file to read NUMA node: /sys/bus/pci/devices/0000:01:00.0/numa_node\n",
      "Your kernel may have been built without NUMA support.\n",
      "2023-02-03 16:47:04.118515: I tensorflow/core/common_runtime/gpu/gpu_device.cc:1609] Could not identify NUMA node of platform GPU id 0, defaulting to 0.  Your kernel may not have been built with NUMA support.\n",
      "2023-02-03 16:47:04.119395: I tensorflow/stream_executor/cuda/cuda_gpu_executor.cc:922] could not open file to read NUMA node: /sys/bus/pci/devices/0000:01:00.0/numa_node\n",
      "Your kernel may have been built without NUMA support.\n",
      "2023-02-03 16:47:04.119432: I tensorflow/core/common_runtime/gpu/gpu_device.cc:1525] Created device /device:GPU:0 with 2753 MB memory:  -> device: 0, name: NVIDIA GeForce GTX 1050, pci bus id: 0000:01:00.0, compute capability: 6.1\n"
     ]
    }
   ],
   "source": [
    "print(f\"Tensorflow version: {tf.__version__}\\n\")\n",
    "\n",
    "devices = device_lib.list_local_devices()\n",
    "print('\\nDevices:')\n",
    "for d in devices:\n",
    "    t = d.device_type\n",
    "    name = d.physical_device_desc\n",
    "    l = [item.split(':', 1) for item in name.split(', ')]\n",
    "    name_attr = dict([x for x in l if len(x)==2])\n",
    "    dev = name_attr.get('name', ' ')\n",
    "    print(f\"  - {t}  {d.name} {dev:25s}\")"
   ]
  },
  {
   "cell_type": "markdown",
   "metadata": {},
   "source": [
    "## Install and import custom code, mount gdrive"
   ]
  },
  {
   "cell_type": "code",
   "execution_count": null,
   "metadata": {},
   "outputs": [
    {
     "data": {
      "text/plain": [
       "PosixPath('/home/vtec/projects/bio/metagentools/nbs/cnn_virus/02_inference_original_model')"
      ]
     },
     "execution_count": null,
     "metadata": {},
     "output_type": "execute_result"
    }
   ],
   "source": [
    "p = Path().absolute()\n",
    "p.absolute()"
   ]
  },
  {
   "cell_type": "code",
   "execution_count": null,
   "metadata": {},
   "outputs": [
    {
     "data": {
      "text/plain": [
       "PosixPath('/home/vtec/projects/bio/metagentools/nbs')"
      ]
     },
     "execution_count": null,
     "metadata": {},
     "output_type": "execute_result"
    }
   ],
   "source": [
    "# MODIFY AFTER INSTALLING ECUTILITIES >= 1.2.3\n",
    "\n",
    "from ecutilities.core import validate_path\n",
    "\n",
    "def safe_path(\n",
    "    path:str|Path, # path to validate\n",
    ")-> Path:          # validated path as a  pathlib.Path\n",
    "    \"\"\"\"\"\"\n",
    "    validate_path(path, path_type='dir', raise_error=True)\n",
    "    if isinstance(path, str): \n",
    "        path = Path(path)\n",
    "    return path\n",
    "\n",
    "def nbs_root_dir(\n",
    "    path:str|Path|None = None, # path from where to seek for notebook parent directory\n",
    "    pattern:str = 'nbs',       # pattern to identify the nbs directory\n",
    ")-> Path:                      # path of the parent directory\n",
    "    \"\"\"Climb the directory tree up to the notebook directory and return its path\"\"\"    \n",
    "    if path is None: path = Path()\n",
    "    path = safe_path(path).absolute()\n",
    "    tree = [path.name] + [p.name for p in path.parents]\n",
    "    mask = [True if n.startswith(pattern) else False for n in tree]\n",
    "    nbs = Path(f\"{'../' * (mask.index(True))}\").resolve()\n",
    "    return nbs\n",
    "    \n",
    "nbs = nbs_root_dir(Path())\n",
    "nbs"
   ]
  },
  {
   "cell_type": "code",
   "execution_count": null,
   "metadata": {},
   "outputs": [
    {
     "name": "stdout",
     "output_type": "stream",
     "text": [
      "Running locally\n",
      "Make sure you have installed the custom project code in your environment\n",
      "/home/vtec/projects/bio/metagentools/data\n"
     ]
    }
   ],
   "source": [
    "try:\n",
    "    from google.colab import drive\n",
    "    ON_COLAB = True\n",
    "    print('Running on colab')\n",
    "    print('Installing custom project code')   \n",
    "    !pip install -U git+https://github.com/vtecftwy/metagenomics.git@refactor_cnn_virus\n",
    "    drive.mount('/content/gdrive')\n",
    "    \n",
    "    p2drive = Path('/content/gdrive/MyDrive/Metagenonics')\n",
    "    assert p2drive.is_dir()\n",
    "    p2data =  p2drive / 'CNN_Virus_data'\n",
    "    assert p2data.is_dir()\n",
    "\n",
    "except ModuleNotFoundError as e:\n",
    "#     print(e)\n",
    "    ON_COLAB = False\n",
    "    print('Running locally')\n",
    "    print('Make sure you have installed the custom project code in your environment')\n",
    "    p2data = nbs_root_dir().parent / 'data/'\n",
    "    assert p2data.is_dir()\n",
    "    print(p2data.absolute())"
   ]
  },
  {
   "cell_type": "markdown",
   "metadata": {},
   "source": [
    "#  Setup paths"
   ]
  },
  {
   "cell_type": "markdown",
   "metadata": {},
   "source": [
    "This assumes that the shared gdrive directory is accessible through a shortcut called `Metagenomics` under the root of gdrive."
   ]
  },
  {
   "cell_type": "code",
   "execution_count": null,
   "metadata": {},
   "outputs": [],
   "source": [
    "# p2drive = Path('/content/gdrive/MyDrive/Metagenonics')\n",
    "# assert p2drive.is_dir()\n",
    "\n",
    "# p2data =  p2drive / 'CNN_Virus_data'\n",
    "# assert p2data.is_dir()"
   ]
  },
  {
   "cell_type": "code",
   "execution_count": null,
   "metadata": {},
   "outputs": [],
   "source": [
    "# path for original trained model\n",
    "p2saved = p2data / 'saved/cnn_virus_original/pretrained_model.h5'\n",
    "p2simreads = p2data / 'cov_simreads/single_10seq_50bp'\n",
    "assert p2saved.is_file()\n",
    "assert p2simreads.is_dir()\n",
    "\n",
    "#path for the learning weights file\n",
    "# filepath_weights=p2data / \"weight_of_classes\"\n",
    "# assert filepath_weights.is_file()"
   ]
  },
  {
   "cell_type": "markdown",
   "metadata": {},
   "source": [
    "# Create test dataset"
   ]
  },
  {
   "cell_type": "code",
   "execution_count": null,
   "metadata": {},
   "outputs": [],
   "source": [
    "p2fastq = p2simreads / f\"{p2simreads.stem}.fq\"\n",
    "p2aln = p2simreads / f\"{p2simreads.stem}.aln\"\n",
    "assert p2fastq.is_file()\n",
    "assert p2aln.is_file()"
   ]
  },
  {
   "cell_type": "code",
   "execution_count": null,
   "metadata": {},
   "outputs": [],
   "source": [
    "from metagentools.cnn_virus.data import FastaFileReader, FastqFileReader, AlnFileReader"
   ]
  },
  {
   "cell_type": "code",
   "execution_count": null,
   "metadata": {},
   "outputs": [],
   "source": [
    "fastq = FastqFileReader(p2fastq)\n",
    "aln = AlnFileReader(p2aln)"
   ]
  },
  {
   "cell_type": "markdown",
   "metadata": {},
   "source": [
    "Exploring the simreads"
   ]
  },
  {
   "cell_type": "code",
   "execution_count": null,
   "metadata": {},
   "outputs": [
    {
     "name": "stdout",
     "output_type": "stream",
     "text": [
      "2591237:ncbi:1-60400\n",
      "\n",
      "{'read_nbr': '60400',\n",
      " 'readid': '2591237:ncbi:1-60400',\n",
      " 'seq_nbr': '1',\n",
      " 'seqid': '2591237',\n",
      " 'sequence': 'ACAACTCCTATTCGTAGTTGAAGTTGTTGACAAATACTTTGATTGTTACG',\n",
      " 'source': 'ncbi'}\n",
      "2591237:ncbi:1-60399\n",
      "\n",
      "{'read_nbr': '60399',\n",
      " 'readid': '2591237:ncbi:1-60399',\n",
      " 'seq_nbr': '1',\n",
      " 'seqid': '2591237',\n",
      " 'sequence': 'GATCAATGTGGCATCTACAATACAGACAGCATGAAGCACCACCAAAGGAC',\n",
      " 'source': 'ncbi'}\n",
      "2591237:ncbi:1-60398\n",
      "\n",
      "{'read_nbr': '60398',\n",
      " 'readid': '2591237:ncbi:1-60398',\n",
      " 'seq_nbr': '1',\n",
      " 'seqid': '2591237',\n",
      " 'sequence': 'ATCTACCAGTGGTAGATGGGTTCTTAATAATGAACATTATAGAGCTCTAC',\n",
      " 'source': 'ncbi'}\n"
     ]
    }
   ],
   "source": [
    "for i, (k,v) in enumerate(fastq.parse_fastq(add_seq=True).items()):\n",
    "    print(k)\n",
    "    print()\n",
    "    pprint(v)\n",
    "    if i+1 >= 3: break"
   ]
  },
  {
   "cell_type": "markdown",
   "metadata": {},
   "source": [
    "Exploring alignment header (reference sequences)"
   ]
  },
  {
   "cell_type": "code",
   "execution_count": null,
   "metadata": {},
   "outputs": [
    {
     "name": "stdout",
     "output_type": "stream",
     "text": [
      "{'11120': {'refseq_accession': 'MN987231',\n",
      "           'refseq_length': '27617',\n",
      "           'refseq_nbr': '5',\n",
      "           'refseqid': '11120',\n",
      "           'source': 'ncbi',\n",
      "           'species': 'Infectious bronchitis virus  scientific name'},\n",
      " '11128': {'refseq_accession': 'LC494191',\n",
      "           'refseq_length': '30942',\n",
      "           'refseq_nbr': '2',\n",
      "           'refseqid': '11128',\n",
      "           'source': 'ncbi',\n",
      "           'species': 'Bovine coronavirus  scientific name'},\n",
      " '1699095': {'refseq_accession': 'KT368904',\n",
      "             'refseq_length': '27395',\n",
      "             'refseq_nbr': '10',\n",
      "             'refseqid': '1699095',\n",
      "             'source': 'ncbi',\n",
      "             'species': 'Camel alphacoronavirus  scientific name'},\n",
      " '2591237': {'refseq_accession': 'MK211378',\n",
      "             'refseq_length': '30213',\n",
      "             'refseq_nbr': '1',\n",
      "             'refseqid': '2591237',\n",
      "             'source': 'ncbi',\n",
      "             'species': 'Coronavirus BtRs-BetaCoV/YN2018D  scientific name'},\n",
      " '277944': {'refseq_accession': 'LC654455',\n",
      "            'refseq_length': '27516',\n",
      "            'refseq_nbr': '4',\n",
      "            'refseqid': '277944',\n",
      "            'source': 'ncbi',\n",
      "            'species': 'Human coronavirus NL63  scientific name'},\n",
      " '28295': {'refseq_accession': 'KR873434',\n",
      "           'refseq_length': '28038',\n",
      "           'refseq_nbr': '9',\n",
      "           'refseqid': '28295',\n",
      "           'source': 'ncbi',\n",
      "           'species': 'Porcine epidemic diarrhea virus  scientific name'},\n",
      " '31631': {'refseq_accession': 'KY967361',\n",
      "           'refseq_length': '30661',\n",
      "           'refseq_nbr': '3',\n",
      "           'refseqid': '31631',\n",
      "           'source': 'ncbi',\n",
      "           'species': 'Human coronavirus OC43  scientific name'}}\n"
     ]
    }
   ],
   "source": [
    "pprint(aln.ref_sequences)"
   ]
  },
  {
   "cell_type": "markdown",
   "metadata": {},
   "source": [
    "Exploring the read metadata"
   ]
  },
  {
   "cell_type": "code",
   "execution_count": null,
   "metadata": {},
   "outputs": [
    {
     "name": "stdout",
     "output_type": "stream",
     "text": [
      "2591237:ncbi:1-60400\n",
      "{'aln_start_pos': '14770',\n",
      " 'read_nbr': '60400',\n",
      " 'readid': '2591237:ncbi:1-60400',\n",
      " 'ref_seq_aligned': 'ACAACTCCTATTCGTAGTTGAAGTTGTTGACAAATACTTTGATTGTTACG',\n",
      " 'ref_seq_strand': '+',\n",
      " 'refseq_nbr': '1',\n",
      " 'refseqid': '2591237',\n",
      " 'source': 'ncbi'}\n",
      "\n",
      "2591237:ncbi:1-60399\n",
      "{'aln_start_pos': '17012',\n",
      " 'read_nbr': '60399',\n",
      " 'readid': '2591237:ncbi:1-60399',\n",
      " 'ref_seq_aligned': 'GATCAATGTGGCATCTACAATACAGACAGCATGAAGCACCACCAAAGGAC',\n",
      " 'ref_seq_strand': '-',\n",
      " 'refseq_nbr': '1',\n",
      " 'refseqid': '2591237',\n",
      " 'source': 'ncbi'}\n",
      "\n",
      "2591237:ncbi:1-60398\n",
      "{'aln_start_pos': '9188',\n",
      " 'read_nbr': '60398',\n",
      " 'readid': '2591237:ncbi:1-60398',\n",
      " 'ref_seq_aligned': 'ATCTACCAGTGGTAGATGGGTTCTTAATAATGAACATTATAGAGCTCTAC',\n",
      " 'ref_seq_strand': '+',\n",
      " 'refseq_nbr': '1',\n",
      " 'refseqid': '2591237',\n",
      " 'source': 'ncbi'}\n",
      "\n"
     ]
    }
   ],
   "source": [
    "for i, (k,v) in enumerate(aln.parse_aln(add_ref_seq_aligned=True).items()):\n",
    "    print(k)\n",
    "    pprint(v)\n",
    "    print()\n",
    "    if i+1>=3: break"
   ]
  },
  {
   "cell_type": "code",
   "execution_count": null,
   "metadata": {},
   "outputs": [],
   "source": []
  },
  {
   "cell_type": "code",
   "execution_count": null,
   "metadata": {},
   "outputs": [
    {
     "data": {
      "text/plain": [
       "True"
      ]
     },
     "execution_count": null,
     "metadata": {},
     "output_type": "execute_result"
    }
   ],
   "source": [
    "p2fasta = p2data / 'cov_data/cov_virus_sequences_ten.fa'\n",
    "p2fasta.is_file()"
   ]
  },
  {
   "cell_type": "code",
   "execution_count": null,
   "metadata": {},
   "outputs": [],
   "source": [
    "fasta = FastaFileReader(p2fasta)\n",
    "fastq = FastqFileReader(p2fastq)\n",
    "aln = AlnFileReader(p2aln)"
   ]
  },
  {
   "cell_type": "code",
   "execution_count": null,
   "metadata": {},
   "outputs": [],
   "source": [
    "refseqs_fasta = fasta.parse_fasta(add_seq=True)\n",
    "simreads = fastq.parse_fastq(add_seq=True)\n",
    "refseqs_aln = aln.ref_sequences\n",
    "simread_align = aln.parse_aln(add_ref_seq_aligned=True, add_read_seq_aligned=True)"
   ]
  },
  {
   "cell_type": "markdown",
   "metadata": {},
   "source": [
    "Check consistency between refseqs from fasta and from aln "
   ]
  },
  {
   "cell_type": "code",
   "execution_count": null,
   "metadata": {},
   "outputs": [
    {
     "data": {
      "text/plain": [
       "('MK211378', 30213)"
      ]
     },
     "execution_count": null,
     "metadata": {},
     "output_type": "execute_result"
    }
   ],
   "source": [
    "refseqid = '2591237'\n",
    "original_seq = refseqs_fasta[refseqid]['sequence']\n",
    "refseqs_fasta[refseqid]['accession'], len(original_seq)"
   ]
  },
  {
   "cell_type": "code",
   "execution_count": null,
   "metadata": {},
   "outputs": [
    {
     "data": {
      "text/plain": [
       "('MK211378', '30213')"
      ]
     },
     "execution_count": null,
     "metadata": {},
     "output_type": "execute_result"
    }
   ],
   "source": [
    "refseqs_aln[refseqid]['refseq_accession'], refseqs_aln[refseqid]['refseq_length']"
   ]
  },
  {
   "cell_type": "markdown",
   "metadata": {},
   "source": [
    "Check alignment information"
   ]
  },
  {
   "cell_type": "code",
   "execution_count": null,
   "metadata": {},
   "outputs": [
    {
     "name": "stdout",
     "output_type": "stream",
     "text": [
      "{'aln_start_pos': '14770',\n",
      " 'read_nbr': '60400',\n",
      " 'read_seq_aligned': 'ACAACTCCTATTCGTAGTTGAAGTTGTTGACAAATACTTTGATTGTTACG',\n",
      " 'readid': '2591237:ncbi:1-60400',\n",
      " 'ref_seq_aligned': 'ACAACTCCTATTCGTAGTTGAAGTTGTTGACAAATACTTTGATTGTTACG',\n",
      " 'ref_seq_strand': '+',\n",
      " 'refseq_nbr': '1',\n",
      " 'refseqid': '2591237',\n",
      " 'source': 'ncbi'}\n"
     ]
    }
   ],
   "source": [
    "pprint(simread_align['2591237:ncbi:1-60400'])"
   ]
  },
  {
   "cell_type": "code",
   "execution_count": null,
   "metadata": {},
   "outputs": [],
   "source": [
    "def opposite_strand(seq):\n",
    "    conv = {'A':'T', 'C':'G', 'G':'C', 'T':'A'}\n",
    "    return ''.join([conv[base] for base in seq])"
   ]
  },
  {
   "cell_type": "code",
   "execution_count": null,
   "metadata": {},
   "outputs": [
    {
     "name": "stdout",
     "output_type": "stream",
     "text": [
      "{'aln_start_pos': '8569',\n",
      " 'read_nbr': '60395',\n",
      " 'read_seq_aligned': 'AACATCTGAACGAAAAATGTCATCATTATAATAGACACCCCTACGCGAAG',\n",
      " 'readid': '2591237:ncbi:1-60395',\n",
      " 'ref_seq_aligned': 'AACATCTGAACGAAAAATGTCATCATTATAATAGACACCCCTACGCGAAG',\n",
      " 'ref_seq_strand': '-',\n",
      " 'refseq_nbr': '1',\n",
      " 'refseqid': '2591237',\n",
      " 'source': 'ncbi'}\n"
     ]
    }
   ],
   "source": [
    "reads_fm_refseq = {k:v for k,v in simread_align.items() if v['refseqid']==refseqid}\n",
    "n = 5\n",
    "selected_simread = [v for k,v in reads_fm_refseq.items()][n]\n",
    "pprint(selected_simread)"
   ]
  },
  {
   "cell_type": "markdown",
   "metadata": {},
   "source": [
    "Problem in the `-` sequence strand.\n",
    "\n",
    "https://github.com/scchess/Art/blob/master/art_illumina_README"
   ]
  },
  {
   "cell_type": "code",
   "execution_count": null,
   "metadata": {},
   "outputs": [
    {
     "name": "stdout",
     "output_type": "stream",
     "text": [
      "8569\n",
      "simread          :  AACATCTGAACGAAAAATGTCATCATTATAATAGACACCCCTACGCGAAG\n",
      "refseq segment   :  CAGTACATACATTGTCTGCTCATGATGGTTATACAAATGAAATCATTGGT\n",
      "refseq opposite  :  GTCATGTATGTAACAGACGAGTACTACCAATATGTTTACTTTAGTAACCA\n",
      "refseq aligned   :  AACATCTGAACGAAAAATGTCATCATTATAATAGACACCCCTACGCGAAG\n"
     ]
    }
   ],
   "source": [
    "start = int(selected_simread['aln_start_pos'])\n",
    "print(start)\n",
    "print('simread          : ', selected_simread['read_seq_aligned'])\n",
    "# print('opposite simread : ', opposite_strand(selected_simread['read_seq_aligned']))\n",
    "print('refseq segment   : ', original_seq[start:start+50])\n",
    "# print('refseq segment   : ', original_seq[-start:-(start-50)][::-1])\n",
    "print('refseq opposite  : ', opposite_strand(original_seq[start:start+50]))\n",
    "# print('refseq opposite  : ', opposite_strand(original_seq[-start:-(start-50)][::-1]))\n",
    "print('refseq aligned   : ', selected_simread['ref_seq_aligned'])"
   ]
  },
  {
   "cell_type": "code",
   "execution_count": null,
   "metadata": {},
   "outputs": [],
   "source": [
    "# seq = selected_simread['read_seq_aligned']\n",
    "# for a, b in zip(selected_simread['read_seq_aligned'], opposite_strand(original_seq[start:start+50])):\n",
    "#     print(a,b)"
   ]
  },
  {
   "cell_type": "code",
   "execution_count": null,
   "metadata": {},
   "outputs": [],
   "source": []
  },
  {
   "cell_type": "code",
   "execution_count": null,
   "metadata": {},
   "outputs": [],
   "source": []
  },
  {
   "cell_type": "code",
   "execution_count": null,
   "metadata": {},
   "outputs": [],
   "source": []
  },
  {
   "cell_type": "code",
   "execution_count": null,
   "metadata": {},
   "outputs": [],
   "source": [
    "import tensorflow as tf\n",
    "from tensorflow.keras.models import load_model"
   ]
  },
  {
   "cell_type": "code",
   "execution_count": null,
   "metadata": {},
   "outputs": [
    {
     "name": "stderr",
     "output_type": "stream",
     "text": [
      "2023-02-02 18:30:17.424701: I tensorflow/stream_executor/cuda/cuda_gpu_executor.cc:922] could not open file to read NUMA node: /sys/bus/pci/devices/0000:01:00.0/numa_node\n",
      "Your kernel may have been built without NUMA support.\n",
      "2023-02-02 18:30:17.425685: I tensorflow/stream_executor/cuda/cuda_gpu_executor.cc:922] could not open file to read NUMA node: /sys/bus/pci/devices/0000:01:00.0/numa_node\n",
      "Your kernel may have been built without NUMA support.\n",
      "2023-02-02 18:30:17.426521: I tensorflow/stream_executor/cuda/cuda_gpu_executor.cc:922] could not open file to read NUMA node: /sys/bus/pci/devices/0000:01:00.0/numa_node\n",
      "Your kernel may have been built without NUMA support.\n",
      "2023-02-02 18:30:17.427522: I tensorflow/stream_executor/cuda/cuda_gpu_executor.cc:922] could not open file to read NUMA node: /sys/bus/pci/devices/0000:01:00.0/numa_node\n",
      "Your kernel may have been built without NUMA support.\n",
      "2023-02-02 18:30:17.428225: I tensorflow/stream_executor/cuda/cuda_gpu_executor.cc:922] could not open file to read NUMA node: /sys/bus/pci/devices/0000:01:00.0/numa_node\n",
      "Your kernel may have been built without NUMA support.\n",
      "2023-02-02 18:30:17.429040: I tensorflow/stream_executor/cuda/cuda_gpu_executor.cc:922] could not open file to read NUMA node: /sys/bus/pci/devices/0000:01:00.0/numa_node\n",
      "Your kernel may have been built without NUMA support.\n",
      "2023-02-02 18:30:17.429995: I tensorflow/stream_executor/cuda/cuda_gpu_executor.cc:922] could not open file to read NUMA node: /sys/bus/pci/devices/0000:01:00.0/numa_node\n",
      "Your kernel may have been built without NUMA support.\n",
      "2023-02-02 18:30:17.430011: I tensorflow/core/common_runtime/gpu/gpu_device.cc:1609] Could not identify NUMA node of platform GPU id 0, defaulting to 0.  Your kernel may not have been built with NUMA support.\n",
      "2023-02-02 18:30:17.430573: I tensorflow/stream_executor/cuda/cuda_gpu_executor.cc:922] could not open file to read NUMA node: /sys/bus/pci/devices/0000:01:00.0/numa_node\n",
      "Your kernel may have been built without NUMA support.\n",
      "2023-02-02 18:30:17.430602: I tensorflow/core/common_runtime/gpu/gpu_device.cc:1525] Created device /job:localhost/replica:0/task:0/device:GPU:0 with 2753 MB memory:  -> device: 0, name: NVIDIA GeForce GTX 1050, pci bus id: 0000:01:00.0, compute capability: 6.1\n"
     ]
    }
   ],
   "source": [
    "model = load_model(p2saved)"
   ]
  },
  {
   "cell_type": "markdown",
   "metadata": {},
   "source": [
    "# WandB API and Select Preloaded Datasets"
   ]
  },
  {
   "cell_type": "code",
   "execution_count": null,
   "metadata": {},
   "outputs": [],
   "source": [
    "import wandb\n",
    "from metagentools.wandb import login_nb, WandbRun, entity_projects, project_artifacts, unique_run_name\n",
    "from metagentools.cnn_virus.data import strings_to_tensors"
   ]
  },
  {
   "cell_type": "markdown",
   "metadata": {},
   "source": [
    "Create access to API"
   ]
  },
  {
   "cell_type": "code",
   "execution_count": null,
   "metadata": {},
   "outputs": [
    {
     "name": "stdout",
     "output_type": "stream",
     "text": [
      "Logging in from notebook: /home/vtec/projects/bio/metagentools/nbs/cnn_virus/02_inference_original_model/EC_wip.01_inference_with_original_cnn.ipynb\n"
     ]
    },
    {
     "name": "stderr",
     "output_type": "stream",
     "text": [
      "\u001b[34m\u001b[1mwandb\u001b[0m: W&B API key is configured. Use \u001b[1m`wandb login --relogin`\u001b[0m to force relogin\n"
     ]
    }
   ],
   "source": [
    "nb_name = 'EC_wip.01_inference_with_original_cnn'\n",
    "\n",
    "login_nb(nb_name)"
   ]
  },
  {
   "cell_type": "code",
   "execution_count": null,
   "metadata": {},
   "outputs": [],
   "source": [
    "api = wandb.Api()"
   ]
  },
  {
   "cell_type": "code",
   "execution_count": null,
   "metadata": {},
   "outputs": [
    {
     "name": "stdout",
     "output_type": "stream",
     "text": [
      "create_and_load_sim_reads\n",
      "reproduce_cnn_virus\n"
     ]
    }
   ],
   "source": [
    "entity = 'metagenomics_sh'\n",
    "projs = entity_projects(entity)\n",
    "for p in projs:\n",
    "    print(p.name)"
   ]
  },
  {
   "cell_type": "code",
   "execution_count": null,
   "metadata": {},
   "outputs": [
    {
     "data": {
      "text/html": [
       "<div>\n",
       "<style scoped>\n",
       "    .dataframe tbody tr th:only-of-type {\n",
       "        vertical-align: middle;\n",
       "    }\n",
       "\n",
       "    .dataframe tbody tr th {\n",
       "        vertical-align: top;\n",
       "    }\n",
       "\n",
       "    .dataframe thead th {\n",
       "        text-align: right;\n",
       "    }\n",
       "</style>\n",
       "<table border=\"1\" class=\"dataframe\">\n",
       "  <thead>\n",
       "    <tr style=\"text-align: right;\">\n",
       "      <th></th>\n",
       "      <th>atx_name</th>\n",
       "      <th>atx_version</th>\n",
       "      <th>atx_type</th>\n",
       "      <th>atx_aliases</th>\n",
       "      <th>file_count</th>\n",
       "      <th>created</th>\n",
       "      <th>updated</th>\n",
       "      <th>atx_id</th>\n",
       "    </tr>\n",
       "  </thead>\n",
       "  <tbody>\n",
       "    <tr>\n",
       "      <th>0</th>\n",
       "      <td>origin_validation_20k:v0</td>\n",
       "      <td>v0</td>\n",
       "      <td>raw_data</td>\n",
       "      <td>latest</td>\n",
       "      <td>1</td>\n",
       "      <td>2022-09-19T16:14:44</td>\n",
       "      <td>2022-09-20T07:30:20</td>\n",
       "      <td>QXJ0aWZhY3Q6MTk2NjM3ODEx</td>\n",
       "    </tr>\n",
       "    <tr>\n",
       "      <th>1</th>\n",
       "      <td>origin_validation_200k:v0</td>\n",
       "      <td>v0</td>\n",
       "      <td>raw_data</td>\n",
       "      <td>latest</td>\n",
       "      <td>1</td>\n",
       "      <td>2022-09-19T16:14:46</td>\n",
       "      <td>2022-09-20T07:30:20</td>\n",
       "      <td>QXJ0aWZhY3Q6MTk2NjM3ODMx</td>\n",
       "    </tr>\n",
       "    <tr>\n",
       "      <th>2</th>\n",
       "      <td>origin_validation_1M:v0</td>\n",
       "      <td>v0</td>\n",
       "      <td>raw_data</td>\n",
       "      <td>latest</td>\n",
       "      <td>1</td>\n",
       "      <td>2022-09-19T16:14:48</td>\n",
       "      <td>2022-09-20T07:30:20</td>\n",
       "      <td>QXJ0aWZhY3Q6MTk2NjM3ODUz</td>\n",
       "    </tr>\n",
       "    <tr>\n",
       "      <th>3</th>\n",
       "      <td>origin_training_100k:v0</td>\n",
       "      <td>v0</td>\n",
       "      <td>raw_data</td>\n",
       "      <td>latest</td>\n",
       "      <td>1</td>\n",
       "      <td>2022-09-19T16:15:10</td>\n",
       "      <td>2022-09-19T16:15:12</td>\n",
       "      <td>QXJ0aWZhY3Q6MTk2NjM4MDc5</td>\n",
       "    </tr>\n",
       "    <tr>\n",
       "      <th>4</th>\n",
       "      <td>origin_training_1M:v0</td>\n",
       "      <td>v0</td>\n",
       "      <td>raw_data</td>\n",
       "      <td>latest</td>\n",
       "      <td>1</td>\n",
       "      <td>2022-09-19T16:15:12</td>\n",
       "      <td>2022-09-19T16:15:14</td>\n",
       "      <td>QXJ0aWZhY3Q6MTk2NjM4MDkx</td>\n",
       "    </tr>\n",
       "    <tr>\n",
       "      <th>5</th>\n",
       "      <td>origin_training_15M:v0</td>\n",
       "      <td>v0</td>\n",
       "      <td>raw_data</td>\n",
       "      <td>latest</td>\n",
       "      <td>1</td>\n",
       "      <td>2022-09-19T16:15:20</td>\n",
       "      <td>2022-09-19T16:15:33</td>\n",
       "      <td>QXJ0aWZhY3Q6MTk2NjM4MTY0</td>\n",
       "    </tr>\n",
       "    <tr>\n",
       "      <th>6</th>\n",
       "      <td>origin_training_30M:v0</td>\n",
       "      <td>v0</td>\n",
       "      <td>raw_data</td>\n",
       "      <td>latest</td>\n",
       "      <td>1</td>\n",
       "      <td>2022-09-19T16:15:38</td>\n",
       "      <td>2022-09-19T16:16:06</td>\n",
       "      <td>QXJ0aWZhY3Q6MTk2NjM4Mjk2</td>\n",
       "    </tr>\n",
       "    <tr>\n",
       "      <th>7</th>\n",
       "      <td>origin_training_50M:v0</td>\n",
       "      <td>v0</td>\n",
       "      <td>raw_data</td>\n",
       "      <td>latest</td>\n",
       "      <td>1</td>\n",
       "      <td>2022-09-19T16:16:10</td>\n",
       "      <td>2022-09-20T07:30:18</td>\n",
       "      <td>QXJ0aWZhY3Q6MTk2NjM4NjEw</td>\n",
       "    </tr>\n",
       "  </tbody>\n",
       "</table>\n",
       "</div>"
      ],
      "text/plain": [
       "                    atx_name atx_version  atx_type atx_aliases file_count  \\\n",
       "0   origin_validation_20k:v0          v0  raw_data      latest          1   \n",
       "1  origin_validation_200k:v0          v0  raw_data      latest          1   \n",
       "2    origin_validation_1M:v0          v0  raw_data      latest          1   \n",
       "3    origin_training_100k:v0          v0  raw_data      latest          1   \n",
       "4      origin_training_1M:v0          v0  raw_data      latest          1   \n",
       "5     origin_training_15M:v0          v0  raw_data      latest          1   \n",
       "6     origin_training_30M:v0          v0  raw_data      latest          1   \n",
       "7     origin_training_50M:v0          v0  raw_data      latest          1   \n",
       "\n",
       "               created              updated                    atx_id  \n",
       "0  2022-09-19T16:14:44  2022-09-20T07:30:20  QXJ0aWZhY3Q6MTk2NjM3ODEx  \n",
       "1  2022-09-19T16:14:46  2022-09-20T07:30:20  QXJ0aWZhY3Q6MTk2NjM3ODMx  \n",
       "2  2022-09-19T16:14:48  2022-09-20T07:30:20  QXJ0aWZhY3Q6MTk2NjM3ODUz  \n",
       "3  2022-09-19T16:15:10  2022-09-19T16:15:12  QXJ0aWZhY3Q6MTk2NjM4MDc5  \n",
       "4  2022-09-19T16:15:12  2022-09-19T16:15:14  QXJ0aWZhY3Q6MTk2NjM4MDkx  \n",
       "5  2022-09-19T16:15:20  2022-09-19T16:15:33  QXJ0aWZhY3Q6MTk2NjM4MTY0  \n",
       "6  2022-09-19T16:15:38  2022-09-19T16:16:06  QXJ0aWZhY3Q6MTk2NjM4Mjk2  \n",
       "7  2022-09-19T16:16:10  2022-09-20T07:30:18  QXJ0aWZhY3Q6MTk2NjM4NjEw  "
      ]
     },
     "execution_count": null,
     "metadata": {},
     "output_type": "execute_result"
    }
   ],
   "source": [
    "project_name = 'reproduce_cnn_virus'\n",
    "project_path = f\"{entity}/{project_name}\"\n",
    "\n",
    "df, at_types = project_artifacts(entity, project_name, by_type='raw_data')\n",
    "df"
   ]
  },
  {
   "cell_type": "code",
   "execution_count": null,
   "metadata": {},
   "outputs": [],
   "source": [
    "# train_ds_at_name = 'origin_training_1M'\n",
    "val_ds_at_name = 'origin_validation_200k'"
   ]
  },
  {
   "cell_type": "code",
   "execution_count": null,
   "metadata": {},
   "outputs": [],
   "source": [
    "def get_artifact(entity, project_name, at_name):\n",
    "    api = wandb.Api()\n",
    "    at_path =  f\"{entity}/{project_name}/{at_name}:latest\"\n",
    "    at = api.artifact(at_path)\n",
    "    at_dir = at.download()\n",
    "    return at_dir\n",
    "\n",
    "def get_file(at_dir):\n",
    "    return list(Path(at_dir).iterdir())[0]"
   ]
  },
  {
   "cell_type": "code",
   "execution_count": null,
   "metadata": {},
   "outputs": [
    {
     "name": "stderr",
     "output_type": "stream",
     "text": [
      "\u001b[34m\u001b[1mwandb\u001b[0m:   1 of 1 files downloaded.  \n"
     ]
    }
   ],
   "source": [
    "# train_at_dir = get_artifact(entity, project_name, train_ds_at_name)\n",
    "val_at_dir = get_artifact(entity, project_name, val_ds_at_name)"
   ]
  },
  {
   "cell_type": "code",
   "execution_count": null,
   "metadata": {},
   "outputs": [],
   "source": [
    "# train_text_ds = tf.data.TextLineDataset(get_file(train_at_dir)).batch(32)\n",
    "# train_ds = train_text_ds.map(strings_to_tensors)\n",
    "\n",
    "val_text_ds = tf.data.TextLineDataset(get_file(val_at_dir)).batch(32)\n",
    "val_ds = val_text_ds.map(strings_to_tensors)\n",
    "\n",
    "# for xb, (y1b, y2b) in train_ds.take(1):\n",
    "#     print(xb.shape, y1b.shape, y2b.shape)"
   ]
  },
  {
   "cell_type": "code",
   "execution_count": null,
   "metadata": {},
   "outputs": [
    {
     "name": "stdout",
     "output_type": "stream",
     "text": [
      "Model: \"model_1\"\n",
      "__________________________________________________________________________________________________\n",
      " Layer (type)                   Output Shape         Param #     Connected to                     \n",
      "==================================================================================================\n",
      " input_1 (InputLayer)           [(None, 50, 5)]      0           []                               \n",
      "                                                                                                  \n",
      " conv1d_1 (Conv1D)              (None, 50, 512)      13312       ['input_1[0][0]']                \n",
      "                                                                                                  \n",
      " batch_normalization_1 (BatchNo  (None, 50, 512)     2048        ['conv1d_1[0][0]']               \n",
      " rmalization)                                                                                     \n",
      "                                                                                                  \n",
      " max_pooling1d_1 (MaxPooling1D)  (None, 25, 512)     0           ['batch_normalization_1[0][0]']  \n",
      "                                                                                                  \n",
      " conv1d_2 (Conv1D)              (None, 25, 512)      1311232     ['max_pooling1d_1[0][0]']        \n",
      "                                                                                                  \n",
      " batch_normalization_2 (BatchNo  (None, 25, 512)     2048        ['conv1d_2[0][0]']               \n",
      " rmalization)                                                                                     \n",
      "                                                                                                  \n",
      " max_pooling1d_2 (MaxPooling1D)  (None, 13, 512)     0           ['batch_normalization_2[0][0]']  \n",
      "                                                                                                  \n",
      " conv1d_3 (Conv1D)              (None, 13, 1024)     3671040     ['max_pooling1d_2[0][0]']        \n",
      "                                                                                                  \n",
      " conv1d_4 (Conv1D)              (None, 13, 1024)     7341056     ['conv1d_3[0][0]']               \n",
      "                                                                                                  \n",
      " batch_normalization_3 (BatchNo  (None, 13, 1024)    4096        ['conv1d_4[0][0]']               \n",
      " rmalization)                                                                                     \n",
      "                                                                                                  \n",
      " max_pooling1d_3 (MaxPooling1D)  (None, 7, 1024)     0           ['batch_normalization_3[0][0]']  \n",
      "                                                                                                  \n",
      " flatten_1 (Flatten)            (None, 7168)         0           ['max_pooling1d_3[0][0]']        \n",
      "                                                                                                  \n",
      " dense_1 (Dense)                (None, 1024)         7341056     ['flatten_1[0][0]']              \n",
      "                                                                                                  \n",
      " batch_normalization_4 (BatchNo  (None, 1024)        4096        ['dense_1[0][0]']                \n",
      " rmalization)                                                                                     \n",
      "                                                                                                  \n",
      " dropout_1 (Dropout)            (None, 1024)         0           ['batch_normalization_4[0][0]']  \n",
      "                                                                                                  \n",
      " output1 (Dense)                (None, 187)          191675      ['dropout_1[0][0]']              \n",
      "                                                                                                  \n",
      " concatenate_1 (Concatenate)    (None, 1211)         0           ['dropout_1[0][0]',              \n",
      "                                                                  'output1[0][0]']                \n",
      "                                                                                                  \n",
      " dense_2 (Dense)                (None, 1024)         1241088     ['concatenate_1[0][0]']          \n",
      "                                                                                                  \n",
      " batch_normalization_5 (BatchNo  (None, 1024)        4096        ['dense_2[0][0]']                \n",
      " rmalization)                                                                                     \n",
      "                                                                                                  \n",
      " output2 (Dense)                (None, 10)           10250       ['batch_normalization_5[0][0]']  \n",
      "                                                                                                  \n",
      "==================================================================================================\n",
      "Total params: 21,137,093\n",
      "Trainable params: 21,128,901\n",
      "Non-trainable params: 8,192\n",
      "__________________________________________________________________________________________________\n"
     ]
    }
   ],
   "source": [
    "model.summary()"
   ]
  },
  {
   "cell_type": "markdown",
   "metadata": {},
   "source": [
    "# Inference"
   ]
  },
  {
   "cell_type": "code",
   "execution_count": null,
   "metadata": {},
   "outputs": [
    {
     "name": "stderr",
     "output_type": "stream",
     "text": [
      "2023-02-02 18:35:57.450737: W tensorflow/core/common_runtime/bfc_allocator.cc:275] Allocator (GPU_0_bfc) ran out of memory trying to allocate 2.25GiB with freed_by_count=0. The caller indicates that this is not a failure, but may mean that there could be performance gains if more memory were available.\n"
     ]
    }
   ],
   "source": [
    "prob_preds = model.predict(val_ds)"
   ]
  },
  {
   "cell_type": "code",
   "execution_count": null,
   "metadata": {},
   "outputs": [
    {
     "data": {
      "text/plain": [
       "((199992, 187), (199992, 10))"
      ]
     },
     "execution_count": null,
     "metadata": {},
     "output_type": "execute_result"
    }
   ],
   "source": [
    "prob_preds[0].shape, prob_preds[1].shape"
   ]
  },
  {
   "cell_type": "code",
   "execution_count": null,
   "metadata": {},
   "outputs": [],
   "source": [
    "class_preds = np.argmax(prob_preds[0], axis=1)"
   ]
  },
  {
   "cell_type": "code",
   "execution_count": null,
   "metadata": {},
   "outputs": [],
   "source": [
    "class_labels_ohe = None\n",
    "for xb, (yb, _) in val_ds:\n",
    "    class_labels_ohe = tf.concat([class_labels_ohe, yb], axis=0) if class_labels_ohe is not None else yb\n",
    "# print(class_labels_ohe.shape)\n",
    "class_labels = np.argmax(class_labels_ohe, axis=1)"
   ]
  },
  {
   "cell_type": "code",
   "execution_count": null,
   "metadata": {},
   "outputs": [
    {
     "data": {
      "text/plain": [
       "0.9468229"
      ]
     },
     "execution_count": null,
     "metadata": {},
     "output_type": "execute_result"
    }
   ],
   "source": [
    "acc = tf.keras.metrics.Accuracy()\n",
    "acc(class_labels, class_preds).numpy()"
   ]
  },
  {
   "cell_type": "markdown",
   "metadata": {},
   "source": [
    "**Confusion Matrix**\n",
    "The matrix **columns** represent the prediction labels and the **rows** represent the real labels. The confusion matrix is always a 2-D array of shape [n, n], where n is the number of valid labels for a given classification task."
   ]
  },
  {
   "cell_type": "code",
   "execution_count": null,
   "metadata": {},
   "outputs": [],
   "source": [
    "import matplotlib.pyplot as plt\n",
    "import numpy as np\n",
    "# import seaborn as sns"
   ]
  },
  {
   "cell_type": "code",
   "execution_count": null,
   "metadata": {},
   "outputs": [
    {
     "data": {
      "text/plain": [
       "TensorShape([187, 187])"
      ]
     },
     "execution_count": null,
     "metadata": {},
     "output_type": "execute_result"
    }
   ],
   "source": [
    "confmat = tf.math.confusion_matrix(class_labels, class_preds)\n",
    "confmat.shape"
   ]
  },
  {
   "cell_type": "code",
   "execution_count": null,
   "metadata": {},
   "outputs": [
    {
     "data": {
      "text/plain": [
       "<tf.Tensor: shape=(10, 10), dtype=int32, numpy=\n",
       "array([[5983,    0,    2,    0,   11,    2,   14,    0,    1,    2],\n",
       "       [   0,  857,    1,    1,    0,    0,    1,    0,    0,    0],\n",
       "       [   0,    2, 7393,    3,    3,    3,   35,   14,    1,    1],\n",
       "       [   0,    0,    4, 1366,    3,    2,    6,    0,    2,    0],\n",
       "       [   6,    1,    4,    3, 5531,    2,   19,    3,    1,    1],\n",
       "       [   0,    0,    6,    7,    0, 1350,    3,    5,    3,    1],\n",
       "       [   7,    1,   27,    4,    7,    7, 9046,   19,    1,    1],\n",
       "       [   0,    0,   38,    1,    1,    0,   29, 5597,    0,    1],\n",
       "       [   1,    0,    0,    3,    3,    5,    2,    0, 1242,    0],\n",
       "       [   0,    0,    2,    0,    1,    0,    3,    1,    0, 3337]],\n",
       "      dtype=int32)>"
      ]
     },
     "execution_count": null,
     "metadata": {},
     "output_type": "execute_result"
    }
   ],
   "source": [
    "confmat[:10,:10]"
   ]
  },
  {
   "cell_type": "code",
   "execution_count": null,
   "metadata": {},
   "outputs": [
    {
     "data": {
      "image/png": "[encoded data removed]",
      "text/plain": [
       "<Figure size 1200x400 with 2 Axes>"
      ]
     },
     "metadata": {},
     "output_type": "display_data"
    }
   ],
   "source": [
    "non_zeroes = confmat.numpy().flatten()[confmat.numpy().flatten() > 0]\n",
    "small_vals = confmat.numpy().flatten()[(confmat.numpy().flatten() > 0) & (confmat.numpy().flatten() < 10)]\n",
    "np.median(non_zeroes), np.percentile(non_zeroes, 80)\n",
    "\n",
    "_, (ax1, ax2) = plt.subplots(1, 2, figsize=(12, 4))\n",
    "ax1.hist(non_zeroes, bins=50)\n",
    "ax1.set_title('Non Zero values in confusion matrix')\n",
    "ax2.hist(small_vals, bins=25)\n",
    "ax2.set_title('Small non zeroe values in confusion matrix')\n",
    "plt.show()"
   ]
  },
  {
   "cell_type": "code",
   "execution_count": null,
   "metadata": {},
   "outputs": [
    {
     "data": {
      "text/plain": [
       "(9046, 0.0, 6.0)"
      ]
     },
     "execution_count": null,
     "metadata": {},
     "output_type": "execute_result"
    }
   ],
   "source": [
    "confmat.numpy().max(), np.median(confmat.numpy()), np.percentile(confmat.numpy(), 99)"
   ]
  },
  {
   "cell_type": "code",
   "execution_count": null,
   "metadata": {},
   "outputs": [
    {
     "data": {
      "image/png": "[encoded data removed]",
      "text/plain": [
       "<Figure size 864x864 with 2 Axes>"
      ]
     },
     "metadata": {
      "needs_background": "light"
     },
     "output_type": "display_data"
    }
   ],
   "source": [
    "fig, ax = plt.subplots(1, 1, figsize=(12,12))\n",
    "# Generate a custom diverging colormap\n",
    "cmap = sns.diverging_palette(230, 20, as_cmap=True)\n",
    "# cmap = sns.color_palette(\"flare\", as_cmap=True)\n",
    "\n",
    "# Draw the heatmap with the mask and correct aspect ratio\n",
    "sns.heatmap(confmat[:100,:100], center=0, vmax=10, cmap=cmap, square=True, ax=ax);"
   ]
  },
  {
   "cell_type": "code",
   "execution_count": null,
   "metadata": {},
   "outputs": [],
   "source": []
  },
  {
   "cell_type": "code",
   "execution_count": null,
   "metadata": {},
   "outputs": [],
   "source": [
    "val_text_ds = tf.data.TextLineDataset(get_file(val_at_dir)).batch(1024)\n",
    "val_ds = val_text_ds.map(strings_to_tensors)"
   ]
  },
  {
   "cell_type": "code",
   "execution_count": null,
   "metadata": {},
   "outputs": [],
   "source": [
    "prob_preds = model.predict(val_ds)"
   ]
  },
  {
   "cell_type": "code",
   "execution_count": null,
   "metadata": {},
   "outputs": [
    {
     "data": {
      "text/plain": [
       "((199992, 187), (199992, 10))"
      ]
     },
     "execution_count": null,
     "metadata": {},
     "output_type": "execute_result"
    }
   ],
   "source": [
    "prob_preds[0].shape, prob_preds[1].shape"
   ]
  },
  {
   "cell_type": "code",
   "execution_count": null,
   "metadata": {},
   "outputs": [],
   "source": [
    "class_preds = np.argmax(prob_preds[0], axis=1)"
   ]
  },
  {
   "cell_type": "code",
   "execution_count": null,
   "metadata": {},
   "outputs": [],
   "source": [
    "class_labels_ohe = None\n",
    "for xb, (yb, _) in val_ds:\n",
    "    class_labels_ohe = tf.concat([class_labels_ohe, yb], axis=0) if class_labels_ohe is not None else yb\n",
    "# print(class_labels_ohe.shape)\n",
    "class_labels = np.argmax(class_labels_ohe, axis=1)"
   ]
  },
  {
   "cell_type": "code",
   "execution_count": null,
   "metadata": {},
   "outputs": [
    {
     "data": {
      "text/plain": [
       "0.9468229"
      ]
     },
     "execution_count": null,
     "metadata": {},
     "output_type": "execute_result"
    }
   ],
   "source": [
    "acc = tf.keras.metrics.Accuracy()\n",
    "acc(class_labels, class_preds).numpy()"
   ]
  },
  {
   "cell_type": "markdown",
   "metadata": {},
   "source": [
    "**Confusion Matrix**\n",
    "The matrix **columns** represent the prediction labels and the **rows** represent the real labels. The confusion matrix is always a 2-D array of shape [n, n], where n is the number of valid labels for a given classification task."
   ]
  },
  {
   "cell_type": "code",
   "execution_count": null,
   "metadata": {},
   "outputs": [
    {
     "data": {
      "text/plain": [
       "TensorShape([187, 187])"
      ]
     },
     "execution_count": null,
     "metadata": {},
     "output_type": "execute_result"
    }
   ],
   "source": [
    "confmat = tf.math.confusion_matrix(class_labels, class_preds)\n",
    "confmat.shape"
   ]
  },
  {
   "cell_type": "code",
   "execution_count": null,
   "metadata": {},
   "outputs": [
    {
     "data": {
      "text/plain": [
       "<tf.Tensor: shape=(10, 10), dtype=int32, numpy=\n",
       "array([[5983,    0,    2,    0,   11,    2,   14,    0,    1,    2],\n",
       "       [   0,  857,    1,    1,    0,    0,    1,    0,    0,    0],\n",
       "       [   0,    2, 7393,    3,    3,    3,   35,   14,    1,    1],\n",
       "       [   0,    0,    4, 1366,    3,    2,    6,    0,    2,    0],\n",
       "       [   6,    1,    4,    3, 5531,    2,   19,    3,    1,    1],\n",
       "       [   0,    0,    6,    7,    0, 1350,    3,    5,    3,    1],\n",
       "       [   7,    1,   27,    4,    7,    7, 9046,   19,    1,    1],\n",
       "       [   0,    0,   38,    1,    1,    0,   29, 5597,    0,    1],\n",
       "       [   1,    0,    0,    3,    3,    5,    2,    0, 1242,    0],\n",
       "       [   0,    0,    2,    0,    1,    0,    3,    1,    0, 3337]],\n",
       "      dtype=int32)>"
      ]
     },
     "execution_count": null,
     "metadata": {},
     "output_type": "execute_result"
    }
   ],
   "source": [
    "confmat[:10,:10]"
   ]
  },
  {
   "cell_type": "code",
   "execution_count": null,
   "metadata": {},
   "outputs": [
    {
     "data": {
      "image/png": "[encoded data removed]",
      "text/plain": [
       "<Figure size 864x288 with 2 Axes>"
      ]
     },
     "metadata": {
      "needs_background": "light"
     },
     "output_type": "display_data"
    }
   ],
   "source": [
    "non_zeroes = confmat.numpy().flatten()[confmat.numpy().flatten() > 0]\n",
    "small_vals = confmat.numpy().flatten()[(confmat.numpy().flatten() > 0) & (confmat.numpy().flatten() < 10)]\n",
    "np.median(non_zeroes), np.percentile(non_zeroes, 80)\n",
    "\n",
    "_, (ax1, ax2) = plt.subplots(1, 2, figsize=(12, 4))\n",
    "ax1.hist(non_zeroes, bins=50)\n",
    "ax1.set_title('Non Zero values in confusion matrix')\n",
    "ax2.hist(small_vals, bins=25)\n",
    "ax2.set_title('Small non zeroe values in confusion matrix')\n",
    "plt.show()"
   ]
  },
  {
   "cell_type": "code",
   "execution_count": null,
   "metadata": {},
   "outputs": [
    {
     "data": {
      "image/png": "[encoded data removed]",
      "text/plain": [
       "<Figure size 1296x864 with 2 Axes>"
      ]
     },
     "metadata": {
      "needs_background": "light"
     },
     "output_type": "display_data"
    }
   ],
   "source": [
    "\n",
    "fig, ax = plt.subplots(1, 1, figsize=(18,12))\n",
    "# cmap = sns.diverging_palette(230, 20, as_cmap=True)\n",
    "ax.set_xlabel('Predictions')\n",
    "ax.set_ylabel('Actuals')\n",
    "ax.set_title('Confusion Matrix')\n",
    "mask = np.zeros_like(confmat)\n",
    "mask[np.triu_indices_from(mask)] = True\n",
    "sns.heatmap(confmat, mask=mask, center=0, vmax=15, cmap=cmap, square=True, ax=ax);"
   ]
  },
  {
   "cell_type": "markdown",
   "metadata": {},
   "source": [
    "**Precision:** Precision answers the following question: \n",
    "- Given one class, what is the proportion of predictions for that class which is correctly predicted?\n",
    "- Intuition: given one prediction, how confident can we be that it is correct, precise\n",
    "- Looking at the confusion matrix, we consider it column by columns\n",
    "\n",
    "**Recall:** Recall answers a different question: \n",
    "- Given one class, what is the proportion of among all actual samples in  that class that is correctly classified?\n",
    "- Intuition: given one class, how confident that we will retrieve all the samples in that class (recall)\n",
    "\n"
   ]
  },
  {
   "cell_type": "code",
   "execution_count": null,
   "metadata": {},
   "outputs": [
    {
     "name": "stdout",
     "output_type": "stream",
     "text": [
      "[7060  887 7629 1435 6174 1449 9408 5970 1304 3427 4805 2056 6191 3101\n",
      "  184  201  713  302 7600 3876 8926 5889 4909  711  192 5891  166 1319\n",
      "  872  704 1389  320 5514 1290 1229  462  208 1232  938 1357 1251  485\n",
      "  191 2441 2236  202  441  208  511  471  223  718 1483  584 1885  288\n",
      "  659  261  209  337 1959  189 6624  479  491  537  506  408  454  218\n",
      "  723 5643  456  274 1417  467  696  275  286  756  179  170  483  704\n",
      "  630  724  265  616  196  452  118  587  281  438 1113  430  307 1445\n",
      "  283  783  175  273 2178  415  426  212  193  334  721  733  355  487\n",
      "  442  240  253  753  192 1154  431  523  723  581  616  277  356  250\n",
      "  250  442  111  712  403  337  260  229  724  417  935  417  774  437\n",
      "  128  284  279  418  423  435  436  282  309  289  287  347  294   90\n",
      "  145  221  458  305  282  296  436  281  314  781  286  283  431  148\n",
      "  152  281   41  268  257  292  852  486  307  455  126  318  329  325\n",
      "  290   83  306  290  389]\n",
      "[6928  884 7679 1444 6155 1427 9512 5822 1318 3462 4825 2044 6277 3135\n",
      "  171  201  725  304 7795 3886 8931 5841 4935  716  197 5982  159 1326\n",
      "  854  687 1369  322 5529 1285 1221  466  206 1234  936 1362 1268  468\n",
      "  191 2450 2220  202  428  196  493  461  215  710 1473  572 1867  286\n",
      "  646  256  209  339 1955  189 6736  478  485  508  509  422  449  222\n",
      "  716 5705  448  267 1460  458  707  264  279  769  166  166  473  714\n",
      "  627  688  260  608  195  447  114  588  279  426 1131  424  309 1421\n",
      "  276  766  177  279 2185  408  422  213  192  333  714  721  355  486\n",
      "  434  243  255  753  181 1150  439  521  736  587  624  265  341  246\n",
      "  257  446  116  731  416  324  267  225  713  420  922  411  775  436\n",
      "  121  283  279  411  423  442  441  269  302  281  284  337  294   90\n",
      "  141  215  453  293  278  284  432  264  321  781  287  280  433  144\n",
      "  145  278   40  269  256  299  849  481  306  451  122  301  335  329\n",
      "  290   81  301  284  387]\n"
     ]
    }
   ],
   "source": [
    "true_nbr_samples_per_virus = confmat.numpy().sum(axis=1)\n",
    "pred_nbr_samples_per_virus = confmat.numpy().sum(axis=0)\n",
    "print(true_nbr_samples_per_virus)\n",
    "print(pred_nbr_samples_per_virus)"
   ]
  },
  {
   "cell_type": "code",
   "execution_count": null,
   "metadata": {},
   "outputs": [
    {
     "name": "stdout",
     "output_type": "stream",
     "text": [
      "[0.863597   0.96945701 0.96275557 0.94598338 0.89861901 0.94604064\n",
      " 0.95100925 0.96135349 0.94233687 0.9638937  0.95212435 0.9667319\n",
      " 0.89373905 0.96746411 0.97660819 0.95522388 0.9337931  0.94078947\n",
      " 0.86157793 0.97375193 0.952189   0.96558808 0.9550152  0.95810056\n",
      " 0.94923858 0.9448345  0.98113208 0.93815988 0.97775176 0.97671033\n",
      " 0.95325055 0.94099379 0.95243263 0.96342412 0.96068796 0.93347639\n",
      " 0.94660194 0.96272285 0.96367521 0.979442   0.95583596 0.98504274\n",
      " 0.94240838 0.96244898 0.97837838 0.95049505 0.96495327 0.98979592\n",
      " 0.97363083 0.96095445 0.98604651 0.95774648 0.96062458 0.96678322\n",
      " 0.97214783 0.95104895 0.95975232 0.94921875 0.94736842 0.95870206\n",
      " 0.99028133 0.95238095 0.95086105 0.9665272  0.95876289 0.96850394\n",
      " 0.956778   0.92417062 0.95991091 0.93693694 0.95810056 0.95547765\n",
      " 0.95982143 0.97378277 0.93219178 0.95196507 0.9321075  0.94318182\n",
      " 0.95340502 0.94278283 0.98795181 0.96385542 0.9640592  0.94397759\n",
      " 0.96172249 0.96511628 0.96153846 0.96381579 0.93846154 0.96196868\n",
      " 0.97368421 0.93707483 0.93548387 0.96713615 0.93457118 0.95990566\n",
      " 0.95469256 0.96059113 0.96376812 0.96214099 0.94915254 0.9390681\n",
      " 0.97025172 0.96078431 0.9549763  0.94835681 0.96354167 0.96996997\n",
      " 0.96918768 0.95006935 0.95492958 0.95473251 0.96082949 0.95061728\n",
      " 0.94117647 0.95219124 0.99447514 0.95043478 0.9453303  0.96545106\n",
      " 0.94021739 0.94889267 0.94711538 0.97358491 0.96187683 0.98780488\n",
      " 0.94941634 0.94394619 0.93965517 0.93570451 0.92788462 0.97839506\n",
      " 0.95505618 0.96       0.96213184 0.94761905 0.97288503 0.9513382\n",
      " 0.95741935 0.94954128 0.98347107 0.95053004 0.94982079 0.97323601\n",
      " 0.95271868 0.91402715 0.95464853 0.97026022 0.96688742 0.97508897\n",
      " 0.95774648 0.95845697 0.95238095 0.97777778 0.9858156  0.98139535\n",
      " 0.96909492 0.98293515 0.95683453 0.97183099 0.96064815 0.98863636\n",
      " 0.95015576 0.95518566 0.95470383 0.95714286 0.93764434 0.97222222\n",
      " 0.9862069  0.96043165 0.975      0.95539033 0.9609375  0.93311037\n",
      " 0.96348645 0.97505198 0.94771242 0.96452328 0.96721311 0.9833887\n",
      " 0.94925373 0.95136778 0.94827586 0.96296296 0.97674419 0.96126761\n",
      " 0.95865633]\n"
     ]
    }
   ],
   "source": [
    "test_prec = np.diagonal(confmat.numpy()) / pred_nbr_samples_per_virus\n",
    "print(test_prec)"
   ]
  },
  {
   "cell_type": "code",
   "execution_count": null,
   "metadata": {},
   "outputs": [
    {
     "name": "stdout",
     "output_type": "stream",
     "text": [
      "[0.84745042 0.96617813 0.96906541 0.95191638 0.89585358 0.93167702\n",
      " 0.96152211 0.93752094 0.95245399 0.97373796 0.95608741 0.96108949\n",
      " 0.90615409 0.97807159 0.9076087  0.95522388 0.94950912 0.94701987\n",
      " 0.88368421 0.97626419 0.95272238 0.95771778 0.96007333 0.96483826\n",
      " 0.97395833 0.95942964 0.93975904 0.94313874 0.95756881 0.953125\n",
      " 0.93952484 0.946875   0.95502358 0.95968992 0.9544345  0.94155844\n",
      " 0.9375     0.96428571 0.96162047 0.98305085 0.96882494 0.95051546\n",
      " 0.94240838 0.96599754 0.97137746 0.95049505 0.93650794 0.93269231\n",
      " 0.93933464 0.94055202 0.95067265 0.94707521 0.954147   0.94691781\n",
      " 0.96286472 0.94444444 0.94081942 0.93103448 0.94736842 0.96439169\n",
      " 0.98825932 0.95238095 0.96693841 0.96450939 0.94704684 0.91620112\n",
      " 0.96245059 0.95588235 0.94933921 0.95412844 0.94882434 0.96597554\n",
      " 0.94298246 0.94890511 0.96047989 0.93361884 0.94683908 0.90545455\n",
      " 0.93006993 0.95899471 0.91620112 0.94117647 0.94409938 0.95738636\n",
      " 0.95714286 0.91712707 0.94339623 0.9512987  0.93367347 0.95132743\n",
      " 0.94067797 0.93867121 0.92882562 0.94063927 0.94968553 0.94651163\n",
      " 0.96091205 0.94463668 0.93992933 0.9412516  0.96       0.95970696\n",
      " 0.97337006 0.94457831 0.94600939 0.95283019 0.95854922 0.96706587\n",
      " 0.95977809 0.93451569 0.95492958 0.95277207 0.94343891 0.9625\n",
      " 0.9486166  0.95219124 0.9375     0.94714038 0.96287703 0.96175908\n",
      " 0.9571231  0.95869191 0.95941558 0.93140794 0.92134831 0.972\n",
      " 0.976      0.95248869 0.98198198 0.96067416 0.95781638 0.94065282\n",
      " 0.98076923 0.94323144 0.94751381 0.95443645 0.95935829 0.93764988\n",
      " 0.95865633 0.94736842 0.9296875  0.9471831  0.94982079 0.9569378\n",
      " 0.95271868 0.92873563 0.96559633 0.92553191 0.94498382 0.94809689\n",
      " 0.94773519 0.93083573 0.95238095 0.97777778 0.95862069 0.95475113\n",
      " 0.95851528 0.9442623  0.94326241 0.93243243 0.95183486 0.92882562\n",
      " 0.97133758 0.95518566 0.95804196 0.94699647 0.94199536 0.94594595\n",
      " 0.94078947 0.95017794 0.95121951 0.95895522 0.95719844 0.95547945\n",
      " 0.9600939  0.96502058 0.94462541 0.95604396 0.93650794 0.93081761\n",
      " 0.96656535 0.96307692 0.94827586 0.93975904 0.96078431 0.94137931\n",
      " 0.95372751]\n"
     ]
    }
   ],
   "source": [
    "test_recall = np.diagonal(confmat.numpy()) / true_nbr_samples_per_virus\n",
    "print(test_recall)"
   ]
  },
  {
   "cell_type": "code",
   "execution_count": null,
   "metadata": {},
   "outputs": [
    {
     "data": {
      "text/plain": [
       "array([ 18,   0,  12,   4, 145,  67, 130,  76,  74, 173,  35,  16,  94,\n",
       "        92, 129,  69,  91, 166,  27,  88, 101, 128, 120,  17,  31, 114,\n",
       "         8,  42,  79,  77, 127,  83,  25, 118,   3,   5,  36, 122,  58,\n",
       "       135, 176, 182, 105, 121, 100,  57,  24, 180, 126, 139])"
      ]
     },
     "metadata": {},
     "output_type": "display_data"
    },
    {
     "data": {
      "text/plain": [
       "array([  0,  18,   4,  77,  12,  14,  80,  65,  85, 124, 147, 145, 161,\n",
       "        92, 140,  78, 179, 151,  57, 123,   5, 159,  47,  75,  88, 109,\n",
       "        46, 178,  36, 116,   7, 137,  91,  48,  30, 183,  26,  98,  49,\n",
       "        93, 131,  90, 168,  56,  81,  99, 185,  35, 166,  42])"
      ]
     },
     "metadata": {},
     "output_type": "display_data"
    },
    {
     "data": {
      "text/plain": [
       "array([  0,  35,   4,   5,  36, 166,  42,  12,  77, 145,  18,  88,  57,\n",
       "        91,  92])"
      ]
     },
     "execution_count": null,
     "metadata": {},
     "output_type": "execute_result"
    }
   ],
   "source": [
    "n = 50\n",
    "smallest_prec = np.argsort(test_prec)[0:n]\n",
    "smallest_recall = np.argsort(test_recall)[0:n]\n",
    "display(smallest_prec)\n",
    "display(smallest_recall)\n",
    "smallest_prec_and_recall = np.array(list(set(smallest_prec).intersection(set(smallest_recall))))\n",
    "smallest_prec_and_recall"
   ]
  },
  {
   "cell_type": "code",
   "execution_count": null,
   "metadata": {},
   "outputs": [],
   "source": [
    "p2virus_class_mapping = Path('/content/gdrive/MyDrive/Metagenonics/CNN_Virus_data/map_standard')\n",
    "with open(p2virus_class_mapping, 'r') as fp:\n",
    "    label2virus = []\n",
    "    virus2label = {}\n",
    "    while True:\n",
    "        line = fp.readline()[:-1]\n",
    "        if line == '': break\n",
    "        virus, label = line.split('\\t')\n",
    "        label2virus.append(virus)\n",
    "        virus2label[virus] = label\n",
    "label2virus=np.array(label2virus)"
   ]
  },
  {
   "cell_type": "code",
   "execution_count": null,
   "metadata": {},
   "outputs": [
    {
     "data": {
      "text/plain": [
       "['Variola_virus',\n",
       " 'Sandfly_fever_Naples_phlebovirus',\n",
       " 'Human_betaherpesvirus_6B',\n",
       " 'Human_mastadenovirus_B',\n",
       " 'Human_polyomavirus_13',\n",
       " 'Mayaro_virus',\n",
       " 'Human_polyomavirus_5',\n",
       " 'Human_betaherpesvirus_6A',\n",
       " 'Enterovirus_E',\n",
       " 'Eastern_equine_encephalitis_virus',\n",
       " 'Monkeypox_virus',\n",
       " 'Human_polyomavirus_6',\n",
       " 'Cosavirus_E',\n",
       " 'Mumps_rubulavirus',\n",
       " 'Enterovirus_F']"
      ]
     },
     "execution_count": null,
     "metadata": {},
     "output_type": "execute_result"
    }
   ],
   "source": [
    "label2virus[smallest_prec_and_recall].tolist()"
   ]
  },
  {
   "cell_type": "code",
   "execution_count": null,
   "metadata": {},
   "outputs": [
    {
     "data": {
      "text/plain": [
       "['Monkeypox_virus',\n",
       " 'Variola_virus',\n",
       " 'Human_betaherpesvirus_6A',\n",
       " 'Human_betaherpesvirus_6B',\n",
       " 'Eastern_equine_encephalitis_virus',\n",
       " 'Louping_ill_virus',\n",
       " 'Zika_virus',\n",
       " 'Crimean-Congo_hemorrhagic_fever_orthonairovirus',\n",
       " 'Human_mastadenovirus_G',\n",
       " 'Cosavirus_A',\n",
       " 'Sandfly_fever_Naples_phlebovirus',\n",
       " 'Hendra_henipavirus',\n",
       " 'Middle_East_respiratory_syndrome-related_coronavirus',\n",
       " 'Enterovirus_F',\n",
       " 'Nipah_henipavirus',\n",
       " 'Human_polyomavirus_8',\n",
       " 'Mumps_rubulavirus',\n",
       " 'Mayaro_virus',\n",
       " 'Human_mastadenovirus_F',\n",
       " 'Human_polyomavirus_6',\n",
       " 'Parechovirus_B',\n",
       " 'Mamastrovirus_5',\n",
       " 'Reston_ebolavirus',\n",
       " 'Human_immunodeficiency_virus_1',\n",
       " 'Mupapillomavirus_1',\n",
       " 'Cosavirus_B',\n",
       " 'Human_mastadenovirus_A',\n",
       " 'Human_polyomavirus_5',\n",
       " 'Rotavirus_B',\n",
       " 'Enterovirus_E',\n",
       " 'Chandipura_vesiculovirus',\n",
       " 'Bundibugyo_ebolavirus',\n",
       " 'Human_alphaherpesvirus_1',\n",
       " 'Yellow_fever_virus',\n",
       " 'Human_mastadenovirus_C',\n",
       " 'Human_mastadenovirus_B',\n",
       " 'Human_polyomavirus_13',\n",
       " 'Human_respirovirus_1',\n",
       " 'Primate_erythroparvovirus_3',\n",
       " 'Lassa_mammarenavirus',\n",
       " 'Enterovirus_I',\n",
       " 'Enterovirus_G',\n",
       " 'Primate_erythroparvovirus_1',\n",
       " 'Influenza_B_virus',\n",
       " 'Human_polyomavirus_7',\n",
       " 'Cosavirus_E',\n",
       " 'Human_polyomavirus_4',\n",
       " 'Aichivirus_D',\n",
       " 'Mamastrovirus_1',\n",
       " 'Dhori_thogotovirus']"
      ]
     },
     "execution_count": null,
     "metadata": {},
     "output_type": "execute_result"
    }
   ],
   "source": [
    "label2virus[smallest_prec].tolist()"
   ]
  },
  {
   "cell_type": "code",
   "execution_count": null,
   "metadata": {},
   "outputs": [
    {
     "data": {
      "text/plain": [
       "['Variola_virus',\n",
       " 'Monkeypox_virus',\n",
       " 'Human_betaherpesvirus_6B',\n",
       " 'Enterovirus_E',\n",
       " 'Human_betaherpesvirus_6A',\n",
       " 'Human_polyomavirus_12',\n",
       " 'Human_polyomavirus_11',\n",
       " 'Influenza_A_virus',\n",
       " 'Rotavirus_H',\n",
       " 'Lymphocytic_choriomeningitis_mammarenavirus',\n",
       " 'Enterovirus_B',\n",
       " 'Eastern_equine_encephalitis_virus',\n",
       " 'Enterovirus_J',\n",
       " 'Enterovirus_F',\n",
       " 'Mamastrovirus_11',\n",
       " 'Enterovirus_C',\n",
       " 'Sapporo_virus',\n",
       " 'Rosavirus_A',\n",
       " 'Cosavirus_E',\n",
       " 'Parechovirus_A',\n",
       " 'Human_mastadenovirus_B',\n",
       " 'Norwalk_virus',\n",
       " 'Human_polyomavirus_3',\n",
       " 'Hantaan_orthohantavirus',\n",
       " 'Human_polyomavirus_6',\n",
       " 'Tai_Forest_ebolavirus',\n",
       " 'Dengue_virus',\n",
       " 'Mamastrovirus_14',\n",
       " 'Human_polyomavirus_13',\n",
       " 'Primate_erythroparvovirus_4',\n",
       " 'Human_alphaherpesvirus_2',\n",
       " 'Japanese_encephalitis_virus',\n",
       " 'Mumps_rubulavirus',\n",
       " 'Puumala_orthohantavirus',\n",
       " 'Human_mastadenovirus_E',\n",
       " 'Mamastrovirus_17',\n",
       " 'Mamastrovirus_15',\n",
       " 'Mupapillomavirus_2',\n",
       " 'Mokola_lyssavirus',\n",
       " 'Machupo_mammarenavirus',\n",
       " 'Primate_T-lymphotropic_virus_3',\n",
       " 'Mamastrovirus_16',\n",
       " 'Mamastrovirus_12',\n",
       " 'Rotavirus_G',\n",
       " 'Mamastrovirus_7',\n",
       " 'Zaire_ebolavirus',\n",
       " 'Aichivirus_A',\n",
       " 'Sandfly_fever_Naples_phlebovirus',\n",
       " 'Mayaro_virus',\n",
       " 'Human_polyomavirus_5']"
      ]
     },
     "execution_count": null,
     "metadata": {},
     "output_type": "execute_result"
    }
   ],
   "source": [
    "label2virus[smallest_recall].tolist()"
   ]
  },
  {
   "cell_type": "code",
   "execution_count": null,
   "metadata": {},
   "outputs": [],
   "source": [
    "smallest_df = pd.DataFrame(\n",
    "    data=confmat.numpy()[smallest_prec_and_recall, :][:, smallest_prec_and_recall], \n",
    "    index=label2virus[smallest_prec_and_recall], \n",
    "    columns=label2virus[smallest_prec_and_recall], \n",
    ")"
   ]
  },
  {
   "cell_type": "code",
   "execution_count": null,
   "metadata": {},
   "outputs": [],
   "source": []
  },
  {
   "cell_type": "code",
   "execution_count": null,
   "metadata": {},
   "outputs": [
    {
     "data": {
      "image/png": "[encoded data removed]",
      "text/plain": [
       "<Figure size 864x864 with 2 Axes>"
      ]
     },
     "metadata": {
      "needs_background": "light"
     },
     "output_type": "display_data"
    }
   ],
   "source": [
    "fig, ax = plt.subplots(1, 1, figsize=(12,12))\n",
    "# cmap = sns.diverging_palette(230, 20, as_cmap=True)\n",
    "ax.set_xlabel('Predictions')\n",
    "ax.set_ylabel('Actuals')\n",
    "ax.set_title('Confusion Matrix')\n",
    "mask = np.zeros_like(smallest_df.values)\n",
    "mask[np.triu_indices_from(mask)] = True\n",
    "sns.heatmap(smallest_df, mask=mask, center=0, vmax=15, cmap=cmap, square=True, annot=True, ax=ax);"
   ]
  },
  {
   "cell_type": "code",
   "execution_count": null,
   "metadata": {},
   "outputs": [],
   "source": []
  },
  {
   "cell_type": "code",
   "execution_count": null,
   "metadata": {},
   "outputs": [],
   "source": []
  },
  {
   "cell_type": "markdown",
   "metadata": {},
   "source": [
    "# New Section"
   ]
  },
  {
   "cell_type": "code",
   "execution_count": null,
   "metadata": {},
   "outputs": [],
   "source": []
  }
 ],
 "metadata": {
  "kernelspec": {
   "display_name": "Python 3 (ipykernel)",
   "language": "python",
   "name": "python3"
  }
 },
 "nbformat": 4,
 "nbformat_minor": 1
}
