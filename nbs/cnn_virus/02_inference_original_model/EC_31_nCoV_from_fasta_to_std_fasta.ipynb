{
 "cells": [
  {
   "cell_type": "markdown",
   "id": "5eed1a20",
   "metadata": {},
   "source": [
    "# Convert non CoV fasta to standard fasta file"
   ]
  },
  {
   "cell_type": "markdown",
   "id": "1c531cf3",
   "metadata": {},
   "source": [
    "## Setup"
   ]
  },
  {
   "cell_type": "code",
   "execution_count": null,
   "id": "b10e6d4f",
   "metadata": {},
   "outputs": [
    {
     "name": "stdout",
     "output_type": "stream",
     "text": [
      "The notebook is running locally\n"
     ]
    }
   ],
   "source": [
    "try:\n",
    "    from google.colab import drive\n",
    "    ON_COLAB = True\n",
    "    print('The notebook is running on colab')\n",
    "    !pip install ecutilities\n",
    "except:\n",
    "    ON_COLAB = False\n",
    "    print('The notebook is running locally')"
   ]
  },
  {
   "cell_type": "code",
   "execution_count": null,
   "id": "7a8592bd",
   "metadata": {},
   "outputs": [],
   "source": [
    "from ecutilities.ipython import nb_setup"
   ]
  },
  {
   "cell_type": "code",
   "execution_count": null,
   "id": "bcfc22f3",
   "metadata": {},
   "outputs": [
    {
     "name": "stdout",
     "output_type": "stream",
     "text": [
      "Set autoreload mode\n"
     ]
    }
   ],
   "source": [
    "nb_setup()"
   ]
  },
  {
   "cell_type": "code",
   "execution_count": null,
   "id": "95351c0e",
   "metadata": {},
   "outputs": [],
   "source": [
    "from metagentools.art import ArtIllumina\n",
    "from metagentools.core import TextFileBaseIterator\n",
    "from metagentools.cnn_virus.data import FastaFileIterator, FastaFileReader\n",
    "from pathlib import Path"
   ]
  },
  {
   "cell_type": "markdown",
   "id": "fee5fc16",
   "metadata": {},
   "source": [
    "# Define Paths"
   ]
  },
  {
   "cell_type": "code",
   "execution_count": null,
   "id": "cff6d8c0",
   "metadata": {},
   "outputs": [],
   "source": [
    "p2nCoV = Path('../../../data/ncov_data').resolve()\n",
    "assert p2nCoV.is_dir()\n",
    "\n",
    "species = 'rhinolophus_ferrumequinum'\n",
    "p2dna = p2nCoV / f\"{species}/dna\"\n",
    "assert p2dna.is_dir()"
   ]
  },
  {
   "cell_type": "markdown",
   "id": "66527421",
   "metadata": {},
   "source": [
    "# Process fasta.gz and fasta"
   ]
  },
  {
   "cell_type": "code",
   "execution_count": null,
   "id": "a0c70d2a",
   "metadata": {},
   "outputs": [],
   "source": [
    "p2fa = p2dna/'Rhinolophus_ferrumequinum.mRhiFer1_v1.p.dna_rm.primary_assembly.1.fa'\n",
    "assert p2fa.is_file()"
   ]
  },
  {
   "cell_type": "code",
   "execution_count": null,
   "id": "7e51d8f7",
   "metadata": {},
   "outputs": [
    {
     "name": "stdout",
     "output_type": "stream",
     "text": [
      "\n",
      "Sequence 1:\n",
      ">1 dna_rm:primary_assembly primary_assembly:mRhiFer1_v1.p:1:1:124933378:1 REF\n",
      "\n",
      "CTGAGGGATTTNNNNNNNNNNNNNNNNNNNNNNNNTCTATGATATATTTCTAGGGTTAGG ...\n",
      "\n",
      "Sequence 2:\n",
      "CTTAGAAGGAGAAAGGGAGGCACTATCTCAAAGAAAGCAGATGAGGACACAGATGCAGGG\n",
      "\n",
      "AGAAAAGTAAACGCTGTAAATGATTCTGGGGTTTGTGTATGTGTAGAGGAAAACATCCAT ...\n",
      "\n",
      "Sequence 3:\n",
      "CCATCCATTTCTTCTTCGTCGTCCATGGCAATCAAGTTCTGTGACTACTTTCTGCTAAAT\n",
      "\n",
      "GTCCCCGATGTACATCTCTTTCTCTACCTTTCTGCTACCATCCCCCTAGGCAAGAACATC ...\n",
      "\n",
      "Sequence 4:\n",
      "AGCACTTCACAGCTAGGTGACTGTAACAGTCTCCTTGCTGTTTCGACTAAGAACTATTCT\n",
      "\n",
      "TCCTAGTCAAACTAAATACCCTACGAGACTAACTGTAATTAAACCTTGTCATCCCCACAA ...\n"
     ]
    }
   ],
   "source": [
    "fa = FastaFileReader(p2fa)\n",
    "fa.it.print_first_chuncks()"
   ]
  },
  {
   "cell_type": "markdown",
   "id": "ae19376d",
   "metadata": {},
   "source": [
    "This fasta file has a problem. It only includes one sequence, but it inserts `\\n` within the sequence. Needs preprocessing to eliminate all the `\\n` in the sequence"
   ]
  },
  {
   "cell_type": "markdown",
   "id": "a93a6e54",
   "metadata": {},
   "source": [
    "## Cleanup LR from sequence"
   ]
  },
  {
   "cell_type": "code",
   "execution_count": null,
   "id": "eed7b7fd",
   "metadata": {},
   "outputs": [
    {
     "name": "stdout",
     "output_type": "stream",
     "text": [
      "1-line chunk 1\n",
      ">1 dna_rm:primary_assembly primary_assembly:mRhiFer1_v1.p:1:1:124933378:1 REF\n",
      "\n",
      "1-line chunk 2\n",
      "CTGAGGGATTTNNNNNNNNNNNNNNNNNNNNNNNNTCTATGATATATTTCTAGGGTTAGG\n",
      "\n",
      "1-line chunk 3\n",
      "CTTAGAAGGAGAAAGGGAGGCACTATCTCAAAGAAAGCAGATGAGGACACAGATGCAGGG\n",
      "\n"
     ]
    }
   ],
   "source": [
    "it = TextFileBaseIterator(p2fa)\n",
    "it.print_first_chuncks()"
   ]
  },
  {
   "cell_type": "code",
   "execution_count": null,
   "id": "61ea9068",
   "metadata": {},
   "outputs": [
    {
     "name": "stdout",
     "output_type": "stream",
     "text": [
      "/home/vtec/projects/bio/metagentools/data/ncov_data/rhinolophus_ferrumequinum/dna/Rhinolophus_ferrumequinum.mRhiFer1_v1.p.dna_rm.primary_assembly.1.clean.fa\n"
     ]
    }
   ],
   "source": [
    "p2cleanfa = p2dna / f\"{p2fa.stem}.clean.fa\"\n",
    "print(p2cleanfa)\n",
    "if p2cleanfa.is_file(): p2cleanfa.unlink()\n",
    "\n",
    "with open(p2cleanfa, 'a') as fp:\n",
    "    for i, line in enumerate(TextFileBaseIterator(p2fa)):\n",
    "        if line[0] != '>' and '\\n' in line: \n",
    "            fp.write(line[:-1])\n",
    "        else:\n",
    "            fp.write(line)\n",
    "#         if i> 5: break"
   ]
  },
  {
   "cell_type": "markdown",
   "id": "d59068b6",
   "metadata": {},
   "source": [
    "`>1 dna:primary_assembly primary_assembly:mRhiFer1_v1.p:1:1:124933378:1 REF`"
   ]
  },
  {
   "cell_type": "code",
   "execution_count": null,
   "id": "ed0bffc1",
   "metadata": {},
   "outputs": [],
   "source": [
    "pattern = r'^>\\d[\\s\\t](?P<seq_type>dna):(?P<id_type>[\\w\\_]*)[\\s\\w](?P=id_type):(?P<assy>[\\w\\d\\_]*)\\.(?P<seq_level>[\\w]*):\\d*:\\d*:(?P<taxonomy>\\d*):(?P<id>\\d*)[\\s\\t]REF$'"
   ]
  },
  {
   "cell_type": "code",
   "execution_count": null,
   "id": "f1d6cf4c",
   "metadata": {},
   "outputs": [
    {
     "name": "stdout",
     "output_type": "stream",
     "text": [
      "rhinolophus_ferrumequinum\n",
      "  |--dna\n",
      "  |    |--Rhinolophus_ferrumequinum.mRhiFer1_v1.p.dna_rm.primary_assembly.1.clean.fa (0)\n"
     ]
    }
   ],
   "source": [
    "# TEMP - TODO - Replaced by function from ecutil package\n",
    "\n",
    "def show_subdirectory_tree(path, pattern=''):\n",
    "    \"\"\"Print the tree of what is in path: subdiretories and their content\"\"\"\n",
    "    parents = [p.name for p in path.parents]\n",
    "    paths = []\n",
    "    pad = ' ' * 2\n",
    "    idx = 0\n",
    "    print(f\"{parents[0]}\")\n",
    "    print(f\"{pad}|--{path.name}\")\n",
    "    for f in [p for p in path.glob(f\"*{pattern}*\") if p.is_file()]:\n",
    "        paths.append(f)\n",
    "        print(f\"{pad}|{pad*2}|--{f.name} ({idx})\")\n",
    "        idx += 1\n",
    "    for d in [p for p in path.glob(f\"*{pattern}*\") if p.is_dir()]:\n",
    "        for f in d.iterdir():\n",
    "            paths.append(f)\n",
    "            print(f\"{pad}|{pad*2}|--{f.name} ({idx})\")\n",
    "            idx += 1\n",
    "    return paths\n",
    "    \n",
    "files = show_subdirectory_tree(p2dna, pattern='clean')"
   ]
  }
 ],
 "metadata": {
  "kernelspec": {
   "display_name": "Python 3 (ipykernel)",
   "language": "python",
   "name": "python3"
  }
 },
 "nbformat": 4,
 "nbformat_minor": 5
}
