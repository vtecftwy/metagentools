{
 "cells": [
  {
   "cell_type": "markdown",
   "metadata": {},
   "source": [
    "# Inference with original cnn_virus trained model"
   ]
  },
  {
   "cell_type": "markdown",
   "metadata": {},
   "source": [
    "- Inference only, no training.\n",
    "- Experiments with cov_reads files\n",
    "- Trying locally"
   ]
  },
  {
   "cell_type": "markdown",
   "metadata": {},
   "source": [
    "# Imports and setup environment"
   ]
  },
  {
   "cell_type": "markdown",
   "metadata": {},
   "source": [
    "### Install and import packages"
   ]
  },
  {
   "cell_type": "code",
   "execution_count": null,
   "metadata": {},
   "outputs": [
    {
     "name": "stdout",
     "output_type": "stream",
     "text": [
      "`ecutilities` already installed\n",
      "Set autoreload mode\n"
     ]
    }
   ],
   "source": [
    "try:\n",
    "    from ecutilities.ipython import nb_setup\n",
    "    print('`ecutilities` already installed')\n",
    "except ModuleNotFoundError as e:\n",
    "    print('will install ecutilities')\n",
    "    !pip install -qqU ecutilities\n",
    "    from ecutilities.ipython import nb_setup\n",
    "\n",
    "nb_setup()"
   ]
  },
  {
   "cell_type": "code",
   "execution_count": null,
   "metadata": {},
   "outputs": [],
   "source": [
    "import numpy as np\n",
    "import pandas as pd\n",
    "import os\n",
    "import tensorflow as tf\n",
    "\n",
    "from pathlib import Path\n",
    "from pprint import pprint\n",
    "from tensorflow.python.client import device_lib\n",
    "from tensorflow.keras.models import load_model\n",
    "\n",
    "from metagentools.cnn_virus.data import strings_to_tensors\n",
    "from metagentools.cnn_virus.data import FastaFileReader, FastqFileReader, AlnFileReader, parse_metadata_art_read_aln\n",
    "from metagentools.core import TextFileBaseIterator"
   ]
  },
  {
   "cell_type": "code",
   "execution_count": null,
   "metadata": {},
   "outputs": [
    {
     "name": "stdout",
     "output_type": "stream",
     "text": [
      "Tensorflow version: 2.8.2\n",
      "\n",
      "\n",
      "Devices:\n",
      "  - CPU  /device:CPU:0                          \n",
      "  - GPU  /device:GPU:0  NVIDIA GeForce GTX 1050 \n"
     ]
    }
   ],
   "source": [
    "print(f\"Tensorflow version: {tf.__version__}\\n\")\n",
    "\n",
    "os.environ['TF_CPP_MIN_LOG_LEVEL'] = '3' # or any {'0', '1', '2'}\n",
    "\n",
    "devices = device_lib.list_local_devices()\n",
    "print('\\nDevices:')\n",
    "for d in devices:\n",
    "    t = d.device_type\n",
    "    name = d.physical_device_desc\n",
    "    l = [item.split(':', 1) for item in name.split(', ')]\n",
    "    name_attr = dict([x for x in l if len(x)==2])\n",
    "    dev = name_attr.get('name', ' ')\n",
    "    print(f\"  - {t}  {d.name} {dev:25s}\")"
   ]
  },
  {
   "cell_type": "markdown",
   "metadata": {},
   "source": [
    "## Install and import custom code, mount gdrive"
   ]
  },
  {
   "cell_type": "code",
   "execution_count": null,
   "metadata": {},
   "outputs": [
    {
     "data": {
      "text/plain": [
       "PosixPath('/home/vtec/projects/bio/metagentools/nbs/cnn_virus/02_inference_original_model')"
      ]
     },
     "execution_count": null,
     "metadata": {},
     "output_type": "execute_result"
    }
   ],
   "source": [
    "p = Path().absolute()\n",
    "p.absolute()"
   ]
  },
  {
   "cell_type": "code",
   "execution_count": null,
   "metadata": {},
   "outputs": [
    {
     "data": {
      "text/plain": [
       "PosixPath('/home/vtec/projects/bio/metagentools/nbs')"
      ]
     },
     "execution_count": null,
     "metadata": {},
     "output_type": "execute_result"
    }
   ],
   "source": [
    "# MODIFY AFTER INSTALLING ECUTILITIES >= 1.2.3\n",
    "\n",
    "from ecutilities.core import validate_path\n",
    "\n",
    "def safe_path(\n",
    "    path:str|Path, # path to validate\n",
    ")-> Path:          # validated path as a  pathlib.Path\n",
    "    \"\"\"\"\"\"\n",
    "    validate_path(path, path_type='dir', raise_error=True)\n",
    "    if isinstance(path, str): \n",
    "        path = Path(path)\n",
    "    return path\n",
    "\n",
    "def nbs_root_dir(\n",
    "    path:str|Path|None = None, # path from where to seek for notebook parent directory\n",
    "    pattern:str = 'nbs',       # pattern to identify the nbs directory\n",
    ")-> Path:                      # path of the parent directory\n",
    "    \"\"\"Climb the directory tree up to the notebook directory and return its path\"\"\"    \n",
    "    if path is None: path = Path()\n",
    "    path = safe_path(path).absolute()\n",
    "    tree = [path.name] + [p.name for p in path.parents]\n",
    "    mask = [True if n.startswith(pattern) else False for n in tree]\n",
    "    nbs = Path(f\"{'../' * (mask.index(True))}\").resolve()\n",
    "    return nbs\n",
    "    \n",
    "nbs = nbs_root_dir(Path())\n",
    "nbs"
   ]
  },
  {
   "cell_type": "code",
   "execution_count": null,
   "metadata": {},
   "outputs": [
    {
     "name": "stdout",
     "output_type": "stream",
     "text": [
      "Running locally\n",
      "Make sure you have installed the custom project code in your environment\n",
      "/home/vtec/projects/bio/metagentools/data\n"
     ]
    }
   ],
   "source": [
    "try:\n",
    "    from google.colab import drive\n",
    "    ON_COLAB = True\n",
    "    print('Running on colab')\n",
    "    print('Installing custom project code')   \n",
    "    !pip install -U git+https://github.com/vtecftwy/metagenomics.git@refactor_cnn_virus\n",
    "    drive.mount('/content/gdrive')\n",
    "    \n",
    "    p2drive = Path('/content/gdrive/MyDrive/Metagenonics')\n",
    "    assert p2drive.is_dir()\n",
    "    p2data =  p2drive / 'CNN_Virus_data'\n",
    "    assert p2data.is_dir()\n",
    "\n",
    "except ModuleNotFoundError as e:\n",
    "#     print(e)\n",
    "    ON_COLAB = False\n",
    "    print('Running locally')\n",
    "    print('Make sure you have installed the custom project code in your environment')\n",
    "    p2data = nbs_root_dir().parent / 'data/'\n",
    "    assert p2data.is_dir()\n",
    "    print(p2data.absolute())"
   ]
  },
  {
   "cell_type": "markdown",
   "metadata": {},
   "source": [
    "# Experiments with simulated reads"
   ]
  },
  {
   "cell_type": "markdown",
   "metadata": {},
   "source": [
    "## Setup paths"
   ]
  },
  {
   "cell_type": "markdown",
   "metadata": {},
   "source": [
    "This assumes that the shared gdrive directory is accessible through a shortcut called `Metagenomics` under the root of gdrive."
   ]
  },
  {
   "cell_type": "code",
   "execution_count": null,
   "metadata": {},
   "outputs": [],
   "source": [
    "# p2drive = Path('/content/gdrive/MyDrive/Metagenonics')\n",
    "# assert p2drive.is_dir()\n",
    "\n",
    "# p2data =  p2drive / 'CNN_Virus_data'\n",
    "# assert p2data.is_dir()"
   ]
  },
  {
   "cell_type": "code",
   "execution_count": null,
   "metadata": {},
   "outputs": [],
   "source": [
    "# path for original trained model\n",
    "p2saved = p2data / 'saved/cnn_virus_original/pretrained_model.h5'\n",
    "p2simreads = p2data / 'cov_simreads/single_10seq_50bp'\n",
    "p2virus_labels = p2data / 'CNN_Virus_data/virus_name_mapping'\n",
    "assert p2saved.is_file()\n",
    "assert p2simreads.is_dir()\n",
    "assert p2virus_labels.is_file()\n",
    "\n",
    "#path for the learning weights file\n",
    "# filepath_weights=p2data / \"weight_of_classes\"\n",
    "# assert filepath_weights.is_file()"
   ]
  },
  {
   "cell_type": "markdown",
   "metadata": {},
   "source": [
    "## Explore simread output files"
   ]
  },
  {
   "cell_type": "code",
   "execution_count": null,
   "metadata": {},
   "outputs": [],
   "source": [
    "p2fasta = p2data / 'cov_data/cov_virus_sequences_ten.fa'\n",
    "p2fastq = p2simreads / f\"{p2simreads.stem}.fq\"\n",
    "p2aln = p2simreads / f\"{p2simreads.stem}.aln\"\n",
    "assert p2fastq.is_file()\n",
    "assert p2aln.is_file()\n",
    "assert p2fasta.is_file()"
   ]
  },
  {
   "cell_type": "code",
   "execution_count": null,
   "metadata": {},
   "outputs": [],
   "source": [
    "from metagentools.cnn_virus.data import FastaFileReader, FastqFileReader, AlnFileReader, parse_metadata_art_read_aln\n",
    "from metagentools.core import TextFileBaseIterator"
   ]
  },
  {
   "cell_type": "code",
   "execution_count": null,
   "metadata": {},
   "outputs": [],
   "source": [
    "fasta = FastaFileReader(p2fasta)\n",
    "fastq = FastqFileReader(p2fastq)\n",
    "aln = AlnFileReader(p2aln)"
   ]
  },
  {
   "cell_type": "markdown",
   "metadata": {},
   "source": [
    "### Exploring the simreads in fastaq"
   ]
  },
  {
   "cell_type": "code",
   "execution_count": null,
   "metadata": {},
   "outputs": [
    {
     "name": "stdout",
     "output_type": "stream",
     "text": [
      "2591237:ncbi:1-60400\n",
      "\n",
      "{'read_nbr': '60400',\n",
      " 'readid': '2591237:ncbi:1-60400',\n",
      " 'seq_nbr': '1',\n",
      " 'seqid': '2591237',\n",
      " 'sequence': 'ACAACTCCTATTCGTAGTTGAAGTTGTTGACAAATACTTTGATTGTTACG',\n",
      " 'source': 'ncbi'}\n",
      "2591237:ncbi:1-60399\n",
      "\n",
      "{'read_nbr': '60399',\n",
      " 'readid': '2591237:ncbi:1-60399',\n",
      " 'seq_nbr': '1',\n",
      " 'seqid': '2591237',\n",
      " 'sequence': 'GATCAATGTGGCATCTACAATACAGACAGCATGAAGCACCACCAAAGGAC',\n",
      " 'source': 'ncbi'}\n",
      "2591237:ncbi:1-60398\n",
      "\n",
      "{'read_nbr': '60398',\n",
      " 'readid': '2591237:ncbi:1-60398',\n",
      " 'seq_nbr': '1',\n",
      " 'seqid': '2591237',\n",
      " 'sequence': 'ATCTACCAGTGGTAGATGGGTTCTTAATAATGAACATTATAGAGCTCTAC',\n",
      " 'source': 'ncbi'}\n"
     ]
    }
   ],
   "source": [
    "for i, (k,v) in enumerate(fastq.parse_fastq(add_seq=True).items()):\n",
    "    print(k)\n",
    "    print()\n",
    "    pprint(v)\n",
    "    if i+1 >= 3: break"
   ]
  },
  {
   "cell_type": "markdown",
   "metadata": {},
   "source": [
    "### Exploring ALN header (reference sequences)"
   ]
  },
  {
   "cell_type": "code",
   "execution_count": null,
   "metadata": {},
   "outputs": [
    {
     "name": "stdout",
     "output_type": "stream",
     "text": [
      "{'11120': {'refseq_accession': 'MN987231',\n",
      "           'refseq_length': '27617',\n",
      "           'refseq_nbr': '5',\n",
      "           'refseqid': '11120',\n",
      "           'source': 'ncbi',\n",
      "           'species': 'Infectious bronchitis virus  scientific name'},\n",
      " '11128': {'refseq_accession': 'LC494191',\n",
      "           'refseq_length': '30942',\n",
      "           'refseq_nbr': '2',\n",
      "           'refseqid': '11128',\n",
      "           'source': 'ncbi',\n",
      "           'species': 'Bovine coronavirus  scientific name'},\n",
      " '1699095': {'refseq_accession': 'KT368904',\n",
      "             'refseq_length': '27395',\n",
      "             'refseq_nbr': '10',\n",
      "             'refseqid': '1699095',\n",
      "             'source': 'ncbi',\n",
      "             'species': 'Camel alphacoronavirus  scientific name'},\n",
      " '2591237': {'refseq_accession': 'MK211378',\n",
      "             'refseq_length': '30213',\n",
      "             'refseq_nbr': '1',\n",
      "             'refseqid': '2591237',\n",
      "             'source': 'ncbi',\n",
      "             'species': 'Coronavirus BtRs-BetaCoV/YN2018D  scientific name'},\n",
      " '277944': {'refseq_accession': 'LC654455',\n",
      "            'refseq_length': '27516',\n",
      "            'refseq_nbr': '4',\n",
      "            'refseqid': '277944',\n",
      "            'source': 'ncbi',\n",
      "            'species': 'Human coronavirus NL63  scientific name'},\n",
      " '28295': {'refseq_accession': 'KR873434',\n",
      "           'refseq_length': '28038',\n",
      "           'refseq_nbr': '9',\n",
      "           'refseqid': '28295',\n",
      "           'source': 'ncbi',\n",
      "           'species': 'Porcine epidemic diarrhea virus  scientific name'},\n",
      " '31631': {'refseq_accession': 'KY967361',\n",
      "           'refseq_length': '30661',\n",
      "           'refseq_nbr': '3',\n",
      "           'refseqid': '31631',\n",
      "           'source': 'ncbi',\n",
      "           'species': 'Human coronavirus OC43  scientific name'}}\n"
     ]
    }
   ],
   "source": [
    "pprint(aln.ref_sequences)"
   ]
  },
  {
   "cell_type": "markdown",
   "metadata": {},
   "source": [
    "### Exploring read's metadata"
   ]
  },
  {
   "cell_type": "code",
   "execution_count": null,
   "metadata": {},
   "outputs": [
    {
     "name": "stdout",
     "output_type": "stream",
     "text": [
      "2591237:ncbi:1-60400\n",
      "{'aln_start_pos': '14770',\n",
      " 'read_nbr': '60400',\n",
      " 'readid': '2591237:ncbi:1-60400',\n",
      " 'ref_seq_aligned': 'ACAACTCCTATTCGTAGTTGAAGTTGTTGACAAATACTTTGATTGTTACG',\n",
      " 'ref_seq_strand': '+',\n",
      " 'refseq_nbr': '1',\n",
      " 'refseqid': '2591237',\n",
      " 'source': 'ncbi'}\n",
      "\n",
      "2591237:ncbi:1-60399\n",
      "{'aln_start_pos': '17012',\n",
      " 'read_nbr': '60399',\n",
      " 'readid': '2591237:ncbi:1-60399',\n",
      " 'ref_seq_aligned': 'GATCAATGTGGCATCTACAATACAGACAGCATGAAGCACCACCAAAGGAC',\n",
      " 'ref_seq_strand': '-',\n",
      " 'refseq_nbr': '1',\n",
      " 'refseqid': '2591237',\n",
      " 'source': 'ncbi'}\n",
      "\n",
      "2591237:ncbi:1-60398\n",
      "{'aln_start_pos': '9188',\n",
      " 'read_nbr': '60398',\n",
      " 'readid': '2591237:ncbi:1-60398',\n",
      " 'ref_seq_aligned': 'ATCTACCAGTGGTAGATGGGTTCTTAATAATGAACATTATAGAGCTCTAC',\n",
      " 'ref_seq_strand': '+',\n",
      " 'refseq_nbr': '1',\n",
      " 'refseqid': '2591237',\n",
      " 'source': 'ncbi'}\n",
      "\n"
     ]
    }
   ],
   "source": [
    "for i, (k,v) in enumerate(aln.parse_aln(add_ref_seq_aligned=True).items()):\n",
    "    print(k)\n",
    "    pprint(v)\n",
    "    print()\n",
    "    if i+1>=3: break"
   ]
  },
  {
   "cell_type": "code",
   "execution_count": null,
   "metadata": {},
   "outputs": [],
   "source": []
  },
  {
   "cell_type": "code",
   "execution_count": null,
   "metadata": {},
   "outputs": [],
   "source": [
    "fasta = FastaFileReader(p2fasta)\n",
    "fastq = FastqFileReader(p2fastq)\n",
    "aln = AlnFileReader(p2aln)"
   ]
  },
  {
   "cell_type": "code",
   "execution_count": null,
   "metadata": {},
   "outputs": [],
   "source": [
    "refseqs_fasta = fasta.parse_fasta(add_seq=True)\n",
    "simreads = fastq.parse_fastq(add_seq=True)\n",
    "refseqs_aln = aln.ref_sequences\n",
    "simread_align = aln.parse_aln(add_ref_seq_aligned=True, add_read_seq_aligned=True)"
   ]
  },
  {
   "cell_type": "markdown",
   "metadata": {},
   "source": [
    "Check consistency between refseqs from fasta and from aln "
   ]
  },
  {
   "cell_type": "code",
   "execution_count": null,
   "metadata": {},
   "outputs": [
    {
     "data": {
      "text/plain": [
       "('TGCA', 'fedcba')"
      ]
     },
     "execution_count": null,
     "metadata": {},
     "output_type": "execute_result"
    }
   ],
   "source": [
    "# utility functions\n",
    "def opposite_strand(seq):\n",
    "    conv = {'A':'T', 'C':'G', 'G':'C', 'T':'A'}\n",
    "    return ''.join([conv[base] for base in seq])\n",
    "\n",
    "def reverse_sequence(seq):\n",
    "    return seq[::-1]\n",
    "\n",
    "opposite_strand('ACGT'), reverse_sequence('abcdef')"
   ]
  },
  {
   "cell_type": "markdown",
   "metadata": {},
   "source": [
    "Check aln refseq information"
   ]
  },
  {
   "cell_type": "code",
   "execution_count": null,
   "metadata": {},
   "outputs": [
    {
     "data": {
      "text/plain": [
       "('MN987231', 27617)"
      ]
     },
     "execution_count": null,
     "metadata": {},
     "output_type": "execute_result"
    }
   ],
   "source": [
    "# refseqid = '2591237'\n",
    "refseqid = '11120'\n",
    "original_seq = refseqs_fasta[refseqid]['sequence']\n",
    "original_seq_accession = refseqs_fasta[refseqid]['accession']\n",
    "original_seq_accession, len(original_seq)"
   ]
  },
  {
   "cell_type": "code",
   "execution_count": null,
   "metadata": {},
   "outputs": [
    {
     "data": {
      "text/plain": [
       "('MN987231', 27617)"
      ]
     },
     "execution_count": null,
     "metadata": {},
     "output_type": "execute_result"
    }
   ],
   "source": [
    "refseqs_aln[refseqid]['refseq_accession'], int(refseqs_aln[refseqid]['refseq_length'])"
   ]
  },
  {
   "cell_type": "code",
   "execution_count": null,
   "metadata": {},
   "outputs": [],
   "source": [
    "assert original_seq_accession == refseqs_aln[refseqid]['refseq_accession']\n",
    "assert len(original_seq) == int(refseqs_aln[refseqid]['refseq_length'])"
   ]
  },
  {
   "cell_type": "markdown",
   "metadata": {},
   "source": [
    "### Check alignment information"
   ]
  },
  {
   "cell_type": "code",
   "execution_count": null,
   "metadata": {},
   "outputs": [
    {
     "name": "stdout",
     "output_type": "stream",
     "text": [
      "{'aln_start_pos': '14770',\n",
      " 'read_nbr': '60400',\n",
      " 'read_seq_aligned': 'ACAACTCCTATTCGTAGTTGAAGTTGTTGACAAATACTTTGATTGTTACG',\n",
      " 'readid': '2591237:ncbi:1-60400',\n",
      " 'ref_seq_aligned': 'ACAACTCCTATTCGTAGTTGAAGTTGTTGACAAATACTTTGATTGTTACG',\n",
      " 'ref_seq_strand': '+',\n",
      " 'refseq_nbr': '1',\n",
      " 'refseqid': '2591237',\n",
      " 'source': 'ncbi'}\n"
     ]
    }
   ],
   "source": [
    "pprint(simread_align['2591237:ncbi:1-60400'])"
   ]
  },
  {
   "cell_type": "markdown",
   "metadata": {},
   "source": [
    "Select all reads generated from a single reference sequence"
   ]
  },
  {
   "cell_type": "code",
   "execution_count": null,
   "metadata": {},
   "outputs": [
    {
     "name": "stdout",
     "output_type": "stream",
     "text": [
      "Select all reads from reference sequence '11120''\n",
      "Total of 55,200 reads\n"
     ]
    }
   ],
   "source": [
    "print(f\"Select all reads from reference sequence '{refseqid}''\")\n",
    "reads_from_refseq = {k:v for k,v in simread_align.items() if v['refseqid']==refseqid}\n",
    "nbr_generated_reads = len(reads_from_refseq)\n",
    "print(f\"Total of {nbr_generated_reads:,d} reads\")"
   ]
  },
  {
   "cell_type": "code",
   "execution_count": null,
   "metadata": {},
   "outputs": [
    {
     "name": "stdout",
     "output_type": "stream",
     "text": [
      "{'aln_start_pos': '1286',\n",
      " 'read_nbr': '1',\n",
      " 'read_seq_aligned': 'TCTTTGAAGAACTTCCAAATGGTTTTATGGGTGCGAAAATTTTCTCAACA',\n",
      " 'readid': '11120:ncbi:5-1',\n",
      " 'ref_seq_aligned': 'TCTTTGAAGAACTTCCAAATGGTTTTATGGGTGCGAAAATTTTCTCAACA',\n",
      " 'ref_seq_strand': '+',\n",
      " 'refseq_nbr': '5',\n",
      " 'refseqid': '11120',\n",
      " 'source': 'ncbi'}\n"
     ]
    }
   ],
   "source": [
    "n = -1\n",
    "selected_simread = [v for k,v in reads_from_refseq.items()][n]\n",
    "pprint(selected_simread)"
   ]
  },
  {
   "cell_type": "code",
   "execution_count": null,
   "metadata": {},
   "outputs": [],
   "source": [
    "def check_alignment(n, reads):\n",
    "    selected_simread = [v for k,v in reads.items()][n]\n",
    "    print(f\"{'='*80}\")\n",
    "    print(f\"checking read {selected_simread['readid']}\")\n",
    "    start = int(selected_simread['aln_start_pos'])\n",
    "    strand = selected_simread['ref_seq_strand']\n",
    "    print(f\"simread info:\")\n",
    "    print(f\" - from `{strand}` strand\")\n",
    "    print(f\" - position: {start:,d}\")\n",
    "\n",
    "    if strand == '+':\n",
    "        segment_from_refseq = original_seq[start:start+50]\n",
    "    else:\n",
    "        segment_from_refseq = opposite_strand(reverse_sequence(original_seq)[start:start+50])\n",
    "\n",
    "    print('sequences:')\n",
    "    print(f'- simread seq          :', selected_simread['read_seq_aligned'])\n",
    "    print(f'- refseq aligned       :', selected_simread['ref_seq_aligned'])\n",
    "    print(f'- segment in orig. seq :', segment_from_refseq)"
   ]
  },
  {
   "cell_type": "code",
   "execution_count": null,
   "metadata": {},
   "outputs": [
    {
     "name": "stdout",
     "output_type": "stream",
     "text": [
      "================================================================================\n",
      "checking read 11120:ncbi:5-1\n",
      "simread info:\n",
      " - from `+` strand\n",
      " - position: 1,286\n",
      "sequences:\n",
      "- simread seq          : TCTTTGAAGAACTTCCAAATGGTTTTATGGGTGCGAAAATTTTCTCAACA\n",
      "- refseq aligned       : TCTTTGAAGAACTTCCAAATGGTTTTATGGGTGCGAAAATTTTCTCAACA\n",
      "- segment in orig. seq : TCTTTGAAGAACTTCCAAATGGTTTTATGGGTGCGAAAATTTTCTCAACA\n",
      "================================================================================\n",
      "checking read 11120:ncbi:5-2\n",
      "simread info:\n",
      " - from `-` strand\n",
      " - position: 3,836\n",
      "sequences:\n",
      "- simread seq          : AAAGTTGTGTAGTAAGAAGATTTCTTACCACACTTACTCATTAAAGGAAT\n",
      "- refseq aligned       : AAAGTTGTGTAGTAAGAAGATTTCTTACCACACTTACTCATTAAAGGAAT\n",
      "- segment in orig. seq : AAAGTTGTGTAGTAAGAAGATTTCTTACCACACTTACTCATTAAAGGAAT\n",
      "================================================================================\n",
      "checking read 11120:ncbi:5-3\n",
      "simread info:\n",
      " - from `-` strand\n",
      " - position: 26,257\n",
      "sequences:\n",
      "- simread seq          : AACAGCTTCTTTAAAGAAAGCCAATGTTGAGAAAATTTTCGCACCCATAA\n",
      "- refseq aligned       : AACAGCTTCTTTAAAGAAAGCCAATGTTGAGAAAATTTTCGCACCCATAA\n",
      "- segment in orig. seq : AACAGCTTCTTTAAAGAAAGCCAATGTTGAGAAAATTTTCGCACCCATAA\n",
      "================================================================================\n",
      "checking read 11120:ncbi:5-4\n",
      "simread info:\n",
      " - from `+` strand\n",
      " - position: 14,611\n",
      "sequences:\n",
      "- simread seq          : CTCTAGCTAAGCAAGGTCTTGTAGCAGATATTGCTGGTTTTAGAGAAATT\n",
      "- refseq aligned       : CTCTAGCTAAGCAAGGTCTTGTAGCAGATATTGCTGGTTTTAGAGAAATT\n",
      "- segment in orig. seq : CTCTAGCTAAGCAAGGTCTTGTAGCAGATATTGCTGGTTTTAGAGAAATT\n",
      "================================================================================\n",
      "checking read 11120:ncbi:5-5\n",
      "simread info:\n",
      " - from `+` strand\n",
      " - position: 10,383\n",
      "sequences:\n",
      "- simread seq          : TTATGTGTTAATGGCCATTATTGTTAATTGCATGGGTTGGCTCTTTACGT\n",
      "- refseq aligned       : TTATGTGTTAATGGCCATTATTGTTAATTGCATGGGTTGGCTCTTTACGT\n",
      "- segment in orig. seq : TTATGTGTTAATGGCCATTATTGTTAATTGCATGGGTTGGCTCTTTACGT\n"
     ]
    }
   ],
   "source": [
    "for n in range(nbr_generated_reads-1, nbr_generated_reads-6, -1):\n",
    "    check_alignment(n, reads_from_refseq)"
   ]
  },
  {
   "cell_type": "markdown",
   "metadata": {},
   "source": [
    "## Create test dataset"
   ]
  },
  {
   "cell_type": "code",
   "execution_count": null,
   "metadata": {},
   "outputs": [],
   "source": [
    "p2original_set = p2data / 'CNN_Virus_data/50mer_validating'\n",
    "assert p2original_set.is_file()"
   ]
  },
  {
   "cell_type": "markdown",
   "metadata": {},
   "source": [
    "Original model dataset has one input (reads) and two outputs (label for the read and relative position)"
   ]
  },
  {
   "cell_type": "code",
   "execution_count": null,
   "metadata": {},
   "outputs": [
    {
     "name": "stdout",
     "output_type": "stream",
     "text": [
      "2-line chunk 1\n",
      "AAAAAGATTTTGAGAGAGGTCGACCTGTCCTCCTAAAACGTTTACAAAAG\t71\t0\n",
      "CATGTAACGCAGCTTAGTCCGATCGTGGCTATAATCCGTCTTTCGATTTG\t1\t7\n",
      "\n"
     ]
    }
   ],
   "source": [
    "orig_ds = TextFileBaseIterator(p2original_set, nlines=2)\n",
    "orig_ds.print_first_chuncks(1)"
   ]
  },
  {
   "cell_type": "code",
   "execution_count": null,
   "metadata": {},
   "outputs": [
    {
     "data": {
      "text/plain": [
       "'CCACGTCGATGAAGCTCCGACGAGAGTCGGCGCTGAGCCCGCGCACCTCC\\t71\\t6\\nAGCTCGTGGATCTCCCCTCCTTCTGCAGTTTCAACATCAGAAGCCCTGAA\\t87\\t1\\n'"
      ]
     },
     "execution_count": null,
     "metadata": {},
     "output_type": "execute_result"
    }
   ],
   "source": [
    "next(orig_ds)"
   ]
  },
  {
   "cell_type": "markdown",
   "metadata": {},
   "source": [
    "In a first step, we will only infer from the model, so we only need a text file with sequences\n",
    "\n",
    "```python\n",
    "2591237:ncbi:1-60400\n",
    "\n",
    "{'read_nbr': '60400',\n",
    " 'readid': '2591237:ncbi:1-60400',\n",
    " 'seq_nbr': '1',\n",
    " 'seqid': '2591237',\n",
    " 'sequence': 'ACAACTCCTATTCGTAGTTGAAGTTGTTGACAAATACTTTGATTGTTACG',\n",
    " 'source': 'ncbi'}\n",
    " ```"
   ]
  },
  {
   "cell_type": "markdown",
   "metadata": {},
   "source": [
    "```\n",
    "'11120:ncbi:5-1': {'aln_start_pos': '1286',\n",
    "                    'read_nbr': '1',\n",
    "                    'readid': '11120:ncbi:5-1',\n",
    "                    'ref_seq_strand': '+',\n",
    "                    'refseq_nbr': '5',\n",
    "                    'refseqid': '11120',\n",
    "                    'source': 'ncbi'},\n",
    "```"
   ]
  },
  {
   "cell_type": "code",
   "execution_count": null,
   "metadata": {},
   "outputs": [],
   "source": [
    "def get_infer_ds_from_fastq(p2fastq, overwrite_ds=False, nsamples=None):\n",
    "    \"\"\"Build a dataset file from fastq read data for inference only\"\"\"\n",
    "    fastq = FastqFileReader(p2fastq)\n",
    "    aln = AlnFileReader(p2fastq.parent / f\"{p2fastq.stem}.aln\")\n",
    "    \n",
    "    p2dataset = Path(f\"{p2fastq.stem}_ds\")\n",
    "    if p2dataset.is_file():\n",
    "        if overwrite_ds: \n",
    "            p2dataset.unlink()\n",
    "        else:\n",
    "            raise ValueError(f\"{p2dataset.name} already exists in {p2dataset.absolute()}\")\n",
    "    p2dataset.touch()\n",
    "    \n",
    "    read_ids = []\n",
    "    read_refseqs = []\n",
    "    read_start_pos = []\n",
    "    read_strand = []\n",
    "    \n",
    "    with open(p2dataset, 'a') as fp:\n",
    "        i = 1\n",
    "        for fastq_chunck, aln_chunck in zip(fastq.it, aln.it):\n",
    "            seq = fastq_chunck['sequence']\n",
    "            fp.write(f\"{seq}\\t{0}\\t{0}\\n\")\n",
    "#             print(f\"{seq}\\t{refseqid}\\t{start_pos}\")\n",
    "            \n",
    "            aln_meta = parse_metadata_art_read_aln(aln_chunck['definition line'])\n",
    "            read_ids.append(aln_meta['readid'])\n",
    "            read_refseqs.append(aln_meta['refseqid'])\n",
    "            read_start_pos.append(aln_meta['aln_start_pos'])\n",
    "            read_strand.append(aln_meta['ref_seq_strand'])\n",
    "\n",
    "            i += 1\n",
    "            if nsamples:\n",
    "\n",
    "                if i > nsamples: break\n",
    "    print(f\"Dataset with {i-1:,d} reads\")    \n",
    "    return p2dataset, np.array(list(zip(read_ids, read_refseqs, read_start_pos, read_strand)))"
   ]
  },
  {
   "cell_type": "code",
   "execution_count": null,
   "metadata": {},
   "outputs": [
    {
     "name": "stdout",
     "output_type": "stream",
     "text": [
      "Dataset with 571,980 reads\n"
     ]
    }
   ],
   "source": [
    "nsamples = None\n",
    "p2ds, reads_info = get_infer_ds_from_fastq(p2fastq, overwrite_ds=True, nsamples=nsamples)"
   ]
  },
  {
   "cell_type": "code",
   "execution_count": null,
   "metadata": {},
   "outputs": [
    {
     "data": {
      "text/plain": [
       "array([['2591237:ncbi:1-60400', '2591237', '14770', '+'],\n",
       "       ['2591237:ncbi:1-60399', '2591237', '17012', '-'],\n",
       "       ['2591237:ncbi:1-60398', '2591237', '9188', '+'],\n",
       "       ['2591237:ncbi:1-60397', '2591237', '6764', '-']], dtype='<U21')"
      ]
     },
     "execution_count": null,
     "metadata": {},
     "output_type": "execute_result"
    }
   ],
   "source": [
    "reads_info[:4, :]"
   ]
  },
  {
   "cell_type": "code",
   "execution_count": null,
   "metadata": {},
   "outputs": [],
   "source": [
    "import tensorflow as tf\n",
    "from tensorflow.keras.models import load_model\n",
    "\n",
    "from metagentools.cnn_virus.data import strings_to_tensors"
   ]
  },
  {
   "cell_type": "code",
   "execution_count": null,
   "metadata": {},
   "outputs": [],
   "source": [
    "text_ds = tf.data.TextLineDataset(p2ds).batch(32)\n",
    "ds = text_ds.map(strings_to_tensors)\n",
    "\n",
    "# for xb, (y1b, y2b) in ds.take(1):\n",
    "#     print(xb.shape, y1b.shape, y2b.shape)"
   ]
  },
  {
   "cell_type": "markdown",
   "metadata": {},
   "source": [
    "## Inference"
   ]
  },
  {
   "cell_type": "code",
   "execution_count": null,
   "metadata": {},
   "outputs": [],
   "source": [
    "model = load_model(p2saved)"
   ]
  },
  {
   "cell_type": "code",
   "execution_count": null,
   "metadata": {},
   "outputs": [],
   "source": [
    "# model.summary()"
   ]
  },
  {
   "cell_type": "code",
   "execution_count": null,
   "metadata": {},
   "outputs": [],
   "source": [
    "prob_preds = model.predict(ds)"
   ]
  },
  {
   "cell_type": "code",
   "execution_count": null,
   "metadata": {},
   "outputs": [
    {
     "data": {
      "text/plain": [
       "((571980, 187), (571980, 10))"
      ]
     },
     "execution_count": null,
     "metadata": {},
     "output_type": "execute_result"
    }
   ],
   "source": [
    "prob_preds[0].shape, prob_preds[1].shape"
   ]
  },
  {
   "cell_type": "code",
   "execution_count": null,
   "metadata": {},
   "outputs": [
    {
     "data": {
      "text/plain": [
       "array([117, 117, 117, 117,  32,  89, 117, 117,  94, 117])"
      ]
     },
     "execution_count": null,
     "metadata": {},
     "output_type": "execute_result"
    }
   ],
   "source": [
    "class_preds = np.argmax(prob_preds[0], axis=1)\n",
    "class_preds.shape\n",
    "class_preds[:10]"
   ]
  },
  {
   "cell_type": "code",
   "execution_count": null,
   "metadata": {},
   "outputs": [],
   "source": [
    "# ground truth - not relevant here\n",
    "# class_labels_ohe = None\n",
    "# for xb, (yb, _) in ds:\n",
    "#     class_labels_ohe = tf.concat([class_labels_ohe, yb], axis=0) if class_labels_ohe is not None else yb\n",
    "# # print(class_labels_ohe.shape)\n",
    "# class_labels = np.argmax(class_labels_ohe, axis=1)"
   ]
  },
  {
   "cell_type": "markdown",
   "metadata": {},
   "source": [
    "## Evaluate Model for cov"
   ]
  },
  {
   "cell_type": "markdown",
   "metadata": {},
   "source": [
    "Original model was trained with 187 different virus species."
   ]
  },
  {
   "cell_type": "code",
   "execution_count": null,
   "metadata": {},
   "outputs": [
    {
     "name": "stdout",
     "output_type": "stream",
     "text": [
      "Original model is trained to detect 187 virus species, including 2 coronavirus species:\n",
      " - Middle_East_respiratory_syndrome-related_coronavirus    \t94\n",
      " - Severe_acute_respiratory_syndrome-related_coronavirus    \t117\n",
      "\n"
     ]
    }
   ],
   "source": [
    "with open(p2virus_labels, 'r') as fp:\n",
    "    i, c = 0, 0\n",
    "    cov = []\n",
    "    while True:\n",
    "        line = fp.readline()\n",
    "        if line == '': break\n",
    "        elif 'corona' in line: \n",
    "            c += 1\n",
    "            line = line.replace('\\t', '    \\t')\n",
    "            cov.append(f\" - {line}\")\n",
    "        i += 1\n",
    "print(f\"Original model is trained to detect {i} virus species, including {c} coronavirus species:\")\n",
    "print(''.join(cov))"
   ]
  },
  {
   "cell_type": "markdown",
   "metadata": {},
   "source": [
    "In our case we only care about whether the model detects coronavirus species out of the sequences. We create two new functions:"
   ]
  },
  {
   "cell_type": "code",
   "execution_count": null,
   "metadata": {},
   "outputs": [
    {
     "data": {
      "text/plain": [
       "0.13603622504283366"
      ]
     },
     "execution_count": null,
     "metadata": {},
     "output_type": "execute_result"
    }
   ],
   "source": [
    "def is_cov(y_preds):\n",
    "    \"\"\"Return 1 if the corresponding prediction is a corona virus, 0 otherwise\"\"\"\n",
    "    return (y_preds == 94).astype(int) + (y_preds == 117).astype(int)\n",
    "\n",
    "def cov_acc(y_true, y_preds):\n",
    "    \"\"\"Evaluates the accuracy of the model assuming all evaluated reads are from corona virus\"\"\"\n",
    "    return is_cov(y_preds).sum()/y_preds.shape[0]\n",
    "\n",
    "cov_acc(None, class_preds)"
   ]
  },
  {
   "cell_type": "code",
   "execution_count": null,
   "metadata": {},
   "outputs": [
    {
     "name": "stdout",
     "output_type": "stream",
     "text": [
      "Reference Sequence: Infectious bronchitis virus  scientific name:\n",
      "  Nbr reads: 55,200\n",
      "  Accuracy:  0.065\n",
      "Reference Sequence: Bovine coronavirus  scientific name:\n",
      "  Nbr reads: 61,800\n",
      "  Accuracy:  0.055\n",
      "Reference Sequence: Camel alphacoronavirus  scientific name:\n",
      "  Nbr reads: 54,700\n",
      "  Accuracy:  0.074\n",
      "Reference Sequence: Coronavirus BtRs-BetaCoV/YN2018D  scientific name:\n",
      "  Nbr reads: 60,400\n",
      "  Accuracy:  0.733\n",
      "Reference Sequence: Human coronavirus NL63  scientific name:\n",
      "  Nbr reads: 55,000\n",
      "  Accuracy:  0.067\n",
      "Reference Sequence: Porcine epidemic diarrhea virus  scientific name:\n",
      "  Nbr reads: 223,800\n",
      "  Accuracy:  0.069\n",
      "Reference Sequence: Human coronavirus OC43  scientific name:\n",
      "  Nbr reads: 61,080\n",
      "  Accuracy:  0.057\n"
     ]
    }
   ],
   "source": [
    "aln = AlnFileReader(p2fastq.parent / f\"{p2fastq.stem}.aln\")\n",
    "acc_per_refseq = {}\n",
    "\n",
    "for refseqid in np.unique(reads_info[:,1]):\n",
    "    mask = reads_info[:,1] == refseqid\n",
    "    acc = cov_acc(None, class_preds[mask])\n",
    "    aln_refseq_meta = aln.ref_sequences[refseqid]\n",
    "    print(f\"Reference Sequence: {aln_refseq_meta['species']}:\")\n",
    "    print(f\"  Nbr reads: {class_preds[mask].shape[0]:,d}\")\n",
    "    print(f\"  Accuracy:  {acc:.3f}\")"
   ]
  },
  {
   "cell_type": "code",
   "execution_count": null,
   "metadata": {},
   "outputs": [
    {
     "name": "stdout",
     "output_type": "stream",
     "text": [
      "Ref. Sequence: Infectious bronchitis virus:\n",
      "  Accuracy :............... 0.065\n",
      "  Acc. coding strand: ..... 0.068\n",
      "  Acc. template strand: ... 0.051\n",
      "  Nbr reads: 55,200, incl. 27,632 from coding strand and 27,568 from template strand\n",
      "\n",
      "Ref. Sequence: Bovine coronavirus:\n",
      "  Accuracy :............... 0.055\n",
      "  Acc. coding strand: ..... 0.058\n",
      "  Acc. template strand: ... 0.051\n",
      "  Nbr reads: 61,800, incl. 30,928 from coding strand and 30,872 from template strand\n",
      "\n",
      "Ref. Sequence: Camel alphacoronavirus:\n",
      "  Accuracy :............... 0.074\n",
      "  Acc. coding strand: ..... 0.070\n",
      "  Acc. template strand: ... 0.051\n",
      "  Nbr reads: 54,700, incl. 27,313 from coding strand and 27,387 from template strand\n",
      "\n",
      "Ref. Sequence: Coronavirus BtRs-BetaCoV/YN2018D:\n",
      "  Accuracy :............... 0.733\n",
      "  Acc. coding strand: ..... 0.733\n",
      "  Acc. template strand: ... 0.051\n",
      "  Nbr reads: 60,400, incl. 30,099 from coding strand and 30,301 from template strand\n",
      "\n",
      "Ref. Sequence: Human coronavirus NL63:\n",
      "  Accuracy :............... 0.067\n",
      "  Acc. coding strand: ..... 0.062\n",
      "  Acc. template strand: ... 0.051\n",
      "  Nbr reads: 55,000, incl. 27,560 from coding strand and 27,440 from template strand\n",
      "\n",
      "Ref. Sequence: Porcine epidemic diarrhea virus:\n",
      "  Accuracy :............... 0.069\n",
      "  Acc. coding strand: ..... 0.065\n",
      "  Acc. template strand: ... 0.051\n",
      "  Nbr reads: 223,800, incl. 111,950 from coding strand and 111,850 from template strand\n",
      "\n",
      "Ref. Sequence: Human coronavirus OC43:\n",
      "  Accuracy :............... 0.057\n",
      "  Acc. coding strand: ..... 0.064\n",
      "  Acc. template strand: ... 0.051\n",
      "  Nbr reads: 61,080, incl. 30,565 from coding strand and 30,515 from template strand\n",
      "\n"
     ]
    }
   ],
   "source": [
    "for refseqid in np.unique(reads_info[:,1]):\n",
    "    mask_refseq = reads_info[:,1] == refseqid\n",
    "    mask_strand_coding = reads_info[:,3] == '+'\n",
    "    mask_strand_template = reads_info[:,3] == '-'\n",
    "    mask_coding = (mask_strand_coding.astype(int) * mask_refseq.astype(int)).astype(bool)\n",
    "    mask_template = (mask_strand_template.astype(int) * mask_refseq.astype(int)).astype(bool)\n",
    "\n",
    "    aln_refseq_meta = aln.ref_sequences[refseqid]\n",
    "    acc = cov_acc(None, class_preds[mask_refseq])\n",
    "    acc_coding = cov_acc(None, class_preds[mask_coding])\n",
    "    acc_template = cov_acc(None, class_preds[mask_template])\n",
    "       \n",
    "    print(f\"Ref. Sequence: {aln_refseq_meta['species'].replace('scientific name', '').strip()}:\")\n",
    "    print(f\"  Accuracy :............... {acc:.3f}\")\n",
    "    print(f\"  Acc. coding strand: ..... {acc_coding:.3f}\")\n",
    "    print(f\"  Acc. template strand: ... {acc_info:.3f}\")\n",
    "    print(f\"  Nbr reads: {class_preds[mask_refseq].shape[0]:,d}, incl. {mask_coding.sum():,d} from coding strand and {mask_template.sum():,d} from template strand\")\n",
    "    print()"
   ]
  },
  {
   "cell_type": "code",
   "execution_count": null,
   "metadata": {},
   "outputs": [],
   "source": []
  },
  {
   "cell_type": "markdown",
   "metadata": {},
   "source": [
    "**Confusion Matrix**\n",
    "The matrix **columns** represent the prediction labels and the **rows** represent the real labels. The confusion matrix is always a 2-D array of shape [n, n], where n is the number of valid labels for a given classification task."
   ]
  },
  {
   "cell_type": "code",
   "execution_count": null,
   "metadata": {},
   "outputs": [
    {
     "data": {
      "text/plain": [
       "array([1, 1, 1, ..., 0, 0, 0])"
      ]
     },
     "execution_count": null,
     "metadata": {},
     "output_type": "execute_result"
    }
   ],
   "source": [
    "is_cov(class_preds)"
   ]
  },
  {
   "cell_type": "code",
   "execution_count": null,
   "metadata": {},
   "outputs": [
    {
     "data": {
      "text/plain": [
       "TensorShape([2, 2])"
      ]
     },
     "execution_count": null,
     "metadata": {},
     "output_type": "execute_result"
    }
   ],
   "source": [
    "confmat = tf.math.confusion_matrix(np.ones_like(class_preds), is_cov(class_preds))\n",
    "confmat.shape"
   ]
  },
  {
   "cell_type": "code",
   "execution_count": null,
   "metadata": {},
   "outputs": [
    {
     "data": {
      "text/plain": [
       "array([[     0,      0],\n",
       "       [494170,  77810]], dtype=int32)"
      ]
     },
     "execution_count": null,
     "metadata": {},
     "output_type": "execute_result"
    }
   ],
   "source": [
    "confmat.numpy()"
   ]
  },
  {
   "cell_type": "code",
   "execution_count": null,
   "metadata": {},
   "outputs": [],
   "source": []
  },
  {
   "cell_type": "markdown",
   "metadata": {},
   "source": [
    "# Simreads from 25 sequences"
   ]
  },
  {
   "cell_type": "code",
   "execution_count": null,
   "metadata": {},
   "outputs": [],
   "source": [
    "p2saved = p2data / 'saved/cnn_virus_original/pretrained_model.h5'\n",
    "p2simreads = p2data / 'cov_simreads/single_25seq_50bp'\n",
    "p2virus_labels = p2data / 'CNN_Virus_data/virus_name_mapping'\n",
    "assert p2saved.is_file()\n",
    "assert p2simreads.is_dir()\n",
    "assert p2virus_labels.is_file()"
   ]
  },
  {
   "cell_type": "code",
   "execution_count": null,
   "metadata": {},
   "outputs": [
    {
     "name": "stdout",
     "output_type": "stream",
     "text": [
      "Dataset with 1,000,000 reads\n"
     ]
    }
   ],
   "source": [
    "p2fastq = p2simreads / f\"{p2simreads.stem}.fq\"\n",
    "p2aln = p2simreads / f\"{p2simreads.stem}.aln\"\n",
    "assert p2fastq.is_file()\n",
    "assert p2aln.is_file()\n",
    "\n",
    "nsamples = 1_000_000\n",
    "p2ds, reads_info = get_infer_ds_from_fastq(p2fastq, overwrite_ds=True, nsamples=nsamples)\n",
    "\n",
    "text_ds = tf.data.TextLineDataset(p2ds).batch(32)\n",
    "ds = text_ds.map(strings_to_tensors)"
   ]
  },
  {
   "cell_type": "code",
   "execution_count": null,
   "metadata": {},
   "outputs": [],
   "source": [
    "model = load_model(p2saved)"
   ]
  },
  {
   "cell_type": "markdown",
   "metadata": {},
   "source": [
    "#### handle GPU with tf"
   ]
  },
  {
   "cell_type": "code",
   "execution_count": null,
   "metadata": {},
   "outputs": [
    {
     "data": {
      "text/plain": [
       "PhysicalDevice(name='/physical_device:GPU:0', device_type='GPU')"
      ]
     },
     "execution_count": null,
     "metadata": {},
     "output_type": "execute_result"
    }
   ],
   "source": [
    "# device = tf.config.list_physical_devices('GPU')[0]\n",
    "# device"
   ]
  },
  {
   "cell_type": "code",
   "execution_count": null,
   "metadata": {},
   "outputs": [
    {
     "data": {
      "text/plain": [
       "{'current': 301555968, 'peak': 330915840}"
      ]
     },
     "execution_count": null,
     "metadata": {},
     "output_type": "execute_result"
    }
   ],
   "source": [
    "# tf.config.experimental.get_memory_info(device='GPU:0')"
   ]
  },
  {
   "cell_type": "code",
   "execution_count": null,
   "metadata": {},
   "outputs": [
    {
     "name": "stdout",
     "output_type": "stream",
     "text": [
      "Invalid device or cannot modify virtual devices once initialized.\n"
     ]
    }
   ],
   "source": [
    "# physical_devices = tf.config.list_physical_devices('GPU')\n",
    "# try:\n",
    "#     tf.config.experimental.set_memory_growth(physical_devices[0], True)\n",
    "#     assert tf.config.experimental.get_memory_growth(physical_devices[0])\n",
    "# except:\n",
    "#     print('Invalid device or cannot modify virtual devices once initialized.')"
   ]
  },
  {
   "cell_type": "code",
   "execution_count": null,
   "metadata": {},
   "outputs": [],
   "source": [
    "# tf.keras.backend.clear_session()"
   ]
  },
  {
   "cell_type": "code",
   "execution_count": null,
   "metadata": {},
   "outputs": [],
   "source": [
    "# model.summary()"
   ]
  },
  {
   "cell_type": "code",
   "execution_count": null,
   "metadata": {},
   "outputs": [],
   "source": [
    "# try:\n",
    "#     del model\n",
    "# except:\n",
    "#     pass\n",
    "# import gc\n",
    "# gc.collect()"
   ]
  },
  {
   "cell_type": "code",
   "execution_count": null,
   "metadata": {},
   "outputs": [
    {
     "name": "stdout",
     "output_type": "stream",
     "text": [
      "1 Physical GPUs, 1 Logical GPU\n"
     ]
    }
   ],
   "source": [
    "# gpus = tf.config.list_physical_devices('GPU')\n",
    "# if gpus:\n",
    "#   # Restrict TensorFlow to only use the first GPU\n",
    "#   try:\n",
    "#     tf.config.set_visible_devices(gpus[0], 'GPU')\n",
    "#     logical_gpus = tf.config.list_logical_devices('GPU')\n",
    "#     print(len(gpus), \"Physical GPUs,\", len(logical_gpus), \"Logical GPU\")\n",
    "#   except RuntimeError as e:\n",
    "#     # Visible devices must be set before GPUs have been initialized\n",
    "#     print(e)"
   ]
  },
  {
   "cell_type": "markdown",
   "metadata": {},
   "source": [
    "#### end of section"
   ]
  },
  {
   "cell_type": "code",
   "execution_count": null,
   "metadata": {},
   "outputs": [
    {
     "name": "stdout",
     "output_type": "stream",
     "text": [
      "   2194/Unknown - 45s 20ms/step"
     ]
    }
   ],
   "source": [
    "prob_preds = model.predict(ds, verbose=1)"
   ]
  },
  {
   "cell_type": "code",
   "execution_count": null,
   "metadata": {},
   "outputs": [
    {
     "data": {
      "text/plain": [
       "((750000, 187), (750000, 10))"
      ]
     },
     "execution_count": null,
     "metadata": {},
     "output_type": "execute_result"
    }
   ],
   "source": [
    "prob_preds[0].shape, prob_preds[1].shape"
   ]
  },
  {
   "cell_type": "code",
   "execution_count": null,
   "metadata": {},
   "outputs": [
    {
     "data": {
      "text/plain": [
       "array([117, 117, 117, 117,  76, 117, 117,  18,   0,  18])"
      ]
     },
     "execution_count": null,
     "metadata": {},
     "output_type": "execute_result"
    }
   ],
   "source": [
    "class_preds = np.argmax(prob_preds[0], axis=1)\n",
    "class_preds.shape\n",
    "class_preds[:10]"
   ]
  },
  {
   "cell_type": "code",
   "execution_count": null,
   "metadata": {},
   "outputs": [
    {
     "data": {
      "text/plain": [
       "0.18980533333333333"
      ]
     },
     "execution_count": null,
     "metadata": {},
     "output_type": "execute_result"
    }
   ],
   "source": [
    "def is_cov(y_preds):\n",
    "    \"\"\"Return 1 if the corresponding prediction is a corona virus, 0 otherwise\"\"\"\n",
    "    return (y_preds == 94).astype(int) + (y_preds == 117).astype(int)\n",
    "\n",
    "def cov_acc(y_true, y_preds):\n",
    "    \"\"\"Evaluates the accuracy of the model assuming all evaluated reads are from corona virus\"\"\"\n",
    "    return is_cov(y_preds).sum()/y_preds.shape[0]\n",
    "\n",
    "cov_acc(None, class_preds)"
   ]
  },
  {
   "cell_type": "code",
   "execution_count": null,
   "metadata": {},
   "outputs": [
    {
     "name": "stdout",
     "output_type": "stream",
     "text": [
      "Ref. Sequence: Infectious bronchitis virus:\n",
      "  Accuracy :............... 0.063\n",
      "  Acc. coding strand: ..... 0.068\n",
      "  Acc. template strand: ... 0.059\n",
      "  Nbr reads: 55,200, incl. 27,657 from coding strand and 27,543 from template strand\n",
      "\n",
      "Ref. Sequence: Bovine coronavirus:\n",
      "  Accuracy :............... 0.054\n",
      "  Acc. coding strand: ..... 0.058\n",
      "  Acc. template strand: ... 0.051\n",
      "  Nbr reads: 61,800, incl. 30,850 from coding strand and 30,950 from template strand\n",
      "\n",
      "Ref. Sequence: Murine hepatitis virus:\n",
      "  Accuracy :............... 0.052\n",
      "  Acc. coding strand: ..... 0.052\n",
      "  Acc. template strand: ... 0.051\n",
      "  Nbr reads: 58,700, incl. 29,293 from coding strand and 29,407 from template strand\n",
      "\n",
      "Ref. Sequence: Middle East respiratory syndrome-related coronavirus:\n",
      "  Accuracy :............... 0.987\n",
      "  Acc. coding strand: ..... 0.988\n",
      "  Acc. template strand: ... 0.987\n",
      "  Nbr reads: 59,600, incl. 29,943 from coding strand and 29,657 from template strand\n",
      "\n",
      "Ref. Sequence: Camel alphacoronavirus:\n",
      "  Accuracy :............... 0.073\n",
      "  Acc. coding strand: ..... 0.069\n",
      "  Acc. template strand: ... 0.077\n",
      "  Nbr reads: 54,700, incl. 27,379 from coding strand and 27,321 from template strand\n",
      "\n",
      "Ref. Sequence: Coronavirus BtRs-BetaCoV/YN2018D:\n",
      "  Accuracy :............... 0.734\n",
      "  Acc. coding strand: ..... 0.738\n",
      "  Acc. template strand: ... 0.730\n",
      "  Nbr reads: 60,400, incl. 30,421 from coding strand and 29,979 from template strand\n",
      "\n",
      "Ref. Sequence: Human coronavirus NL63:\n",
      "  Accuracy :............... 0.067\n",
      "  Acc. coding strand: ..... 0.063\n",
      "  Acc. template strand: ... 0.071\n",
      "  Nbr reads: 55,000, incl. 27,381 from coding strand and 27,619 from template strand\n",
      "\n",
      "Ref. Sequence: Porcine epidemic diarrhea virus:\n",
      "  Accuracy :............... 0.068\n",
      "  Acc. coding strand: ..... 0.065\n",
      "  Acc. template strand: ... 0.072\n",
      "  Nbr reads: 223,800, incl. 111,990 from coding strand and 111,810 from template strand\n",
      "\n",
      "Ref. Sequence: Human coronavirus HKU1:\n",
      "  Accuracy :............... 0.049\n",
      "  Acc. coding strand: ..... 0.052\n",
      "  Acc. template strand: ... 0.047\n",
      "  Nbr reads: 59,700, incl. 29,928 from coding strand and 29,772 from template strand\n",
      "\n",
      "Ref. Sequence: Human coronavirus OC43:\n",
      "  Accuracy :............... 0.055\n",
      "  Acc. coding strand: ..... 0.061\n",
      "  Acc. template strand: ... 0.048\n",
      "  Nbr reads: 61,100, incl. 30,652 from coding strand and 30,448 from template strand\n",
      "\n"
     ]
    }
   ],
   "source": [
    "for refseqid in np.unique(reads_info[:,1]):\n",
    "    mask_refseq = reads_info[:,1] == refseqid\n",
    "    mask_strand_coding = reads_info[:,3] == '+'\n",
    "    mask_strand_template = reads_info[:,3] == '-'\n",
    "    mask_coding = (mask_strand_coding.astype(int) * mask_refseq.astype(int)).astype(bool)\n",
    "    mask_template = (mask_strand_template.astype(int) * mask_refseq.astype(int)).astype(bool)\n",
    "\n",
    "    aln_refseq_meta = aln.ref_sequences[refseqid]\n",
    "    acc = cov_acc(None, class_preds[mask_refseq])\n",
    "    acc_coding = cov_acc(None, class_preds[mask_coding])\n",
    "    acc_template = cov_acc(None, class_preds[mask_template])\n",
    "       \n",
    "    print(f\"Ref. Sequence: {aln_refseq_meta['species'].replace('scientific name', '').strip()}:\")\n",
    "    print(f\"  Accuracy :............... {acc:.3f}\")\n",
    "    print(f\"  Acc. coding strand: ..... {acc_coding:.3f}\")\n",
    "    print(f\"  Acc. template strand: ... {acc_template:.3f}\")\n",
    "    print(f\"  Nbr reads: {class_preds[mask_refseq].shape[0]:,d}, incl. {mask_coding.sum():,d} from coding strand and {mask_template.sum():,d} from template strand\")\n",
    "    print()"
   ]
  },
  {
   "cell_type": "markdown",
   "metadata": {},
   "source": [
    "# New Section"
   ]
  },
  {
   "cell_type": "code",
   "execution_count": null,
   "metadata": {},
   "outputs": [],
   "source": []
  }
 ],
 "metadata": {
  "kernelspec": {
   "display_name": "Python 3 (ipykernel)",
   "language": "python",
   "name": "python3"
  }
 },
 "nbformat": 4,
 "nbformat_minor": 1
}
