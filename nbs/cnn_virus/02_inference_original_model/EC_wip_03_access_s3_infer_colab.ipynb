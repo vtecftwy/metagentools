{
  "cells": [
    {
      "cell_type": "markdown",
      "metadata": {
        "id": "DpyRw7IM5awo"
      },
      "source": [
        "# Inference with original cnn_virus trained model"
      ]
    },
    {
      "cell_type": "markdown",
      "metadata": {
        "id": "-W7rvjG25awq"
      },
      "source": [
        "- Inference only, no training.\n",
        "- Experiments with cov_reads files\n",
        "- Trying locally"
      ]
    },
    {
      "cell_type": "markdown",
      "metadata": {
        "id": "RqwXsBzE5awq"
      },
      "source": [
        "# Imports and setup environment"
      ]
    },
    {
      "cell_type": "markdown",
      "metadata": {
        "id": "Bn04uh_d5awq"
      },
      "source": [
        "### Install and import packages"
      ]
    },
    {
      "cell_type": "code",
      "execution_count": 5,
      "metadata": {
        "colab": {
          "base_uri": "https://localhost:8080/"
        },
        "id": "oaumCyRa5awr",
        "outputId": "d09cad7a-7087-4dfa-c0ab-519a8bb19f58"
      },
      "outputs": [
        {
          "output_type": "stream",
          "name": "stdout",
          "text": [
            "installing ecutilities\n",
            "\u001b[2K     \u001b[90m━━━━━━━━━━━━━━━━━━━━━━━━━━━━━━━━━━━━━━━━\u001b[0m \u001b[32m1.6/1.6 MB\u001b[0m \u001b[31m25.5 MB/s\u001b[0m eta \u001b[36m0:00:00\u001b[0m\n",
            "\u001b[?25hSet autoreload mode\n"
          ]
        }
      ],
      "source": [
        "try:\n",
        "    from ecutilities.ipython import nb_setup\n",
        "    print('`ecutilities` already installed')\n",
        "except ModuleNotFoundError as e:\n",
        "    print('installing ecutilities')\n",
        "    !pip install -qqU ecutilities\n",
        "    from ecutilities.ipython import nb_setup\n",
        "\n",
        "nb_setup()"
      ]
    },
    {
      "cell_type": "code",
      "execution_count": 6,
      "metadata": {
        "id": "TY1-e__d5aws"
      },
      "outputs": [],
      "source": [
        "import numpy as np\n",
        "import pandas as pd\n",
        "import os\n",
        "import tensorflow as tf\n",
        "\n",
        "from pathlib import Path\n",
        "from pprint import pprint\n",
        "from tensorflow.python.client import device_lib\n",
        "from tensorflow.keras.models import load_model"
      ]
    },
    {
      "cell_type": "code",
      "execution_count": 7,
      "metadata": {
        "colab": {
          "base_uri": "https://localhost:8080/"
        },
        "id": "Sj3-3kvu5aws",
        "outputId": "d82399a9-5384-4804-ccda-f2a2597c3f13"
      },
      "outputs": [
        {
          "output_type": "stream",
          "name": "stdout",
          "text": [
            "Tensorflow version: 2.9.2\n",
            "\n",
            "\n",
            "Devices:\n",
            "  - CPU  /device:CPU:0                          \n"
          ]
        }
      ],
      "source": [
        "print(f\"Tensorflow version: {tf.__version__}\\n\")\n",
        "\n",
        "os.environ['TF_CPP_MIN_LOG_LEVEL'] = '3' # or any {'0', '1', '2'}\n",
        "\n",
        "devices = device_lib.list_local_devices()\n",
        "print('\\nDevices:')\n",
        "for d in devices:\n",
        "    t = d.device_type\n",
        "    name = d.physical_device_desc\n",
        "    l = [item.split(':', 1) for item in name.split(', ')]\n",
        "    name_attr = dict([x for x in l if len(x)==2])\n",
        "    dev = name_attr.get('name', ' ')\n",
        "    print(f\"  - {t}  {d.name} {dev:25s}\")"
      ]
    },
    {
      "cell_type": "markdown",
      "metadata": {
        "id": "Ld9qmfCk5awt"
      },
      "source": [
        "## Install and import custom code, mount gdrive"
      ]
    },
    {
      "cell_type": "code",
      "execution_count": 8,
      "metadata": {
        "id": "DFyuodKM5awt"
      },
      "outputs": [],
      "source": [
        "# MODIFY AFTER INSTALLING ECUTILITIES >= 1.2.3\n",
        "from __future__ import annotations\n",
        "from ecutilities.core import validate_path\n",
        "\n",
        "def safe_path(\n",
        "    path:str|Path, # path to validate\n",
        ")-> Path:          # validated path as a  pathlib.Path\n",
        "    \"\"\"\"\"\"\n",
        "    validate_path(path, path_type='dir', raise_error=True)\n",
        "    if isinstance(path, str): \n",
        "        path = Path(path)\n",
        "    return path\n",
        "\n",
        "def nbs_root_dir(\n",
        "    path:str|Path|None = None, # path from where to seek for notebook parent directory\n",
        "    pattern:str = 'nbs',       # pattern to identify the nbs directory\n",
        ")-> Path:                      # path of the parent directory\n",
        "    \"\"\"Climb the directory tree up to the notebook directory and return its path\"\"\"    \n",
        "    if path is None: path = Path()\n",
        "    path = safe_path(path).absolute()\n",
        "    tree = [path.name] + [p.name for p in path.parents]\n",
        "    mask = [True if n.startswith(pattern) else False for n in tree]\n",
        "    nbs = Path(f\"{'../' * (mask.index(True))}\").resolve()\n",
        "    return nbs\n",
        "    \n",
        "# nbs = nbs_root_dir(Path())\n",
        "# nbs"
      ]
    },
    {
      "cell_type": "code",
      "execution_count": 9,
      "metadata": {
        "colab": {
          "base_uri": "https://localhost:8080/"
        },
        "id": "1Hn7Vonf5awt",
        "outputId": "0bf2d9d2-90ec-488b-9984-f3cf5813aade"
      },
      "outputs": [
        {
          "output_type": "stream",
          "name": "stdout",
          "text": [
            "Running on colab\n",
            "Installing custom project code\n",
            "\u001b[2K     \u001b[90m━━━━━━━━━━━━━━━━━━━━━━━━━━━━━━━━━━━━━━━━\u001b[0m \u001b[32m42.3/42.3 KB\u001b[0m \u001b[31m2.7 MB/s\u001b[0m eta \u001b[36m0:00:00\u001b[0m\n",
            "\u001b[2K     \u001b[90m━━━━━━━━━━━━━━━━━━━━━━━━━━━━━━━━━━━━━━━━\u001b[0m \u001b[32m2.0/2.0 MB\u001b[0m \u001b[31m22.3 MB/s\u001b[0m eta \u001b[36m0:00:00\u001b[0m\n",
            "\u001b[?25h  Preparing metadata (setup.py) ... \u001b[?25l\u001b[?25hdone\n",
            "\u001b[2K     \u001b[90m━━━━━━━━━━━━━━━━━━━━━━━━━━━━━━━━━━━━━━\u001b[0m \u001b[32m184.0/184.0 KB\u001b[0m \u001b[31m18.1 MB/s\u001b[0m eta \u001b[36m0:00:00\u001b[0m\n",
            "\u001b[2K     \u001b[90m━━━━━━━━━━━━━━━━━━━━━━━━━━━━━━━━━━━━━━\u001b[0m \u001b[32m178.9/178.9 KB\u001b[0m \u001b[31m17.5 MB/s\u001b[0m eta \u001b[36m0:00:00\u001b[0m\n",
            "\u001b[2K     \u001b[90m━━━━━━━━━━━━━━━━━━━━━━━━━━━━━━━━━━━━━━━━\u001b[0m \u001b[32m62.7/62.7 KB\u001b[0m \u001b[31m4.5 MB/s\u001b[0m eta \u001b[36m0:00:00\u001b[0m\n",
            "\u001b[?25h  Building wheel for pathtools (setup.py) ... \u001b[?25l\u001b[?25hdone\n",
            "Mounted at /content/gdrive\n"
          ]
        }
      ],
      "source": [
        "try:\n",
        "    from google.colab import drive\n",
        "    ON_COLAB = True\n",
        "    print('Running on colab')\n",
        "    print('Installing custom project code')   \n",
        "    # !pip install -qqU git+https://github.com/vtecftwy/metagentools.git@cnn_virus\n",
        "    !pip install -qqU metagentools\n",
        "    drive.mount('/content/gdrive')\n",
        "    \n",
        "    p2drive = Path('/content/gdrive/MyDrive/Metagenonics')\n",
        "    assert p2drive.is_dir()\n",
        "    p2data =  p2drive / 'data'\n",
        "    assert p2data.is_dir()\n",
        "\n",
        "except ModuleNotFoundError as e:\n",
        "    # print(e)\n",
        "    ON_COLAB = False\n",
        "    print('Running locally')\n",
        "    print('Make sure you have installed the custom project code in your environment')\n",
        "    p2data = nbs_root_dir().parent / 'data/'\n",
        "    assert p2data.is_dir()\n",
        "    print(p2data.absolute())"
      ]
    },
    {
      "cell_type": "markdown",
      "source": [
        "## Access AWS"
      ],
      "metadata": {
        "id": "R_9bbmmuE3Li"
      }
    },
    {
      "cell_type": "markdown",
      "source": [
        "https://realpython.com/python-boto3-aws-s3/#common-operations\n",
        "\n",
        "https://boto3.amazonaws.com/v1/documentation/api/latest/guide/configuration.html#guide-configuration"
      ],
      "metadata": {
        "id": "aaX_g5kAPikC"
      }
    },
    {
      "cell_type": "code",
      "source": [
        "!pip install -qqU urllib3>1.26.6"
      ],
      "metadata": {
        "id": "GaX37hHgKwcz"
      },
      "execution_count": 1,
      "outputs": []
    },
    {
      "cell_type": "code",
      "source": [
        "import urllib3\n",
        "urllib3.__version__"
      ],
      "metadata": {
        "colab": {
          "base_uri": "https://localhost:8080/",
          "height": 36
        },
        "id": "5PH2B_XgLYeq",
        "outputId": "66737bab-b066-4237-ad2d-b4f278529fab"
      },
      "execution_count": 2,
      "outputs": [
        {
          "output_type": "execute_result",
          "data": {
            "text/plain": [
              "'1.26.14'"
            ],
            "application/vnd.google.colaboratory.intrinsic+json": {
              "type": "string"
            }
          },
          "metadata": {},
          "execution_count": 2
        }
      ]
    },
    {
      "cell_type": "code",
      "source": [
        "!pip install -qqU boto3"
      ],
      "metadata": {
        "colab": {
          "base_uri": "https://localhost:8080/"
        },
        "id": "zWPOP-oiAk4y",
        "outputId": "6d50473f-e827-4721-d9de-b6c2240bba2d"
      },
      "execution_count": 3,
      "outputs": [
        {
          "output_type": "stream",
          "name": "stdout",
          "text": [
            "\u001b[2K     \u001b[90m━━━━━━━━━━━━━━━━━━━━━━━━━━━━━━━━━━━━━━━\u001b[0m \u001b[32m132.7/132.7 KB\u001b[0m \u001b[31m1.4 MB/s\u001b[0m eta \u001b[36m0:00:00\u001b[0m\n",
            "\u001b[2K     \u001b[90m━━━━━━━━━━━━━━━━━━━━━━━━━━━━━━━━━━━━━━━━\u001b[0m \u001b[32m10.4/10.4 MB\u001b[0m \u001b[31m31.8 MB/s\u001b[0m eta \u001b[36m0:00:00\u001b[0m\n",
            "\u001b[2K     \u001b[90m━━━━━━━━━━━━━━━━━━━━━━━━━━━━━━━━━━━━━━━━\u001b[0m \u001b[32m79.6/79.6 KB\u001b[0m \u001b[31m3.0 MB/s\u001b[0m eta \u001b[36m0:00:00\u001b[0m\n",
            "\u001b[?25h"
          ]
        }
      ]
    },
    {
      "cell_type": "code",
      "source": [
        "import boto3"
      ],
      "metadata": {
        "id": "6X_fhO2AHHS1"
      },
      "execution_count": 4,
      "outputs": []
    },
    {
      "cell_type": "code",
      "source": [
        "from ecutilities.core import get_config_value"
      ],
      "metadata": {
        "id": "Rb__jppJIV8r"
      },
      "execution_count": 10,
      "outputs": []
    },
    {
      "cell_type": "code",
      "source": [
        "import uuid"
      ],
      "metadata": {
        "id": "WnxB7DKQHHM1"
      },
      "execution_count": 14,
      "outputs": []
    },
    {
      "cell_type": "code",
      "source": [
        "p2config = Path('/content/gdrive/MyDrive/private-across-accounts/config-api-keys.cfg')"
      ],
      "metadata": {
        "id": "NhGqwg85IoHC"
      },
      "execution_count": 11,
      "outputs": []
    },
    {
      "cell_type": "code",
      "source": [
        "os.environ['AWS_ACCESS_KEY_ID'] = get_config_value(section='aws', key='aws_access_key_id',path_to_config_file=p2config)\n",
        "os.environ['AWS_SECRET_ACCESS_KEY'] = get_config_value(section='aws', key='aws_secret_access_key',path_to_config_file=p2config)"
      ],
      "metadata": {
        "id": "A0sA9IHIHHVs"
      },
      "execution_count": 12,
      "outputs": []
    },
    {
      "cell_type": "code",
      "source": [
        "s3_client = boto3.client('s3')\n",
        "s3_resource = boto3.resource('s3')"
      ],
      "metadata": {
        "id": "Ni5GNUhuHHP8"
      },
      "execution_count": 13,
      "outputs": []
    },
    {
      "cell_type": "code",
      "source": [
        "def create_temp_file(size, file_name, file_content):\n",
        "    random_file_name = ''.join([str(uuid.uuid4().hex[:6]), file_name])\n",
        "    with open(random_file_name, 'w') as f:\n",
        "        f.write(str(file_content) * size)\n",
        "    return random_file_name"
      ],
      "metadata": {
        "id": "WLvc8nHLHHJs"
      },
      "execution_count": 23,
      "outputs": []
    },
    {
      "cell_type": "code",
      "source": [
        "bucket_name = 'bio.cnn-virus.data'\n",
        "first_bucket = s3_resource.Bucket(name=bucket_name)"
      ],
      "metadata": {
        "id": "asW8isIYOm-p"
      },
      "execution_count": 24,
      "outputs": []
    },
    {
      "cell_type": "code",
      "source": [
        "fname_1 = create_temp_file(300, 'file1.txt', 'f' )\n",
        "s3_resource.Bucket(bucket_name).upload_file(\n",
        "    Filename=fname_1, \n",
        "    Key=fname_1\n",
        "    )"
      ],
      "metadata": {
        "id": "mp39w0kdOm7w"
      },
      "execution_count": 25,
      "outputs": []
    },
    {
      "cell_type": "code",
      "source": [
        "fname_2 = create_temp_file(300, 'file2.txt', 'f' )\n",
        "s3_resource.meta.client.upload_file(\n",
        "    Filename=fname_2, \n",
        "    Bucket=bucket_name,\n",
        "    Key=fname_2)"
      ],
      "metadata": {
        "id": "QbsxnsgeOm5A"
      },
      "execution_count": 26,
      "outputs": []
    },
    {
      "cell_type": "code",
      "source": [],
      "metadata": {
        "id": "JYfhYtBtOm2C"
      },
      "execution_count": null,
      "outputs": []
    },
    {
      "cell_type": "code",
      "source": [
        "os.makedirs('/content/dwld', exist_ok=True)\n",
        "s3_resource.Object(\n",
        "    bucket_name, \n",
        "    fname_1).download_file(\n",
        "    f'/content/dwld/{fname_1}')"
      ],
      "metadata": {
        "id": "vdEJOviJHHGa"
      },
      "execution_count": 29,
      "outputs": []
    },
    {
      "cell_type": "code",
      "source": [],
      "metadata": {
        "id": "OefC5YnxE0QK"
      },
      "execution_count": null,
      "outputs": []
    },
    {
      "cell_type": "code",
      "source": [],
      "metadata": {
        "id": "Nak0RHOkE0Mq"
      },
      "execution_count": null,
      "outputs": []
    },
    {
      "cell_type": "code",
      "source": [
        "from metagentools.cnn_virus.data import strings_to_tensors\n",
        "from metagentools.cnn_virus.data import FastaFileReader, FastqFileReader, AlnFileReader, parse_metadata_art_read_aln\n",
        "from metagentools.core import TextFileBaseIterator"
      ],
      "metadata": {
        "id": "5DVYgVIX5zZE"
      },
      "execution_count": 10,
      "outputs": []
    },
    {
      "cell_type": "markdown",
      "metadata": {
        "id": "GJ-KBEtr5awu"
      },
      "source": [
        "# Experiments with simulated reads"
      ]
    },
    {
      "cell_type": "markdown",
      "metadata": {
        "id": "npsdlJUU5awu"
      },
      "source": [
        "## Setup paths"
      ]
    },
    {
      "cell_type": "markdown",
      "metadata": {
        "id": "yxPVL_7_5awu"
      },
      "source": [
        "This assumes that the shared gdrive directory is accessible through a shortcut called `Metagenomics` under the root of gdrive."
      ]
    },
    {
      "cell_type": "code",
      "execution_count": null,
      "metadata": {
        "id": "joDnmRpp5awu"
      },
      "outputs": [],
      "source": [
        "# p2drive = Path('/content/gdrive/MyDrive/Metagenonics')\n",
        "# assert p2drive.is_dir()\n",
        "\n",
        "# p2data =  p2drive / 'CNN_Virus_data'\n",
        "# assert p2data.is_dir()"
      ]
    },
    {
      "cell_type": "code",
      "execution_count": null,
      "metadata": {
        "id": "WF12l-wu5awv"
      },
      "outputs": [],
      "source": [
        "# path for original trained model\n",
        "p2saved = p2data / 'saved/cnn_virus_original/pretrained_model.h5'\n",
        "p2simreads = p2data / 'cov_simreads/single_10seq_50bp'\n",
        "p2virus_labels = p2data / 'CNN_Virus_data/virus_name_mapping'\n",
        "assert p2saved.is_file()\n",
        "assert p2simreads.is_dir()\n",
        "assert p2virus_labels.is_file()\n",
        "\n",
        "#path for the learning weights file\n",
        "# filepath_weights=p2data / \"weight_of_classes\"\n",
        "# assert filepath_weights.is_file()"
      ]
    },
    {
      "cell_type": "markdown",
      "metadata": {
        "id": "7Z7wSHov5awv"
      },
      "source": [
        "## Explore simread output files"
      ]
    },
    {
      "cell_type": "code",
      "execution_count": null,
      "metadata": {
        "id": "Il2WxdRk5awv"
      },
      "outputs": [],
      "source": [
        "p2fasta = p2data / 'cov_data/cov_virus_sequences_ten.fa'\n",
        "p2fastq = p2simreads / f\"{p2simreads.stem}.fq\"\n",
        "p2aln = p2simreads / f\"{p2simreads.stem}.aln\"\n",
        "assert p2fastq.is_file()\n",
        "assert p2aln.is_file()\n",
        "assert p2fasta.is_file()"
      ]
    },
    {
      "cell_type": "code",
      "execution_count": null,
      "metadata": {
        "id": "Gef3E72a5awv"
      },
      "outputs": [],
      "source": [
        "from metagentools.cnn_virus.data import FastaFileReader, FastqFileReader, AlnFileReader, parse_metadata_art_read_aln\n",
        "from metagentools.core import TextFileBaseIterator"
      ]
    },
    {
      "cell_type": "code",
      "execution_count": null,
      "metadata": {
        "id": "SxWSbv6O5awv"
      },
      "outputs": [],
      "source": [
        "fasta = FastaFileReader(p2fasta)\n",
        "fastq = FastqFileReader(p2fastq)\n",
        "aln = AlnFileReader(p2aln)"
      ]
    },
    {
      "cell_type": "markdown",
      "metadata": {
        "id": "Lb62titi5awv"
      },
      "source": [
        "### Exploring the simreads in fastaq"
      ]
    },
    {
      "cell_type": "code",
      "execution_count": null,
      "metadata": {
        "id": "hrNrS7HN5aww",
        "outputId": "170075e4-be56-4ca1-8cae-783252ecbdcf"
      },
      "outputs": [
        {
          "name": "stdout",
          "output_type": "stream",
          "text": [
            "2591237:ncbi:1-60400\n",
            "\n",
            "{'read_nbr': '60400',\n",
            " 'readid': '2591237:ncbi:1-60400',\n",
            " 'seq_nbr': '1',\n",
            " 'seqid': '2591237',\n",
            " 'sequence': 'ACAACTCCTATTCGTAGTTGAAGTTGTTGACAAATACTTTGATTGTTACG',\n",
            " 'source': 'ncbi'}\n",
            "2591237:ncbi:1-60399\n",
            "\n",
            "{'read_nbr': '60399',\n",
            " 'readid': '2591237:ncbi:1-60399',\n",
            " 'seq_nbr': '1',\n",
            " 'seqid': '2591237',\n",
            " 'sequence': 'GATCAATGTGGCATCTACAATACAGACAGCATGAAGCACCACCAAAGGAC',\n",
            " 'source': 'ncbi'}\n",
            "2591237:ncbi:1-60398\n",
            "\n",
            "{'read_nbr': '60398',\n",
            " 'readid': '2591237:ncbi:1-60398',\n",
            " 'seq_nbr': '1',\n",
            " 'seqid': '2591237',\n",
            " 'sequence': 'ATCTACCAGTGGTAGATGGGTTCTTAATAATGAACATTATAGAGCTCTAC',\n",
            " 'source': 'ncbi'}\n"
          ]
        }
      ],
      "source": [
        "for i, (k,v) in enumerate(fastq.parse_fastq(add_seq=True).items()):\n",
        "    print(k)\n",
        "    print()\n",
        "    pprint(v)\n",
        "    if i+1 >= 3: break"
      ]
    },
    {
      "cell_type": "markdown",
      "metadata": {
        "id": "XQgrAlkJ5aww"
      },
      "source": [
        "### Exploring ALN header (reference sequences)"
      ]
    },
    {
      "cell_type": "code",
      "execution_count": null,
      "metadata": {
        "id": "19XnB6mz5aww",
        "outputId": "f231e411-f73b-4107-9540-9a20206a4a6d"
      },
      "outputs": [
        {
          "name": "stdout",
          "output_type": "stream",
          "text": [
            "{'11120': {'refseq_accession': 'MN987231',\n",
            "           'refseq_length': '27617',\n",
            "           'refseq_nbr': '5',\n",
            "           'refseqid': '11120',\n",
            "           'source': 'ncbi',\n",
            "           'species': 'Infectious bronchitis virus  scientific name'},\n",
            " '11128': {'refseq_accession': 'LC494191',\n",
            "           'refseq_length': '30942',\n",
            "           'refseq_nbr': '2',\n",
            "           'refseqid': '11128',\n",
            "           'source': 'ncbi',\n",
            "           'species': 'Bovine coronavirus  scientific name'},\n",
            " '1699095': {'refseq_accession': 'KT368904',\n",
            "             'refseq_length': '27395',\n",
            "             'refseq_nbr': '10',\n",
            "             'refseqid': '1699095',\n",
            "             'source': 'ncbi',\n",
            "             'species': 'Camel alphacoronavirus  scientific name'},\n",
            " '2591237': {'refseq_accession': 'MK211378',\n",
            "             'refseq_length': '30213',\n",
            "             'refseq_nbr': '1',\n",
            "             'refseqid': '2591237',\n",
            "             'source': 'ncbi',\n",
            "             'species': 'Coronavirus BtRs-BetaCoV/YN2018D  scientific name'},\n",
            " '277944': {'refseq_accession': 'LC654455',\n",
            "            'refseq_length': '27516',\n",
            "            'refseq_nbr': '4',\n",
            "            'refseqid': '277944',\n",
            "            'source': 'ncbi',\n",
            "            'species': 'Human coronavirus NL63  scientific name'},\n",
            " '28295': {'refseq_accession': 'KR873434',\n",
            "           'refseq_length': '28038',\n",
            "           'refseq_nbr': '9',\n",
            "           'refseqid': '28295',\n",
            "           'source': 'ncbi',\n",
            "           'species': 'Porcine epidemic diarrhea virus  scientific name'},\n",
            " '31631': {'refseq_accession': 'KY967361',\n",
            "           'refseq_length': '30661',\n",
            "           'refseq_nbr': '3',\n",
            "           'refseqid': '31631',\n",
            "           'source': 'ncbi',\n",
            "           'species': 'Human coronavirus OC43  scientific name'}}\n"
          ]
        }
      ],
      "source": [
        "pprint(aln.ref_sequences)"
      ]
    },
    {
      "cell_type": "markdown",
      "metadata": {
        "id": "XYxyvdGo5aww"
      },
      "source": [
        "### Exploring read's metadata"
      ]
    },
    {
      "cell_type": "code",
      "execution_count": null,
      "metadata": {
        "id": "ftoefPSE5aww",
        "outputId": "709bb39c-de27-482d-c22a-1a6eabf65ab0"
      },
      "outputs": [
        {
          "name": "stdout",
          "output_type": "stream",
          "text": [
            "2591237:ncbi:1-60400\n",
            "{'aln_start_pos': '14770',\n",
            " 'read_nbr': '60400',\n",
            " 'readid': '2591237:ncbi:1-60400',\n",
            " 'ref_seq_aligned': 'ACAACTCCTATTCGTAGTTGAAGTTGTTGACAAATACTTTGATTGTTACG',\n",
            " 'ref_seq_strand': '+',\n",
            " 'refseq_nbr': '1',\n",
            " 'refseqid': '2591237',\n",
            " 'source': 'ncbi'}\n",
            "\n",
            "2591237:ncbi:1-60399\n",
            "{'aln_start_pos': '17012',\n",
            " 'read_nbr': '60399',\n",
            " 'readid': '2591237:ncbi:1-60399',\n",
            " 'ref_seq_aligned': 'GATCAATGTGGCATCTACAATACAGACAGCATGAAGCACCACCAAAGGAC',\n",
            " 'ref_seq_strand': '-',\n",
            " 'refseq_nbr': '1',\n",
            " 'refseqid': '2591237',\n",
            " 'source': 'ncbi'}\n",
            "\n",
            "2591237:ncbi:1-60398\n",
            "{'aln_start_pos': '9188',\n",
            " 'read_nbr': '60398',\n",
            " 'readid': '2591237:ncbi:1-60398',\n",
            " 'ref_seq_aligned': 'ATCTACCAGTGGTAGATGGGTTCTTAATAATGAACATTATAGAGCTCTAC',\n",
            " 'ref_seq_strand': '+',\n",
            " 'refseq_nbr': '1',\n",
            " 'refseqid': '2591237',\n",
            " 'source': 'ncbi'}\n",
            "\n"
          ]
        }
      ],
      "source": [
        "for i, (k,v) in enumerate(aln.parse_aln(add_ref_seq_aligned=True).items()):\n",
        "    print(k)\n",
        "    pprint(v)\n",
        "    print()\n",
        "    if i+1>=3: break"
      ]
    },
    {
      "cell_type": "code",
      "execution_count": null,
      "metadata": {
        "id": "A7rETYQo5awx"
      },
      "outputs": [],
      "source": []
    },
    {
      "cell_type": "code",
      "execution_count": null,
      "metadata": {
        "id": "mEyCctbm5awx"
      },
      "outputs": [],
      "source": [
        "fasta = FastaFileReader(p2fasta)\n",
        "fastq = FastqFileReader(p2fastq)\n",
        "aln = AlnFileReader(p2aln)"
      ]
    },
    {
      "cell_type": "code",
      "execution_count": null,
      "metadata": {
        "id": "m0SD6DqF5awx"
      },
      "outputs": [],
      "source": [
        "refseqs_fasta = fasta.parse_fasta(add_seq=True)\n",
        "simreads = fastq.parse_fastq(add_seq=True)\n",
        "refseqs_aln = aln.ref_sequences\n",
        "simread_align = aln.parse_aln(add_ref_seq_aligned=True, add_read_seq_aligned=True)"
      ]
    },
    {
      "cell_type": "markdown",
      "metadata": {
        "id": "IL-Tqu-R5awx"
      },
      "source": [
        "Check consistency between refseqs from fasta and from aln "
      ]
    },
    {
      "cell_type": "code",
      "execution_count": null,
      "metadata": {
        "id": "RZzZX75f5awx",
        "outputId": "2188a116-9f01-4df0-e7f2-704ef1c914a1"
      },
      "outputs": [
        {
          "data": {
            "text/plain": [
              "('TGCA', 'fedcba')"
            ]
          },
          "execution_count": null,
          "metadata": {},
          "output_type": "execute_result"
        }
      ],
      "source": [
        "# utility functions\n",
        "def opposite_strand(seq):\n",
        "    conv = {'A':'T', 'C':'G', 'G':'C', 'T':'A'}\n",
        "    return ''.join([conv[base] for base in seq])\n",
        "\n",
        "def reverse_sequence(seq):\n",
        "    return seq[::-1]\n",
        "\n",
        "opposite_strand('ACGT'), reverse_sequence('abcdef')"
      ]
    },
    {
      "cell_type": "markdown",
      "metadata": {
        "id": "WhCUb7ws5awx"
      },
      "source": [
        "Check aln refseq information"
      ]
    },
    {
      "cell_type": "code",
      "execution_count": null,
      "metadata": {
        "id": "dBMc30o_5awx",
        "outputId": "485bad20-0601-49a2-d46c-0348978a38b5"
      },
      "outputs": [
        {
          "data": {
            "text/plain": [
              "('MN987231', 27617)"
            ]
          },
          "execution_count": null,
          "metadata": {},
          "output_type": "execute_result"
        }
      ],
      "source": [
        "# refseqid = '2591237'\n",
        "refseqid = '11120'\n",
        "original_seq = refseqs_fasta[refseqid]['sequence']\n",
        "original_seq_accession = refseqs_fasta[refseqid]['accession']\n",
        "original_seq_accession, len(original_seq)"
      ]
    },
    {
      "cell_type": "code",
      "execution_count": null,
      "metadata": {
        "id": "q7KjMLKE5awy",
        "outputId": "58128a87-959d-4a8d-a1fe-ad380ea19081"
      },
      "outputs": [
        {
          "data": {
            "text/plain": [
              "('MN987231', 27617)"
            ]
          },
          "execution_count": null,
          "metadata": {},
          "output_type": "execute_result"
        }
      ],
      "source": [
        "refseqs_aln[refseqid]['refseq_accession'], int(refseqs_aln[refseqid]['refseq_length'])"
      ]
    },
    {
      "cell_type": "code",
      "execution_count": null,
      "metadata": {
        "id": "F5qu97DL5awy"
      },
      "outputs": [],
      "source": [
        "assert original_seq_accession == refseqs_aln[refseqid]['refseq_accession']\n",
        "assert len(original_seq) == int(refseqs_aln[refseqid]['refseq_length'])"
      ]
    },
    {
      "cell_type": "markdown",
      "metadata": {
        "id": "is3PoRPF5awy"
      },
      "source": [
        "### Check alignment information"
      ]
    },
    {
      "cell_type": "code",
      "execution_count": null,
      "metadata": {
        "id": "j-7JzUCh5awy",
        "outputId": "75b5e28b-103b-4390-87b4-c7bcc25c4f63"
      },
      "outputs": [
        {
          "name": "stdout",
          "output_type": "stream",
          "text": [
            "{'aln_start_pos': '14770',\n",
            " 'read_nbr': '60400',\n",
            " 'read_seq_aligned': 'ACAACTCCTATTCGTAGTTGAAGTTGTTGACAAATACTTTGATTGTTACG',\n",
            " 'readid': '2591237:ncbi:1-60400',\n",
            " 'ref_seq_aligned': 'ACAACTCCTATTCGTAGTTGAAGTTGTTGACAAATACTTTGATTGTTACG',\n",
            " 'ref_seq_strand': '+',\n",
            " 'refseq_nbr': '1',\n",
            " 'refseqid': '2591237',\n",
            " 'source': 'ncbi'}\n"
          ]
        }
      ],
      "source": [
        "pprint(simread_align['2591237:ncbi:1-60400'])"
      ]
    },
    {
      "cell_type": "markdown",
      "metadata": {
        "id": "boG637UQ5awy"
      },
      "source": [
        "Select all reads generated from a single reference sequence"
      ]
    },
    {
      "cell_type": "code",
      "execution_count": null,
      "metadata": {
        "id": "KHJ80qOJ5awz",
        "outputId": "ebff6f29-c8d9-4a7a-f51e-51cb4474666c"
      },
      "outputs": [
        {
          "name": "stdout",
          "output_type": "stream",
          "text": [
            "Select all reads from reference sequence '11120''\n",
            "Total of 55,200 reads\n"
          ]
        }
      ],
      "source": [
        "print(f\"Select all reads from reference sequence '{refseqid}''\")\n",
        "reads_from_refseq = {k:v for k,v in simread_align.items() if v['refseqid']==refseqid}\n",
        "nbr_generated_reads = len(reads_from_refseq)\n",
        "print(f\"Total of {nbr_generated_reads:,d} reads\")"
      ]
    },
    {
      "cell_type": "code",
      "execution_count": null,
      "metadata": {
        "id": "JzH5Rais5awz",
        "outputId": "945be4ae-c14c-4585-8afb-6960a6353bde"
      },
      "outputs": [
        {
          "name": "stdout",
          "output_type": "stream",
          "text": [
            "{'aln_start_pos': '1286',\n",
            " 'read_nbr': '1',\n",
            " 'read_seq_aligned': 'TCTTTGAAGAACTTCCAAATGGTTTTATGGGTGCGAAAATTTTCTCAACA',\n",
            " 'readid': '11120:ncbi:5-1',\n",
            " 'ref_seq_aligned': 'TCTTTGAAGAACTTCCAAATGGTTTTATGGGTGCGAAAATTTTCTCAACA',\n",
            " 'ref_seq_strand': '+',\n",
            " 'refseq_nbr': '5',\n",
            " 'refseqid': '11120',\n",
            " 'source': 'ncbi'}\n"
          ]
        }
      ],
      "source": [
        "n = -1\n",
        "selected_simread = [v for k,v in reads_from_refseq.items()][n]\n",
        "pprint(selected_simread)"
      ]
    },
    {
      "cell_type": "code",
      "execution_count": null,
      "metadata": {
        "id": "mdGSkZAJ5awz"
      },
      "outputs": [],
      "source": [
        "def check_alignment(n, reads):\n",
        "    selected_simread = [v for k,v in reads.items()][n]\n",
        "    print(f\"{'='*80}\")\n",
        "    print(f\"checking read {selected_simread['readid']}\")\n",
        "    start = int(selected_simread['aln_start_pos'])\n",
        "    strand = selected_simread['ref_seq_strand']\n",
        "    print(f\"simread info:\")\n",
        "    print(f\" - from `{strand}` strand\")\n",
        "    print(f\" - position: {start:,d}\")\n",
        "\n",
        "    if strand == '+':\n",
        "        segment_from_refseq = original_seq[start:start+50]\n",
        "    else:\n",
        "        segment_from_refseq = opposite_strand(reverse_sequence(original_seq)[start:start+50])\n",
        "\n",
        "    print('sequences:')\n",
        "    print(f'- simread seq          :', selected_simread['read_seq_aligned'])\n",
        "    print(f'- refseq aligned       :', selected_simread['ref_seq_aligned'])\n",
        "    print(f'- segment in orig. seq :', segment_from_refseq)"
      ]
    },
    {
      "cell_type": "code",
      "execution_count": null,
      "metadata": {
        "id": "8-KUDdiR5awz",
        "outputId": "0660a933-bf2a-45eb-fbfc-b4e58b0cb457"
      },
      "outputs": [
        {
          "name": "stdout",
          "output_type": "stream",
          "text": [
            "================================================================================\n",
            "checking read 11120:ncbi:5-1\n",
            "simread info:\n",
            " - from `+` strand\n",
            " - position: 1,286\n",
            "sequences:\n",
            "- simread seq          : TCTTTGAAGAACTTCCAAATGGTTTTATGGGTGCGAAAATTTTCTCAACA\n",
            "- refseq aligned       : TCTTTGAAGAACTTCCAAATGGTTTTATGGGTGCGAAAATTTTCTCAACA\n",
            "- segment in orig. seq : TCTTTGAAGAACTTCCAAATGGTTTTATGGGTGCGAAAATTTTCTCAACA\n",
            "================================================================================\n",
            "checking read 11120:ncbi:5-2\n",
            "simread info:\n",
            " - from `-` strand\n",
            " - position: 3,836\n",
            "sequences:\n",
            "- simread seq          : AAAGTTGTGTAGTAAGAAGATTTCTTACCACACTTACTCATTAAAGGAAT\n",
            "- refseq aligned       : AAAGTTGTGTAGTAAGAAGATTTCTTACCACACTTACTCATTAAAGGAAT\n",
            "- segment in orig. seq : AAAGTTGTGTAGTAAGAAGATTTCTTACCACACTTACTCATTAAAGGAAT\n",
            "================================================================================\n",
            "checking read 11120:ncbi:5-3\n",
            "simread info:\n",
            " - from `-` strand\n",
            " - position: 26,257\n",
            "sequences:\n",
            "- simread seq          : AACAGCTTCTTTAAAGAAAGCCAATGTTGAGAAAATTTTCGCACCCATAA\n",
            "- refseq aligned       : AACAGCTTCTTTAAAGAAAGCCAATGTTGAGAAAATTTTCGCACCCATAA\n",
            "- segment in orig. seq : AACAGCTTCTTTAAAGAAAGCCAATGTTGAGAAAATTTTCGCACCCATAA\n",
            "================================================================================\n",
            "checking read 11120:ncbi:5-4\n",
            "simread info:\n",
            " - from `+` strand\n",
            " - position: 14,611\n",
            "sequences:\n",
            "- simread seq          : CTCTAGCTAAGCAAGGTCTTGTAGCAGATATTGCTGGTTTTAGAGAAATT\n",
            "- refseq aligned       : CTCTAGCTAAGCAAGGTCTTGTAGCAGATATTGCTGGTTTTAGAGAAATT\n",
            "- segment in orig. seq : CTCTAGCTAAGCAAGGTCTTGTAGCAGATATTGCTGGTTTTAGAGAAATT\n",
            "================================================================================\n",
            "checking read 11120:ncbi:5-5\n",
            "simread info:\n",
            " - from `+` strand\n",
            " - position: 10,383\n",
            "sequences:\n",
            "- simread seq          : TTATGTGTTAATGGCCATTATTGTTAATTGCATGGGTTGGCTCTTTACGT\n",
            "- refseq aligned       : TTATGTGTTAATGGCCATTATTGTTAATTGCATGGGTTGGCTCTTTACGT\n",
            "- segment in orig. seq : TTATGTGTTAATGGCCATTATTGTTAATTGCATGGGTTGGCTCTTTACGT\n"
          ]
        }
      ],
      "source": [
        "for n in range(nbr_generated_reads-1, nbr_generated_reads-6, -1):\n",
        "    check_alignment(n, reads_from_refseq)"
      ]
    },
    {
      "cell_type": "markdown",
      "metadata": {
        "id": "v0EZxX5u5awz"
      },
      "source": [
        "## Create test dataset"
      ]
    },
    {
      "cell_type": "code",
      "execution_count": null,
      "metadata": {
        "id": "eZi7fvdC5aw0"
      },
      "outputs": [],
      "source": [
        "p2original_set = p2data / 'CNN_Virus_data/50mer_validating'\n",
        "assert p2original_set.is_file()"
      ]
    },
    {
      "cell_type": "markdown",
      "metadata": {
        "id": "NPGqgA3_5aw0"
      },
      "source": [
        "Original model dataset has one input (reads) and two outputs (label for the read and relative position)"
      ]
    },
    {
      "cell_type": "code",
      "execution_count": null,
      "metadata": {
        "id": "HIMwBHX15aw0",
        "outputId": "27da8c5a-c2e1-4951-e35a-837014077e42"
      },
      "outputs": [
        {
          "name": "stdout",
          "output_type": "stream",
          "text": [
            "2-line chunk 1\n",
            "AAAAAGATTTTGAGAGAGGTCGACCTGTCCTCCTAAAACGTTTACAAAAG\t71\t0\n",
            "CATGTAACGCAGCTTAGTCCGATCGTGGCTATAATCCGTCTTTCGATTTG\t1\t7\n",
            "\n"
          ]
        }
      ],
      "source": [
        "orig_ds = TextFileBaseIterator(p2original_set, nlines=2)\n",
        "orig_ds.print_first_chuncks(1)"
      ]
    },
    {
      "cell_type": "code",
      "execution_count": null,
      "metadata": {
        "id": "fArIyMo45aw0",
        "outputId": "06161e56-4cf0-4716-e915-f25bd136f2d0"
      },
      "outputs": [
        {
          "data": {
            "text/plain": [
              "'CCACGTCGATGAAGCTCCGACGAGAGTCGGCGCTGAGCCCGCGCACCTCC\\t71\\t6\\nAGCTCGTGGATCTCCCCTCCTTCTGCAGTTTCAACATCAGAAGCCCTGAA\\t87\\t1\\n'"
            ]
          },
          "execution_count": null,
          "metadata": {},
          "output_type": "execute_result"
        }
      ],
      "source": [
        "next(orig_ds)"
      ]
    },
    {
      "cell_type": "markdown",
      "metadata": {
        "id": "512DGfhS5aw0"
      },
      "source": [
        "In a first step, we will only infer from the model, so we only need a text file with sequences\n",
        "\n",
        "```python\n",
        "2591237:ncbi:1-60400\n",
        "\n",
        "{'read_nbr': '60400',\n",
        " 'readid': '2591237:ncbi:1-60400',\n",
        " 'seq_nbr': '1',\n",
        " 'seqid': '2591237',\n",
        " 'sequence': 'ACAACTCCTATTCGTAGTTGAAGTTGTTGACAAATACTTTGATTGTTACG',\n",
        " 'source': 'ncbi'}\n",
        " ```"
      ]
    },
    {
      "cell_type": "markdown",
      "metadata": {
        "id": "-tlyu_pW5aw0"
      },
      "source": [
        "```\n",
        "'11120:ncbi:5-1': {'aln_start_pos': '1286',\n",
        "                    'read_nbr': '1',\n",
        "                    'readid': '11120:ncbi:5-1',\n",
        "                    'ref_seq_strand': '+',\n",
        "                    'refseq_nbr': '5',\n",
        "                    'refseqid': '11120',\n",
        "                    'source': 'ncbi'},\n",
        "```"
      ]
    },
    {
      "cell_type": "code",
      "execution_count": null,
      "metadata": {
        "id": "vqDrX78-5aw1"
      },
      "outputs": [],
      "source": [
        "def get_infer_ds_from_fastq(p2fastq, overwrite_ds=False, nsamples=None):\n",
        "    \"\"\"Build a dataset file from fastq read data for inference only\"\"\"\n",
        "    fastq = FastqFileReader(p2fastq)\n",
        "    aln = AlnFileReader(p2fastq.parent / f\"{p2fastq.stem}.aln\")\n",
        "    \n",
        "    p2dataset = Path(f\"{p2fastq.stem}_ds\")\n",
        "    if p2dataset.is_file():\n",
        "        if overwrite_ds: \n",
        "            p2dataset.unlink()\n",
        "        else:\n",
        "            raise ValueError(f\"{p2dataset.name} already exists in {p2dataset.absolute()}\")\n",
        "    p2dataset.touch()\n",
        "    \n",
        "    read_ids = []\n",
        "    read_refseqs = []\n",
        "    read_start_pos = []\n",
        "    read_strand = []\n",
        "    \n",
        "    with open(p2dataset, 'a') as fp:\n",
        "        i = 1\n",
        "        for fastq_chunck, aln_chunck in zip(fastq.it, aln.it):\n",
        "            seq = fastq_chunck['sequence']\n",
        "            fp.write(f\"{seq}\\t{0}\\t{0}\\n\")\n",
        "#             print(f\"{seq}\\t{refseqid}\\t{start_pos}\")\n",
        "            \n",
        "            aln_meta = parse_metadata_art_read_aln(aln_chunck['definition line'])\n",
        "            read_ids.append(aln_meta['readid'])\n",
        "            read_refseqs.append(aln_meta['refseqid'])\n",
        "            read_start_pos.append(aln_meta['aln_start_pos'])\n",
        "            read_strand.append(aln_meta['ref_seq_strand'])\n",
        "\n",
        "            i += 1\n",
        "            if nsamples:\n",
        "\n",
        "                if i > nsamples: break\n",
        "    print(f\"Dataset with {i-1:,d} reads\")    \n",
        "    return p2dataset, np.array(list(zip(read_ids, read_refseqs, read_start_pos, read_strand)))"
      ]
    },
    {
      "cell_type": "code",
      "execution_count": null,
      "metadata": {
        "id": "S4WxsVP_5aw1",
        "outputId": "1495a953-4e2a-4e0b-d7a4-d8a7ec4ff3c5"
      },
      "outputs": [
        {
          "name": "stdout",
          "output_type": "stream",
          "text": [
            "Dataset with 571,980 reads\n"
          ]
        }
      ],
      "source": [
        "nsamples = None\n",
        "p2ds, reads_info = get_infer_ds_from_fastq(p2fastq, overwrite_ds=True, nsamples=nsamples)"
      ]
    },
    {
      "cell_type": "code",
      "execution_count": null,
      "metadata": {
        "id": "VklEb-Pg5aw1",
        "outputId": "c900781b-fd81-469a-93ce-64add931bc41"
      },
      "outputs": [
        {
          "data": {
            "text/plain": [
              "array([['2591237:ncbi:1-60400', '2591237', '14770', '+'],\n",
              "       ['2591237:ncbi:1-60399', '2591237', '17012', '-'],\n",
              "       ['2591237:ncbi:1-60398', '2591237', '9188', '+'],\n",
              "       ['2591237:ncbi:1-60397', '2591237', '6764', '-']], dtype='<U21')"
            ]
          },
          "execution_count": null,
          "metadata": {},
          "output_type": "execute_result"
        }
      ],
      "source": [
        "reads_info[:4, :]"
      ]
    },
    {
      "cell_type": "code",
      "execution_count": null,
      "metadata": {
        "id": "cg8SJ6Ne5aw1"
      },
      "outputs": [],
      "source": [
        "import tensorflow as tf\n",
        "from tensorflow.keras.models import load_model\n",
        "\n",
        "from metagentools.cnn_virus.data import strings_to_tensors"
      ]
    },
    {
      "cell_type": "code",
      "execution_count": null,
      "metadata": {
        "id": "pvxeCBEN5aw1"
      },
      "outputs": [],
      "source": [
        "text_ds = tf.data.TextLineDataset(p2ds).batch(32)\n",
        "ds = text_ds.map(strings_to_tensors)\n",
        "\n",
        "# for xb, (y1b, y2b) in ds.take(1):\n",
        "#     print(xb.shape, y1b.shape, y2b.shape)"
      ]
    },
    {
      "cell_type": "markdown",
      "metadata": {
        "id": "oh0k4cga5aw1"
      },
      "source": [
        "## Inference"
      ]
    },
    {
      "cell_type": "code",
      "execution_count": null,
      "metadata": {
        "id": "ESQ728e_5aw1"
      },
      "outputs": [],
      "source": [
        "model = load_model(p2saved)"
      ]
    },
    {
      "cell_type": "code",
      "execution_count": null,
      "metadata": {
        "id": "7Skx5esY5aw2"
      },
      "outputs": [],
      "source": [
        "# model.summary()"
      ]
    },
    {
      "cell_type": "code",
      "execution_count": null,
      "metadata": {
        "id": "NjDU4xad5aw2"
      },
      "outputs": [],
      "source": [
        "prob_preds = model.predict(ds)"
      ]
    },
    {
      "cell_type": "code",
      "execution_count": null,
      "metadata": {
        "id": "45pTA_n25aw2",
        "outputId": "2365d05f-773f-4851-a845-ac5e5c706b5e"
      },
      "outputs": [
        {
          "data": {
            "text/plain": [
              "((571980, 187), (571980, 10))"
            ]
          },
          "execution_count": null,
          "metadata": {},
          "output_type": "execute_result"
        }
      ],
      "source": [
        "prob_preds[0].shape, prob_preds[1].shape"
      ]
    },
    {
      "cell_type": "code",
      "execution_count": null,
      "metadata": {
        "id": "ZRdjg8md5aw2",
        "outputId": "27f89961-c8cd-496c-f3f2-ea18fd367740"
      },
      "outputs": [
        {
          "data": {
            "text/plain": [
              "array([117, 117, 117, 117,  32,  89, 117, 117,  94, 117])"
            ]
          },
          "execution_count": null,
          "metadata": {},
          "output_type": "execute_result"
        }
      ],
      "source": [
        "class_preds = np.argmax(prob_preds[0], axis=1)\n",
        "class_preds.shape\n",
        "class_preds[:10]"
      ]
    },
    {
      "cell_type": "code",
      "execution_count": null,
      "metadata": {
        "id": "hMWcv1Fs5aw2"
      },
      "outputs": [],
      "source": [
        "# ground truth - not relevant here\n",
        "# class_labels_ohe = None\n",
        "# for xb, (yb, _) in ds:\n",
        "#     class_labels_ohe = tf.concat([class_labels_ohe, yb], axis=0) if class_labels_ohe is not None else yb\n",
        "# # print(class_labels_ohe.shape)\n",
        "# class_labels = np.argmax(class_labels_ohe, axis=1)"
      ]
    },
    {
      "cell_type": "markdown",
      "metadata": {
        "id": "YyrSc4295aw2"
      },
      "source": [
        "## Evaluate Model for cov"
      ]
    },
    {
      "cell_type": "markdown",
      "metadata": {
        "id": "yMFEMdDH5aw3"
      },
      "source": [
        "Original model was trained with 187 different virus species."
      ]
    },
    {
      "cell_type": "code",
      "execution_count": null,
      "metadata": {
        "id": "munRrUWC5aw3",
        "outputId": "6124b5ab-9e96-44f1-aea9-e1cecfa6f4e6"
      },
      "outputs": [
        {
          "name": "stdout",
          "output_type": "stream",
          "text": [
            "Original model is trained to detect 187 virus species, including 2 coronavirus species:\n",
            " - Middle_East_respiratory_syndrome-related_coronavirus    \t94\n",
            " - Severe_acute_respiratory_syndrome-related_coronavirus    \t117\n",
            "\n"
          ]
        }
      ],
      "source": [
        "with open(p2virus_labels, 'r') as fp:\n",
        "    i, c = 0, 0\n",
        "    cov = []\n",
        "    while True:\n",
        "        line = fp.readline()\n",
        "        if line == '': break\n",
        "        elif 'corona' in line: \n",
        "            c += 1\n",
        "            line = line.replace('\\t', '    \\t')\n",
        "            cov.append(f\" - {line}\")\n",
        "        i += 1\n",
        "print(f\"Original model is trained to detect {i} virus species, including {c} coronavirus species:\")\n",
        "print(''.join(cov))"
      ]
    },
    {
      "cell_type": "markdown",
      "metadata": {
        "id": "qOKANcNO5aw3"
      },
      "source": [
        "In our case we only care about whether the model detects coronavirus species out of the sequences. We create two new functions:"
      ]
    },
    {
      "cell_type": "code",
      "execution_count": null,
      "metadata": {
        "id": "PUX0Bhae5aw3",
        "outputId": "4beced5f-25e5-4149-9e9b-966dc490680a"
      },
      "outputs": [
        {
          "data": {
            "text/plain": [
              "0.13603622504283366"
            ]
          },
          "execution_count": null,
          "metadata": {},
          "output_type": "execute_result"
        }
      ],
      "source": [
        "def is_cov(y_preds):\n",
        "    \"\"\"Return 1 if the corresponding prediction is a corona virus, 0 otherwise\"\"\"\n",
        "    return (y_preds == 94).astype(int) + (y_preds == 117).astype(int)\n",
        "\n",
        "def cov_acc(y_true, y_preds):\n",
        "    \"\"\"Evaluates the accuracy of the model assuming all evaluated reads are from corona virus\"\"\"\n",
        "    return is_cov(y_preds).sum()/y_preds.shape[0]\n",
        "\n",
        "cov_acc(None, class_preds)"
      ]
    },
    {
      "cell_type": "code",
      "execution_count": null,
      "metadata": {
        "id": "ZsGs4zNw5aw3",
        "outputId": "b1d3f9be-be02-47b1-b21e-d7d21f8ab798"
      },
      "outputs": [
        {
          "name": "stdout",
          "output_type": "stream",
          "text": [
            "Reference Sequence: Infectious bronchitis virus  scientific name:\n",
            "  Nbr reads: 55,200\n",
            "  Accuracy:  0.065\n",
            "Reference Sequence: Bovine coronavirus  scientific name:\n",
            "  Nbr reads: 61,800\n",
            "  Accuracy:  0.055\n",
            "Reference Sequence: Camel alphacoronavirus  scientific name:\n",
            "  Nbr reads: 54,700\n",
            "  Accuracy:  0.074\n",
            "Reference Sequence: Coronavirus BtRs-BetaCoV/YN2018D  scientific name:\n",
            "  Nbr reads: 60,400\n",
            "  Accuracy:  0.733\n",
            "Reference Sequence: Human coronavirus NL63  scientific name:\n",
            "  Nbr reads: 55,000\n",
            "  Accuracy:  0.067\n",
            "Reference Sequence: Porcine epidemic diarrhea virus  scientific name:\n",
            "  Nbr reads: 223,800\n",
            "  Accuracy:  0.069\n",
            "Reference Sequence: Human coronavirus OC43  scientific name:\n",
            "  Nbr reads: 61,080\n",
            "  Accuracy:  0.057\n"
          ]
        }
      ],
      "source": [
        "aln = AlnFileReader(p2fastq.parent / f\"{p2fastq.stem}.aln\")\n",
        "acc_per_refseq = {}\n",
        "\n",
        "for refseqid in np.unique(reads_info[:,1]):\n",
        "    mask = reads_info[:,1] == refseqid\n",
        "    acc = cov_acc(None, class_preds[mask])\n",
        "    aln_refseq_meta = aln.ref_sequences[refseqid]\n",
        "    print(f\"Reference Sequence: {aln_refseq_meta['species']}:\")\n",
        "    print(f\"  Nbr reads: {class_preds[mask].shape[0]:,d}\")\n",
        "    print(f\"  Accuracy:  {acc:.3f}\")"
      ]
    },
    {
      "cell_type": "code",
      "execution_count": null,
      "metadata": {
        "id": "cRwz__nV5aw3",
        "outputId": "43eaeebe-ab53-4508-d391-bcfd977cdb3b"
      },
      "outputs": [
        {
          "name": "stdout",
          "output_type": "stream",
          "text": [
            "Ref. Sequence: Infectious bronchitis virus:\n",
            "  Accuracy :............... 0.065\n",
            "  Acc. coding strand: ..... 0.068\n",
            "  Acc. template strand: ... 0.051\n",
            "  Nbr reads: 55,200, incl. 27,632 from coding strand and 27,568 from template strand\n",
            "\n",
            "Ref. Sequence: Bovine coronavirus:\n",
            "  Accuracy :............... 0.055\n",
            "  Acc. coding strand: ..... 0.058\n",
            "  Acc. template strand: ... 0.051\n",
            "  Nbr reads: 61,800, incl. 30,928 from coding strand and 30,872 from template strand\n",
            "\n",
            "Ref. Sequence: Camel alphacoronavirus:\n",
            "  Accuracy :............... 0.074\n",
            "  Acc. coding strand: ..... 0.070\n",
            "  Acc. template strand: ... 0.051\n",
            "  Nbr reads: 54,700, incl. 27,313 from coding strand and 27,387 from template strand\n",
            "\n",
            "Ref. Sequence: Coronavirus BtRs-BetaCoV/YN2018D:\n",
            "  Accuracy :............... 0.733\n",
            "  Acc. coding strand: ..... 0.733\n",
            "  Acc. template strand: ... 0.051\n",
            "  Nbr reads: 60,400, incl. 30,099 from coding strand and 30,301 from template strand\n",
            "\n",
            "Ref. Sequence: Human coronavirus NL63:\n",
            "  Accuracy :............... 0.067\n",
            "  Acc. coding strand: ..... 0.062\n",
            "  Acc. template strand: ... 0.051\n",
            "  Nbr reads: 55,000, incl. 27,560 from coding strand and 27,440 from template strand\n",
            "\n",
            "Ref. Sequence: Porcine epidemic diarrhea virus:\n",
            "  Accuracy :............... 0.069\n",
            "  Acc. coding strand: ..... 0.065\n",
            "  Acc. template strand: ... 0.051\n",
            "  Nbr reads: 223,800, incl. 111,950 from coding strand and 111,850 from template strand\n",
            "\n",
            "Ref. Sequence: Human coronavirus OC43:\n",
            "  Accuracy :............... 0.057\n",
            "  Acc. coding strand: ..... 0.064\n",
            "  Acc. template strand: ... 0.051\n",
            "  Nbr reads: 61,080, incl. 30,565 from coding strand and 30,515 from template strand\n",
            "\n"
          ]
        }
      ],
      "source": [
        "for refseqid in np.unique(reads_info[:,1]):\n",
        "    mask_refseq = reads_info[:,1] == refseqid\n",
        "    mask_strand_coding = reads_info[:,3] == '+'\n",
        "    mask_strand_template = reads_info[:,3] == '-'\n",
        "    mask_coding = (mask_strand_coding.astype(int) * mask_refseq.astype(int)).astype(bool)\n",
        "    mask_template = (mask_strand_template.astype(int) * mask_refseq.astype(int)).astype(bool)\n",
        "\n",
        "    aln_refseq_meta = aln.ref_sequences[refseqid]\n",
        "    acc = cov_acc(None, class_preds[mask_refseq])\n",
        "    acc_coding = cov_acc(None, class_preds[mask_coding])\n",
        "    acc_template = cov_acc(None, class_preds[mask_template])\n",
        "       \n",
        "    print(f\"Ref. Sequence: {aln_refseq_meta['species'].replace('scientific name', '').strip()}:\")\n",
        "    print(f\"  Accuracy :............... {acc:.3f}\")\n",
        "    print(f\"  Acc. coding strand: ..... {acc_coding:.3f}\")\n",
        "    print(f\"  Acc. template strand: ... {acc_info:.3f}\")\n",
        "    print(f\"  Nbr reads: {class_preds[mask_refseq].shape[0]:,d}, incl. {mask_coding.sum():,d} from coding strand and {mask_template.sum():,d} from template strand\")\n",
        "    print()"
      ]
    },
    {
      "cell_type": "code",
      "execution_count": null,
      "metadata": {
        "id": "tOcf48pd5aw4"
      },
      "outputs": [],
      "source": []
    },
    {
      "cell_type": "markdown",
      "metadata": {
        "id": "F1V580Se5aw4"
      },
      "source": [
        "**Confusion Matrix**\n",
        "The matrix **columns** represent the prediction labels and the **rows** represent the real labels. The confusion matrix is always a 2-D array of shape [n, n], where n is the number of valid labels for a given classification task."
      ]
    },
    {
      "cell_type": "code",
      "execution_count": null,
      "metadata": {
        "id": "9cnAziP65aw4",
        "outputId": "edb1f8c0-fa87-4fd2-a61a-3e922a2de937"
      },
      "outputs": [
        {
          "data": {
            "text/plain": [
              "array([1, 1, 1, ..., 0, 0, 0])"
            ]
          },
          "execution_count": null,
          "metadata": {},
          "output_type": "execute_result"
        }
      ],
      "source": [
        "is_cov(class_preds)"
      ]
    },
    {
      "cell_type": "code",
      "execution_count": null,
      "metadata": {
        "id": "IlIyUV1l5aw4",
        "outputId": "864846e4-dc39-41e5-d231-7e5128633147"
      },
      "outputs": [
        {
          "data": {
            "text/plain": [
              "TensorShape([2, 2])"
            ]
          },
          "execution_count": null,
          "metadata": {},
          "output_type": "execute_result"
        }
      ],
      "source": [
        "confmat = tf.math.confusion_matrix(np.ones_like(class_preds), is_cov(class_preds))\n",
        "confmat.shape"
      ]
    },
    {
      "cell_type": "code",
      "execution_count": null,
      "metadata": {
        "id": "WjWsd9Qy5aw4",
        "outputId": "54f7b3ab-77df-4706-caeb-1d0737bc46a3"
      },
      "outputs": [
        {
          "data": {
            "text/plain": [
              "array([[     0,      0],\n",
              "       [494170,  77810]], dtype=int32)"
            ]
          },
          "execution_count": null,
          "metadata": {},
          "output_type": "execute_result"
        }
      ],
      "source": [
        "confmat.numpy()"
      ]
    },
    {
      "cell_type": "code",
      "execution_count": null,
      "metadata": {
        "id": "fq6-Iy7P5aw5"
      },
      "outputs": [],
      "source": []
    },
    {
      "cell_type": "markdown",
      "metadata": {
        "id": "fOTtsinX5aw5"
      },
      "source": [
        "# Simreads from 25 sequences"
      ]
    },
    {
      "cell_type": "code",
      "execution_count": null,
      "metadata": {
        "id": "Al9iJmoV5aw5"
      },
      "outputs": [],
      "source": [
        "p2saved = p2data / 'saved/cnn_virus_original/pretrained_model.h5'\n",
        "p2simreads = p2data / 'cov_simreads/single_25seq_50bp'\n",
        "p2virus_labels = p2data / 'CNN_Virus_data/virus_name_mapping'\n",
        "assert p2saved.is_file()\n",
        "assert p2simreads.is_dir()\n",
        "assert p2virus_labels.is_file()"
      ]
    },
    {
      "cell_type": "code",
      "execution_count": null,
      "metadata": {
        "id": "9NClxrT_5aw5",
        "outputId": "31a336a3-a26e-47e2-de52-436a2c1bdeec"
      },
      "outputs": [
        {
          "name": "stdout",
          "output_type": "stream",
          "text": [
            "Dataset with 1,000,000 reads\n"
          ]
        }
      ],
      "source": [
        "p2fastq = p2simreads / f\"{p2simreads.stem}.fq\"\n",
        "p2aln = p2simreads / f\"{p2simreads.stem}.aln\"\n",
        "assert p2fastq.is_file()\n",
        "assert p2aln.is_file()\n",
        "\n",
        "nsamples = 1_000_000\n",
        "p2ds, reads_info = get_infer_ds_from_fastq(p2fastq, overwrite_ds=True, nsamples=nsamples)\n",
        "\n",
        "text_ds = tf.data.TextLineDataset(p2ds).batch(32)\n",
        "ds = text_ds.map(strings_to_tensors)"
      ]
    },
    {
      "cell_type": "code",
      "execution_count": null,
      "metadata": {
        "id": "zclGhNsM5aw5"
      },
      "outputs": [],
      "source": [
        "model = load_model(p2saved)"
      ]
    },
    {
      "cell_type": "markdown",
      "metadata": {
        "id": "2sT1opub5aw5"
      },
      "source": [
        "### handle GPU with tf"
      ]
    },
    {
      "cell_type": "code",
      "execution_count": null,
      "metadata": {
        "id": "URVKPUtg5aw5",
        "outputId": "a1c4a850-5ab0-4f3f-d6d1-b4fa026a22e9"
      },
      "outputs": [
        {
          "data": {
            "text/plain": [
              "PhysicalDevice(name='/physical_device:GPU:0', device_type='GPU')"
            ]
          },
          "execution_count": null,
          "metadata": {},
          "output_type": "execute_result"
        }
      ],
      "source": [
        "# device = tf.config.list_physical_devices('GPU')[0]\n",
        "# device"
      ]
    },
    {
      "cell_type": "code",
      "execution_count": null,
      "metadata": {
        "id": "ytKLCeeD5aw6",
        "outputId": "621704e2-2c0a-4163-b2e4-afc9b020d554"
      },
      "outputs": [
        {
          "data": {
            "text/plain": [
              "{'current': 301555968, 'peak': 330915840}"
            ]
          },
          "execution_count": null,
          "metadata": {},
          "output_type": "execute_result"
        }
      ],
      "source": [
        "# tf.config.experimental.get_memory_info(device='GPU:0')"
      ]
    },
    {
      "cell_type": "code",
      "execution_count": null,
      "metadata": {
        "id": "b2a2iKCa5aw6",
        "outputId": "40016b69-6664-491e-d0c2-b562d65e6084"
      },
      "outputs": [
        {
          "name": "stdout",
          "output_type": "stream",
          "text": [
            "Invalid device or cannot modify virtual devices once initialized.\n"
          ]
        }
      ],
      "source": [
        "# physical_devices = tf.config.list_physical_devices('GPU')\n",
        "# try:\n",
        "#     tf.config.experimental.set_memory_growth(physical_devices[0], True)\n",
        "#     assert tf.config.experimental.get_memory_growth(physical_devices[0])\n",
        "# except:\n",
        "#     print('Invalid device or cannot modify virtual devices once initialized.')"
      ]
    },
    {
      "cell_type": "code",
      "execution_count": null,
      "metadata": {
        "id": "OtmY80ly5aw6"
      },
      "outputs": [],
      "source": [
        "# tf.keras.backend.clear_session()"
      ]
    },
    {
      "cell_type": "code",
      "execution_count": null,
      "metadata": {
        "id": "Ay9AP2lY5aw6"
      },
      "outputs": [],
      "source": [
        "# model.summary()"
      ]
    },
    {
      "cell_type": "code",
      "execution_count": null,
      "metadata": {
        "id": "zSfZvo1R5aw6"
      },
      "outputs": [],
      "source": [
        "# try:\n",
        "#     del model\n",
        "# except:\n",
        "#     pass\n",
        "# import gc\n",
        "# gc.collect()"
      ]
    },
    {
      "cell_type": "code",
      "execution_count": null,
      "metadata": {
        "id": "2EKdlF0H5aw6",
        "outputId": "cde76299-1215-4849-a849-b3ed2bd33b47"
      },
      "outputs": [
        {
          "name": "stdout",
          "output_type": "stream",
          "text": [
            "1 Physical GPUs, 1 Logical GPU\n"
          ]
        }
      ],
      "source": [
        "# gpus = tf.config.list_physical_devices('GPU')\n",
        "# if gpus:\n",
        "#   # Restrict TensorFlow to only use the first GPU\n",
        "#   try:\n",
        "#     tf.config.set_visible_devices(gpus[0], 'GPU')\n",
        "#     logical_gpus = tf.config.list_logical_devices('GPU')\n",
        "#     print(len(gpus), \"Physical GPUs,\", len(logical_gpus), \"Logical GPU\")\n",
        "#   except RuntimeError as e:\n",
        "#     # Visible devices must be set before GPUs have been initialized\n",
        "#     print(e)"
      ]
    },
    {
      "cell_type": "markdown",
      "metadata": {
        "id": "HyHflW9C5aw7"
      },
      "source": [
        "### end of section"
      ]
    },
    {
      "cell_type": "code",
      "execution_count": null,
      "metadata": {
        "id": "eJhNdG3Y5aw7",
        "outputId": "23539f8e-1978-43ea-ca6c-4068063144c4"
      },
      "outputs": [
        {
          "name": "stdout",
          "output_type": "stream",
          "text": [
            "31250/31250 [==============================] - 639s 20ms/step\n"
          ]
        }
      ],
      "source": [
        "prob_preds = model.predict(ds, verbose=1)"
      ]
    },
    {
      "cell_type": "code",
      "execution_count": null,
      "metadata": {
        "id": "Muf1VfBg5aw7",
        "outputId": "b86d0259-eb90-48c1-c1de-aa9f29d69efd"
      },
      "outputs": [
        {
          "data": {
            "text/plain": [
              "((1000000, 187), (1000000, 10))"
            ]
          },
          "execution_count": null,
          "metadata": {},
          "output_type": "execute_result"
        }
      ],
      "source": [
        "prob_preds[0].shape, prob_preds[1].shape"
      ]
    },
    {
      "cell_type": "code",
      "execution_count": null,
      "metadata": {
        "id": "0RLDissH5aw7",
        "outputId": "1e6ffc80-a104-4636-c3c2-c97ee0b51dfc"
      },
      "outputs": [
        {
          "data": {
            "text/plain": [
              "(1000000,)"
            ]
          },
          "execution_count": null,
          "metadata": {},
          "output_type": "execute_result"
        }
      ],
      "source": [
        "class_preds = np.argmax(prob_preds[0], axis=1)\n",
        "class_preds.shape"
      ]
    },
    {
      "cell_type": "code",
      "execution_count": null,
      "metadata": {
        "id": "hnhalPxY5aw7",
        "outputId": "1f8f88bb-91b0-4825-c11f-f2fbf54e22a0"
      },
      "outputs": [
        {
          "data": {
            "text/plain": [
              "0.324955"
            ]
          },
          "execution_count": null,
          "metadata": {},
          "output_type": "execute_result"
        }
      ],
      "source": [
        "def is_cov(y_preds):\n",
        "    \"\"\"Return 1 if the corresponding prediction is a corona virus, 0 otherwise\"\"\"\n",
        "    return (y_preds == 94).astype(int) + (y_preds == 117).astype(int)\n",
        "\n",
        "def cov_acc(y_true, y_preds):\n",
        "    \"\"\"Evaluates the accuracy of the model assuming all evaluated reads are from corona virus\"\"\"\n",
        "    return is_cov(y_preds).sum()/y_preds.shape[0]\n",
        "\n",
        "cov_acc(None, class_preds)"
      ]
    },
    {
      "cell_type": "code",
      "execution_count": null,
      "metadata": {
        "id": "sd6fFNGJ5aw8",
        "outputId": "15b50d27-35f9-4e0a-bfd1-b667f884cfcf"
      },
      "outputs": [
        {
          "data": {
            "text/plain": [
              "11"
            ]
          },
          "execution_count": null,
          "metadata": {},
          "output_type": "execute_result"
        }
      ],
      "source": [
        "np.unique(reads_info[:,1]).shape[0]"
      ]
    },
    {
      "cell_type": "code",
      "execution_count": null,
      "metadata": {
        "id": "FrcOABLk5aw8",
        "outputId": "8bb186f0-18eb-4bdc-c250-b9a1f3ebeb40"
      },
      "outputs": [
        {
          "name": "stdout",
          "output_type": "stream",
          "text": [
            "Ref. Sequence: Infectious bronchitis virus:\n",
            "  Accuracy :............... 0.059\n",
            "  Acc. coding strand: ..... 0.061\n",
            "  Acc. template strand: ... 0.058\n",
            "  Nbr reads: 110,500, incl. 55,405 from coding strand and 55,095 from template strand\n",
            "\n",
            "Ref. Sequence: Bovine coronavirus:\n",
            "  Accuracy :............... 0.054\n",
            "  Acc. coding strand: ..... 0.058\n",
            "  Acc. template strand: ... 0.051\n",
            "  Nbr reads: 61,800, incl. 30,850 from coding strand and 30,950 from template strand\n",
            "\n",
            "Ref. Sequence: Murine hepatitis virus:\n",
            "  Accuracy :............... 0.052\n",
            "  Acc. coding strand: ..... 0.053\n",
            "  Acc. template strand: ... 0.051\n",
            "  Nbr reads: 62,200, incl. 31,030 from coding strand and 31,170 from template strand\n",
            "\n",
            "Ref. Sequence: Bat coronavirus HKU10:\n",
            "  Accuracy :............... 0.073\n",
            "  Acc. coding strand: ..... 0.072\n",
            "  Acc. template strand: ... 0.074\n",
            "  Nbr reads: 10,700, incl. 5,403 from coding strand and 5,297 from template strand\n",
            "\n",
            "Ref. Sequence: Middle East respiratory syndrome-related coronavirus:\n",
            "  Accuracy :............... 0.989\n",
            "  Acc. coding strand: ..... 0.989\n",
            "  Acc. template strand: ... 0.989\n",
            "  Nbr reads: 240,100, incl. 120,188 from coding strand and 119,912 from template strand\n",
            "\n",
            "Ref. Sequence: Camel alphacoronavirus:\n",
            "  Accuracy :............... 0.073\n",
            "  Acc. coding strand: ..... 0.069\n",
            "  Acc. template strand: ... 0.077\n",
            "  Nbr reads: 54,700, incl. 27,379 from coding strand and 27,321 from template strand\n",
            "\n",
            "Ref. Sequence: Coronavirus BtRs-BetaCoV/YN2018D:\n",
            "  Accuracy :............... 0.734\n",
            "  Acc. coding strand: ..... 0.738\n",
            "  Acc. template strand: ... 0.730\n",
            "  Nbr reads: 60,400, incl. 30,421 from coding strand and 29,979 from template strand\n",
            "\n",
            "Ref. Sequence: Human coronavirus NL63:\n",
            "  Accuracy :............... 0.067\n",
            "  Acc. coding strand: ..... 0.063\n",
            "  Acc. template strand: ... 0.071\n",
            "  Nbr reads: 55,000, incl. 27,381 from coding strand and 27,619 from template strand\n",
            "\n",
            "Ref. Sequence: Porcine epidemic diarrhea virus:\n",
            "  Accuracy :............... 0.068\n",
            "  Acc. coding strand: ..... 0.065\n",
            "  Acc. template strand: ... 0.072\n",
            "  Nbr reads: 223,800, incl. 111,990 from coding strand and 111,810 from template strand\n",
            "\n",
            "Ref. Sequence: Human coronavirus HKU1:\n",
            "  Accuracy :............... 0.049\n",
            "  Acc. coding strand: ..... 0.052\n",
            "  Acc. template strand: ... 0.047\n",
            "  Nbr reads: 59,700, incl. 29,928 from coding strand and 29,772 from template strand\n",
            "\n",
            "Ref. Sequence: Human coronavirus OC43:\n",
            "  Accuracy :............... 0.055\n",
            "  Acc. coding strand: ..... 0.061\n",
            "  Acc. template strand: ... 0.048\n",
            "  Nbr reads: 61,100, incl. 30,652 from coding strand and 30,448 from template strand\n",
            "\n"
          ]
        }
      ],
      "source": [
        "for refseqid in np.unique(reads_info[:,1]):\n",
        "    mask_refseq = reads_info[:,1] == refseqid\n",
        "    mask_strand_coding = reads_info[:,3] == '+'\n",
        "    mask_strand_template = reads_info[:,3] == '-'\n",
        "    mask_coding = (mask_strand_coding.astype(int) * mask_refseq.astype(int)).astype(bool)\n",
        "    mask_template = (mask_strand_template.astype(int) * mask_refseq.astype(int)).astype(bool)\n",
        "\n",
        "    aln_refseq_meta = aln.ref_sequences[refseqid]\n",
        "    acc = cov_acc(None, class_preds[mask_refseq])\n",
        "    acc_coding = cov_acc(None, class_preds[mask_coding])\n",
        "    acc_template = cov_acc(None, class_preds[mask_template])\n",
        "       \n",
        "    print(f\"Ref. Sequence: {aln_refseq_meta['species'].replace('scientific name', '').strip()}:\")\n",
        "    print(f\"  Accuracy :............... {acc:.3f}\")\n",
        "    print(f\"  Acc. coding strand: ..... {acc_coding:.3f}\")\n",
        "    print(f\"  Acc. template strand: ... {acc_template:.3f}\")\n",
        "    print(f\"  Nbr reads: {class_preds[mask_refseq].shape[0]:,d}, incl. {mask_coding.sum():,d} from coding strand and {mask_template.sum():,d} from template strand\")\n",
        "    print()"
      ]
    },
    {
      "cell_type": "markdown",
      "metadata": {
        "id": "0AdQ0WZh5aw8"
      },
      "source": [
        "# New Section"
      ]
    },
    {
      "cell_type": "code",
      "execution_count": null,
      "metadata": {
        "id": "-F3Pq-rx5aw8"
      },
      "outputs": [],
      "source": []
    }
  ],
  "metadata": {
    "kernelspec": {
      "display_name": "Python 3 (ipykernel)",
      "language": "python",
      "name": "python3"
    },
    "colab": {
      "provenance": []
    }
  },
  "nbformat": 4,
  "nbformat_minor": 0
}