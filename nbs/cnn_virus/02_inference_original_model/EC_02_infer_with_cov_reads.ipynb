{
 "cells": [
  {
   "cell_type": "markdown",
   "metadata": {},
   "source": [
    "# Inference with original cnn_virus trained model"
   ]
  },
  {
   "cell_type": "markdown",
   "metadata": {},
   "source": [
    "- Inference only, no training.\n",
    "- Experiments with cov_reads files\n",
    "- Trying locally"
   ]
  },
  {
   "cell_type": "markdown",
   "metadata": {},
   "source": [
    "# Imports and setup environment"
   ]
  },
  {
   "cell_type": "markdown",
   "metadata": {},
   "source": [
    "### Install and import packages"
   ]
  },
  {
   "cell_type": "code",
   "execution_count": null,
   "metadata": {},
   "outputs": [
    {
     "name": "stdout",
     "output_type": "stream",
     "text": [
      "`ecutilities` already installed\n",
      "The autoreload extension is already loaded. To reload it, use:\n",
      "  %reload_ext autoreload\n",
      "Set autoreload mode\n"
     ]
    }
   ],
   "source": [
    "try:\n",
    "    from ecutilities.ipython import nb_setup\n",
    "    print('`ecutilities` already installed')\n",
    "except ModuleNotFoundError as e:\n",
    "    print('will install ecutilities')\n",
    "    !pip install -qqU ecutilities\n",
    "    from ecutilities.ipython import nb_setup\n",
    "\n",
    "nb_setup()"
   ]
  },
  {
   "cell_type": "code",
   "execution_count": null,
   "metadata": {},
   "outputs": [],
   "source": [
    "import numpy as np\n",
    "import pandas as pd\n",
    "import os\n",
    "import tensorflow as tf\n",
    "\n",
    "from pathlib import Path\n",
    "from pprint import pprint\n",
    "from tensorflow.python.client import device_lib\n",
    "from tensorflow.keras.models import load_model\n",
    "\n",
    "from metagentools.cnn_virus.data import strings_to_tensors, create_infer_ds_from_fastq\n",
    "from metagentools.cnn_virus.data import FastaFileReader, FastqFileReader, AlnFileReader, parse_metadata_art_read_aln\n",
    "from metagentools.core import TextFileBaseIterator"
   ]
  },
  {
   "cell_type": "code",
   "execution_count": null,
   "metadata": {},
   "outputs": [
    {
     "name": "stdout",
     "output_type": "stream",
     "text": [
      "Tensorflow version: 2.8.2\n",
      "\n",
      "\n",
      "Devices:\n",
      "  - CPU  /device:CPU:0                          \n",
      "  - GPU  /device:GPU:0  NVIDIA GeForce GTX 1050 \n"
     ]
    }
   ],
   "source": [
    "print(f\"Tensorflow version: {tf.__version__}\\n\")\n",
    "\n",
    "os.environ['TF_CPP_MIN_LOG_LEVEL'] = '3' # or any {'0', '1', '2'}\n",
    "\n",
    "devices = device_lib.list_local_devices()\n",
    "print('\\nDevices:')\n",
    "for d in devices:\n",
    "    t = d.device_type\n",
    "    name = d.physical_device_desc\n",
    "    l = [item.split(':', 1) for item in name.split(', ')]\n",
    "    name_attr = dict([x for x in l if len(x)==2])\n",
    "    dev = name_attr.get('name', ' ')\n",
    "    print(f\"  - {t}  {d.name} {dev:25s}\")"
   ]
  },
  {
   "cell_type": "markdown",
   "metadata": {},
   "source": [
    "## Install and import custom code, mount gdrive"
   ]
  },
  {
   "cell_type": "code",
   "execution_count": null,
   "metadata": {},
   "outputs": [
    {
     "data": {
      "text/plain": [
       "PosixPath('/home/vtec/projects/bio/metagentools/nbs')"
      ]
     },
     "execution_count": null,
     "metadata": {},
     "output_type": "execute_result"
    }
   ],
   "source": [
    "# MODIFY AFTER INSTALLING ECUTILITIES >= 1.2.3\n",
    "\n",
    "from ecutilities.core import validate_path\n",
    "\n",
    "def safe_path(\n",
    "    path:str|Path, # path to validate\n",
    ")-> Path:          # validated path as a  pathlib.Path\n",
    "    \"\"\"\"\"\"\n",
    "    validate_path(path, path_type='dir', raise_error=True)\n",
    "    if isinstance(path, str): \n",
    "        path = Path(path)\n",
    "    return path\n",
    "\n",
    "def nbs_root_dir(\n",
    "    path:str|Path|None = None, # path from where to seek for notebook parent directory\n",
    "    pattern:str = 'nbs',       # pattern to identify the nbs directory\n",
    ")-> Path:                      # path of the parent directory\n",
    "    \"\"\"Climb the directory tree up to the notebook directory and return its path\"\"\"    \n",
    "    if path is None: path = Path()\n",
    "    path = safe_path(path).absolute()\n",
    "    tree = [path.name] + [p.name for p in path.parents]\n",
    "    mask = [True if n.startswith(pattern) else False for n in tree]\n",
    "    nbs = Path(f\"{'../' * (mask.index(True))}\").resolve()\n",
    "    return nbs\n",
    "    \n",
    "nbs = nbs_root_dir(Path())\n",
    "nbs"
   ]
  },
  {
   "cell_type": "code",
   "execution_count": null,
   "metadata": {},
   "outputs": [
    {
     "name": "stdout",
     "output_type": "stream",
     "text": [
      "Running locally\n",
      "Make sure you have installed the custom project code in your environment\n",
      "/home/vtec/projects/bio/metagentools/data\n"
     ]
    }
   ],
   "source": [
    "try:\n",
    "    from google.colab import drive\n",
    "    ON_COLAB = True\n",
    "    print('Running on colab')\n",
    "    print('Installing custom project code')   \n",
    "    !pip install -U git+https://github.com/vtecftwy/metagenomics.git@refactor_cnn_virus\n",
    "    drive.mount('/content/gdrive')\n",
    "    \n",
    "    p2drive = Path('/content/gdrive/MyDrive/Metagenonics')\n",
    "    assert p2drive.is_dir()\n",
    "    p2data =  p2drive / 'CNN_Virus_data'\n",
    "    assert p2data.is_dir()\n",
    "\n",
    "except ModuleNotFoundError as e:\n",
    "#     print(e)\n",
    "    ON_COLAB = False\n",
    "    print('Running locally')\n",
    "    print('Make sure you have installed the custom project code in your environment')\n",
    "    p2data = nbs_root_dir().parent / 'data/'\n",
    "    assert p2data.is_dir()\n",
    "    print(p2data.absolute())"
   ]
  },
  {
   "cell_type": "markdown",
   "metadata": {},
   "source": [
    "# Experiments with simulated reads"
   ]
  },
  {
   "cell_type": "markdown",
   "metadata": {},
   "source": [
    "## Setup paths"
   ]
  },
  {
   "cell_type": "markdown",
   "metadata": {},
   "source": [
    "This assumes that the shared gdrive directory is accessible through a shortcut called `Metagenomics` under the root of gdrive."
   ]
  },
  {
   "cell_type": "code",
   "execution_count": null,
   "metadata": {},
   "outputs": [],
   "source": [
    "# p2drive = Path('/content/gdrive/MyDrive/Metagenonics')\n",
    "# assert p2drive.is_dir()\n",
    "\n",
    "# p2data =  p2drive / 'CNN_Virus_data'\n",
    "# assert p2data.is_dir()"
   ]
  },
  {
   "cell_type": "code",
   "execution_count": null,
   "metadata": {},
   "outputs": [],
   "source": [
    "# path for original trained model\n",
    "p2saved = p2data / 'saved/cnn_virus_original/pretrained_model.h5'\n",
    "p2simreads = p2data / 'cov_simreads/single_10seq_50bp'\n",
    "p2virus_labels = p2data / 'CNN_Virus_data/virus_name_mapping'\n",
    "assert p2saved.is_file()\n",
    "assert p2simreads.is_dir()\n",
    "assert p2virus_labels.is_file()\n",
    "\n",
    "#path for the learning weights file\n",
    "# filepath_weights=p2data / \"weight_of_classes\"\n",
    "# assert filepath_weights.is_file()"
   ]
  },
  {
   "cell_type": "markdown",
   "metadata": {},
   "source": [
    "## Explore simread output files"
   ]
  },
  {
   "cell_type": "code",
   "execution_count": null,
   "metadata": {},
   "outputs": [],
   "source": [
    "p2fasta = p2data / 'cov_data/cov_virus_sequences_ten.fa'\n",
    "p2fastq = p2simreads / f\"{p2simreads.stem}.fq\"\n",
    "p2aln = p2simreads / f\"{p2simreads.stem}.aln\"\n",
    "assert p2fastq.is_file()\n",
    "assert p2aln.is_file()\n",
    "assert p2fasta.is_file()"
   ]
  },
  {
   "cell_type": "code",
   "execution_count": null,
   "metadata": {},
   "outputs": [],
   "source": [
    "from metagentools.cnn_virus.data import FastaFileReader, FastqFileReader, AlnFileReader, parse_metadata_art_read_aln\n",
    "from metagentools.core import TextFileBaseIterator"
   ]
  },
  {
   "cell_type": "code",
   "execution_count": null,
   "metadata": {},
   "outputs": [],
   "source": [
    "fasta = FastaFileReader(p2fasta)\n",
    "fastq = FastqFileReader(p2fastq)\n",
    "aln = AlnFileReader(p2aln)"
   ]
  },
  {
   "cell_type": "markdown",
   "metadata": {},
   "source": [
    "### Exploring the simreads in fastaq"
   ]
  },
  {
   "cell_type": "markdown",
   "metadata": {},
   "source": [
    "TODO: \n",
    "- change `add_seq` into `add_read_seq`\n",
    "- change `seqid` into `refseqid`\n",
    "- change seq_nbr into refseq_nbr\n",
    "\n",
    "- parse: seqid and taxonomyid\n"
   ]
  },
  {
   "cell_type": "code",
   "execution_count": null,
   "metadata": {},
   "outputs": [
    {
     "name": "stdout",
     "output_type": "stream",
     "text": [
      "readid: 2591237:ncbi:1-60400\n",
      "{'readid': '2591237:ncbi:1-60400',\n",
      " 'readnb': '60400',\n",
      " 'readseq': 'ACAACTCCTATTCGTAGTTGAAGTTGTTGACAAATACTTTGATTGTTACG',\n",
      " 'refseqnb': '1',\n",
      " 'refsource': 'ncbi',\n",
      " 'reftaxonomyid': '2591237'}\n",
      "\n",
      "readid: 2591237:ncbi:1-60399\n",
      "{'readid': '2591237:ncbi:1-60399',\n",
      " 'readnb': '60399',\n",
      " 'readseq': 'GATCAATGTGGCATCTACAATACAGACAGCATGAAGCACCACCAAAGGAC',\n",
      " 'refseqnb': '1',\n",
      " 'refsource': 'ncbi',\n",
      " 'reftaxonomyid': '2591237'}\n",
      "\n",
      "readid: 2591237:ncbi:1-60398\n",
      "{'readid': '2591237:ncbi:1-60398',\n",
      " 'readnb': '60398',\n",
      " 'readseq': 'ATCTACCAGTGGTAGATGGGTTCTTAATAATGAACATTATAGAGCTCTAC',\n",
      " 'refseqnb': '1',\n",
      " 'refsource': 'ncbi',\n",
      " 'reftaxonomyid': '2591237'}\n",
      "\n"
     ]
    }
   ],
   "source": [
    "for i, (k,v) in enumerate(fastq.parse_fastq(add_readseq=True).items()):\n",
    "    print('readid:',k)\n",
    "    pprint(v)\n",
    "    print()\n",
    "\n",
    "    if i+1 >= 3: break"
   ]
  },
  {
   "cell_type": "markdown",
   "metadata": {},
   "source": [
    "### Exploring ALN header (reference sequences)"
   ]
  },
  {
   "cell_type": "code",
   "execution_count": null,
   "metadata": {},
   "outputs": [
    {
     "name": "stdout",
     "output_type": "stream",
     "text": [
      "{'11120:ncbi:5': {'refseq_accession': 'MN987231',\n",
      "                  'refseq_length': '27617',\n",
      "                  'refseqid': '11120:ncbi:5',\n",
      "                  'refseqnb': '5',\n",
      "                  'refsource': 'ncbi',\n",
      "                  'reftaxonomyid': '11120',\n",
      "                  'species': 'Infectious bronchitis virus  scientific name'},\n",
      " '11128:ncbi:2': {'refseq_accession': 'LC494191',\n",
      "                  'refseq_length': '30942',\n",
      "                  'refseqid': '11128:ncbi:2',\n",
      "                  'refseqnb': '2',\n",
      "                  'refsource': 'ncbi',\n",
      "                  'reftaxonomyid': '11128',\n",
      "                  'species': 'Bovine coronavirus  scientific name'},\n",
      " '1699095:ncbi:10': {'refseq_accession': 'KT368904',\n",
      "                     'refseq_length': '27395',\n",
      "                     'refseqid': '1699095:ncbi:10',\n",
      "                     'refseqnb': '10',\n",
      "                     'refsource': 'ncbi',\n",
      "                     'reftaxonomyid': '1699095',\n",
      "                     'species': 'Camel alphacoronavirus  scientific name'},\n",
      " '2591237:ncbi:1': {'refseq_accession': 'MK211378',\n",
      "                    'refseq_length': '30213',\n",
      "                    'refseqid': '2591237:ncbi:1',\n",
      "                    'refseqnb': '1',\n",
      "                    'refsource': 'ncbi',\n",
      "                    'reftaxonomyid': '2591237',\n",
      "                    'species': 'Coronavirus BtRs-BetaCoV/YN2018D  scientific '\n",
      "                               'name'},\n",
      " '277944:ncbi:4': {'refseq_accession': 'LC654455',\n",
      "                   'refseq_length': '27516',\n",
      "                   'refseqid': '277944:ncbi:4',\n",
      "                   'refseqnb': '4',\n",
      "                   'refsource': 'ncbi',\n",
      "                   'reftaxonomyid': '277944',\n",
      "                   'species': 'Human coronavirus NL63  scientific name'},\n",
      " '28295:ncbi:6': {'refseq_accession': 'KU893866',\n",
      "                  'refseq_length': '28043',\n",
      "                  'refseqid': '28295:ncbi:6',\n",
      "                  'refseqnb': '6',\n",
      "                  'refsource': 'ncbi',\n",
      "                  'reftaxonomyid': '28295',\n",
      "                  'species': 'Porcine epidemic diarrhea virus  scientific '\n",
      "                             'name'},\n",
      " '28295:ncbi:7': {'refseq_accession': 'KJ645638',\n",
      "                  'refseq_length': '27998',\n",
      "                  'refseqid': '28295:ncbi:7',\n",
      "                  'refseqnb': '7',\n",
      "                  'refsource': 'ncbi',\n",
      "                  'reftaxonomyid': '28295',\n",
      "                  'species': 'Porcine epidemic diarrhea virus  scientific '\n",
      "                             'name'},\n",
      " '28295:ncbi:8': {'refseq_accession': 'KJ645678',\n",
      "                  'refseq_length': '27998',\n",
      "                  'refseqid': '28295:ncbi:8',\n",
      "                  'refseqnb': '8',\n",
      "                  'refsource': 'ncbi',\n",
      "                  'reftaxonomyid': '28295',\n",
      "                  'species': 'Porcine epidemic diarrhea virus  scientific '\n",
      "                             'name'},\n",
      " '28295:ncbi:9': {'refseq_accession': 'KR873434',\n",
      "                  'refseq_length': '28038',\n",
      "                  'refseqid': '28295:ncbi:9',\n",
      "                  'refseqnb': '9',\n",
      "                  'refsource': 'ncbi',\n",
      "                  'reftaxonomyid': '28295',\n",
      "                  'species': 'Porcine epidemic diarrhea virus  scientific '\n",
      "                             'name'},\n",
      " '31631:ncbi:3': {'refseq_accession': 'KY967361',\n",
      "                  'refseq_length': '30661',\n",
      "                  'refseqid': '31631:ncbi:3',\n",
      "                  'refseqnb': '3',\n",
      "                  'refsource': 'ncbi',\n",
      "                  'reftaxonomyid': '31631',\n",
      "                  'species': 'Human coronavirus OC43  scientific name'}}\n"
     ]
    }
   ],
   "source": [
    "pprint(aln.ref_sequences)"
   ]
  },
  {
   "cell_type": "markdown",
   "metadata": {},
   "source": [
    "### Exploring read's metadata"
   ]
  },
  {
   "cell_type": "code",
   "execution_count": null,
   "metadata": {},
   "outputs": [
    {
     "name": "stdout",
     "output_type": "stream",
     "text": [
      "2591237:ncbi:1-60400\n",
      "{'aln_start_pos': '14770',\n",
      " 'read_seq_aligned': 'ACAACTCCTATTCGTAGTTGAAGTTGTTGACAAATACTTTGATTGTTACG',\n",
      " 'readid': '2591237:ncbi:1-60400',\n",
      " 'readnb': '60400',\n",
      " 'ref_seq_aligned': 'ACAACTCCTATTCGTAGTTGAAGTTGTTGACAAATACTTTGATTGTTACG',\n",
      " 'refseq_strand': '+',\n",
      " 'refseqid': '2591237:ncbi:1',\n",
      " 'refseqnb': '1',\n",
      " 'refsource': 'ncbi',\n",
      " 'reftaxonomyid': '2591237'}\n",
      "\n",
      "2591237:ncbi:1-60399\n",
      "{'aln_start_pos': '17012',\n",
      " 'read_seq_aligned': 'GATCAATGTGGCATCTACAATACAGACAGCATGAAGCACCACCAAAGGAC',\n",
      " 'readid': '2591237:ncbi:1-60399',\n",
      " 'readnb': '60399',\n",
      " 'ref_seq_aligned': 'GATCAATGTGGCATCTACAATACAGACAGCATGAAGCACCACCAAAGGAC',\n",
      " 'refseq_strand': '-',\n",
      " 'refseqid': '2591237:ncbi:1',\n",
      " 'refseqnb': '1',\n",
      " 'refsource': 'ncbi',\n",
      " 'reftaxonomyid': '2591237'}\n",
      "\n",
      "2591237:ncbi:1-60398\n",
      "{'aln_start_pos': '9188',\n",
      " 'read_seq_aligned': 'ATCTACCAGTGGTAGATGGGTTCTTAATAATGAACATTATAGAGCTCTAC',\n",
      " 'readid': '2591237:ncbi:1-60398',\n",
      " 'readnb': '60398',\n",
      " 'ref_seq_aligned': 'ATCTACCAGTGGTAGATGGGTTCTTAATAATGAACATTATAGAGCTCTAC',\n",
      " 'refseq_strand': '+',\n",
      " 'refseqid': '2591237:ncbi:1',\n",
      " 'refseqnb': '1',\n",
      " 'refsource': 'ncbi',\n",
      " 'reftaxonomyid': '2591237'}\n",
      "\n"
     ]
    }
   ],
   "source": [
    "for i, (k,v) in enumerate(aln.parse_aln(add_ref_seq_aligned=True, add_read_seq_aligned=True).items()):\n",
    "    print(k)\n",
    "    pprint(v)\n",
    "    print()\n",
    "    if i+1>=3: break"
   ]
  },
  {
   "cell_type": "code",
   "execution_count": null,
   "metadata": {},
   "outputs": [],
   "source": [
    "fasta = FastaFileReader(p2fasta)\n",
    "fastq = FastqFileReader(p2fastq)\n",
    "aln = AlnFileReader(p2aln)"
   ]
  },
  {
   "cell_type": "code",
   "execution_count": null,
   "metadata": {},
   "outputs": [],
   "source": [
    "refseqs_fasta = fasta.parse_fasta(add_seq=True)\n",
    "simreads = fastq.parse_fastq(add_readseq=True)\n",
    "refseqs_aln = aln.ref_sequences\n",
    "simread_align = aln.parse_aln(add_ref_seq_aligned=True, add_read_seq_aligned=True)"
   ]
  },
  {
   "cell_type": "markdown",
   "metadata": {},
   "source": [
    "Check consistency between refseqs from fasta and from aln "
   ]
  },
  {
   "cell_type": "code",
   "execution_count": null,
   "metadata": {},
   "outputs": [
    {
     "data": {
      "text/plain": [
       "('TGCA', 'f e d c b a')"
      ]
     },
     "execution_count": null,
     "metadata": {},
     "output_type": "execute_result"
    }
   ],
   "source": [
    "# utility functions\n",
    "def opposite_strand(seq):\n",
    "    conv = {'A':'T', 'C':'G', 'G':'C', 'T':'A'}\n",
    "    return ''.join([conv[base] for base in seq])\n",
    "\n",
    "def reverse_sequence(seq):\n",
    "    return seq[::-1]\n",
    "\n",
    "opposite_strand('ACGT'), reverse_sequence('a b c d e f')"
   ]
  },
  {
   "cell_type": "markdown",
   "metadata": {},
   "source": [
    "Check aln refseq information"
   ]
  },
  {
   "cell_type": "code",
   "execution_count": null,
   "metadata": {},
   "outputs": [
    {
     "data": {
      "text/plain": [
       "('LC494191', 30942)"
      ]
     },
     "execution_count": null,
     "metadata": {},
     "output_type": "execute_result"
    }
   ],
   "source": [
    "# refseqid = '2591237:ncbi:1'\n",
    "refseqid = '11128:ncbi:2'\n",
    "original_seq = refseqs_fasta[refseqid]['sequence']\n",
    "original_seq_accession = refseqs_fasta[refseqid]['accession']\n",
    "original_seq_accession, len(original_seq)"
   ]
  },
  {
   "cell_type": "code",
   "execution_count": null,
   "metadata": {},
   "outputs": [
    {
     "data": {
      "text/plain": [
       "('LC494191', 30942)"
      ]
     },
     "execution_count": null,
     "metadata": {},
     "output_type": "execute_result"
    }
   ],
   "source": [
    "refseqs_aln[refseqid]['refseq_accession'], int(refseqs_aln[refseqid]['refseq_length'])"
   ]
  },
  {
   "cell_type": "code",
   "execution_count": null,
   "metadata": {},
   "outputs": [],
   "source": [
    "assert original_seq_accession == refseqs_aln[refseqid]['refseq_accession']\n",
    "assert len(original_seq) == int(refseqs_aln[refseqid]['refseq_length'])"
   ]
  },
  {
   "cell_type": "markdown",
   "metadata": {},
   "source": [
    "### Check alignment information"
   ]
  },
  {
   "cell_type": "code",
   "execution_count": null,
   "metadata": {},
   "outputs": [
    {
     "name": "stdout",
     "output_type": "stream",
     "text": [
      "{'aln_start_pos': '14770',\n",
      " 'read_seq_aligned': 'ACAACTCCTATTCGTAGTTGAAGTTGTTGACAAATACTTTGATTGTTACG',\n",
      " 'readid': '2591237:ncbi:1-60400',\n",
      " 'readnb': '60400',\n",
      " 'ref_seq_aligned': 'ACAACTCCTATTCGTAGTTGAAGTTGTTGACAAATACTTTGATTGTTACG',\n",
      " 'refseq_strand': '+',\n",
      " 'refseqid': '2591237:ncbi:1',\n",
      " 'refseqnb': '1',\n",
      " 'refsource': 'ncbi',\n",
      " 'reftaxonomyid': '2591237'}\n"
     ]
    }
   ],
   "source": [
    "pprint(simread_align['2591237:ncbi:1-60400'])"
   ]
  },
  {
   "cell_type": "markdown",
   "metadata": {},
   "source": [
    "Select all reads generated from a single reference sequence"
   ]
  },
  {
   "cell_type": "code",
   "execution_count": null,
   "metadata": {},
   "outputs": [
    {
     "name": "stdout",
     "output_type": "stream",
     "text": [
      "Select all reads from reference sequence '11128:ncbi:2''\n",
      "Total of 61,800 reads\n"
     ]
    }
   ],
   "source": [
    "print(f\"Select all reads from reference sequence '{refseqid}''\")\n",
    "reads_from_refseq = {k:v for k,v in simread_align.items() if v['refseqid']==refseqid}\n",
    "nbr_generated_reads = len(reads_from_refseq)\n",
    "print(f\"Total of {nbr_generated_reads:,d} reads\")"
   ]
  },
  {
   "cell_type": "code",
   "execution_count": null,
   "metadata": {},
   "outputs": [
    {
     "name": "stdout",
     "output_type": "stream",
     "text": [
      "{'aln_start_pos': '21629',\n",
      " 'read_seq_aligned': 'GCTATGCTGGATATTCAGCCTGAAGACTACAGAAGTGTTGATGTTGCTAT',\n",
      " 'readid': '11128:ncbi:2-1',\n",
      " 'readnb': '1',\n",
      " 'ref_seq_aligned': 'GCTATGCTGGATATTCAGCCTGAAGACTACAGAAGTGTTGATGTTGCTAT',\n",
      " 'refseq_strand': '+',\n",
      " 'refseqid': '11128:ncbi:2',\n",
      " 'refseqnb': '2',\n",
      " 'refsource': 'ncbi',\n",
      " 'reftaxonomyid': '11128'}\n"
     ]
    }
   ],
   "source": [
    "n = -1\n",
    "selected_simread = [v for k,v in reads_from_refseq.items()][n]\n",
    "pprint(selected_simread)"
   ]
  },
  {
   "cell_type": "code",
   "execution_count": null,
   "metadata": {},
   "outputs": [],
   "source": [
    "def check_alignment(n, reads):\n",
    "    selected_simread = [v for k,v in reads.items()][n]\n",
    "    print(f\"{'='*80}\")\n",
    "    print(f\"checking read {selected_simread['readid']}\")\n",
    "    start = int(selected_simread['aln_start_pos'])\n",
    "    strand = selected_simread['refseq_strand']\n",
    "    print(f\"simread info:\")\n",
    "    print(f\" - from `{strand}` strand\")\n",
    "    print(f\" - position: {start:,d}\")\n",
    "\n",
    "    if strand == '+':\n",
    "        segment_from_refseq = original_seq[start:start+50]\n",
    "    else:\n",
    "        segment_from_refseq = opposite_strand(reverse_sequence(original_seq)[start:start+50])\n",
    "\n",
    "    print('sequences:')\n",
    "    print(f'- simread seq          :', selected_simread['read_seq_aligned'])\n",
    "    print(f'- refseq aligned       :', selected_simread['ref_seq_aligned'])\n",
    "    print(f'- segment in orig. seq :', segment_from_refseq)"
   ]
  },
  {
   "cell_type": "code",
   "execution_count": null,
   "metadata": {},
   "outputs": [
    {
     "name": "stdout",
     "output_type": "stream",
     "text": [
      "================================================================================\n",
      "checking read 11128:ncbi:2-1\n",
      "simread info:\n",
      " - from `+` strand\n",
      " - position: 21,629\n",
      "sequences:\n",
      "- simread seq          : GCTATGCTGGATATTCAGCCTGAAGACTACAGAAGTGTTGATGTTGCTAT\n",
      "- refseq aligned       : GCTATGCTGGATATTCAGCCTGAAGACTACAGAAGTGTTGATGTTGCTAT\n",
      "- segment in orig. seq : GCTATGCTGGATATTCAGCCTGAAGACTACAGAAGTGTTGATGTTGCTAT\n",
      "================================================================================\n",
      "checking read 11128:ncbi:2-2\n",
      "simread info:\n",
      " - from `-` strand\n",
      " - position: 14,882\n",
      "sequences:\n",
      "- simread seq          : CTTCTTAAATACATGTTCTTGTAAAAGGACTCATCAGTAAACTTTTGTCC\n",
      "- refseq aligned       : CTTCTTAAATACATGTTCTTGTAAAAGGACTCATCAGTAAACTTTTGTCC\n",
      "- segment in orig. seq : CTTCTTAAATACATGTTCTTGTAAAAGGACTCATCAGTAAACTTTTGTCC\n",
      "================================================================================\n",
      "checking read 11128:ncbi:2-3\n",
      "simread info:\n",
      " - from `+` strand\n",
      " - position: 16,050\n",
      "sequences:\n",
      "- simread seq          : ATTTAAGAAGTGCAGTTATGCAGAGTGTTGGAGCTTGCGTGGTCTGCTCT\n",
      "- refseq aligned       : ATTTAAGAAGTGCAGTTATGCAGAGTGTTGGAGCTTGCGTGGTCTGCTCT\n",
      "- segment in orig. seq : ATTTAAGAAGTGCAGTTATGCAGAGTGTTGGAGCTTGCGTGGTCTGCTCT\n",
      "================================================================================\n",
      "checking read 11128:ncbi:2-4\n",
      "simread info:\n",
      " - from `-` strand\n",
      " - position: 6,183\n",
      "sequences:\n",
      "- simread seq          : TATCTTAGCAGCATCAATATTATTACAAGTAAATGAGTCTGCCTGAATAA\n",
      "- refseq aligned       : TATCTTAGCAGCATCAATATTATTACAAGTAAATGAGTCTGCCTGAATAA\n",
      "- segment in orig. seq : TATCTTAGCAGCATCAATATTATTACAAGTAAATGAGTCTGCCTGAATAA\n",
      "================================================================================\n",
      "checking read 11128:ncbi:2-5\n",
      "simread info:\n",
      " - from `+` strand\n",
      " - position: 13,305\n",
      "sequences:\n",
      "- simread seq          : TTTTTAAACGGGTTCGGGGTACGAGTGTAGATGCCCGTCTCGTACCCTGT\n",
      "- refseq aligned       : TTTTTAAACGGGTTCGGGGTACGAGTGTAGATGCCCGTCTCGTACCCTGT\n",
      "- segment in orig. seq : TTTTTAAACGGGTTCGGGGTACGAGTGTAGATGCCCGTCTCGTACCCTGT\n"
     ]
    }
   ],
   "source": [
    "for n in range(nbr_generated_reads-1, nbr_generated_reads-6, -1):\n",
    "    check_alignment(n, reads_from_refseq)"
   ]
  },
  {
   "cell_type": "markdown",
   "metadata": {},
   "source": [
    "## Create test dataset"
   ]
  },
  {
   "cell_type": "code",
   "execution_count": null,
   "metadata": {},
   "outputs": [],
   "source": [
    "p2original_set = p2data / 'CNN_Virus_data/50mer_validating'\n",
    "assert p2original_set.is_file()"
   ]
  },
  {
   "cell_type": "markdown",
   "metadata": {},
   "source": [
    "Original model dataset has one input (reads) and two outputs (label for the read and relative position)"
   ]
  },
  {
   "cell_type": "code",
   "execution_count": null,
   "metadata": {},
   "outputs": [
    {
     "name": "stdout",
     "output_type": "stream",
     "text": [
      "5-line chunk 1\n",
      "AAAAAGATTTTGAGAGAGGTCGACCTGTCCTCCTAAAACGTTTACAAAAG\t71\t0\n",
      "CATGTAACGCAGCTTAGTCCGATCGTGGCTATAATCCGTCTTTCGATTTG\t1\t7\n",
      "AACAACATCTTGTTGATGATAACCGTCAAAGTGTTTTGGGTCTGGAGGGA\t158\t6\n",
      "AGTACCTGGAGAGCGTTAAGAAACACAAACGGCTGGATGTAGTGCCGCGC\t6\t7\n",
      "CCACGTCGATGAAGCTCCGACGAGAGTCGGCGCTGAGCCCGCGCACCTCC\t71\t6\n",
      "\n"
     ]
    }
   ],
   "source": [
    "orig_ds = TextFileBaseIterator(p2original_set, nlines=5)\n",
    "orig_ds.print_first_chuncks(1)"
   ]
  },
  {
   "cell_type": "code",
   "execution_count": null,
   "metadata": {},
   "outputs": [
    {
     "data": {
      "text/plain": [
       "'ATGGTGCGCCTTCAGTATAAGGATGCTAATATTAGTATGTATCTGGCAAT\\t0\\t1\\nCTGGTGGCGCACGTCGAGGCCCTGGCCAGCTGGTTGATGACTTTACCCTG\\t25\\t2\\nCATGATGGAATCGGTCACGGAAAGCATTCTAAATGGATACGTACAACTAC\\t4\\t5\\nTATTGTACATCTATTACGTCTTTTCGACTATCAATAGTAAATCGTCTGTC\\t12\\t4\\nATTGCGTCTTTTGTAAAGATCACAACAAACATGTTTCGCAAGCCGGACAT\\t4\\t6\\n'"
      ]
     },
     "execution_count": null,
     "metadata": {},
     "output_type": "execute_result"
    }
   ],
   "source": [
    "next(orig_ds)"
   ]
  },
  {
   "cell_type": "markdown",
   "metadata": {},
   "source": [
    "In a first step, we will only infer from the model, so we only need a text file with sequences\n",
    "\n",
    "```python\n",
    "2591237:ncbi:1-60400\n",
    "\n",
    "{'read_nbr': '60400',\n",
    " 'readid': '2591237:ncbi:1-60400',\n",
    " 'seq_nbr': '1',\n",
    " 'seqid': '2591237',\n",
    " 'sequence': 'ACAACTCCTATTCGTAGTTGAAGTTGTTGACAAATACTTTGATTGTTACG',\n",
    " 'source': 'ncbi'}\n",
    " ```"
   ]
  },
  {
   "cell_type": "code",
   "execution_count": null,
   "metadata": {},
   "outputs": [
    {
     "name": "stdout",
     "output_type": "stream",
     "text": [
      "Dataset with 571,980 reads\n"
     ]
    }
   ],
   "source": [
    "nsamples = None\n",
    "p2ds, reads_info = create_infer_ds_from_fastq(p2fastq, overwrite_ds=True, nsamples=nsamples)"
   ]
  },
  {
   "cell_type": "code",
   "execution_count": null,
   "metadata": {},
   "outputs": [
    {
     "data": {
      "text/plain": [
       "array([['2591237:ncbi:1-60400', '2591237:ncbi:1', '14770', '+'],\n",
       "       ['2591237:ncbi:1-60399', '2591237:ncbi:1', '17012', '-'],\n",
       "       ['2591237:ncbi:1-60398', '2591237:ncbi:1', '9188', '+'],\n",
       "       ['2591237:ncbi:1-60397', '2591237:ncbi:1', '6764', '-']],\n",
       "      dtype='<U21')"
      ]
     },
     "execution_count": null,
     "metadata": {},
     "output_type": "execute_result"
    }
   ],
   "source": [
    "reads_info[:4, :]"
   ]
  },
  {
   "cell_type": "code",
   "execution_count": null,
   "metadata": {},
   "outputs": [],
   "source": [
    "import tensorflow as tf\n",
    "from tensorflow.keras.models import load_model\n",
    "\n",
    "from metagentools.cnn_virus.data import strings_to_tensors"
   ]
  },
  {
   "cell_type": "code",
   "execution_count": null,
   "metadata": {},
   "outputs": [],
   "source": [
    "text_ds = tf.data.TextLineDataset(p2ds).batch(32)\n",
    "ds = text_ds.map(strings_to_tensors)\n",
    "\n",
    "# for xb, (y1b, y2b) in ds.take(1):\n",
    "#     print(xb.shape, y1b.shape, y2b.shape)"
   ]
  },
  {
   "cell_type": "markdown",
   "metadata": {},
   "source": [
    "## Inference"
   ]
  },
  {
   "cell_type": "code",
   "execution_count": null,
   "metadata": {},
   "outputs": [],
   "source": [
    "model = load_model(p2saved)"
   ]
  },
  {
   "cell_type": "code",
   "execution_count": null,
   "metadata": {},
   "outputs": [],
   "source": [
    "# model.summary()"
   ]
  },
  {
   "cell_type": "code",
   "execution_count": null,
   "metadata": {},
   "outputs": [
    {
     "name": "stdout",
     "output_type": "stream",
     "text": [
      "17875/17875 [==============================] - 395s 21ms/step\n"
     ]
    }
   ],
   "source": [
    "prob_preds = model.predict(ds, verbose=1)"
   ]
  },
  {
   "cell_type": "code",
   "execution_count": null,
   "metadata": {},
   "outputs": [
    {
     "data": {
      "text/plain": [
       "((571980, 187), (571980, 10))"
      ]
     },
     "execution_count": null,
     "metadata": {},
     "output_type": "execute_result"
    }
   ],
   "source": [
    "prob_preds[0].shape, prob_preds[1].shape"
   ]
  },
  {
   "cell_type": "code",
   "execution_count": null,
   "metadata": {},
   "outputs": [
    {
     "data": {
      "text/plain": [
       "array([117, 117, 117, 117,  32,  89, 117, 117,  94, 117])"
      ]
     },
     "execution_count": null,
     "metadata": {},
     "output_type": "execute_result"
    }
   ],
   "source": [
    "class_preds = np.argmax(prob_preds[0], axis=1)\n",
    "class_preds.shape\n",
    "class_preds[:10]"
   ]
  },
  {
   "cell_type": "markdown",
   "metadata": {},
   "source": [
    "## Evaluate Model for cov"
   ]
  },
  {
   "cell_type": "markdown",
   "metadata": {},
   "source": [
    "Original model was trained with 187 different virus species."
   ]
  },
  {
   "cell_type": "code",
   "execution_count": null,
   "metadata": {},
   "outputs": [
    {
     "name": "stdout",
     "output_type": "stream",
     "text": [
      "Original model is trained to detect 187 virus species, including 2 coronavirus species:\n",
      " - Middle_East_respiratory_syndrome-related_coronavirus    \t94\n",
      " - Severe_acute_respiratory_syndrome-related_coronavirus    \t117\n",
      "\n"
     ]
    }
   ],
   "source": [
    "p2virus_labels = p2data / 'CNN_Virus_data/virus_name_mapping'\n",
    "with open(p2virus_labels, 'r') as fp:\n",
    "    i, c = 0, 0\n",
    "    cov = []\n",
    "    while True:\n",
    "        line = fp.readline()\n",
    "        if line == '': break\n",
    "        elif ('corona' in line) or ('mers' in line) : \n",
    "            c += 1\n",
    "            line = line.replace('\\t', '    \\t')\n",
    "            cov.append(f\" - {line}\")\n",
    "        i += 1\n",
    "print(f\"Original model is trained to detect {i} virus species, including {c} coronavirus species:\")\n",
    "print(''.join(cov))"
   ]
  },
  {
   "cell_type": "code",
   "execution_count": null,
   "metadata": {},
   "outputs": [
    {
     "name": "stdout",
     "output_type": "stream",
     "text": [
      "\n",
      "Sequence 1:\n",
      ">2591237:ncbi:1 [MK211378]\t2591237\tncbi\t1 [MK211378] 2591237\tCoronavirus BtRs-BetaCoV/YN2018D\t\tscientific name\n",
      "\n",
      "TATTAGGTTTTCTACCTACCCAGGAAAAGCCAACCAACCTCGATCTCTTGTAGATCTGTTCTCTAAACGAACTTTAAAAT ...\n",
      "\n",
      "Sequence 2:\n",
      ">11128:ncbi:2 [LC494191]\t11128\tncbi\t2 [LC494191] 11128\tBovine coronavirus\t\tscientific name\n",
      "\n",
      "CATCCCGCTTCACTGATCTCTTGTTAGATCTTTTCATAATCTAAACTTTATAAAAACATCCACTCCCTGTAGTCTATGCC ...\n",
      "\n",
      "Sequence 3:\n",
      ">31631:ncbi:3 [KY967361]\t31631\tncbi\t3 [KY967361] 31631\tHuman coronavirus OC43\t\tscientific name\n",
      "\n",
      "ATCTCTTGTTAGATCTTTTTGTAATCTAAACTTTATAAAAACATCCACTCCCTGTAATCTATGCTTGTGGGCGTAGATTT ...\n",
      "\n",
      "Sequence 4:\n",
      ">277944:ncbi:4 [LC654455]\t277944\tncbi\t4 [LC654455] 277944\tHuman coronavirus NL63\t\tscientific name\n",
      "\n",
      "ATTTTCTTATTTAGACTTTGTGTCTACTCTTCTCAACTAAACGAAATTTTTCTAGTGCTGTCATTTGTTATGGCAGTCCT ...\n",
      "\n",
      "Sequence 5:\n",
      ">11120:ncbi:5 [MN987231]\t11120\tncbi\t5 [MN987231] 11120\tInfectious bronchitis virus\t\tscientific name\n",
      "\n",
      "TCCTAAGTGTGATATAAATATATATCATACACACTAGCCTTGCGCTAGATTTCTAACTTAACAAAACGGACTTAAATACC ...\n",
      "\n",
      "Sequence 6:\n",
      ">28295:ncbi:6 [KU893866]\t28295\tncbi\t6 [KU893866] 28295\tPorcine epidemic diarrhea virus\t\tscientific name\n",
      "\n",
      "ACTTAAAGAGATTTTCTATCTACGGATAGTTAGCTCTTTTTCTAGACTCTTGTCTACTCAATTCAACTAAACGAAATTTT ...\n",
      "\n",
      "Sequence 7:\n",
      ">28295:ncbi:7 [KJ645638]\t28295\tncbi\t7 [KJ645638] 28295\tPorcine epidemic diarrhea virus\t\tscientific name\n",
      "\n",
      "CTTTTTCTAGACTCTTGTCTACTCAATTCAACTAAACGAAATTTTGTCCTTCCGGCCGCATGTCCATGCTGCTGGAAGCT ...\n",
      "\n",
      "Sequence 8:\n",
      ">28295:ncbi:8 [KJ645678]\t28295\tncbi\t8 [KJ645678] 28295\tPorcine epidemic diarrhea virus\t\tscientific name\n",
      "\n",
      "CTTTTTCTAGACTCTTGTCTACTCAATTCAACTAAACGAAATTTTGTCCTTCCGGCCGCATGTCCATGCTGCTGGAAGCT ...\n",
      "\n",
      "Sequence 9:\n",
      ">28295:ncbi:9 [KR873434]\t28295\tncbi\t9 [KR873434] 28295\tPorcine epidemic diarrhea virus\t\tscientific name\n",
      "\n",
      "ACTTAAAGAGATTTTCTATCTACGGATAGTTAGCTCTTTTTCTAGACTCTTGTCTACTCAATTCAACTAAACGAAATTTT ...\n",
      "\n",
      "Sequence 10:\n",
      ">1699095:ncbi:10 [KT368904]\t1699095\tncbi\t10 [KT368904] 1699095\tCamel alphacoronavirus\t\tscientific name\n",
      "\n",
      "ACTTAAGTGTCTTATCTATCTATAGATAGAAAAGTCGCTTTTTAGACTTTGTGTCTACTCTTCTCAACTAAACGAAATTT ...\n"
     ]
    }
   ],
   "source": [
    "fasta.reset_iterator()\n",
    "fasta.it.print_first_chuncks(10)"
   ]
  },
  {
   "cell_type": "markdown",
   "metadata": {},
   "source": [
    "In our case we only care about whether the model detects coronavirus species out of the sequences. We create two new functions:"
   ]
  },
  {
   "cell_type": "code",
   "execution_count": null,
   "metadata": {},
   "outputs": [],
   "source": [
    "def is_cov(y_preds):\n",
    "    \"\"\"Return 1 if the corresponding prediction is a corona virus, 0 otherwise\"\"\"\n",
    "    return (y_preds == 94).astype(int) + (y_preds == 117).astype(int)\n",
    "\n",
    "def is_mers(y_preds):\n",
    "    return y_preds == 94\n",
    "\n",
    "def is_sars(y_preds):\n",
    "    return y_preds == 117\n",
    "\n",
    "def cov_acc(y_true, y_preds):\n",
    "    \"\"\"Evaluates the accuracy of the model assuming all evaluated reads are from corona virus\"\"\"\n",
    "    return is_cov(y_preds).sum()/y_preds.shape[0]\n",
    "\n",
    "def mers_acc(y_true, y_preds):\n",
    "    \"\"\"Evaluates the accuracy of the model assuming all evaluated reads are from corona virus\"\"\"\n",
    "    return is_mers(y_preds).sum()/y_preds.shape[0]\n",
    "\n",
    "def sars_acc(y_true, y_preds):\n",
    "    \"\"\"Evaluates the accuracy of the model assuming all evaluated reads are from corona virus\"\"\"\n",
    "    return is_sars(y_preds).sum()/y_preds.shape[0]\n",
    "\n",
    "# cov_acc(None, class_preds)"
   ]
  },
  {
   "cell_type": "code",
   "execution_count": null,
   "metadata": {},
   "outputs": [
    {
     "name": "stdout",
     "output_type": "stream",
     "text": [
      "Reference Sequence: Infectious bronchitis virus  scientific name:\n",
      "  Nbr reads: 55,200\n",
      "  Accuracy:       0.065\n",
      "  Accuracy MERS:  0.032\n",
      "  Accuracy SARS:  0.034\n",
      "Reference Sequence: Bovine coronavirus  scientific name:\n",
      "  Nbr reads: 61,800\n",
      "  Accuracy:       0.055\n",
      "  Accuracy MERS:  0.030\n",
      "  Accuracy SARS:  0.026\n",
      "Reference Sequence: Camel alphacoronavirus  scientific name:\n",
      "  Nbr reads: 54,700\n",
      "  Accuracy:       0.074\n",
      "  Accuracy MERS:  0.035\n",
      "  Accuracy SARS:  0.039\n",
      "Reference Sequence: Coronavirus BtRs-BetaCoV/YN2018D  scientific name:\n",
      "  Nbr reads: 60,400\n",
      "  Accuracy:       0.733\n",
      "  Accuracy MERS:  0.014\n",
      "  Accuracy SARS:  0.719\n",
      "Reference Sequence: Human coronavirus NL63  scientific name:\n",
      "  Nbr reads: 55,000\n",
      "  Accuracy:       0.067\n",
      "  Accuracy MERS:  0.031\n",
      "  Accuracy SARS:  0.035\n",
      "Reference Sequence: Porcine epidemic diarrhea virus  scientific name:\n",
      "  Nbr reads: 56,000\n",
      "  Accuracy:       0.068\n",
      "  Accuracy MERS:  0.032\n",
      "  Accuracy SARS:  0.036\n",
      "Reference Sequence: Porcine epidemic diarrhea virus  scientific name:\n",
      "  Nbr reads: 55,900\n",
      "  Accuracy:       0.069\n",
      "  Accuracy MERS:  0.033\n",
      "  Accuracy SARS:  0.036\n",
      "Reference Sequence: Porcine epidemic diarrhea virus  scientific name:\n",
      "  Nbr reads: 55,900\n",
      "  Accuracy:       0.070\n",
      "  Accuracy MERS:  0.032\n",
      "  Accuracy SARS:  0.038\n",
      "Reference Sequence: Porcine epidemic diarrhea virus  scientific name:\n",
      "  Nbr reads: 56,000\n",
      "  Accuracy:       0.068\n",
      "  Accuracy MERS:  0.032\n",
      "  Accuracy SARS:  0.036\n",
      "Reference Sequence: Human coronavirus OC43  scientific name:\n",
      "  Nbr reads: 61,080\n",
      "  Accuracy:       0.057\n",
      "  Accuracy MERS:  0.031\n",
      "  Accuracy SARS:  0.026\n"
     ]
    }
   ],
   "source": [
    "aln = AlnFileReader(p2fastq.parent / f\"{p2fastq.stem}.aln\")\n",
    "acc_per_refseq = {}\n",
    "\n",
    "for refseqid in np.unique(reads_info[:,1]):\n",
    "    mask = reads_info[:,1] == refseqid\n",
    "    acc = cov_acc(None, class_preds[mask])\n",
    "    aln_refseq_meta = aln.ref_sequences[refseqid]\n",
    "    print(f\"Reference Sequence: {aln_refseq_meta['species']}:\")\n",
    "    print(f\"  Nbr reads: {class_preds[mask].shape[0]:,d}\")\n",
    "    print(f\"  Accuracy:       {acc:.3f}\")\n",
    "    print(f\"  Accuracy MERS:  {mers_acc(None, class_preds[mask]):.3f}\")\n",
    "    print(f\"  Accuracy SARS:  {sars_acc(None, class_preds[mask]):.3f}\")"
   ]
  },
  {
   "cell_type": "code",
   "execution_count": null,
   "metadata": {},
   "outputs": [
    {
     "data": {
      "text/plain": [
       "array([['2591237:ncbi:1-60400', '2591237:ncbi:1', '14770', '+'],\n",
       "       ['2591237:ncbi:1-60399', '2591237:ncbi:1', '17012', '-'],\n",
       "       ['2591237:ncbi:1-60398', '2591237:ncbi:1', '9188', '+']],\n",
       "      dtype='<U21')"
      ]
     },
     "execution_count": null,
     "metadata": {},
     "output_type": "execute_result"
    }
   ],
   "source": [
    "reads_info[:3, :]"
   ]
  },
  {
   "cell_type": "code",
   "execution_count": null,
   "metadata": {},
   "outputs": [
    {
     "name": "stdout",
     "output_type": "stream",
     "text": [
      "Ref. Sequence: Infectious bronchitis virus:\n",
      "  Accuracy :............... 0.065\n",
      "  Acc. coding strand: ..... 0.068\n",
      "  Acc. template strand: ... 0.063\n",
      "  Nbr reads: 55,200, incl. 27,632 from coding strand and 27,568 from template strand\n",
      "\n",
      "Ref. Sequence: Bovine coronavirus:\n",
      "  Accuracy :............... 0.055\n",
      "  Acc. coding strand: ..... 0.058\n",
      "  Acc. template strand: ... 0.053\n",
      "  Nbr reads: 61,800, incl. 30,928 from coding strand and 30,872 from template strand\n",
      "\n",
      "Ref. Sequence: Camel alphacoronavirus:\n",
      "  Accuracy :............... 0.074\n",
      "  Acc. coding strand: ..... 0.070\n",
      "  Acc. template strand: ... 0.077\n",
      "  Nbr reads: 54,700, incl. 27,313 from coding strand and 27,387 from template strand\n",
      "\n",
      "Ref. Sequence: Coronavirus BtRs-BetaCoV/YN2018D:\n",
      "  Accuracy :............... 0.733\n",
      "  Acc. coding strand: ..... 0.733\n",
      "  Acc. template strand: ... 0.733\n",
      "  Nbr reads: 60,400, incl. 30,099 from coding strand and 30,301 from template strand\n",
      "\n",
      "Ref. Sequence: Human coronavirus NL63:\n",
      "  Accuracy :............... 0.067\n",
      "  Acc. coding strand: ..... 0.062\n",
      "  Acc. template strand: ... 0.071\n",
      "  Nbr reads: 55,000, incl. 27,560 from coding strand and 27,440 from template strand\n",
      "\n",
      "Ref. Sequence: Porcine epidemic diarrhea virus:\n",
      "  Accuracy :............... 0.068\n",
      "  Acc. coding strand: ..... 0.063\n",
      "  Acc. template strand: ... 0.072\n",
      "  Nbr reads: 56,000, incl. 28,267 from coding strand and 27,733 from template strand\n",
      "\n",
      "Ref. Sequence: Porcine epidemic diarrhea virus:\n",
      "  Accuracy :............... 0.069\n",
      "  Acc. coding strand: ..... 0.065\n",
      "  Acc. template strand: ... 0.072\n",
      "  Nbr reads: 55,900, incl. 27,964 from coding strand and 27,936 from template strand\n",
      "\n",
      "Ref. Sequence: Porcine epidemic diarrhea virus:\n",
      "  Accuracy :............... 0.070\n",
      "  Acc. coding strand: ..... 0.068\n",
      "  Acc. template strand: ... 0.071\n",
      "  Nbr reads: 55,900, incl. 27,756 from coding strand and 28,144 from template strand\n",
      "\n",
      "Ref. Sequence: Porcine epidemic diarrhea virus:\n",
      "  Accuracy :............... 0.068\n",
      "  Acc. coding strand: ..... 0.063\n",
      "  Acc. template strand: ... 0.073\n",
      "  Nbr reads: 56,000, incl. 27,963 from coding strand and 28,037 from template strand\n",
      "\n",
      "Ref. Sequence: Human coronavirus OC43:\n",
      "  Accuracy :............... 0.057\n",
      "  Acc. coding strand: ..... 0.064\n",
      "  Acc. template strand: ... 0.051\n",
      "  Nbr reads: 61,080, incl. 30,565 from coding strand and 30,515 from template strand\n",
      "\n"
     ]
    }
   ],
   "source": [
    "for refseqid in np.unique(reads_info[:,1]):\n",
    "    mask_refseq = reads_info[:,1] == refseqid\n",
    "    mask_strand_coding = reads_info[:,3] == '+'\n",
    "    mask_strand_template = reads_info[:,3] == '-'\n",
    "    mask_coding = (mask_strand_coding.astype(int) * mask_refseq.astype(int)).astype(bool)\n",
    "    mask_template = (mask_strand_template.astype(int) * mask_refseq.astype(int)).astype(bool)\n",
    "\n",
    "    aln_refseq_meta = aln.ref_sequences[refseqid]\n",
    "    acc = cov_acc(None, class_preds[mask_refseq])\n",
    "    acc_coding = cov_acc(None, class_preds[mask_coding])\n",
    "    acc_template = cov_acc(None, class_preds[mask_template])\n",
    "       \n",
    "    print(f\"Ref. Sequence: {aln_refseq_meta['species'].replace('scientific name', '').strip()}:\")\n",
    "    print(f\"  Accuracy :............... {acc:.3f}\")\n",
    "    print(f\"  Acc. coding strand: ..... {acc_coding:.3f}\")\n",
    "    print(f\"  Acc. template strand: ... {acc_template:.3f}\")\n",
    "    print(f\"  Nbr reads: {class_preds[mask_refseq].shape[0]:,d}, incl. {mask_coding.sum():,d} from coding strand and {mask_template.sum():,d} from template strand\")\n",
    "    print()"
   ]
  },
  {
   "cell_type": "code",
   "execution_count": null,
   "metadata": {},
   "outputs": [],
   "source": []
  },
  {
   "cell_type": "markdown",
   "metadata": {},
   "source": [
    "# Simreads from 25 sequences"
   ]
  },
  {
   "cell_type": "code",
   "execution_count": null,
   "metadata": {},
   "outputs": [],
   "source": [
    "p2saved = p2data / 'saved/cnn_virus_original/pretrained_model.h5'\n",
    "p2simreads = p2data / 'cov_simreads/single_25seq_50bp'\n",
    "p2virus_labels = p2data / 'CNN_Virus_data/virus_name_mapping'\n",
    "assert p2saved.is_file()\n",
    "assert p2simreads.is_dir()\n",
    "assert p2virus_labels.is_file()"
   ]
  },
  {
   "cell_type": "code",
   "execution_count": null,
   "metadata": {},
   "outputs": [
    {
     "name": "stdout",
     "output_type": "stream",
     "text": [
      "Dataset with 1,442,519 reads\n"
     ]
    }
   ],
   "source": [
    "p2fastq = p2simreads / f\"{p2simreads.stem}.fq\"\n",
    "p2aln = p2simreads / f\"{p2simreads.stem}.aln\"\n",
    "assert p2fastq.is_file()\n",
    "assert p2aln.is_file()\n",
    "\n",
    "fastq = FastqFileReader(p2fastq)\n",
    "aln = AlnFileReader(p2aln)\n",
    "\n",
    "nsamples = None\n",
    "p2ds, reads_info = create_infer_ds_from_fastq(p2fastq, overwrite_ds=True, nsamples=nsamples)\n",
    "\n",
    "text_ds = tf.data.TextLineDataset(p2ds).batch(32)\n",
    "ds = text_ds.map(strings_to_tensors)"
   ]
  },
  {
   "cell_type": "code",
   "execution_count": null,
   "metadata": {},
   "outputs": [],
   "source": [
    "model = load_model(p2saved)"
   ]
  },
  {
   "cell_type": "code",
   "execution_count": null,
   "metadata": {},
   "outputs": [
    {
     "name": "stdout",
     "output_type": "stream",
     "text": [
      "45079/45079 [==============================] - 916s 20ms/step\n"
     ]
    }
   ],
   "source": [
    "prob_preds = model.predict(ds, verbose=1)"
   ]
  },
  {
   "cell_type": "code",
   "execution_count": null,
   "metadata": {},
   "outputs": [
    {
     "data": {
      "text/plain": [
       "((1442519, 187), (1442519, 10))"
      ]
     },
     "execution_count": null,
     "metadata": {},
     "output_type": "execute_result"
    }
   ],
   "source": [
    "prob_preds[0].shape, prob_preds[1].shape"
   ]
  },
  {
   "cell_type": "code",
   "execution_count": null,
   "metadata": {},
   "outputs": [
    {
     "data": {
      "text/plain": [
       "(1442519,)"
      ]
     },
     "execution_count": null,
     "metadata": {},
     "output_type": "execute_result"
    }
   ],
   "source": [
    "class_preds = np.argmax(prob_preds[0], axis=1)\n",
    "class_preds.shape"
   ]
  },
  {
   "cell_type": "code",
   "execution_count": null,
   "metadata": {},
   "outputs": [],
   "source": [
    "def is_cov(y_preds):\n",
    "    \"\"\"Return 1 if the corresponding prediction is a corona virus, 0 otherwise\"\"\"\n",
    "    return (y_preds == 94).astype(int) + (y_preds == 117).astype(int)\n",
    "\n",
    "def is_mers(y_preds):\n",
    "    return y_preds == 94\n",
    "\n",
    "def is_sars(y_preds):\n",
    "    return y_preds == 117\n",
    "\n",
    "def cov_acc(y_true, y_preds):\n",
    "    \"\"\"Evaluates the accuracy of the model assuming all evaluated reads are from corona virus\"\"\"\n",
    "    return is_cov(y_preds).sum()/y_preds.shape[0]\n",
    "\n",
    "def mers_acc(y_true, y_preds):\n",
    "    \"\"\"Evaluates the accuracy of the model assuming all evaluated reads are from corona virus\"\"\"\n",
    "    return is_mers(y_preds).sum()/y_preds.shape[0]\n",
    "\n",
    "def sars_acc(y_true, y_preds):\n",
    "    \"\"\"Evaluates the accuracy of the model assuming all evaluated reads are from corona virus\"\"\"\n",
    "    return is_sars(y_preds).sum()/y_preds.shape[0]\n",
    "\n",
    "# cov_acc(None, class_preds)"
   ]
  },
  {
   "cell_type": "code",
   "execution_count": null,
   "metadata": {},
   "outputs": [
    {
     "data": {
      "text/plain": [
       "25"
      ]
     },
     "execution_count": null,
     "metadata": {},
     "output_type": "execute_result"
    }
   ],
   "source": [
    "np.unique(reads_info[:,1]).shape[0]"
   ]
  },
  {
   "cell_type": "code",
   "execution_count": null,
   "metadata": {},
   "outputs": [
    {
     "name": "stdout",
     "output_type": "stream",
     "text": [
      "Ref. Sequence: Infectious bronchitis virus (11120:ncbi:17 / MW792514):\n",
      "  Accuracy :............... 0.055\n",
      "  Accuracy MERS: .......... 0.026\n",
      "  Accuracy SARS: .......... 0.029\n",
      "  Acc. coding strand: ..... 0.054\n",
      "  Acc. template strand: ... 0.056\n",
      "  Nbr reads: 55,300, incl. 27,748 from coding strand and 27,552 from template strand\n",
      "\n",
      "Ref. Sequence: Infectious bronchitis virus (11120:ncbi:19 / EU526388):\n",
      "  Accuracy :............... 0.055\n",
      "  Accuracy MERS: .......... 0.027\n",
      "  Accuracy SARS: .......... 0.028\n",
      "  Acc. coding strand: ..... 0.053\n",
      "  Acc. template strand: ... 0.057\n",
      "  Nbr reads: 55,400, incl. 27,670 from coding strand and 27,730 from template strand\n",
      "\n",
      "Ref. Sequence: Infectious bronchitis virus (11120:ncbi:5 / MN987231):\n",
      "  Accuracy :............... 0.063\n",
      "  Accuracy MERS: .......... 0.031\n",
      "  Accuracy SARS: .......... 0.032\n",
      "  Acc. coding strand: ..... 0.068\n",
      "  Acc. template strand: ... 0.059\n",
      "  Nbr reads: 55,200, incl. 27,657 from coding strand and 27,543 from template strand\n",
      "\n",
      "Ref. Sequence: Bovine coronavirus (11128:ncbi:2 / LC494191):\n",
      "  Accuracy :............... 0.054\n",
      "  Accuracy MERS: .......... 0.029\n",
      "  Accuracy SARS: .......... 0.025\n",
      "  Acc. coding strand: ..... 0.058\n",
      "  Acc. template strand: ... 0.051\n",
      "  Nbr reads: 61,800, incl. 30,850 from coding strand and 30,950 from template strand\n",
      "\n",
      "Ref. Sequence: Human coronavirus 229E (11137:ncbi:21 / LC654446):\n",
      "  Accuracy :............... 0.070\n",
      "  Accuracy MERS: .......... 0.033\n",
      "  Accuracy SARS: .......... 0.037\n",
      "  Acc. coding strand: ..... 0.066\n",
      "  Acc. template strand: ... 0.075\n",
      "  Nbr reads: 54,500, incl. 27,269 from coding strand and 27,231 from template strand\n",
      "\n",
      "Ref. Sequence: Murine hepatitis virus (11138:ncbi:13 / AF208066):\n",
      "  Accuracy :............... 0.052\n",
      "  Accuracy MERS: .......... 0.029\n",
      "  Accuracy SARS: .......... 0.023\n",
      "  Acc. coding strand: ..... 0.053\n",
      "  Acc. template strand: ... 0.051\n",
      "  Nbr reads: 62,200, incl. 31,030 from coding strand and 31,170 from template strand\n",
      "\n",
      "Ref. Sequence: Bat coronavirus HKU10 (1244203:ncbi:18 / MN477899):\n",
      "  Accuracy :............... 0.073\n",
      "  Accuracy MERS: .......... 0.032\n",
      "  Accuracy SARS: .......... 0.041\n",
      "  Acc. coding strand: ..... 0.074\n",
      "  Acc. template strand: ... 0.072\n",
      "  Nbr reads: 57,000, incl. 28,516 from coding strand and 28,484 from template strand\n",
      "\n",
      "Ref. Sequence: Middle East respiratory syndrome-related coronavirus (1335626:ncbi:12 / KT374055):\n",
      "  Accuracy :............... 0.987\n",
      "  Accuracy MERS: .......... 0.987\n",
      "  Accuracy SARS: .......... 0.001\n",
      "  Acc. coding strand: ..... 0.988\n",
      "  Acc. template strand: ... 0.987\n",
      "  Nbr reads: 59,600, incl. 29,943 from coding strand and 29,657 from template strand\n",
      "\n",
      "Ref. Sequence: Middle East respiratory syndrome-related coronavirus (1335626:ncbi:14 / KF961222):\n",
      "  Accuracy :............... 0.989\n",
      "  Accuracy MERS: .......... 0.989\n",
      "  Accuracy SARS: .......... 0.001\n",
      "  Acc. coding strand: ..... 0.990\n",
      "  Acc. template strand: ... 0.989\n",
      "  Nbr reads: 60,100, incl. 30,067 from coding strand and 30,033 from template strand\n",
      "\n",
      "Ref. Sequence: Middle East respiratory syndrome-related coronavirus (1335626:ncbi:15 / MF598676):\n",
      "  Accuracy :............... 0.990\n",
      "  Accuracy MERS: .......... 0.989\n",
      "  Accuracy SARS: .......... 0.000\n",
      "  Acc. coding strand: ..... 0.989\n",
      "  Acc. template strand: ... 0.990\n",
      "  Nbr reads: 60,200, incl. 29,960 from coding strand and 30,240 from template strand\n",
      "\n",
      "Ref. Sequence: Middle East respiratory syndrome-related coronavirus (1335626:ncbi:16 / KY581695):\n",
      "  Accuracy :............... 0.989\n",
      "  Accuracy MERS: .......... 0.988\n",
      "  Accuracy SARS: .......... 0.001\n",
      "  Acc. coding strand: ..... 0.988\n",
      "  Acc. template strand: ... 0.990\n",
      "  Nbr reads: 60,200, incl. 30,218 from coding strand and 29,982 from template strand\n",
      "\n",
      "Ref. Sequence: Middle East respiratory syndrome-related coronavirus (1335626:ncbi:22 / MG987420):\n",
      "  Accuracy :............... 0.135\n",
      "  Accuracy MERS: .......... 0.106\n",
      "  Accuracy SARS: .......... 0.029\n",
      "  Acc. coding strand: ..... 0.142\n",
      "  Acc. template strand: ... 0.127\n",
      "  Nbr reads: 60,900, incl. 30,580 from coding strand and 30,320 from template strand\n",
      "\n",
      "Ref. Sequence: Middle East respiratory syndrome-related coronavirus (1335626:ncbi:25 / KF186564):\n",
      "  Accuracy :............... 0.990\n",
      "  Accuracy MERS: .......... 0.989\n",
      "  Accuracy SARS: .......... 0.001\n",
      "  Acc. coding strand: ..... 0.989\n",
      "  Acc. template strand: ... 0.991\n",
      "  Nbr reads: 60,100, incl. 29,830 from coding strand and 30,270 from template strand\n",
      "\n",
      "Ref. Sequence: Camel alphacoronavirus (1699095:ncbi:10 / KT368904):\n",
      "  Accuracy :............... 0.073\n",
      "  Accuracy MERS: .......... 0.033\n",
      "  Accuracy SARS: .......... 0.040\n",
      "  Acc. coding strand: ..... 0.069\n",
      "  Acc. template strand: ... 0.077\n",
      "  Nbr reads: 54,700, incl. 27,379 from coding strand and 27,321 from template strand\n",
      "\n",
      "Ref. Sequence: Camel alphacoronavirus (1699095:ncbi:24 / KT368912):\n",
      "  Accuracy :............... 0.075\n",
      "  Accuracy MERS: .......... 0.035\n",
      "  Accuracy SARS: .......... 0.040\n",
      "  Acc. coding strand: ..... 0.071\n",
      "  Acc. template strand: ... 0.079\n",
      "  Nbr reads: 54,700, incl. 27,153 from coding strand and 27,547 from template strand\n",
      "\n",
      "Ref. Sequence: Coronavirus BtRs-BetaCoV/YN2018D (2591237:ncbi:1 / MK211378):\n",
      "  Accuracy :............... 0.734\n",
      "  Accuracy MERS: .......... 0.015\n",
      "  Accuracy SARS: .......... 0.719\n",
      "  Acc. coding strand: ..... 0.738\n",
      "  Acc. template strand: ... 0.730\n",
      "  Nbr reads: 60,400, incl. 30,421 from coding strand and 29,979 from template strand\n",
      "\n",
      "Ref. Sequence: Human coronavirus NL63 (277944:ncbi:20 / JQ900257):\n",
      "  Accuracy :............... 0.070\n",
      "  Accuracy MERS: .......... 0.032\n",
      "  Accuracy SARS: .......... 0.038\n",
      "  Acc. coding strand: ..... 0.065\n",
      "  Acc. template strand: ... 0.075\n",
      "  Nbr reads: 54,719, incl. 27,258 from coding strand and 27,461 from template strand\n",
      "\n",
      "Ref. Sequence: Human coronavirus NL63 (277944:ncbi:4 / LC654455):\n",
      "  Accuracy :............... 0.067\n",
      "  Accuracy MERS: .......... 0.031\n",
      "  Accuracy SARS: .......... 0.036\n",
      "  Acc. coding strand: ..... 0.063\n",
      "  Acc. template strand: ... 0.071\n",
      "  Nbr reads: 55,000, incl. 27,381 from coding strand and 27,619 from template strand\n",
      "\n",
      "Ref. Sequence: Porcine epidemic diarrhea virus (28295:ncbi:23 / KJ645699):\n",
      "  Accuracy :............... 0.067\n",
      "  Accuracy MERS: .......... 0.031\n",
      "  Accuracy SARS: .......... 0.036\n",
      "  Acc. coding strand: ..... 0.063\n",
      "  Acc. template strand: ... 0.071\n",
      "  Nbr reads: 55,900, incl. 27,838 from coding strand and 28,062 from template strand\n",
      "\n",
      "Ref. Sequence: Porcine epidemic diarrhea virus (28295:ncbi:6 / KU893866):\n",
      "  Accuracy :............... 0.069\n",
      "  Accuracy MERS: .......... 0.033\n",
      "  Accuracy SARS: .......... 0.037\n",
      "  Acc. coding strand: ..... 0.064\n",
      "  Acc. template strand: ... 0.075\n",
      "  Nbr reads: 56,000, incl. 28,060 from coding strand and 27,940 from template strand\n",
      "\n",
      "Ref. Sequence: Porcine epidemic diarrhea virus (28295:ncbi:7 / KJ645638):\n",
      "  Accuracy :............... 0.069\n",
      "  Accuracy MERS: .......... 0.033\n",
      "  Accuracy SARS: .......... 0.036\n",
      "  Acc. coding strand: ..... 0.065\n",
      "  Acc. template strand: ... 0.073\n",
      "  Nbr reads: 55,900, incl. 27,930 from coding strand and 27,970 from template strand\n",
      "\n",
      "Ref. Sequence: Porcine epidemic diarrhea virus (28295:ncbi:8 / KJ645678):\n",
      "  Accuracy :............... 0.068\n",
      "  Accuracy MERS: .......... 0.034\n",
      "  Accuracy SARS: .......... 0.034\n",
      "  Acc. coding strand: ..... 0.066\n",
      "  Acc. template strand: ... 0.070\n",
      "  Nbr reads: 55,900, incl. 28,047 from coding strand and 27,853 from template strand\n",
      "\n",
      "Ref. Sequence: Porcine epidemic diarrhea virus (28295:ncbi:9 / KR873434):\n",
      "  Accuracy :............... 0.068\n",
      "  Accuracy MERS: .......... 0.032\n",
      "  Accuracy SARS: .......... 0.036\n",
      "  Acc. coding strand: ..... 0.064\n",
      "  Acc. template strand: ... 0.071\n",
      "  Nbr reads: 56,000, incl. 27,953 from coding strand and 28,047 from template strand\n",
      "\n",
      "Ref. Sequence: Human coronavirus HKU1 (290028:ncbi:11 / KT779556):\n",
      "  Accuracy :............... 0.049\n",
      "  Accuracy MERS: .......... 0.027\n",
      "  Accuracy SARS: .......... 0.023\n",
      "  Acc. coding strand: ..... 0.052\n",
      "  Acc. template strand: ... 0.047\n",
      "  Nbr reads: 59,700, incl. 29,928 from coding strand and 29,772 from template strand\n",
      "\n",
      "Ref. Sequence: Human coronavirus OC43 (31631:ncbi:3 / KY967361):\n",
      "  Accuracy :............... 0.055\n",
      "  Accuracy MERS: .......... 0.029\n",
      "  Accuracy SARS: .......... 0.025\n",
      "  Acc. coding strand: ..... 0.061\n",
      "  Acc. template strand: ... 0.048\n",
      "  Nbr reads: 61,100, incl. 30,652 from coding strand and 30,448 from template strand\n",
      "\n"
     ]
    }
   ],
   "source": [
    "for refseqid in np.unique(reads_info[:,1]):\n",
    "    mask_refseq = reads_info[:,1] == refseqid\n",
    "    mask_strand_coding = reads_info[:,3] == '+'\n",
    "    mask_strand_template = reads_info[:,3] == '-'\n",
    "    mask_coding = (mask_strand_coding.astype(int) * mask_refseq.astype(int)).astype(bool)\n",
    "    mask_template = (mask_strand_template.astype(int) * mask_refseq.astype(int)).astype(bool)\n",
    "\n",
    "    aln_refseq_meta = aln.ref_sequences[refseqid]\n",
    "    acc = cov_acc(None, class_preds[mask_refseq])\n",
    "    acc_coding = cov_acc(None, class_preds[mask_coding])\n",
    "    acc_template = cov_acc(None, class_preds[mask_template])\n",
    "    \n",
    "    species = aln_refseq_meta['species'].replace('scientific name', '').strip()\n",
    "    refid = aln_refseq_meta['refseqid'].strip()\n",
    "    refseq_accession = aln_refseq_meta['refseq_accession'].strip()\n",
    "       \n",
    "    print(f\"Ref. Sequence: {species} ({refseqid} / {refseq_accession}):\")\n",
    "    print(f\"  Accuracy :............... {acc:.3f}\")\n",
    "    print(f\"  Accuracy MERS: .......... {mers_acc(None, class_preds[mask_refseq]):.3f}\")\n",
    "    print(f\"  Accuracy SARS: .......... {sars_acc(None, class_preds[mask_refseq]):.3f}\")\n",
    "    print(f\"  Acc. coding strand: ..... {acc_coding:.3f}\")\n",
    "    print(f\"  Acc. template strand: ... {acc_template:.3f}\")\n",
    "    print(f\"  Nbr reads: {class_preds[mask_refseq].shape[0]:,d}, incl. {mask_coding.sum():,d} from coding strand and {mask_template.sum():,d} from template strand\")\n",
    "    print()"
   ]
  },
  {
   "cell_type": "markdown",
   "metadata": {},
   "source": [
    "# Simreads from 100 sequences"
   ]
  },
  {
   "cell_type": "code",
   "execution_count": null,
   "metadata": {},
   "outputs": [],
   "source": [
    "p2saved = p2data / 'saved/cnn_virus_original/pretrained_model.h5'\n",
    "p2simreads = p2data / 'cov_simreads/single_100seq_50bp'\n",
    "p2virus_labels = p2data / 'CNN_Virus_data/virus_name_mapping'\n",
    "assert p2saved.is_file()\n",
    "assert p2simreads.is_dir()\n",
    "assert p2virus_labels.is_file()"
   ]
  },
  {
   "cell_type": "code",
   "execution_count": null,
   "metadata": {},
   "outputs": [
    {
     "name": "stdout",
     "output_type": "stream",
     "text": [
      "Dataset with 3,000,000 reads\n"
     ]
    }
   ],
   "source": [
    "p2fastq = p2simreads / f\"{p2simreads.stem}.fq\"\n",
    "p2aln = p2simreads / f\"{p2simreads.stem}.aln\"\n",
    "assert p2fastq.is_file()\n",
    "assert p2aln.is_file()\n",
    "\n",
    "fastq = FastqFileReader(p2fastq)\n",
    "aln = AlnFileReader(p2aln)\n",
    "\n",
    "nsamples = 3_000_000\n",
    "p2ds, reads_info = create_infer_ds_from_fastq(p2fastq, overwrite_ds=True, nsamples=nsamples)\n",
    "\n",
    "text_ds = tf.data.TextLineDataset(p2ds).batch(32)\n",
    "ds = text_ds.map(strings_to_tensors)"
   ]
  },
  {
   "cell_type": "code",
   "execution_count": null,
   "metadata": {},
   "outputs": [],
   "source": [
    "model = load_model(p2saved)"
   ]
  },
  {
   "cell_type": "code",
   "execution_count": null,
   "metadata": {},
   "outputs": [
    {
     "name": "stdout",
     "output_type": "stream",
     "text": [
      "93750/93750 [==============================] - 1928s 21ms/step\n"
     ]
    },
    {
     "ename": "ResourceExhaustedError",
     "evalue": "OOM when allocating tensor with shape[3000000,187] and type float on /job:localhost/replica:0/task:0/device:GPU:0 by allocator GPU_0_bfc [Op:ConcatV2] name: concat",
     "output_type": "error",
     "traceback": [
      "\u001b[0;31m---------------------------------------------------------------------------\u001b[0m",
      "\u001b[0;31mResourceExhaustedError\u001b[0m                    Traceback (most recent call last)",
      "Input \u001b[0;32mIn [17]\u001b[0m, in \u001b[0;36m<cell line: 1>\u001b[0;34m()\u001b[0m\n\u001b[0;32m----> 1\u001b[0m prob_preds \u001b[38;5;241m=\u001b[39m \u001b[43mmodel\u001b[49m\u001b[38;5;241;43m.\u001b[39;49m\u001b[43mpredict\u001b[49m\u001b[43m(\u001b[49m\u001b[43mds\u001b[49m\u001b[43m,\u001b[49m\u001b[43m \u001b[49m\u001b[43mverbose\u001b[49m\u001b[38;5;241;43m=\u001b[39;49m\u001b[38;5;241;43m1\u001b[39;49m\u001b[43m)\u001b[49m\n",
      "File \u001b[0;32m~/miniconda3/envs/metagentools/lib/python3.10/site-packages/keras/utils/traceback_utils.py:67\u001b[0m, in \u001b[0;36mfilter_traceback.<locals>.error_handler\u001b[0;34m(*args, **kwargs)\u001b[0m\n\u001b[1;32m     65\u001b[0m \u001b[38;5;28;01mexcept\u001b[39;00m \u001b[38;5;167;01mException\u001b[39;00m \u001b[38;5;28;01mas\u001b[39;00m e:  \u001b[38;5;66;03m# pylint: disable=broad-except\u001b[39;00m\n\u001b[1;32m     66\u001b[0m   filtered_tb \u001b[38;5;241m=\u001b[39m _process_traceback_frames(e\u001b[38;5;241m.\u001b[39m__traceback__)\n\u001b[0;32m---> 67\u001b[0m   \u001b[38;5;28;01mraise\u001b[39;00m e\u001b[38;5;241m.\u001b[39mwith_traceback(filtered_tb) \u001b[38;5;28;01mfrom\u001b[39;00m \u001b[38;5;28mNone\u001b[39m\n\u001b[1;32m     68\u001b[0m \u001b[38;5;28;01mfinally\u001b[39;00m:\n\u001b[1;32m     69\u001b[0m   \u001b[38;5;28;01mdel\u001b[39;00m filtered_tb\n",
      "File \u001b[0;32m~/miniconda3/envs/metagentools/lib/python3.10/site-packages/tensorflow/python/framework/ops.py:7186\u001b[0m, in \u001b[0;36mraise_from_not_ok_status\u001b[0;34m(e, name)\u001b[0m\n\u001b[1;32m   7184\u001b[0m \u001b[38;5;28;01mdef\u001b[39;00m \u001b[38;5;21mraise_from_not_ok_status\u001b[39m(e, name):\n\u001b[1;32m   7185\u001b[0m   e\u001b[38;5;241m.\u001b[39mmessage \u001b[38;5;241m+\u001b[39m\u001b[38;5;241m=\u001b[39m (\u001b[38;5;124m\"\u001b[39m\u001b[38;5;124m name: \u001b[39m\u001b[38;5;124m\"\u001b[39m \u001b[38;5;241m+\u001b[39m name \u001b[38;5;28;01mif\u001b[39;00m name \u001b[38;5;129;01mis\u001b[39;00m \u001b[38;5;129;01mnot\u001b[39;00m \u001b[38;5;28;01mNone\u001b[39;00m \u001b[38;5;28;01melse\u001b[39;00m \u001b[38;5;124m\"\u001b[39m\u001b[38;5;124m\"\u001b[39m)\n\u001b[0;32m-> 7186\u001b[0m   \u001b[38;5;28;01mraise\u001b[39;00m core\u001b[38;5;241m.\u001b[39m_status_to_exception(e) \u001b[38;5;28;01mfrom\u001b[39;00m \u001b[38;5;28mNone\u001b[39m\n",
      "\u001b[0;31mResourceExhaustedError\u001b[0m: OOM when allocating tensor with shape[3000000,187] and type float on /job:localhost/replica:0/task:0/device:GPU:0 by allocator GPU_0_bfc [Op:ConcatV2] name: concat"
     ]
    }
   ],
   "source": [
    "prob_preds = model.predict(ds, verbose=1)"
   ]
  },
  {
   "cell_type": "markdown",
   "metadata": {},
   "source": [
    "Seems that the inference runs fine for 93750 steps (3M samples) but then when the output is assembled, cannot allocate the prob_preds of shape shape `[3000000,187]` on the GPU.\n",
    "\n",
    "Questions:\n",
    "- why does this have to be on the GPU?\n",
    "- is it possible to have it on the main memory instead\n"
   ]
  },
  {
   "cell_type": "code",
   "execution_count": null,
   "metadata": {},
   "outputs": [],
   "source": [
    "prob_preds[0].shape, prob_preds[1].shape"
   ]
  },
  {
   "cell_type": "code",
   "execution_count": null,
   "metadata": {},
   "outputs": [],
   "source": [
    "class_preds = np.argmax(prob_preds[0], axis=1)\n",
    "class_preds.shape"
   ]
  },
  {
   "cell_type": "code",
   "execution_count": null,
   "metadata": {},
   "outputs": [],
   "source": [
    "def is_cov(y_preds):\n",
    "    \"\"\"Return 1 if the corresponding prediction is a corona virus, 0 otherwise\"\"\"\n",
    "    return (y_preds == 94).astype(int) + (y_preds == 117).astype(int)\n",
    "\n",
    "def cov_acc(y_true, y_preds):\n",
    "    \"\"\"Evaluates the accuracy of the model assuming all evaluated reads are from corona virus\"\"\"\n",
    "    return is_cov(y_preds).sum()/y_preds.shape[0]\n",
    "\n",
    "cov_acc(None, class_preds)"
   ]
  },
  {
   "cell_type": "code",
   "execution_count": null,
   "metadata": {},
   "outputs": [],
   "source": [
    "np.unique(reads_info[:,1]).shape[0]"
   ]
  },
  {
   "cell_type": "code",
   "execution_count": null,
   "metadata": {},
   "outputs": [],
   "source": [
    "for refseqid in np.unique(reads_info[:,1]):\n",
    "    mask_refseq = reads_info[:,1] == refseqid\n",
    "    mask_strand_coding = reads_info[:,3] == '+'\n",
    "    mask_strand_template = reads_info[:,3] == '-'\n",
    "    mask_coding = (mask_strand_coding.astype(int) * mask_refseq.astype(int)).astype(bool)\n",
    "    mask_template = (mask_strand_template.astype(int) * mask_refseq.astype(int)).astype(bool)\n",
    "\n",
    "    aln_refseq_meta = aln.ref_sequences[refseqid]\n",
    "    acc = cov_acc(None, class_preds[mask_refseq])\n",
    "    acc_coding = cov_acc(None, class_preds[mask_coding])\n",
    "    acc_template = cov_acc(None, class_preds[mask_template])\n",
    "       \n",
    "    print(f\"Ref. Sequence: {aln_refseq_meta['species'].replace('scientific name', '').strip()}:\")\n",
    "    print(f\"  Accuracy :............... {acc:.3f}\")\n",
    "    print(f\"  Accuracy MERS:  {mers_acc(None, class_preds[mask]):.3f}\")\n",
    "    print(f\"  Accuracy SARS:  {sars_acc(None, class_preds[mask]):.3f}\")\n",
    "    print(f\"  Acc. coding strand: ..... {acc_coding:.3f}\")\n",
    "    print(f\"  Acc. template strand: ... {acc_template:.3f}\")\n",
    "    print(f\"  Nbr reads: {class_preds[mask_refseq].shape[0]:,d}, incl. {mask_coding.sum():,d} from coding strand and {mask_template.sum():,d} from template strand\")\n",
    "    print()"
   ]
  },
  {
   "cell_type": "markdown",
   "metadata": {},
   "source": [
    "# New Section"
   ]
  },
  {
   "cell_type": "code",
   "execution_count": null,
   "metadata": {},
   "outputs": [],
   "source": []
  },
  {
   "cell_type": "code",
   "execution_count": null,
   "metadata": {},
   "outputs": [],
   "source": []
  },
  {
   "cell_type": "markdown",
   "metadata": {},
   "source": [
    "Access AWS from colab:\n",
    "- https://colab.research.google.com/github/bytehub-ai/code-examples/blob/main/tutorials/04_using_cloud_storage.ipynb\n",
    "- https://python.plainenglish.io/how-to-load-data-from-aws-s3-into-google-colab-7e76fbf534d2\n",
    "- https://medium.com/@lily_su/accessing-s3-bucket-from-google-colab-16f7ee6c5b51\n",
    "- "
   ]
  },
  {
   "cell_type": "code",
   "execution_count": null,
   "metadata": {},
   "outputs": [],
   "source": []
  },
  {
   "cell_type": "code",
   "execution_count": null,
   "metadata": {},
   "outputs": [],
   "source": []
  },
  {
   "cell_type": "code",
   "execution_count": null,
   "metadata": {},
   "outputs": [],
   "source": []
  },
  {
   "cell_type": "code",
   "execution_count": null,
   "metadata": {},
   "outputs": [],
   "source": []
  },
  {
   "cell_type": "markdown",
   "metadata": {},
   "source": [
    "## handle GPU with tf"
   ]
  },
  {
   "cell_type": "code",
   "execution_count": null,
   "metadata": {},
   "outputs": [
    {
     "data": {
      "text/plain": [
       "PhysicalDevice(name='/physical_device:GPU:0', device_type='GPU')"
      ]
     },
     "execution_count": null,
     "metadata": {},
     "output_type": "execute_result"
    }
   ],
   "source": [
    "# device = tf.config.list_physical_devices('GPU')[0]\n",
    "# device"
   ]
  },
  {
   "cell_type": "code",
   "execution_count": null,
   "metadata": {},
   "outputs": [
    {
     "data": {
      "text/plain": [
       "{'current': 301555968, 'peak': 330915840}"
      ]
     },
     "execution_count": null,
     "metadata": {},
     "output_type": "execute_result"
    }
   ],
   "source": [
    "# tf.config.experimental.get_memory_info(device='GPU:0')"
   ]
  },
  {
   "cell_type": "code",
   "execution_count": null,
   "metadata": {},
   "outputs": [
    {
     "name": "stdout",
     "output_type": "stream",
     "text": [
      "Invalid device or cannot modify virtual devices once initialized.\n"
     ]
    }
   ],
   "source": [
    "# physical_devices = tf.config.list_physical_devices('GPU')\n",
    "# try:\n",
    "#     tf.config.experimental.set_memory_growth(physical_devices[0], True)\n",
    "#     assert tf.config.experimental.get_memory_growth(physical_devices[0])\n",
    "# except:\n",
    "#     print('Invalid device or cannot modify virtual devices once initialized.')"
   ]
  },
  {
   "cell_type": "code",
   "execution_count": null,
   "metadata": {},
   "outputs": [],
   "source": [
    "# tf.keras.backend.clear_session()"
   ]
  },
  {
   "cell_type": "code",
   "execution_count": null,
   "metadata": {},
   "outputs": [],
   "source": [
    "# model.summary()"
   ]
  },
  {
   "cell_type": "code",
   "execution_count": null,
   "metadata": {},
   "outputs": [],
   "source": [
    "# try:\n",
    "#     del model\n",
    "# except:\n",
    "#     pass\n",
    "# import gc\n",
    "# gc.collect()"
   ]
  },
  {
   "cell_type": "code",
   "execution_count": null,
   "metadata": {},
   "outputs": [
    {
     "name": "stdout",
     "output_type": "stream",
     "text": [
      "1 Physical GPUs, 1 Logical GPU\n"
     ]
    }
   ],
   "source": [
    "# gpus = tf.config.list_physical_devices('GPU')\n",
    "# if gpus:\n",
    "#   # Restrict TensorFlow to only use the first GPU\n",
    "#   try:\n",
    "#     tf.config.set_visible_devices(gpus[0], 'GPU')\n",
    "#     logical_gpus = tf.config.list_logical_devices('GPU')\n",
    "#     print(len(gpus), \"Physical GPUs,\", len(logical_gpus), \"Logical GPU\")\n",
    "#   except RuntimeError as e:\n",
    "#     # Visible devices must be set before GPUs have been initialized\n",
    "#     print(e)"
   ]
  },
  {
   "cell_type": "markdown",
   "metadata": {},
   "source": [
    "## end of section"
   ]
  }
 ],
 "metadata": {
  "kernelspec": {
   "display_name": "Python 3 (ipykernel)",
   "language": "python",
   "name": "python3"
  }
 },
 "nbformat": 4,
 "nbformat_minor": 1
}
