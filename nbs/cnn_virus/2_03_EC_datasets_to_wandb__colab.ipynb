{
 "cells": [
  {
   "cell_type": "markdown",
   "metadata": {},
   "source": [
    "<a href=\"https://colab.research.google.com/github/vtecftwy/metagenomics/blob/refactor_cnn_virus/nbs/2_03_EC_datasets_to_wandb__colab.ipynb\" target=\"_parent\"><img src=\"https://colab.research.google.com/assets/colab-badge.svg\" alt=\"Open In Colab\"/></a>"
   ]
  },
  {
   "cell_type": "markdown",
   "metadata": {},
   "source": [
    "# Load data files as WandB Artifacts (Metagenomics CNN-Virus)"
   ]
  },
  {
   "cell_type": "markdown",
   "metadata": {},
   "source": [
    "To be run on COLAB"
   ]
  },
  {
   "cell_type": "markdown",
   "metadata": {},
   "source": [
    "- files to load data:\n",
    "    - `50mer_training`\n",
    "    - `50mer_validating`\n",
    "    - `weight_of_classes`\n"
   ]
  },
  {
   "cell_type": "markdown",
   "metadata": {},
   "source": [
    "# Imports and setup environment"
   ]
  },
  {
   "cell_type": "markdown",
   "metadata": {},
   "source": [
    "### Install and import packages"
   ]
  },
  {
   "cell_type": "code",
   "execution_count": null,
   "metadata": {},
   "outputs": [
    {
     "name": "stdout",
     "output_type": "stream",
     "text": [
      "Tensorflow version: 2.8.2\n",
      "\n",
      "\n",
      "Devices:\n",
      "  - CPU  /device:CPU:0                          \n"
     ]
    }
   ],
   "source": [
    "import configparser\n",
    "import numpy as np\n",
    "import psutil\n",
    "import os\n",
    "import shutil\n",
    "import sys\n",
    "import tensorflow as tf\n",
    "\n",
    "from pathlib import Path\n",
    "from tensorflow.python.client import device_lib\n",
    "print(f\"Tensorflow version: {tf.__version__}\\n\")\n",
    "\n",
    "%load_ext autoreload\n",
    "%autoreload 2\n",
    "\n",
    "devices = device_lib.list_local_devices()\n",
    "print('\\nDevices:')\n",
    "for d in devices:\n",
    "    t = d.device_type\n",
    "    name = d.physical_device_desc\n",
    "    l = [item.split(':', 1) for item in name.split(', ')]\n",
    "    name_attr = dict([x for x in l if len(x)==2])\n",
    "    dev = name_attr.get('name', ' ')\n",
    "    print(f\"  - {t}  {d.name} {dev:25s}\")"
   ]
  },
  {
   "cell_type": "code",
   "execution_count": null,
   "metadata": {},
   "outputs": [
    {
     "name": "stdout",
     "output_type": "stream",
     "text": [
      "\u001b[K     |████████████████████████████████| 1.8 MB 27.2 MB/s \n",
      "\u001b[K     |████████████████████████████████| 181 kB 62.3 MB/s \n",
      "\u001b[K     |████████████████████████████████| 158 kB 63.4 MB/s \n",
      "\u001b[K     |████████████████████████████████| 63 kB 1.8 MB/s \n",
      "\u001b[K     |████████████████████████████████| 157 kB 60.4 MB/s \n",
      "\u001b[K     |████████████████████████████████| 157 kB 58.3 MB/s \n",
      "\u001b[K     |████████████████████████████████| 157 kB 76.3 MB/s \n",
      "\u001b[K     |████████████████████████████████| 157 kB 78.9 MB/s \n",
      "\u001b[K     |████████████████████████████████| 157 kB 63.0 MB/s \n",
      "\u001b[K     |████████████████████████████████| 157 kB 67.3 MB/s \n",
      "\u001b[K     |████████████████████████████████| 157 kB 60.5 MB/s \n",
      "\u001b[K     |████████████████████████████████| 156 kB 59.8 MB/s \n",
      "\u001b[?25h  Building wheel for pathtools (setup.py) ... \u001b[?25l\u001b[?25hdone\n",
      "wandb version 0.13.3 installed\n"
     ]
    }
   ],
   "source": [
    "try:\n",
    "    import wandb\n",
    "    print(f'wandb version {wandb.__version__} already installed')\n",
    "except ModuleNotFoundError:\n",
    "    !pip install -qqU wandb\n",
    "    import wandb\n",
    "    print(f'wandb version {wandb.__version__} installed')\n",
    "\n",
    "from wandb.keras import WandbCallback"
   ]
  },
  {
   "cell_type": "markdown",
   "metadata": {},
   "source": [
    "## Install and import custom code, mount gdrive"
   ]
  },
  {
   "cell_type": "code",
   "execution_count": null,
   "metadata": {},
   "outputs": [
    {
     "name": "stdout",
     "output_type": "stream",
     "text": [
      "Running on colab\n",
      "Installing custom project code\n",
      "Looking in indexes: https://pypi.org/simple, https://us-python.pkg.dev/colab-wheels/public/simple/\n",
      "Collecting git+https://github.com/vtecftwy/metagenomics.git@refactor_cnn_virus\n",
      "  Cloning https://github.com/vtecftwy/metagenomics.git (to revision refactor_cnn_virus) to /tmp/pip-req-build-w5zhgro3\n",
      "  Running command git clone -q https://github.com/vtecftwy/metagenomics.git /tmp/pip-req-build-w5zhgro3\n",
      "  Running command git checkout -b refactor_cnn_virus --track origin/refactor_cnn_virus\n",
      "  Switched to a new branch 'refactor_cnn_virus'\n",
      "  Branch 'refactor_cnn_virus' set up to track remote branch 'refactor_cnn_virus' from 'origin'.\n",
      "Building wheels for collected packages: src\n",
      "  Building wheel for src (setup.py) ... \u001b[?25l\u001b[?25hdone\n",
      "  Created wheel for src: filename=src-1.0.2-py3-none-any.whl size=14773 sha256=4657ca96bae8865946ac2cb59d53bc7ab00b34b9441773ac236ef9f658366c97\n",
      "  Stored in directory: /tmp/pip-ephem-wheel-cache-qslwj8lk/wheels/10/e4/2b/3924f57326dbc088c93138fb676f8dac09dde9d0cb9f270a15\n",
      "Successfully built src\n",
      "Installing collected packages: src\n",
      "Successfully installed src-1.0.2\n",
      "Mounted at /content/gdrive\n"
     ]
    }
   ],
   "source": [
    "try:\n",
    "    from google.colab import drive\n",
    "    ON_COLAB = True\n",
    "    print('Running on colab')\n",
    "    print('Installing custom project code')   \n",
    "    !pip install -U git+https://github.com/vtecftwy/metagenomics.git@refactor_cnn_virus\n",
    "    drive.mount('/content/gdrive')\n",
    "\n",
    "except ModuleNotFoundError:\n",
    "    ON_COLAB = False\n",
    "    print('Running locally')\n",
    "    print('Make sure you have installed the custom project code in your environment')\n",
    "    pdata = Path('data/cnn_virus')"
   ]
  },
  {
   "cell_type": "markdown",
   "metadata": {},
   "source": [
    "#  Setup paths"
   ]
  },
  {
   "cell_type": "markdown",
   "metadata": {},
   "source": [
    "This assumes that the shared gdrive directory is accessible through a shortcut called `Metagenomics` under the root of gdrive."
   ]
  },
  {
   "cell_type": "code",
   "execution_count": null,
   "metadata": {},
   "outputs": [],
   "source": [
    "p2drive = Path('/content/gdrive/MyDrive/Metagenonics')\n",
    "assert p2drive.is_dir()\n",
    "\n",
    "p2data =  p2drive / 'CNN_Virus_data'\n",
    "assert p2data.is_dir()"
   ]
  },
  {
   "cell_type": "code",
   "execution_count": null,
   "metadata": {},
   "outputs": [],
   "source": [
    "#path for the training file\n",
    "filepath_train_full = p2data /\"50mer_training\"\n",
    "assert filepath_train_full.is_file()\n",
    "\n",
    "#path for the validating file\n",
    "filepath_val_full = p2data / \"50mer_validating\"\n",
    "assert filepath_val_full.is_file()\n",
    "\n",
    "#path for the learning weights file\n",
    "filepath_weights=p2data / \"weight_of_classes\"\n",
    "assert filepath_weights.is_file()"
   ]
  },
  {
   "cell_type": "markdown",
   "metadata": {},
   "source": [
    "# Create data files of different lengths for training and validation"
   ]
  },
  {
   "cell_type": "markdown",
   "metadata": {},
   "source": [
    "- `50mer_training_100k`, `50mer_training_1M`, `50mer_training_15M`, `50mer_training_30M`, `50mer_training_50M`\n",
    "- `50mer_validating_20k`, `50mer_validating_200k`, `50mer_validating_1M`"
   ]
  },
  {
   "cell_type": "code",
   "execution_count": null,
   "metadata": {},
   "outputs": [
    {
     "name": "stdout",
     "output_type": "stream",
     "text": [
      "Created empty 50mer_training_100k\n",
      "Opened 50mer_training_100k and adding lines up to 100,000\n",
      "Copied 50mer_training_100k into 50mer_training_1M\n",
      "Opened 50mer_training_1M and adding lines up to 1,000,000\n",
      "Copied 50mer_training_1M into 50mer_training_15M\n",
      "Opened 50mer_training_15M and adding lines up to 15,000,000\n",
      "Copied 50mer_training_15M into 50mer_training_30M\n",
      "Opened 50mer_training_30M and adding lines up to 30,000,000\n",
      "Copied 50mer_training_30M into 50mer_training_50M\n",
      "Opened 50mer_training_50M and adding lines up to 52,000,000\n",
      "Done\n",
      "Created empty 50mer_validation_20k\n",
      "Opened 50mer_validation_20k and adding lines up to 20,000\n",
      "Copied 50mer_validation_20k into 50mer_validation_200k\n",
      "Opened 50mer_validation_200k and adding lines up to 200,000\n",
      "Copied 50mer_validation_200k into 50mer_validation_1M\n",
      "Opened 50mer_validation_1M and adding lines up to 1,000,000\n",
      "Done\n"
     ]
    }
   ],
   "source": [
    "def shorten_file(p2long, max_lines=100_000,):\n",
    "    \"\"\"Create file(s) by shortening the long file to one of several max_lines\n",
    "    \n",
    "    max_lines:  int to create a single short file\n",
    "                list/tuple of tuples ('suffix', max_length) to create several files\n",
    "                ex: max_lines=[('100k', 100_000), ('1M', 1_000_000), ('15M', 15_000_000)]\n",
    "    \"\"\"\n",
    "\n",
    "    if isinstance(max_lines, int):\n",
    "        max_lines = ['short', max_lines]\n",
    "    elif not isinstance(max_lines, list) and not isinstance(max_lines, tuple):\n",
    "        raise ValueError(f\"max_lines must be an int, a list of tuple or a tuple of tuple\")\n",
    "\n",
    "    max_lines_iterator = iter(max_lines)\n",
    "    n_line = 0\n",
    "    \n",
    "    def create_new_file(file, suffix, ref_file=p2long):\n",
    "        \"\"\"create new file as a copy of `file`, with name based on `ref_file` and `suffix`\"\"\"\n",
    "        if 'validating' in ref_file.stem:\n",
    "            fname_seed = '50mer_validation'\n",
    "        else:\n",
    "            fname_seed = '50mer_training'\n",
    "        new_file = Path(f\"{fname_seed}_{suffix}{ref_file.suffix}\")\n",
    "        \n",
    "        if file is None:\n",
    "            if new_file.is_file():\n",
    "                os.remove(new_file)\n",
    "                print(f\"Deleted old {new_file.name}\")\n",
    "            new_file.touch()\n",
    "            print(f\"Created empty {new_file.name}\")\n",
    "        else:\n",
    "            shutil.copy(file, new_file)\n",
    "            print(f\"Copied {file.name} into {new_file.name}\")\n",
    "        return new_file\n",
    "\n",
    "    with open(p2long, 'r') as fp_src:\n",
    "        previous_file = None\n",
    "        suffix, max_l = next(max_lines_iterator)\n",
    "        current_file = create_new_file(previous_file, suffix, p2long)\n",
    "           \n",
    "        fp_tgt = open(current_file, 'a')\n",
    "        print(f\"Opened {fp_tgt.name} and adding lines up to {max_l:,d}\")\n",
    "        while True:\n",
    "            n_line += 1\n",
    "            if n_line > max_l:\n",
    "                try:\n",
    "                    suffix, max_l = next(max_lines_iterator)\n",
    "                    previous_file = current_file\n",
    "                    current_file = create_new_file(previous_file, suffix, p2long)\n",
    "\n",
    "                    fp_tgt.close()                   \n",
    "                    fp_tgt = open(current_file, 'a')\n",
    "                    print(f\"Opened {fp_tgt.name} and adding lines up to {max_l:,d}\")\n",
    "                except:\n",
    "                    break\n",
    "            line = fp_src.readline()\n",
    "            if line == '':\n",
    "                break\n",
    "            else:\n",
    "                fp_tgt.write(line)\n",
    "        \n",
    "        fp_tgt.close()\n",
    "        print(f\"Done\")\n",
    "\n",
    "training_maxlines = [('100k', 100_000), ('1M', 1_000_000), ('15M', 15_000_000), ('30M', 30_000_000), ('50M', 52_000_000)]\n",
    "shorten_file(filepath_train_full, training_maxlines)\n",
    "\n",
    "validation_maxlines = [('20k', 20_000), ('200k', 200_000), ('1M', 1_000_000)]\n",
    "shorten_file(filepath_val_full, validation_maxlines)"
   ]
  },
  {
   "cell_type": "code",
   "execution_count": null,
   "metadata": {},
   "outputs": [
    {
     "data": {
      "text/plain": [
       "['50mer_training_100k',\n",
       " '50mer_training_15M',\n",
       " '50mer_training_1M',\n",
       " '50mer_training_30M',\n",
       " '50mer_training_50M',\n",
       " '50mer_validation_1M',\n",
       " '50mer_validation_200k',\n",
       " '50mer_validation_20k']"
      ]
     },
     "execution_count": null,
     "metadata": {},
     "output_type": "execute_result"
    }
   ],
   "source": [
    "sorted([f.name for f in Path('.').glob('50mer_*')])"
   ]
  },
  {
   "cell_type": "markdown",
   "metadata": {},
   "source": [
    "## Setup WandB\n",
    "Documentation [here](https://docs.wandb.ai/)"
   ]
  },
  {
   "cell_type": "markdown",
   "metadata": {},
   "source": [
    "Get authentication key for WandB API and login"
   ]
  },
  {
   "cell_type": "code",
   "execution_count": null,
   "metadata": {},
   "outputs": [],
   "source": [
    "p2cfg = Path('/content/gdrive/MyDrive/private-across-accounts/config-api-keys.cfg')\n",
    "cfg = configparser.ConfigParser()\n",
    "cfg.read(p2cfg);\n",
    "# cfg['wandb']['metagenomics']"
   ]
  },
  {
   "cell_type": "code",
   "execution_count": null,
   "metadata": {},
   "outputs": [],
   "source": [
    "os.environ['WANDB_NOTEBOOK_NAME'] = str(p2drive/ 'nbs/2_03_EC_datasets_to_wandb_-colab.ipynb')"
   ]
  },
  {
   "cell_type": "code",
   "execution_count": null,
   "metadata": {},
   "outputs": [
    {
     "data": {
      "application/javascript": [
       "\n",
       "        window._wandbApiKey = new Promise((resolve, reject) => {\n",
       "            function loadScript(url) {\n",
       "            return new Promise(function(resolve, reject) {\n",
       "                let newScript = document.createElement(\"script\");\n",
       "                newScript.onerror = reject;\n",
       "                newScript.onload = resolve;\n",
       "                document.body.appendChild(newScript);\n",
       "                newScript.src = url;\n",
       "            });\n",
       "            }\n",
       "            loadScript(\"https://cdn.jsdelivr.net/npm/postmate/build/postmate.min.js\").then(() => {\n",
       "            const iframe = document.createElement('iframe')\n",
       "            iframe.style.cssText = \"width:0;height:0;border:none\"\n",
       "            document.body.appendChild(iframe)\n",
       "            const handshake = new Postmate({\n",
       "                container: iframe,\n",
       "                url: 'https://wandb.ai/authorize'\n",
       "            });\n",
       "            const timeout = setTimeout(() => reject(\"Couldn't auto authenticate\"), 5000)\n",
       "            handshake.then(function(child) {\n",
       "                child.on('authorize', data => {\n",
       "                    clearTimeout(timeout)\n",
       "                    resolve(data)\n",
       "                });\n",
       "            });\n",
       "            })\n",
       "        });\n",
       "    "
      ],
      "text/plain": [
       "<IPython.core.display.Javascript object>"
      ]
     },
     "metadata": {},
     "output_type": "display_data"
    },
    {
     "name": "stderr",
     "output_type": "stream",
     "text": [
      "\u001b[34m\u001b[1mwandb\u001b[0m: Appending key for api.wandb.ai to your netrc file: /root/.netrc\n"
     ]
    },
    {
     "data": {
      "text/plain": [
       "True"
      ]
     },
     "execution_count": null,
     "metadata": {},
     "output_type": "execute_result"
    }
   ],
   "source": [
    "wandb.login()"
   ]
  },
  {
   "cell_type": "markdown",
   "metadata": {},
   "source": [
    "Define WandB configuration and other parameters for `run`"
   ]
  },
  {
   "cell_type": "code",
   "execution_count": null,
   "metadata": {},
   "outputs": [
    {
     "name": "stderr",
     "output_type": "stream",
     "text": [
      "\u001b[34m\u001b[1mwandb\u001b[0m: Currently logged in as: \u001b[33mvtecftyw\u001b[0m (\u001b[33mmetagenomics_sh\u001b[0m). Use \u001b[1m`wandb login --relogin`\u001b[0m to force relogin\n"
     ]
    },
    {
     "data": {
      "text/html": [
       "Tracking run with wandb version 0.13.3"
      ],
      "text/plain": [
       "<IPython.core.display.HTML object>"
      ]
     },
     "metadata": {},
     "output_type": "display_data"
    },
    {
     "data": {
      "text/html": [
       "Run data is saved locally in <code>/content/wandb/run-20220920_072906-2y54bdmq</code>"
      ],
      "text/plain": [
       "<IPython.core.display.HTML object>"
      ]
     },
     "metadata": {},
     "output_type": "display_data"
    },
    {
     "data": {
      "text/html": [
       "Syncing run <strong><a href=\"https://wandb.ai/metagenomics_sh/reproduce_cnn_virus/runs/2y54bdmq\" target=\"_blank\">load-data-2022-09-20</a></strong> to <a href=\"https://wandb.ai/metagenomics_sh/reproduce_cnn_virus\" target=\"_blank\">Weights & Biases</a> (<a href=\"https://wandb.me/run\" target=\"_blank\">docs</a>)<br/>"
      ],
      "text/plain": [
       "<IPython.core.display.HTML object>"
      ]
     },
     "metadata": {},
     "output_type": "display_data"
    }
   ],
   "source": [
    "# Initialize a run to load datasets\n",
    "user = 'metagenomics_sh'\n",
    "project = 'reproduce_cnn_virus'\n",
    "run_name = 'load-data-2022-09-20'\n",
    "job_type = \"load_datasets\"\n",
    "notes = 'Reload the dataset with optimized jupyter nb'\n",
    "\n",
    "run = wandb.init(entity=user, project=project, name=run_name, job_type=job_type, notes=notes, save_code=True)"
   ]
  },
  {
   "cell_type": "code",
   "execution_count": null,
   "metadata": {},
   "outputs": [],
   "source": [
    "def upload_dataset(run, suffix, n_samples, original_fname, dataset_type):\n",
    "\n",
    "    dataset_name = f\"origin_{dataset_type}_{suffix}\"\n",
    "    descr = f\"**Raw Data**: shortened version of `{original_fname}`, limited to {suffix} lines.\"\n",
    "    metadata = {\n",
    "        'n_samples': n_samples,\n",
    "        'dataset_type': dataset_type,\n",
    "        'original_file_name': original_fname,\n",
    "    }\n",
    "    my_data = wandb.Artifact(name=dataset_name, type=\"raw_data\", description=descr, metadata=metadata)\n",
    "    my_data.add_file(f\"/content/50mer_{dataset_type}_{suffix}\")\n",
    "    run.log_artifact(my_data)"
   ]
  },
  {
   "cell_type": "code",
   "execution_count": null,
   "metadata": {},
   "outputs": [],
   "source": [
    "for suffix, n_samples in training_maxlines:\n",
    "    upload_dataset(run, suffix, n_samples, '50mer_training', 'training')"
   ]
  },
  {
   "cell_type": "code",
   "execution_count": null,
   "metadata": {},
   "outputs": [],
   "source": [
    "for suffix, n_samples in validation_maxlines:\n",
    "    upload_dataset(run, suffix, n_samples, '50mer_validating', 'validation')"
   ]
  },
  {
   "cell_type": "code",
   "execution_count": null,
   "metadata": {},
   "outputs": [
    {
     "data": {
      "text/html": [
       "Waiting for W&B process to finish... <strong style=\"color:green\">(success).</strong>"
      ],
      "text/plain": [
       "<IPython.core.display.HTML object>"
      ]
     },
     "metadata": {},
     "output_type": "display_data"
    },
    {
     "data": {
      "application/vnd.jupyter.widget-view+json": {
       "model_id": "7849f255e99b4853bdba7f8badf1054a",
       "version_major": 2,
       "version_minor": 0
      },
      "text/plain": [
       "VBox(children=(Label(value='0.059 MB of 0.059 MB uploaded (0.020 MB deduped)\\r'), FloatProgress(value=1.0, max…"
      ]
     },
     "metadata": {},
     "output_type": "display_data"
    },
    {
     "data": {
      "text/html": [
       "W&B sync reduced upload amount by 25.4%             "
      ],
      "text/plain": [
       "<IPython.core.display.HTML object>"
      ]
     },
     "metadata": {},
     "output_type": "display_data"
    },
    {
     "data": {
      "text/html": [
       "Synced <strong style=\"color:#cdcd00\">load-data-2022-09-20</strong>: <a href=\"https://wandb.ai/metagenomics_sh/reproduce_cnn_virus/runs/2y54bdmq\" target=\"_blank\">https://wandb.ai/metagenomics_sh/reproduce_cnn_virus/runs/2y54bdmq</a><br/>Synced 4 W&B file(s), 0 media file(s), 3 artifact file(s) and 1 other file(s)"
      ],
      "text/plain": [
       "<IPython.core.display.HTML object>"
      ]
     },
     "metadata": {},
     "output_type": "display_data"
    },
    {
     "data": {
      "text/html": [
       "Find logs at: <code>./wandb/run-20220920_072906-2y54bdmq/logs</code>"
      ],
      "text/plain": [
       "<IPython.core.display.HTML object>"
      ]
     },
     "metadata": {},
     "output_type": "display_data"
    }
   ],
   "source": [
    "run.finish()"
   ]
  },
  {
   "cell_type": "code",
   "execution_count": null,
   "metadata": {},
   "outputs": [],
   "source": [
    "# wandb.init?"
   ]
  },
  {
   "cell_type": "code",
   "execution_count": null,
   "metadata": {},
   "outputs": [],
   "source": [
    "# wandb.Artifact?"
   ]
  }
 ],
 "metadata": {
  "kernelspec": {
   "display_name": "Python 3 (ipykernel)",
   "language": "python",
   "name": "python3"
  },
  "widgets": {
   "application/vnd.jupyter.widget-state+json": {
    "26b205197a934fdeabb71e65ac11acba": {
     "model_module": "@jupyter-widgets/base",
     "model_module_version": "1.2.0",
     "model_name": "LayoutModel",
     "state": {
      "_model_module": "@jupyter-widgets/base",
      "_model_module_version": "1.2.0",
      "_model_name": "LayoutModel",
      "_view_count": null,
      "_view_module": "@jupyter-widgets/base",
      "_view_module_version": "1.2.0",
      "_view_name": "LayoutView",
      "align_content": null,
      "align_items": null,
      "align_self": null,
      "border": null,
      "bottom": null,
      "display": null,
      "flex": null,
      "flex_flow": null,
      "grid_area": null,
      "grid_auto_columns": null,
      "grid_auto_flow": null,
      "grid_auto_rows": null,
      "grid_column": null,
      "grid_gap": null,
      "grid_row": null,
      "grid_template_areas": null,
      "grid_template_columns": null,
      "grid_template_rows": null,
      "height": null,
      "justify_content": null,
      "justify_items": null,
      "left": null,
      "margin": null,
      "max_height": null,
      "max_width": null,
      "min_height": null,
      "min_width": null,
      "object_fit": null,
      "object_position": null,
      "order": null,
      "overflow": null,
      "overflow_x": null,
      "overflow_y": null,
      "padding": null,
      "right": null,
      "top": null,
      "visibility": null,
      "width": null
     }
    },
    "514ad0bfcabf4df580a9a872af814af9": {
     "model_module": "@jupyter-widgets/controls",
     "model_module_version": "1.5.0",
     "model_name": "ProgressStyleModel",
     "state": {
      "_model_module": "@jupyter-widgets/controls",
      "_model_module_version": "1.5.0",
      "_model_name": "ProgressStyleModel",
      "_view_count": null,
      "_view_module": "@jupyter-widgets/base",
      "_view_module_version": "1.2.0",
      "_view_name": "StyleView",
      "bar_color": null,
      "description_width": ""
     }
    },
    "55646397fc9349d3af9e98b1f2b26f5d": {
     "model_module": "@jupyter-widgets/base",
     "model_module_version": "1.2.0",
     "model_name": "LayoutModel",
     "state": {
      "_model_module": "@jupyter-widgets/base",
      "_model_module_version": "1.2.0",
      "_model_name": "LayoutModel",
      "_view_count": null,
      "_view_module": "@jupyter-widgets/base",
      "_view_module_version": "1.2.0",
      "_view_name": "LayoutView",
      "align_content": null,
      "align_items": null,
      "align_self": null,
      "border": null,
      "bottom": null,
      "display": null,
      "flex": null,
      "flex_flow": null,
      "grid_area": null,
      "grid_auto_columns": null,
      "grid_auto_flow": null,
      "grid_auto_rows": null,
      "grid_column": null,
      "grid_gap": null,
      "grid_row": null,
      "grid_template_areas": null,
      "grid_template_columns": null,
      "grid_template_rows": null,
      "height": null,
      "justify_content": null,
      "justify_items": null,
      "left": null,
      "margin": null,
      "max_height": null,
      "max_width": null,
      "min_height": null,
      "min_width": null,
      "object_fit": null,
      "object_position": null,
      "order": null,
      "overflow": null,
      "overflow_x": null,
      "overflow_y": null,
      "padding": null,
      "right": null,
      "top": null,
      "visibility": null,
      "width": null
     }
    },
    "70f6be4247664b708b662c34e7abe3ee": {
     "model_module": "@jupyter-widgets/base",
     "model_module_version": "1.2.0",
     "model_name": "LayoutModel",
     "state": {
      "_model_module": "@jupyter-widgets/base",
      "_model_module_version": "1.2.0",
      "_model_name": "LayoutModel",
      "_view_count": null,
      "_view_module": "@jupyter-widgets/base",
      "_view_module_version": "1.2.0",
      "_view_name": "LayoutView",
      "align_content": null,
      "align_items": null,
      "align_self": null,
      "border": null,
      "bottom": null,
      "display": null,
      "flex": null,
      "flex_flow": null,
      "grid_area": null,
      "grid_auto_columns": null,
      "grid_auto_flow": null,
      "grid_auto_rows": null,
      "grid_column": null,
      "grid_gap": null,
      "grid_row": null,
      "grid_template_areas": null,
      "grid_template_columns": null,
      "grid_template_rows": null,
      "height": null,
      "justify_content": null,
      "justify_items": null,
      "left": null,
      "margin": null,
      "max_height": null,
      "max_width": null,
      "min_height": null,
      "min_width": null,
      "object_fit": null,
      "object_position": null,
      "order": null,
      "overflow": null,
      "overflow_x": null,
      "overflow_y": null,
      "padding": null,
      "right": null,
      "top": null,
      "visibility": null,
      "width": null
     }
    },
    "7179c6cc207941648c348b1bf10cb87f": {
     "model_module": "@jupyter-widgets/controls",
     "model_module_version": "1.5.0",
     "model_name": "LabelModel",
     "state": {
      "_dom_classes": [],
      "_model_module": "@jupyter-widgets/controls",
      "_model_module_version": "1.5.0",
      "_model_name": "LabelModel",
      "_view_count": null,
      "_view_module": "@jupyter-widgets/controls",
      "_view_module_version": "1.5.0",
      "_view_name": "LabelView",
      "description": "",
      "description_tooltip": null,
      "layout": "IPY_MODEL_70f6be4247664b708b662c34e7abe3ee",
      "placeholder": "​",
      "style": "IPY_MODEL_bdde467d943148ce9bb6355fd7582a5c",
      "value": "0.078 MB of 0.078 MB uploaded (0.020 MB deduped)\r"
     }
    },
    "7849f255e99b4853bdba7f8badf1054a": {
     "model_module": "@jupyter-widgets/controls",
     "model_module_version": "1.5.0",
     "model_name": "VBoxModel",
     "state": {
      "_dom_classes": [],
      "_model_module": "@jupyter-widgets/controls",
      "_model_module_version": "1.5.0",
      "_model_name": "VBoxModel",
      "_view_count": null,
      "_view_module": "@jupyter-widgets/controls",
      "_view_module_version": "1.5.0",
      "_view_name": "VBoxView",
      "box_style": "",
      "children": [
       "IPY_MODEL_7179c6cc207941648c348b1bf10cb87f",
       "IPY_MODEL_e0819a1ddcc64c08a748a2fd88350f09"
      ],
      "layout": "IPY_MODEL_26b205197a934fdeabb71e65ac11acba"
     }
    },
    "bdde467d943148ce9bb6355fd7582a5c": {
     "model_module": "@jupyter-widgets/controls",
     "model_module_version": "1.5.0",
     "model_name": "DescriptionStyleModel",
     "state": {
      "_model_module": "@jupyter-widgets/controls",
      "_model_module_version": "1.5.0",
      "_model_name": "DescriptionStyleModel",
      "_view_count": null,
      "_view_module": "@jupyter-widgets/base",
      "_view_module_version": "1.2.0",
      "_view_name": "StyleView",
      "description_width": ""
     }
    },
    "e0819a1ddcc64c08a748a2fd88350f09": {
     "model_module": "@jupyter-widgets/controls",
     "model_module_version": "1.5.0",
     "model_name": "FloatProgressModel",
     "state": {
      "_dom_classes": [],
      "_model_module": "@jupyter-widgets/controls",
      "_model_module_version": "1.5.0",
      "_model_name": "FloatProgressModel",
      "_view_count": null,
      "_view_module": "@jupyter-widgets/controls",
      "_view_module_version": "1.5.0",
      "_view_name": "ProgressView",
      "bar_style": "",
      "description": "",
      "description_tooltip": null,
      "layout": "IPY_MODEL_55646397fc9349d3af9e98b1f2b26f5d",
      "max": 1,
      "min": 0,
      "orientation": "horizontal",
      "style": "IPY_MODEL_514ad0bfcabf4df580a9a872af814af9",
      "value": 1
     }
    }
   }
  }
 },
 "nbformat": 4,
 "nbformat_minor": 1
}
