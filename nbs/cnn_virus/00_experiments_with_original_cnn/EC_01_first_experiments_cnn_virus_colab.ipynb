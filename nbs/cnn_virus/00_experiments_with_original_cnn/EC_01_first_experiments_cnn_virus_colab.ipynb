{
 "cells": [
  {
   "cell_type": "markdown",
   "metadata": {},
   "source": [
    "<a href=\"https://colab.research.google.com/github/vtecftwy/metagenomics/blob/refactor_cnn_virus/nbs/2_01_EC_test_cnn_virus_code_colab.ipynb\" target=\"_parent\"><img src=\"https://colab.research.google.com/assets/colab-badge.svg\" alt=\"Open In Colab\"/></a>"
   ]
  },
  {
   "cell_type": "markdown",
   "metadata": {},
   "source": [
    "# First experiments with CNN_Virus code"
   ]
  },
  {
   "cell_type": "markdown",
   "metadata": {},
   "source": [
    "The original code for CNN-Virus is in the github repo [here](https://github.com/MaHaoran627/CNN_Virus).\n",
    "\n",
    "This notebook uses the refactored model architecture and a few functions from the original CNN_Virus code.\n",
    "- Refactored code is in `metagentools.cnn_virus.architecture`\n",
    "\n",
    "> This notebook assumes you have access to the `Metagenomics` gdrive shared folder, right under the grdive root. You should add a shortcut to the shared directory at the top of you gdrive."
   ]
  },
  {
   "cell_type": "code",
   "execution_count": 40,
   "metadata": {},
   "outputs": [
    {
     "name": "stdout",
     "output_type": "stream",
     "text": [
      "The autoreload extension is already loaded. To reload it, use:\n",
      "  %reload_ext autoreload\n",
      "Set autoreload mode\n"
     ]
    }
   ],
   "source": [
    "import numpy as np\n",
    "import os\n",
    "import sys\n",
    "from pathlib import Path\n",
    "from ecutilities.ipython import nb_setup\n",
    "from metagentools.core import ProjectFileSystem\n",
    "from metagentools.cnn_virus.architecture import create_model_original\n",
    "from tensorflow.keras.utils import Sequence, to_categorical\n",
    "\n",
    "os.environ['TF_CPP_MIN_LOG_LEVEL'] = '3' # or any {'0', '1', '2'}\n",
    "\n",
    "# Setup the notebook for development\n",
    "nb_setup()"
   ]
  },
  {
   "cell_type": "markdown",
   "metadata": {},
   "source": [
    "Retrieve the paths to key project directories, and setup environment if running on Colab"
   ]
  },
  {
   "cell_type": "code",
   "execution_count": null,
   "metadata": {},
   "outputs": [],
   "source": [
    "pfs = ProjectFileSystem()\n",
    "\n",
    "# Install the required packages if running on colab\n",
    "if pfs.is_colab:\n",
    "    !pip install -Uqq metagentools\n",
    "    !pip install -Uqq ecutilities \n",
    "\n",
    "data = pfs.data\n",
    "assert data.is_dir()"
   ]
  },
  {
   "cell_type": "markdown",
   "metadata": {},
   "source": [
    "# Preprocessing data"
   ]
  },
  {
   "cell_type": "code",
   "execution_count": 43,
   "metadata": {},
   "outputs": [],
   "source": [
    "# path for the training file\n",
    "filepath_train= data /\"CNN_Virus_data/50mer_training\"\n",
    "assert filepath_train.is_file()\n",
    "# path for the validating file\n",
    "filepath_val= data / \"CNN_Virus_data/50mer_validating\"\n",
    "assert filepath_val.is_file()\n",
    "# path for the learning weights file\n",
    "filepath_weights=data / \"CNN_Virus_data/weight_of_classes\"\n",
    "assert filepath_weights.is_file()"
   ]
  },
  {
   "cell_type": "markdown",
   "metadata": {},
   "source": [
    "### Original code\n",
    "Functions from the original code that we need in this notebook"
   ]
  },
  {
   "cell_type": "code",
   "execution_count": 44,
   "metadata": {},
   "outputs": [],
   "source": [
    "def get_params_50mer():\n",
    "    \"\"\"set default params for generating batches of 50-mer\"\"\"\n",
    "    params = {'batch_size': 1024,\n",
    "    'n_classes': 187,\n",
    "    'shuffle': True}\n",
    "    return params"
   ]
  },
  {
   "cell_type": "code",
   "execution_count": 45,
   "metadata": {},
   "outputs": [],
   "source": [
    "def get_learning_weights(filepath):\n",
    "    f = open(filepath,\"r\").readlines()\n",
    "    d_weights = {}\n",
    "    for i in f:\n",
    "        i = i.strip().split(\"\\t\")\n",
    "        d_weights[float(i[0])]=float(i[1])\n",
    "    return d_weights"
   ]
  },
  {
   "cell_type": "code",
   "execution_count": 46,
   "metadata": {},
   "outputs": [],
   "source": [
    "def get_kmer_from_50mer(filepath, max_seqs=None):\n",
    "    \"\"\"Load data from sequence file and returns three tensors, with max nbr sequences\"\"\"\n",
    "    f_matrix=[]\n",
    "    f_labels=[]\n",
    "    f_pos=[]\n",
    "    with open(filepath, 'r') as fp:\n",
    "        i = 0\n",
    "        while True:\n",
    "            line = fp.readline()\n",
    "            i += 1\n",
    "            # EOF\n",
    "            if line == '':\n",
    "                break\n",
    "            # Reached max number of k-mers to load from file\n",
    "            elif max_seqs is not None and i > max_seqs:\n",
    "                break\n",
    "            else:\n",
    "                seq, label, pos = line.strip().split('\\t')\n",
    "                f_matrix.append(seq)\n",
    "                f_labels.append(label)\n",
    "                f_pos.append(pos)\n",
    "    return f_matrix,f_labels,f_pos"
   ]
  },
  {
   "cell_type": "code",
   "execution_count": 47,
   "metadata": {},
   "outputs": [],
   "source": [
    "class DataGenerator_from_50mer(Sequence):\n",
    "    \"\"\"data generator for generating batches of data from 50-mers\"\"\"\n",
    "    def __init__(self, f_matrix, f_labels, f_pos, batch_size=1024,n_classes=187, shuffle=True):\n",
    "        self.batch_size = batch_size\n",
    "        self.labels = f_labels\n",
    "        self.matrix = f_matrix\n",
    "        self.pos = f_pos\n",
    "        self.n_classes = n_classes\n",
    "        self.shuffle = shuffle\n",
    "        self.on_epoch_end()\n",
    "    def __len__(self):\n",
    "        return int(np.ceil(len(self.labels) / self.batch_size))\n",
    "    def __getitem__(self, index):\n",
    "        indexes = self.indexes[index*self.batch_size:(index+1)*self.batch_size]\n",
    "        X, y= self.__data_generation(indexes)\n",
    "        return X,y\n",
    "    def on_epoch_end(self):\n",
    "        self.indexes = np.arange(len(self.labels))\n",
    "        if self.shuffle == True:\n",
    "            np.random.shuffle(self.indexes)\n",
    "    def __data_generation(self, index):\n",
    "        x_train=[]\n",
    "        for i in index:\n",
    "            seq=self.matrix[i]\n",
    "            seq_list=[j for j in seq]\n",
    "            x_train.append(seq_list)\n",
    "        x_train=np.array(x_train)\n",
    "        x_tensor=np.zeros(list(x_train.shape)+[5])\n",
    "        for row in range(len(x_train)):\n",
    "            for col in range(50):\n",
    "                x_tensor[row,col,d_nucl[x_train[row,col]]]=1\n",
    "        y_pos=[]\n",
    "        y_label=[self.labels[i] for i in index]\n",
    "        y_label=np.array(y_label)\n",
    "        y_label=to_categorical(y_label, num_classes=self.n_classes)\n",
    "        y_pos=[self.pos[i] for i in index]\n",
    "        y_pos=np.array(y_pos)\n",
    "        y_pos=to_categorical(y_pos, num_classes=10)\n",
    "        return x_tensor,{'output1': y_label, 'output2': y_pos}"
   ]
  },
  {
   "cell_type": "code",
   "execution_count": 48,
   "metadata": {},
   "outputs": [
    {
     "data": {
      "text/plain": [
       "(100000, 100000, 100000)"
      ]
     },
     "execution_count": 48,
     "metadata": {},
     "output_type": "execute_result"
    }
   ],
   "source": [
    "f_matrix, f_labels, f_pos = get_kmer_from_50mer(filepath_train, max_seqs=100_000)\n",
    "len(f_matrix), len(f_labels), len(f_pos)"
   ]
  },
  {
   "cell_type": "code",
   "execution_count": 49,
   "metadata": {},
   "outputs": [
    {
     "data": {
      "text/plain": [
       "('TCAAAATAATCAGAAATGTTGAACCTAGGGTTGGACACATAATGACCAGC', '76', '0')"
      ]
     },
     "execution_count": 49,
     "metadata": {},
     "output_type": "execute_result"
    }
   ],
   "source": [
    "i = 0\n",
    "f_matrix[i], f_labels[i], f_pos[i]"
   ]
  },
  {
   "cell_type": "markdown",
   "metadata": {},
   "source": [
    "Create the generators for training and validation using custom functions"
   ]
  },
  {
   "cell_type": "code",
   "execution_count": 50,
   "metadata": {},
   "outputs": [],
   "source": [
    "d_nucl={\"A\":0,\"C\":1,\"G\":2,\"T\":3,\"N\":4}\n",
    "f_matrix,f_labels,f_pos=get_kmer_from_50mer(filepath_train, max_seqs=100_000)\n",
    "f_matrix_val,f_labels_val,f_pos_val=get_kmer_from_50mer(filepath_val, max_seqs=20_000)\n",
    "\n",
    "params = get_params_50mer()\n",
    "d_weights=get_learning_weights(filepath_weights)\n",
    "\n",
    "training_generator = DataGenerator_from_50mer(f_matrix, f_labels, f_pos, **params)\n",
    "val_generator = DataGenerator_from_50mer(f_matrix_val, f_labels_val, f_pos_val, **params)"
   ]
  },
  {
   "cell_type": "code",
   "execution_count": 51,
   "metadata": {},
   "outputs": [
    {
     "data": {
      "text/plain": [
       "98"
      ]
     },
     "execution_count": 51,
     "metadata": {},
     "output_type": "execute_result"
    }
   ],
   "source": [
    "len(training_generator)"
   ]
  },
  {
   "cell_type": "markdown",
   "metadata": {},
   "source": [
    "Review the elements of generators"
   ]
  },
  {
   "cell_type": "code",
   "execution_count": 52,
   "metadata": {},
   "outputs": [],
   "source": [
    "tg = training_generator.__getitem__(5)"
   ]
  },
  {
   "cell_type": "code",
   "execution_count": 53,
   "metadata": {},
   "outputs": [
    {
     "data": {
      "text/plain": [
       "(2, tuple, numpy.ndarray, dict)"
      ]
     },
     "execution_count": 53,
     "metadata": {},
     "output_type": "execute_result"
    }
   ],
   "source": [
    "len(tg), type(tg), type(tg[0]), type(tg[1])"
   ]
  },
  {
   "cell_type": "code",
   "execution_count": 54,
   "metadata": {},
   "outputs": [
    {
     "name": "stdout",
     "output_type": "stream",
     "text": [
      "<class 'numpy.ndarray'> <class 'dict'>\n",
      "dict_keys(['output1', 'output2'])\n"
     ]
    }
   ],
   "source": [
    "inp, out_d = tg\n",
    "print(type(inp), type(out_d))\n",
    "print(out_d.keys())"
   ]
  },
  {
   "cell_type": "code",
   "execution_count": 55,
   "metadata": {},
   "outputs": [
    {
     "data": {
      "text/plain": [
       "((1024, 50, 5), (1024, 187), (1024, 10))"
      ]
     },
     "execution_count": 55,
     "metadata": {},
     "output_type": "execute_result"
    }
   ],
   "source": [
    "inp.shape, out_d['output1'].shape, out_d['output2'].shape"
   ]
  },
  {
   "cell_type": "code",
   "execution_count": 56,
   "metadata": {},
   "outputs": [
    {
     "data": {
      "text/plain": [
       "array([[[0., 0., 1., 0., 0.],\n",
       "        [0., 0., 1., 0., 0.],\n",
       "        [0., 1., 0., 0., 0.],\n",
       "        [0., 1., 0., 0., 0.]],\n",
       "\n",
       "       [[0., 0., 0., 1., 0.],\n",
       "        [0., 0., 0., 1., 0.],\n",
       "        [0., 0., 1., 0., 0.],\n",
       "        [0., 0., 1., 0., 0.]]])"
      ]
     },
     "execution_count": 56,
     "metadata": {},
     "output_type": "execute_result"
    }
   ],
   "source": [
    "inp[:2, :4, :]"
   ]
  },
  {
   "cell_type": "code",
   "execution_count": 57,
   "metadata": {},
   "outputs": [
    {
     "data": {
      "text/plain": [
       "array([[0., 0., 0., 0., 0., 0., 0., 0., 0., 0.],\n",
       "       [0., 0., 0., 0., 0., 0., 0., 0., 0., 0.]], dtype=float32)"
      ]
     },
     "execution_count": 57,
     "metadata": {},
     "output_type": "execute_result"
    }
   ],
   "source": [
    "out1 = out_d['output1']\n",
    "out2 = out_d['output2']\n",
    "\n",
    "out1[:2, :10]"
   ]
  },
  {
   "cell_type": "markdown",
   "metadata": {},
   "source": [
    "# Build model and review it"
   ]
  },
  {
   "cell_type": "code",
   "execution_count": 61,
   "metadata": {},
   "outputs": [
    {
     "name": "stdout",
     "output_type": "stream",
     "text": [
      "Creating CNN Model (Original)\n",
      "Model: \"model_2\"\n",
      "__________________________________________________________________________________________________\n",
      " Layer (type)                   Output Shape         Param #     Connected to                     \n",
      "==================================================================================================\n",
      " input_3 (InputLayer)           [(None, 50, 5)]      0           []                               \n",
      "                                                                                                  \n",
      " conv1d_8 (Conv1D)              (None, 50, 512)      13312       ['input_3[0][0]']                \n",
      "                                                                                                  \n",
      " batch_normalization_10 (BatchN  (None, 50, 512)     2048        ['conv1d_8[0][0]']               \n",
      " ormalization)                                                                                    \n",
      "                                                                                                  \n",
      " max_pooling1d_6 (MaxPooling1D)  (None, 25, 512)     0           ['batch_normalization_10[0][0]'] \n",
      "                                                                                                  \n",
      " conv1d_9 (Conv1D)              (None, 25, 512)      1311232     ['max_pooling1d_6[0][0]']        \n",
      "                                                                                                  \n",
      " batch_normalization_11 (BatchN  (None, 25, 512)     2048        ['conv1d_9[0][0]']               \n",
      " ormalization)                                                                                    \n",
      "                                                                                                  \n",
      " max_pooling1d_7 (MaxPooling1D)  (None, 13, 512)     0           ['batch_normalization_11[0][0]'] \n",
      "                                                                                                  \n",
      " conv1d_10 (Conv1D)             (None, 13, 1024)     3671040     ['max_pooling1d_7[0][0]']        \n",
      "                                                                                                  \n",
      " conv1d_11 (Conv1D)             (None, 13, 1024)     7341056     ['conv1d_10[0][0]']              \n",
      "                                                                                                  \n",
      " batch_normalization_12 (BatchN  (None, 13, 1024)    4096        ['conv1d_11[0][0]']              \n",
      " ormalization)                                                                                    \n",
      "                                                                                                  \n",
      " max_pooling1d_8 (MaxPooling1D)  (None, 7, 1024)     0           ['batch_normalization_12[0][0]'] \n",
      "                                                                                                  \n",
      " flatten_2 (Flatten)            (None, 7168)         0           ['max_pooling1d_8[0][0]']        \n",
      "                                                                                                  \n",
      " dense_4 (Dense)                (None, 1024)         7341056     ['flatten_2[0][0]']              \n",
      "                                                                                                  \n",
      " batch_normalization_13 (BatchN  (None, 1024)        4096        ['dense_4[0][0]']                \n",
      " ormalization)                                                                                    \n",
      "                                                                                                  \n",
      " dropout_2 (Dropout)            (None, 1024)         0           ['batch_normalization_13[0][0]'] \n",
      "                                                                                                  \n",
      " output1 (Dense)                (None, 187)          191675      ['dropout_2[0][0]']              \n",
      "                                                                                                  \n",
      " concatenate_2 (Concatenate)    (None, 1211)         0           ['dropout_2[0][0]',              \n",
      "                                                                  'output1[0][0]']                \n",
      "                                                                                                  \n",
      " dense_5 (Dense)                (None, 1024)         1241088     ['concatenate_2[0][0]']          \n",
      "                                                                                                  \n",
      " batch_normalization_14 (BatchN  (None, 1024)        4096        ['dense_5[0][0]']                \n",
      " ormalization)                                                                                    \n",
      "                                                                                                  \n",
      " output2 (Dense)                (None, 10)           10250       ['batch_normalization_14[0][0]'] \n",
      "                                                                                                  \n",
      "==================================================================================================\n",
      "Total params: 21,137,093\n",
      "Trainable params: 21,128,901\n",
      "Non-trainable params: 8,192\n",
      "__________________________________________________________________________________________________\n"
     ]
    }
   ],
   "source": [
    "model=create_model_original()\n",
    "model.summary()"
   ]
  },
  {
   "cell_type": "code",
   "execution_count": 62,
   "metadata": {},
   "outputs": [],
   "source": [
    "model.compile(\n",
    "\t  optimizer='adam',\n",
    "\t  loss={'output1':'categorical_crossentropy','output2':'categorical_crossentropy'},\n",
    "\t  metrics=['accuracy'])"
   ]
  },
  {
   "cell_type": "markdown",
   "metadata": {},
   "source": [
    "# Train for a few epochs"
   ]
  },
  {
   "cell_type": "code",
   "execution_count": 63,
   "metadata": {},
   "outputs": [
    {
     "name": "stdout",
     "output_type": "stream",
     "text": [
      "Epoch 1/5\n",
      "98/98 [==============================] - 94s 944ms/step - loss: 6.9174 - output1_loss: 4.4370 - output2_loss: 2.4804 - output1_accuracy: 0.1074 - output2_accuracy: 0.1088 - val_loss: 6.2037 - val_output1_loss: 3.9008 - val_output2_loss: 2.3029 - val_output1_accuracy: 0.1370 - val_output2_accuracy: 0.1168\n",
      "Epoch 2/5\n",
      "98/98 [==============================] - 93s 947ms/step - loss: 6.1525 - output1_loss: 3.8373 - output2_loss: 2.3152 - output1_accuracy: 0.1487 - output2_accuracy: 0.1185 - val_loss: 6.1158 - val_output1_loss: 3.7960 - val_output2_loss: 2.3198 - val_output1_accuracy: 0.1490 - val_output2_accuracy: 0.1181\n",
      "Epoch 3/5\n",
      "98/98 [==============================] - 92s 943ms/step - loss: 5.9089 - output1_loss: 3.6003 - output2_loss: 2.3087 - output1_accuracy: 0.1771 - output2_accuracy: 0.1288 - val_loss: 6.0652 - val_output1_loss: 3.7421 - val_output2_loss: 2.3230 - val_output1_accuracy: 0.1528 - val_output2_accuracy: 0.1237\n",
      "Epoch 4/5\n",
      "98/98 [==============================] - 92s 941ms/step - loss: 5.6906 - output1_loss: 3.3910 - output2_loss: 2.2997 - output1_accuracy: 0.2131 - output2_accuracy: 0.1418 - val_loss: 6.0849 - val_output1_loss: 3.7653 - val_output2_loss: 2.3196 - val_output1_accuracy: 0.1419 - val_output2_accuracy: 0.1174\n",
      "Epoch 5/5\n",
      "98/98 [==============================] - 92s 940ms/step - loss: 5.2495 - output1_loss: 2.9767 - output2_loss: 2.2728 - output1_accuracy: 0.2853 - output2_accuracy: 0.1601 - val_loss: 6.3102 - val_output1_loss: 3.9805 - val_output2_loss: 2.3297 - val_output1_accuracy: 0.1423 - val_output2_accuracy: 0.1274\n"
     ]
    }
   ],
   "source": [
    "from tensorflow.keras.callbacks import EarlyStopping\n",
    "\n",
    "es = EarlyStopping(monitor='val_loss', patience=5, restore_best_weights=True)\n",
    "\n",
    "result = model.fit(\n",
    "    training_generator,\n",
    "\tepochs=5,\n",
    "\tverbose=1,\n",
    "\tvalidation_data=val_generator,\n",
    "\tcallbacks=[es]\n",
    "\t)\n"
   ]
  },
  {
   "cell_type": "code",
   "execution_count": 67,
   "metadata": {},
   "outputs": [
    {
     "data": {
      "image/png": "[encoded data removed]",
      "text/plain": [
       "<Figure size 640x480 with 1 Axes>"
      ]
     },
     "metadata": {},
     "output_type": "display_data"
    }
   ],
   "source": [
    "import pandas as pd\n",
    "pd.DataFrame(result.history)[['val_output1_accuracy','val_output2_accuracy']].plot();"
   ]
  },
  {
   "cell_type": "code",
   "execution_count": null,
   "metadata": {},
   "outputs": [],
   "source": [
    "model.save(Path('saved_temp'))"
   ]
  },
  {
   "cell_type": "code",
   "execution_count": null,
   "metadata": {},
   "outputs": [],
   "source": [
    "from tensorflow.keras.models import load_model\n",
    "\n",
    "m = load_model(Path('saved_temp'))"
   ]
  },
  {
   "cell_type": "code",
   "execution_count": null,
   "metadata": {},
   "outputs": [
    {
     "name": "stdout",
     "output_type": "stream",
     "text": [
      "20/20 [==============================] - 2s 62ms/step - loss: 7.9567 - output1_loss: 5.5393 - output2_loss: 2.4174 - output1_accuracy: 0.1189 - output2_accuracy: 0.1263\n"
     ]
    },
    {
     "data": {
      "text/plain": [
       "[7.956679821014404,\n",
       " 5.539268970489502,\n",
       " 2.417412281036377,\n",
       " 0.11890000104904175,\n",
       " 0.12630000710487366]"
      ]
     },
     "execution_count": null,
     "metadata": {},
     "output_type": "execute_result"
    }
   ],
   "source": [
    "m.evaluate(val_generator)"
   ]
  }
 ],
 "metadata": {
  "kernelspec": {
   "display_name": "Python 3.10.6 ('metagentools')",
   "language": "python",
   "name": "python3"
  },
  "language_info": {
   "codemirror_mode": {
    "name": "ipython",
    "version": 3
   },
   "file_extension": ".py",
   "mimetype": "text/x-python",
   "name": "python",
   "nbconvert_exporter": "python",
   "pygments_lexer": "ipython3",
   "version": "3.10.6"
  },
  "vscode": {
   "interpreter": {
    "hash": "d79c725d3d254ae089d5edf9eb2dce3237f80d64dd85a8bedc17bd8054b8b312"
   }
  }
 },
 "nbformat": 4,
 "nbformat_minor": 4
}
