{
 "cells": [
  {
   "cell_type": "markdown",
   "metadata": {},
   "source": [
    "# Explore Seq2Vec - Build Code to Codon Dictionary"
   ]
  },
  {
   "cell_type": "markdown",
   "metadata": {},
   "source": [
    "# Imports and setup environment"
   ]
  },
  {
   "cell_type": "markdown",
   "metadata": {},
   "source": [
    "### Install and import packages"
   ]
  },
  {
   "cell_type": "code",
   "execution_count": 1,
   "metadata": {},
   "outputs": [
    {
     "name": "stdout",
     "output_type": "stream",
     "text": [
      "`ecutilities` already installed\n",
      "`metagentools` already installed\n"
     ]
    }
   ],
   "source": [
    "# Install required custom packages if not installed yet.\n",
    "import importlib.util\n",
    "if not importlib.util.find_spec('ecutilities'):\n",
    "    print('installing package: `ecutilities`')\n",
    "    ! pip install -qqU ecutilities\n",
    "else:\n",
    "    print('`ecutilities` already installed')\n",
    "if not importlib.util.find_spec('metagentools'):\n",
    "    print('installing package: `metagentools')\n",
    "    ! pip install -qqU metagentools\n",
    "else:\n",
    "    print('`metagentools` already installed')"
   ]
  },
  {
   "cell_type": "code",
   "execution_count": 2,
   "metadata": {},
   "outputs": [
    {
     "name": "stdout",
     "output_type": "stream",
     "text": [
      "Set autoreload mode\n"
     ]
    }
   ],
   "source": [
    "# Import all required packages\n",
    "import json\n",
    "import matplotlib.pyplot as plt\n",
    "import numpy as np\n",
    "import pandas as pd\n",
    "\n",
    "from ecutilities.core import path_to_parent_dir\n",
    "from ecutilities.ipython import nb_setup\n",
    "from itertools import product\n",
    "from pathlib import Path\n",
    "from pprint import pprint\n",
    "\n",
    "# Setup the notebook for development\n",
    "nb_setup()\n",
    "\n",
    "from metagentools.core import TextFileBaseIterator, TextFileBaseReader, ProjectFileSystem"
   ]
  },
  {
   "cell_type": "code",
   "execution_count": 6,
   "metadata": {},
   "outputs": [
    {
     "data": {
      "text/plain": [
       "(PosixPath('/home/vtec'),\n",
       " PosixPath('/home/vtec/projects/bio/metagentools'),\n",
       " PosixPath('/home/vtec/projects/bio/metagentools/data'),\n",
       " PosixPath('/home/vtec/projects/bio/metagentools/nbs'))"
      ]
     },
     "execution_count": 6,
     "metadata": {},
     "output_type": "execute_result"
    }
   ],
   "source": [
    "pfs = ProjectFileSystem()\n",
    "pfs.home, pfs.project_root, pfs.data, pfs.nbs"
   ]
  },
  {
   "cell_type": "markdown",
   "metadata": {},
   "source": [
    "## Load Training Data"
   ]
  },
  {
   "cell_type": "markdown",
   "metadata": {},
   "source": [
    "Two sequence files, with sequences of about 300 bps and aboput 500 bps. Sequences are already encoded as numbers."
   ]
  },
  {
   "cell_type": "code",
   "execution_count": 13,
   "metadata": {},
   "outputs": [
    {
     "data": {
      "text/plain": [
       "(True, True)"
      ]
     },
     "execution_count": 13,
     "metadata": {},
     "output_type": "execute_result"
    }
   ],
   "source": [
    "data_dir = pfs.data / 'virtifier/'\n",
    "\n",
    "ds_file_300 = data_dir / 'raw/train_300bp.fasta'\n",
    "ds_file_500 = data_dir / 'raw/train_500bp.fasta'\n",
    "ds_file_300.is_file(), ds_file_500.is_file(), "
   ]
  },
  {
   "cell_type": "code",
   "execution_count": 15,
   "metadata": {},
   "outputs": [
    {
     "name": "stdout",
     "output_type": "stream",
     "text": [
      "Loaded data shapes:\n",
      " - 300 bp: (9000, 298), \n",
      " - 500 bp: (9000, 498)\n"
     ]
    }
   ],
   "source": [
    "X_train_300=np.loadtxt(open(ds_file_300,\"rb\"),delimiter=\",\",skiprows=0)\n",
    "X_train_500=np.loadtxt(open(ds_file_500,\"rb\"),delimiter=\",\",skiprows=0)\n",
    "print(f\"Loaded data shapes:\\n - 300 bp: {X_train_300.shape}, \\n - 500 bp: {X_train_500.shape}\")"
   ]
  },
  {
   "cell_type": "code",
   "execution_count": 18,
   "metadata": {},
   "outputs": [
    {
     "data": {
      "text/plain": [
       "array([[46., 57., 35., 61., 16.,  6.,  9., 35., 61., 16.],\n",
       "       [ 2.,  2., 14., 16.,  6., 20., 43., 34., 24.,  2.],\n",
       "       [29., 30.,  7.,  1.,  4., 49., 52., 16., 21., 13.]])"
      ]
     },
     "execution_count": 18,
     "metadata": {},
     "output_type": "execute_result"
    }
   ],
   "source": [
    "X_train_300[:3,:10]"
   ]
  },
  {
   "cell_type": "code",
   "execution_count": 21,
   "metadata": {},
   "outputs": [
    {
     "data": {
      "text/plain": [
       "array([[46., 57., 35., 61., 16.,  6.,  9., 35., 61., 16.,  6., 14.],\n",
       "       [ 2.,  2., 14., 16.,  6., 20., 43., 34., 24.,  2.,  2.,  2.],\n",
       "       [29., 30.,  7.,  1.,  4., 49., 52., 16., 21., 13.,  5.,  6.],\n",
       "       [35., 61., 13.,  4., 10.,  3.,  1.,  5., 19., 58., 59., 60.],\n",
       "       [37., 59., 24.,  2.,  2.,  9., 58., 42., 26., 38., 32., 33.]])"
      ]
     },
     "execution_count": 21,
     "metadata": {},
     "output_type": "execute_result"
    }
   ],
   "source": [
    "X_train_300[:5, :12]"
   ]
  },
  {
   "cell_type": "markdown",
   "metadata": {},
   "source": [
    "## Build code to codon dictionary"
   ]
  },
  {
   "cell_type": "markdown",
   "metadata": {},
   "source": [
    "Recover codons from numerical codes. Encoding from  the original code in [Seq2Vec](https://github.com/crazyinter/Seq2Vec/blob/165b2abb1cbc792c1a67f61cb6bc7f07cd38ce2b/preprocessing.py#L7):\n",
    "\n",
    "```shell\n",
    "(\"AAA\",\"1\"),  (\"TTT\",\"2\"),  (\"GAA\",\"3\"),  (\"AAG\",\"4\"),  (\"AAT\",\"5\"),  (\"ATT\",\"6\"),  (\"CAA\",\"7\"),  (\"TGA\",\"8\"),  (\"TTC\",\"9\"), (\"AGA\",\"10\"), \n",
    "(\"GAT\",\"11\"), (\"AAC\",\"12\"), (\"TAA\",\"13\"), (\"TTA\",\"14\"), (\"TCA\",\"15\"), (\"TAT\",\"16\"), (\"ATG\",\"17\"), (\"TGG\",\"18\"), (\"ATC\",\"19\"), \n",
    "(\"TTG\",\"20\"), (\"ATA\",\"21\"), (\"GTT\",\"22\"), (\"CTG\",\"23\"), (\"CTT\",\"24\"), (\"ACA\",\"25\"), (\"CAG\",\"26\"), (\"CGA\",\"27\"), (\"GGT\",\"28\"), \n",
    "(\"GGC\",\"29\"), (\"GCA\",\"30\"), (\"CAT\",\"31\"), (\"GCG\",\"32\"), (\"CGC\",\"33\"), (\"GCT\",\"34\"), (\"TCT\",\"35\"), (\"TCG\",\"36\"), (\"ACC\",\"37\"), \n",
    "(\"AGC\",\"38\"), (\"CGG\",\"39\"), (\"GAC\",\"40\"), (\"CCG\",\"41\"), (\"CCA\",\"42\"), (\"TGC\",\"43\"), (\"ACG\",\"44\"), (\"GGA\",\"45\"), (\"TGT\",\"46\"), \n",
    "(\"ACT\",\"47\"), (\"TAC\",\"48\"), (\"AGT\",\"49\"), (\"GCC\",\"50\"), (\"GAG\",\"51\"), (\"GTA\",\"52\"), (\"GTG\",\"53\"), (\"AGG\",\"54\"), (\"CGT\",\"55\"), \n",
    "(\"CAC\",\"56\"), (\"GTC\",\"57\"), (\"TCC\",\"58\"), (\"CCT\",\"59\"), (\"CTC\",\"60\"), (\"CTA\",\"61\"), (\"GGG\",\"62\"), (\"TAG\",\"63\"), (\"CCC\",\"64\")\n",
    "```"
   ]
  },
  {
   "cell_type": "code",
   "execution_count": null,
   "metadata": {},
   "outputs": [
    {
     "data": {
      "text/plain": [
       "['Unknown', 'AAA', 'TTT', 'GAA', 'AAG']"
      ]
     },
     "execution_count": null,
     "metadata": {},
     "output_type": "execute_result"
    }
   ],
   "source": [
    "c = '\"AAA\",\"1\").replace(\"TTT\",\"2\").replace(\"GAA\",\"3\").replace(\"AAG\",\"4\").replace(\"AAT\",\"5\").replace(\"ATT\",\"6\").replace(\"CAA\",\"7\").replace(\"TGA\",\"8\").replace(\"TTC\",\"9\").replace(\"AGA\",\"10\").replace(\"GAT\",\"11\").replace(\"AAC\",\"12\").replace(\"TAA\",\"13\").replace(\"TTA\",\"14\").replace(\"TCA\",\"15\").replace(\"TAT\",\"16\").replace(\"ATG\",\"17\").replace(\"TGG\",\"18\").replace(\"ATC\",\"19\").replace(\"TTG\",\"20\").replace(\"ATA\",\"21\").replace(\"GTT\",\"22\").replace(\"CTG\",\"23\").replace(\"CTT\",\"24\").replace(\"ACA\",\"25\").replace(\"CAG\",\"26\").replace(\"CGA\",\"27\").replace(\"GGT\",\"28\").replace(\"GGC\",\"29\").replace(\"GCA\",\"30\").replace(\"CAT\",\"31\").replace(\"GCG\",\"32\").replace(\"CGC\",\"33\").replace(\"GCT\",\"34\").replace(\"TCT\",\"35\").replace(\"TCG\",\"36\").replace(\"ACC\",\"37\").replace(\"AGC\",\"38\").replace(\"CGG\",\"39\").replace(\"GAC\",\"40\").replace(\"CCG\",\"41\").replace(\"CCA\",\"42\").replace(\"TGC\",\"43\").replace(\"ACG\",\"44\").replace(\"GGA\",\"45\").replace(\"TGT\",\"46\").replace(\"ACT\",\"47\").replace(\"TAC\",\"48\").replace(\"AGT\",\"49\").replace(\"GCC\",\"50\").replace(\"GAG\",\"51\").replace(\"GTA\",\"52\").replace(\"GTG\",\"53\").replace(\"AGG\",\"54\").replace(\"CGT\",\"55\").replace(\"CAC\",\"56\").replace(\"GTC\",\"57\").replace(\"TCC\",\"58\").replace(\"CCT\",\"59\").replace(\"CTC\",\"60\").replace(\"CTA\",\"61\").replace(\"GGG\",\"62\").replace(\"TAG\",\"63\").replace(\"CCC\",\"64\"'\n",
    "\n",
    "code_pattern_to_replace = ').replace('\n",
    "c = c.replace('        ', '').replace(code_pattern_to_replace, ';').replace('\",\"', '\",') #.replace('\";', ';')\n",
    "c.split(';')\n",
    "codon2number = {s[1:4]:int(s[6:-1]) for s in c.split(';')}\n",
    "codon2number['Unknown'] = 0\n",
    "# print([v for k, v in codon2number.items()])\n",
    "# pprint(codon2number)\n",
    "\n",
    "number2codon = ['Unknown']\n",
    "number2codon.extend([s[1:4] for s in c.split(';')])\n",
    "\n",
    "number2codon[:5]"
   ]
  },
  {
   "cell_type": "markdown",
   "metadata": {},
   "source": [
    "Save dictionary as json file"
   ]
  },
  {
   "cell_type": "code",
   "execution_count": null,
   "metadata": {},
   "outputs": [
    {
     "name": "stdout",
     "output_type": "stream",
     "text": [
      "Saved /home/vtec/projects/bio/metagentools/data/virtifier/processed/seq2vec_codon2codes.json\n"
     ]
    }
   ],
   "source": [
    "json_fname = data_dir /  'processed/seq2vec_codon2codes.json'\n",
    "\n",
    "# Testing that codon2number is a proper dictionary\n",
    "# \n",
    "# 1. All codes from 0 to 64 are included in the dictionary\n",
    "assert set(codon2number.values()).difference(set(range(65))) == set()\n",
    "\n",
    "# 2. dictionary keys include each of the possible 3 letter codons\n",
    "full_codon_set = set([''.join(t) for t in product('ACGT', repeat=3)])\n",
    "assert full_codon_set.difference(set(codon2number.keys())) == set()\n",
    "\n",
    "# 3. Dictionary keys also include a code for \"Unknow\"\n",
    "assert set(codon2number.keys()).difference(full_codon_set) == {'Unknown'}\n",
    "\n",
    "with open(json_fname, 'w') as fp:\n",
    "    json.dump(codon2number, fp, indent=4)  \n",
    "    print(f\"Saved {json_fname}\")"
   ]
  },
  {
   "cell_type": "markdown",
   "metadata": {},
   "source": [
    "## Convert sequence in number into letters"
   ]
  },
  {
   "cell_type": "code",
   "execution_count": null,
   "metadata": {},
   "outputs": [
    {
     "name": "stdout",
     "output_type": "stream",
     "text": [
      "(9000, 298)\n",
      "(9000, 498)\n"
     ]
    },
    {
     "data": {
      "text/plain": [
       "array([[46., 57., 35., 61., 16.,  6.,  9., 35., 61., 16.],\n",
       "       [ 2.,  2., 14., 16.,  6., 20., 43., 34., 24.,  2.],\n",
       "       [29., 30.,  7.,  1.,  4., 49., 52., 16., 21., 13.],\n",
       "       [35., 61., 13.,  4., 10.,  3.,  1.,  5., 19., 58.],\n",
       "       [37., 59., 24.,  2.,  2.,  9., 58., 42., 26., 38.]])"
      ]
     },
     "execution_count": null,
     "metadata": {},
     "output_type": "execute_result"
    }
   ],
   "source": [
    "print(X_train_300.shape)\n",
    "print(X_train_500.shape)\n",
    "X_train_300[:5,:10]"
   ]
  },
  {
   "cell_type": "code",
   "execution_count": null,
   "metadata": {},
   "outputs": [
    {
     "data": {
      "text/plain": [
       "['TGT', 'GTC', 'TCT', 'CTA', 'TAT', 'ATT', 'TTC', 'TCT', 'CTA', 'TAT']"
      ]
     },
     "execution_count": null,
     "metadata": {},
     "output_type": "execute_result"
    }
   ],
   "source": [
    "seq_nbr = 0\n",
    "\n",
    "[number2codon[int(i)] for i in X_train_300[seq_nbr, :]][:10]"
   ]
  },
  {
   "cell_type": "markdown",
   "metadata": {},
   "source": [
    "Sequences encoding:\n",
    "1. TGTCTATTCTA... is split in overlapping codons with stride 1:\n",
    "    - 'TGT', 'GTC', 'TCT', 'CTA', 'TAT', 'ATT', 'TTC', 'TCT', 'CTA', ...\n",
    "2. Then encoded into numbers:\n",
    "    - 46., 57., 35., 61., 16.,  6.,  9., 35., 61., ..."
   ]
  },
  {
   "cell_type": "code",
   "execution_count": null,
   "metadata": {},
   "outputs": [
    {
     "data": {
      "text/plain": [
       "['T', 'G', 'T', 'C', 'T', 'A', 'T', 'T', 'C', 'T']"
      ]
     },
     "execution_count": null,
     "metadata": {},
     "output_type": "execute_result"
    }
   ],
   "source": [
    "[number2codon[int(i)][0] for i in X_train_300[seq_nbr, :]][:10]"
   ]
  },
  {
   "cell_type": "markdown",
   "metadata": {},
   "source": [
    "to get the initial sequence, without repetition:\n",
    "- decode each codon in encoded sequence\n",
    "- keep only the first letter\n",
    "- add the last two letters of the last codon"
   ]
  },
  {
   "cell_type": "code",
   "execution_count": null,
   "metadata": {},
   "outputs": [
    {
     "data": {
      "text/plain": [
       "'T-G-T-C-T-A-T-T-C-T-A-T-T-A-T-A-T-T-A-T-A-T-A-G-A-C-G-G-A-T-T-A-G-T-C-T-C-A-A-A-C-C-T-T-T-G-A-T-A-T-T-A-A-A-A-G-G-T-T-T-G-A-G-T-T-T-T-T-T-A-T-T-T-T-T-A-T-C-T-A-A-C-A-A-T-A-G-A-A-T-T-A-A-C-A-G-A-G-T-T-T-T-T-A-A-C-A-G-A-G-T-T-C-T-A-T-T-T-T-A-A-A-A-G-T-T-G-G-C-A-T-A-C-T-T-A-G-T-A-A-A-T-A-G-T-T-C-A-A-G-C-T-C-T-T-T-A-T-T-C-T-T-C-T-T-T-T-C-G-G-G-C-T-C-A-A-G-A-T-G-T-G-A-G-T-A-T-A-G-G-T-C-C-A-T-A-G-T-C-A-A-T-T-G-C-A-A-C-T-T-T-G-A-A-T-G-A-C-C-T-A-G-C-C-T-T-T-C-T-T-G-A-A-T-C-A-C-T-T-T-A-T-A-A-C-T-C-A-T-T-T-C-A-G-C-A-T-T-T-A-A-A-C-A-A-A-G-G-C-T-A-G-C-G-T-G-T-G-A-A-C-G-C-C-T-G-A-A-T-C-C-A-T-G-A-A-A-G-CT'"
      ]
     },
     "execution_count": null,
     "metadata": {},
     "output_type": "execute_result"
    }
   ],
   "source": [
    "seq_len = X_train_300.shape[1]\n",
    "\"-\".join([number2codon[int(i)][0] for i in X_train_300[seq_nbr, :]]) + '-' + number2codon[int(X_train_300[seq_nbr, seq_len-1])][1:]"
   ]
  },
  {
   "cell_type": "code",
   "execution_count": null,
   "metadata": {},
   "outputs": [
    {
     "name": "stdout",
     "output_type": "stream",
     "text": [
      "TGTCTATTCTATTATATTATATAGACGGATTAGTCTCAAACCTTTGATATTAAAAGGTTTGAGTTTTTTATTTTTATCTAACAATAGAATTAACAGAGTTTTTAACAGAGTTCTATTTTAAAAGTTGGCATACTTAGTAAATAGTTCAAGCTCTTTATTCTTCTTTTCGGGCTCAAGATGTGAGTATAGGTCCATAGTCAATTGCAACTTTGAATGACCTAGCCTTTCTTGAATCACTTTATAACTCATTTCAGCATTTAAACAAAGGCTAGCGTGTGAACGCCTGAATCCATGAAAGCT\n"
     ]
    },
    {
     "data": {
      "text/plain": [
       "300"
      ]
     },
     "execution_count": null,
     "metadata": {},
     "output_type": "execute_result"
    }
   ],
   "source": [
    "def decode_sequence(seq):\n",
    "    \"\"\"Takes a sequence encoded for Seq2Vec (stride 1) and recover the initial sequence as a letter string\"\"\"\n",
    "    if isinstance(seq, list):\n",
    "        seq = np.array(seq)\n",
    "    elif seq.ndim > 1:\n",
    "        raise ValueError('seq should be a list or a 1D np.array')\n",
    "    seq_len = seq.shape[0]\n",
    "    sep = ''\n",
    "    s = sep.join([number2codon[int(i)][0] for i in seq]) + sep + number2codon[int(seq[seq_len-1])][1:]\n",
    "    return s\n",
    "\n",
    "seq_decoded = decode_sequence(X_train_300[seq_nbr, :])\n",
    "print(seq_decoded)\n",
    "len(seq_decoded)"
   ]
  },
  {
   "cell_type": "code",
   "execution_count": null,
   "metadata": {},
   "outputs": [
    {
     "name": "stdout",
     "output_type": "stream",
     "text": [
      "TGTCTATTCTATTATATTATATAGACGGATTAGTCTCAAACCTTTGATATTAAAAGGTTTGAGTTTTTTATTTTTATCTAACAATAGAATTAACAGAGTTTTTAACAGAGTTCTATTTTAAAAGTTGGCATACTTAGTAAATAGTTCAAGCTCTTTATTCTTCTTTTCGGGCTCAAGATGTGAGTATAGGTCCATAGTCAATTGCAACTTTGAATGACCTAGCCTTTCTTGAATCACTTTATAACTCATTTCAGCATTTAAACAAAGGCTAGCGTGTGAACGCCTGAATCCATGAAAGCTCAACAACGGCAGTTCAGCATTTTTGATTATATTATTCAGCTTGTAGATAAGGTTGTGATAATCCATCACTCCACCTTCTATTTTTGGAAATACTAGGTTTTGTTGTGGATTTCCTAACTTCATAAAGTGTTTCTTTTGAAAGAAGTACCAGCTTTTTAATACATAAATTGCCTTATCGTCAATGCTAATAATTCGATTGC\n"
     ]
    },
    {
     "data": {
      "text/plain": [
       "500"
      ]
     },
     "execution_count": null,
     "metadata": {},
     "output_type": "execute_result"
    }
   ],
   "source": [
    "seq_decoded = decode_sequence(X_train_500[seq_nbr, :])\n",
    "print(seq_decoded)\n",
    "len(seq_decoded)"
   ]
  },
  {
   "cell_type": "code",
   "execution_count": null,
   "metadata": {},
   "outputs": [],
   "source": []
  },
  {
   "cell_type": "markdown",
   "metadata": {},
   "source": [
    "# Embedding Matrix"
   ]
  },
  {
   "cell_type": "markdown",
   "metadata": {},
   "source": [
    "```\n",
    ",0,1,2,3,4,5,6,7,8,9,10,11,12,13,14,15,16,17,18,19\n",
    "0,-0.25005418,0.059795063,0.009158412,-0.4391078,-0.09833209, ... ,-0.19221346,0.23508973,-0.07497623,-0.29959005,0.24146456\n",
    "1,-0.08675727,0.060839232,-0.07424304,-0.37983173,-0.25841987, ...,-0.24511199,-0.083285585,-0.24021326,0.062484346,0.4966392\n",
    "```"
   ]
  },
  {
   "cell_type": "code",
   "execution_count": null,
   "metadata": {},
   "outputs": [
    {
     "name": "stdout",
     "output_type": "stream",
     "text": [
      "(65, 20)\n"
     ]
    },
    {
     "data": {
      "text/plain": [
       "array([[-0.25005418,  0.05979506,  0.00915841, -0.4391078 , -0.09833209],\n",
       "       [-0.08675727,  0.06083923, -0.07424304, -0.37983173, -0.25841987]])"
      ]
     },
     "metadata": {},
     "output_type": "display_data"
    },
    {
     "data": {
      "text/plain": [
       "array([[-0.19221346,  0.23508973, -0.07497623, -0.29959005,  0.24146456],\n",
       "       [-0.24511199, -0.08328558, -0.24021326,  0.06248435,  0.4966392 ]])"
      ]
     },
     "metadata": {},
     "output_type": "display_data"
    },
    {
     "data": {
      "text/plain": [
       "array([[-0.23886187,  0.00119262, -0.25492588, -0.2362128 ,  0.00675272],\n",
       "       [-0.52064896,  0.167717  , -0.19897348, -0.295527  ,  0.04861289]])"
      ]
     },
     "metadata": {},
     "output_type": "display_data"
    }
   ],
   "source": [
    "embedding_file = data_dir /'raw/embedding_matrix.csv'\n",
    "assert embedding_file.is_file()\n",
    "\n",
    "embedding_matrix = np.loadtxt(open(embedding_file,\"rb\"), delimiter=\",\",skiprows=1, usecols=range(1, 21))\n",
    "print(embedding_matrix.shape)\n",
    "display(embedding_matrix[:2,0:5])\n",
    "display(embedding_matrix[:2,-5:])\n",
    "display(embedding_matrix[-2:,-5:])"
   ]
  },
  {
   "cell_type": "code",
   "execution_count": null,
   "metadata": {},
   "outputs": [
    {
     "data": {
      "text/html": [
       "<div>\n",
       "<style scoped>\n",
       "    .dataframe tbody tr th:only-of-type {\n",
       "        vertical-align: middle;\n",
       "    }\n",
       "\n",
       "    .dataframe tbody tr th {\n",
       "        vertical-align: top;\n",
       "    }\n",
       "\n",
       "    .dataframe thead th {\n",
       "        text-align: right;\n",
       "    }\n",
       "</style>\n",
       "<table border=\"1\" class=\"dataframe\">\n",
       "  <thead>\n",
       "    <tr style=\"text-align: right;\">\n",
       "      <th></th>\n",
       "      <th>0</th>\n",
       "      <th>1</th>\n",
       "      <th>2</th>\n",
       "      <th>3</th>\n",
       "      <th>4</th>\n",
       "      <th>5</th>\n",
       "      <th>6</th>\n",
       "      <th>7</th>\n",
       "      <th>8</th>\n",
       "      <th>9</th>\n",
       "      <th>10</th>\n",
       "      <th>11</th>\n",
       "      <th>12</th>\n",
       "      <th>13</th>\n",
       "      <th>14</th>\n",
       "      <th>15</th>\n",
       "      <th>16</th>\n",
       "      <th>17</th>\n",
       "      <th>18</th>\n",
       "      <th>19</th>\n",
       "    </tr>\n",
       "  </thead>\n",
       "  <tbody>\n",
       "    <tr>\n",
       "      <th>Unknown</th>\n",
       "      <td>-0.250054</td>\n",
       "      <td>0.059795</td>\n",
       "      <td>0.009158</td>\n",
       "      <td>-0.439108</td>\n",
       "      <td>-0.098332</td>\n",
       "      <td>0.185745</td>\n",
       "      <td>-0.196381</td>\n",
       "      <td>0.404267</td>\n",
       "      <td>-0.005326</td>\n",
       "      <td>0.160307</td>\n",
       "      <td>0.210252</td>\n",
       "      <td>-0.246796</td>\n",
       "      <td>0.190436</td>\n",
       "      <td>-0.074880</td>\n",
       "      <td>-0.276083</td>\n",
       "      <td>-0.192213</td>\n",
       "      <td>0.235090</td>\n",
       "      <td>-0.074976</td>\n",
       "      <td>-0.299590</td>\n",
       "      <td>0.241465</td>\n",
       "    </tr>\n",
       "    <tr>\n",
       "      <th>AAA</th>\n",
       "      <td>-0.086757</td>\n",
       "      <td>0.060839</td>\n",
       "      <td>-0.074243</td>\n",
       "      <td>-0.379832</td>\n",
       "      <td>-0.258420</td>\n",
       "      <td>-0.087894</td>\n",
       "      <td>-0.167048</td>\n",
       "      <td>0.222247</td>\n",
       "      <td>-0.006491</td>\n",
       "      <td>0.007524</td>\n",
       "      <td>0.175967</td>\n",
       "      <td>-0.185069</td>\n",
       "      <td>0.253603</td>\n",
       "      <td>-0.136537</td>\n",
       "      <td>-0.404523</td>\n",
       "      <td>-0.245112</td>\n",
       "      <td>-0.083286</td>\n",
       "      <td>-0.240213</td>\n",
       "      <td>0.062484</td>\n",
       "      <td>0.496639</td>\n",
       "    </tr>\n",
       "    <tr>\n",
       "      <th>TTT</th>\n",
       "      <td>-0.425821</td>\n",
       "      <td>0.261430</td>\n",
       "      <td>-0.061543</td>\n",
       "      <td>-0.058999</td>\n",
       "      <td>-0.020832</td>\n",
       "      <td>-0.003754</td>\n",
       "      <td>0.080069</td>\n",
       "      <td>0.069302</td>\n",
       "      <td>0.111467</td>\n",
       "      <td>0.046123</td>\n",
       "      <td>0.149116</td>\n",
       "      <td>-0.259215</td>\n",
       "      <td>0.188353</td>\n",
       "      <td>0.034878</td>\n",
       "      <td>-0.386942</td>\n",
       "      <td>-0.316909</td>\n",
       "      <td>0.402015</td>\n",
       "      <td>-0.251909</td>\n",
       "      <td>-0.338319</td>\n",
       "      <td>0.032208</td>\n",
       "    </tr>\n",
       "    <tr>\n",
       "      <th>GAA</th>\n",
       "      <td>-0.045727</td>\n",
       "      <td>0.044461</td>\n",
       "      <td>-0.153420</td>\n",
       "      <td>-0.254663</td>\n",
       "      <td>-0.199528</td>\n",
       "      <td>-0.259784</td>\n",
       "      <td>-0.132734</td>\n",
       "      <td>0.444870</td>\n",
       "      <td>0.161986</td>\n",
       "      <td>0.146042</td>\n",
       "      <td>0.147589</td>\n",
       "      <td>-0.154322</td>\n",
       "      <td>0.260501</td>\n",
       "      <td>-0.014606</td>\n",
       "      <td>0.021609</td>\n",
       "      <td>0.029186</td>\n",
       "      <td>0.079643</td>\n",
       "      <td>-0.347668</td>\n",
       "      <td>-0.141596</td>\n",
       "      <td>0.524300</td>\n",
       "    </tr>\n",
       "    <tr>\n",
       "      <th>AAG</th>\n",
       "      <td>-0.033699</td>\n",
       "      <td>-0.121312</td>\n",
       "      <td>-0.023058</td>\n",
       "      <td>-0.374022</td>\n",
       "      <td>-0.521882</td>\n",
       "      <td>0.163355</td>\n",
       "      <td>-0.132236</td>\n",
       "      <td>0.179604</td>\n",
       "      <td>0.009331</td>\n",
       "      <td>0.196445</td>\n",
       "      <td>-0.027424</td>\n",
       "      <td>-0.141101</td>\n",
       "      <td>0.367374</td>\n",
       "      <td>-0.384175</td>\n",
       "      <td>-0.056314</td>\n",
       "      <td>-0.090067</td>\n",
       "      <td>-0.152333</td>\n",
       "      <td>-0.240178</td>\n",
       "      <td>-0.104698</td>\n",
       "      <td>0.223395</td>\n",
       "    </tr>\n",
       "  </tbody>\n",
       "</table>\n",
       "</div>"
      ],
      "text/plain": [
       "               0         1         2         3         4         5         6   \\\n",
       "Unknown -0.250054  0.059795  0.009158 -0.439108 -0.098332  0.185745 -0.196381   \n",
       "AAA     -0.086757  0.060839 -0.074243 -0.379832 -0.258420 -0.087894 -0.167048   \n",
       "TTT     -0.425821  0.261430 -0.061543 -0.058999 -0.020832 -0.003754  0.080069   \n",
       "GAA     -0.045727  0.044461 -0.153420 -0.254663 -0.199528 -0.259784 -0.132734   \n",
       "AAG     -0.033699 -0.121312 -0.023058 -0.374022 -0.521882  0.163355 -0.132236   \n",
       "\n",
       "               7         8         9         10        11        12        13  \\\n",
       "Unknown  0.404267 -0.005326  0.160307  0.210252 -0.246796  0.190436 -0.074880   \n",
       "AAA      0.222247 -0.006491  0.007524  0.175967 -0.185069  0.253603 -0.136537   \n",
       "TTT      0.069302  0.111467  0.046123  0.149116 -0.259215  0.188353  0.034878   \n",
       "GAA      0.444870  0.161986  0.146042  0.147589 -0.154322  0.260501 -0.014606   \n",
       "AAG      0.179604  0.009331  0.196445 -0.027424 -0.141101  0.367374 -0.384175   \n",
       "\n",
       "               14        15        16        17        18        19  \n",
       "Unknown -0.276083 -0.192213  0.235090 -0.074976 -0.299590  0.241465  \n",
       "AAA     -0.404523 -0.245112 -0.083286 -0.240213  0.062484  0.496639  \n",
       "TTT     -0.386942 -0.316909  0.402015 -0.251909 -0.338319  0.032208  \n",
       "GAA      0.021609  0.029186  0.079643 -0.347668 -0.141596  0.524300  \n",
       "AAG     -0.056314 -0.090067 -0.152333 -0.240178 -0.104698  0.223395  "
      ]
     },
     "execution_count": null,
     "metadata": {},
     "output_type": "execute_result"
    }
   ],
   "source": [
    "embedding_df = pd.DataFrame(embedding_matrix, index=number2codon)\n",
    "embedding_df.head()"
   ]
  },
  {
   "cell_type": "code",
   "execution_count": null,
   "metadata": {},
   "outputs": [],
   "source": []
  },
  {
   "cell_type": "markdown",
   "metadata": {},
   "source": [
    "# Review CAMI information"
   ]
  },
  {
   "cell_type": "code",
   "execution_count": 26,
   "metadata": {},
   "outputs": [
    {
     "data": {
      "text/plain": [
       "(True, True)"
      ]
     },
     "execution_count": 26,
     "metadata": {},
     "output_type": "execute_result"
    }
   ],
   "source": [
    "fasta_single = pfs.data / 'cami/gold_standard_high_single-288-seq.fasta'\n",
    "fasta_assy =  pfs.data / 'cami/gold_standard_high_assy-398-seq.fasta'\n",
    "fasta_assy.is_file(), fasta_single.is_file()"
   ]
  },
  {
   "cell_type": "code",
   "execution_count": 27,
   "metadata": {},
   "outputs": [
    {
     "name": "stdout",
     "output_type": "stream",
     "text": [
      "Read all sequences\n"
     ]
    },
    {
     "data": {
      "text/html": [
       "<div>\n",
       "<style scoped>\n",
       "    .dataframe tbody tr th:only-of-type {\n",
       "        vertical-align: middle;\n",
       "    }\n",
       "\n",
       "    .dataframe tbody tr th {\n",
       "        vertical-align: top;\n",
       "    }\n",
       "\n",
       "    .dataframe thead th {\n",
       "        text-align: right;\n",
       "    }\n",
       "</style>\n",
       "<table border=\"1\" class=\"dataframe\">\n",
       "  <thead>\n",
       "    <tr style=\"text-align: right;\">\n",
       "      <th></th>\n",
       "      <th>SeqID</th>\n",
       "      <th>Sequence</th>\n",
       "      <th>Prefix</th>\n",
       "    </tr>\n",
       "  </thead>\n",
       "  <tbody>\n",
       "    <tr>\n",
       "      <th>0</th>\n",
       "      <td>C0</td>\n",
       "      <td>GGCCGACTGGGACATCATCGCCAAGAGCGTGTTCGACCGCCTCGTC...</td>\n",
       "      <td>RH|P|</td>\n",
       "    </tr>\n",
       "    <tr>\n",
       "      <th>1</th>\n",
       "      <td>C1</td>\n",
       "      <td>TGTTTATCTATTTTACCCAGATCGGAGCTTTTTAAAAAATTTATTT...</td>\n",
       "      <td>RH|P|</td>\n",
       "    </tr>\n",
       "    <tr>\n",
       "      <th>2</th>\n",
       "      <td>C2</td>\n",
       "      <td>AACTATGGAACTTTTTGAAGAGGTTTCTACATATTTAAAAGGGTTT...</td>\n",
       "      <td>RH|P|</td>\n",
       "    </tr>\n",
       "    <tr>\n",
       "      <th>3</th>\n",
       "      <td>C3</td>\n",
       "      <td>AACCGGAGGGACCGCTTCCGGGGTTCTTCCCGTACCGGCATCGACA...</td>\n",
       "      <td>RH|P|</td>\n",
       "    </tr>\n",
       "    <tr>\n",
       "      <th>4</th>\n",
       "      <td>C4</td>\n",
       "      <td>TCCCGCGCGCGCCATTCGCCATGCCGGAGTCCTTGTCGGTGATGGC...</td>\n",
       "      <td>RH|P|</td>\n",
       "    </tr>\n",
       "    <tr>\n",
       "      <th>5</th>\n",
       "      <td>C5</td>\n",
       "      <td>GGGTTGGACGGGTTTGAGAGTAGCTCGTCGAGGGCTTCGGCGGGTT...</td>\n",
       "      <td>RH|P|</td>\n",
       "    </tr>\n",
       "    <tr>\n",
       "      <th>6</th>\n",
       "      <td>C6</td>\n",
       "      <td>CaccAGTTCGCTCTGGCTGTTGGCGCCCTCGAAACGGATGGGGGCG...</td>\n",
       "      <td>RH|P|</td>\n",
       "    </tr>\n",
       "    <tr>\n",
       "      <th>7</th>\n",
       "      <td>C7</td>\n",
       "      <td>CCGCATGAGCGCGGCATACATCGATACCTTGCGCTAAGGCGCAGGG...</td>\n",
       "      <td>RH|P|</td>\n",
       "    </tr>\n",
       "    <tr>\n",
       "      <th>8</th>\n",
       "      <td>C8</td>\n",
       "      <td>TCGCTTGGCCGCCGACAAGGGCTACGACGCCGACTGGCTCCGGGCC...</td>\n",
       "      <td>RH|P|</td>\n",
       "    </tr>\n",
       "    <tr>\n",
       "      <th>9</th>\n",
       "      <td>C9</td>\n",
       "      <td>ACATGAAGTTGAAGAGAGCCAGCTTCCACTGAAATAAGTGTGAAGG...</td>\n",
       "      <td>RH|P|</td>\n",
       "    </tr>\n",
       "  </tbody>\n",
       "</table>\n",
       "</div>"
      ],
      "text/plain": [
       "  SeqID                                           Sequence Prefix\n",
       "0    C0  GGCCGACTGGGACATCATCGCCAAGAGCGTGTTCGACCGCCTCGTC...  RH|P|\n",
       "1    C1  TGTTTATCTATTTTACCCAGATCGGAGCTTTTTAAAAAATTTATTT...  RH|P|\n",
       "2    C2  AACTATGGAACTTTTTGAAGAGGTTTCTACATATTTAAAAGGGTTT...  RH|P|\n",
       "3    C3  AACCGGAGGGACCGCTTCCGGGGTTCTTCCCGTACCGGCATCGACA...  RH|P|\n",
       "4    C4  TCCCGCGCGCGCCATTCGCCATGCCGGAGTCCTTGTCGGTGATGGC...  RH|P|\n",
       "5    C5  GGGTTGGACGGGTTTGAGAGTAGCTCGTCGAGGGCTTCGGCGGGTT...  RH|P|\n",
       "6    C6  CaccAGTTCGCTCTGGCTGTTGGCGCCCTCGAAACGGATGGGGGCG...  RH|P|\n",
       "7    C7  CCGCATGAGCGCGGCATACATCGATACCTTGCGCTAAGGCGCAGGG...  RH|P|\n",
       "8    C8  TCGCTTGGCCGCCGACAAGGGCTACGACGCCGACTGGCTCCGGGCC...  RH|P|\n",
       "9    C9  ACATGAAGTTGAAGAGAGCCAGCTTCCACTGAAATAAGTGTGAAGG...  RH|P|"
      ]
     },
     "execution_count": 27,
     "metadata": {},
     "output_type": "execute_result"
    }
   ],
   "source": [
    "with open(fasta_assy, 'r') as fp:\n",
    "    seq_id = []\n",
    "    sequences = []\n",
    "    while True:\n",
    "        line = fp.readline()\n",
    "        if line == '':\n",
    "            print('Read all sequences')\n",
    "            break\n",
    "        elif line[0] == '>':\n",
    "            seq_id.append(line[1:-1])\n",
    "        else:\n",
    "            sequences.append(line[:-1])\n",
    "\n",
    "fasta_df = pd.DataFrame({'SeqID': seq_id, 'Sequence': sequences})\n",
    "fasta_df['Prefix'] = fasta_df.SeqID.str.slice(0,5)\n",
    "fasta_df['SeqID'] = fasta_df.SeqID.str.slice(5)\n",
    "fasta_df.head(10)"
   ]
  },
  {
   "cell_type": "code",
   "execution_count": 28,
   "metadata": {},
   "outputs": [
    {
     "data": {
      "text/plain": [
       "True"
      ]
     },
     "execution_count": 28,
     "metadata": {},
     "output_type": "execute_result"
    }
   ],
   "source": [
    "profile_pool = pfs.data / 'cami/goldstandard_high_pool.profile'\n",
    "profile_pool.is_file()"
   ]
  },
  {
   "cell_type": "code",
   "execution_count": 29,
   "metadata": {},
   "outputs": [
    {
     "name": "stdout",
     "output_type": "stream",
     "text": [
      "@SampleID:\n",
      "@Version:0.9.1\n",
      "@Ranks:superkingdom|phylum|class|order|family|genus|species|strain\n",
      "\n",
      "@@TAXID\tRANK\tTAXPATH\tTAXPATHSN\tPERCENTAGE\t_CAMI_genomeID\t_CAMI_OTU\n",
      "2157\tsuperkingdom\t2157\tArchaea\t0.3353\t\t\n",
      "2\tsuperkingdom\t2\tBacteria\t28.2362\t\t\n",
      "976\tphylum\t2|976\tBacteria|Bacteroidetes\t2.9050\t\t\n",
      "1224\tphylum\t2|1224\tBacteria|Proteobacteria\t14.6433\t\t\n",
      "203691\tphylum\t2|203691\tBacteria|Spirochaetes\t0.1037\t\t\n",
      "544448\tphylum\t2|544448\tBacteria|Tenericutes\t0.1024\t\t\n",
      "74201\tphylum\t2|74201\tBacteria|Verrucomicrobia\t0.1410\t\t\n"
     ]
    }
   ],
   "source": [
    "with open(profile_pool, 'r') as fp:\n",
    "    print(fp.read(500))"
   ]
  },
  {
   "cell_type": "code",
   "execution_count": 30,
   "metadata": {},
   "outputs": [
    {
     "data": {
      "text/html": [
       "<div>\n",
       "<style scoped>\n",
       "    .dataframe tbody tr th:only-of-type {\n",
       "        vertical-align: middle;\n",
       "    }\n",
       "\n",
       "    .dataframe tbody tr th {\n",
       "        vertical-align: top;\n",
       "    }\n",
       "\n",
       "    .dataframe thead th {\n",
       "        text-align: right;\n",
       "    }\n",
       "</style>\n",
       "<table border=\"1\" class=\"dataframe\">\n",
       "  <thead>\n",
       "    <tr style=\"text-align: right;\">\n",
       "      <th></th>\n",
       "      <th>@@TAXID</th>\n",
       "      <th>RANK</th>\n",
       "      <th>TAXPATH</th>\n",
       "      <th>TAXPATHSN</th>\n",
       "      <th>PERCENTAGE</th>\n",
       "      <th>_CAMI_genomeID</th>\n",
       "      <th>_CAMI_OTU</th>\n",
       "    </tr>\n",
       "  </thead>\n",
       "  <tbody>\n",
       "    <tr>\n",
       "      <th>1673</th>\n",
       "      <td>32644.700</td>\n",
       "      <td>strain</td>\n",
       "      <td>||||||32644|32644.70</td>\n",
       "      <td>||||||unidentified|unidentified strain</td>\n",
       "      <td>0.1848</td>\n",
       "      <td>Sample18_82</td>\n",
       "      <td>p2</td>\n",
       "    </tr>\n",
       "    <tr>\n",
       "      <th>999</th>\n",
       "      <td>45202.410</td>\n",
       "      <td>strain</td>\n",
       "      <td>||||||45202|45202.41</td>\n",
       "      <td>||||||unidentified plasmid|unidentified plasmi...</td>\n",
       "      <td>0.1077</td>\n",
       "      <td>Sample16_136</td>\n",
       "      <td>p1</td>\n",
       "    </tr>\n",
       "    <tr>\n",
       "      <th>38</th>\n",
       "      <td>72274.000</td>\n",
       "      <td>order</td>\n",
       "      <td>2|1224|1236|72274</td>\n",
       "      <td>Bacteria|Proteobacteria|Gammaproteobacteria|Ps...</td>\n",
       "      <td>1.0071</td>\n",
       "      <td>NaN</td>\n",
       "      <td>NaN</td>\n",
       "    </tr>\n",
       "    <tr>\n",
       "      <th>1068</th>\n",
       "      <td>379.110</td>\n",
       "      <td>strain</td>\n",
       "      <td>2|1224|28211|356|82115|379||379.11</td>\n",
       "      <td>Bacteria|Proteobacteria|Alphaproteobacteria|Rh...</td>\n",
       "      <td>0.0487</td>\n",
       "      <td>1021_AR</td>\n",
       "      <td>272</td>\n",
       "    </tr>\n",
       "    <tr>\n",
       "      <th>96</th>\n",
       "      <td>135620.000</td>\n",
       "      <td>family</td>\n",
       "      <td>2|1224|1236|135619|135620</td>\n",
       "      <td>Bacteria|Proteobacteria|Gammaproteobacteria|Oc...</td>\n",
       "      <td>0.1077</td>\n",
       "      <td>NaN</td>\n",
       "      <td>NaN</td>\n",
       "    </tr>\n",
       "    <tr>\n",
       "      <th>987</th>\n",
       "      <td>575302.100</td>\n",
       "      <td>strain</td>\n",
       "      <td>2|1224|28216|80840|119060|32008|575302|575302.1</td>\n",
       "      <td>Bacteria|Proteobacteria|Betaproteobacteria|Bur...</td>\n",
       "      <td>0.0191</td>\n",
       "      <td>1287_B</td>\n",
       "      <td>469</td>\n",
       "    </tr>\n",
       "    <tr>\n",
       "      <th>967</th>\n",
       "      <td>223904.100</td>\n",
       "      <td>strain</td>\n",
       "      <td>2|201174|1760|2037|85015|1839|223904|223904.1</td>\n",
       "      <td>Bacteria|Actinobacteria|Actinobacteria|Actinom...</td>\n",
       "      <td>0.0197</td>\n",
       "      <td>1139_BO</td>\n",
       "      <td>269</td>\n",
       "    </tr>\n",
       "    <tr>\n",
       "      <th>1356</th>\n",
       "      <td>32644.234</td>\n",
       "      <td>strain</td>\n",
       "      <td>||||||32644|32644.234</td>\n",
       "      <td>||||||unidentified|unidentified strain</td>\n",
       "      <td>0.0689</td>\n",
       "      <td>Sample9_68</td>\n",
       "      <td>p2</td>\n",
       "    </tr>\n",
       "    <tr>\n",
       "      <th>1352</th>\n",
       "      <td>33886.400</td>\n",
       "      <td>strain</td>\n",
       "      <td>2|201174|1760|2037|85023|33886||33886.4</td>\n",
       "      <td>Bacteria|Actinobacteria|Actinobacteria|Actinom...</td>\n",
       "      <td>0.0117</td>\n",
       "      <td>1285_C</td>\n",
       "      <td>396</td>\n",
       "    </tr>\n",
       "    <tr>\n",
       "      <th>14</th>\n",
       "      <td>1236.000</td>\n",
       "      <td>class</td>\n",
       "      <td>2|1224|1236</td>\n",
       "      <td>Bacteria|Proteobacteria|Gammaproteobacteria</td>\n",
       "      <td>2.6543</td>\n",
       "      <td>NaN</td>\n",
       "      <td>NaN</td>\n",
       "    </tr>\n",
       "    <tr>\n",
       "      <th>1547</th>\n",
       "      <td>889453.100</td>\n",
       "      <td>strain</td>\n",
       "      <td>2|976|200643|171549|558415|1193324|889453|8894...</td>\n",
       "      <td>Bacteria|Bacteroidetes|Bacteroidia|Bacteroidal...</td>\n",
       "      <td>0.0313</td>\n",
       "      <td>1049086</td>\n",
       "      <td>245</td>\n",
       "    </tr>\n",
       "    <tr>\n",
       "      <th>599</th>\n",
       "      <td>643671.000</td>\n",
       "      <td>species</td>\n",
       "      <td>2|976|768503|768507|89373|332157|643671</td>\n",
       "      <td>Bacteria|Bacteroidetes|Cytophagia|Cytophagales...</td>\n",
       "      <td>0.0544</td>\n",
       "      <td>NaN</td>\n",
       "      <td>NaN</td>\n",
       "    </tr>\n",
       "    <tr>\n",
       "      <th>860</th>\n",
       "      <td>96492.100</td>\n",
       "      <td>strain</td>\n",
       "      <td>2|201174|1760|2037|85023|96492||96492.1</td>\n",
       "      <td>Bacteria|Actinobacteria|Actinobacteria|Actinom...</td>\n",
       "      <td>0.0533</td>\n",
       "      <td>1286_BL</td>\n",
       "      <td>414</td>\n",
       "    </tr>\n",
       "    <tr>\n",
       "      <th>1398</th>\n",
       "      <td>160791.200</td>\n",
       "      <td>strain</td>\n",
       "      <td>2|1224|28211|204457|41297|13687|160791|160791.2</td>\n",
       "      <td>Bacteria|Proteobacteria|Alphaproteobacteria|Sp...</td>\n",
       "      <td>0.0381</td>\n",
       "      <td>evo_1220_W.003</td>\n",
       "      <td>NaN</td>\n",
       "    </tr>\n",
       "    <tr>\n",
       "      <th>1645</th>\n",
       "      <td>45202.130</td>\n",
       "      <td>strain</td>\n",
       "      <td>||||||45202|45202.130</td>\n",
       "      <td>||||||unidentified plasmid|unidentified plasmi...</td>\n",
       "      <td>0.1142</td>\n",
       "      <td>Sample23_230</td>\n",
       "      <td>p1</td>\n",
       "    </tr>\n",
       "    <tr>\n",
       "      <th>1404</th>\n",
       "      <td>32644.147</td>\n",
       "      <td>strain</td>\n",
       "      <td>||||||32644|32644.147</td>\n",
       "      <td>||||||unidentified|unidentified strain</td>\n",
       "      <td>0.0805</td>\n",
       "      <td>Sample18_294</td>\n",
       "      <td>p2</td>\n",
       "    </tr>\n",
       "    <tr>\n",
       "      <th>225</th>\n",
       "      <td>414371.000</td>\n",
       "      <td>genus</td>\n",
       "      <td>2|1224|28211|356|255475|414371</td>\n",
       "      <td>Bacteria|Proteobacteria|Alphaproteobacteria|Rh...</td>\n",
       "      <td>0.0521</td>\n",
       "      <td>NaN</td>\n",
       "      <td>NaN</td>\n",
       "    </tr>\n",
       "    <tr>\n",
       "      <th>284</th>\n",
       "      <td>174951.000</td>\n",
       "      <td>genus</td>\n",
       "      <td>2|1224|28216|80840|80864|174951</td>\n",
       "      <td>Bacteria|Proteobacteria|Betaproteobacteria|Bur...</td>\n",
       "      <td>0.0309</td>\n",
       "      <td>NaN</td>\n",
       "      <td>NaN</td>\n",
       "    </tr>\n",
       "    <tr>\n",
       "      <th>308</th>\n",
       "      <td>157.000</td>\n",
       "      <td>genus</td>\n",
       "      <td>2|203691|203692|136|137|157</td>\n",
       "      <td>Bacteria|Spirochaetes|Spirochaetia|Spirochaeta...</td>\n",
       "      <td>0.1037</td>\n",
       "      <td>NaN</td>\n",
       "      <td>NaN</td>\n",
       "    </tr>\n",
       "    <tr>\n",
       "      <th>52</th>\n",
       "      <td>91347.000</td>\n",
       "      <td>order</td>\n",
       "      <td>2|1224|1236|91347</td>\n",
       "      <td>Bacteria|Proteobacteria|Gammaproteobacteria|En...</td>\n",
       "      <td>0.3552</td>\n",
       "      <td>NaN</td>\n",
       "      <td>NaN</td>\n",
       "    </tr>\n",
       "  </tbody>\n",
       "</table>\n",
       "</div>"
      ],
      "text/plain": [
       "         @@TAXID     RANK                                            TAXPATH  \\\n",
       "1673   32644.700   strain                               ||||||32644|32644.70   \n",
       "999    45202.410   strain                               ||||||45202|45202.41   \n",
       "38     72274.000    order                                  2|1224|1236|72274   \n",
       "1068     379.110   strain                 2|1224|28211|356|82115|379||379.11   \n",
       "96    135620.000   family                          2|1224|1236|135619|135620   \n",
       "987   575302.100   strain    2|1224|28216|80840|119060|32008|575302|575302.1   \n",
       "967   223904.100   strain      2|201174|1760|2037|85015|1839|223904|223904.1   \n",
       "1356   32644.234   strain                              ||||||32644|32644.234   \n",
       "1352   33886.400   strain            2|201174|1760|2037|85023|33886||33886.4   \n",
       "14      1236.000    class                                        2|1224|1236   \n",
       "1547  889453.100   strain  2|976|200643|171549|558415|1193324|889453|8894...   \n",
       "599   643671.000  species            2|976|768503|768507|89373|332157|643671   \n",
       "860    96492.100   strain            2|201174|1760|2037|85023|96492||96492.1   \n",
       "1398  160791.200   strain    2|1224|28211|204457|41297|13687|160791|160791.2   \n",
       "1645   45202.130   strain                              ||||||45202|45202.130   \n",
       "1404   32644.147   strain                              ||||||32644|32644.147   \n",
       "225   414371.000    genus                     2|1224|28211|356|255475|414371   \n",
       "284   174951.000    genus                    2|1224|28216|80840|80864|174951   \n",
       "308      157.000    genus                        2|203691|203692|136|137|157   \n",
       "52     91347.000    order                                  2|1224|1236|91347   \n",
       "\n",
       "                                              TAXPATHSN  PERCENTAGE  \\\n",
       "1673             ||||||unidentified|unidentified strain      0.1848   \n",
       "999   ||||||unidentified plasmid|unidentified plasmi...      0.1077   \n",
       "38    Bacteria|Proteobacteria|Gammaproteobacteria|Ps...      1.0071   \n",
       "1068  Bacteria|Proteobacteria|Alphaproteobacteria|Rh...      0.0487   \n",
       "96    Bacteria|Proteobacteria|Gammaproteobacteria|Oc...      0.1077   \n",
       "987   Bacteria|Proteobacteria|Betaproteobacteria|Bur...      0.0191   \n",
       "967   Bacteria|Actinobacteria|Actinobacteria|Actinom...      0.0197   \n",
       "1356             ||||||unidentified|unidentified strain      0.0689   \n",
       "1352  Bacteria|Actinobacteria|Actinobacteria|Actinom...      0.0117   \n",
       "14          Bacteria|Proteobacteria|Gammaproteobacteria      2.6543   \n",
       "1547  Bacteria|Bacteroidetes|Bacteroidia|Bacteroidal...      0.0313   \n",
       "599   Bacteria|Bacteroidetes|Cytophagia|Cytophagales...      0.0544   \n",
       "860   Bacteria|Actinobacteria|Actinobacteria|Actinom...      0.0533   \n",
       "1398  Bacteria|Proteobacteria|Alphaproteobacteria|Sp...      0.0381   \n",
       "1645  ||||||unidentified plasmid|unidentified plasmi...      0.1142   \n",
       "1404             ||||||unidentified|unidentified strain      0.0805   \n",
       "225   Bacteria|Proteobacteria|Alphaproteobacteria|Rh...      0.0521   \n",
       "284   Bacteria|Proteobacteria|Betaproteobacteria|Bur...      0.0309   \n",
       "308   Bacteria|Spirochaetes|Spirochaetia|Spirochaeta...      0.1037   \n",
       "52    Bacteria|Proteobacteria|Gammaproteobacteria|En...      0.3552   \n",
       "\n",
       "      _CAMI_genomeID _CAMI_OTU  \n",
       "1673     Sample18_82        p2  \n",
       "999     Sample16_136        p1  \n",
       "38               NaN       NaN  \n",
       "1068         1021_AR       272  \n",
       "96               NaN       NaN  \n",
       "987           1287_B       469  \n",
       "967          1139_BO       269  \n",
       "1356      Sample9_68        p2  \n",
       "1352          1285_C       396  \n",
       "14               NaN       NaN  \n",
       "1547         1049086       245  \n",
       "599              NaN       NaN  \n",
       "860          1286_BL       414  \n",
       "1398  evo_1220_W.003       NaN  \n",
       "1645    Sample23_230        p1  \n",
       "1404    Sample18_294        p2  \n",
       "225              NaN       NaN  \n",
       "284              NaN       NaN  \n",
       "308              NaN       NaN  \n",
       "52               NaN       NaN  "
      ]
     },
     "execution_count": 30,
     "metadata": {},
     "output_type": "execute_result"
    }
   ],
   "source": [
    "profile_pool_df = pd.read_csv(profile_pool, sep='\\t', skiprows=4)\n",
    "profile_pool_df.sample(20)"
   ]
  },
  {
   "cell_type": "code",
   "execution_count": 31,
   "metadata": {},
   "outputs": [
    {
     "data": {
      "text/html": [
       "<div>\n",
       "<style scoped>\n",
       "    .dataframe tbody tr th:only-of-type {\n",
       "        vertical-align: middle;\n",
       "    }\n",
       "\n",
       "    .dataframe tbody tr th {\n",
       "        vertical-align: top;\n",
       "    }\n",
       "\n",
       "    .dataframe thead th {\n",
       "        text-align: right;\n",
       "    }\n",
       "</style>\n",
       "<table border=\"1\" class=\"dataframe\">\n",
       "  <thead>\n",
       "    <tr style=\"text-align: right;\">\n",
       "      <th></th>\n",
       "      <th>SeqID</th>\n",
       "      <th>Sequence</th>\n",
       "      <th>Prefix</th>\n",
       "    </tr>\n",
       "  </thead>\n",
       "  <tbody>\n",
       "    <tr>\n",
       "      <th>394</th>\n",
       "      <td>C394</td>\n",
       "      <td>CAGCCACCGGCCGGCGGTTCAACAGGAAGCCTCATCCGACGCGACC...</td>\n",
       "      <td>RH|P|</td>\n",
       "    </tr>\n",
       "    <tr>\n",
       "      <th>395</th>\n",
       "      <td>C395</td>\n",
       "      <td>CCTTCAGGATGCCGATGATCTGCTCTTCCGAAAACTGCTTCCGCTT...</td>\n",
       "      <td>RH|P|</td>\n",
       "    </tr>\n",
       "    <tr>\n",
       "      <th>396</th>\n",
       "      <td>C396</td>\n",
       "      <td>CCGACGTCGCGATCGGCGGGGGTTCGGACATCGCCGCCGGCGCGGA...</td>\n",
       "      <td>RH|P|</td>\n",
       "    </tr>\n",
       "    <tr>\n",
       "      <th>397</th>\n",
       "      <td>C397</td>\n",
       "      <td>ATTTAATTCCCTGAGCTCCATCAATTTGTCGTTTGGCAATTTTATA...</td>\n",
       "      <td>RH|P|</td>\n",
       "    </tr>\n",
       "    <tr>\n",
       "      <th>398</th>\n",
       "      <td>C398</td>\n",
       "      <td>AGCCTCCCGGGCACGTTGTTCCAGCCTCGATCCCATCTGCAGCACT...</td>\n",
       "      <td>RH|P|</td>\n",
       "    </tr>\n",
       "  </tbody>\n",
       "</table>\n",
       "</div>"
      ],
      "text/plain": [
       "    SeqID                                           Sequence Prefix\n",
       "394  C394  CAGCCACCGGCCGGCGGTTCAACAGGAAGCCTCATCCGACGCGACC...  RH|P|\n",
       "395  C395  CCTTCAGGATGCCGATGATCTGCTCTTCCGAAAACTGCTTCCGCTT...  RH|P|\n",
       "396  C396  CCGACGTCGCGATCGGCGGGGGTTCGGACATCGCCGCCGGCGCGGA...  RH|P|\n",
       "397  C397  ATTTAATTCCCTGAGCTCCATCAATTTGTCGTTTGGCAATTTTATA...  RH|P|\n",
       "398  C398  AGCCTCCCGGGCACGTTGTTCCAGCCTCGATCCCATCTGCAGCACT...  RH|P|"
      ]
     },
     "execution_count": 31,
     "metadata": {},
     "output_type": "execute_result"
    }
   ],
   "source": [
    "fasta_df.tail()"
   ]
  },
  {
   "cell_type": "code",
   "execution_count": 32,
   "metadata": {},
   "outputs": [],
   "source": [
    "mask = profile_pool_df.dropna()._CAMI_genomeID.str.contains('Sample18')\n",
    "mask\n",
    "cami_seq_idxs = profile_pool_df.dropna().loc[mask, '_CAMI_genomeID'].str.replace('Sample18_', '').astype(int)"
   ]
  },
  {
   "cell_type": "code",
   "execution_count": 33,
   "metadata": {},
   "outputs": [
    {
     "data": {
      "text/plain": [
       "1143      1\n",
       "1448      2\n",
       "1141      3\n",
       "1659      5\n",
       "899      11\n",
       "       ... \n",
       "1666    360\n",
       "1669    363\n",
       "1667    364\n",
       "1670    369\n",
       "884     370\n",
       "Name: _CAMI_genomeID, Length: 81, dtype: int64"
      ]
     },
     "execution_count": 33,
     "metadata": {},
     "output_type": "execute_result"
    }
   ],
   "source": [
    "cami_seq_idxs.sort_values()"
   ]
  },
  {
   "cell_type": "code",
   "execution_count": null,
   "metadata": {},
   "outputs": [],
   "source": []
  },
  {
   "cell_type": "markdown",
   "metadata": {},
   "source": [
    "# Experiment with counters"
   ]
  },
  {
   "cell_type": "code",
   "execution_count": 34,
   "metadata": {},
   "outputs": [
    {
     "data": {
      "text/plain": [
       "[('is', 3),\n",
       " ('a', 2),\n",
       " ('sentence', 2),\n",
       " ('this', 1),\n",
       " ('where', 1),\n",
       " ('each', 1),\n",
       " ('word', 1),\n",
       " ('represented', 1)]"
      ]
     },
     "execution_count": 34,
     "metadata": {},
     "output_type": "execute_result"
    }
   ],
   "source": [
    "from collections import Counter\n",
    "words = 'this is a sentence where each word is represented once or several times and the sentence is then split into a list'.split(' ')\n",
    "count = Counter(words)\n",
    "count.most_common(8)"
   ]
  },
  {
   "cell_type": "code",
   "execution_count": 35,
   "metadata": {},
   "outputs": [
    {
     "data": {
      "text/plain": [
       "(2, 2, 3, None)"
      ]
     },
     "execution_count": 35,
     "metadata": {},
     "output_type": "execute_result"
    }
   ],
   "source": [
    "count.get('sentence'), count['sentence'], count.get('is') , count.get('blabla')"
   ]
  },
  {
   "cell_type": "code",
   "execution_count": 36,
   "metadata": {},
   "outputs": [
    {
     "data": {
      "text/plain": [
       "dict_keys(['this', 'is', 'a', 'sentence', 'where', 'each', 'word', 'represented', 'once', 'or', 'several', 'times', 'and', 'the', 'then', 'split', 'into', 'list'])"
      ]
     },
     "execution_count": 36,
     "metadata": {},
     "output_type": "execute_result"
    }
   ],
   "source": [
    "count.keys()"
   ]
  }
 ],
 "metadata": {
  "kernelspec": {
   "display_name": "Python 3.10.6 ('metagentools')",
   "language": "python",
   "name": "python3"
  },
  "language_info": {
   "codemirror_mode": {
    "name": "ipython",
    "version": 3
   },
   "file_extension": ".py",
   "mimetype": "text/x-python",
   "name": "python",
   "nbconvert_exporter": "python",
   "pygments_lexer": "ipython3",
   "version": "3.10.6"
  },
  "vscode": {
   "interpreter": {
    "hash": "d79c725d3d254ae089d5edf9eb2dce3237f80d64dd85a8bedc17bd8054b8b312"
   }
  }
 },
 "nbformat": 4,
 "nbformat_minor": 2
}
