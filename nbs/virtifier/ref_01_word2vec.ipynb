{
 "cells": [
  {
   "cell_type": "markdown",
   "metadata": {
    "cellView": "form",
    "execution": {
     "iopub.execute_input": "2022-07-27T01:23:01.217850Z",
     "iopub.status.busy": "2022-07-27T01:23:01.217284Z",
     "iopub.status.idle": "2022-07-27T01:23:01.221215Z",
     "shell.execute_reply": "2022-07-27T01:23:01.220657Z"
    },
    "id": "0nbI5DtDGw-i"
   },
   "source": [
    "```\n",
    "# Copyright 2020 The TensorFlow Authors.\n",
    "#@title Licensed under the Apache License, Version 2.0 (the \"License\");\n",
    "# you may not use this file except in compliance with the License.\n",
    "# You may obtain a copy of the License at\n",
    "#\n",
    "# https://www.apache.org/licenses/LICENSE-2.0\n",
    "#\n",
    "# Unless required by applicable law or agreed to in writing, software\n",
    "# distributed under the License is distributed on an \"AS IS\" BASIS,\n",
    "# WITHOUT WARRANTIES OR CONDITIONS OF ANY KIND, either express or implied.\n",
    "# See the License for the specific language governing permissions and\n",
    "# limitations under the License.\n",
    "```"
   ]
  },
  {
   "cell_type": "markdown",
   "metadata": {
    "id": "haJUNjSB60Kh"
   },
   "source": [
    "# word2vec"
   ]
  },
  {
   "cell_type": "markdown",
   "metadata": {
    "id": "99d4ky2lWFvn"
   },
   "source": [
    "word2vec is not a singular algorithm, rather, it is a family of model architectures and optimizations that can be used to learn word embeddings from large datasets. Embeddings learned through word2vec have proven to be successful on a variety of downstream natural language processing tasks.\n",
    "\n",
    "Note: This tutorial is based on [Efficient estimation of word representations in vector space](https://arxiv.org/pdf/1301.3781.pdf) and [Distributed representations of words and phrases and their compositionality](https://papers.nips.cc/paper/5021-distributed-representations-of-words-and-phrases-and-their-compositionality.pdf). It is not an exact implementation of the papers. Rather, it is intended to illustrate the key ideas.\n",
    "\n",
    "These papers proposed two methods for learning representations of words:\n",
    "\n",
    "*   **Continuous bag-of-words model**: predicts the middle word based on surrounding context words. The context consists of a few words before and after the current (middle) word. This architecture is called a bag-of-words model as the order of words in the context is not important.\n",
    "*   **Continuous skip-gram model**: predicts words within a certain range before and after the current word in the same sentence. A worked example of this is given below.\n",
    "\n",
    "You'll use the skip-gram approach in this tutorial. First, you'll explore skip-grams and other concepts using a single sentence for illustration. Next, you'll train your own word2vec model on a small dataset. This tutorial also contains code to export the trained embeddings and visualize them in the [TensorFlow Embedding Projector](http://projector.tensorflow.org/).\n"
   ]
  },
  {
   "cell_type": "markdown",
   "metadata": {
    "id": "xP00WlaMWBZC"
   },
   "source": [
    "## Skip-gram and negative sampling "
   ]
  },
  {
   "cell_type": "markdown",
   "metadata": {
    "id": "Zr2wjv0bW236"
   },
   "source": [
    "While a bag-of-words model predicts a word given the neighboring context, a skip-gram model predicts the context (or neighbors) of a word, given the word itself. The model is trained on skip-grams, which are n-grams that allow tokens to be skipped (see the diagram below for an example). The context of a word can be represented through a set of skip-gram pairs of `(target_word, context_word)` where `context_word` appears in the neighboring context of `target_word`. "
   ]
  },
  {
   "cell_type": "markdown",
   "metadata": {
    "id": "ICjc-McbaVTd"
   },
   "source": [
    "Consider the following sentence of eight words:\n",
    "\n",
    "> The wide road shimmered in the hot sun.\n",
    "\n",
    "The context words for each of the 8 words of this sentence are defined by a window size. The window size determines the span of words on either side of a `target_word` that can be considered a `context word`. Below is a table of skip-grams for target words based on different window sizes."
   ]
  },
  {
   "cell_type": "markdown",
   "metadata": {
    "id": "YKE87IKT_YT8"
   },
   "source": [
    "Note: For this tutorial, a window size of `n` implies n words on each side with a total window span of 2*n+1 words across a word."
   ]
  },
  {
   "cell_type": "markdown",
   "metadata": {
    "id": "RsCwQ07E8mqU"
   },
   "source": [
    "<img src=\"img/ref.01_word2vec_skipgram.png\" width=600>"
   ]
  },
  {
   "cell_type": "markdown",
   "metadata": {
    "id": "gK1gN1jwkMpU"
   },
   "source": [
    "The training objective of the skip-gram model is to maximize the probability of predicting context words given the target word. For a sequence of words *w<sub>1</sub>, w<sub>2</sub>, ... w<sub>T</sub>*, the objective can be written as the average log probability"
   ]
  },
  {
   "cell_type": "markdown",
   "metadata": {
    "id": "pILO_iAc84e-"
   },
   "source": [
    "$$\\frac{1}{N} \\sum_{t=1}^{T} \\sum_{-c\\le j\\le c \\ne j} \\log{P(w_{t+c}|w_t}) $$"
   ]
  },
  {
   "cell_type": "markdown",
   "metadata": {
    "id": "Gsy6TUbtnz_K"
   },
   "source": [
    "where `c` is the size of the training context. The basic skip-gram formulation defines this probability using the softmax function."
   ]
  },
  {
   "cell_type": "markdown",
   "metadata": {
    "id": "P81Qavbb9APd"
   },
   "source": [
    "$$P(w_{t+c}|w_t) = \\frac{\\exp({v_{wO}^{'}}^Tv_{wI})}{\\sum_{w=1}^{W} \\exp({v_{w}^{'}}^Tv_{wI})}$$"
   ]
  },
  {
   "cell_type": "markdown",
   "metadata": {
    "id": "axZvd-hhotVB"
   },
   "source": [
    "where $v_w$ and $v_w^{'}$ are target and context vector representations of word $w$ and *W* is vocabulary size. "
   ]
  },
  {
   "cell_type": "markdown",
   "metadata": {
    "id": "SoLzxbqSpT6_"
   },
   "source": [
    "Computing the denominator of this formulation involves performing a full softmax over the entire vocabulary words, which are often large (10<sup>5</sup>-10<sup>7</sup>) terms, when we are applying this to real text. It may be possible when we are using a more limited vocabulary such as for biology sequences where the full vocabulary is more limited."
   ]
  },
  {
   "cell_type": "markdown",
   "metadata": {
    "id": "Y5VWYtmFzHkU"
   },
   "source": [
    "The [noise contrastive estimation](https://www.tensorflow.org/api_docs/python/tf/nn/nce_loss) (NCE) loss function is an efficient approximation for a full softmax. With an objective to learn word embeddings instead of modeling the word distribution, the NCE loss can be [simplified](https://papers.nips.cc/paper/5021-distributed-representations-of-words-and-phrases-and-their-compositionality.pdf) to use negative sampling. "
   ]
  },
  {
   "cell_type": "markdown",
   "metadata": {
    "id": "WTZBPf1RsOsg"
   },
   "source": [
    "The simplified negative sampling objective for a target word is to distinguish  the context word from `num_ns` negative samples drawn from noise distribution *P<sub>n</sub>(w)* of words. More precisely, an efficient approximation of full softmax over the vocabulary is, for a skip-gram pair, to pose the loss for a target word as a classification problem between the context word and `num_ns` negative samples. "
   ]
  },
  {
   "cell_type": "markdown",
   "metadata": {
    "id": "Cl0rSfHjt6Mf"
   },
   "source": [
    "A negative sample is defined as a `(target_word, context_word)` pair such that the `context_word` does not appear in the `window_size` neighborhood of the `target_word`. For the example sentence, these are a few potential negative samples (when `window_size` is `2`).\n",
    "\n",
    "```\n",
    "(hot, shimmered)\n",
    "(wide, hot)\n",
    "(wide, sun)\n",
    "```"
   ]
  },
  {
   "cell_type": "markdown",
   "metadata": {
    "id": "kq0q2uqbucFg"
   },
   "source": [
    "In the next section, you'll generate skip-grams and negative samples for a single sentence. You'll also learn about subsampling techniques and train a classification model for positive and negative training examples later in the tutorial."
   ]
  },
  {
   "cell_type": "markdown",
   "metadata": {
    "id": "mk4-Hpe1CH16"
   },
   "source": [
    "## Setup"
   ]
  },
  {
   "cell_type": "code",
   "execution_count": 177,
   "metadata": {
    "execution": {
     "iopub.execute_input": "2022-07-27T01:23:01.225746Z",
     "iopub.status.busy": "2022-07-27T01:23:01.225353Z",
     "iopub.status.idle": "2022-07-27T01:23:03.011412Z",
     "shell.execute_reply": "2022-07-27T01:23:03.010285Z"
    },
    "id": "RutaI-Tpev3T"
   },
   "outputs": [],
   "source": [
    "import io\n",
    "import re\n",
    "import string\n",
    "import tqdm\n",
    "\n",
    "import numpy as np\n",
    "\n",
    "import tensorflow as tf\n",
    "from tensorflow.keras import Model, Input, layers"
   ]
  },
  {
   "cell_type": "code",
   "execution_count": 127,
   "metadata": {
    "execution": {
     "iopub.execute_input": "2022-07-27T01:23:03.018046Z",
     "iopub.status.busy": "2022-07-27T01:23:03.016987Z",
     "iopub.status.idle": "2022-07-27T01:23:03.025035Z",
     "shell.execute_reply": "2022-07-27T01:23:03.024102Z"
    },
    "id": "10pyUMFkGKVQ"
   },
   "outputs": [
    {
     "name": "stdout",
     "output_type": "stream",
     "text": [
      "The tensorboard extension is already loaded. To reload it, use:\n",
      "  %reload_ext tensorboard\n"
     ]
    }
   ],
   "source": [
    "# Load the TensorBoard notebook extension\n",
    "%load_ext tensorboard"
   ]
  },
  {
   "cell_type": "code",
   "execution_count": 178,
   "metadata": {
    "execution": {
     "iopub.execute_input": "2022-07-27T01:23:03.030073Z",
     "iopub.status.busy": "2022-07-27T01:23:03.029368Z",
     "iopub.status.idle": "2022-07-27T01:23:03.033983Z",
     "shell.execute_reply": "2022-07-27T01:23:03.033106Z"
    },
    "id": "XkJ5299Tek6B"
   },
   "outputs": [],
   "source": [
    "SEED = 42\n",
    "AUTOTUNE = tf.data.AUTOTUNE"
   ]
  },
  {
   "cell_type": "markdown",
   "metadata": {
    "id": "RW-g5buCHwh3"
   },
   "source": [
    "### Vectorize an example sentence"
   ]
  },
  {
   "cell_type": "markdown",
   "metadata": {
    "id": "y8TfZIgoQrcP"
   },
   "source": [
    "Consider the following sentence:\n",
    "\n",
    "> The wide road shimmered in the hot sun.\n",
    "\n",
    "Tokenize the sentence:"
   ]
  },
  {
   "cell_type": "code",
   "execution_count": 179,
   "metadata": {
    "execution": {
     "iopub.execute_input": "2022-07-27T01:23:03.037891Z",
     "iopub.status.busy": "2022-07-27T01:23:03.037412Z",
     "iopub.status.idle": "2022-07-27T01:23:03.041279Z",
     "shell.execute_reply": "2022-07-27T01:23:03.040655Z"
    },
    "id": "bsl7jBzV6_KK"
   },
   "outputs": [
    {
     "name": "stdout",
     "output_type": "stream",
     "text": [
      "8\n"
     ]
    }
   ],
   "source": [
    "sentence = \"The wide road shimmered in the hot sun\"\n",
    "tokens = list(sentence.lower().split())\n",
    "print(len(tokens))"
   ]
  },
  {
   "cell_type": "markdown",
   "metadata": {
    "id": "PU-bs1XtThEw"
   },
   "source": [
    "Create a vocabulary to save mappings from tokens to integer indices:"
   ]
  },
  {
   "cell_type": "code",
   "execution_count": 180,
   "metadata": {
    "execution": {
     "iopub.execute_input": "2022-07-27T01:23:03.077122Z",
     "iopub.status.busy": "2022-07-27T01:23:03.076449Z",
     "iopub.status.idle": "2022-07-27T01:23:03.080603Z",
     "shell.execute_reply": "2022-07-27T01:23:03.080006Z"
    },
    "id": "UdYv1HJUQ8XA"
   },
   "outputs": [
    {
     "name": "stdout",
     "output_type": "stream",
     "text": [
      "8\n",
      "{'<pad>': 0, 'the': 1, 'wide': 2, 'road': 3, 'shimmered': 4, 'in': 5, 'hot': 6, 'sun': 7}\n"
     ]
    }
   ],
   "source": [
    "vocab, index = {}, 1  # start indexing from 1\n",
    "vocab['<pad>'] = 0  # add a padding token encoded as 0\n",
    "for token in tokens:\n",
    "  if token not in vocab:\n",
    "    vocab[token] = index\n",
    "    index += 1\n",
    "vocab_size = len(vocab)\n",
    "print(vocab_size)\n",
    "print(vocab)"
   ]
  },
  {
   "cell_type": "markdown",
   "metadata": {
    "id": "ZpuP43Dddasr"
   },
   "source": [
    "Create an inverse vocabulary to save mappings from integer indices to tokens:"
   ]
  },
  {
   "cell_type": "code",
   "execution_count": 181,
   "metadata": {
    "execution": {
     "iopub.execute_input": "2022-07-27T01:23:03.083668Z",
     "iopub.status.busy": "2022-07-27T01:23:03.083231Z",
     "iopub.status.idle": "2022-07-27T01:23:03.086638Z",
     "shell.execute_reply": "2022-07-27T01:23:03.086081Z"
    },
    "id": "o9ULAJYtEvKl"
   },
   "outputs": [
    {
     "name": "stdout",
     "output_type": "stream",
     "text": [
      "{0: '<pad>', 1: 'the', 2: 'wide', 3: 'road', 4: 'shimmered', 5: 'in', 6: 'hot', 7: 'sun'}\n"
     ]
    }
   ],
   "source": [
    "inverse_vocab = {index: token for token, index in vocab.items()}\n",
    "print(inverse_vocab)"
   ]
  },
  {
   "cell_type": "markdown",
   "metadata": {
    "id": "n3qtuyxIRyii"
   },
   "source": [
    "Vectorize your sentence:"
   ]
  },
  {
   "cell_type": "code",
   "execution_count": 182,
   "metadata": {
    "execution": {
     "iopub.execute_input": "2022-07-27T01:23:03.089436Z",
     "iopub.status.busy": "2022-07-27T01:23:03.089006Z",
     "iopub.status.idle": "2022-07-27T01:23:03.092345Z",
     "shell.execute_reply": "2022-07-27T01:23:03.091805Z"
    },
    "id": "CsB3-9uQQYyl"
   },
   "outputs": [
    {
     "name": "stdout",
     "output_type": "stream",
     "text": [
      "[1, 2, 3, 4, 5, 1, 6, 7]\n"
     ]
    }
   ],
   "source": [
    "example_sequence = [vocab[word] for word in tokens]\n",
    "print(example_sequence)"
   ]
  },
  {
   "cell_type": "markdown",
   "metadata": {
    "id": "ox1I28JRIOdM"
   },
   "source": [
    "### Generate skip-grams from one sentence"
   ]
  },
  {
   "cell_type": "markdown",
   "metadata": {
    "id": "t7NNKAmSiHvy"
   },
   "source": [
    "The `tf.keras.preprocessing.sequence` module provides useful functions that simplify data preparation for word2vec. You can use the `tf.keras.preprocessing.sequence.skipgrams` to generate skip-gram pairs from the `example_sequence` with a given `window_size` from tokens in the range `[0, vocab_size)`.\n",
    "\n",
    "Note: `negative_samples` is set to `0` here, as batching negative samples generated by this function requires a bit of code. You will use another function to perform negative sampling in the next section."
   ]
  },
  {
   "cell_type": "code",
   "execution_count": 183,
   "metadata": {
    "execution": {
     "iopub.execute_input": "2022-07-27T01:23:03.095368Z",
     "iopub.status.busy": "2022-07-27T01:23:03.094869Z",
     "iopub.status.idle": "2022-07-27T01:23:03.098495Z",
     "shell.execute_reply": "2022-07-27T01:23:03.097959Z"
    },
    "id": "USAJxW4RD7pn"
   },
   "outputs": [
    {
     "name": "stdout",
     "output_type": "stream",
     "text": [
      "26\n"
     ]
    }
   ],
   "source": [
    "window_size = 2\n",
    "positive_skip_grams, _ = tf.keras.preprocessing.sequence.skipgrams(\n",
    "      example_sequence,\n",
    "      vocabulary_size=vocab_size,\n",
    "      window_size=window_size,\n",
    "      negative_samples=0)\n",
    "print(len(positive_skip_grams))"
   ]
  },
  {
   "cell_type": "markdown",
   "metadata": {
    "id": "uc9uhiMwY-AQ"
   },
   "source": [
    "Print a few positive skip-grams:"
   ]
  },
  {
   "cell_type": "code",
   "execution_count": 134,
   "metadata": {
    "execution": {
     "iopub.execute_input": "2022-07-27T01:23:03.101384Z",
     "iopub.status.busy": "2022-07-27T01:23:03.100910Z",
     "iopub.status.idle": "2022-07-27T01:23:03.104226Z",
     "shell.execute_reply": "2022-07-27T01:23:03.103712Z"
    },
    "id": "SCnqEukIE9pt"
   },
   "outputs": [
    {
     "name": "stdout",
     "output_type": "stream",
     "text": [
      "(2, 1): (wide, the)\n",
      "(2, 4): (wide, shimmered)\n",
      "(4, 5): (shimmered, in)\n",
      "(6, 5): (hot, in)\n",
      "(3, 4): (road, shimmered)\n"
     ]
    }
   ],
   "source": [
    "for target, context in positive_skip_grams[:5]:\n",
    "  print(f\"({target}, {context}): ({inverse_vocab[target]}, {inverse_vocab[context]})\")"
   ]
  },
  {
   "cell_type": "markdown",
   "metadata": {
    "id": "_ua9PkMTISF0"
   },
   "source": [
    "### Negative sampling for one skip-gram "
   ]
  },
  {
   "cell_type": "markdown",
   "metadata": {
    "id": "Esqn8WBfZnEK"
   },
   "source": [
    "The `skipgrams` function returns all positive skip-gram pairs by sliding over a given window span. To produce additional skip-gram pairs that would serve as negative samples for training, you need to sample random words from the vocabulary. Use the `tf.random.log_uniform_candidate_sampler` function to sample `num_ns` number of negative samples for a given target word in a window. You can call the function on one skip-grams's target word and pass the context word as true class to exclude it from being sampled.\n"
   ]
  },
  {
   "cell_type": "markdown",
   "metadata": {
    "id": "AgH3aSvw3xTD"
   },
   "source": [
    "Key point: `num_ns` (the number of negative samples per a positive context word) in the `[5, 20]` range is [shown to work](https://papers.nips.cc/paper/5021-distributed-representations-of-words-and-phrases-and-their-compositionality.pdf) best for smaller datasets, while `num_ns` in the `[2, 5]` range suffices for larger datasets."
   ]
  },
  {
   "cell_type": "code",
   "execution_count": 189,
   "metadata": {},
   "outputs": [],
   "source": [
    "# tf.random.log_uniform_candidate_sampler?"
   ]
  },
  {
   "cell_type": "code",
   "execution_count": 187,
   "metadata": {
    "execution": {
     "iopub.execute_input": "2022-07-27T01:23:03.107428Z",
     "iopub.status.busy": "2022-07-27T01:23:03.106983Z",
     "iopub.status.idle": "2022-07-27T01:23:06.109349Z",
     "shell.execute_reply": "2022-07-27T01:23:06.108695Z"
    },
    "id": "m_LmdzqIGr5L"
   },
   "outputs": [
    {
     "name": "stdout",
     "output_type": "stream",
     "text": [
      "4 shimmered\n",
      "3 road\n",
      "tf.Tensor([[3]], shape=(1, 1), dtype=int64)\n",
      "tf.Tensor([1 0 7 3], shape=(4,), dtype=int64)\n",
      "['the', '<pad>', 'sun', 'road']\n"
     ]
    }
   ],
   "source": [
    "# Get target and context words for one positive skip-gram.\n",
    "target_word, context_word = positive_skip_grams[0]\n",
    "print(target_word, inverse_vocab[target_word])\n",
    "print(context_word, inverse_vocab[context_word])\n",
    "\n",
    "# Set the number of negative samples per positive context.\n",
    "num_ns = 4\n",
    "\n",
    "context_class = tf.reshape(tf.constant(context_word, dtype=\"int64\"), (1, 1))\n",
    "print(context_class)\n",
    "\n",
    "negative_sampling_candidates, _, _ = tf.random.log_uniform_candidate_sampler(\n",
    "    true_classes=context_class,  # class that should be sampled as 'positive'\n",
    "    num_true=1,  # each positive skip-gram has 1 positive context class\n",
    "    num_sampled=num_ns,  # number of negative context words to sample\n",
    "    unique=True,  # all the negative samples should be unique\n",
    "    range_max=vocab_size,  # pick index of the samples from [0, vocab_size]\n",
    "    seed=SEED,  # seed for reproducibility\n",
    "    name=\"negative_sampling\"  # name of this operation\n",
    ")\n",
    "print(negative_sampling_candidates)\n",
    "print([inverse_vocab[index.numpy()] for index in negative_sampling_candidates])"
   ]
  },
  {
   "cell_type": "markdown",
   "metadata": {
    "id": "8MSxWCrLIalp"
   },
   "source": [
    "### Construct one training example"
   ]
  },
  {
   "cell_type": "markdown",
   "metadata": {
    "id": "Q6uEWdj8vKKv"
   },
   "source": [
    "For a given positive `(target_word, context_word)` skip-gram, you now also have `num_ns` negative sampled context words that do not appear in the window size neighborhood of `target_word`. Batch the `1` positive `context_word` and `num_ns` negative context words into one tensor. This produces a set of positive skip-grams (labeled as `1`) and negative samples (labeled as `0`) for each target word."
   ]
  },
  {
   "cell_type": "code",
   "execution_count": 136,
   "metadata": {
    "execution": {
     "iopub.execute_input": "2022-07-27T01:23:06.113224Z",
     "iopub.status.busy": "2022-07-27T01:23:06.112686Z",
     "iopub.status.idle": "2022-07-27T01:23:06.117850Z",
     "shell.execute_reply": "2022-07-27T01:23:06.117281Z"
    },
    "id": "zSiZwifuLvHf"
   },
   "outputs": [
    {
     "data": {
      "text/plain": [
       "(<tf.Tensor: shape=(), dtype=int32, numpy=2>,\n",
       " <tf.Tensor: shape=(5,), dtype=int64, numpy=array([1, 0, 1, 6, 4])>,\n",
       " <tf.Tensor: shape=(5,), dtype=int64, numpy=array([1, 0, 0, 0, 0])>)"
      ]
     },
     "execution_count": 136,
     "metadata": {},
     "output_type": "execute_result"
    }
   ],
   "source": [
    "# Add a dimension so you can use concatenation (in the next step).\n",
    "negative_sampling_candidates = tf.expand_dims(negative_sampling_candidates, 1)\n",
    "\n",
    "# Concatenate a positive context word with negative sampled words.\n",
    "context = tf.concat([context_class, negative_sampling_candidates], 0)\n",
    "\n",
    "# Label the first context word as `1` (positive) followed by `num_ns` `0`s (negative).\n",
    "label = tf.constant([1] + [0]*num_ns, dtype=\"int64\")\n",
    "\n",
    "# Reshape the target to shape `(1,)` and context and label to `(num_ns+1,)`.\n",
    "target = tf.squeeze(target_word)\n",
    "context = tf.squeeze(context)\n",
    "label = tf.squeeze(label)\n",
    "\n",
    "target, context, label"
   ]
  },
  {
   "cell_type": "markdown",
   "metadata": {
    "id": "OIJeoFCAwtXJ"
   },
   "source": [
    "Check out the context and the corresponding labels for the target word from the skip-gram example above:"
   ]
  },
  {
   "cell_type": "code",
   "execution_count": 137,
   "metadata": {
    "execution": {
     "iopub.execute_input": "2022-07-27T01:23:06.121224Z",
     "iopub.status.busy": "2022-07-27T01:23:06.120657Z",
     "iopub.status.idle": "2022-07-27T01:23:06.127276Z",
     "shell.execute_reply": "2022-07-27T01:23:06.126549Z"
    },
    "id": "tzyCPCuZwmdL"
   },
   "outputs": [
    {
     "name": "stdout",
     "output_type": "stream",
     "text": [
      "target_index    : 2\n",
      "target_word     : wide\n",
      "context_indices : [1 0 1 6 4]\n",
      "context_words   : ['the', '<pad>', 'the', 'hot', 'shimmered']\n",
      "label           : [1 0 0 0 0]\n"
     ]
    }
   ],
   "source": [
    "print(f\"target_index    : {target}\")\n",
    "print(f\"target_word     : {inverse_vocab[target_word]}\")\n",
    "print(f\"context_indices : {context}\")\n",
    "print(f\"context_words   : {[inverse_vocab[c.numpy()] for c in context]}\")\n",
    "print(f\"label           : {label}\")"
   ]
  },
  {
   "cell_type": "markdown",
   "metadata": {
    "id": "gBtTcUVQr8EO"
   },
   "source": [
    "A tuple of `(target, context, label)` tensors constitutes one training example for training your skip-gram negative sampling word2vec model. Notice that the target is of shape `(1,)` while the context and label are of shape `(1+num_ns,)`"
   ]
  },
  {
   "cell_type": "code",
   "execution_count": 138,
   "metadata": {
    "execution": {
     "iopub.execute_input": "2022-07-27T01:23:06.130525Z",
     "iopub.status.busy": "2022-07-27T01:23:06.129985Z",
     "iopub.status.idle": "2022-07-27T01:23:06.133912Z",
     "shell.execute_reply": "2022-07-27T01:23:06.133363Z"
    },
    "id": "x-FwkR8jx9-Z"
   },
   "outputs": [
    {
     "name": "stdout",
     "output_type": "stream",
     "text": [
      "target  : tf.Tensor(2, shape=(), dtype=int32)\n",
      "context : tf.Tensor([1 0 1 6 4], shape=(5,), dtype=int64)\n",
      "label   : tf.Tensor([1 0 0 0 0], shape=(5,), dtype=int64)\n"
     ]
    }
   ],
   "source": [
    "print(\"target  :\", target)\n",
    "print(\"context :\", context)\n",
    "print(\"label   :\", label)"
   ]
  },
  {
   "cell_type": "markdown",
   "metadata": {
    "id": "4bRJIlow4Dlv"
   },
   "source": [
    "### Summary"
   ]
  },
  {
   "cell_type": "markdown",
   "metadata": {
    "id": "pWkuha0oykG5"
   },
   "source": [
    "This diagram summarizes the procedure of generating a training example from a sentence:\n"
   ]
  },
  {
   "cell_type": "markdown",
   "metadata": {
    "id": "_KlwdiAa9crJ"
   },
   "source": [
    "<img src=\"img/ref.01_word2vec_negative_sampling.png\" width=600>"
   ]
  },
  {
   "cell_type": "markdown",
   "metadata": {
    "id": "37e53f07f67c"
   },
   "source": [
    "Notice that the words `temperature` and `code` are not part of the input sentence. They belong to the vocabulary like certain other indices used in the diagram above."
   ]
  },
  {
   "cell_type": "markdown",
   "metadata": {
    "id": "9wmdO_MEIpaM"
   },
   "source": [
    "## Compile all steps into one function\n"
   ]
  },
  {
   "cell_type": "markdown",
   "metadata": {
    "id": "iLKwNAczHsKg"
   },
   "source": [
    "### Skip-gram sampling table "
   ]
  },
  {
   "cell_type": "markdown",
   "metadata": {
    "id": "TUUK3uDtFNFE"
   },
   "source": [
    "A large dataset means larger vocabulary with higher number of more frequent words such as stopwords. Training examples obtained from sampling commonly occurring words (such as `the`, `is`, `on`) don't add much useful information  for the model to learn from. [Mikolov et al.](https://papers.nips.cc/paper/5021-distributed-representations-of-words-and-phrases-and-their-compositionality.pdf) suggest subsampling of frequent words as a helpful practice to improve embedding quality. "
   ]
  },
  {
   "cell_type": "markdown",
   "metadata": {
    "id": "bPtbv7zNP7Dx"
   },
   "source": [
    "The `tf.keras.preprocessing.sequence.skipgrams` function accepts a sampling table argument to encode probabilities of sampling any token. You can use the `tf.keras.preprocessing.sequence.make_sampling_table` to  generate a word-frequency rank based probabilistic sampling table and pass it to the `skipgrams` function. Inspect the sampling probabilities for a `vocab_size` of 10."
   ]
  },
  {
   "cell_type": "code",
   "execution_count": 139,
   "metadata": {
    "execution": {
     "iopub.execute_input": "2022-07-27T01:23:06.137621Z",
     "iopub.status.busy": "2022-07-27T01:23:06.137096Z",
     "iopub.status.idle": "2022-07-27T01:23:06.140906Z",
     "shell.execute_reply": "2022-07-27T01:23:06.140304Z"
    },
    "id": "Rn9zAnDccyRg"
   },
   "outputs": [
    {
     "name": "stdout",
     "output_type": "stream",
     "text": [
      "3.152e-03, 3.152e-03, 5.476e-03, 7.416e-03, 9.128e-03, 1.068e-02, 1.212e-02, 1.347e-02, 1.474e-02, 1.596e-02\n"
     ]
    }
   ],
   "source": [
    "sampling_table = tf.keras.preprocessing.sequence.make_sampling_table(size=10)\n",
    "print(', '.join([f\"{s:.3e}\" for s in sampling_table]))"
   ]
  },
  {
   "cell_type": "markdown",
   "metadata": {
    "id": "EHvSptcPk5fp"
   },
   "source": [
    "`sampling_table[i]` denotes the probability of sampling the i-th most common word in a dataset. The function assumes a [Zipf's distribution](https://en.wikipedia.org/wiki/Zipf%27s_law) of the word frequencies for sampling."
   ]
  },
  {
   "cell_type": "markdown",
   "metadata": {
    "id": "mRHMssMmHgH-"
   },
   "source": [
    "Key point: The `tf.random.log_uniform_candidate_sampler` already assumes that the vocabulary frequency follows a log-uniform (Zipf's) distribution. Using these distribution weighted sampling also helps approximate the Noise Contrastive Estimation (NCE) loss with simpler loss functions for training a negative sampling objective."
   ]
  },
  {
   "cell_type": "markdown",
   "metadata": {
    "id": "aj--8RFK6fgW"
   },
   "source": [
    "### Generate training data"
   ]
  },
  {
   "cell_type": "markdown",
   "metadata": {
    "id": "dy5hl4lQ0B2M"
   },
   "source": [
    "Compile all the steps described above into a function that can be called on a list of vectorized sentences obtained from any text dataset. Notice that the sampling table is built before sampling skip-gram word pairs. You will use this function in the later sections."
   ]
  },
  {
   "cell_type": "code",
   "execution_count": 140,
   "metadata": {
    "execution": {
     "iopub.execute_input": "2022-07-27T01:23:06.144697Z",
     "iopub.status.busy": "2022-07-27T01:23:06.144307Z",
     "iopub.status.idle": "2022-07-27T01:23:06.150515Z",
     "shell.execute_reply": "2022-07-27T01:23:06.149964Z"
    },
    "id": "63INISDEX1Hu"
   },
   "outputs": [],
   "source": [
    "# Generates skip-gram pairs with negative sampling for a list of sequences\n",
    "# (int-encoded sentences) based on window size, number of negative samples\n",
    "# and vocabulary size.\n",
    "def generate_training_data(sequences, window_size, num_ns, vocab_size, seed):\n",
    "  # Elements of each training example are appended to these lists.\n",
    "  targets, contexts, labels = [], [], []\n",
    "\n",
    "  # Build the sampling table for `vocab_size` tokens.\n",
    "  sampling_table = tf.keras.preprocessing.sequence.make_sampling_table(vocab_size)\n",
    "\n",
    "  # Iterate over all sequences (sentences) in the dataset.\n",
    "  for sequence in tqdm.tqdm(sequences):\n",
    "\n",
    "    # Generate positive skip-gram pairs for a sequence (sentence).\n",
    "    positive_skip_grams, _ = tf.keras.preprocessing.sequence.skipgrams(\n",
    "          sequence,\n",
    "          vocabulary_size=vocab_size,\n",
    "          sampling_table=sampling_table,\n",
    "          window_size=window_size,\n",
    "          negative_samples=0)\n",
    "\n",
    "    # Iterate over each positive skip-gram pair to produce training examples\n",
    "    # with a positive context word and negative samples.\n",
    "    for target_word, context_word in positive_skip_grams:\n",
    "      context_class = tf.expand_dims(\n",
    "          tf.constant([context_word], dtype=\"int64\"), 1)\n",
    "      negative_sampling_candidates, _, _ = tf.random.log_uniform_candidate_sampler(\n",
    "          true_classes=context_class,\n",
    "          num_true=1,\n",
    "          num_sampled=num_ns,\n",
    "          unique=True,\n",
    "          range_max=vocab_size,\n",
    "          seed=seed,\n",
    "          name=\"negative_sampling\")\n",
    "\n",
    "      # Build context and label vectors (for one target word)\n",
    "      negative_sampling_candidates = tf.expand_dims(\n",
    "          negative_sampling_candidates, 1)\n",
    "\n",
    "      context = tf.concat([context_class, negative_sampling_candidates], 0)\n",
    "      label = tf.constant([1] + [0]*num_ns, dtype=\"int64\")\n",
    "\n",
    "      # Append each element from the training example to global lists.\n",
    "      targets.append(target_word)\n",
    "      contexts.append(context)\n",
    "      labels.append(label)\n",
    "\n",
    "  return targets, contexts, labels"
   ]
  },
  {
   "cell_type": "markdown",
   "metadata": {
    "id": "shvPC8Ji2cMK"
   },
   "source": [
    "## Prepare training data for word2vec"
   ]
  },
  {
   "cell_type": "markdown",
   "metadata": {
    "id": "j5mbZsZu6uKg"
   },
   "source": [
    "With an understanding of how to work with one sentence for a skip-gram negative sampling based word2vec model, you can proceed to generate training examples from a larger list of sentences!"
   ]
  },
  {
   "cell_type": "markdown",
   "metadata": {
    "id": "OFlikI6L26nh"
   },
   "source": [
    "### Download text corpus\n"
   ]
  },
  {
   "cell_type": "markdown",
   "metadata": {
    "id": "rEFavOgN98al"
   },
   "source": [
    "You will use a text file of Shakespeare's writing for this tutorial. Change the following line to run this code on your own data."
   ]
  },
  {
   "cell_type": "code",
   "execution_count": 141,
   "metadata": {
    "execution": {
     "iopub.execute_input": "2022-07-27T01:23:06.153909Z",
     "iopub.status.busy": "2022-07-27T01:23:06.153468Z",
     "iopub.status.idle": "2022-07-27T01:23:06.254480Z",
     "shell.execute_reply": "2022-07-27T01:23:06.253935Z"
    },
    "id": "QFkitxzVVaAi"
   },
   "outputs": [],
   "source": [
    "path_to_file = tf.keras.utils.get_file('shakespeare.txt', 'https://storage.googleapis.com/download.tensorflow.org/data/shakespeare.txt')"
   ]
  },
  {
   "cell_type": "code",
   "execution_count": 142,
   "metadata": {},
   "outputs": [
    {
     "data": {
      "text/plain": [
       "'/home/vtec/.keras/datasets/shakespeare.txt'"
      ]
     },
     "execution_count": 142,
     "metadata": {},
     "output_type": "execute_result"
    }
   ],
   "source": [
    "path_to_file"
   ]
  },
  {
   "cell_type": "markdown",
   "metadata": {
    "id": "sOsbLq8a37dr"
   },
   "source": [
    "Read the text from the file and print the first few lines: "
   ]
  },
  {
   "cell_type": "code",
   "execution_count": 143,
   "metadata": {
    "execution": {
     "iopub.execute_input": "2022-07-27T01:23:06.257741Z",
     "iopub.status.busy": "2022-07-27T01:23:06.257137Z",
     "iopub.status.idle": "2022-07-27T01:23:06.265533Z",
     "shell.execute_reply": "2022-07-27T01:23:06.265009Z"
    },
    "id": "lfgnsUw3ofMD"
   },
   "outputs": [
    {
     "name": "stdout",
     "output_type": "stream",
     "text": [
      "First Citizen:\n",
      "Before we proceed any further, hear me speak.\n",
      "\n",
      "All:\n",
      "Speak, speak.\n",
      "\n",
      "First Citizen:\n",
      "You are all resolved rather to die than to famish?\n",
      "\n",
      "All:\n"
     ]
    }
   ],
   "source": [
    "with open(path_to_file) as f:\n",
    "  lines = f.read().splitlines()\n",
    "for line in lines[:10]:\n",
    "  print(line)"
   ]
  },
  {
   "cell_type": "markdown",
   "metadata": {
    "id": "gTNZYqUs5C2V"
   },
   "source": [
    "Use the non empty lines to construct a `tf.data.TextLineDataset` object for the next steps:"
   ]
  },
  {
   "cell_type": "code",
   "execution_count": 144,
   "metadata": {
    "execution": {
     "iopub.execute_input": "2022-07-27T01:23:06.268487Z",
     "iopub.status.busy": "2022-07-27T01:23:06.268048Z",
     "iopub.status.idle": "2022-07-27T01:23:06.305440Z",
     "shell.execute_reply": "2022-07-27T01:23:06.304887Z"
    },
    "id": "ViDrwy-HjAs9"
   },
   "outputs": [],
   "source": [
    "text_ds = tf.data.TextLineDataset(path_to_file).filter(lambda x: tf.cast(tf.strings.length(x), bool))"
   ]
  },
  {
   "cell_type": "code",
   "execution_count": 145,
   "metadata": {},
   "outputs": [
    {
     "name": "stdout",
     "output_type": "stream",
     "text": [
      "b'First Citizen:'\n",
      "b'Before we proceed any further, hear me speak.'\n",
      "b'All:'\n",
      "b'Speak, speak.'\n",
      "b'First Citizen:'\n"
     ]
    }
   ],
   "source": [
    "for l in text_ds.take(5):\n",
    "    print(l.numpy())"
   ]
  },
  {
   "cell_type": "markdown",
   "metadata": {
    "id": "vfsc88zE9upk"
   },
   "source": [
    "### Vectorize sentences from the corpus"
   ]
  },
  {
   "cell_type": "markdown",
   "metadata": {
    "id": "XfgZo8zR94KK"
   },
   "source": [
    "You can use the `TextVectorization` layer to vectorize sentences from the corpus. Learn more about using this layer in this [Text classification](https://www.tensorflow.org/tutorials/keras/text_classification) tutorial. Notice from the first few sentences above that the text needs to be in one case and punctuation needs to be removed. To do this, define a `custom_standardization function` that can be used in the TextVectorization layer."
   ]
  },
  {
   "cell_type": "code",
   "execution_count": 146,
   "metadata": {
    "execution": {
     "iopub.execute_input": "2022-07-27T01:23:06.308879Z",
     "iopub.status.busy": "2022-07-27T01:23:06.308440Z",
     "iopub.status.idle": "2022-07-27T01:23:06.318718Z",
     "shell.execute_reply": "2022-07-27T01:23:06.318183Z"
    },
    "id": "2MlsXzo-ZlfK"
   },
   "outputs": [],
   "source": [
    "# Now, create a custom standardization function to lowercase the text and remove punctuation.\n",
    "def custom_standardization(input_data):\n",
    "  lowercase = tf.strings.lower(input_data)\n",
    "  return tf.strings.regex_replace(lowercase,\n",
    "                                  '[%s]' % re.escape(string.punctuation), '')\n",
    "\n",
    "\n",
    "# Define the vocabulary size and the number of words in a sequence.\n",
    "vocab_size = 4096\n",
    "sequence_length = 10\n",
    "\n",
    "# Use the `TextVectorization` layer to normalize, split, and map strings to integers. \n",
    "# Set the `output_sequence_length` length to pad all samples to the same length.\n",
    "vectorize_layer = layers.TextVectorization(\n",
    "    standardize=custom_standardization,\n",
    "    max_tokens=vocab_size,\n",
    "    output_mode='int',\n",
    "    output_sequence_length=sequence_length)"
   ]
  },
  {
   "cell_type": "markdown",
   "metadata": {
    "id": "g92LuvnyBmz1"
   },
   "source": [
    "Call `TextVectorization.adapt` on the text dataset to create vocabulary.\n"
   ]
  },
  {
   "cell_type": "code",
   "execution_count": 147,
   "metadata": {
    "execution": {
     "iopub.execute_input": "2022-07-27T01:23:06.321933Z",
     "iopub.status.busy": "2022-07-27T01:23:06.321357Z",
     "iopub.status.idle": "2022-07-27T01:23:07.499497Z",
     "shell.execute_reply": "2022-07-27T01:23:07.498841Z"
    },
    "id": "seZau_iYMPFT"
   },
   "outputs": [],
   "source": [
    "vectorize_layer.adapt(text_ds.batch(1024))"
   ]
  },
  {
   "cell_type": "markdown",
   "metadata": {
    "id": "jg2z7eeHMnH-"
   },
   "source": [
    "Once the state of the layer has been adapted to represent the text corpus, the vocabulary can be accessed with `TextVectorization.get_vocabulary`. This function returns a list of all vocabulary tokens sorted (descending) by their frequency."
   ]
  },
  {
   "cell_type": "code",
   "execution_count": 148,
   "metadata": {
    "execution": {
     "iopub.execute_input": "2022-07-27T01:23:07.503319Z",
     "iopub.status.busy": "2022-07-27T01:23:07.503083Z",
     "iopub.status.idle": "2022-07-27T01:23:07.512991Z",
     "shell.execute_reply": "2022-07-27T01:23:07.512365Z"
    },
    "id": "jgw9pTA7MRaU"
   },
   "outputs": [
    {
     "name": "stdout",
     "output_type": "stream",
     "text": [
      "['', '[UNK]', 'the', 'and', 'to', 'i', 'of', 'you', 'my', 'a', 'that', 'in', 'is', 'not', 'for', 'with', 'me', 'it', 'be', 'your']\n"
     ]
    }
   ],
   "source": [
    "# Save the created vocabulary for reference.\n",
    "inverse_vocab = vectorize_layer.get_vocabulary()\n",
    "print(inverse_vocab[:20])"
   ]
  },
  {
   "cell_type": "markdown",
   "metadata": {
    "id": "DOQ30Tx6KA2G"
   },
   "source": [
    "The `vectorize_layer` can now be used to generate vectors for each element in the `text_ds` (a `tf.data.Dataset`). Apply `Dataset.batch`, `Dataset.prefetch`, `Dataset.map`, and `Dataset.unbatch`."
   ]
  },
  {
   "cell_type": "code",
   "execution_count": 149,
   "metadata": {
    "execution": {
     "iopub.execute_input": "2022-07-27T01:23:07.516070Z",
     "iopub.status.busy": "2022-07-27T01:23:07.515554Z",
     "iopub.status.idle": "2022-07-27T01:23:07.550274Z",
     "shell.execute_reply": "2022-07-27T01:23:07.549720Z"
    },
    "id": "yUVYrDp0araQ"
   },
   "outputs": [],
   "source": [
    "# Vectorize the data in text_ds.\n",
    "text_vector_ds = text_ds.batch(1024).prefetch(AUTOTUNE).map(vectorize_layer).unbatch()"
   ]
  },
  {
   "cell_type": "markdown",
   "metadata": {
    "id": "7YyH_SYzB72p"
   },
   "source": [
    "### Obtain sequences from the dataset"
   ]
  },
  {
   "cell_type": "markdown",
   "metadata": {
    "id": "NFUQLX0_KaRC"
   },
   "source": [
    "You now have a `tf.data.Dataset` of integer encoded sentences. To prepare the dataset for training a word2vec model, flatten the dataset into a list of sentence vector sequences. This step is required as you would iterate over each sentence in the dataset to produce positive and negative examples.\n",
    "\n",
    "Note: Since the `generate_training_data()` defined earlier uses non-TensorFlow Python/NumPy functions, you could also use a `tf.py_function` or `tf.numpy_function` with `tf.data.Dataset.map`."
   ]
  },
  {
   "cell_type": "code",
   "execution_count": 150,
   "metadata": {
    "execution": {
     "iopub.execute_input": "2022-07-27T01:23:07.553725Z",
     "iopub.status.busy": "2022-07-27T01:23:07.553283Z",
     "iopub.status.idle": "2022-07-27T01:23:10.092248Z",
     "shell.execute_reply": "2022-07-27T01:23:10.091357Z"
    },
    "id": "sGXoOh9y11pM"
   },
   "outputs": [
    {
     "name": "stdout",
     "output_type": "stream",
     "text": [
      "32777\n"
     ]
    }
   ],
   "source": [
    "sequences = list(text_vector_ds.as_numpy_iterator())\n",
    "print(len(sequences))"
   ]
  },
  {
   "cell_type": "markdown",
   "metadata": {
    "id": "tDc4riukLTqg"
   },
   "source": [
    "Inspect a few examples from `sequences`:"
   ]
  },
  {
   "cell_type": "code",
   "execution_count": 151,
   "metadata": {
    "execution": {
     "iopub.execute_input": "2022-07-27T01:23:10.095905Z",
     "iopub.status.busy": "2022-07-27T01:23:10.095283Z",
     "iopub.status.idle": "2022-07-27T01:23:10.100014Z",
     "shell.execute_reply": "2022-07-27T01:23:10.099268Z"
    },
    "id": "WZf1RIbB2Dfb"
   },
   "outputs": [
    {
     "name": "stdout",
     "output_type": "stream",
     "text": [
      "[ 89 270   0   0   0   0   0   0   0   0] => ['first', 'citizen', '', '', '', '', '', '', '', '']\n",
      "[138  36 982 144 673 125  16 106   0   0] => ['before', 'we', 'proceed', 'any', 'further', 'hear', 'me', 'speak', '', '']\n",
      "[34  0  0  0  0  0  0  0  0  0] => ['all', '', '', '', '', '', '', '', '', '']\n",
      "[106 106   0   0   0   0   0   0   0   0] => ['speak', 'speak', '', '', '', '', '', '', '', '']\n",
      "[ 89 270   0   0   0   0   0   0   0   0] => ['first', 'citizen', '', '', '', '', '', '', '', '']\n"
     ]
    }
   ],
   "source": [
    "for seq in sequences[:5]:\n",
    "  print(f\"{seq} => {[inverse_vocab[i] for i in seq]}\")"
   ]
  },
  {
   "cell_type": "markdown",
   "metadata": {
    "id": "yDzSOjNwCWNh"
   },
   "source": [
    "### Generate training examples from sequences"
   ]
  },
  {
   "cell_type": "markdown",
   "metadata": {
    "id": "BehvYr-nEKyY"
   },
   "source": [
    "`sequences` is now a list of int encoded sentences. Just call the `generate_training_data` function defined earlier to generate training examples for the word2vec model. To recap, the function iterates over each word from each sequence to collect positive and negative context words. Length of target, contexts and labels should be the same, representing the total number of training examples."
   ]
  },
  {
   "cell_type": "code",
   "execution_count": 152,
   "metadata": {
    "execution": {
     "iopub.execute_input": "2022-07-27T01:23:10.103412Z",
     "iopub.status.busy": "2022-07-27T01:23:10.102953Z",
     "iopub.status.idle": "2022-07-27T01:23:45.711846Z",
     "shell.execute_reply": "2022-07-27T01:23:45.711036Z"
    },
    "id": "44DJ22M6nX5o"
   },
   "outputs": [
    {
     "name": "stderr",
     "output_type": "stream",
     "text": [
      "100%|██████████| 32777/32777 [00:13<00:00, 2432.92it/s]\n"
     ]
    },
    {
     "name": "stdout",
     "output_type": "stream",
     "text": [
      "\n",
      "\n",
      "targets.shape: (65147,)\n",
      "contexts.shape: (65147, 5)\n",
      "labels.shape: (65147, 5)\n"
     ]
    }
   ],
   "source": [
    "targets, contexts, labels = generate_training_data(\n",
    "    sequences=sequences,\n",
    "    window_size=2,\n",
    "    num_ns=4,\n",
    "    vocab_size=vocab_size,\n",
    "    seed=SEED)\n",
    "\n",
    "targets = np.array(targets)\n",
    "contexts = np.array(contexts)[:,:,0]\n",
    "labels = np.array(labels)\n",
    "\n",
    "print('\\n')\n",
    "print(f\"targets.shape: {targets.shape}\")\n",
    "print(f\"contexts.shape: {contexts.shape}\")\n",
    "print(f\"labels.shape: {labels.shape}\")"
   ]
  },
  {
   "cell_type": "markdown",
   "metadata": {
    "id": "97PqsusOFEpc"
   },
   "source": [
    "### Configure the dataset for performance"
   ]
  },
  {
   "cell_type": "markdown",
   "metadata": {
    "id": "7jnFVySViQTj"
   },
   "source": [
    "To perform efficient batching for the potentially large number of training examples, use the `tf.data.Dataset` API. After this step, you would have a `tf.data.Dataset` object of `(target_word, context_word), (label)` elements to train your word2vec model!"
   ]
  },
  {
   "cell_type": "code",
   "execution_count": 153,
   "metadata": {
    "execution": {
     "iopub.execute_input": "2022-07-27T01:23:45.715805Z",
     "iopub.status.busy": "2022-07-27T01:23:45.715169Z",
     "iopub.status.idle": "2022-07-27T01:23:45.727170Z",
     "shell.execute_reply": "2022-07-27T01:23:45.726458Z"
    },
    "id": "nbu8PxPSnVY2"
   },
   "outputs": [
    {
     "name": "stdout",
     "output_type": "stream",
     "text": [
      "<BatchDataset element_spec=((TensorSpec(shape=(1024,), dtype=tf.int64, name=None), TensorSpec(shape=(1024, 5), dtype=tf.int64, name=None)), TensorSpec(shape=(1024, 5), dtype=tf.int64, name=None))>\n"
     ]
    },
    {
     "data": {
      "text/plain": [
       "((TensorSpec(shape=(1024,), dtype=tf.int64, name=None),\n",
       "  TensorSpec(shape=(1024, 5), dtype=tf.int64, name=None)),\n",
       " TensorSpec(shape=(1024, 5), dtype=tf.int64, name=None))"
      ]
     },
     "execution_count": 153,
     "metadata": {},
     "output_type": "execute_result"
    }
   ],
   "source": [
    "BATCH_SIZE = 1024\n",
    "BUFFER_SIZE = 10000\n",
    "dataset = tf.data.Dataset.from_tensor_slices(((targets, contexts), labels))\n",
    "dataset = dataset.shuffle(BUFFER_SIZE).batch(BATCH_SIZE, drop_remainder=True)\n",
    "print(dataset)\n",
    "dataset.element_spec"
   ]
  },
  {
   "cell_type": "markdown",
   "metadata": {
    "id": "tyrNX6Fs6K3F"
   },
   "source": [
    "Apply `Dataset.cache` and `Dataset.prefetch` to improve performance:"
   ]
  },
  {
   "cell_type": "code",
   "execution_count": 154,
   "metadata": {
    "execution": {
     "iopub.execute_input": "2022-07-27T01:23:45.730679Z",
     "iopub.status.busy": "2022-07-27T01:23:45.729984Z",
     "iopub.status.idle": "2022-07-27T01:23:45.735212Z",
     "shell.execute_reply": "2022-07-27T01:23:45.734441Z"
    },
    "id": "Y5Ueg6bcFPVL"
   },
   "outputs": [
    {
     "data": {
      "text/plain": [
       "<PrefetchDataset element_spec=((TensorSpec(shape=(1024,), dtype=tf.int64, name=None), TensorSpec(shape=(1024, 5), dtype=tf.int64, name=None)), TensorSpec(shape=(1024, 5), dtype=tf.int64, name=None))>"
      ]
     },
     "execution_count": 154,
     "metadata": {},
     "output_type": "execute_result"
    }
   ],
   "source": [
    "dataset = dataset.cache().prefetch(buffer_size=AUTOTUNE)\n",
    "dataset"
   ]
  },
  {
   "cell_type": "markdown",
   "metadata": {
    "id": "1S-CmUMszyEf"
   },
   "source": [
    "## Model and training"
   ]
  },
  {
   "cell_type": "markdown",
   "metadata": {
    "id": "sQFqaBMPwBqC"
   },
   "source": [
    "The word2vec model can be implemented as a classifier to distinguish between true context words from skip-grams and false context words obtained through negative sampling. You can perform a dot product multiplication between the embeddings of target and context words to obtain predictions for labels and compute the loss function against true labels in the dataset."
   ]
  },
  {
   "cell_type": "markdown",
   "metadata": {
    "id": "oc7kTbiwD9sy"
   },
   "source": [
    "### Subclassed word2vec model"
   ]
  },
  {
   "cell_type": "markdown",
   "metadata": {
    "id": "Jvr9pM1G1sQN"
   },
   "source": [
    "Use the [Keras Subclassing API](https://www.tensorflow.org/guide/keras/custom_layers_and_models) to define your word2vec model with the following layers:\n",
    "\n",
    "* `target_embedding`: A `tf.keras.layers.Embedding` layer, which looks up the embedding of a word when it appears as a target word. The number of parameters in this layer are `(vocab_size * embedding_dim)`.\n",
    "* `context_embedding`: Another `tf.keras.layers.Embedding` layer, which looks up the embedding of a word when it appears as a context word. The number of parameters in this layer are the same as those in `target_embedding`, i.e. `(vocab_size * embedding_dim)`.\n",
    "* `dots`: A `tf.keras.layers.Dot` layer that computes the dot product of target and context embeddings from a training pair.\n",
    "* `flatten`: A `tf.keras.layers.Flatten` layer to flatten the results of `dots` layer into logits.\n",
    "\n",
    "With the subclassed model, you can define the `call()` function that accepts `(target, context)` pairs which can then be passed into their corresponding embedding layer. Reshape the `context_embedding` to perform a dot product with `target_embedding` and return the flattened result."
   ]
  },
  {
   "cell_type": "markdown",
   "metadata": {
    "id": "KiAwuIqqw7-7"
   },
   "source": [
    "Key point: The `target_embedding` and `context_embedding` layers can be shared as well. You could also use a concatenation of both embeddings as the final word2vec embedding."
   ]
  },
  {
   "cell_type": "code",
   "execution_count": 155,
   "metadata": {},
   "outputs": [],
   "source": [
    "embedding_dim = 128"
   ]
  },
  {
   "cell_type": "code",
   "execution_count": 156,
   "metadata": {
    "execution": {
     "iopub.execute_input": "2022-07-27T01:23:45.738739Z",
     "iopub.status.busy": "2022-07-27T01:23:45.738363Z",
     "iopub.status.idle": "2022-07-27T01:23:45.743660Z",
     "shell.execute_reply": "2022-07-27T01:23:45.742989Z"
    },
    "id": "i9ec-sS6xd8Z"
   },
   "outputs": [],
   "source": [
    "class Word2Vec(tf.keras.Model):\n",
    "  def __init__(self, vocab_size, embedding_dim):\n",
    "    super(Word2Vec, self).__init__()\n",
    "    self.target_embedding = layers.Embedding(vocab_size,\n",
    "                                             embedding_dim,\n",
    "                                             input_length=1,\n",
    "                                             name=\"w2v_embedding\")\n",
    "    self.context_embedding = layers.Embedding(vocab_size,\n",
    "                                              embedding_dim,\n",
    "                                              input_length=num_ns+1)\n",
    "\n",
    "  def call(self, pair):\n",
    "    target, context = pair\n",
    "    # target: (batch, dummy?)  # The dummy axis doesn't exist in TF2.7+\n",
    "    # context: (batch, context)\n",
    "    if len(target.shape) == 2:\n",
    "      target = tf.squeeze(target, axis=1)\n",
    "    # target: (batch,)\n",
    "    word_emb = self.target_embedding(target)\n",
    "    # word_emb: (batch, embed)\n",
    "    context_emb = self.context_embedding(context)\n",
    "    # context_emb: (batch, context, embed)\n",
    "    dots = tf.einsum('be,bce->bc', word_emb, context_emb)\n",
    "    # dots: (batch, context)\n",
    "    return dots"
   ]
  },
  {
   "cell_type": "markdown",
   "metadata": {},
   "source": [
    "Explain **Einstein Sum**\n",
    "\n",
    "It is a method to efficiently define different ways to perform complex sums between matrix. Example below uses `np.einsum` but this is the same for `tf.einsum`.\n",
    "\n",
    "`np.einsum('equation, array_1, array_2)` where `equation` is a string that maps indices in each of the arrays and in the outputed array: `'ij, jk -> ik`.\n",
    "\n",
    "See examples below:"
   ]
  },
  {
   "cell_type": "markdown",
   "metadata": {},
   "source": [
    "**Example 1: Matrix Multiplication or Dot Product**\n",
    "\n",
    "$$C = A.B$$\n",
    "$$ \\begin{bmatrix}\n",
    "\t\t\t      a_{1,1} & a_{1,2} & \\cdots & a_{1,m} \\\\\n",
    "\t\t\t\t  a_{2,1} & a_{2,2} & \\cdots & a_{2,m} \\\\\n",
    "\t\t\t\t  \\vdots  & \\vdots  & \\ddots & \\vdots  \\\\\n",
    "\t\t\t\t  a_{n,1} & a_{n,2} & \\cdots & a_{n,m} \n",
    "\t\t        \\end{bmatrix} \\times\n",
    "   \\begin{bmatrix} \n",
    "\t\t\t      b_{1,1} & b_{1,2} & \\cdots & b_{1,p} \\\\\n",
    "\t\t\t\t  b_{2,1} & b_{2,2} & \\cdots & b_{2,p} \\\\\n",
    "\t\t\t\t  \\vdots  & \\vdots  & \\ddots & \\vdots  \\\\\n",
    "\t\t\t\t  b_{m,1} & b_{m,2} & \\cdots & b_{m,p} \n",
    "\t\t        \\end{bmatrix} = \n",
    "   \\begin{bmatrix}\n",
    "\t\t\t      c_{1,1} & c_{1,2} & \\cdots & c_{1,p} \\\\\n",
    "\t\t\t\t  c_{2,1} & c_{2,2} & \\cdots & c_{2,p} \\\\\n",
    "\t\t\t\t  \\vdots  & \\vdots  & \\ddots & \\vdots  \\\\\n",
    "\t\t\t\t  c_{n,1} & c_{n,2} & \\cdots & c_{n,p} \n",
    "\t\t        \\end{bmatrix}\n",
    "                $$\n",
    "\n",
    "- $C$ where $ c_{i,j}= \\sum_k a_{i,k} \\times b_{k, j}$\n",
    "\n",
    "We can compute this sum in two ways:\n",
    "- using the numpy or tensorflow built in dot function:\n",
    "```python\n",
    "        C = np.dot(A, B)\n",
    "```\n",
    "- using the Einstein sum function and passing the equation like in the definition: `'ik,kj->ij'`\n",
    "```python\n",
    "    C = np.eisum('ik, kj->ij', A, B)\n",
    "```"
   ]
  },
  {
   "cell_type": "code",
   "execution_count": 157,
   "metadata": {},
   "outputs": [],
   "source": [
    "A = np.array([[0, 1, 2], [0, 11, 22]])\n",
    "\n",
    "B = np.array([[ 0,  1,  2,  3],\n",
    "              [ 4,  5,  6,  7],\n",
    "              [ 8,  9, 10, 11]])"
   ]
  },
  {
   "cell_type": "markdown",
   "metadata": {},
   "source": [
    "$$ \\begin{bmatrix}\n",
    "\t\t\t      0 & 1 & 2 \\\\\n",
    "\t\t\t\t  0 & 11 & 22 \n",
    "\t\t        \\end{bmatrix} \\times\n",
    "   \\begin{bmatrix} \n",
    "\t\t\t      0 & 1 & 2 & 3 \\\\\n",
    "\t\t\t      4 & 5 & 6 & 7 \\\\\n",
    "\t\t\t      8 & 9 & 10 & 11 \n",
    "\t\t        \\end{bmatrix} = \n",
    "   \\begin{bmatrix}\n",
    "\t\t\t      20 & 23 & 26 & 29 \\\\\n",
    "\t\t\t      220 & 253 & 286 & 319\n",
    "\t\t        \\end{bmatrix}\n",
    "                $$"
   ]
  },
  {
   "cell_type": "code",
   "execution_count": 158,
   "metadata": {},
   "outputs": [
    {
     "name": "stdout",
     "output_type": "stream",
     "text": [
      "MatMult with .dot:\n",
      "[[ 20  23  26  29]\n",
      " [220 253 286 319]]\n",
      "MatMult with .einsum:\n",
      "[[ 20  23  26  29]\n",
      " [220 253 286 319]]\n"
     ]
    }
   ],
   "source": [
    "print('MatMult with .dot:')\n",
    "print(np.dot(A, B))\n",
    "print('MatMult with .einsum:')\n",
    "print(np.einsum('ik, kj->ij', A,B))"
   ]
  },
  {
   "cell_type": "markdown",
   "metadata": {},
   "source": [
    "**Example 2: Inner Product**\n",
    "\n",
    "In our case, we have $v_w$: the target word vectors and $v_w^{'}$: the context word vectors. We have `ns_num + 1` context vectors for each target word vector: one positive/true context and `ns_num` negative/false context.\n",
    "\n",
    "For each prediction, we need to evaluate $P(w_{t+c}|w_t) = \\Large \\frac{\\exp({v_{wO}^{'}}^Tv_{wI})}{\\sum_{w=1}^{W} \\exp({v_{w}^{'}}^Tv_{wI})}$\n",
    "\n",
    "This formula includes a computation on tensors $\\large {v_{wO}^{'}}^T v_{wI}$\n",
    "\n",
    "For a batch of `[None]` samples, \n",
    "- the shape of target word tensor $v_w$ is `[None, embedding_dim]`\n",
    "- the shape of $v_w^{'}$ is `[None, ns_num + 1, embedding_dim]`\n",
    "\n",
    "What we want to do is to predict *logits* for each of the target word vectors presented as input, and evaluate the probability that each of them is positive/true/1 or negative/false/0.\n",
    "\n",
    "This means we need `1+ns_num` outputs, each evaluating one of the `1+ns_num`  i,e, $P(w_{t+c}|w_t)$ for $1 \\le c \\le $ `1+ns_num`.\n",
    "\n",
    "The formula $P(w_{t+c}|w_t) = \\Large \\frac{\\exp({v_{wO}^{'}}^Tv_{wI})}{\\sum_{w=1}^{W} \\exp({v_{w}^{'}}^Tv_{wI})}$ is the formula of the softmax activation applied to `1+ns_sum` logits $\\large {v_{wO}^{'}}^T v_{wI}$\n",
    "\n",
    "- input 1: $v_w$ tensor shape: `[None, embedding_dim]`\n",
    "- input 2: $v_w^{'}$ tensor shape: `[None, ns_num + 1, embedding_dim]`\n",
    "- output: `[None, ns_num+1, 1]`, each being the inner product between ${v_{w_iO}^{'}}^Tv_{w_I}$"
   ]
  },
  {
   "cell_type": "code",
   "execution_count": 159,
   "metadata": {},
   "outputs": [
    {
     "data": {
      "text/plain": [
       "((16, 128), (16, 5, 128))"
      ]
     },
     "execution_count": 159,
     "metadata": {},
     "output_type": "execute_result"
    }
   ],
   "source": [
    "ns_num = 4\n",
    "\n",
    "target_word_vector = np.random.normal(size=(16, 128))\n",
    "context_words_vector = np.random.normal(size=(16, ns_num+1, 128))\n",
    "target_word_vector.shape, context_words_vector.shape"
   ]
  },
  {
   "cell_type": "markdown",
   "metadata": {},
   "source": [
    "We have \n",
    "- target word tensor of shape `[16, 128]` for 16-sample batch and 128 embededing dimensions\n",
    "- context word tensor of shape `[16, 5, 128]` for 16-sample batch of 5 context words (1 positive and 4 negative) of 128 embedding dimensions.\n",
    "\n",
    "We need an output of shape `[16, 5, 1]`, for 16-sample batch of 1-digit logits for each of the 5 target word vectors"
   ]
  },
  {
   "cell_type": "code",
   "execution_count": 160,
   "metadata": {},
   "outputs": [
    {
     "data": {
      "text/plain": [
       "(16, 5)"
      ]
     },
     "execution_count": 160,
     "metadata": {},
     "output_type": "execute_result"
    }
   ],
   "source": [
    "np.einsum('se, sce -> sc', target_word_vector, context_words_vector).shape"
   ]
  },
  {
   "cell_type": "markdown",
   "metadata": {
    "id": "-RLKz9LFECXu"
   },
   "source": [
    "### Define loss function and compile model\n"
   ]
  },
  {
   "cell_type": "markdown",
   "metadata": {
    "id": "I3Md-9QanqBM"
   },
   "source": [
    "For simplicity, you can use `tf.keras.losses.CategoricalCrossEntropy` as an alternative to the negative sampling loss. If you would like to write your own custom loss function, you can also do so as follows:\n",
    "\n",
    "``` python\n",
    "def custom_loss(x_logit, y_true):\n",
    "      return tf.nn.sigmoid_cross_entropy_with_logits(logits=x_logit, labels=y_true)\n",
    "```\n",
    "\n",
    "It's time to build your model! Instantiate your word2vec class with an embedding dimension of 128 (you could experiment with different values). Compile the model with the `tf.keras.optimizers.Adam` optimizer. "
   ]
  },
  {
   "cell_type": "code",
   "execution_count": 163,
   "metadata": {},
   "outputs": [
    {
     "data": {
      "text/plain": [
       "4096"
      ]
     },
     "execution_count": 163,
     "metadata": {},
     "output_type": "execute_result"
    }
   ],
   "source": [
    "vocab_size"
   ]
  },
  {
   "cell_type": "code",
   "execution_count": 164,
   "metadata": {
    "execution": {
     "iopub.execute_input": "2022-07-27T01:23:45.747076Z",
     "iopub.status.busy": "2022-07-27T01:23:45.746658Z",
     "iopub.status.idle": "2022-07-27T01:23:45.761304Z",
     "shell.execute_reply": "2022-07-27T01:23:45.760622Z"
    },
    "id": "ekQg_KbWnnmQ"
   },
   "outputs": [],
   "source": [
    "embedding_dim = 128\n",
    "word2vec = Word2Vec(vocab_size, embedding_dim)\n",
    "word2vec.compile(optimizer='adam',\n",
    "                 loss=tf.keras.losses.CategoricalCrossentropy(from_logits=True),\n",
    "                 metrics=['accuracy'])"
   ]
  },
  {
   "cell_type": "markdown",
   "metadata": {
    "id": "P3MUMrluqNX2"
   },
   "source": [
    "Also define a callback to log training statistics for TensorBoard:"
   ]
  },
  {
   "cell_type": "code",
   "execution_count": 165,
   "metadata": {
    "execution": {
     "iopub.execute_input": "2022-07-27T01:23:45.764668Z",
     "iopub.status.busy": "2022-07-27T01:23:45.764227Z",
     "iopub.status.idle": "2022-07-27T01:23:45.767715Z",
     "shell.execute_reply": "2022-07-27T01:23:45.767020Z"
    },
    "id": "9d-ftBCeEZIR"
   },
   "outputs": [],
   "source": [
    "tensorboard_callback = tf.keras.callbacks.TensorBoard(log_dir=\"logs\")"
   ]
  },
  {
   "cell_type": "markdown",
   "metadata": {
    "id": "h5wEBotlGZ7B"
   },
   "source": [
    "Train the model on the `dataset` for some number of epochs:"
   ]
  },
  {
   "cell_type": "code",
   "execution_count": 166,
   "metadata": {
    "execution": {
     "iopub.execute_input": "2022-07-27T01:23:45.770826Z",
     "iopub.status.busy": "2022-07-27T01:23:45.770514Z",
     "iopub.status.idle": "2022-07-27T01:23:51.193495Z",
     "shell.execute_reply": "2022-07-27T01:23:51.192816Z"
    },
    "id": "gmC1BJalEZIY"
   },
   "outputs": [
    {
     "name": "stdout",
     "output_type": "stream",
     "text": [
      "Epoch 1/20\n",
      "63/63 [==============================] - 4s 48ms/step - loss: 1.6081 - accuracy: 0.2312\n",
      "Epoch 2/20\n",
      "63/63 [==============================] - 3s 44ms/step - loss: 1.5882 - accuracy: 0.5514\n",
      "Epoch 3/20\n",
      "63/63 [==============================] - 3s 49ms/step - loss: 1.5392 - accuracy: 0.5911\n",
      "Epoch 4/20\n",
      "63/63 [==============================] - 3s 52ms/step - loss: 1.4561 - accuracy: 0.5620\n",
      "Epoch 5/20\n",
      "63/63 [==============================] - 3s 54ms/step - loss: 1.3590 - accuracy: 0.5722\n",
      "Epoch 6/20\n",
      "63/63 [==============================] - 3s 54ms/step - loss: 1.2636 - accuracy: 0.6013\n",
      "Epoch 7/20\n",
      "63/63 [==============================] - 3s 49ms/step - loss: 1.1746 - accuracy: 0.6365\n",
      "Epoch 8/20\n",
      "63/63 [==============================] - 3s 47ms/step - loss: 1.0920 - accuracy: 0.6712\n",
      "Epoch 9/20\n",
      "63/63 [==============================] - 3s 49ms/step - loss: 1.0149 - accuracy: 0.7043\n",
      "Epoch 10/20\n",
      "63/63 [==============================] - 3s 45ms/step - loss: 0.9431 - accuracy: 0.7339\n",
      "Epoch 11/20\n",
      "63/63 [==============================] - 3s 47ms/step - loss: 0.8762 - accuracy: 0.7608\n",
      "Epoch 12/20\n",
      "63/63 [==============================] - 3s 42ms/step - loss: 0.8142 - accuracy: 0.7842\n",
      "Epoch 13/20\n",
      "63/63 [==============================] - 2s 39ms/step - loss: 0.7570 - accuracy: 0.8043\n",
      "Epoch 14/20\n",
      "63/63 [==============================] - 3s 46ms/step - loss: 0.7045 - accuracy: 0.8224\n",
      "Epoch 15/20\n",
      "63/63 [==============================] - 4s 67ms/step - loss: 0.6563 - accuracy: 0.8389\n",
      "Epoch 16/20\n",
      "63/63 [==============================] - 3s 46ms/step - loss: 0.6122 - accuracy: 0.8521\n",
      "Epoch 17/20\n",
      "63/63 [==============================] - 3s 45ms/step - loss: 0.5720 - accuracy: 0.8638\n",
      "Epoch 18/20\n",
      "63/63 [==============================] - 2s 38ms/step - loss: 0.5354 - accuracy: 0.8746\n",
      "Epoch 19/20\n",
      "63/63 [==============================] - 3s 43ms/step - loss: 0.5020 - accuracy: 0.8845\n",
      "Epoch 20/20\n",
      "63/63 [==============================] - 3s 50ms/step - loss: 0.4716 - accuracy: 0.8930\n"
     ]
    },
    {
     "data": {
      "text/plain": [
       "<keras.callbacks.History at 0x7fe5e5c93af0>"
      ]
     },
     "execution_count": 166,
     "metadata": {},
     "output_type": "execute_result"
    }
   ],
   "source": [
    "hist = word2vec.fit(dataset, epochs=20, callbacks=[tensorboard_callback])"
   ]
  },
  {
   "cell_type": "markdown",
   "metadata": {
    "id": "wze38jG57XvZ"
   },
   "source": [
    "TensorBoard now shows the word2vec model's accuracy and loss:"
   ]
  },
  {
   "cell_type": "code",
   "execution_count": null,
   "metadata": {
    "id": "22E9eqS55rgz"
   },
   "outputs": [],
   "source": [
    "#docs_infra: no_execute\n",
    "%tensorboard --logdir logs"
   ]
  },
  {
   "cell_type": "markdown",
   "metadata": {
    "id": "awF3iRQCZOLj"
   },
   "source": [
    "<!-- <img class=\"tfo-display-only-on-site\" src=\"images/word2vec_tensorboard.png\"/> -->"
   ]
  },
  {
   "cell_type": "markdown",
   "metadata": {},
   "source": [
    "A pure Keras model"
   ]
  },
  {
   "cell_type": "code",
   "execution_count": 167,
   "metadata": {},
   "outputs": [
    {
     "data": {
      "text/plain": [
       "(4096, 128, 4)"
      ]
     },
     "execution_count": 167,
     "metadata": {},
     "output_type": "execute_result"
    }
   ],
   "source": [
    "vocab_size, embedding_dim, num_ns"
   ]
  },
  {
   "cell_type": "code",
   "execution_count": 171,
   "metadata": {},
   "outputs": [
    {
     "name": "stdout",
     "output_type": "stream",
     "text": [
      "Model: \"w2v\"\n",
      "__________________________________________________________________________________________________\n",
      " Layer (type)                   Output Shape         Param #     Connected to                     \n",
      "==================================================================================================\n",
      " target_in (InputLayer)         [(None,)]            0           []                               \n",
      "                                                                                                  \n",
      " context_in (InputLayer)        [(None, 5)]          0           []                               \n",
      "                                                                                                  \n",
      " w2v_embedding (Embedding)      (None, 128)          524288      ['target_in[0][0]']              \n",
      "                                                                                                  \n",
      " context_embs (Embedding)       (None, 5, 128)       524288      ['context_in[0][0]']             \n",
      "                                                                                                  \n",
      " tf.einsum_11 (TFOpLambda)      (None, 5)            0           ['w2v_embedding[0][0]',          \n",
      "                                                                  'context_embs[0][0]']           \n",
      "                                                                                                  \n",
      "==================================================================================================\n",
      "Total params: 1,048,576\n",
      "Trainable params: 1,048,576\n",
      "Non-trainable params: 0\n",
      "__________________________________________________________________________________________________\n",
      "Model: \"word2_vec_3\"\n",
      "_________________________________________________________________\n",
      " Layer (type)                Output Shape              Param #   \n",
      "=================================================================\n",
      " w2v_embedding (Embedding)   multiple                  524288    \n",
      "                                                                 \n",
      " embedding_9 (Embedding)     multiple                  524288    \n",
      "                                                                 \n",
      "=================================================================\n",
      "Total params: 1,048,576\n",
      "Trainable params: 1,048,576\n",
      "Non-trainable params: 0\n",
      "_________________________________________________________________\n"
     ]
    }
   ],
   "source": [
    "def init_w2v(vocab_size=1024, embedding_dim=128):\n",
    "    target_in = Input(shape=(), name='target_in')\n",
    "    context_in = Input(shape=(num_ns+1), name='context_in')\n",
    "\n",
    "    embs_target = layers.Embedding(\n",
    "        input_dim=vocab_size,\n",
    "        output_dim=embedding_dim,\n",
    "        input_length=1,\n",
    "        name=\"w2v_embedding\")(target_in)\n",
    "\n",
    "    embs_context = layers.Embedding(\n",
    "        input_dim=vocab_size,\n",
    "        output_dim=embedding_dim,\n",
    "        input_length=num_ns+1,\n",
    "        name=\"context_embs\")(context_in)\n",
    "\n",
    "    logits = tf.einsum('be,bce->bc', embs_target, embs_context)\n",
    "\n",
    "    w2v = Model([target_in, context_in], logits, name='w2v')\n",
    "\n",
    "    return w2v\n",
    "\n",
    "init_w2v(vocab_size, embedding_dim).summary()\n",
    "word2vec.summary()\n"
   ]
  },
  {
   "cell_type": "code",
   "execution_count": 175,
   "metadata": {},
   "outputs": [],
   "source": [
    "w2v = init_w2v(vocab_size, embedding_dim)\n",
    "w2v.compile(\n",
    "    optimizer='adam',\n",
    "    loss=tf.keras.losses.CategoricalCrossentropy(from_logits=True),\n",
    "    metrics=['accuracy'])"
   ]
  },
  {
   "cell_type": "code",
   "execution_count": 176,
   "metadata": {},
   "outputs": [
    {
     "name": "stdout",
     "output_type": "stream",
     "text": [
      "Epoch 1/20\n",
      "63/63 [==============================] - 3s 37ms/step - loss: 1.6081 - accuracy: 0.2367\n",
      "Epoch 2/20\n",
      "63/63 [==============================] - 2s 39ms/step - loss: 1.5883 - accuracy: 0.5478\n",
      "Epoch 3/20\n",
      "63/63 [==============================] - 2s 39ms/step - loss: 1.5394 - accuracy: 0.5875\n",
      "Epoch 4/20\n",
      "63/63 [==============================] - 3s 42ms/step - loss: 1.4552 - accuracy: 0.5646\n",
      "Epoch 5/20\n",
      "63/63 [==============================] - 3s 43ms/step - loss: 1.3573 - accuracy: 0.5740\n",
      "Epoch 6/20\n",
      "63/63 [==============================] - 2s 38ms/step - loss: 1.2620 - accuracy: 0.6033\n",
      "Epoch 7/20\n",
      "63/63 [==============================] - 3s 42ms/step - loss: 1.1731 - accuracy: 0.6379\n",
      "Epoch 8/20\n",
      "63/63 [==============================] - 2s 37ms/step - loss: 1.0903 - accuracy: 0.6737\n",
      "Epoch 9/20\n",
      "63/63 [==============================] - 2s 39ms/step - loss: 1.0129 - accuracy: 0.7068\n",
      "Epoch 10/20\n",
      "63/63 [==============================] - 2s 40ms/step - loss: 0.9407 - accuracy: 0.7377\n",
      "Epoch 11/20\n",
      "63/63 [==============================] - 3s 51ms/step - loss: 0.8735 - accuracy: 0.7640\n",
      "Epoch 12/20\n",
      "63/63 [==============================] - 3s 48ms/step - loss: 0.8113 - accuracy: 0.7858\n",
      "Epoch 13/20\n",
      "63/63 [==============================] - 2s 30ms/step - loss: 0.7539 - accuracy: 0.8052\n",
      "Epoch 14/20\n",
      "63/63 [==============================] - 3s 43ms/step - loss: 0.7012 - accuracy: 0.8230\n",
      "Epoch 15/20\n",
      "63/63 [==============================] - 2s 34ms/step - loss: 0.6530 - accuracy: 0.8390\n",
      "Epoch 16/20\n",
      "63/63 [==============================] - 3s 50ms/step - loss: 0.6090 - accuracy: 0.8526\n",
      "Epoch 17/20\n",
      "63/63 [==============================] - 3s 42ms/step - loss: 0.5688 - accuracy: 0.8651\n",
      "Epoch 18/20\n",
      "63/63 [==============================] - 3s 46ms/step - loss: 0.5323 - accuracy: 0.8760\n",
      "Epoch 19/20\n",
      "63/63 [==============================] - 3s 42ms/step - loss: 0.4990 - accuracy: 0.8864\n",
      "Epoch 20/20\n",
      "63/63 [==============================] - 2s 34ms/step - loss: 0.4688 - accuracy: 0.8955\n"
     ]
    }
   ],
   "source": [
    "hist_w2v = w2v.fit(dataset, epochs=20)"
   ]
  },
  {
   "cell_type": "markdown",
   "metadata": {
    "id": "TaDW2tIIz8fL"
   },
   "source": [
    "## Embedding lookup and analysis"
   ]
  },
  {
   "cell_type": "markdown",
   "metadata": {
    "id": "Zp5rv01WG2YA"
   },
   "source": [
    "Obtain the weights from the model using `Model.get_layer` and `Layer.get_weights`. The `TextVectorization.get_vocabulary` function provides the vocabulary to build a metadata file with one token per line."
   ]
  },
  {
   "cell_type": "code",
   "execution_count": 45,
   "metadata": {
    "execution": {
     "iopub.execute_input": "2022-07-27T01:23:51.199215Z",
     "iopub.status.busy": "2022-07-27T01:23:51.198729Z",
     "iopub.status.idle": "2022-07-27T01:23:51.209423Z",
     "shell.execute_reply": "2022-07-27T01:23:51.208831Z"
    },
    "id": "_Uamp1YH8RzU"
   },
   "outputs": [],
   "source": [
    "weights = word2vec.get_layer('w2v_embedding').get_weights()[0]\n",
    "vocab = vectorize_layer.get_vocabulary()"
   ]
  },
  {
   "cell_type": "markdown",
   "metadata": {
    "id": "gWzdmUzS8Sl4"
   },
   "source": [
    "Create and save the vectors and metadata files:"
   ]
  },
  {
   "cell_type": "code",
   "execution_count": 46,
   "metadata": {
    "execution": {
     "iopub.execute_input": "2022-07-27T01:23:51.212852Z",
     "iopub.status.busy": "2022-07-27T01:23:51.212248Z",
     "iopub.status.idle": "2022-07-27T01:23:51.497207Z",
     "shell.execute_reply": "2022-07-27T01:23:51.496608Z"
    },
    "id": "VLIahl9s53XT"
   },
   "outputs": [],
   "source": [
    "out_v = io.open('vectors.tsv', 'w', encoding='utf-8')\n",
    "out_m = io.open('metadata.tsv', 'w', encoding='utf-8')\n",
    "\n",
    "for index, word in enumerate(vocab):\n",
    "  if index == 0:\n",
    "    continue  # skip 0, it's padding.\n",
    "  vec = weights[index]\n",
    "  out_v.write('\\t'.join([str(x) for x in vec]) + \"\\n\")\n",
    "  out_m.write(word + \"\\n\")\n",
    "out_v.close()\n",
    "out_m.close()"
   ]
  },
  {
   "cell_type": "markdown",
   "metadata": {
    "id": "1T8KcThhIU8-"
   },
   "source": [
    "Download the `vectors.tsv` and `metadata.tsv` to analyze the obtained embeddings in the [Embedding Projector](https://projector.tensorflow.org/):"
   ]
  },
  {
   "cell_type": "code",
   "execution_count": 47,
   "metadata": {
    "execution": {
     "iopub.execute_input": "2022-07-27T01:23:51.500717Z",
     "iopub.status.busy": "2022-07-27T01:23:51.500463Z",
     "iopub.status.idle": "2022-07-27T01:23:51.503975Z",
     "shell.execute_reply": "2022-07-27T01:23:51.503450Z"
    },
    "id": "lUsjQOKMIV2z"
   },
   "outputs": [],
   "source": [
    "try:\n",
    "  from google.colab import files\n",
    "  files.download('vectors.tsv')\n",
    "  files.download('metadata.tsv')\n",
    "except Exception:\n",
    "  pass"
   ]
  },
  {
   "cell_type": "markdown",
   "metadata": {
    "id": "iS_uMeMw3Xpj"
   },
   "source": [
    "## Next steps\n"
   ]
  },
  {
   "cell_type": "markdown",
   "metadata": {
    "id": "BSgAZpwF5xF_"
   },
   "source": [
    "This tutorial has shown you how to implement a skip-gram word2vec model with negative sampling from scratch and visualize the obtained word embeddings.\n",
    "\n",
    "* To learn more about word vectors and their mathematical representations, refer to these [notes](https://web.stanford.edu/class/cs224n/readings/cs224n-2019-notes01-wordvecs1.pdf).\n",
    "\n",
    "* To learn more about advanced text processing, read the [Transformer model for language understanding](https://www.tensorflow.org/tutorials/text/transformer) tutorial.\n",
    "\n",
    "* If you’re interested in pre-trained embedding models, you may also be interested in [Exploring the TF-Hub CORD-19 Swivel Embeddings](https://www.tensorflow.org/hub/tutorials/cord_19_embeddings_keras), or the [Multilingual Universal Sentence Encoder](https://www.tensorflow.org/hub/tutorials/cross_lingual_similarity_with_tf_hub_multilingual_universal_encoder).\n",
    "\n",
    "* You may also like to train the model on a new dataset (there are many available in [TensorFlow Datasets](https://www.tensorflow.org/datasets)).\n"
   ]
  }
 ],
 "metadata": {
  "colab": {
   "collapsed_sections": [],
   "name": "word2vec.ipynb",
   "toc_visible": true
  },
  "kernelspec": {
   "display_name": "Python 3.9.12 ('metagen')",
   "language": "python",
   "name": "python3"
  },
  "language_info": {
   "codemirror_mode": {
    "name": "ipython",
    "version": 3
   },
   "file_extension": ".py",
   "mimetype": "text/x-python",
   "name": "python",
   "nbconvert_exporter": "python",
   "pygments_lexer": "ipython3",
   "version": "3.9.12"
  },
  "vscode": {
   "interpreter": {
    "hash": "dfd3b4934a6b4e35dd599b40cbe0afdec143404ac9fcb14c4b97cc2a93514568"
   }
  }
 },
 "nbformat": 4,
 "nbformat_minor": 0
}
