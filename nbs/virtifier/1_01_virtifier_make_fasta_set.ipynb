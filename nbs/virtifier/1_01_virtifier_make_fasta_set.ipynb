{
 "cells": [
  {
   "cell_type": "markdown",
   "metadata": {},
   "source": [
    "# Process Data from Seq2Vec (Virtifier)"
   ]
  },
  {
   "cell_type": "code",
   "execution_count": 10,
   "metadata": {},
   "outputs": [],
   "source": [
    "import os\n",
    "import numpy as np\n",
    "import pandas as pd\n",
    "import json\n",
    "import shutil\n",
    "\n",
    "from pathlib import Path\n",
    "from pprint import pprint"
   ]
  },
  {
   "cell_type": "markdown",
   "metadata": {},
   "source": [
    "# Load Training Datasets"
   ]
  },
  {
   "cell_type": "markdown",
   "metadata": {},
   "source": [
    "File Structure:\n",
    "```\n",
    "project\n",
    "  |\n",
    "  |---data\n",
    "  |     |\n",
    "  |     |-virtifier\n",
    "  |     |     |\n",
    "  |     |     | \"all processed file for virtifier and seq2vec\"\n",
    "  | \n",
    "  |---repos\n",
    "  |     |\n",
    "  |     |--- virtifier (cloned from https://github.com/crazyinter/Seq2Vec)\n",
    "  |     |\n",
    "  |     |---data\n",
    "  |     |\n",
    "  |     |---suplementary_files\n",
    "```"
   ]
  },
  {
   "cell_type": "code",
   "execution_count": 14,
   "metadata": {},
   "outputs": [],
   "source": [
    "proc_data = Path('../data/virtifier').resolve()\n",
    "seq2vec_repo = Path('../repos/seq2vec').resolve()\n",
    "assert proc_data.is_dir()\n",
    "assert seq2vec_repo.is_dir()"
   ]
  },
  {
   "cell_type": "code",
   "execution_count": 15,
   "metadata": {},
   "outputs": [
    {
     "name": "stdout",
     "output_type": "stream",
     "text": [
      "(9000, 298) (9000, 498)\n"
     ]
    },
    {
     "data": {
      "text/plain": [
       "array([46., 57., 35., 61., 16.,  6.,  9., 35., 61., 16.])"
      ]
     },
     "execution_count": 15,
     "metadata": {},
     "output_type": "execute_result"
    }
   ],
   "source": [
    "train_file_300 = seq2vec_repo /'data/train_300bp.fasta'\n",
    "train_file_500 = seq2vec_repo /'data/train_500bp.fasta'\n",
    "assert train_file_300.is_file()\n",
    "assert train_file_500.is_file()\n",
    "\n",
    "X_train_300=np.loadtxt(open(train_file_300,\"rb\"),delimiter=\",\",skiprows=0)\n",
    "X_train_500=np.loadtxt(open(train_file_500,\"rb\"),delimiter=\",\",skiprows=0)\n",
    "print(X_train_300.shape, X_train_500.shape)\n",
    "X_train_300[0,:10]"
   ]
  },
  {
   "cell_type": "markdown",
   "metadata": {},
   "source": [
    "# Codon 2 Numerical Code\n",
    "Conversion between codon and number code according to the Virifier code. The conversion dictionary is saved in a json file. For conversion identical to the one used by `Seq2Vec` packate (Vitrifier), the file is `seq2vec_codon2codes.json`"
   ]
  },
  {
   "cell_type": "code",
   "execution_count": 18,
   "metadata": {},
   "outputs": [
    {
     "name": "stdout",
     "output_type": "stream",
     "text": [
      "TGTCTATTCTATTATATTATATAGACGGATTAGTCTCAAACCTTTGATATTAAAAGGTTTGAGTTTTTTATTTTTATCTAACAATAGAATTAACAGAGTTTTTAACAGAGTTCTATTTTAAAAGTTGGCATACTTAGTAAATAGTTCAAGCTCTTTATTCTTCTTTTCGGGCTCAAGATGTGAGTATAGGTCCATAGTCAATTGCAACTTTGAATGACCTAGCCTTTCTTGAATCACTTTATAACTCATTTCAGCATTTAAACAAAGGCTAGCGTGTGAACGCCTGAATCCATGAAAGCTCAACAACGGCAGTTCAGCATTTTTGATTATATTATTCAGCTTGTAGATAAGGTTGTGATAATCCATCACTCCACCTTCTATTTTTGGAAATACTAGGTTTTGTTGTGGATTTCCTAACTTCATAAAGTGTTTCTTTTGAAAGAAGTACCAGCTTTTTAATACATAAATTGCCTTATCGTCAATGCTAATAATTCGATTGC\n",
      "GAAATTACTAAGACAAGGTTCTTTGTCAGTAAATCTGGGACACGTACTGGTAAAGGGTTGCGTCATAAAGTAATTTCATCAATTTTTGATACGAAACATGTCAATCTAGACGAACTCTCAAATAAGGCAACGGCTGCAATGGCTTGGGCTGGATTTGATGGCGGAGAAATGTTACTGGTGACTGAATCAGGAGAAATCGGAAAAAGCTTAGAACGTTATTTGAAAATACTGGCTACTGAAAGTACATATCGTGGTCGAGGTATCGGTCAAAACTATGCGGATATTAATCTTACTGGTGTGCTGTCTATTGATTCAAATGAAAAAGTTCTGTTTTCTTCTGAGATGAATAGCAGGGCTGTGAACATTGCTTTTAAGAATCGTCCTAAAGGGGAAACTGATAGCGAACGTGAATCAATCTTTGCGCCCTACTGGGAAGCATTTACTGAACAGCGTGTATCTGAGACCAGTCGAGAAGCAACGGCGCTTGCAGGAGTGCTGCT\n",
      "AGGCTTAACAATCTGTTTGAATTAGCTTTAGGGGGAAGTATTTCATATCCTACAGGAGAATGAGAAATAGCTTTGTTGATATCAAGAGTTGATTTTCTATAATCTTTCCATTCAAGAGCGAGAAGTTCACCTTTACGAATTCCAGTAAAAGCAAGGATACGAAATAAAGCTATTTTCTTAATATCATTCGTTTTTTCTACTAAAGCCATAAAATCTCTTAATTCATCGGTATCATAAAAGTCTTTCTTTTCTTCAACTTTTTTCTTAATACCTTGAGACGTCACAGGAAGCGCTGGATTAGCTTGTATGTAACTTAGCAGAGCAGCGTGATTAAATACCTTGCGAACCATTCCGAAGAGTTTACGAGCGAATTTAAGCTTCTCAGATAAATCATTTCTAAAGTTTTGTAACTCCATGGGTGTAAAATCTGATAGTTTTGTGCTTCCTATGACGGGTAAGACATGTTTTTCAAAAGCTCGAGTAGTTTTGTAGTAAGTGCT\n"
     ]
    }
   ],
   "source": [
    "def decode_sequence(seq, code2codon=None):\n",
    "    \"\"\"Takes a sequence encoded for Seq2Vec (stride 1) and recover the initial sequence as a letter string\"\"\"\n",
    "\n",
    "    if code2codon is None:\n",
    "        # Build the list to convert a codon code into a three letter string \n",
    "        # Format: code2codon[i] returns the three letter codon\n",
    "        \n",
    "        # load the codon2code dictionary from json file\n",
    "        json_fname =  proc_data/ 'seq2vec_codon2codes.json'\n",
    "        if not json_fname.is_file():\n",
    "            raise ValueError(f\"Must have {json_fname.name} file in virtifier data folder\")\n",
    "        with open(json_fname, 'r') as fp:\n",
    "            codon2code = json.load(fp)\n",
    "\n",
    "        # build list by using each (codon, code) present in the dictionary. All others are 'Unknow'\n",
    "        code2codon = ['Unknow'] * 65\n",
    "        for codon, i in codon2code.items():\n",
    "            code2codon[i] = codon\n",
    "\n",
    "    # check format of the passed sequence and cast it as a np.array\n",
    "    if isinstance(seq, list):\n",
    "        seq = np.array(seq)\n",
    "    elif seq.ndim > 1:\n",
    "        raise ValueError('seq should be a list or a 1D np.array')\n",
    "\n",
    "    seq_len = seq.shape[0]\n",
    "    sep = ''\n",
    "    s = sep.join([code2codon[int(i)][0] for i in seq]) + sep + code2codon[int(seq[seq_len-1])][1:]\n",
    "    return s\n",
    "\n",
    "for seq_nbr in [0, 10, 30]:\n",
    "    seq_decoded = decode_sequence(X_train_500[seq_nbr, :])\n",
    "    print(seq_decoded)"
   ]
  },
  {
   "cell_type": "code",
   "execution_count": 21,
   "metadata": {},
   "outputs": [
    {
     "name": "stdout",
     "output_type": "stream",
     "text": [
      "> Sequence 0\n",
      "TGTCTATTCTATTATATTATATAGACGGATTAGTCTCAAACCTTTGATATTAAAAGGTTTGAGTTTTTTATTTTTATCTAACAATAGAATTAACAGAGTTTTTAACAGAGTTCTATTTTAAAAGTTGGCATACTTAGTAAATAGTTCAAGCTCTTTATTCTTCTTTTCGGGCTCAAGATGTGAGTATAGGTCCATAGTCAATTGCAACTTTGAATGACCTAGCCTTTCTTGAATCACTTTATAACTCATTTCAGCATTTAAACAAAGGCTAGCGTGTGAACGCCTGAATCCATGAAAGCT\n",
      "> Sequence 1\n",
      "TTTTATTGCTTTTTGGTGTATCTTGAATTTGAAATCGTCTAACTGTGGTTTTGCTGACAGATACAGTCTGGTTTTGAAAGTTAATATCAGACCATGATAAGGCCATAGCTTCGCCAATACGCAAACCAGAAGCCACAAGCAAGCGTAGAAGAGCTTTAAAGTATTCATTTGACCACTGGCCACTCTTTAGAGATTCAAGGTAATTAAAGAGTTTTGCTAATTCCGATTTTTTGTAGAACTTTATCTCTTTTTTTGCTTGTTCCACCTTTACTTGGGGTACGATCACTGACTGACAAGGAT\n",
      "> Sequence 2\n",
      "GGCAAAGTATAATTATCGAGATTTGATCTCATTTGGTCAATAGAACCTATTTTACGTTGCAGCTTATAAAGTTCAAAAAAGCTCTCAGCAACCTCTTCAAAAGTTTCGAGTGATTCTTTACCTTTGGTGTTACCGTTCTTTTTAAAATTATTTTTCAGGCGTTCTAGTTCATTCTTGACGCCTGTTTTTGTGCGCCCTCTAATATCTGTTTTTATTTGCTTACCTGTCAGCACATCAGTACCGATATAAGCGCCACGGAGAATATAACGCACCTCTCCGGCTTTTGTTTTGTATTCTTTT\n",
      "> Sequence 3\n",
      "TCTAAGAAATCCTCTAGAGAATGTAGCCTTTCAAGTATTTCCCTAGAATTCTCTGTTAAATAATCCTCGGCACTTGTCTCTTCATTGTTGTTATTATAGTAACTTTTGTACGAATATTTCATAGTGTCAAGGATTCTAGTACGCAATTCTCTACTAAGATTCATTAATATTTTGCGTTCCAAACTTTCAGGATCCGACCAAGATTCAATAGTATATTTTTTAGTCTCATTAAACTTTTTATCTGCTTGTTCAGTATTTAAGAAACTTGAAGCATTTGAATACATTATACTTTTTACTTCA\n",
      "> Sequence 4\n",
      "ACCTTTTCCAGCGCTAAAGAGAGCGCCAAACTCTTCAAGCGTCATTCCCTTTTTAGTTCGTATACTTTTTATTCTCTGACCAATATCAACTTTATTATTATTCATATTTACACCTCTAAGAAAAATTATAACATTATTCTAATAAAAAAAACTAAAAAAGTTCTAAAAAGTTACACGTTTTTGTTATTTTTCTCTTGACAACGATTATTAAATAAGTTATTATGGGTGTATAAAGTTACGAAGGAGGTTGCTTGTGAATACTAAAAACAAGATTAAAGGTTACCGTAATATGCTCGGAAA\n",
      "\n"
     ]
    }
   ],
   "source": [
    "def array2sequences(a):\n",
    "    \"\"\"Build list to convert a codon code into a three letter string\n",
    "\n",
    "    Format: code2codon[i] returns the three letter codon\n",
    "    \"\"\"\n",
    "    \n",
    "    # load the codon2code dictionary from json file\n",
    "    seq2vec_json = proc_data/ 'seq2vec_codon2codes.json'\n",
    "    if not seq2vec_json.is_file():\n",
    "        raise ValueError(f\"Must have {seq2vec_json.name} file in data folder\")\n",
    "    with open(seq2vec_json, 'r') as fp:\n",
    "        codon2code = json.load(fp)\n",
    "\n",
    "    # build list by using each (codon, code) present in the dictionary. All others are 'Unknow'\n",
    "    code2codon = ['Unknow'] * 65\n",
    "    for codon, i in codon2code.items():\n",
    "        code2codon[i] = codon\n",
    "    sequences = ''\n",
    "\n",
    "    for n, row in enumerate(a):\n",
    "        s = decode_sequence(row, code2codon=code2codon)\n",
    "        sequences = sequences + f\"> Sequence {n}\\n{s}\\n\"\n",
    "    return sequences\n",
    "\n",
    "print(array2sequences(X_train_300[:5, :]))"
   ]
  },
  {
   "cell_type": "code",
   "execution_count": 22,
   "metadata": {},
   "outputs": [
    {
     "name": "stdout",
     "output_type": "stream",
     "text": [
      "> Sequence 0\n",
      "GCTCCAGTAATGACCGCTGACATCGCTTGTTCTGGAACCGCCAAGTCTTTAGCAATTGTTAATTCTGAAGGATTAGTGAAACGGCTGATATAAGGAGAAACAGCATTCAAGAAATCTGCATGTTCAGATTTAATCAACATTGGGACAGCTTTAGACAATGGAGTATTAACCTCAGCACGAATATTACGAACGGCTGTAATTAATTCGATTAACATCGCCACACCTTCGCTTGCCTTGTCATCATTAAATTCTGGACGTACTTTTGGATATTCGGCAACAACAATTGAACCAGAAGTATTT\n",
      "> Sequence 1\n",
      "AACACCAAATTCAAATTTATCCATTTGTTCAGTCACGCGCTCAACAGTATCATTCAAACGTGTCAAAATCCAACGGTCAGTGACATTACCAGCAGTTTTATTTGCAACTTTTGTCAAAGCCGAAGAAACAGCATCAGCGCTGATATCTTCTGCATTCATCAAAATATAACGTGAAACATTCCAAATTTTATTGATGAAATTCCAAGCGGCATCCATTTTATCATAAGAAAAACGTACATCTTGTCCTGGTGCAGAACCATTTGATAGGAACCAACGGAGTGCATCAGCTCCATACTTTTC\n",
      "> Sequence 2\n",
      "TGAAGTCTGCTGAGTTTTCGTCTGGCCAACCCATTGTTGAAAACGGCCACAAAGCTGAACTAAACCAAGTATCGAGCACATCTTCATCTTGTGTCCAACCTTCTCCCTCAGGTGCTTCTTCACCAACATACATTTCACCCGCTTCATTATACCAAGCTGGAATTTGATGTCCCCACCAAAGTTGACGTGAAATAACCCAATCATGAACATTTTCCATCCATTGCATGAAAGTATCATTGAAACGTGGCGGATAAAATTCTACTGCATCTTCTGTTGTTTGATTAGCAATTGCATTCTTAG\n",
      "\n"
     ]
    }
   ],
   "source": [
    "print(array2sequences(X_train_300[-3:,:]))"
   ]
  },
  {
   "cell_type": "code",
   "execution_count": 23,
   "metadata": {},
   "outputs": [
    {
     "data": {
      "text/plain": [
       "True"
      ]
     },
     "execution_count": 23,
     "metadata": {},
     "output_type": "execute_result"
    }
   ],
   "source": [
    "p2data = seq2vec_repo / 'data'\n",
    "p2data.is_dir()"
   ]
  },
  {
   "cell_type": "code",
   "execution_count": 24,
   "metadata": {},
   "outputs": [],
   "source": [
    "with open(proc_data / 'training_sequences_300bp.fasta', 'w') as fp:\n",
    "    fp.write(array2sequences(X_train_300))\n",
    "\n",
    "with open(proc_data / 'training_sequences_500bp.fasta', 'w') as fp:\n",
    "    fp.write(array2sequences(X_train_500))"
   ]
  },
  {
   "cell_type": "markdown",
   "metadata": {},
   "source": [
    "# Test data\n",
    "Must handle line by line because the sequences do not have the same length."
   ]
  },
  {
   "cell_type": "code",
   "execution_count": 27,
   "metadata": {},
   "outputs": [
    {
     "name": "stdout",
     "output_type": "stream",
     "text": [
      "Reached EOF\n"
     ]
    }
   ],
   "source": [
    "test_file = seq2vec_repo / 'data/test_real_data.fasta'\n",
    "test_fasta = proc_data / 'test_sequences.fasta'\n",
    "\n",
    "assert test_file.is_file\n",
    "\n",
    "# output file will be create by appending lines, must delete any pre-existing file.\n",
    "if test_fasta.is_file():\n",
    "    os.remove(test_fasta)\n",
    "\n",
    "with open(test_file, 'r') as fp_in:\n",
    "    with open(test_fasta, 'a') as fp_out:\n",
    "        n = 1\n",
    "        while True:\n",
    "            line = fp_in.readline()\n",
    "            if line == '':\n",
    "                print('Reached EOF')\n",
    "                break\n",
    "            else:\n",
    "                s = decode_sequence(line.split(','))\n",
    "                fp_out.write(f\"> Sequence {n}\\n\")\n",
    "                fp_out.write(f\"{s}\\n\")\n",
    "                n += 1"
   ]
  },
  {
   "cell_type": "code",
   "execution_count": null,
   "metadata": {},
   "outputs": [],
   "source": []
  }
 ],
 "metadata": {
  "kernelspec": {
   "display_name": "Python 3.9.12 ('metagen')",
   "language": "python",
   "name": "python3"
  },
  "language_info": {
   "codemirror_mode": {
    "name": "ipython",
    "version": 3
   },
   "file_extension": ".py",
   "mimetype": "text/x-python",
   "name": "python",
   "nbconvert_exporter": "python",
   "pygments_lexer": "ipython3",
   "version": "3.9.12"
  },
  "orig_nbformat": 4,
  "vscode": {
   "interpreter": {
    "hash": "dfd3b4934a6b4e35dd599b40cbe0afdec143404ac9fcb14c4b97cc2a93514568"
   }
  }
 },
 "nbformat": 4,
 "nbformat_minor": 2
}
