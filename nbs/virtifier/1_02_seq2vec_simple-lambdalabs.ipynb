{
 "cells": [
  {
   "cell_type": "markdown",
   "metadata": {},
   "source": [
    "# Reproduce Seq2Vec embedding"
   ]
  },
  {
   "cell_type": "markdown",
   "metadata": {},
   "source": [
    "> to be used on lambda labs"
   ]
  },
  {
   "cell_type": "markdown",
   "metadata": {},
   "source": [
    "https://www.tensorflow.org/tutorials/text/word2vec\n",
    "\n",
    "https://www.tensorflow.org/api_docs/python/tf/keras/preprocessing/sequence/skipgrams"
   ]
  },
  {
   "cell_type": "code",
   "execution_count": 1,
   "metadata": {},
   "outputs": [
    {
     "name": "stderr",
     "output_type": "stream",
     "text": [
      "/home/ubuntu/.local/lib/python3.8/site-packages/pandas/core/computation/expressions.py:20: UserWarning: Pandas requires version '2.7.3' or newer of 'numexpr' (version '2.7.1' currently installed).\n",
      "  from pandas.core.computation.check import NUMEXPR_INSTALLED\n"
     ]
    }
   ],
   "source": [
    "import os\n",
    "import numpy as np\n",
    "import pandas as pd\n",
    "import json\n",
    "import shutil\n",
    "import tensorflow as tf\n",
    "\n",
    "from pathlib import Path\n",
    "from pprint import pprint\n",
    "from tqdm.notebook import trange, tqdm\n",
    "from tqdm.keras import TqdmCallback\n",
    "\n",
    "from tensorflow.keras import Sequential, Model, Input, layers\n",
    "from tensorflow.keras.preprocessing.sequence import pad_sequences, skipgrams\n",
    "from tensorflow.keras.callbacks import EarlyStopping"
   ]
  },
  {
   "cell_type": "code",
   "execution_count": 2,
   "metadata": {},
   "outputs": [],
   "source": [
    "proc_data = Path('')\n",
    "seq2vec_data = Path('')\n",
    "assert proc_data.is_dir()\n",
    "assert seq2vec_data.is_dir()"
   ]
  },
  {
   "cell_type": "markdown",
   "metadata": {},
   "source": [
    "# Preprocessing from Seq2Vec code\n"
   ]
  },
  {
   "cell_type": "markdown",
   "metadata": {},
   "source": [
    "Seq2Vec dcode provides the following code to preprocess nucleotide sequence into sequence of codons for embeddings:\n",
    "\n",
    "```python\n",
    "f=open('your_data.fasta','r')\n",
    "g=open('preprocssed_data.fasta','a') \n",
    "lines=f.readlines()\n",
    "contex=3 \n",
    "for line in lines:\n",
    "    l=len(line)-1\n",
    "    for i in range(0,(l-contex+1)):\n",
    "        a=line[i:i+contex]\n",
    "        x=str(a).replace(\"AAA\",\"1\").replace(\"TTT\",\"2\").replace(\"GAA\",\"3\").replace(\"AAG\",\"4\").replace(\"AAT\",\"5\").replace(\"ATT\",\"6\").replace(\"CAA\",\"7\").replace(\"TGA\",\"8\").replace(\"TTC\",\"9\").replace(\"AGA\",\"10\").replace(\"GAT\",\"11\").replace(\"AAC\",\"12\").replace(\"TAA\",\"13\").replace(\"TTA\",\"14\").replace(\"TCA\",\"15\").replace(\"TAT\",\"16\").replace(\"ATG\",\"17\").replace(\"TGG\",\"18\").replace(\"ATC\",\"19\").replace(\"TTG\",\"20\").replace(\"ATA\",\"21\").replace(\"GTT\",\"22\").replace(\"CTG\",\"23\").replace(\"CTT\",\"24\").replace(\"ACA\",\"25\").replace(\"CAG\",\"26\").replace(\"CGA\",\"27\").replace(\"GGT\",\"28\").replace(\"GGC\",\"29\").replace(\"GCA\",\"30\").replace(\"CAT\",\"31\").replace(\"GCG\",\"32\").replace(\"CGC\",\"33\").replace(\"GCT\",\"34\").replace(\"TCT\",\"35\").replace(\"TCG\",\"36\").replace(\"ACC\",\"37\").replace(\"AGC\",\"38\").replace(\"CGG\",\"39\").replace(\"GAC\",\"40\").replace(\"CCG\",\"41\").replace(\"CCA\",\"42\").replace(\"TGC\",\"43\").replace(\"ACG\",\"44\").replace(\"GGA\",\"45\").replace(\"TGT\",\"46\").replace(\"ACT\",\"47\").replace(\"TAC\",\"48\").replace(\"AGT\",\"49\").replace(\"GCC\",\"50\").replace(\"GAG\",\"51\").replace(\"GTA\",\"52\").replace(\"GTG\",\"53\").replace(\"AGG\",\"54\").replace(\"CGT\",\"55\").replace(\"CAC\",\"56\").replace(\"GTC\",\"57\").replace(\"TCC\",\"58\").replace(\"CCT\",\"59\").replace(\"CTC\",\"60\").replace(\"CTA\",\"61\").replace(\"GGG\",\"62\").replace(\"TAG\",\"63\").replace(\"CCC\",\"64\").replace(\",\\n\",\"\\n\")\n",
    "        if i<(1-contex+1):\n",
    "            g.write(str(x)+\",\")\n",
    "        else:\n",
    "            g.write(str(x))\n",
    "    g.write(\"\\n\")\n",
    "f.close()\n",
    "g.close()\n",
    "```"
   ]
  },
  {
   "cell_type": "markdown",
   "metadata": {},
   "source": [
    "It corresponds to the explanation in the paper:\n",
    "\n",
    "> Before embedding, a [nucleotide](https://www.ncbi.nlm.nih.gov/Class/MLACourse/Original8Hour/Genetics/nucleotide.html) sequence is preprocessed into a string of **codons** with a *stride* of some bases. As an example, take a look at the nucleotide sequence **`AATGCAGTCCAT`**.\n",
    "> \n",
    "> It is first converted into the format of a **codon sentence** **`AAT, ATG, TGC, GCA, CAG, AGT, GTC, TCC, CCA, CAT`** with a stride of **one base**, where each codon can be regarded as a word in a sentence. \n",
    ">\n",
    "> The **list of all 64 unique codons** composes a complete codon dictionary as **[‘AAA’,‘AAT’, ‘AAG’, ‘AAC’, ‘ATA’, ‘ATT’, . . .]**, which is used for codon embedding the latter. \n",
    "\n",
    "The codon encoding used by Seq2Vec is stored in `codon2codes.json`, for easier handling. Using this, the preprocessing code can be rewritten as:"
   ]
  },
  {
   "cell_type": "code",
   "execution_count": 3,
   "metadata": {},
   "outputs": [],
   "source": [
    "p2codon_codes = proc_data / 'seq2vec_codon2codes.json'\n",
    "with open(p2codon_codes, 'r') as fp:\n",
    "    codon2codes = json.load(fp)\n",
    "code2codons = {i:c for c, i in codon2codes.items()}"
   ]
  },
  {
   "cell_type": "code",
   "execution_count": 4,
   "metadata": {},
   "outputs": [
    {
     "data": {
      "text/plain": [
       "9000"
      ]
     },
     "execution_count": 4,
     "metadata": {},
     "output_type": "execute_result"
    }
   ],
   "source": [
    "def preprocess_fasta(fasta_path, window=3, mode='both'):\n",
    "    \"\"\"Preprocess sequence from fasta file into a sequence of codons, with window size\n",
    "    \n",
    "    Return:\n",
    "        sequences as a list of encoded sequences\n",
    "    \"\"\"\n",
    "    # Validate parameters\n",
    "    if mode not in ['encoded', 'literal', 'both']:\n",
    "        raise ValueError(f\"mode should be either 'literal' or 'encoded', not '{mode}'\")\n",
    "\n",
    "    if isinstance(fasta_path, str):\n",
    "        fasta_path = Path(fasta_path)\n",
    "    elif not isinstance(fasta_path, Path):\n",
    "        raise TypeError(f\"fasta_path must be a string or a Path, not {fasta_path}: {type(fasta_path)}\")\n",
    "\n",
    "    sequences_literal = []\n",
    "    sequences_encoded = []\n",
    "    with open(fasta_path, 'r') as fp:\n",
    "        line_nbr = 0\n",
    "        # Read fasta file line by line\n",
    "        while True:\n",
    "            line = fp.readline()\n",
    "            # EOF\n",
    "            if line == '':\n",
    "                break\n",
    "            # # Early Exit\n",
    "            # elif line_nbr > 10:\n",
    "            #     break\n",
    "            # Fasta Comment Line\n",
    "            elif line.startswith('>'):\n",
    "                continue\n",
    "            # Fasta Sequence Line\n",
    "            else:\n",
    "                line_nbr += 1\n",
    "                sequence_literal = []\n",
    "                sequence_encoded = []\n",
    "                line_lentgh = len(line) - 1\n",
    "                for i in range(0, line_lentgh-window+1):\n",
    "                # for i in range(0, 5):\n",
    "                    codon_literal = line[i:i+window]\n",
    "                    codon_encoded = codon2codes[codon_literal]\n",
    "                    sequence_literal.append(codon_literal)\n",
    "                    sequence_encoded.append(codon_encoded)\n",
    "                sequences_literal.append(sequence_literal)\n",
    "                sequences_encoded.append(sequence_encoded)\n",
    "        if mode == 'literal':\n",
    "            return sequences_literal\n",
    "        elif mode == 'encoded':\n",
    "            return sequences_encoded\n",
    "        elif mode == 'both':\n",
    "            return sequences_literal, sequences_encoded\n",
    "        else:\n",
    "            pass\n",
    "\n",
    "p2fasta = proc_data / 'training_sequences_300bp.fasta'\n",
    "\n",
    "sequences, encoded = preprocess_fasta(p2fasta, mode='both')\n",
    "len(sequences)"
   ]
  },
  {
   "cell_type": "code",
   "execution_count": 5,
   "metadata": {},
   "outputs": [
    {
     "name": "stdout",
     "output_type": "stream",
     "text": [
      "['TGT', 'GTC', 'TCT', 'CTA', 'TAT', 'ATT', 'TTC', 'TCT', 'CTA', 'TAT', 'ATT', 'TTA', 'TAT', 'ATA', 'TAT']\n",
      "[46, 57, 35, 61, 16, 6, 9, 35, 61, 16, 6, 14, 16, 21, 16]\n"
     ]
    }
   ],
   "source": [
    "print(sequences[0][:15])\n",
    "print(encoded[0][:15])"
   ]
  },
  {
   "cell_type": "markdown",
   "metadata": {},
   "source": [
    "# Skip-gram"
   ]
  },
  {
   "cell_type": "markdown",
   "metadata": {},
   "source": [
    "**Skip-gram** models are used in natural language processing to create word embeddings by training the model to predict the **context** (or neighbors) of a **target word**, given a specific *corpus* (in NLP, a corpus is the set of text/documents that represents the domain where the work is done). \n",
    "\n",
    "The model is trained on skip-grams, i.e. *n-grams* (sets of n words) describing the context, based on a specific window. \n",
    "\n",
    "The context of a word can be represented through a set of skip-gram pairs of (target_word, context_word) where *context_word* appears in the neighboring context of *target_word*. Context is defined by a window.\n",
    "\n",
    "In the example below, we use 2-grams and a window of 2 as well. "
   ]
  },
  {
   "cell_type": "markdown",
   "metadata": {},
   "source": [
    "<img src=\"img/ref.01_word2vec_skipgram.png\" width=600>"
   ]
  },
  {
   "cell_type": "markdown",
   "metadata": {},
   "source": [
    "\n",
    "Given a vocabulary of $W$ words, the Skip-gram model will predict \n",
    "$$P = f(w_{target})$$\n",
    "\n",
    "The the skip-gram model is a classification problem with $W$ classes and we want to predict $P$, a vector with $W$ dimensions: \n",
    "$$ P_i = P(w_i \\text{ is a context word} | w_{target}) \\quad \\text{ for } \\small 1 \\le i\\le W $$\n",
    "\n",
    "The *training objective* of the skip-gram model is to maximize the likelihood of predicting **context words** given the **target word**. \n"
   ]
  },
  {
   "cell_type": "markdown",
   "metadata": {},
   "source": [
    "For a sequence of words *w<sub>1</sub>, w<sub>2</sub>, ... w<sub>T</sub>*, the objective can be written as the average log probability"
   ]
  },
  {
   "cell_type": "markdown",
   "metadata": {},
   "source": [
    "\n",
    "$$\\frac{1}{N} \\sum_{t=1}^{T} \\sum_{-c\\le j\\le c \\ne j} \\log{P(w_{t+c}|w_t}) \\quad \\text{   where $c$ is the size/window of the training context. }$$\n",
    "\n",
    "The basic skip-gram formulation defines this probability using the softmax function.\n",
    "$$$$\n",
    "\n",
    "$$P(w_{t+c}|w_t) = \\frac{\\exp(v_{wO}^{'T}v_{wI})}{\\sum_{w=1}^{W} \\exp(v_{w}^{'T}v_{wI})}$$\n",
    "\n",
    "where v and v' are target and context vector representations of words and W is vocabulary size."
   ]
  },
  {
   "cell_type": "markdown",
   "metadata": {},
   "source": [
    "<img src=\"../img/virtifier-02-seq2vec-table-S1b-20220820112210.png\" width=800>"
   ]
  },
  {
   "cell_type": "markdown",
   "metadata": {},
   "source": [
    "# Seq2Vec"
   ]
  },
  {
   "cell_type": "markdown",
   "metadata": {},
   "source": [
    "High Level Steps:\n",
    "- build the dataset of skip-gram under the form (target_codon, context_codon)\n",
    "- build a model that used embedding to convert condon \"numerical encoding\" into a vector, in such as way that the performance of the classifier described above has good performances.\n",
    "- extract the embedding matrix for further use"
   ]
  },
  {
   "cell_type": "markdown",
   "metadata": {},
   "source": [
    "## Skip-gram dataset for codons"
   ]
  },
  {
   "cell_type": "markdown",
   "metadata": {},
   "source": [
    "Load the codon encoding as inferred from Seq2Vec code [here](https://github.com/crazyinter/Seq2Vec)."
   ]
  },
  {
   "cell_type": "code",
   "execution_count": 6,
   "metadata": {},
   "outputs": [],
   "source": [
    "p2condon_codes = proc_data / 'seq2vec_codon2codes.json'\n",
    "with open(p2condon_codes, 'r') as fp:\n",
    "    codon2codes = json.load(fp)\n",
    "code2codons = {i:c for c, i in codon2codes.items()}"
   ]
  },
  {
   "cell_type": "markdown",
   "metadata": {},
   "source": [
    "Load a set of sequences (train_500bp_encoded.csv).\n",
    "\n",
    "The file includes 9000 sequences of codons, encoded using:\n",
    "- the codes loaded above and\n",
    "- real sequences and extracting codons with a stride of 1\n",
    "    - `‘ATAGCCTGAAAGCTTGGATTG` will return\n",
    "        - `ATA TAG AGC GCC CCT CTG TGA GAA AAA AAG` encoded into numbers"
   ]
  },
  {
   "cell_type": "code",
   "execution_count": 7,
   "metadata": {},
   "outputs": [
    {
     "name": "stdout",
     "output_type": "stream",
     "text": [
      "Example Sequence:  ‘ATAGCCTGAAAGCTTGGATTG\n",
      "Extracted Codons:  ['ATA', 'TAG', 'AGC', 'GCC', 'CCT', 'CTG', 'TGA', 'GAA', 'AAA', 'AAG']\n",
      "Encoded Codons:    [21, 63, 38, 50, 59, 23, 8, 3, 1, 4]\n"
     ]
    }
   ],
   "source": [
    "print('Example Sequence: ', '‘ATAGCCTGAAAGCTTGGATTG')\n",
    "print('Extracted Codons: ', [codon for codon in 'ATA TAG AGC GCC CCT CTG TGA GAA AAA AAG'.split(' ')])\n",
    "print('Encoded Codons:   ',[codon2codes[codon] for codon in 'ATA TAG AGC GCC CCT CTG TGA GAA AAA AAG'.split(' ')])"
   ]
  },
  {
   "cell_type": "code",
   "execution_count": 8,
   "metadata": {},
   "outputs": [
    {
     "name": "stdout",
     "output_type": "stream",
     "text": [
      "(8428, 498)\n",
      "[[46. 57. 35. 61. 16.  6.  9. 35. 61. 16.  6. 14. 16. 21. 16.  6. 14. 16.\n",
      "  21. 16.]\n",
      " [ 2.  2. 14. 16.  6. 20. 43. 34. 24.  2.  2.  2. 20. 18. 28. 53. 46. 52.\n",
      "  16. 19.]\n",
      " [29. 30.  7.  1.  4. 49. 52. 16. 21. 13.  5.  6. 14. 16. 19. 36. 27. 51.\n",
      "  10. 11.]]\n"
     ]
    }
   ],
   "source": [
    "p2train500bp = seq2vec_data / 'train_500bp.fasta'\n",
    "sequences = pd.read_csv(p2train500bp, header=None).values\n",
    "print(sequences.shape)\n",
    "print(sequences[:3, :20])"
   ]
  },
  {
   "cell_type": "markdown",
   "metadata": {},
   "source": [
    "### `skipgram` function"
   ]
  },
  {
   "cell_type": "markdown",
   "metadata": {},
   "source": [
    "`tf.keras.preprocessing.sequence.skipgrams` generates skipgram word pairs:\n",
    "\n",
    "```\n",
    "    tf.keras.preprocessing.sequence.skipgrams(\n",
    "        sequence,\n",
    "        vocabulary_size,\n",
    "        window_size=4,\n",
    "        negative_samples=1.0,\n",
    "        shuffle=True,\n",
    "        categorical=False,\n",
    "        sampling_table=None,\n",
    "        seed=None,\n",
    "    )\n",
    "\n",
    "    Arguments:\n",
    "        sequence: A sequence , encoded as a list of word indices (int).\n",
    "        vocabulary_size: int, maximum possible word index + 1\n",
    "        window_size: int, size of sampling windows.\n",
    "        negative_samples: float >= 0. \n",
    "            0 for no negative (i.e. random) samples.\n",
    "            1 for same number as positive samples.\n",
    "        shuffle: Whether to shuffle the word couples before returning them.\n",
    "    Returns:\n",
    "        couples, labels: where \n",
    "            `couples` are pairs of int and \n",
    "            `labels` are either 0 (negative sample) or 1 (positive sample).\n",
    "```"
   ]
  },
  {
   "cell_type": "markdown",
   "metadata": {},
   "source": [
    "Given a sequence of \"token\" it provides the skip-grams, both all the positive pairs, that is where (target_token, context_token) is True/positive and a selection of negative pairs, that is where (target_token, context_token) is not correct. We use that dataset to train the skip-gram embedding model"
   ]
  },
  {
   "cell_type": "code",
   "execution_count": 9,
   "metadata": {},
   "outputs": [],
   "source": [
    "# tf.keras.preprocessing.sequence.skipgrams?"
   ]
  },
  {
   "cell_type": "markdown",
   "metadata": {},
   "source": [
    "Small example:\n",
    "- sequence is : ATA TAG AGC GCC CCT CTG TGA GAA AAA AAG\n",
    "- window: 1\n",
    "- example of positive samples: ('ATA', 'TAG') or ('TAG', 'AGC)\n",
    "- example of negative samples: ('ATA', 'AGC') or ('TAG', 'AAG)"
   ]
  },
  {
   "cell_type": "code",
   "execution_count": 10,
   "metadata": {},
   "outputs": [
    {
     "data": {
      "text/plain": [
       "[21, 63, 38, 50, 59, 23, 8, 3, 1, 4]"
      ]
     },
     "execution_count": 10,
     "metadata": {},
     "output_type": "execute_result"
    }
   ],
   "source": [
    "seq = 'ATA TAG AGC GCC CCT CTG TGA GAA AAA AAG'.split(' ')\n",
    "seq_enc = [codon2codes[codon] for codon in seq]\n",
    "seq_enc"
   ]
  },
  {
   "cell_type": "code",
   "execution_count": 11,
   "metadata": {},
   "outputs": [
    {
     "name": "stdout",
     "output_type": "stream",
     "text": [
      "['ATA', 'TAG', 'AGC', 'GCC', 'CCT', 'CTG', 'TGA', 'GAA', 'AAA', 'AAG']\n",
      "   Target       Context    Label\n",
      "    ATA           TAG        1\n",
      "    TAG           ATA        1\n",
      "    TAG           AGC        1\n",
      "    AGC           TAG        1\n",
      "    AGC           GCC        1\n",
      "    GCC           AGC        1\n",
      "    GCC           CCT        1\n",
      "    CCT           GCC        1\n",
      "    CCT           CTG        1\n",
      "    CTG           CCT        1\n",
      "    CTG           TGA        1\n",
      "    TGA           CTG        1\n",
      "    TGA           GAA        1\n",
      "    GAA           TGA        1\n",
      "    GAA           AAA        1\n",
      "    AAA           GAA        1\n",
      "    AAA           AAG        1\n",
      "    AAG           AAA        1\n",
      "    AGC           AAA        0\n",
      "    AAG           AAG        0\n",
      "    CTG           AAA        0\n",
      "    ATA           AAG        0\n",
      "    GCC           AAA        0\n",
      "    TGA           GAA        0\n",
      "    AAA           AAG        0\n",
      "    AGC           AAT        0\n",
      "    TAG           GAA        0\n",
      "    CCT           AAT        0\n",
      "    AAA           AAA        0\n",
      "    GAA           AAG        0\n",
      "    CCT           ATT        0\n",
      "    TAG           ATT        0\n",
      "    CTG           TTT        0\n",
      "    GCC           AAT        0\n",
      "    TGA           TTT        0\n",
      "    GAA           AAA        0\n"
     ]
    }
   ],
   "source": [
    "skgs = tf.keras.preprocessing.sequence.skipgrams(\n",
    "    sequence=seq_enc,\n",
    "    vocabulary_size=7,\n",
    "    window_size=1,\n",
    "    negative_samples=1,\n",
    "    shuffle=False,\n",
    ")\n",
    "print(seq)\n",
    "print(f\"   Target       Context    Label\")\n",
    "for (target, context), lbl in zip(skgs[0], skgs[1]):\n",
    "    # print(f\"   Target Codon       Context Codon\")\n",
    "    print(f\"{' '*3} {code2codons[target]} {' '*9} {code2codons[context]} {' '*6} {lbl}\")"
   ]
  },
  {
   "cell_type": "code",
   "execution_count": 12,
   "metadata": {},
   "outputs": [],
   "source": [
    "sequences, encoded = preprocess_fasta(p2fasta, mode='both')"
   ]
  },
  {
   "cell_type": "code",
   "execution_count": 13,
   "metadata": {},
   "outputs": [
    {
     "data": {
      "text/plain": [
       "['TGT', 'GTC', 'TCT', 'CTA', 'TAT', 'ATT', 'TTC', 'TCT', 'CTA', 'TAT']"
      ]
     },
     "execution_count": 13,
     "metadata": {},
     "output_type": "execute_result"
    }
   ],
   "source": [
    "assert len(sequences) == 9000\n",
    "sequences[0][:10]"
   ]
  },
  {
   "cell_type": "markdown",
   "metadata": {},
   "source": [
    "### Create dataset of skipgrams"
   ]
  },
  {
   "cell_type": "code",
   "execution_count": 14,
   "metadata": {},
   "outputs": [
    {
     "data": {
      "application/vnd.jupyter.widget-view+json": {
       "model_id": "08941d930bf3450ea3bdf6f2a5355dee",
       "version_major": 2,
       "version_minor": 0
      },
      "text/plain": [
       "  0%|          | 0/100 [00:00<?, ?it/s]"
      ]
     },
     "metadata": {},
     "output_type": "display_data"
    },
    {
     "name": "stdout",
     "output_type": "stream",
     "text": [
      "[[50, 54], [22, 9], [12, 41], [9, 55], [36, 7], [60, 43], [38, 30], [3, 64], [12, 45], [47, 53]]\n",
      "[0, 1, 0, 0, 0, 0, 1, 0, 0, 0]\n"
     ]
    },
    {
     "data": {
      "text/plain": [
       "(356400, 356400)"
      ]
     },
     "execution_count": 14,
     "metadata": {},
     "output_type": "execute_result"
    }
   ],
   "source": [
    "enc_skipgram_list = []\n",
    "label_list = []\n",
    "\n",
    "max_nbr_seq = 100\n",
    "\n",
    "for seq in tqdm(encoded[:max_nbr_seq]):\n",
    "    skgs, labels = skipgrams(\n",
    "        seq,\n",
    "        vocabulary_size=len(codon2codes),\n",
    "        window_size=1,\n",
    "        negative_samples=5,\n",
    "    )\n",
    "    enc_skipgram_list.extend(skgs)\n",
    "    label_list.extend(labels)\n",
    "\n",
    "print(enc_skipgram_list[10:20])\n",
    "print(label_list[10:20])\n",
    "len(enc_skipgram_list), len(label_list)\n"
   ]
  },
  {
   "cell_type": "markdown",
   "metadata": {},
   "source": [
    "Many pairs. But we should avoid duplicates"
   ]
  },
  {
   "cell_type": "code",
   "execution_count": 15,
   "metadata": {},
   "outputs": [],
   "source": [
    "# skipgram_list = []\n",
    "# for seq in tqdm(sequences[:1000]):\n",
    "#     skgs, labels = skipgrams(\n",
    "#         seq,\n",
    "#         vocabulary_size=len(codon2codes),\n",
    "#         window_size=1,\n",
    "#         negative_samples=0,\n",
    "#         categorical=True,\n",
    "#     )\n",
    "#     skipgram_list.extend([(c1, c2) for c1, c2 in skgs])\n",
    "\n",
    "# len(skipgram_list), len(set(skipgram_list))"
   ]
  },
  {
   "cell_type": "markdown",
   "metadata": {},
   "source": [
    "<img src=\"../img/virtifier-02-seq2vec-table-S1a-20220820111553.png\" width=600>"
   ]
  },
  {
   "cell_type": "code",
   "execution_count": 16,
   "metadata": {},
   "outputs": [
    {
     "data": {
      "text/html": [
       "<div>\n",
       "<style scoped>\n",
       "    .dataframe tbody tr th:only-of-type {\n",
       "        vertical-align: middle;\n",
       "    }\n",
       "\n",
       "    .dataframe tbody tr th {\n",
       "        vertical-align: top;\n",
       "    }\n",
       "\n",
       "    .dataframe thead th {\n",
       "        text-align: right;\n",
       "    }\n",
       "</style>\n",
       "<table border=\"1\" class=\"dataframe\">\n",
       "  <thead>\n",
       "    <tr style=\"text-align: right;\">\n",
       "      <th></th>\n",
       "      <th>Target</th>\n",
       "      <th>t</th>\n",
       "    </tr>\n",
       "  </thead>\n",
       "  <tbody>\n",
       "    <tr>\n",
       "      <th>0</th>\n",
       "      <td>TTA</td>\n",
       "      <td>14</td>\n",
       "    </tr>\n",
       "    <tr>\n",
       "      <th>1</th>\n",
       "      <td>GGC</td>\n",
       "      <td>29</td>\n",
       "    </tr>\n",
       "    <tr>\n",
       "      <th>2</th>\n",
       "      <td>ATA</td>\n",
       "      <td>21</td>\n",
       "    </tr>\n",
       "    <tr>\n",
       "      <th>3</th>\n",
       "      <td>AAC</td>\n",
       "      <td>12</td>\n",
       "    </tr>\n",
       "    <tr>\n",
       "      <th>4</th>\n",
       "      <td>GGC</td>\n",
       "      <td>29</td>\n",
       "    </tr>\n",
       "  </tbody>\n",
       "</table>\n",
       "</div>"
      ],
      "text/plain": [
       "  Target   t\n",
       "0    TTA  14\n",
       "1    GGC  29\n",
       "2    ATA  21\n",
       "3    AAC  12\n",
       "4    GGC  29"
      ]
     },
     "execution_count": 16,
     "metadata": {},
     "output_type": "execute_result"
    }
   ],
   "source": [
    "X_ds = pd.DataFrame({\n",
    "    'Target': [code2codons[t] for t, c in enc_skipgram_list],\n",
    "    't': [t for t, c in enc_skipgram_list],\n",
    "})\n",
    "X_ds.head()"
   ]
  },
  {
   "cell_type": "code",
   "execution_count": 17,
   "metadata": {},
   "outputs": [
    {
     "data": {
      "text/html": [
       "<div>\n",
       "<style scoped>\n",
       "    .dataframe tbody tr th:only-of-type {\n",
       "        vertical-align: middle;\n",
       "    }\n",
       "\n",
       "    .dataframe tbody tr th {\n",
       "        vertical-align: top;\n",
       "    }\n",
       "\n",
       "    .dataframe thead th {\n",
       "        text-align: right;\n",
       "    }\n",
       "</style>\n",
       "<table border=\"1\" class=\"dataframe\">\n",
       "  <thead>\n",
       "    <tr style=\"text-align: right;\">\n",
       "      <th></th>\n",
       "      <th>Context</th>\n",
       "      <th>c</th>\n",
       "    </tr>\n",
       "  </thead>\n",
       "  <tbody>\n",
       "    <tr>\n",
       "      <th>356395</th>\n",
       "      <td>GGA</td>\n",
       "      <td>45</td>\n",
       "    </tr>\n",
       "    <tr>\n",
       "      <th>356396</th>\n",
       "      <td>ATG</td>\n",
       "      <td>17</td>\n",
       "    </tr>\n",
       "    <tr>\n",
       "      <th>356397</th>\n",
       "      <td>TAA</td>\n",
       "      <td>13</td>\n",
       "    </tr>\n",
       "    <tr>\n",
       "      <th>356398</th>\n",
       "      <td>GAA</td>\n",
       "      <td>3</td>\n",
       "    </tr>\n",
       "    <tr>\n",
       "      <th>356399</th>\n",
       "      <td>CTC</td>\n",
       "      <td>60</td>\n",
       "    </tr>\n",
       "  </tbody>\n",
       "</table>\n",
       "</div>"
      ],
      "text/plain": [
       "       Context   c\n",
       "356395     GGA  45\n",
       "356396     ATG  17\n",
       "356397     TAA  13\n",
       "356398     GAA   3\n",
       "356399     CTC  60"
      ]
     },
     "execution_count": 17,
     "metadata": {},
     "output_type": "execute_result"
    }
   ],
   "source": [
    "y_ds = pd.DataFrame({\n",
    "    'Context': [code2codons[c] for t, c in enc_skipgram_list],\n",
    "    'c': [c for t, c in enc_skipgram_list],\n",
    "})\n",
    "y_ds.tail()"
   ]
  },
  {
   "cell_type": "code",
   "execution_count": 18,
   "metadata": {},
   "outputs": [
    {
     "data": {
      "text/html": [
       "<div>\n",
       "<style scoped>\n",
       "    .dataframe tbody tr th:only-of-type {\n",
       "        vertical-align: middle;\n",
       "    }\n",
       "\n",
       "    .dataframe tbody tr th {\n",
       "        vertical-align: top;\n",
       "    }\n",
       "\n",
       "    .dataframe thead th {\n",
       "        text-align: right;\n",
       "    }\n",
       "</style>\n",
       "<table border=\"1\" class=\"dataframe\">\n",
       "  <thead>\n",
       "    <tr style=\"text-align: right;\">\n",
       "      <th></th>\n",
       "      <th>AAA</th>\n",
       "      <th>AAC</th>\n",
       "      <th>AAG</th>\n",
       "      <th>AAT</th>\n",
       "      <th>ACA</th>\n",
       "      <th>ACC</th>\n",
       "      <th>ACG</th>\n",
       "      <th>ACT</th>\n",
       "      <th>AGA</th>\n",
       "      <th>AGC</th>\n",
       "      <th>...</th>\n",
       "      <th>TCG</th>\n",
       "      <th>TCT</th>\n",
       "      <th>TGA</th>\n",
       "      <th>TGC</th>\n",
       "      <th>TGG</th>\n",
       "      <th>TGT</th>\n",
       "      <th>TTA</th>\n",
       "      <th>TTC</th>\n",
       "      <th>TTG</th>\n",
       "      <th>TTT</th>\n",
       "    </tr>\n",
       "  </thead>\n",
       "  <tbody>\n",
       "    <tr>\n",
       "      <th>0</th>\n",
       "      <td>0</td>\n",
       "      <td>0</td>\n",
       "      <td>0</td>\n",
       "      <td>0</td>\n",
       "      <td>0</td>\n",
       "      <td>0</td>\n",
       "      <td>0</td>\n",
       "      <td>0</td>\n",
       "      <td>0</td>\n",
       "      <td>0</td>\n",
       "      <td>...</td>\n",
       "      <td>0</td>\n",
       "      <td>0</td>\n",
       "      <td>0</td>\n",
       "      <td>0</td>\n",
       "      <td>0</td>\n",
       "      <td>0</td>\n",
       "      <td>0</td>\n",
       "      <td>0</td>\n",
       "      <td>0</td>\n",
       "      <td>0</td>\n",
       "    </tr>\n",
       "    <tr>\n",
       "      <th>1</th>\n",
       "      <td>0</td>\n",
       "      <td>0</td>\n",
       "      <td>0</td>\n",
       "      <td>0</td>\n",
       "      <td>0</td>\n",
       "      <td>0</td>\n",
       "      <td>0</td>\n",
       "      <td>0</td>\n",
       "      <td>0</td>\n",
       "      <td>0</td>\n",
       "      <td>...</td>\n",
       "      <td>1</td>\n",
       "      <td>0</td>\n",
       "      <td>0</td>\n",
       "      <td>0</td>\n",
       "      <td>0</td>\n",
       "      <td>0</td>\n",
       "      <td>0</td>\n",
       "      <td>0</td>\n",
       "      <td>0</td>\n",
       "      <td>0</td>\n",
       "    </tr>\n",
       "    <tr>\n",
       "      <th>2</th>\n",
       "      <td>0</td>\n",
       "      <td>0</td>\n",
       "      <td>0</td>\n",
       "      <td>0</td>\n",
       "      <td>0</td>\n",
       "      <td>0</td>\n",
       "      <td>0</td>\n",
       "      <td>0</td>\n",
       "      <td>0</td>\n",
       "      <td>0</td>\n",
       "      <td>...</td>\n",
       "      <td>0</td>\n",
       "      <td>0</td>\n",
       "      <td>0</td>\n",
       "      <td>0</td>\n",
       "      <td>0</td>\n",
       "      <td>0</td>\n",
       "      <td>0</td>\n",
       "      <td>0</td>\n",
       "      <td>0</td>\n",
       "      <td>0</td>\n",
       "    </tr>\n",
       "    <tr>\n",
       "      <th>3</th>\n",
       "      <td>0</td>\n",
       "      <td>0</td>\n",
       "      <td>0</td>\n",
       "      <td>0</td>\n",
       "      <td>0</td>\n",
       "      <td>0</td>\n",
       "      <td>0</td>\n",
       "      <td>0</td>\n",
       "      <td>0</td>\n",
       "      <td>0</td>\n",
       "      <td>...</td>\n",
       "      <td>0</td>\n",
       "      <td>0</td>\n",
       "      <td>0</td>\n",
       "      <td>0</td>\n",
       "      <td>0</td>\n",
       "      <td>0</td>\n",
       "      <td>0</td>\n",
       "      <td>0</td>\n",
       "      <td>0</td>\n",
       "      <td>0</td>\n",
       "    </tr>\n",
       "    <tr>\n",
       "      <th>4</th>\n",
       "      <td>0</td>\n",
       "      <td>0</td>\n",
       "      <td>0</td>\n",
       "      <td>0</td>\n",
       "      <td>0</td>\n",
       "      <td>0</td>\n",
       "      <td>0</td>\n",
       "      <td>0</td>\n",
       "      <td>0</td>\n",
       "      <td>0</td>\n",
       "      <td>...</td>\n",
       "      <td>0</td>\n",
       "      <td>0</td>\n",
       "      <td>0</td>\n",
       "      <td>0</td>\n",
       "      <td>0</td>\n",
       "      <td>0</td>\n",
       "      <td>0</td>\n",
       "      <td>0</td>\n",
       "      <td>0</td>\n",
       "      <td>0</td>\n",
       "    </tr>\n",
       "  </tbody>\n",
       "</table>\n",
       "<p>5 rows × 64 columns</p>\n",
       "</div>"
      ],
      "text/plain": [
       "   AAA  AAC  AAG  AAT  ACA  ACC  ACG  ACT  AGA  AGC  ...  TCG  TCT  TGA  TGC  \\\n",
       "0    0    0    0    0    0    0    0    0    0    0  ...    0    0    0    0   \n",
       "1    0    0    0    0    0    0    0    0    0    0  ...    1    0    0    0   \n",
       "2    0    0    0    0    0    0    0    0    0    0  ...    0    0    0    0   \n",
       "3    0    0    0    0    0    0    0    0    0    0  ...    0    0    0    0   \n",
       "4    0    0    0    0    0    0    0    0    0    0  ...    0    0    0    0   \n",
       "\n",
       "   TGG  TGT  TTA  TTC  TTG  TTT  \n",
       "0    0    0    0    0    0    0  \n",
       "1    0    0    0    0    0    0  \n",
       "2    0    0    0    0    0    0  \n",
       "3    0    0    0    0    0    0  \n",
       "4    0    0    0    0    0    0  \n",
       "\n",
       "[5 rows x 64 columns]"
      ]
     },
     "execution_count": 18,
     "metadata": {},
     "output_type": "execute_result"
    }
   ],
   "source": [
    "pd.get_dummies(y_ds.Context).head()"
   ]
  },
  {
   "cell_type": "code",
   "execution_count": 19,
   "metadata": {},
   "outputs": [
    {
     "data": {
      "text/html": [
       "<div>\n",
       "<style scoped>\n",
       "    .dataframe tbody tr th:only-of-type {\n",
       "        vertical-align: middle;\n",
       "    }\n",
       "\n",
       "    .dataframe tbody tr th {\n",
       "        vertical-align: top;\n",
       "    }\n",
       "\n",
       "    .dataframe thead th {\n",
       "        text-align: right;\n",
       "    }\n",
       "</style>\n",
       "<table border=\"1\" class=\"dataframe\">\n",
       "  <thead>\n",
       "    <tr style=\"text-align: right;\">\n",
       "      <th></th>\n",
       "      <th>Context</th>\n",
       "      <th>c</th>\n",
       "      <th>Unknown</th>\n",
       "      <th>AAA</th>\n",
       "      <th>AAC</th>\n",
       "      <th>AAG</th>\n",
       "      <th>AAT</th>\n",
       "      <th>ACA</th>\n",
       "      <th>ACC</th>\n",
       "      <th>ACG</th>\n",
       "      <th>...</th>\n",
       "      <th>TCG</th>\n",
       "      <th>TCT</th>\n",
       "      <th>TGA</th>\n",
       "      <th>TGC</th>\n",
       "      <th>TGG</th>\n",
       "      <th>TGT</th>\n",
       "      <th>TTA</th>\n",
       "      <th>TTC</th>\n",
       "      <th>TTG</th>\n",
       "      <th>TTT</th>\n",
       "    </tr>\n",
       "  </thead>\n",
       "  <tbody>\n",
       "    <tr>\n",
       "      <th>356380</th>\n",
       "      <td>CAA</td>\n",
       "      <td>7</td>\n",
       "      <td>0</td>\n",
       "      <td>0</td>\n",
       "      <td>0</td>\n",
       "      <td>0</td>\n",
       "      <td>0</td>\n",
       "      <td>0</td>\n",
       "      <td>0</td>\n",
       "      <td>0</td>\n",
       "      <td>...</td>\n",
       "      <td>0</td>\n",
       "      <td>0</td>\n",
       "      <td>0</td>\n",
       "      <td>0</td>\n",
       "      <td>0</td>\n",
       "      <td>0</td>\n",
       "      <td>0</td>\n",
       "      <td>0</td>\n",
       "      <td>0</td>\n",
       "      <td>0</td>\n",
       "    </tr>\n",
       "    <tr>\n",
       "      <th>356381</th>\n",
       "      <td>AGT</td>\n",
       "      <td>49</td>\n",
       "      <td>0</td>\n",
       "      <td>0</td>\n",
       "      <td>0</td>\n",
       "      <td>0</td>\n",
       "      <td>0</td>\n",
       "      <td>0</td>\n",
       "      <td>0</td>\n",
       "      <td>0</td>\n",
       "      <td>...</td>\n",
       "      <td>0</td>\n",
       "      <td>0</td>\n",
       "      <td>0</td>\n",
       "      <td>0</td>\n",
       "      <td>0</td>\n",
       "      <td>0</td>\n",
       "      <td>0</td>\n",
       "      <td>0</td>\n",
       "      <td>0</td>\n",
       "      <td>0</td>\n",
       "    </tr>\n",
       "    <tr>\n",
       "      <th>356382</th>\n",
       "      <td>TGA</td>\n",
       "      <td>8</td>\n",
       "      <td>0</td>\n",
       "      <td>0</td>\n",
       "      <td>0</td>\n",
       "      <td>0</td>\n",
       "      <td>0</td>\n",
       "      <td>0</td>\n",
       "      <td>0</td>\n",
       "      <td>0</td>\n",
       "      <td>...</td>\n",
       "      <td>0</td>\n",
       "      <td>0</td>\n",
       "      <td>1</td>\n",
       "      <td>0</td>\n",
       "      <td>0</td>\n",
       "      <td>0</td>\n",
       "      <td>0</td>\n",
       "      <td>0</td>\n",
       "      <td>0</td>\n",
       "      <td>0</td>\n",
       "    </tr>\n",
       "    <tr>\n",
       "      <th>356383</th>\n",
       "      <td>ACG</td>\n",
       "      <td>44</td>\n",
       "      <td>0</td>\n",
       "      <td>0</td>\n",
       "      <td>0</td>\n",
       "      <td>0</td>\n",
       "      <td>0</td>\n",
       "      <td>0</td>\n",
       "      <td>0</td>\n",
       "      <td>1</td>\n",
       "      <td>...</td>\n",
       "      <td>0</td>\n",
       "      <td>0</td>\n",
       "      <td>0</td>\n",
       "      <td>0</td>\n",
       "      <td>0</td>\n",
       "      <td>0</td>\n",
       "      <td>0</td>\n",
       "      <td>0</td>\n",
       "      <td>0</td>\n",
       "      <td>0</td>\n",
       "    </tr>\n",
       "    <tr>\n",
       "      <th>356384</th>\n",
       "      <td>GAT</td>\n",
       "      <td>11</td>\n",
       "      <td>0</td>\n",
       "      <td>0</td>\n",
       "      <td>0</td>\n",
       "      <td>0</td>\n",
       "      <td>0</td>\n",
       "      <td>0</td>\n",
       "      <td>0</td>\n",
       "      <td>0</td>\n",
       "      <td>...</td>\n",
       "      <td>0</td>\n",
       "      <td>0</td>\n",
       "      <td>0</td>\n",
       "      <td>0</td>\n",
       "      <td>0</td>\n",
       "      <td>0</td>\n",
       "      <td>0</td>\n",
       "      <td>0</td>\n",
       "      <td>0</td>\n",
       "      <td>0</td>\n",
       "    </tr>\n",
       "    <tr>\n",
       "      <th>356385</th>\n",
       "      <td>CGT</td>\n",
       "      <td>55</td>\n",
       "      <td>0</td>\n",
       "      <td>0</td>\n",
       "      <td>0</td>\n",
       "      <td>0</td>\n",
       "      <td>0</td>\n",
       "      <td>0</td>\n",
       "      <td>0</td>\n",
       "      <td>0</td>\n",
       "      <td>...</td>\n",
       "      <td>0</td>\n",
       "      <td>0</td>\n",
       "      <td>0</td>\n",
       "      <td>0</td>\n",
       "      <td>0</td>\n",
       "      <td>0</td>\n",
       "      <td>0</td>\n",
       "      <td>0</td>\n",
       "      <td>0</td>\n",
       "      <td>0</td>\n",
       "    </tr>\n",
       "    <tr>\n",
       "      <th>356386</th>\n",
       "      <td>ACC</td>\n",
       "      <td>37</td>\n",
       "      <td>0</td>\n",
       "      <td>0</td>\n",
       "      <td>0</td>\n",
       "      <td>0</td>\n",
       "      <td>0</td>\n",
       "      <td>0</td>\n",
       "      <td>1</td>\n",
       "      <td>0</td>\n",
       "      <td>...</td>\n",
       "      <td>0</td>\n",
       "      <td>0</td>\n",
       "      <td>0</td>\n",
       "      <td>0</td>\n",
       "      <td>0</td>\n",
       "      <td>0</td>\n",
       "      <td>0</td>\n",
       "      <td>0</td>\n",
       "      <td>0</td>\n",
       "      <td>0</td>\n",
       "    </tr>\n",
       "    <tr>\n",
       "      <th>356387</th>\n",
       "      <td>TTA</td>\n",
       "      <td>14</td>\n",
       "      <td>0</td>\n",
       "      <td>0</td>\n",
       "      <td>0</td>\n",
       "      <td>0</td>\n",
       "      <td>0</td>\n",
       "      <td>0</td>\n",
       "      <td>0</td>\n",
       "      <td>0</td>\n",
       "      <td>...</td>\n",
       "      <td>0</td>\n",
       "      <td>0</td>\n",
       "      <td>0</td>\n",
       "      <td>0</td>\n",
       "      <td>0</td>\n",
       "      <td>0</td>\n",
       "      <td>1</td>\n",
       "      <td>0</td>\n",
       "      <td>0</td>\n",
       "      <td>0</td>\n",
       "    </tr>\n",
       "    <tr>\n",
       "      <th>356388</th>\n",
       "      <td>AAC</td>\n",
       "      <td>12</td>\n",
       "      <td>0</td>\n",
       "      <td>0</td>\n",
       "      <td>1</td>\n",
       "      <td>0</td>\n",
       "      <td>0</td>\n",
       "      <td>0</td>\n",
       "      <td>0</td>\n",
       "      <td>0</td>\n",
       "      <td>...</td>\n",
       "      <td>0</td>\n",
       "      <td>0</td>\n",
       "      <td>0</td>\n",
       "      <td>0</td>\n",
       "      <td>0</td>\n",
       "      <td>0</td>\n",
       "      <td>0</td>\n",
       "      <td>0</td>\n",
       "      <td>0</td>\n",
       "      <td>0</td>\n",
       "    </tr>\n",
       "    <tr>\n",
       "      <th>356389</th>\n",
       "      <td>ACC</td>\n",
       "      <td>37</td>\n",
       "      <td>0</td>\n",
       "      <td>0</td>\n",
       "      <td>0</td>\n",
       "      <td>0</td>\n",
       "      <td>0</td>\n",
       "      <td>0</td>\n",
       "      <td>1</td>\n",
       "      <td>0</td>\n",
       "      <td>...</td>\n",
       "      <td>0</td>\n",
       "      <td>0</td>\n",
       "      <td>0</td>\n",
       "      <td>0</td>\n",
       "      <td>0</td>\n",
       "      <td>0</td>\n",
       "      <td>0</td>\n",
       "      <td>0</td>\n",
       "      <td>0</td>\n",
       "      <td>0</td>\n",
       "    </tr>\n",
       "    <tr>\n",
       "      <th>356390</th>\n",
       "      <td>CAG</td>\n",
       "      <td>26</td>\n",
       "      <td>0</td>\n",
       "      <td>0</td>\n",
       "      <td>0</td>\n",
       "      <td>0</td>\n",
       "      <td>0</td>\n",
       "      <td>0</td>\n",
       "      <td>0</td>\n",
       "      <td>0</td>\n",
       "      <td>...</td>\n",
       "      <td>0</td>\n",
       "      <td>0</td>\n",
       "      <td>0</td>\n",
       "      <td>0</td>\n",
       "      <td>0</td>\n",
       "      <td>0</td>\n",
       "      <td>0</td>\n",
       "      <td>0</td>\n",
       "      <td>0</td>\n",
       "      <td>0</td>\n",
       "    </tr>\n",
       "    <tr>\n",
       "      <th>356391</th>\n",
       "      <td>TTC</td>\n",
       "      <td>9</td>\n",
       "      <td>0</td>\n",
       "      <td>0</td>\n",
       "      <td>0</td>\n",
       "      <td>0</td>\n",
       "      <td>0</td>\n",
       "      <td>0</td>\n",
       "      <td>0</td>\n",
       "      <td>0</td>\n",
       "      <td>...</td>\n",
       "      <td>0</td>\n",
       "      <td>0</td>\n",
       "      <td>0</td>\n",
       "      <td>0</td>\n",
       "      <td>0</td>\n",
       "      <td>0</td>\n",
       "      <td>0</td>\n",
       "      <td>1</td>\n",
       "      <td>0</td>\n",
       "      <td>0</td>\n",
       "    </tr>\n",
       "    <tr>\n",
       "      <th>356392</th>\n",
       "      <td>GCC</td>\n",
       "      <td>50</td>\n",
       "      <td>0</td>\n",
       "      <td>0</td>\n",
       "      <td>0</td>\n",
       "      <td>0</td>\n",
       "      <td>0</td>\n",
       "      <td>0</td>\n",
       "      <td>0</td>\n",
       "      <td>0</td>\n",
       "      <td>...</td>\n",
       "      <td>0</td>\n",
       "      <td>0</td>\n",
       "      <td>0</td>\n",
       "      <td>0</td>\n",
       "      <td>0</td>\n",
       "      <td>0</td>\n",
       "      <td>0</td>\n",
       "      <td>0</td>\n",
       "      <td>0</td>\n",
       "      <td>0</td>\n",
       "    </tr>\n",
       "    <tr>\n",
       "      <th>356393</th>\n",
       "      <td>CTA</td>\n",
       "      <td>61</td>\n",
       "      <td>0</td>\n",
       "      <td>0</td>\n",
       "      <td>0</td>\n",
       "      <td>0</td>\n",
       "      <td>0</td>\n",
       "      <td>0</td>\n",
       "      <td>0</td>\n",
       "      <td>0</td>\n",
       "      <td>...</td>\n",
       "      <td>0</td>\n",
       "      <td>0</td>\n",
       "      <td>0</td>\n",
       "      <td>0</td>\n",
       "      <td>0</td>\n",
       "      <td>0</td>\n",
       "      <td>0</td>\n",
       "      <td>0</td>\n",
       "      <td>0</td>\n",
       "      <td>0</td>\n",
       "    </tr>\n",
       "    <tr>\n",
       "      <th>356394</th>\n",
       "      <td>TTA</td>\n",
       "      <td>14</td>\n",
       "      <td>0</td>\n",
       "      <td>0</td>\n",
       "      <td>0</td>\n",
       "      <td>0</td>\n",
       "      <td>0</td>\n",
       "      <td>0</td>\n",
       "      <td>0</td>\n",
       "      <td>0</td>\n",
       "      <td>...</td>\n",
       "      <td>0</td>\n",
       "      <td>0</td>\n",
       "      <td>0</td>\n",
       "      <td>0</td>\n",
       "      <td>0</td>\n",
       "      <td>0</td>\n",
       "      <td>1</td>\n",
       "      <td>0</td>\n",
       "      <td>0</td>\n",
       "      <td>0</td>\n",
       "    </tr>\n",
       "    <tr>\n",
       "      <th>356395</th>\n",
       "      <td>GGA</td>\n",
       "      <td>45</td>\n",
       "      <td>0</td>\n",
       "      <td>0</td>\n",
       "      <td>0</td>\n",
       "      <td>0</td>\n",
       "      <td>0</td>\n",
       "      <td>0</td>\n",
       "      <td>0</td>\n",
       "      <td>0</td>\n",
       "      <td>...</td>\n",
       "      <td>0</td>\n",
       "      <td>0</td>\n",
       "      <td>0</td>\n",
       "      <td>0</td>\n",
       "      <td>0</td>\n",
       "      <td>0</td>\n",
       "      <td>0</td>\n",
       "      <td>0</td>\n",
       "      <td>0</td>\n",
       "      <td>0</td>\n",
       "    </tr>\n",
       "    <tr>\n",
       "      <th>356396</th>\n",
       "      <td>ATG</td>\n",
       "      <td>17</td>\n",
       "      <td>0</td>\n",
       "      <td>0</td>\n",
       "      <td>0</td>\n",
       "      <td>0</td>\n",
       "      <td>0</td>\n",
       "      <td>0</td>\n",
       "      <td>0</td>\n",
       "      <td>0</td>\n",
       "      <td>...</td>\n",
       "      <td>0</td>\n",
       "      <td>0</td>\n",
       "      <td>0</td>\n",
       "      <td>0</td>\n",
       "      <td>0</td>\n",
       "      <td>0</td>\n",
       "      <td>0</td>\n",
       "      <td>0</td>\n",
       "      <td>0</td>\n",
       "      <td>0</td>\n",
       "    </tr>\n",
       "    <tr>\n",
       "      <th>356397</th>\n",
       "      <td>TAA</td>\n",
       "      <td>13</td>\n",
       "      <td>0</td>\n",
       "      <td>0</td>\n",
       "      <td>0</td>\n",
       "      <td>0</td>\n",
       "      <td>0</td>\n",
       "      <td>0</td>\n",
       "      <td>0</td>\n",
       "      <td>0</td>\n",
       "      <td>...</td>\n",
       "      <td>0</td>\n",
       "      <td>0</td>\n",
       "      <td>0</td>\n",
       "      <td>0</td>\n",
       "      <td>0</td>\n",
       "      <td>0</td>\n",
       "      <td>0</td>\n",
       "      <td>0</td>\n",
       "      <td>0</td>\n",
       "      <td>0</td>\n",
       "    </tr>\n",
       "    <tr>\n",
       "      <th>356398</th>\n",
       "      <td>GAA</td>\n",
       "      <td>3</td>\n",
       "      <td>0</td>\n",
       "      <td>0</td>\n",
       "      <td>0</td>\n",
       "      <td>0</td>\n",
       "      <td>0</td>\n",
       "      <td>0</td>\n",
       "      <td>0</td>\n",
       "      <td>0</td>\n",
       "      <td>...</td>\n",
       "      <td>0</td>\n",
       "      <td>0</td>\n",
       "      <td>0</td>\n",
       "      <td>0</td>\n",
       "      <td>0</td>\n",
       "      <td>0</td>\n",
       "      <td>0</td>\n",
       "      <td>0</td>\n",
       "      <td>0</td>\n",
       "      <td>0</td>\n",
       "    </tr>\n",
       "    <tr>\n",
       "      <th>356399</th>\n",
       "      <td>CTC</td>\n",
       "      <td>60</td>\n",
       "      <td>0</td>\n",
       "      <td>0</td>\n",
       "      <td>0</td>\n",
       "      <td>0</td>\n",
       "      <td>0</td>\n",
       "      <td>0</td>\n",
       "      <td>0</td>\n",
       "      <td>0</td>\n",
       "      <td>...</td>\n",
       "      <td>0</td>\n",
       "      <td>0</td>\n",
       "      <td>0</td>\n",
       "      <td>0</td>\n",
       "      <td>0</td>\n",
       "      <td>0</td>\n",
       "      <td>0</td>\n",
       "      <td>0</td>\n",
       "      <td>0</td>\n",
       "      <td>0</td>\n",
       "    </tr>\n",
       "  </tbody>\n",
       "</table>\n",
       "<p>20 rows × 67 columns</p>\n",
       "</div>"
      ],
      "text/plain": [
       "       Context   c  Unknown  AAA  AAC  AAG  AAT  ACA  ACC  ACG  ...  TCG  TCT  \\\n",
       "356380     CAA   7        0    0    0    0    0    0    0    0  ...    0    0   \n",
       "356381     AGT  49        0    0    0    0    0    0    0    0  ...    0    0   \n",
       "356382     TGA   8        0    0    0    0    0    0    0    0  ...    0    0   \n",
       "356383     ACG  44        0    0    0    0    0    0    0    1  ...    0    0   \n",
       "356384     GAT  11        0    0    0    0    0    0    0    0  ...    0    0   \n",
       "356385     CGT  55        0    0    0    0    0    0    0    0  ...    0    0   \n",
       "356386     ACC  37        0    0    0    0    0    0    1    0  ...    0    0   \n",
       "356387     TTA  14        0    0    0    0    0    0    0    0  ...    0    0   \n",
       "356388     AAC  12        0    0    1    0    0    0    0    0  ...    0    0   \n",
       "356389     ACC  37        0    0    0    0    0    0    1    0  ...    0    0   \n",
       "356390     CAG  26        0    0    0    0    0    0    0    0  ...    0    0   \n",
       "356391     TTC   9        0    0    0    0    0    0    0    0  ...    0    0   \n",
       "356392     GCC  50        0    0    0    0    0    0    0    0  ...    0    0   \n",
       "356393     CTA  61        0    0    0    0    0    0    0    0  ...    0    0   \n",
       "356394     TTA  14        0    0    0    0    0    0    0    0  ...    0    0   \n",
       "356395     GGA  45        0    0    0    0    0    0    0    0  ...    0    0   \n",
       "356396     ATG  17        0    0    0    0    0    0    0    0  ...    0    0   \n",
       "356397     TAA  13        0    0    0    0    0    0    0    0  ...    0    0   \n",
       "356398     GAA   3        0    0    0    0    0    0    0    0  ...    0    0   \n",
       "356399     CTC  60        0    0    0    0    0    0    0    0  ...    0    0   \n",
       "\n",
       "        TGA  TGC  TGG  TGT  TTA  TTC  TTG  TTT  \n",
       "356380    0    0    0    0    0    0    0    0  \n",
       "356381    0    0    0    0    0    0    0    0  \n",
       "356382    1    0    0    0    0    0    0    0  \n",
       "356383    0    0    0    0    0    0    0    0  \n",
       "356384    0    0    0    0    0    0    0    0  \n",
       "356385    0    0    0    0    0    0    0    0  \n",
       "356386    0    0    0    0    0    0    0    0  \n",
       "356387    0    0    0    0    1    0    0    0  \n",
       "356388    0    0    0    0    0    0    0    0  \n",
       "356389    0    0    0    0    0    0    0    0  \n",
       "356390    0    0    0    0    0    0    0    0  \n",
       "356391    0    0    0    0    0    1    0    0  \n",
       "356392    0    0    0    0    0    0    0    0  \n",
       "356393    0    0    0    0    0    0    0    0  \n",
       "356394    0    0    0    0    1    0    0    0  \n",
       "356395    0    0    0    0    0    0    0    0  \n",
       "356396    0    0    0    0    0    0    0    0  \n",
       "356397    0    0    0    0    0    0    0    0  \n",
       "356398    0    0    0    0    0    0    0    0  \n",
       "356399    0    0    0    0    0    0    0    0  \n",
       "\n",
       "[20 rows x 67 columns]"
      ]
     },
     "execution_count": 19,
     "metadata": {},
     "output_type": "execute_result"
    }
   ],
   "source": [
    "if y_ds.shape[1] < 3:\n",
    "    y_ds['Unknown'] = np.zeros(y_ds.shape[0]).astype(int)\n",
    "    y_ds = y_ds.join(pd.get_dummies(y_ds.Context), how='left')\n",
    "y_ds.tail(20)"
   ]
  },
  {
   "cell_type": "code",
   "execution_count": 20,
   "metadata": {},
   "outputs": [
    {
     "data": {
      "text/html": [
       "<div>\n",
       "<style scoped>\n",
       "    .dataframe tbody tr th:only-of-type {\n",
       "        vertical-align: middle;\n",
       "    }\n",
       "\n",
       "    .dataframe tbody tr th {\n",
       "        vertical-align: top;\n",
       "    }\n",
       "\n",
       "    .dataframe thead th {\n",
       "        text-align: right;\n",
       "    }\n",
       "</style>\n",
       "<table border=\"1\" class=\"dataframe\">\n",
       "  <thead>\n",
       "    <tr style=\"text-align: right;\">\n",
       "      <th></th>\n",
       "      <th>Target</th>\n",
       "      <th>t</th>\n",
       "    </tr>\n",
       "  </thead>\n",
       "  <tbody>\n",
       "    <tr>\n",
       "      <th>45</th>\n",
       "      <td>AAA</td>\n",
       "      <td>1</td>\n",
       "    </tr>\n",
       "    <tr>\n",
       "      <th>76</th>\n",
       "      <td>AAA</td>\n",
       "      <td>1</td>\n",
       "    </tr>\n",
       "    <tr>\n",
       "      <th>122</th>\n",
       "      <td>AAA</td>\n",
       "      <td>1</td>\n",
       "    </tr>\n",
       "    <tr>\n",
       "      <th>177</th>\n",
       "      <td>AAA</td>\n",
       "      <td>1</td>\n",
       "    </tr>\n",
       "    <tr>\n",
       "      <th>275</th>\n",
       "      <td>AAA</td>\n",
       "      <td>1</td>\n",
       "    </tr>\n",
       "    <tr>\n",
       "      <th>...</th>\n",
       "      <td>...</td>\n",
       "      <td>...</td>\n",
       "    </tr>\n",
       "    <tr>\n",
       "      <th>356186</th>\n",
       "      <td>AAA</td>\n",
       "      <td>1</td>\n",
       "    </tr>\n",
       "    <tr>\n",
       "      <th>356236</th>\n",
       "      <td>AAA</td>\n",
       "      <td>1</td>\n",
       "    </tr>\n",
       "    <tr>\n",
       "      <th>356267</th>\n",
       "      <td>AAA</td>\n",
       "      <td>1</td>\n",
       "    </tr>\n",
       "    <tr>\n",
       "      <th>356319</th>\n",
       "      <td>AAA</td>\n",
       "      <td>1</td>\n",
       "    </tr>\n",
       "    <tr>\n",
       "      <th>356376</th>\n",
       "      <td>AAA</td>\n",
       "      <td>1</td>\n",
       "    </tr>\n",
       "  </tbody>\n",
       "</table>\n",
       "<p>21288 rows × 2 columns</p>\n",
       "</div>"
      ],
      "text/plain": [
       "       Target  t\n",
       "45        AAA  1\n",
       "76        AAA  1\n",
       "122       AAA  1\n",
       "177       AAA  1\n",
       "275       AAA  1\n",
       "...       ... ..\n",
       "356186    AAA  1\n",
       "356236    AAA  1\n",
       "356267    AAA  1\n",
       "356319    AAA  1\n",
       "356376    AAA  1\n",
       "\n",
       "[21288 rows x 2 columns]"
      ]
     },
     "execution_count": 20,
     "metadata": {},
     "output_type": "execute_result"
    }
   ],
   "source": [
    "X_ds.loc[X_ds.Target=='AAA', :]"
   ]
  },
  {
   "cell_type": "code",
   "execution_count": 21,
   "metadata": {},
   "outputs": [
    {
     "name": "stdout",
     "output_type": "stream",
     "text": [
      "['TAC' 'CTC' 'AAG' 'GAG' 'GCT' 'GGC' 'AAA' 'TTG' 'GAA' 'ATA' 'GTT' 'CAG'\n",
      " 'TAA' 'TCG' 'CGA' 'TGG' 'AAT' 'ACG' 'AGG' 'GAC' 'TAG' 'TCA' 'AAC' 'TGT'\n",
      " 'TAT' 'CAA' 'TCT' 'CGT' 'GTA' 'TTT' 'CTA' 'TCC' 'GCC' 'GGT' 'GGG' 'TTC'\n",
      " 'CGG' 'CCA' 'ATG' 'CAT' 'ACA' 'CCG' 'GCA' 'AGA' 'GGA' 'TTA' 'AGC' 'AGT'\n",
      " 'CAC' 'ACT' 'CTG' 'GAT' 'CGC' 'GTG' 'GCG' 'CCT' 'TGA' 'ATC' 'CCC' 'CTT'\n",
      " 'TGC' 'GTC' 'ATT' 'ACC']\n",
      "[48 60  4 51 34 29  1 20  3 21 22 26 13 36 27 18  5 44 54 40 63 15 12 46\n",
      " 16  7 35 55 52  2 61 58 50 28 62  9 39 42 17 31 25 41 30 10 45 14 38 49\n",
      " 56 47 23 11 33 53 32 59  8 19 64 24 43 57  6 37]\n"
     ]
    }
   ],
   "source": [
    "idxs = X_ds.Target=='AAA'\n",
    "print(y_ds.loc[idxs, 'Context'].unique())\n",
    "print(y_ds.loc[idxs, 'c'].unique())"
   ]
  },
  {
   "cell_type": "code",
   "execution_count": 22,
   "metadata": {},
   "outputs": [
    {
     "data": {
      "text/plain": [
       "((356400,), (356400, 65))"
      ]
     },
     "execution_count": 22,
     "metadata": {},
     "output_type": "execute_result"
    }
   ],
   "source": [
    "X = X_ds.t\n",
    "y = y_ds.drop(columns=['Context', 'c'])\n",
    "assert y.shape[1] == len(code2codons)\n",
    "X.shape, y.shape"
   ]
  },
  {
   "cell_type": "code",
   "execution_count": 23,
   "metadata": {},
   "outputs": [
    {
     "name": "stdout",
     "output_type": "stream",
     "text": [
      "(356400,)\n",
      "64\n",
      "[1, 2, 3, 4, 5, 6, 7, 8, 9, 10, 11, 12, 13, 14, 15, 16, 17, 18, 19, 20, 21, 22, 23, 24, 25, 26, 27, 28, 29, 30, 31, 32, 33, 34, 35, 36, 37, 38, 39, 40, 41, 42, 43, 44, 45, 46, 47, 48, 49, 50, 51, 52, 53, 54, 55, 56, 57, 58, 59, 60, 61, 62, 63, 64]\n",
      "(356400, 65)\n",
      "64\n",
      "[1, 2, 3, 4, 5, 6, 7, 8, 9, 10, 11, 12, 13, 14, 15, 16, 17, 18, 19, 20, 21, 22, 23, 24, 25, 26, 27, 28, 29, 30, 31, 32, 33, 34, 35, 36, 37, 38, 39, 40, 41, 42, 43, 44, 45, 46, 47, 48, 49, 50, 51, 52, 53, 54, 55, 56, 57, 58, 59, 60, 61, 62, 63, 64]\n"
     ]
    }
   ],
   "source": [
    "print(X.shape)\n",
    "print(X.nunique())\n",
    "print(sorted(X.unique()))\n",
    "print(y.shape)\n",
    "print(y_ds.c.nunique())\n",
    "print(sorted(y_ds.c.unique()))"
   ]
  },
  {
   "cell_type": "code",
   "execution_count": 24,
   "metadata": {},
   "outputs": [
    {
     "name": "stdout",
     "output_type": "stream",
     "text": [
      "shape target_v     (None,)\n",
      "shape target_embs  (None, 20)\n",
      "shape context_embs (None, 65, 20)\n",
      "shape logits       (None, 65)\n",
      "Model: \"seq2vec\"\n",
      "__________________________________________________________________________________________________\n",
      " Layer (type)                   Output Shape         Param #     Connected to                     \n",
      "==================================================================================================\n",
      " target (InputLayer)            [(None,)]            0           []                               \n",
      "                                                                                                  \n",
      " context (InputLayer)           [(None, 65)]         0           []                               \n",
      "                                                                                                  \n",
      " seq2vec-embedding (Embedding)  (None, 20)           1300        ['target[0][0]']                 \n",
      "                                                                                                  \n",
      " context-embedding (Embedding)  (None, 65, 20)       1300        ['context[0][0]']                \n",
      "                                                                                                  \n",
      " tf.einsum (TFOpLambda)         (None, 65)           0           ['seq2vec-embedding[0][0]',      \n",
      "                                                                  'context-embedding[0][0]']      \n",
      "                                                                                                  \n",
      "==================================================================================================\n",
      "Total params: 2,600\n",
      "Trainable params: 2,600\n",
      "Non-trainable params: 0\n",
      "__________________________________________________________________________________________________\n"
     ]
    }
   ],
   "source": [
    "def init_seq2vec(embs_dim=20, input_dim=len(code2codons), verbose=False):\n",
    "\n",
    "    target_in = Input(shape=(), name='target')\n",
    "    context_in = Input(shape=(65,), name='context')\n",
    "    \n",
    "    embedding_matrix = layers.Embedding(\n",
    "        input_dim=input_dim,\n",
    "        output_dim=embs_dim,\n",
    "        input_length=1,\n",
    "        name='seq2vec-embedding'\n",
    "    )\n",
    "    target_embs = embedding_matrix(target_in)\n",
    "\n",
    "    context_emb_matrix = layers.Embedding(\n",
    "        input_dim=input_dim,\n",
    "        output_dim=embs_dim,\n",
    "        input_length=65,\n",
    "        name='context-embedding'\n",
    "    )\n",
    "\n",
    "    context_embs = context_emb_matrix(context_in)\n",
    "    \n",
    "    logits = tf.einsum('se, sce->sc', target_embs, context_embs)\n",
    "    # out = layers.Softmax(name='softmax')(logits)\n",
    "\n",
    "    if verbose:\n",
    "        print('shape target_v    ', target_in.shape)\n",
    "        print('shape target_embs ', target_embs.shape)\n",
    "        print('shape context_embs', context_embs.shape)\n",
    "        print('shape logits      ', logits.shape)\n",
    "        # print('shape out         ', out.shape)\n",
    "\n",
    "    model = Model([target_in, context_in], logits, name='seq2vec')\n",
    "\n",
    "    return model\n",
    "\n",
    "init_seq2vec(verbose=True).summary()"
   ]
  },
  {
   "cell_type": "code",
   "execution_count": 25,
   "metadata": {},
   "outputs": [],
   "source": [
    "X_context = tf.constant(np.outer(np.ones(X.shape[0]),np.arange(len(code2codons))), dtype='float32')"
   ]
  },
  {
   "cell_type": "code",
   "execution_count": 26,
   "metadata": {},
   "outputs": [
    {
     "data": {
      "text/plain": [
       "((356400,), (356400, 65), (356400, 65))"
      ]
     },
     "execution_count": 26,
     "metadata": {},
     "output_type": "execute_result"
    }
   ],
   "source": [
    "X.shape, X_context.numpy().shape, y.shape"
   ]
  },
  {
   "cell_type": "code",
   "execution_count": 37,
   "metadata": {},
   "outputs": [
    {
     "data": {
      "application/vnd.jupyter.widget-view+json": {
       "model_id": "983d144e4f1d4c5caf9264e260f09646",
       "version_major": 2,
       "version_minor": 0
      },
      "text/plain": [
       "0epoch [00:00, ?epoch/s]"
      ]
     },
     "metadata": {},
     "output_type": "display_data"
    },
    {
     "data": {
      "application/vnd.jupyter.widget-view+json": {
       "model_id": "",
       "version_major": 2,
       "version_minor": 0
      },
      "text/plain": [
       "0batch [00:00, ?batch/s]"
      ]
     },
     "metadata": {},
     "output_type": "display_data"
    }
   ],
   "source": [
    "s2v = init_seq2vec(20)\n",
    "opt = tf.keras.optimizers.Adam(learning_rate=1e-4)\n",
    "loss = loss=tf.keras.losses.CategoricalCrossentropy(from_logits=True)\n",
    "\n",
    "es = EarlyStopping(patience=10, monitor='accuracy', restore_best_weights=True)\n",
    "pb = TqdmCallback(verbose=1)\n",
    "\n",
    "s2v.compile(\n",
    "    optimizer=opt,\n",
    "    loss=loss,\n",
    "    metrics=['accuracy'],\n",
    ")\n",
    "\n",
    "epochs = 500\n",
    "\n",
    "hist = s2v.fit(\n",
    "    x=(X, X_context),\n",
    "    y=y, \n",
    "    epochs=epochs, \n",
    "    batch_size=512, \n",
    "    callbacks=[es, pb],\n",
    "    verbose=0)"
   ]
  },
  {
   "cell_type": "code",
   "execution_count": 38,
   "metadata": {},
   "outputs": [
    {
     "data": {
      "text/plain": [
       "<AxesSubplot:>"
      ]
     },
     "execution_count": 38,
     "metadata": {},
     "output_type": "execute_result"
    },
    {
     "data": {
      "image/png": "[encoded data removed]",
      "text/plain": [
       "<Figure size 432x288 with 1 Axes>"
      ]
     },
     "metadata": {
      "needs_background": "light"
     },
     "output_type": "display_data"
    }
   ],
   "source": [
    "pd.DataFrame(hist.history).plot()"
   ]
  },
  {
   "cell_type": "code",
   "execution_count": 39,
   "metadata": {},
   "outputs": [
    {
     "data": {
      "application/vnd.jupyter.widget-view+json": {
       "model_id": "e58696262333422cbd449e81d25b2f91",
       "version_major": 2,
       "version_minor": 0
      },
      "text/plain": [
       "0epoch [00:00, ?epoch/s]"
      ]
     },
     "metadata": {},
     "output_type": "display_data"
    },
    {
     "data": {
      "application/vnd.jupyter.widget-view+json": {
       "model_id": "",
       "version_major": 2,
       "version_minor": 0
      },
      "text/plain": [
       "0batch [00:00, ?batch/s]"
      ]
     },
     "metadata": {},
     "output_type": "display_data"
    }
   ],
   "source": [
    "opt = tf.keras.optimizers.Adam(learning_rate=5e-5)\n",
    "\n",
    "es = EarlyStopping(patience=10, monitor='accuracy', restore_best_weights=True)\n",
    "pb = TqdmCallback(verbose=1)\n",
    "\n",
    "s2v.compile(\n",
    "    optimizer=opt,\n",
    "    loss=loss,\n",
    "    metrics=['accuracy'],\n",
    ")\n",
    "\n",
    "epochs = 500\n",
    "\n",
    "hist_2 = s2v.fit(\n",
    "    x=(X, X_context),\n",
    "    y=y, \n",
    "    epochs=epochs, \n",
    "    batch_size=512, \n",
    "    callbacks=[es, pb],\n",
    "    verbose=0)"
   ]
  },
  {
   "cell_type": "code",
   "execution_count": 40,
   "metadata": {},
   "outputs": [
    {
     "data": {
      "text/plain": [
       "<AxesSubplot:>"
      ]
     },
     "execution_count": 40,
     "metadata": {},
     "output_type": "execute_result"
    },
    {
     "data": {
      "image/png": "[encoded data removed]",
      "text/plain": [
       "<Figure size 432x288 with 1 Axes>"
      ]
     },
     "metadata": {
      "needs_background": "light"
     },
     "output_type": "display_data"
    }
   ],
   "source": [
    "pd.DataFrame(hist_2.history).plot()"
   ]
  },
  {
   "cell_type": "code",
   "execution_count": null,
   "metadata": {},
   "outputs": [
    {
     "data": {
      "application/vnd.jupyter.widget-view+json": {
       "model_id": "e5d779ad637043f3b500d46b45084646",
       "version_major": 2,
       "version_minor": 0
      },
      "text/plain": [
       "0epoch [00:12, ?epoch/s]"
      ]
     },
     "metadata": {},
     "output_type": "display_data"
    },
    {
     "data": {
      "application/vnd.jupyter.widget-view+json": {
       "model_id": "5557582e9158446597bb0537a971cbce",
       "version_major": 2,
       "version_minor": 0
      },
      "text/plain": [
       "0batch [00:00, ?batch/s]"
      ]
     },
     "metadata": {},
     "output_type": "display_data"
    }
   ],
   "source": [
    "opt = tf.keras.optimizers.Adam(learning_rate=1e-6)\n",
    "\n",
    "es = EarlyStopping(patience=10, monitor='accuracy', restore_best_weights=True)\n",
    "pb = TqdmCallback(verbose=1)\n",
    "\n",
    "s2v.compile(\n",
    "    optimizer=opt,\n",
    "    loss=loss,\n",
    "    metrics=['accuracy'],\n",
    ")\n",
    "\n",
    "epochs = 500\n",
    "\n",
    "hist_2 = s2v.fit(\n",
    "    x=(X, X_context),\n",
    "    y=y, \n",
    "    epochs=epochs, \n",
    "    batch_size=512, \n",
    "    callbacks=[es, pb],\n",
    "    verbose=0)"
   ]
  },
  {
   "cell_type": "code",
   "execution_count": null,
   "metadata": {},
   "outputs": [],
   "source": [
    "pd.DataFrame(hist_2.history).plot()"
   ]
  }
 ],
 "metadata": {
  "kernelspec": {
   "display_name": "Python 3",
   "language": "python",
   "name": "python3"
  },
  "language_info": {
   "codemirror_mode": {
    "name": "ipython",
    "version": 3
   },
   "file_extension": ".py",
   "mimetype": "text/x-python",
   "name": "python",
   "nbconvert_exporter": "python",
   "pygments_lexer": "ipython3",
   "version": "3.8.10"
  }
 },
 "nbformat": 4,
 "nbformat_minor": 4
}
