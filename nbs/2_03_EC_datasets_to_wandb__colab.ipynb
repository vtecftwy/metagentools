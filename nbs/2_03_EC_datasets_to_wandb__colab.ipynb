{
  "cells": [
    {
      "cell_type": "markdown",
      "metadata": {
        "id": "view-in-github",
        "colab_type": "text"
      },
      "source": [
        "<a href=\"https://colab.research.google.com/github/vtecftwy/metagenomics/blob/refactor_cnn_virus/nbs/2_03_EC_datasets_to_wandb__colab.ipynb\" target=\"_parent\"><img src=\"https://colab.research.google.com/assets/colab-badge.svg\" alt=\"Open In Colab\"/></a>"
      ]
    },
    {
      "cell_type": "markdown",
      "metadata": {
        "id": "0wBmc9__aZ3-"
      },
      "source": [
        "# Load data files as WandB Artifacts (Metagenomics CNN-Virus)"
      ]
    },
    {
      "cell_type": "markdown",
      "source": [
        "To be run on COLAB"
      ],
      "metadata": {
        "id": "LRSM8zpthdWm"
      }
    },
    {
      "cell_type": "markdown",
      "source": [
        "- files to load data:\n",
        "    - `50mer_training`\n",
        "    - `50mer_validating`\n",
        "    - `weight_of_classes`\n"
      ],
      "metadata": {
        "id": "KXCGF6ea0F9g"
      }
    },
    {
      "cell_type": "markdown",
      "source": [
        "# Imports and setup environment"
      ],
      "metadata": {
        "id": "IL-elfNI11Nw"
      }
    },
    {
      "cell_type": "markdown",
      "source": [
        "### Install and import packages"
      ],
      "metadata": {
        "id": "wso7ceNWS6yB"
      }
    },
    {
      "cell_type": "code",
      "execution_count": 1,
      "metadata": {
        "id": "qvhl4uR3aZ4A",
        "colab": {
          "base_uri": "https://localhost:8080/"
        },
        "outputId": "8b38e063-b247-4f79-9cc3-6e3373262e46"
      },
      "outputs": [
        {
          "output_type": "stream",
          "name": "stdout",
          "text": [
            "Tensorflow version: 2.8.2\n",
            "\n",
            "\n",
            "Devices:\n",
            "  - CPU  /device:CPU:0                          \n"
          ]
        }
      ],
      "source": [
        "import configparser\n",
        "import numpy as np\n",
        "import psutil\n",
        "import os\n",
        "import shutil\n",
        "import sys\n",
        "import tensorflow as tf\n",
        "\n",
        "from pathlib import Path\n",
        "from tensorflow.python.client import device_lib\n",
        "print(f\"Tensorflow version: {tf.__version__}\\n\")\n",
        "\n",
        "%load_ext autoreload\n",
        "%autoreload 2\n",
        "\n",
        "devices = device_lib.list_local_devices()\n",
        "print('\\nDevices:')\n",
        "for d in devices:\n",
        "    t = d.device_type\n",
        "    name = d.physical_device_desc\n",
        "    l = [item.split(':', 1) for item in name.split(', ')]\n",
        "    name_attr = dict([x for x in l if len(x)==2])\n",
        "    dev = name_attr.get('name', ' ')\n",
        "    print(f\"  - {t}  {d.name} {dev:25s}\")"
      ]
    },
    {
      "cell_type": "code",
      "source": [
        "try:\n",
        "    import wandb\n",
        "    print(f'wandb version {wandb.__version__} already installed')\n",
        "except ModuleNotFoundError:\n",
        "    !pip install -qqU wandb\n",
        "    import wandb\n",
        "    print(f'wandb version {wandb.__version__} installed')\n",
        "\n",
        "from wandb.keras import WandbCallback"
      ],
      "metadata": {
        "colab": {
          "base_uri": "https://localhost:8080/"
        },
        "id": "PAo7sufE7LJ_",
        "outputId": "eeb2d866-7298-4a6c-9a61-3b14019fff36"
      },
      "execution_count": 2,
      "outputs": [
        {
          "output_type": "stream",
          "name": "stdout",
          "text": [
            "\u001b[K     |████████████████████████████████| 1.8 MB 27.2 MB/s \n",
            "\u001b[K     |████████████████████████████████| 181 kB 62.3 MB/s \n",
            "\u001b[K     |████████████████████████████████| 158 kB 63.4 MB/s \n",
            "\u001b[K     |████████████████████████████████| 63 kB 1.8 MB/s \n",
            "\u001b[K     |████████████████████████████████| 157 kB 60.4 MB/s \n",
            "\u001b[K     |████████████████████████████████| 157 kB 58.3 MB/s \n",
            "\u001b[K     |████████████████████████████████| 157 kB 76.3 MB/s \n",
            "\u001b[K     |████████████████████████████████| 157 kB 78.9 MB/s \n",
            "\u001b[K     |████████████████████████████████| 157 kB 63.0 MB/s \n",
            "\u001b[K     |████████████████████████████████| 157 kB 67.3 MB/s \n",
            "\u001b[K     |████████████████████████████████| 157 kB 60.5 MB/s \n",
            "\u001b[K     |████████████████████████████████| 156 kB 59.8 MB/s \n",
            "\u001b[?25h  Building wheel for pathtools (setup.py) ... \u001b[?25l\u001b[?25hdone\n",
            "wandb version 0.13.3 installed\n"
          ]
        }
      ]
    },
    {
      "cell_type": "markdown",
      "metadata": {
        "id": "_r_QZTykaZ4B"
      },
      "source": [
        "## Install and import custom code, mount gdrive"
      ]
    },
    {
      "cell_type": "code",
      "source": [
        "try:\n",
        "    from google.colab import drive\n",
        "    ON_COLAB = True\n",
        "    print('Running on colab')\n",
        "    print('Installing custom project code')   \n",
        "    !pip install -U git+https://github.com/vtecftwy/metagenomics.git@refactor_cnn_virus\n",
        "    drive.mount('/content/gdrive')\n",
        "\n",
        "except ModuleNotFoundError:\n",
        "    ON_COLAB = False\n",
        "    print('Running locally')\n",
        "    print('Make sure you have installed the custom project code in your environment')\n",
        "    pdata = Path('data/cnn_virus')"
      ],
      "metadata": {
        "id": "nnWaf46nbXBl",
        "colab": {
          "base_uri": "https://localhost:8080/"
        },
        "outputId": "396a0ed2-5dc7-4d40-8f2e-090aca23226f"
      },
      "execution_count": 3,
      "outputs": [
        {
          "output_type": "stream",
          "name": "stdout",
          "text": [
            "Running on colab\n",
            "Installing custom project code\n",
            "Looking in indexes: https://pypi.org/simple, https://us-python.pkg.dev/colab-wheels/public/simple/\n",
            "Collecting git+https://github.com/vtecftwy/metagenomics.git@refactor_cnn_virus\n",
            "  Cloning https://github.com/vtecftwy/metagenomics.git (to revision refactor_cnn_virus) to /tmp/pip-req-build-w5zhgro3\n",
            "  Running command git clone -q https://github.com/vtecftwy/metagenomics.git /tmp/pip-req-build-w5zhgro3\n",
            "  Running command git checkout -b refactor_cnn_virus --track origin/refactor_cnn_virus\n",
            "  Switched to a new branch 'refactor_cnn_virus'\n",
            "  Branch 'refactor_cnn_virus' set up to track remote branch 'refactor_cnn_virus' from 'origin'.\n",
            "Building wheels for collected packages: src\n",
            "  Building wheel for src (setup.py) ... \u001b[?25l\u001b[?25hdone\n",
            "  Created wheel for src: filename=src-1.0.2-py3-none-any.whl size=14773 sha256=4657ca96bae8865946ac2cb59d53bc7ab00b34b9441773ac236ef9f658366c97\n",
            "  Stored in directory: /tmp/pip-ephem-wheel-cache-qslwj8lk/wheels/10/e4/2b/3924f57326dbc088c93138fb676f8dac09dde9d0cb9f270a15\n",
            "Successfully built src\n",
            "Installing collected packages: src\n",
            "Successfully installed src-1.0.2\n",
            "Mounted at /content/gdrive\n"
          ]
        }
      ]
    },
    {
      "cell_type": "markdown",
      "source": [
        "#  Setup paths"
      ],
      "metadata": {
        "id": "IIH336PM1PaK"
      }
    },
    {
      "cell_type": "markdown",
      "source": [
        "This assumes that the shared gdrive directory is accessible through a shortcut called `Metagenomics` under the root of gdrive."
      ],
      "metadata": {
        "id": "TOh6ADZIw-AT"
      }
    },
    {
      "cell_type": "code",
      "source": [
        "p2drive = Path('/content/gdrive/MyDrive/Metagenonics')\n",
        "assert p2drive.is_dir()\n",
        "\n",
        "p2data =  p2drive / 'CNN_Virus_data'\n",
        "assert p2data.is_dir()"
      ],
      "metadata": {
        "id": "zTBD2897BIqh"
      },
      "execution_count": 4,
      "outputs": []
    },
    {
      "cell_type": "code",
      "execution_count": 5,
      "metadata": {
        "id": "jlfjVYq5aZ4D"
      },
      "outputs": [],
      "source": [
        "#path for the training file\n",
        "filepath_train_full = p2data /\"50mer_training\"\n",
        "assert filepath_train_full.is_file()\n",
        "\n",
        "#path for the validating file\n",
        "filepath_val_full = p2data / \"50mer_validating\"\n",
        "assert filepath_val_full.is_file()\n",
        "\n",
        "#path for the learning weights file\n",
        "filepath_weights=p2data / \"weight_of_classes\"\n",
        "assert filepath_weights.is_file()"
      ]
    },
    {
      "cell_type": "markdown",
      "source": [
        "# Create data files of different lengths for training and validation"
      ],
      "metadata": {
        "id": "kECuAiJjAroN"
      }
    },
    {
      "cell_type": "markdown",
      "source": [
        "- `50mer_training_100k`, `50mer_training_1M`, `50mer_training_15M`, `50mer_training_30M`, `50mer_training_50M`\n",
        "- `50mer_validating_20k`, `50mer_validating_200k`, `50mer_validating_1M`"
      ],
      "metadata": {
        "id": "FP8Lq7jiA4mn"
      }
    },
    {
      "cell_type": "code",
      "source": [
        "def shorten_file(p2long, max_lines=100_000,):\n",
        "    \"\"\"Create file(s) by shortening the long file to one of several max_lines\n",
        "    \n",
        "    max_lines:  int to create a single short file\n",
        "                list/tuple of tuples ('suffix', max_length) to create several files\n",
        "                ex: max_lines=[('100k', 100_000), ('1M', 1_000_000), ('15M', 15_000_000)]\n",
        "    \"\"\"\n",
        "\n",
        "    if isinstance(max_lines, int):\n",
        "        max_lines = ['short', max_lines]\n",
        "    elif not isinstance(max_lines, list) and not isinstance(max_lines, tuple):\n",
        "        raise ValueError(f\"max_lines must be an int, a list of tuple or a tuple of tuple\")\n",
        "\n",
        "    max_lines_iterator = iter(max_lines)\n",
        "    n_line = 0\n",
        "    \n",
        "    def create_new_file(file, suffix, ref_file=p2long):\n",
        "        \"\"\"create new file as a copy of `file`, with name based on `ref_file` and `suffix`\"\"\"\n",
        "        if 'validating' in ref_file.stem:\n",
        "            fname_seed = '50mer_validation'\n",
        "        else:\n",
        "            fname_seed = '50mer_training'\n",
        "        new_file = Path(f\"{fname_seed}_{suffix}{ref_file.suffix}\")\n",
        "        \n",
        "        if file is None:\n",
        "            if new_file.is_file():\n",
        "                os.remove(new_file)\n",
        "                print(f\"Deleted old {new_file.name}\")\n",
        "            new_file.touch()\n",
        "            print(f\"Created empty {new_file.name}\")\n",
        "        else:\n",
        "            shutil.copy(file, new_file)\n",
        "            print(f\"Copied {file.name} into {new_file.name}\")\n",
        "        return new_file\n",
        "\n",
        "    with open(p2long, 'r') as fp_src:\n",
        "        previous_file = None\n",
        "        suffix, max_l = next(max_lines_iterator)\n",
        "        current_file = create_new_file(previous_file, suffix, p2long)\n",
        "           \n",
        "        fp_tgt = open(current_file, 'a')\n",
        "        print(f\"Opened {fp_tgt.name} and adding lines up to {max_l:,d}\")\n",
        "        while True:\n",
        "            n_line += 1\n",
        "            if n_line > max_l:\n",
        "                try:\n",
        "                    suffix, max_l = next(max_lines_iterator)\n",
        "                    previous_file = current_file\n",
        "                    current_file = create_new_file(previous_file, suffix, p2long)\n",
        "\n",
        "                    fp_tgt.close()                   \n",
        "                    fp_tgt = open(current_file, 'a')\n",
        "                    print(f\"Opened {fp_tgt.name} and adding lines up to {max_l:,d}\")\n",
        "                except:\n",
        "                    break\n",
        "            line = fp_src.readline()\n",
        "            if line == '':\n",
        "                break\n",
        "            else:\n",
        "                fp_tgt.write(line)\n",
        "        \n",
        "        fp_tgt.close()\n",
        "        print(f\"Done\")\n",
        "\n",
        "training_maxlines = [('100k', 100_000), ('1M', 1_000_000), ('15M', 15_000_000), ('30M', 30_000_000), ('50M', 52_000_000)]\n",
        "shorten_file(filepath_train_full, training_maxlines)\n",
        "\n",
        "validation_maxlines = [('20k', 20_000), ('200k', 200_000), ('1M', 1_000_000)]\n",
        "shorten_file(filepath_val_full, validation_maxlines)"
      ],
      "metadata": {
        "id": "4Rte5yVZhFt4",
        "colab": {
          "base_uri": "https://localhost:8080/"
        },
        "outputId": "95604cf9-82e5-4d0b-a370-f7cf6f71d96a"
      },
      "execution_count": 6,
      "outputs": [
        {
          "output_type": "stream",
          "name": "stdout",
          "text": [
            "Created empty 50mer_training_100k\n",
            "Opened 50mer_training_100k and adding lines up to 100,000\n",
            "Copied 50mer_training_100k into 50mer_training_1M\n",
            "Opened 50mer_training_1M and adding lines up to 1,000,000\n",
            "Copied 50mer_training_1M into 50mer_training_15M\n",
            "Opened 50mer_training_15M and adding lines up to 15,000,000\n",
            "Copied 50mer_training_15M into 50mer_training_30M\n",
            "Opened 50mer_training_30M and adding lines up to 30,000,000\n",
            "Copied 50mer_training_30M into 50mer_training_50M\n",
            "Opened 50mer_training_50M and adding lines up to 52,000,000\n",
            "Done\n",
            "Created empty 50mer_validation_20k\n",
            "Opened 50mer_validation_20k and adding lines up to 20,000\n",
            "Copied 50mer_validation_20k into 50mer_validation_200k\n",
            "Opened 50mer_validation_200k and adding lines up to 200,000\n",
            "Copied 50mer_validation_200k into 50mer_validation_1M\n",
            "Opened 50mer_validation_1M and adding lines up to 1,000,000\n",
            "Done\n"
          ]
        }
      ]
    },
    {
      "cell_type": "code",
      "source": [
        "sorted([f.name for f in Path('.').glob('50mer_*')])"
      ],
      "metadata": {
        "colab": {
          "base_uri": "https://localhost:8080/"
        },
        "id": "qqF1ppDTEjqF",
        "outputId": "abb86642-b1cf-425d-c433-286fddb1a16e"
      },
      "execution_count": 10,
      "outputs": [
        {
          "output_type": "execute_result",
          "data": {
            "text/plain": [
              "['50mer_training_100k',\n",
              " '50mer_training_15M',\n",
              " '50mer_training_1M',\n",
              " '50mer_training_30M',\n",
              " '50mer_training_50M',\n",
              " '50mer_validation_1M',\n",
              " '50mer_validation_200k',\n",
              " '50mer_validation_20k']"
            ]
          },
          "metadata": {},
          "execution_count": 10
        }
      ]
    },
    {
      "cell_type": "markdown",
      "source": [
        "## Setup WandB\n",
        "Documentation [here](https://docs.wandb.ai/)"
      ],
      "metadata": {
        "id": "ubHb67yG7R47"
      }
    },
    {
      "cell_type": "markdown",
      "source": [
        "Get authentication key for WandB API and login"
      ],
      "metadata": {
        "id": "qkTP2SnBdtUJ"
      }
    },
    {
      "cell_type": "code",
      "source": [
        "p2cfg = Path('/content/gdrive/MyDrive/private-across-accounts/config-api-keys.cfg')\n",
        "cfg = configparser.ConfigParser()\n",
        "cfg.read(p2cfg);\n",
        "# cfg['wandb']['metagenomics']"
      ],
      "metadata": {
        "id": "z4pMYVkk5TK0"
      },
      "execution_count": null,
      "outputs": []
    },
    {
      "cell_type": "code",
      "source": [
        "os.environ['WANDB_NOTEBOOK_NAME'] = str(p2drive/ 'nbs/2_03_EC_datasets_to_wandb_-colab.ipynb')"
      ],
      "metadata": {
        "id": "x8lgEuktBlIB"
      },
      "execution_count": 11,
      "outputs": []
    },
    {
      "cell_type": "code",
      "source": [
        "wandb.login()"
      ],
      "metadata": {
        "id": "SOH_TBuC7bJ8",
        "colab": {
          "base_uri": "https://localhost:8080/",
          "height": 71
        },
        "outputId": "9c05ce23-6452-45c8-b077-c7f1aee87c7e"
      },
      "execution_count": 12,
      "outputs": [
        {
          "output_type": "display_data",
          "data": {
            "text/plain": [
              "<IPython.core.display.Javascript object>"
            ],
            "application/javascript": [
              "\n",
              "        window._wandbApiKey = new Promise((resolve, reject) => {\n",
              "            function loadScript(url) {\n",
              "            return new Promise(function(resolve, reject) {\n",
              "                let newScript = document.createElement(\"script\");\n",
              "                newScript.onerror = reject;\n",
              "                newScript.onload = resolve;\n",
              "                document.body.appendChild(newScript);\n",
              "                newScript.src = url;\n",
              "            });\n",
              "            }\n",
              "            loadScript(\"https://cdn.jsdelivr.net/npm/postmate/build/postmate.min.js\").then(() => {\n",
              "            const iframe = document.createElement('iframe')\n",
              "            iframe.style.cssText = \"width:0;height:0;border:none\"\n",
              "            document.body.appendChild(iframe)\n",
              "            const handshake = new Postmate({\n",
              "                container: iframe,\n",
              "                url: 'https://wandb.ai/authorize'\n",
              "            });\n",
              "            const timeout = setTimeout(() => reject(\"Couldn't auto authenticate\"), 5000)\n",
              "            handshake.then(function(child) {\n",
              "                child.on('authorize', data => {\n",
              "                    clearTimeout(timeout)\n",
              "                    resolve(data)\n",
              "                });\n",
              "            });\n",
              "            })\n",
              "        });\n",
              "    "
            ]
          },
          "metadata": {}
        },
        {
          "output_type": "stream",
          "name": "stderr",
          "text": [
            "\u001b[34m\u001b[1mwandb\u001b[0m: Appending key for api.wandb.ai to your netrc file: /root/.netrc\n"
          ]
        },
        {
          "output_type": "execute_result",
          "data": {
            "text/plain": [
              "True"
            ]
          },
          "metadata": {},
          "execution_count": 12
        }
      ]
    },
    {
      "cell_type": "markdown",
      "source": [
        "Define WandB configuration and other parameters for `run`"
      ],
      "metadata": {
        "id": "rdijVfaid0-Z"
      }
    },
    {
      "cell_type": "code",
      "source": [
        "# Initialize a run to load datasets\n",
        "user = 'metagenomics_sh'\n",
        "project = 'reproduce_cnn_virus'\n",
        "run_name = 'load-data-2022-09-20'\n",
        "job_type = \"load_datasets\"\n",
        "notes = 'Reload the dataset with optimized jupyter nb'\n",
        "\n",
        "run = wandb.init(entity=user, project=project, name=run_name, job_type=job_type, notes=notes, save_code=True)"
      ],
      "metadata": {
        "id": "6jT_M5l9vIwG",
        "colab": {
          "base_uri": "https://localhost:8080/",
          "height": 88
        },
        "outputId": "71927277-c40a-45a1-9c11-2fd2273a0c1a"
      },
      "execution_count": 14,
      "outputs": [
        {
          "output_type": "stream",
          "name": "stderr",
          "text": [
            "\u001b[34m\u001b[1mwandb\u001b[0m: Currently logged in as: \u001b[33mvtecftyw\u001b[0m (\u001b[33mmetagenomics_sh\u001b[0m). Use \u001b[1m`wandb login --relogin`\u001b[0m to force relogin\n"
          ]
        },
        {
          "output_type": "display_data",
          "data": {
            "text/plain": [
              "<IPython.core.display.HTML object>"
            ],
            "text/html": [
              "Tracking run with wandb version 0.13.3"
            ]
          },
          "metadata": {}
        },
        {
          "output_type": "display_data",
          "data": {
            "text/plain": [
              "<IPython.core.display.HTML object>"
            ],
            "text/html": [
              "Run data is saved locally in <code>/content/wandb/run-20220920_072906-2y54bdmq</code>"
            ]
          },
          "metadata": {}
        },
        {
          "output_type": "display_data",
          "data": {
            "text/plain": [
              "<IPython.core.display.HTML object>"
            ],
            "text/html": [
              "Syncing run <strong><a href=\"https://wandb.ai/metagenomics_sh/reproduce_cnn_virus/runs/2y54bdmq\" target=\"_blank\">load-data-2022-09-20</a></strong> to <a href=\"https://wandb.ai/metagenomics_sh/reproduce_cnn_virus\" target=\"_blank\">Weights & Biases</a> (<a href=\"https://wandb.me/run\" target=\"_blank\">docs</a>)<br/>"
            ]
          },
          "metadata": {}
        }
      ]
    },
    {
      "cell_type": "code",
      "source": [
        "def upload_dataset(run, suffix, n_samples, original_fname, dataset_type):\n",
        "\n",
        "    dataset_name = f\"origin_{dataset_type}_{suffix}\"\n",
        "    descr = f\"**Raw Data**: shortened version of `{original_fname}`, limited to {suffix} lines.\"\n",
        "    metadata = {\n",
        "        'n_samples': n_samples,\n",
        "        'dataset_type': dataset_type,\n",
        "        'original_file_name': original_fname,\n",
        "    }\n",
        "    my_data = wandb.Artifact(name=dataset_name, type=\"raw_data\", description=descr, metadata=metadata)\n",
        "    my_data.add_file(f\"/content/50mer_{dataset_type}_{suffix}\")\n",
        "    run.log_artifact(my_data)"
      ],
      "metadata": {
        "id": "oEvfCoWse9nu"
      },
      "execution_count": 15,
      "outputs": []
    },
    {
      "cell_type": "code",
      "source": [
        "for suffix, n_samples in training_maxlines:\n",
        "    upload_dataset(run, suffix, n_samples, '50mer_training', 'training')"
      ],
      "metadata": {
        "id": "FTZj7Z8GgkTO"
      },
      "execution_count": 16,
      "outputs": []
    },
    {
      "cell_type": "code",
      "source": [
        "for suffix, n_samples in validation_maxlines:\n",
        "    upload_dataset(run, suffix, n_samples, '50mer_validating', 'validation')"
      ],
      "metadata": {
        "id": "fQl_tBIkglMm"
      },
      "execution_count": 17,
      "outputs": []
    },
    {
      "cell_type": "code",
      "source": [
        "run.finish()"
      ],
      "metadata": {
        "colab": {
          "base_uri": "https://localhost:8080/",
          "height": 105,
          "referenced_widgets": [
            "7849f255e99b4853bdba7f8badf1054a",
            "7179c6cc207941648c348b1bf10cb87f",
            "e0819a1ddcc64c08a748a2fd88350f09",
            "26b205197a934fdeabb71e65ac11acba",
            "70f6be4247664b708b662c34e7abe3ee",
            "bdde467d943148ce9bb6355fd7582a5c",
            "55646397fc9349d3af9e98b1f2b26f5d",
            "514ad0bfcabf4df580a9a872af814af9"
          ]
        },
        "id": "q6_g_F9IbVJO",
        "outputId": "45707397-83bd-4ef4-86ba-1c7172088ce6"
      },
      "execution_count": 18,
      "outputs": [
        {
          "output_type": "display_data",
          "data": {
            "text/plain": [
              "<IPython.core.display.HTML object>"
            ],
            "text/html": [
              "Waiting for W&B process to finish... <strong style=\"color:green\">(success).</strong>"
            ]
          },
          "metadata": {}
        },
        {
          "output_type": "display_data",
          "data": {
            "text/plain": [
              "VBox(children=(Label(value='0.059 MB of 0.059 MB uploaded (0.020 MB deduped)\\r'), FloatProgress(value=1.0, max…"
            ],
            "application/vnd.jupyter.widget-view+json": {
              "version_major": 2,
              "version_minor": 0,
              "model_id": "7849f255e99b4853bdba7f8badf1054a"
            }
          },
          "metadata": {}
        },
        {
          "output_type": "display_data",
          "data": {
            "text/plain": [
              "<IPython.core.display.HTML object>"
            ],
            "text/html": [
              "W&B sync reduced upload amount by 25.4%             "
            ]
          },
          "metadata": {}
        },
        {
          "output_type": "display_data",
          "data": {
            "text/plain": [
              "<IPython.core.display.HTML object>"
            ],
            "text/html": [
              "Synced <strong style=\"color:#cdcd00\">load-data-2022-09-20</strong>: <a href=\"https://wandb.ai/metagenomics_sh/reproduce_cnn_virus/runs/2y54bdmq\" target=\"_blank\">https://wandb.ai/metagenomics_sh/reproduce_cnn_virus/runs/2y54bdmq</a><br/>Synced 4 W&B file(s), 0 media file(s), 3 artifact file(s) and 1 other file(s)"
            ]
          },
          "metadata": {}
        },
        {
          "output_type": "display_data",
          "data": {
            "text/plain": [
              "<IPython.core.display.HTML object>"
            ],
            "text/html": [
              "Find logs at: <code>./wandb/run-20220920_072906-2y54bdmq/logs</code>"
            ]
          },
          "metadata": {}
        }
      ]
    },
    {
      "cell_type": "code",
      "source": [
        "# wandb.init?"
      ],
      "metadata": {
        "id": "DPP4rtgMbD-O"
      },
      "execution_count": 13,
      "outputs": []
    },
    {
      "cell_type": "code",
      "source": [
        "# wandb.Artifact?"
      ],
      "metadata": {
        "id": "u3UYL2i2XUpl"
      },
      "execution_count": null,
      "outputs": []
    }
  ],
  "metadata": {
    "kernelspec": {
      "display_name": "Python 3.9.12 ('metagen')",
      "language": "python",
      "name": "python3"
    },
    "language_info": {
      "codemirror_mode": {
        "name": "ipython",
        "version": 3
      },
      "file_extension": ".py",
      "mimetype": "text/x-python",
      "name": "python",
      "nbconvert_exporter": "python",
      "pygments_lexer": "ipython3",
      "version": "3.9.12"
    },
    "orig_nbformat": 4,
    "vscode": {
      "interpreter": {
        "hash": "dfd3b4934a6b4e35dd599b40cbe0afdec143404ac9fcb14c4b97cc2a93514568"
      }
    },
    "colab": {
      "provenance": [],
      "collapsed_sections": [],
      "include_colab_link": true
    },
    "gpuClass": "standard",
    "widgets": {
      "application/vnd.jupyter.widget-state+json": {
        "7849f255e99b4853bdba7f8badf1054a": {
          "model_module": "@jupyter-widgets/controls",
          "model_name": "VBoxModel",
          "model_module_version": "1.5.0",
          "state": {
            "_dom_classes": [],
            "_model_module": "@jupyter-widgets/controls",
            "_model_module_version": "1.5.0",
            "_model_name": "VBoxModel",
            "_view_count": null,
            "_view_module": "@jupyter-widgets/controls",
            "_view_module_version": "1.5.0",
            "_view_name": "VBoxView",
            "box_style": "",
            "children": [
              "IPY_MODEL_7179c6cc207941648c348b1bf10cb87f",
              "IPY_MODEL_e0819a1ddcc64c08a748a2fd88350f09"
            ],
            "layout": "IPY_MODEL_26b205197a934fdeabb71e65ac11acba"
          }
        },
        "7179c6cc207941648c348b1bf10cb87f": {
          "model_module": "@jupyter-widgets/controls",
          "model_name": "LabelModel",
          "model_module_version": "1.5.0",
          "state": {
            "_dom_classes": [],
            "_model_module": "@jupyter-widgets/controls",
            "_model_module_version": "1.5.0",
            "_model_name": "LabelModel",
            "_view_count": null,
            "_view_module": "@jupyter-widgets/controls",
            "_view_module_version": "1.5.0",
            "_view_name": "LabelView",
            "description": "",
            "description_tooltip": null,
            "layout": "IPY_MODEL_70f6be4247664b708b662c34e7abe3ee",
            "placeholder": "​",
            "style": "IPY_MODEL_bdde467d943148ce9bb6355fd7582a5c",
            "value": "0.078 MB of 0.078 MB uploaded (0.020 MB deduped)\r"
          }
        },
        "e0819a1ddcc64c08a748a2fd88350f09": {
          "model_module": "@jupyter-widgets/controls",
          "model_name": "FloatProgressModel",
          "model_module_version": "1.5.0",
          "state": {
            "_dom_classes": [],
            "_model_module": "@jupyter-widgets/controls",
            "_model_module_version": "1.5.0",
            "_model_name": "FloatProgressModel",
            "_view_count": null,
            "_view_module": "@jupyter-widgets/controls",
            "_view_module_version": "1.5.0",
            "_view_name": "ProgressView",
            "bar_style": "",
            "description": "",
            "description_tooltip": null,
            "layout": "IPY_MODEL_55646397fc9349d3af9e98b1f2b26f5d",
            "max": 1,
            "min": 0,
            "orientation": "horizontal",
            "style": "IPY_MODEL_514ad0bfcabf4df580a9a872af814af9",
            "value": 1
          }
        },
        "26b205197a934fdeabb71e65ac11acba": {
          "model_module": "@jupyter-widgets/base",
          "model_name": "LayoutModel",
          "model_module_version": "1.2.0",
          "state": {
            "_model_module": "@jupyter-widgets/base",
            "_model_module_version": "1.2.0",
            "_model_name": "LayoutModel",
            "_view_count": null,
            "_view_module": "@jupyter-widgets/base",
            "_view_module_version": "1.2.0",
            "_view_name": "LayoutView",
            "align_content": null,
            "align_items": null,
            "align_self": null,
            "border": null,
            "bottom": null,
            "display": null,
            "flex": null,
            "flex_flow": null,
            "grid_area": null,
            "grid_auto_columns": null,
            "grid_auto_flow": null,
            "grid_auto_rows": null,
            "grid_column": null,
            "grid_gap": null,
            "grid_row": null,
            "grid_template_areas": null,
            "grid_template_columns": null,
            "grid_template_rows": null,
            "height": null,
            "justify_content": null,
            "justify_items": null,
            "left": null,
            "margin": null,
            "max_height": null,
            "max_width": null,
            "min_height": null,
            "min_width": null,
            "object_fit": null,
            "object_position": null,
            "order": null,
            "overflow": null,
            "overflow_x": null,
            "overflow_y": null,
            "padding": null,
            "right": null,
            "top": null,
            "visibility": null,
            "width": null
          }
        },
        "70f6be4247664b708b662c34e7abe3ee": {
          "model_module": "@jupyter-widgets/base",
          "model_name": "LayoutModel",
          "model_module_version": "1.2.0",
          "state": {
            "_model_module": "@jupyter-widgets/base",
            "_model_module_version": "1.2.0",
            "_model_name": "LayoutModel",
            "_view_count": null,
            "_view_module": "@jupyter-widgets/base",
            "_view_module_version": "1.2.0",
            "_view_name": "LayoutView",
            "align_content": null,
            "align_items": null,
            "align_self": null,
            "border": null,
            "bottom": null,
            "display": null,
            "flex": null,
            "flex_flow": null,
            "grid_area": null,
            "grid_auto_columns": null,
            "grid_auto_flow": null,
            "grid_auto_rows": null,
            "grid_column": null,
            "grid_gap": null,
            "grid_row": null,
            "grid_template_areas": null,
            "grid_template_columns": null,
            "grid_template_rows": null,
            "height": null,
            "justify_content": null,
            "justify_items": null,
            "left": null,
            "margin": null,
            "max_height": null,
            "max_width": null,
            "min_height": null,
            "min_width": null,
            "object_fit": null,
            "object_position": null,
            "order": null,
            "overflow": null,
            "overflow_x": null,
            "overflow_y": null,
            "padding": null,
            "right": null,
            "top": null,
            "visibility": null,
            "width": null
          }
        },
        "bdde467d943148ce9bb6355fd7582a5c": {
          "model_module": "@jupyter-widgets/controls",
          "model_name": "DescriptionStyleModel",
          "model_module_version": "1.5.0",
          "state": {
            "_model_module": "@jupyter-widgets/controls",
            "_model_module_version": "1.5.0",
            "_model_name": "DescriptionStyleModel",
            "_view_count": null,
            "_view_module": "@jupyter-widgets/base",
            "_view_module_version": "1.2.0",
            "_view_name": "StyleView",
            "description_width": ""
          }
        },
        "55646397fc9349d3af9e98b1f2b26f5d": {
          "model_module": "@jupyter-widgets/base",
          "model_name": "LayoutModel",
          "model_module_version": "1.2.0",
          "state": {
            "_model_module": "@jupyter-widgets/base",
            "_model_module_version": "1.2.0",
            "_model_name": "LayoutModel",
            "_view_count": null,
            "_view_module": "@jupyter-widgets/base",
            "_view_module_version": "1.2.0",
            "_view_name": "LayoutView",
            "align_content": null,
            "align_items": null,
            "align_self": null,
            "border": null,
            "bottom": null,
            "display": null,
            "flex": null,
            "flex_flow": null,
            "grid_area": null,
            "grid_auto_columns": null,
            "grid_auto_flow": null,
            "grid_auto_rows": null,
            "grid_column": null,
            "grid_gap": null,
            "grid_row": null,
            "grid_template_areas": null,
            "grid_template_columns": null,
            "grid_template_rows": null,
            "height": null,
            "justify_content": null,
            "justify_items": null,
            "left": null,
            "margin": null,
            "max_height": null,
            "max_width": null,
            "min_height": null,
            "min_width": null,
            "object_fit": null,
            "object_position": null,
            "order": null,
            "overflow": null,
            "overflow_x": null,
            "overflow_y": null,
            "padding": null,
            "right": null,
            "top": null,
            "visibility": null,
            "width": null
          }
        },
        "514ad0bfcabf4df580a9a872af814af9": {
          "model_module": "@jupyter-widgets/controls",
          "model_name": "ProgressStyleModel",
          "model_module_version": "1.5.0",
          "state": {
            "_model_module": "@jupyter-widgets/controls",
            "_model_module_version": "1.5.0",
            "_model_name": "ProgressStyleModel",
            "_view_count": null,
            "_view_module": "@jupyter-widgets/base",
            "_view_module_version": "1.2.0",
            "_view_name": "StyleView",
            "bar_color": null,
            "description_width": ""
          }
        }
      }
    }
  },
  "nbformat": 4,
  "nbformat_minor": 0
}