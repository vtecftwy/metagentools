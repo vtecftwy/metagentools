{
 "cells": [
  {
   "cell_type": "markdown",
   "metadata": {},
   "source": [
    "# Handle NCBI sequence fasta files"
   ]
  },
  {
   "cell_type": "markdown",
   "metadata": {},
   "source": [
    "Notebook objective:\n",
    "- ..."
   ]
  },
  {
   "cell_type": "markdown",
   "metadata": {},
   "source": [
    "# Imports and setup environment"
   ]
  },
  {
   "cell_type": "markdown",
   "metadata": {},
   "source": [
    "### Install and import packages"
   ]
  },
  {
   "cell_type": "code",
   "execution_count": 1,
   "metadata": {},
   "outputs": [
    {
     "name": "stdout",
     "output_type": "stream",
     "text": [
      "`ecutilities` already installed\n",
      "`metagentools` already installed\n"
     ]
    }
   ],
   "source": [
    "# Install required custom packages if not installed yet.\n",
    "import importlib.util\n",
    "if not importlib.util.find_spec('ecutilities'):\n",
    "    print('installing package: `ecutilities`')\n",
    "    ! pip install -qqU ecutilities\n",
    "else:\n",
    "    print('`ecutilities` already installed')\n",
    "if not importlib.util.find_spec('metagentools'):\n",
    "    print('installing package: `metagentools')\n",
    "    ! pip install -qqU metagentools\n",
    "else:\n",
    "    print('`metagentools` already installed')"
   ]
  },
  {
   "cell_type": "code",
   "execution_count": 2,
   "metadata": {},
   "outputs": [
    {
     "name": "stdout",
     "output_type": "stream",
     "text": [
      "Set autoreload mode\n"
     ]
    }
   ],
   "source": [
    "# Import all required packages\n",
    "import matplotlib.pyplot as plt\n",
    "import numpy as np\n",
    "import pandas as pd\n",
    "import re\n",
    "\n",
    "from ecutilities.core import files_in_tree, path_to_parent_dir\n",
    "from ecutilities.ipython import nb_setup\n",
    "from metagentools.art import ArtIllumina\n",
    "from metagentools.core import ProjectFileSystem\n",
    "from metagentools.cnn_virus.data import FastaFileReader, FastqFileReader, AlnFileReader\n",
    "from pathlib import Path\n",
    "from pprint import pprint\n",
    "\n",
    "# Setup the notebook for development\n",
    "nb_setup()"
   ]
  },
  {
   "cell_type": "markdown",
   "metadata": {},
   "source": [
    "## Setup project file system"
   ]
  },
  {
   "cell_type": "code",
   "execution_count": 3,
   "metadata": {},
   "outputs": [
    {
     "data": {
      "text/plain": [
       "(Path('/home/vtec'),\n",
       " Path('/home/vtec/projects/bio/metagentools'),\n",
       " Path('/home/vtec/projects/bio/metagentools/data'),\n",
       " Path('/home/vtec/projects/bio/metagentools/nbs'))"
      ]
     },
     "execution_count": 3,
     "metadata": {},
     "output_type": "execute_result"
    }
   ],
   "source": [
    "pfs = ProjectFileSystem()\n",
    "pfs.home, pfs.project_root, pfs.data, pfs.nbs"
   ]
  },
  {
   "cell_type": "markdown",
   "metadata": {},
   "source": [
    "## Load `fa` file and parse data"
   ]
  },
  {
   "cell_type": "markdown",
   "metadata": {},
   "source": [
    "Define path to files"
   ]
  },
  {
   "cell_type": "code",
   "execution_count": 4,
   "metadata": {},
   "outputs": [
    {
     "name": "stdout",
     "output_type": "stream",
     "text": [
      "/home/vtec/projects/bio/metagentools/data/ncbi/refsequences\n"
     ]
    }
   ],
   "source": [
    "p2inputs = pfs.data/ 'ncbi/refsequences'\n",
    "print(p2inputs.absolute())\n",
    "assert p2inputs.is_dir()"
   ]
  },
  {
   "cell_type": "markdown",
   "metadata": {},
   "source": [
    "Explore files in the directory:"
   ]
  },
  {
   "cell_type": "code",
   "execution_count": 5,
   "metadata": {},
   "outputs": [
    {
     "name": "stdout",
     "output_type": "stream",
     "text": [
      "ncbi\n",
      "  |--refsequences\n",
      "  |    |--mRhiFer1\n",
      "  |    |--yf\n",
      "  |    |    |--yf_2023_yellow_fever.fa (0)\n",
      "  |    |    |--yf_2023_multiple_alignment_original.fa (1)\n",
      "  |    |    |--yf_1971_Angola.fa (2)\n",
      "  |    |--cov\n"
     ]
    }
   ],
   "source": [
    "files = files_in_tree(p2inputs, pattern='yf')"
   ]
  },
  {
   "cell_type": "markdown",
   "metadata": {},
   "source": [
    "Pick fasta file and read it"
   ]
  },
  {
   "cell_type": "code",
   "execution_count": 6,
   "metadata": {},
   "outputs": [
    {
     "data": {
      "text/plain": [
       "'yf_1971_Angola.fa'"
      ]
     },
     "execution_count": 6,
     "metadata": {},
     "output_type": "execute_result"
    }
   ],
   "source": [
    "n = 2\n",
    "files[n].name"
   ]
  },
  {
   "cell_type": "code",
   "execution_count": 7,
   "metadata": {},
   "outputs": [
    {
     "name": "stdout",
     "output_type": "stream",
     "text": [
      "\n",
      "Sequence 1:\n",
      ">11089:ncbi:1\t[AY968064]\t11089\tncbi\t1\t[AY968064]\t11089\tAngola_1971\n",
      "ATGTCTGGTCGAAAAGCTCAGGGTAAAACCCTGGGCGTCAATATGGTAAGACGAGGGGTTCGCTCCTTGTCAAACAAAAT ...\n"
     ]
    }
   ],
   "source": [
    "fasta = FastaFileReader(files[n])\n",
    "fasta.print_first_chunks(1)"
   ]
  },
  {
   "cell_type": "code",
   "execution_count": 8,
   "metadata": {},
   "outputs": [
    {
     "name": "stdout",
     "output_type": "stream",
     "text": [
      ">11089:ncbi:1\t[AY968064]\t11089\tncbi\t1\t[AY968064]\t11089\tAngola_1971\n",
      "{'accession': 'AY968064', 'seqid': '11089:ncbi:1', 'seqnb': '1', 'source': 'ncbi', 'species': 'Angola_1971', 'taxonomyid': '11089'}\n"
     ]
    }
   ],
   "source": [
    "fasta.reset_iterator()\n",
    "for refseq in fasta:\n",
    "    print(refseq['definition line'])\n",
    "    print(fasta.parse_text(refseq['definition line']))"
   ]
  },
  {
   "cell_type": "markdown",
   "metadata": {},
   "source": [
    "# Simulate reads using 1 sequence"
   ]
  },
  {
   "cell_type": "code",
   "execution_count": 9,
   "metadata": {},
   "outputs": [
    {
     "data": {
      "text/plain": [
       "Path('/home/vtec/projects/bio/metagentools/data/ncbi/refsequences/yf')"
      ]
     },
     "execution_count": 9,
     "metadata": {},
     "output_type": "execute_result"
    }
   ],
   "source": [
    "n = 2\n",
    "p2inputs = files[n].parent\n",
    "p2inputs.absolute()"
   ]
  },
  {
   "cell_type": "markdown",
   "metadata": {},
   "source": [
    "## Single read simulation - 50 bp read"
   ]
  },
  {
   "cell_type": "code",
   "execution_count": 11,
   "metadata": {},
   "outputs": [
    {
     "data": {
      "text/plain": [
       "Path('/home/vtec/projects/bio/metagentools/data/ncbi/simreads/yf')"
      ]
     },
     "execution_count": 11,
     "metadata": {},
     "output_type": "execute_result"
    }
   ],
   "source": [
    "p2simread_outputs = pfs.data / 'ncbi/simreads/yf'\n",
    "assert p2simread_outputs.is_dir()\n",
    "p2simread_outputs"
   ]
  },
  {
   "cell_type": "code",
   "execution_count": 12,
   "metadata": {},
   "outputs": [
    {
     "name": "stdout",
     "output_type": "stream",
     "text": [
      "Ready to operate with art: /usr/bin/art_illumina\n",
      "Input files from : /home/vtec/projects/bio/metagentools/data/ncbi/refsequences/yf\n",
      "Output files to :  /home/vtec/projects/bio/metagentools/data/ncbi/simreads/yf\n"
     ]
    }
   ],
   "source": [
    "art = ArtIllumina(path2app=Path('/usr/bin/art_illumina'), input_dir=p2inputs, output_dir=p2simread_outputs)"
   ]
  },
  {
   "cell_type": "markdown",
   "metadata": {},
   "source": [
    "### Prepare simulated read files"
   ]
  },
  {
   "cell_type": "code",
   "execution_count": 13,
   "metadata": {},
   "outputs": [
    {
     "name": "stdout",
     "output_type": "stream",
     "text": [
      "yf_1971_Angola.fa\n",
      "yf_2023_multiple_alignment_original.fa\n",
      "yf_2023_yellow_fever.fa\n"
     ]
    }
   ],
   "source": [
    "art.list_all_input_files()"
   ]
  },
  {
   "cell_type": "code",
   "execution_count": 14,
   "metadata": {},
   "outputs": [],
   "source": [
    "input_fname = 'yf_1971_Angola.fa'\n",
    "nb_sequences = 1"
   ]
  },
  {
   "cell_type": "markdown",
   "metadata": {},
   "source": [
    "Run a single read simulations with the input file and the following parameters:"
   ]
  },
  {
   "cell_type": "markdown",
   "metadata": {},
   "source": [
    "Parameter `fold`:\n",
    "\n",
    "Fold coverage, also known as sequencing depth or read depth, represents the average number of times each base in the reference genome is expected to be sequenced. For example:\n",
    "- If you set -f 20, it means you're simulating a sequencing run that would cover each base in the reference genome an average of 20 times.\n",
    "- If you set -f 100, it would simulate coverage where each base is sequenced an average of 100 times.\n",
    "\n",
    "The fold coverage is an important parameter because it affects:\n",
    "- The total number of reads generated: Higher fold coverage results in more reads.\n",
    "- The likelihood of capturing rare variants or sequencing errors: Higher coverage generally improves the ability to detect rare variants and distinguish true variants from sequencing errors.\n",
    "- The overall quality of the simulated dataset: Higher coverage typically leads to more accurate representation of the reference genome in the simulated data.\n",
    "\n",
    "It's worth noting that ART Illumina uses this fold coverage value along with the read length and reference genome size to calculate the total number of reads to generate. The actual formula is:\n",
    "\n",
    "```Total number of reads = (Genome size * Fold coverage) / Read length```"
   ]
  },
  {
   "cell_type": "code",
   "execution_count": 15,
   "metadata": {},
   "outputs": [
    {
     "data": {
      "text/plain": [
       "13650"
      ]
     },
     "execution_count": 15,
     "metadata": {},
     "output_type": "execute_result"
    }
   ],
   "source": [
    "genome_size = 10_238\n",
    "(genome_size * 200) // 150"
   ]
  },
  {
   "cell_type": "code",
   "execution_count": 16,
   "metadata": {},
   "outputs": [
    {
     "data": {
      "text/plain": [
       "{'input_file': 'yf_1971_Angola.fa',\n",
       " 'sim_type': 'single',\n",
       " 'read_length': 50,\n",
       " 'nb_sequences': 1,\n",
       " 'fold': 200,\n",
       " 'q_profile': 'HS25',\n",
       " 'output_seed': 'single_1seq_50bp'}"
      ]
     },
     "execution_count": 16,
     "metadata": {},
     "output_type": "execute_result"
    }
   ],
   "source": [
    "sim_params = {\n",
    "    'input_file': input_fname,\n",
    "    \"sim_type\": \"single\",\n",
    "    \"read_length\": 50,\n",
    "    'nb_sequences': nb_sequences,\n",
    "    \"fold\": 200,\n",
    "    'q_profile': 'HS25'\n",
    "}\n",
    "\n",
    "sim_params['output_seed'] = f\"{sim_params['sim_type']}_{sim_params['nb_sequences']}seq_{sim_params['read_length']}bp\"\n",
    "sim_params"
   ]
  },
  {
   "cell_type": "code",
   "execution_count": 17,
   "metadata": {},
   "outputs": [
    {
     "name": "stdout",
     "output_type": "stream",
     "text": [
      "return code:  0 \n",
      "\n",
      "\n",
      "    ====================ART====================\n",
      "             ART_Illumina (2008-2016)          \n",
      "          Q Version 2.5.8 (June 6, 2016)       \n",
      "     Contact: Weichun Huang <whduke@gmail.com> \n",
      "    -------------------------------------------\n",
      "\n",
      "                  Single-end Simulation\n",
      "\n",
      "Total CPU time used: 0.594318\n",
      "\n",
      "The random seed for the run: 1723183515\n",
      "\n",
      "Parameters used during run\n",
      "\tRead Length:\t50\n",
      "\tGenome masking 'N' cutoff frequency: \t1 in 50\n",
      "\tFold Coverage:            200X\n",
      "\tProfile Type:             Combined\n",
      "\tID Tag:                   \n",
      "\n",
      "Quality Profile(s)\n",
      "\tFirst Read:   HiSeq 2500 Length 126 R1 (built-in profile) \n",
      "\n",
      "Output files\n",
      "\n",
      "  FASTQ Sequence File:\n",
      "\t/home/vtec/projects/bio/metagentools/data/ncbi/simreads/yf/single_1seq_50bp/single_1seq_50bp.fq\n",
      "\n",
      "  ALN Alignment File:\n",
      "\t/home/vtec/projects/bio/metagentools/data/ncbi/simreads/yf/single_1seq_50bp/single_1seq_50bp.aln\n",
      "\n",
      "\n"
     ]
    }
   ],
   "source": [
    "art.sim_reads( \n",
    "    input_file=sim_params['input_file'],\n",
    "    output_seed=sim_params['output_seed'],\n",
    "    sim_type=sim_params['sim_type'],\n",
    "    read_length=sim_params['read_length'],\n",
    "    fold=sim_params['fold'],\n",
    "    ss=sim_params['q_profile'],\n",
    "    overwrite=True\n",
    ")"
   ]
  },
  {
   "cell_type": "code",
   "execution_count": 18,
   "metadata": {},
   "outputs": [
    {
     "name": "stdout",
     "output_type": "stream",
     "text": [
      "single_1seq_50bp.aln\n",
      "single_1seq_50bp.fq\n"
     ]
    }
   ],
   "source": [
    "art.list_last_output_files()"
   ]
  },
  {
   "cell_type": "markdown",
   "metadata": {},
   "source": [
    "## Single read simulation - 150 bp read"
   ]
  },
  {
   "cell_type": "markdown",
   "metadata": {},
   "source": [
    "### Prepare simulated read files"
   ]
  },
  {
   "cell_type": "markdown",
   "metadata": {},
   "source": [
    "Run a single read simulations with the input file and the following parameters:"
   ]
  },
  {
   "cell_type": "code",
   "execution_count": 19,
   "metadata": {},
   "outputs": [
    {
     "data": {
      "text/plain": [
       "{'input_file': 'yf_1971_Angola.fa',\n",
       " 'sim_type': 'single',\n",
       " 'read_length': 150,\n",
       " 'nb_sequences': 1,\n",
       " 'fold': 200,\n",
       " 'q_profile': 'HS25',\n",
       " 'output_seed': 'single_1seq_150bp'}"
      ]
     },
     "execution_count": 19,
     "metadata": {},
     "output_type": "execute_result"
    }
   ],
   "source": [
    "sim_params = {\n",
    "    'input_file': input_fname,\n",
    "    \"sim_type\": \"single\",\n",
    "    \"read_length\": 150,\n",
    "    'nb_sequences': nb_sequences,\n",
    "    \"fold\": 200,\n",
    "    'q_profile': 'HS25'\n",
    "}\n",
    "\n",
    "sim_params['output_seed'] = f\"{sim_params['sim_type']}_{sim_params['nb_sequences']}seq_{sim_params['read_length']}bp\"\n",
    "sim_params"
   ]
  },
  {
   "cell_type": "code",
   "execution_count": 20,
   "metadata": {},
   "outputs": [
    {
     "name": "stdout",
     "output_type": "stream",
     "text": [
      "return code:  0 \n",
      "\n",
      "\n",
      "    ====================ART====================\n",
      "             ART_Illumina (2008-2016)          \n",
      "          Q Version 2.5.8 (June 6, 2016)       \n",
      "     Contact: Weichun Huang <whduke@gmail.com> \n",
      "    -------------------------------------------\n",
      "\n",
      "                  Single-end Simulation\n",
      "\n",
      "Total CPU time used: 0.360058\n",
      "\n",
      "The random seed for the run: 1723183534\n",
      "\n",
      "Parameters used during run\n",
      "\tRead Length:\t150\n",
      "\tGenome masking 'N' cutoff frequency: \t1 in 150\n",
      "\tFold Coverage:            200X\n",
      "\tProfile Type:             Combined\n",
      "\tID Tag:                   \n",
      "\n",
      "Quality Profile(s)\n",
      "\tFirst Read:   HiSeq 2500 Length 150 R1 (built-in profile) \n",
      "\n",
      "Output files\n",
      "\n",
      "  FASTQ Sequence File:\n",
      "\t/home/vtec/projects/bio/metagentools/data/ncbi/simreads/yf/single_1seq_150bp/single_1seq_150bp.fq\n",
      "\n",
      "  ALN Alignment File:\n",
      "\t/home/vtec/projects/bio/metagentools/data/ncbi/simreads/yf/single_1seq_150bp/single_1seq_150bp.aln\n",
      "\n",
      "\n"
     ]
    }
   ],
   "source": [
    "art.sim_reads( \n",
    "    input_file=sim_params['input_file'],\n",
    "    output_seed=sim_params['output_seed'],\n",
    "    sim_type=sim_params['sim_type'],\n",
    "    read_length=sim_params['read_length'],\n",
    "    fold=sim_params['fold'],\n",
    "    ss=sim_params['q_profile'],\n",
    "    overwrite=True\n",
    ")"
   ]
  },
  {
   "cell_type": "code",
   "execution_count": 21,
   "metadata": {},
   "outputs": [
    {
     "name": "stdout",
     "output_type": "stream",
     "text": [
      "single_1seq_150bp.fq\n",
      "single_1seq_150bp.aln\n"
     ]
    }
   ],
   "source": [
    "art.list_last_output_files()"
   ]
  },
  {
   "cell_type": "code",
   "execution_count": 22,
   "metadata": {},
   "outputs": [
    {
     "name": "stdout",
     "output_type": "stream",
     "text": [
      "single_1seq_150bp\n",
      "- single_1seq_150bp.fq\n",
      "- single_1seq_150bp.aln\n",
      "single_1seq_50bp\n",
      "- single_1seq_50bp.aln\n",
      "- single_1seq_50bp.fq\n"
     ]
    }
   ],
   "source": [
    "art.list_all_output_files()"
   ]
  },
  {
   "cell_type": "markdown",
   "metadata": {},
   "source": [
    "## Paired read simulation - 50 bp read"
   ]
  },
  {
   "cell_type": "markdown",
   "metadata": {},
   "source": [
    "### Prepare simulated read files"
   ]
  },
  {
   "cell_type": "markdown",
   "metadata": {},
   "source": [
    "Run a paired read simulations with the input file."
   ]
  },
  {
   "cell_type": "code",
   "execution_count": 23,
   "metadata": {},
   "outputs": [
    {
     "data": {
      "text/plain": [
       "{'input_file': 'yf_1971_Angola.fa',\n",
       " 'sim_type': 'paired',\n",
       " 'read_length': 50,\n",
       " 'nb_sequences': 1,\n",
       " 'fold': 200,\n",
       " 'mean_read': 200,\n",
       " 'std_read': 10,\n",
       " 'q_profile': 'HS25',\n",
       " 'output_seed': 'paired_1seq_50bp'}"
      ]
     },
     "execution_count": 23,
     "metadata": {},
     "output_type": "execute_result"
    }
   ],
   "source": [
    "sim_params = {\n",
    "    'input_file': input_fname,\n",
    "    \"sim_type\": \"paired\",\n",
    "    \"read_length\": 50,\n",
    "    'nb_sequences': nb_sequences,\n",
    "    \"fold\": 200,\n",
    "    'mean_read':200,\n",
    "    'std_read':10,\n",
    "    'q_profile': 'HS25'\n",
    "}\n",
    "\n",
    "sim_params['output_seed'] = f\"{sim_params['sim_type']}_{sim_params['nb_sequences']}seq_{sim_params['read_length']}bp\"\n",
    "sim_params"
   ]
  },
  {
   "cell_type": "code",
   "execution_count": 24,
   "metadata": {},
   "outputs": [
    {
     "name": "stdout",
     "output_type": "stream",
     "text": [
      "return code:  0 \n",
      "\n",
      "\n",
      "    ====================ART====================\n",
      "             ART_Illumina (2008-2016)          \n",
      "          Q Version 2.5.8 (June 6, 2016)       \n",
      "     Contact: Weichun Huang <whduke@gmail.com> \n",
      "    -------------------------------------------\n",
      "\n",
      "                  Paired-end sequencing simulation\n",
      "\n",
      "Total CPU time used: 0.648225\n",
      "\n",
      "The random seed for the run: 1723183550\n",
      "\n",
      "Parameters used during run\n",
      "\tRead Length:\t50\n",
      "\tGenome masking 'N' cutoff frequency: \t1 in 50\n",
      "\tFold Coverage:            200X\n",
      "\tMean Fragment Length:     200\n",
      "\tStandard Deviation:       10\n",
      "\tProfile Type:             Combined\n",
      "\tID Tag:                   \n",
      "\n",
      "Quality Profile(s)\n",
      "\tFirst Read:   HiSeq 2500 Length 126 R1 (built-in profile) \n",
      "\tFirst Read:   HiSeq 2500 Length 126 R2 (built-in profile) \n",
      "\n",
      "Output files\n",
      "\n",
      "  FASTQ Sequence Files:\n",
      "\t the 1st reads: /home/vtec/projects/bio/metagentools/data/ncbi/simreads/yf/paired_1seq_50bp/paired_1seq_50bp1.fq\n",
      "\t the 2nd reads: /home/vtec/projects/bio/metagentools/data/ncbi/simreads/yf/paired_1seq_50bp/paired_1seq_50bp2.fq\n",
      "\n",
      "  ALN Alignment Files:\n",
      "\t the 1st reads: /home/vtec/projects/bio/metagentools/data/ncbi/simreads/yf/paired_1seq_50bp/paired_1seq_50bp1.aln\n",
      "\t the 2nd reads: /home/vtec/projects/bio/metagentools/data/ncbi/simreads/yf/paired_1seq_50bp/paired_1seq_50bp2.aln\n",
      "\n",
      "\n"
     ]
    }
   ],
   "source": [
    "art.sim_reads(\n",
    "    input_file=sim_params['input_file'],\n",
    "    output_seed=sim_params['output_seed'],\n",
    "    sim_type=sim_params['sim_type'],\n",
    "    read_length=sim_params['read_length'],\n",
    "    fold=sim_params['fold'],\n",
    "    mean_read=sim_params['mean_read'],\n",
    "    std_read=sim_params['std_read'],\n",
    "    overwrite=True\n",
    ")   "
   ]
  },
  {
   "cell_type": "code",
   "execution_count": 25,
   "metadata": {},
   "outputs": [
    {
     "name": "stdout",
     "output_type": "stream",
     "text": [
      "paired_1seq_50bp2.aln\n",
      "paired_1seq_50bp1.fq\n",
      "paired_1seq_50bp2.fq\n",
      "paired_1seq_50bp1.aln\n"
     ]
    }
   ],
   "source": [
    "art.list_last_output_files()"
   ]
  },
  {
   "cell_type": "code",
   "execution_count": 26,
   "metadata": {},
   "outputs": [
    {
     "name": "stdout",
     "output_type": "stream",
     "text": [
      "paired_1seq_50bp\n",
      "- paired_1seq_50bp2.aln\n",
      "- paired_1seq_50bp1.fq\n",
      "- paired_1seq_50bp2.fq\n",
      "- paired_1seq_50bp1.aln\n",
      "single_1seq_150bp\n",
      "- single_1seq_150bp.fq\n",
      "- single_1seq_150bp.aln\n",
      "single_1seq_50bp\n",
      "- single_1seq_50bp.aln\n",
      "- single_1seq_50bp.fq\n"
     ]
    }
   ],
   "source": [
    "art.list_all_output_files()"
   ]
  },
  {
   "cell_type": "markdown",
   "metadata": {},
   "source": [
    "## Paired read simulation - 150 bp read\n"
   ]
  },
  {
   "cell_type": "markdown",
   "metadata": {},
   "source": [
    "### Prepare simulated read files"
   ]
  },
  {
   "cell_type": "code",
   "execution_count": 27,
   "metadata": {},
   "outputs": [
    {
     "data": {
      "text/plain": [
       "{'input_file': 'yf_1971_Angola.fa',\n",
       " 'sim_type': 'paired',\n",
       " 'read_length': 150,\n",
       " 'nb_sequences': 1,\n",
       " 'fold': 200,\n",
       " 'mean_read': 200,\n",
       " 'std_read': 10,\n",
       " 'q_profile': 'HS25',\n",
       " 'output_seed': 'paired_1seq_150bp'}"
      ]
     },
     "execution_count": 27,
     "metadata": {},
     "output_type": "execute_result"
    }
   ],
   "source": [
    "sim_params = {\n",
    "    'input_file': input_fname,\n",
    "    \"sim_type\": \"paired\",\n",
    "    \"read_length\": 150,\n",
    "    'nb_sequences': nb_sequences,\n",
    "    \"fold\": 200,\n",
    "    'mean_read':200,\n",
    "    'std_read':10,\n",
    "    'q_profile': 'HS25'\n",
    "}\n",
    "\n",
    "sim_params['output_seed'] = f\"{sim_params['sim_type']}_{sim_params['nb_sequences']}seq_{sim_params['read_length']}bp\"\n",
    "sim_params"
   ]
  },
  {
   "cell_type": "code",
   "execution_count": 28,
   "metadata": {},
   "outputs": [
    {
     "name": "stdout",
     "output_type": "stream",
     "text": [
      "return code:  0 \n",
      "\n",
      "\n",
      "    ====================ART====================\n",
      "             ART_Illumina (2008-2016)          \n",
      "          Q Version 2.5.8 (June 6, 2016)       \n",
      "     Contact: Weichun Huang <whduke@gmail.com> \n",
      "    -------------------------------------------\n",
      "\n",
      "                  Paired-end sequencing simulation\n",
      "\n",
      "Total CPU time used: 0.400434\n",
      "\n",
      "The random seed for the run: 1723183564\n",
      "\n",
      "Parameters used during run\n",
      "\tRead Length:\t150\n",
      "\tGenome masking 'N' cutoff frequency: \t1 in 150\n",
      "\tFold Coverage:            200X\n",
      "\tMean Fragment Length:     200\n",
      "\tStandard Deviation:       10\n",
      "\tProfile Type:             Combined\n",
      "\tID Tag:                   \n",
      "\n",
      "Quality Profile(s)\n",
      "\tFirst Read:   HiSeq 2500 Length 150 R1 (built-in profile) \n",
      "\tFirst Read:   HiSeq 2500 Length 150 R2 (built-in profile) \n",
      "\n",
      "Output files\n",
      "\n",
      "  FASTQ Sequence Files:\n",
      "\t the 1st reads: /home/vtec/projects/bio/metagentools/data/ncbi/simreads/yf/paired_1seq_150bp/paired_1seq_150bp1.fq\n",
      "\t the 2nd reads: /home/vtec/projects/bio/metagentools/data/ncbi/simreads/yf/paired_1seq_150bp/paired_1seq_150bp2.fq\n",
      "\n",
      "  ALN Alignment Files:\n",
      "\t the 1st reads: /home/vtec/projects/bio/metagentools/data/ncbi/simreads/yf/paired_1seq_150bp/paired_1seq_150bp1.aln\n",
      "\t the 2nd reads: /home/vtec/projects/bio/metagentools/data/ncbi/simreads/yf/paired_1seq_150bp/paired_1seq_150bp2.aln\n",
      "\n",
      "\n"
     ]
    }
   ],
   "source": [
    "art.sim_reads(\n",
    "    input_file=sim_params['input_file'],\n",
    "    output_seed=sim_params['output_seed'],\n",
    "    sim_type=sim_params['sim_type'],\n",
    "    read_length=sim_params['read_length'],\n",
    "    fold=sim_params['fold'],\n",
    "    mean_read=sim_params['mean_read'],\n",
    "    std_read=sim_params['std_read'],\n",
    "    overwrite=True\n",
    ")  "
   ]
  },
  {
   "cell_type": "code",
   "execution_count": 29,
   "metadata": {},
   "outputs": [
    {
     "name": "stdout",
     "output_type": "stream",
     "text": [
      "paired_1seq_150bp2.aln\n",
      "paired_1seq_150bp2.fq\n",
      "paired_1seq_150bp1.fq\n",
      "paired_1seq_150bp1.aln\n"
     ]
    }
   ],
   "source": [
    "art.list_last_output_files()"
   ]
  },
  {
   "cell_type": "markdown",
   "metadata": {},
   "source": [
    "# Simulate using all sequences\n"
   ]
  },
  {
   "cell_type": "code",
   "execution_count": 30,
   "metadata": {},
   "outputs": [
    {
     "name": "stdout",
     "output_type": "stream",
     "text": [
      "refsequences\n",
      "  |--yf\n",
      "  |    |--yf_2023_yellow_fever.fa (0)\n",
      "  |    |--yf_2023_multiple_alignment_original.fa (1)\n",
      "  |    |--yf_1971_Angola.fa (2)\n"
     ]
    }
   ],
   "source": [
    "files = files_in_tree(p2inputs, pattern='yf')"
   ]
  },
  {
   "cell_type": "code",
   "execution_count": 31,
   "metadata": {},
   "outputs": [
    {
     "data": {
      "text/plain": [
       "Path('/home/vtec/projects/bio/metagentools/data/ncbi/refsequences/yf')"
      ]
     },
     "execution_count": 31,
     "metadata": {},
     "output_type": "execute_result"
    }
   ],
   "source": [
    "n = 0\n",
    "p2inputs = files[n].parent\n",
    "p2inputs.absolute()"
   ]
  },
  {
   "cell_type": "code",
   "execution_count": 32,
   "metadata": {},
   "outputs": [],
   "source": [
    "p2simread_outputs = pfs.data / 'ncbi/simreads/yf'\n",
    "assert p2simread_outputs.is_dir()"
   ]
  },
  {
   "cell_type": "code",
   "execution_count": 33,
   "metadata": {},
   "outputs": [
    {
     "name": "stdout",
     "output_type": "stream",
     "text": [
      "Ready to operate with art: /usr/bin/art_illumina\n",
      "Input files from : /home/vtec/projects/bio/metagentools/data/ncbi/refsequences/yf\n",
      "Output files to :  /home/vtec/projects/bio/metagentools/data/ncbi/simreads/yf\n"
     ]
    }
   ],
   "source": [
    "art = ArtIllumina(path2app=Path('/usr/bin/art_illumina'), input_dir=p2inputs, output_dir=p2simread_outputs)"
   ]
  },
  {
   "cell_type": "code",
   "execution_count": 34,
   "metadata": {},
   "outputs": [
    {
     "name": "stdout",
     "output_type": "stream",
     "text": [
      "yf_1971_Angola.fa\n",
      "yf_2023_multiple_alignment_original.fa\n",
      "yf_2023_yellow_fever.fa\n"
     ]
    }
   ],
   "source": [
    "art.list_all_input_files()"
   ]
  },
  {
   "cell_type": "code",
   "execution_count": 35,
   "metadata": {},
   "outputs": [],
   "source": [
    "input_fname = 'yf_2023_yellow_fever.fa'"
   ]
  },
  {
   "cell_type": "markdown",
   "metadata": {},
   "source": [
    "## Single read simulation - 50 bp read"
   ]
  },
  {
   "cell_type": "markdown",
   "metadata": {},
   "source": [
    "Run a single read simulations with the input file and the following parameters:"
   ]
  },
  {
   "cell_type": "code",
   "execution_count": 36,
   "metadata": {},
   "outputs": [],
   "source": [
    "# sim_params = {\n",
    "#     'input_file': input_fname,\n",
    "#     \"sim_type\": \"single\",\n",
    "#     \"read_length\": 50,\n",
    "#     'nb_sequences': 'all_',\n",
    "#     \"fold\": 200,\n",
    "#     'q_profile': 'HS25'\n",
    "# }\n",
    "\n",
    "# sim_params['output_seed'] = f\"{sim_params['sim_type']}_{sim_params['nb_sequences']}seq_{sim_params['read_length']}bp\"\n",
    "# sim_params"
   ]
  },
  {
   "cell_type": "code",
   "execution_count": 37,
   "metadata": {},
   "outputs": [],
   "source": [
    "# art.sim_reads( \n",
    "#     input_file=sim_params['input_file'],\n",
    "#     output_seed=sim_params['output_seed'],\n",
    "#     sim_type=sim_params['sim_type'],\n",
    "#     read_length=sim_params['read_length'],\n",
    "#     fold=sim_params['fold'],\n",
    "#     ss=sim_params['q_profile'],\n",
    "#     overwrite=True\n",
    "# )"
   ]
  },
  {
   "cell_type": "code",
   "execution_count": 38,
   "metadata": {},
   "outputs": [],
   "source": [
    "# art.list_last_output_files()"
   ]
  },
  {
   "cell_type": "markdown",
   "metadata": {},
   "source": [
    "## Single read simulation - 150 bp read"
   ]
  },
  {
   "cell_type": "markdown",
   "metadata": {},
   "source": [
    "### Prepare simulated read files"
   ]
  },
  {
   "cell_type": "markdown",
   "metadata": {},
   "source": [
    "Run a single read simulations with the input file and the following parameters:"
   ]
  },
  {
   "cell_type": "code",
   "execution_count": 39,
   "metadata": {},
   "outputs": [
    {
     "data": {
      "text/plain": [
       "{'input_file': 'yf_2023_yellow_fever.fa',\n",
       " 'sim_type': 'single',\n",
       " 'read_length': 150,\n",
       " 'nb_sequences': 'all_',\n",
       " 'fold': 200,\n",
       " 'q_profile': 'HS25',\n",
       " 'output_seed': 'single_all_seq_150bp'}"
      ]
     },
     "execution_count": 39,
     "metadata": {},
     "output_type": "execute_result"
    }
   ],
   "source": [
    "sim_params = {\n",
    "    'input_file': input_fname,\n",
    "    \"sim_type\": \"single\",\n",
    "    \"read_length\": 150,\n",
    "    'nb_sequences': 'all_',\n",
    "    \"fold\": 200,\n",
    "    'q_profile': 'HS25'\n",
    "}\n",
    "\n",
    "sim_params['output_seed'] = f\"{sim_params['sim_type']}_{sim_params['nb_sequences']}seq_{sim_params['read_length']}bp\"\n",
    "sim_params"
   ]
  },
  {
   "cell_type": "code",
   "execution_count": 40,
   "metadata": {},
   "outputs": [
    {
     "name": "stdout",
     "output_type": "stream",
     "text": [
      "return code:  0 \n",
      "\n",
      "\n",
      "    ====================ART====================\n",
      "             ART_Illumina (2008-2016)          \n",
      "          Q Version 2.5.8 (June 6, 2016)       \n",
      "     Contact: Weichun Huang <whduke@gmail.com> \n",
      "    -------------------------------------------\n",
      "\n",
      "                  Single-end Simulation\n",
      "\n",
      "Total CPU time used: 19.3748\n",
      "\n",
      "The random seed for the run: 1723183621\n",
      "\n",
      "Parameters used during run\n",
      "\tRead Length:\t150\n",
      "\tGenome masking 'N' cutoff frequency: \t1 in 150\n",
      "\tFold Coverage:            200X\n",
      "\tProfile Type:             Combined\n",
      "\tID Tag:                   \n",
      "\n",
      "Quality Profile(s)\n",
      "\tFirst Read:   HiSeq 2500 Length 150 R1 (built-in profile) \n",
      "\n",
      "Output files\n",
      "\n",
      "  FASTQ Sequence File:\n",
      "\t/home/vtec/projects/bio/metagentools/data/ncbi/simreads/yf/single_all_seq_150bp/single_all_seq_150bp.fq\n",
      "\n",
      "  ALN Alignment File:\n",
      "\t/home/vtec/projects/bio/metagentools/data/ncbi/simreads/yf/single_all_seq_150bp/single_all_seq_150bp.aln\n",
      "\n",
      "\n"
     ]
    }
   ],
   "source": [
    "art.sim_reads( \n",
    "    input_file=sim_params['input_file'],\n",
    "    output_seed=sim_params['output_seed'],\n",
    "    sim_type=sim_params['sim_type'],\n",
    "    read_length=sim_params['read_length'],\n",
    "    fold=sim_params['fold'],\n",
    "    ss=sim_params['q_profile'],\n",
    "    overwrite=True\n",
    ")"
   ]
  },
  {
   "cell_type": "code",
   "execution_count": 41,
   "metadata": {},
   "outputs": [
    {
     "name": "stdout",
     "output_type": "stream",
     "text": [
      "single_all_seq_150bp.fq\n",
      "single_all_seq_150bp.aln\n"
     ]
    }
   ],
   "source": [
    "art.list_last_output_files()"
   ]
  },
  {
   "cell_type": "code",
   "execution_count": 42,
   "metadata": {},
   "outputs": [
    {
     "name": "stdout",
     "output_type": "stream",
     "text": [
      "paired_1seq_150bp\n",
      "- paired_1seq_150bp2.aln\n",
      "- paired_1seq_150bp2.fq\n",
      "- paired_1seq_150bp1.fq\n",
      "- paired_1seq_150bp1.aln\n",
      "paired_1seq_50bp\n",
      "- paired_1seq_50bp2.aln\n",
      "- paired_1seq_50bp1.fq\n",
      "- paired_1seq_50bp2.fq\n",
      "- paired_1seq_50bp1.aln\n",
      "single_1seq_150bp\n",
      "- single_1seq_150bp.fq\n",
      "- single_1seq_150bp.aln\n",
      "single_1seq_50bp\n",
      "- single_1seq_50bp.aln\n",
      "- single_1seq_50bp.fq\n",
      "single_all_seq_150bp\n",
      "- single_all_seq_150bp.fq\n",
      "- single_all_seq_150bp.aln\n"
     ]
    }
   ],
   "source": [
    "art.list_all_output_files()"
   ]
  },
  {
   "cell_type": "markdown",
   "metadata": {},
   "source": [
    "## Paired read simulation - 50 bp read"
   ]
  },
  {
   "cell_type": "markdown",
   "metadata": {},
   "source": [
    "### Prepare simulated read files"
   ]
  },
  {
   "cell_type": "markdown",
   "metadata": {},
   "source": [
    "Run a paired read simulations with the input file."
   ]
  },
  {
   "cell_type": "code",
   "execution_count": 43,
   "metadata": {},
   "outputs": [],
   "source": [
    "# sim_params = {\n",
    "#     'input_file': input_fname,\n",
    "#     \"sim_type\": \"paired\",\n",
    "#     \"read_length\": 50,\n",
    "#     'nb_sequences': 'all_',\n",
    "#     \"fold\": 200,\n",
    "#     'mean_read':200,\n",
    "#     'std_read':10,\n",
    "#     'q_profile': 'HS25'\n",
    "# }\n",
    "\n",
    "# sim_params['output_seed'] = f\"{sim_params['sim_type']}_{sim_params['nb_sequences']}seq_{sim_params['read_length']}bp\"\n",
    "# sim_params"
   ]
  },
  {
   "cell_type": "code",
   "execution_count": 44,
   "metadata": {},
   "outputs": [],
   "source": [
    "# art.sim_reads(\n",
    "#     input_file=sim_params['input_file'],\n",
    "#     output_seed=sim_params['output_seed'],\n",
    "#     sim_type=sim_params['sim_type'],\n",
    "#     read_length=sim_params['read_length'],\n",
    "#     fold=sim_params['fold'],\n",
    "#     mean_read=sim_params['mean_read'],\n",
    "#     std_read=sim_params['std_read'],\n",
    "#     overwrite=True\n",
    "# )   "
   ]
  },
  {
   "cell_type": "code",
   "execution_count": 45,
   "metadata": {},
   "outputs": [],
   "source": [
    "# art.list_last_output_files()"
   ]
  },
  {
   "cell_type": "code",
   "execution_count": 46,
   "metadata": {},
   "outputs": [],
   "source": [
    "# art.list_all_output_files()"
   ]
  },
  {
   "cell_type": "markdown",
   "metadata": {},
   "source": [
    "## Paired read simulation - 150 bp read\n"
   ]
  },
  {
   "cell_type": "markdown",
   "metadata": {},
   "source": [
    "### Prepare simulated read files"
   ]
  },
  {
   "cell_type": "code",
   "execution_count": 47,
   "metadata": {},
   "outputs": [
    {
     "data": {
      "text/plain": [
       "{'input_file': 'yf_2023_yellow_fever.fa',\n",
       " 'sim_type': 'paired',\n",
       " 'read_length': 150,\n",
       " 'nb_sequences': 'all_',\n",
       " 'fold': 200,\n",
       " 'mean_read': 200,\n",
       " 'std_read': 10,\n",
       " 'q_profile': 'HS25',\n",
       " 'output_seed': 'paired_all_seq_150bp'}"
      ]
     },
     "execution_count": 47,
     "metadata": {},
     "output_type": "execute_result"
    }
   ],
   "source": [
    "sim_params = {\n",
    "    'input_file': input_fname,\n",
    "    \"sim_type\": \"paired\",\n",
    "    \"read_length\": 150,\n",
    "    'nb_sequences': 'all_',\n",
    "    \"fold\": 200,\n",
    "    'mean_read':200,\n",
    "    'std_read':10,\n",
    "    'q_profile': 'HS25'\n",
    "}\n",
    "\n",
    "sim_params['output_seed'] = f\"{sim_params['sim_type']}_{sim_params['nb_sequences']}seq_{sim_params['read_length']}bp\"\n",
    "sim_params"
   ]
  },
  {
   "cell_type": "code",
   "execution_count": 48,
   "metadata": {},
   "outputs": [
    {
     "name": "stdout",
     "output_type": "stream",
     "text": [
      "return code:  0 \n",
      "\n",
      "\n",
      "    ====================ART====================\n",
      "             ART_Illumina (2008-2016)          \n",
      "          Q Version 2.5.8 (June 6, 2016)       \n",
      "     Contact: Weichun Huang <whduke@gmail.com> \n",
      "    -------------------------------------------\n",
      "\n",
      "                  Paired-end sequencing simulation\n",
      "\n",
      "Total CPU time used: 19.8468\n",
      "\n",
      "The random seed for the run: 1723183668\n",
      "\n",
      "Parameters used during run\n",
      "\tRead Length:\t150\n",
      "\tGenome masking 'N' cutoff frequency: \t1 in 150\n",
      "\tFold Coverage:            200X\n",
      "\tMean Fragment Length:     200\n",
      "\tStandard Deviation:       10\n",
      "\tProfile Type:             Combined\n",
      "\tID Tag:                   \n",
      "\n",
      "Quality Profile(s)\n",
      "\tFirst Read:   HiSeq 2500 Length 150 R1 (built-in profile) \n",
      "\tFirst Read:   HiSeq 2500 Length 150 R2 (built-in profile) \n",
      "\n",
      "Output files\n",
      "\n",
      "  FASTQ Sequence Files:\n",
      "\t the 1st reads: /home/vtec/projects/bio/metagentools/data/ncbi/simreads/yf/paired_all_seq_150bp/paired_all_seq_150bp1.fq\n",
      "\t the 2nd reads: /home/vtec/projects/bio/metagentools/data/ncbi/simreads/yf/paired_all_seq_150bp/paired_all_seq_150bp2.fq\n",
      "\n",
      "  ALN Alignment Files:\n",
      "\t the 1st reads: /home/vtec/projects/bio/metagentools/data/ncbi/simreads/yf/paired_all_seq_150bp/paired_all_seq_150bp1.aln\n",
      "\t the 2nd reads: /home/vtec/projects/bio/metagentools/data/ncbi/simreads/yf/paired_all_seq_150bp/paired_all_seq_150bp2.aln\n",
      "\n",
      "\n"
     ]
    }
   ],
   "source": [
    "art.sim_reads(\n",
    "    input_file=sim_params['input_file'],\n",
    "    output_seed=sim_params['output_seed'],\n",
    "    sim_type=sim_params['sim_type'],\n",
    "    read_length=sim_params['read_length'],\n",
    "    fold=sim_params['fold'],\n",
    "    mean_read=sim_params['mean_read'],\n",
    "    std_read=sim_params['std_read'],\n",
    "    overwrite=True\n",
    ")  "
   ]
  },
  {
   "cell_type": "code",
   "execution_count": 49,
   "metadata": {},
   "outputs": [
    {
     "name": "stdout",
     "output_type": "stream",
     "text": [
      "paired_all_seq_150bp2.fq\n",
      "paired_all_seq_150bp2.aln\n",
      "paired_all_seq_150bp1.fq\n",
      "paired_all_seq_150bp1.aln\n"
     ]
    }
   ],
   "source": [
    "art.list_last_output_files()"
   ]
  },
  {
   "cell_type": "code",
   "execution_count": 50,
   "metadata": {},
   "outputs": [
    {
     "name": "stdout",
     "output_type": "stream",
     "text": [
      "paired_1seq_150bp\n",
      "- paired_1seq_150bp2.aln\n",
      "- paired_1seq_150bp2.fq\n",
      "- paired_1seq_150bp1.fq\n",
      "- paired_1seq_150bp1.aln\n",
      "paired_1seq_50bp\n",
      "- paired_1seq_50bp2.aln\n",
      "- paired_1seq_50bp1.fq\n",
      "- paired_1seq_50bp2.fq\n",
      "- paired_1seq_50bp1.aln\n",
      "paired_all_seq_150bp\n",
      "- paired_all_seq_150bp2.fq\n",
      "- paired_all_seq_150bp2.aln\n",
      "- paired_all_seq_150bp1.fq\n",
      "- paired_all_seq_150bp1.aln\n",
      "single_1seq_150bp\n",
      "- single_1seq_150bp.fq\n",
      "- single_1seq_150bp.aln\n",
      "single_1seq_50bp\n",
      "- single_1seq_50bp.aln\n",
      "- single_1seq_50bp.fq\n",
      "single_all_seq_150bp\n",
      "- single_all_seq_150bp.fq\n",
      "- single_all_seq_150bp.aln\n"
     ]
    }
   ],
   "source": [
    "art.list_all_output_files()"
   ]
  },
  {
   "cell_type": "code",
   "execution_count": 52,
   "metadata": {},
   "outputs": [
    {
     "data": {
      "text/plain": [
       "[Path('/home/vtec/projects/bio/metagentools/data/ncbi/simreads/yf/paired_all_seq_150bp/paired_all_seq_150bp2.fq'),\n",
       " Path('/home/vtec/projects/bio/metagentools/data/ncbi/simreads/yf/paired_all_seq_150bp/paired_all_seq_150bp2.aln'),\n",
       " Path('/home/vtec/projects/bio/metagentools/data/ncbi/simreads/yf/paired_all_seq_150bp/paired_all_seq_150bp1.fq'),\n",
       " Path('/home/vtec/projects/bio/metagentools/data/ncbi/simreads/yf/paired_all_seq_150bp/paired_all_seq_150bp1.aln')]"
      ]
     },
     "execution_count": 52,
     "metadata": {},
     "output_type": "execute_result"
    }
   ],
   "source": [
    "last_output = art.get_last_output_files()\n",
    "last_output"
   ]
  },
  {
   "cell_type": "code",
   "execution_count": 53,
   "metadata": {},
   "outputs": [],
   "source": [
    "fq = FastqFileReader(Path('/home/vtec/projects/bio/metagentools/data/ncbi/simreads/yf/single_all_seq_150bp/single_all_seq_150bp.fq'))"
   ]
  },
  {
   "cell_type": "code",
   "execution_count": 55,
   "metadata": {},
   "outputs": [
    {
     "name": "stdout",
     "output_type": "stream",
     "text": [
      "\n",
      "Sequence 1:\n",
      "@11089:ncbi:1-13596\n",
      "GGGCTGTTTGGTGGCTTGAGTTGGATTACGAAAGTCATCATGGGAGCCGTACTCATCTGGGTGGGAATAAACACCCGCAA ...\n",
      "\n",
      "Sequence 2:\n",
      "@11089:ncbi:1-13595\n",
      "TCAAAGCTGGCTCAAAAAAGAGTTTTTCATGGAGTGGCAAAAAATCCAGTTGTTGATGGTAATCCAACTGCTGACATTGA ...\n",
      "\n",
      "Sequence 3:\n",
      "@11089:ncbi:1-13594\n",
      "GGTTGTCATTGTCATAGAACCATGTAGTGGCATATTCATTCTTGATTCTCTCAACTCTTTCCTCAATAGCATCCTTATCC ...\n",
      "\n",
      "Sequence 4:\n",
      "@11089:ncbi:1-13593\n",
      "TAGGCCACTCTGACATTTTCCACTCCATAACACCAGCAATCTATGTCATCTGGCTCTTCTCTTGGACTGAGATTGGGACA ...\n"
     ]
    }
   ],
   "source": [
    "fq.print_first_chunks(3)"
   ]
  },
  {
   "cell_type": "code",
   "execution_count": 57,
   "metadata": {},
   "outputs": [
    {
     "name": "stdout",
     "output_type": "stream",
     "text": [
      "3-line chunk 1\n",
      "{'definition line': '>11089:ncbi:1\\t11089:ncbi:1-13600\\t5511\\t-', 'ref_seq_aligned': 'CCCATCTCCCGTCTAGTTTCCAGGAACCACCATAAGCCACCAGATCTTCCTTCACAGAAGCCCAAGACGGAACCAGTTTCTTTCCATTCCTCAAGAGGAATGCTCCCCTAGTGACATGCCACATTGTGTGGAAGACCCCTCCCTGCGCCA', 'read_seq_aligned': 'CCCATCTCCCGTCTAGTTTCCAGGAACCACCATAAGCCACCAGATCTTCCTTCACAGAAGCCCAAGACGGAACCAGTTTCTTTCCATTCCTCAAGAGGAATGCTCCCCTAGTGACATGCCACATTGTGTGGAAGACCCCTCCCTGCGCCA'}\n",
      "3-line chunk 2\n",
      "{'definition line': '>11089:ncbi:1\\t11089:ncbi:1-13599\\t6568\\t+', 'ref_seq_aligned': 'CAATGGGTACCATGGCTGGCAGTGGATATCTCATGTTTTTGGGGGGAGTAAAACCAACCCACATCTCTTACGTCATGTTAATATTCTTTGTCCTCATGGTCGTCGTAATTCCCGAACCAGGACAGCAGAGAACAATCCAGGATAACCAAG', 'read_seq_aligned': 'CAATGGGTACCATGGCTGGCAGTGGATATCTCATGTTTTTGGGGGGAGTAAAACCAACCCACATCTCTTACGTCATGTTAATATTCTTTGTCCTCATGGTCGTCGTAATTCCCGAACCAGGACAGCAGAGAACAATCCAGGATAACCAAG'}\n",
      "3-line chunk 3\n",
      "{'definition line': '>11089:ncbi:1\\t11089:ncbi:1-13598\\t4267\\t+', 'ref_seq_aligned': 'GAAGCTCTAGCCGCTATGATGTGGCACTCAGTGAGCAGGGTGAATTTAAACTCCTCTCAGAGGACAAAGTGCCCTGGGACCAGATAGTAATGACATCCCTAGCCCTCGTGGGAGCAGCCATACATCCATTTGCCCTCTTGCTGGTCCTGG', 'read_seq_aligned': 'GAAGCTCTAGCCGCTATGATGTGGCACTCAGTGAGCAGGGTGAATTTAAACTCCTCTCAGAGGACAAAGTGCCCTGGGACCAGATAGTAATGACATCCCTAGCCCTCGTGGGAGCAGCCATACATCCATTTGCCCTCTTGCTGGTCCTGG'}\n"
     ]
    }
   ],
   "source": [
    "aln = AlnFileReader(Path('/home/vtec/projects/bio/metagentools/data/ncbi/simreads/yf/single_all_seq_150bp/single_all_seq_150bp.aln'))\n",
    "aln.print_first_chunks(3)"
   ]
  }
 ],
 "metadata": {
  "kernelspec": {
   "display_name": "Python 3.10.6 ('metagentools')",
   "language": "python",
   "name": "python3"
  },
  "language_info": {
   "codemirror_mode": {
    "name": "ipython",
    "version": 3
   },
   "file_extension": ".py",
   "mimetype": "text/x-python",
   "name": "python",
   "nbconvert_exporter": "python",
   "pygments_lexer": "ipython3",
   "version": "3.10.6"
  },
  "vscode": {
   "interpreter": {
    "hash": "d79c725d3d254ae089d5edf9eb2dce3237f80d64dd85a8bedc17bd8054b8b312"
   }
  },
  "widgets": {
   "application/vnd.jupyter.widget-state+json": {
    "26b205197a934fdeabb71e65ac11acba": {
     "model_module": "@jupyter-widgets/base",
     "model_module_version": "1.2.0",
     "model_name": "LayoutModel",
     "state": {
      "_model_module": "@jupyter-widgets/base",
      "_model_module_version": "1.2.0",
      "_model_name": "LayoutModel",
      "_view_count": null,
      "_view_module": "@jupyter-widgets/base",
      "_view_module_version": "1.2.0",
      "_view_name": "LayoutView",
      "align_content": null,
      "align_items": null,
      "align_self": null,
      "border": null,
      "bottom": null,
      "display": null,
      "flex": null,
      "flex_flow": null,
      "grid_area": null,
      "grid_auto_columns": null,
      "grid_auto_flow": null,
      "grid_auto_rows": null,
      "grid_column": null,
      "grid_gap": null,
      "grid_row": null,
      "grid_template_areas": null,
      "grid_template_columns": null,
      "grid_template_rows": null,
      "height": null,
      "justify_content": null,
      "justify_items": null,
      "left": null,
      "margin": null,
      "max_height": null,
      "max_width": null,
      "min_height": null,
      "min_width": null,
      "object_fit": null,
      "object_position": null,
      "order": null,
      "overflow": null,
      "overflow_x": null,
      "overflow_y": null,
      "padding": null,
      "right": null,
      "top": null,
      "visibility": null,
      "width": null
     }
    },
    "514ad0bfcabf4df580a9a872af814af9": {
     "model_module": "@jupyter-widgets/controls",
     "model_module_version": "1.5.0",
     "model_name": "ProgressStyleModel",
     "state": {
      "_model_module": "@jupyter-widgets/controls",
      "_model_module_version": "1.5.0",
      "_model_name": "ProgressStyleModel",
      "_view_count": null,
      "_view_module": "@jupyter-widgets/base",
      "_view_module_version": "1.2.0",
      "_view_name": "StyleView",
      "bar_color": null,
      "description_width": ""
     }
    },
    "55646397fc9349d3af9e98b1f2b26f5d": {
     "model_module": "@jupyter-widgets/base",
     "model_module_version": "1.2.0",
     "model_name": "LayoutModel",
     "state": {
      "_model_module": "@jupyter-widgets/base",
      "_model_module_version": "1.2.0",
      "_model_name": "LayoutModel",
      "_view_count": null,
      "_view_module": "@jupyter-widgets/base",
      "_view_module_version": "1.2.0",
      "_view_name": "LayoutView",
      "align_content": null,
      "align_items": null,
      "align_self": null,
      "border": null,
      "bottom": null,
      "display": null,
      "flex": null,
      "flex_flow": null,
      "grid_area": null,
      "grid_auto_columns": null,
      "grid_auto_flow": null,
      "grid_auto_rows": null,
      "grid_column": null,
      "grid_gap": null,
      "grid_row": null,
      "grid_template_areas": null,
      "grid_template_columns": null,
      "grid_template_rows": null,
      "height": null,
      "justify_content": null,
      "justify_items": null,
      "left": null,
      "margin": null,
      "max_height": null,
      "max_width": null,
      "min_height": null,
      "min_width": null,
      "object_fit": null,
      "object_position": null,
      "order": null,
      "overflow": null,
      "overflow_x": null,
      "overflow_y": null,
      "padding": null,
      "right": null,
      "top": null,
      "visibility": null,
      "width": null
     }
    },
    "70f6be4247664b708b662c34e7abe3ee": {
     "model_module": "@jupyter-widgets/base",
     "model_module_version": "1.2.0",
     "model_name": "LayoutModel",
     "state": {
      "_model_module": "@jupyter-widgets/base",
      "_model_module_version": "1.2.0",
      "_model_name": "LayoutModel",
      "_view_count": null,
      "_view_module": "@jupyter-widgets/base",
      "_view_module_version": "1.2.0",
      "_view_name": "LayoutView",
      "align_content": null,
      "align_items": null,
      "align_self": null,
      "border": null,
      "bottom": null,
      "display": null,
      "flex": null,
      "flex_flow": null,
      "grid_area": null,
      "grid_auto_columns": null,
      "grid_auto_flow": null,
      "grid_auto_rows": null,
      "grid_column": null,
      "grid_gap": null,
      "grid_row": null,
      "grid_template_areas": null,
      "grid_template_columns": null,
      "grid_template_rows": null,
      "height": null,
      "justify_content": null,
      "justify_items": null,
      "left": null,
      "margin": null,
      "max_height": null,
      "max_width": null,
      "min_height": null,
      "min_width": null,
      "object_fit": null,
      "object_position": null,
      "order": null,
      "overflow": null,
      "overflow_x": null,
      "overflow_y": null,
      "padding": null,
      "right": null,
      "top": null,
      "visibility": null,
      "width": null
     }
    },
    "7179c6cc207941648c348b1bf10cb87f": {
     "model_module": "@jupyter-widgets/controls",
     "model_module_version": "1.5.0",
     "model_name": "LabelModel",
     "state": {
      "_dom_classes": [],
      "_model_module": "@jupyter-widgets/controls",
      "_model_module_version": "1.5.0",
      "_model_name": "LabelModel",
      "_view_count": null,
      "_view_module": "@jupyter-widgets/controls",
      "_view_module_version": "1.5.0",
      "_view_name": "LabelView",
      "description": "",
      "description_tooltip": null,
      "layout": "IPY_MODEL_70f6be4247664b708b662c34e7abe3ee",
      "placeholder": "​",
      "style": "IPY_MODEL_bdde467d943148ce9bb6355fd7582a5c",
      "value": "0.078 MB of 0.078 MB uploaded (0.020 MB deduped)\r"
     }
    },
    "7849f255e99b4853bdba7f8badf1054a": {
     "model_module": "@jupyter-widgets/controls",
     "model_module_version": "1.5.0",
     "model_name": "VBoxModel",
     "state": {
      "_dom_classes": [],
      "_model_module": "@jupyter-widgets/controls",
      "_model_module_version": "1.5.0",
      "_model_name": "VBoxModel",
      "_view_count": null,
      "_view_module": "@jupyter-widgets/controls",
      "_view_module_version": "1.5.0",
      "_view_name": "VBoxView",
      "box_style": "",
      "children": [
       "IPY_MODEL_7179c6cc207941648c348b1bf10cb87f",
       "IPY_MODEL_e0819a1ddcc64c08a748a2fd88350f09"
      ],
      "layout": "IPY_MODEL_26b205197a934fdeabb71e65ac11acba"
     }
    },
    "bdde467d943148ce9bb6355fd7582a5c": {
     "model_module": "@jupyter-widgets/controls",
     "model_module_version": "1.5.0",
     "model_name": "DescriptionStyleModel",
     "state": {
      "_model_module": "@jupyter-widgets/controls",
      "_model_module_version": "1.5.0",
      "_model_name": "DescriptionStyleModel",
      "_view_count": null,
      "_view_module": "@jupyter-widgets/base",
      "_view_module_version": "1.2.0",
      "_view_name": "StyleView",
      "description_width": ""
     }
    },
    "e0819a1ddcc64c08a748a2fd88350f09": {
     "model_module": "@jupyter-widgets/controls",
     "model_module_version": "1.5.0",
     "model_name": "FloatProgressModel",
     "state": {
      "_dom_classes": [],
      "_model_module": "@jupyter-widgets/controls",
      "_model_module_version": "1.5.0",
      "_model_name": "FloatProgressModel",
      "_view_count": null,
      "_view_module": "@jupyter-widgets/controls",
      "_view_module_version": "1.5.0",
      "_view_name": "ProgressView",
      "bar_style": "",
      "description": "",
      "description_tooltip": null,
      "layout": "IPY_MODEL_55646397fc9349d3af9e98b1f2b26f5d",
      "max": 1,
      "min": 0,
      "orientation": "horizontal",
      "style": "IPY_MODEL_514ad0bfcabf4df580a9a872af814af9",
      "value": 1
     }
    }
   }
  }
 },
 "nbformat": 4,
 "nbformat_minor": 1
}
