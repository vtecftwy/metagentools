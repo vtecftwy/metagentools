{
 "cells": [
  {
   "cell_type": "markdown",
   "metadata": {},
   "source": [
    "# Art Simulated Reads"
   ]
  },
  {
   "cell_type": "markdown",
   "metadata": {},
   "source": [
    "Notebook objective:\n",
    "- create sets of simulation reads with 10 sequences\n",
    "    - single type with length 50bp and 150 bp\n",
    "    - paired type with length 50bp and 150 bp\n",
    "    \n",
    "- load the created simulated fa and aln files as artifacts onto WandB\n",
    "\n",
    "> This notebook must be run locally on a computer with ART ILLIMINA installed"
   ]
  },
  {
   "cell_type": "markdown",
   "metadata": {},
   "source": [
    "# Setup\n"
   ]
  },
  {
   "cell_type": "code",
   "execution_count": null,
   "metadata": {},
   "outputs": [
    {
     "name": "stdout",
     "output_type": "stream",
     "text": [
      "Set autoreload mode\n"
     ]
    }
   ],
   "source": [
    "from ecutils.ipython import nb_setup\n",
    "nb_setup()"
   ]
  },
  {
   "cell_type": "code",
   "execution_count": null,
   "metadata": {},
   "outputs": [],
   "source": [
    "from metagentools.art import ArtIllumina\n",
    "from metagentools import wandb\n",
    "from pathlib import Path"
   ]
  },
  {
   "cell_type": "markdown",
   "metadata": {},
   "source": [
    "## Login and create WandB run"
   ]
  },
  {
   "cell_type": "code",
   "execution_count": null,
   "metadata": {},
   "outputs": [
    {
     "name": "stdout",
     "output_type": "stream",
     "text": [
      "Logging in from notebook: /home/vtec/projects/bio/metagentools/nbs/art/01_load_art_sim_reads_onto_wandb.ipynb\n"
     ]
    },
    {
     "name": "stderr",
     "output_type": "stream",
     "text": [
      "\u001b[34m\u001b[1mwandb\u001b[0m: W&B API key is configured. Use \u001b[1m`wandb login --relogin`\u001b[0m to force relogin\n"
     ]
    }
   ],
   "source": [
    "nb_fname = '01_load_art_sim_reads_onto_wandb.ipynb'\n",
    "wandb.login_nb(nb_fname)"
   ]
  },
  {
   "cell_type": "code",
   "execution_count": null,
   "metadata": {},
   "outputs": [],
   "source": [
    "entity = 'metagenomics_sh'"
   ]
  },
  {
   "cell_type": "code",
   "execution_count": null,
   "metadata": {},
   "outputs": [
    {
     "name": "stdout",
     "output_type": "stream",
     "text": [
      "0: reproduce_cnn_virus\n"
     ]
    }
   ],
   "source": [
    "projs = wandb.entity_projects(entity)\n",
    "for i, p in enumerate(projs):\n",
    "    print(f\"{i}: {p.name}\")"
   ]
  },
  {
   "cell_type": "code",
   "execution_count": null,
   "metadata": {},
   "outputs": [
    {
     "data": {
      "text/plain": [
       "'load_cov_sim_reads_10seq-230125-2236'"
      ]
     },
     "execution_count": null,
     "metadata": {},
     "output_type": "execute_result"
    }
   ],
   "source": [
    "project = 'reproduce_cnn_virus'\n",
    "\n",
    "run_name = wandb.unique_run_name('load_cov_sim_reads_10seq')\n",
    "run_name"
   ]
  },
  {
   "cell_type": "code",
   "execution_count": null,
   "metadata": {},
   "outputs": [],
   "source": [
    "job_type='load_datasets'\n",
    "notes='load simulated reads for cov, based on 10 sequences fasta file'"
   ]
  },
  {
   "cell_type": "code",
   "execution_count": null,
   "metadata": {},
   "outputs": [
    {
     "data": {
      "application/vnd.jupyter.widget-view+json": {
       "model_id": "3648edeae4bc4d58a97746b313d4577f",
       "version_major": 2,
       "version_minor": 0
      },
      "text/plain": [
       "VBox(children=(Label(value='Waiting for wandb.init()...\\r'), FloatProgress(value=0.01667030833292908, max=1.0)…"
      ]
     },
     "metadata": {},
     "output_type": "display_data"
    },
    {
     "data": {
      "text/html": [
       "Tracking run with wandb version 0.13.9"
      ],
      "text/plain": [
       "<IPython.core.display.HTML object>"
      ]
     },
     "metadata": {},
     "output_type": "display_data"
    },
    {
     "data": {
      "text/html": [
       "Run data is saved locally in <code>/home/vtec/projects/bio/metagentools/wandb-logs/wandb/run-20230125_223640-egfq4771</code>"
      ],
      "text/plain": [
       "<IPython.core.display.HTML object>"
      ]
     },
     "metadata": {},
     "output_type": "display_data"
    },
    {
     "data": {
      "text/html": [
       "Syncing run <strong><a href=\"https://wandb.ai/metagenomics_sh/reproduce_cnn_virus/runs/egfq4771\" target=\"_blank\">load_cov_sim_reads_10seq-230125-2236</a></strong> to <a href=\"https://wandb.ai/metagenomics_sh/reproduce_cnn_virus\" target=\"_blank\">Weights & Biases</a> (<a href=\"https://wandb.me/run\" target=\"_blank\">docs</a>)<br/>"
      ],
      "text/plain": [
       "<IPython.core.display.HTML object>"
      ]
     },
     "metadata": {},
     "output_type": "display_data"
    },
    {
     "data": {
      "text/html": [
       " View project at <a href=\"https://wandb.ai/metagenomics_sh/reproduce_cnn_virus\" target=\"_blank\">https://wandb.ai/metagenomics_sh/reproduce_cnn_virus</a>"
      ],
      "text/plain": [
       "<IPython.core.display.HTML object>"
      ]
     },
     "metadata": {},
     "output_type": "display_data"
    },
    {
     "data": {
      "text/html": [
       " View run at <a href=\"https://wandb.ai/metagenomics_sh/reproduce_cnn_virus/runs/egfq4771\" target=\"_blank\">https://wandb.ai/metagenomics_sh/reproduce_cnn_virus/runs/egfq4771</a>"
      ],
      "text/plain": [
       "<IPython.core.display.HTML object>"
      ]
     },
     "metadata": {},
     "output_type": "display_data"
    }
   ],
   "source": [
    "wandb_run = wandb.WandbRun(\n",
    "    entity=entity, \n",
    "    project=project, \n",
    "    run_name=run_name, \n",
    "    job_type=job_type, \n",
    "    notes=notes\n",
    "    )"
   ]
  },
  {
   "cell_type": "markdown",
   "metadata": {},
   "source": [
    "## ArtIllumina instance"
   ]
  },
  {
   "cell_type": "markdown",
   "metadata": {},
   "source": [
    "Create an instance of `ArtIllumina` with the path to the application on the system, and the directories for input and output files"
   ]
  },
  {
   "cell_type": "code",
   "execution_count": null,
   "metadata": {},
   "outputs": [
    {
     "name": "stdout",
     "output_type": "stream",
     "text": [
      "/home/vtec/projects/bio/metagentools/data/cov_data\n",
      "/home/vtec/projects/bio/metagentools/data/cov_simreads\n"
     ]
    }
   ],
   "source": [
    "p2art = Path('/bin/art_illumina')\n",
    "assert p2art.is_file()\n",
    "\n",
    "p2inputs = Path('../../data/cov_data').resolve()\n",
    "print(p2inputs.absolute())\n",
    "assert p2inputs.is_dir()\n",
    "\n",
    "p2outputs = Path('../../data/cov_simreads').resolve()\n",
    "print(p2outputs.absolute())\n",
    "assert p2outputs.is_dir()"
   ]
  },
  {
   "cell_type": "code",
   "execution_count": null,
   "metadata": {},
   "outputs": [
    {
     "name": "stdout",
     "output_type": "stream",
     "text": [
      "Ready to operate with art: /bin/art_illumina\n",
      "Input files from : /home/vtec/projects/bio/metagentools/data/cov_data\n",
      "Output files to :  /home/vtec/projects/bio/metagentools/data/cov_simreads\n"
     ]
    }
   ],
   "source": [
    "art = ArtIllumina(\n",
    "    path2app=p2art,\n",
    "    input_dir=p2inputs,\n",
    "    output_dir=p2outputs\n",
    "    )"
   ]
  },
  {
   "cell_type": "markdown",
   "metadata": {},
   "source": [
    "# Using 10 sequences\n"
   ]
  },
  {
   "cell_type": "markdown",
   "metadata": {},
   "source": [
    "## Single read simulation - 50 bp read"
   ]
  },
  {
   "cell_type": "markdown",
   "metadata": {},
   "source": [
    "### Prepare simulated read files"
   ]
  },
  {
   "cell_type": "code",
   "execution_count": null,
   "metadata": {},
   "outputs": [
    {
     "name": "stdout",
     "output_type": "stream",
     "text": [
      "cov_virus_list.txt\n",
      "cov_virus_sequence_one_1.fa\n",
      "cov_virus_sequence_one_2.fa\n",
      "cov_virus_sequences.fa\n",
      "cov_virus_sequences_ten.fa\n",
      "cov_virus_sequences_two.fa\n"
     ]
    }
   ],
   "source": [
    "art.list_all_input_files()"
   ]
  },
  {
   "cell_type": "code",
   "execution_count": null,
   "metadata": {},
   "outputs": [],
   "source": [
    "input_fname = 'cov_virus_sequences_ten.fa'"
   ]
  },
  {
   "cell_type": "markdown",
   "metadata": {},
   "source": [
    "Run a single read simulations with the input file and the following parameters:"
   ]
  },
  {
   "cell_type": "code",
   "execution_count": null,
   "metadata": {},
   "outputs": [
    {
     "data": {
      "text/plain": [
       "{'input_file': 'cov_virus_sequences_ten.fa',\n",
       " 'sim_type': 'single',\n",
       " 'read_length': 50,\n",
       " 'nb_sequences': 10,\n",
       " 'fold': 100,\n",
       " 'q_profile': 'HS25',\n",
       " 'output_seed': 'single_10seq_50bp'}"
      ]
     },
     "execution_count": null,
     "metadata": {},
     "output_type": "execute_result"
    }
   ],
   "source": [
    "sim_params = {\n",
    "    'input_file': input_fname,\n",
    "    \"sim_type\": \"single\",\n",
    "    \"read_length\": 50,\n",
    "    'nb_sequences': 10,\n",
    "    \"fold\": 100,\n",
    "    'q_profile': 'HS25'\n",
    "}\n",
    "\n",
    "sim_params['output_seed'] = f\"{sim_params['sim_type']}_{sim_params['nb_sequences']}seq_{sim_params['read_length']}bp\"\n",
    "sim_params"
   ]
  },
  {
   "cell_type": "code",
   "execution_count": null,
   "metadata": {},
   "outputs": [
    {
     "name": "stdout",
     "output_type": "stream",
     "text": [
      "return code:  0 \n",
      "\n",
      "\n",
      "    ====================ART====================\n",
      "             ART_Illumina (2008-2016)          \n",
      "          Q Version 2.5.8 (June 6, 2016)       \n",
      "     Contact: Weichun Huang <whduke@gmail.com> \n",
      "    -------------------------------------------\n",
      "\n",
      "                  Single-end Simulation\n",
      "\n",
      "Total CPU time used: 6.44633\n",
      "\n",
      "The random seed for the run: 1674657570\n",
      "\n",
      "Parameters used during run\n",
      "\tRead Length:\t50\n",
      "\tGenome masking 'N' cutoff frequency: \t1 in 50\n",
      "\tFold Coverage:            100X\n",
      "\tProfile Type:             Combined\n",
      "\tID Tag:                   \n",
      "\n",
      "Quality Profile(s)\n",
      "\tFirst Read:   HiSeq 2500 Length 126 R1 (built-in profile) \n",
      "\n",
      "Output files\n",
      "\n",
      "  FASTQ Sequence File:\n",
      "\t/home/vtec/projects/bio/metagentools/data/cov_simreads/single_10seq_50bp/single_10seq_50bp.fq\n",
      "\n",
      "  ALN Alignment File:\n",
      "\t/home/vtec/projects/bio/metagentools/data/cov_simreads/single_10seq_50bp/single_10seq_50bp.aln\n",
      "\n",
      "\n"
     ]
    }
   ],
   "source": [
    "art.sim_reads( \n",
    "    input_file=sim_params['input_file'],\n",
    "    output_seed=sim_params['output_seed'],\n",
    "    sim_type=sim_params['sim_type'],\n",
    "    read_length=sim_params['read_length'],\n",
    "    fold=sim_params['fold'],\n",
    "    ss=sim_params['q_profile'],\n",
    "    overwrite=True\n",
    ")"
   ]
  },
  {
   "cell_type": "code",
   "execution_count": null,
   "metadata": {},
   "outputs": [
    {
     "name": "stdout",
     "output_type": "stream",
     "text": [
      "single_10seq_50bp.fq\n",
      "single_10seq_50bp.aln\n"
     ]
    }
   ],
   "source": [
    "art.list_last_output_files()"
   ]
  },
  {
   "cell_type": "code",
   "execution_count": null,
   "metadata": {},
   "outputs": [
    {
     "name": "stdout",
     "output_type": "stream",
     "text": [
      "========================================================================================================================\n",
      "File Name: single_10seq_50bp.fq.\n",
      "--------------------------------------------------------------------------------\n",
      "@2591237:ncbi:1-60400\n",
      "GTGGCCAGTAACACTTGCTTGCTTTGTGCTTGCTGCTGTTTACAGAATTA\n",
      "+\n",
      "BCCCC;GGGGGGGGGGGGGGGGGGGGGGGB1G=GGG1GGGFGG1GGGGGG\n",
      "@2591237:ncbi:1-60399\n",
      "TGTAGATGCCACATTGATCATCCAAATCCTAAAGGATTTTGTGACTTGAA\n",
      "+\n",
      "CCCBCB11GG0GGGGGGGGGGCGGGGGGG9GCGGGGGGGGGG=GGGEGGE\n",
      "@2591237:ncbi:1-60398\n",
      "GCTCCCTCAGTTGCGACCCATACGATGCCTTCTTTGTTAGCGCCGTAGGG\n",
      "+\n",
      "CCCCCFGGGGGGFG>G1GGGGGGGGGBGGGGGGGGGGGGGGGGGG1GGGG\n",
      "\n"
     ]
    }
   ],
   "source": [
    "art.print_last_output_file_excerpts()"
   ]
  },
  {
   "cell_type": "code",
   "execution_count": null,
   "metadata": {},
   "outputs": [
    {
     "name": "stdout",
     "output_type": "stream",
     "text": [
      "========================================================================================================================\n",
      "File Name: single_10seq_50bp.aln.\n",
      "--------------------------------------------------------------------------------\n",
      "##ART_Illumina\tread_length\t50\n",
      "@CM\t/bin/art_illumina -i /home/vtec/projects/bio/metagentools/data/cov_data/cov_virus_sequences_ten.fa -ss HS25 -l 50 -f 100 -o /home/vtec/projects/bio/metagentools/data/cov_simreads/single_10seq_50bp/single_10seq_50bp -rs 1674657570\n",
      "@SQ\t2591237:ncbi:1 [MK211378]\t2591237\tncbi\t1 [MK211378] 2591237\tCoronavirus BtRs-BetaCoV/YN2018D\t\tscientific name\t30213\n",
      "@SQ\t11128:ncbi:2 [LC494191]\t11128\tncbi\t2 [LC494191] 11128\tBovine coronavirus\t\tscientific name\t30942\n",
      "@SQ\t31631:ncbi:3 [KY967361]\t31631\tncbi\t3 [KY967361] 31631\tHuman coronavirus OC43\t\tscientific name\t30661\n",
      "@SQ\t277944:ncbi:4 [LC654455]\t277944\tncbi\t4 [LC654455] 277944\tHuman coronavirus NL63\t\tscientific name\t27516\n",
      "@SQ\t11120:ncbi:5 [MN987231]\t11120\tncbi\t5 [MN987231] 11120\tInfectious bronchitis virus\t\tscientific name\t27617\n",
      "@SQ\t28295:ncbi:6 [KU893866]\t28295\tncbi\t6 [KU893866] 28295\tPorcine epidemic diarrhea virus\t\tscientific name\t28043\n",
      "@SQ\t28295:ncbi:7 [KJ645638]\t28295\tncbi\t7 [KJ645638] 28295\tPorcine epidemic diarrhea virus\t\tscientific name\t27998\n",
      "@SQ\t28295:ncbi:8 [KJ645678]\t28295\tncbi\t8 [KJ645678] 28295\tPorcine epidemic diarrhea virus\t\tscientific name\t27998\n",
      "@SQ\t28295:ncbi:9 [KR873434]\t28295\tncbi\t9 [KR873434] 28295\tPorcine epidemic diarrhea virus\t\tscientific name\t28038\n",
      "@SQ\t1699095:ncbi:10 [KT368904]\t1699095\tncbi\t10 [KT368904] 1699095\tCamel alphacoronavirus\t\tscientific name\t27395\n",
      "\n"
     ]
    }
   ],
   "source": [
    "art.print_last_output_file_excerpts(suffix='aln')"
   ]
  },
  {
   "cell_type": "markdown",
   "metadata": {},
   "source": [
    "### Create dataset artifact and log it"
   ]
  },
  {
   "cell_type": "code",
   "execution_count": null,
   "metadata": {},
   "outputs": [
    {
     "name": "stdout",
     "output_type": "stream",
     "text": [
      "/home/vtec/projects/bio/metagentools/data/cov_simreads/single_10seq_50bp\n",
      "cov_sim_reads_single_10seq_50bp\n",
      "Simulated reads of length 50bp out of 10covid sequences\n"
     ]
    }
   ],
   "source": [
    "ds_dir = art.output_dir / art.last_output_seed\n",
    "print(ds_dir)\n",
    "assert ds_dir.is_dir()\n",
    "\n",
    "ds_name = f\"cov_sim_reads_{sim_params['sim_type']}_{sim_params['nb_sequences']}seq_{sim_params['read_length']}bp\"\n",
    "ds_type = 'sim_reads'\n",
    "ds_descr = f\"Simulated reads ({sim_params['sim_type']}) of length {sim_params['read_length']}bp out of {sim_params['nb_sequences']}covid sequences\"\n",
    "\n",
    "print(ds_name)\n",
    "print(ds_descr)"
   ]
  },
  {
   "cell_type": "code",
   "execution_count": null,
   "metadata": {},
   "outputs": [
    {
     "name": "stderr",
     "output_type": "stream",
     "text": [
      "\u001b[34m\u001b[1mwandb\u001b[0m: Adding directory to artifact (/home/vtec/projects/bio/metagentools/data/cov_simreads/single_10seq_50bp)... Done. 1.3s\n"
     ]
    },
    {
     "name": "stdout",
     "output_type": "stream",
     "text": [
      "Dataset cov_sim_reads_single_10seq_50bp is being logged as artifact ...\n"
     ]
    }
   ],
   "source": [
    "afx = wandb_run.upload_dataset(\n",
    "    ds_path=ds_dir,\n",
    "    ds_name=ds_name, \n",
    "    ds_type=ds_type,\n",
    "    ds_descr=ds_descr,\n",
    "    ds_metadata=sim_params,\n",
    "    load_type='dir'\n",
    ")"
   ]
  },
  {
   "cell_type": "markdown",
   "metadata": {},
   "source": [
    "## Single read simulation - 150 bp read"
   ]
  },
  {
   "cell_type": "markdown",
   "metadata": {},
   "source": [
    "### Prepare simulated read files"
   ]
  },
  {
   "cell_type": "code",
   "execution_count": null,
   "metadata": {},
   "outputs": [
    {
     "name": "stdout",
     "output_type": "stream",
     "text": [
      "cov_virus_list.txt\n",
      "cov_virus_sequence_one_1.fa\n",
      "cov_virus_sequence_one_2.fa\n",
      "cov_virus_sequences.fa\n",
      "cov_virus_sequences_ten.fa\n",
      "cov_virus_sequences_two.fa\n"
     ]
    }
   ],
   "source": [
    "art.list_all_input_files()"
   ]
  },
  {
   "cell_type": "code",
   "execution_count": null,
   "metadata": {},
   "outputs": [],
   "source": [
    "input_fname = 'cov_virus_sequences_ten.fa'"
   ]
  },
  {
   "cell_type": "markdown",
   "metadata": {},
   "source": [
    "Run a single read simulations with the input file and the following parameters:"
   ]
  },
  {
   "cell_type": "code",
   "execution_count": null,
   "metadata": {},
   "outputs": [
    {
     "data": {
      "text/plain": [
       "{'input_file': 'cov_virus_sequences_ten.fa',\n",
       " 'sim_type': 'single',\n",
       " 'read_length': 150,\n",
       " 'nb_sequences': 10,\n",
       " 'fold': 100,\n",
       " 'q_profile': 'HS25',\n",
       " 'output_seed': 'single_10seq_150bp'}"
      ]
     },
     "execution_count": null,
     "metadata": {},
     "output_type": "execute_result"
    }
   ],
   "source": [
    "sim_params = {\n",
    "    'input_file': input_fname,\n",
    "    \"sim_type\": \"single\",\n",
    "    \"read_length\": 150,\n",
    "    'nb_sequences': 10,\n",
    "    \"fold\": 100,\n",
    "    'q_profile': 'HS25'\n",
    "}\n",
    "\n",
    "sim_params['output_seed'] = f\"{sim_params['sim_type']}_{sim_params['nb_sequences']}seq_{sim_params['read_length']}bp\"\n",
    "sim_params"
   ]
  },
  {
   "cell_type": "code",
   "execution_count": null,
   "metadata": {},
   "outputs": [
    {
     "name": "stdout",
     "output_type": "stream",
     "text": [
      "return code:  0 \n",
      "\n",
      "\n",
      "    ====================ART====================\n",
      "             ART_Illumina (2008-2016)          \n",
      "          Q Version 2.5.8 (June 6, 2016)       \n",
      "     Contact: Weichun Huang <whduke@gmail.com> \n",
      "    -------------------------------------------\n",
      "\n",
      "                  Single-end Simulation\n",
      "\n",
      "Total CPU time used: 3.2806\n",
      "\n",
      "The random seed for the run: 1674657712\n",
      "\n",
      "Parameters used during run\n",
      "\tRead Length:\t150\n",
      "\tGenome masking 'N' cutoff frequency: \t1 in 150\n",
      "\tFold Coverage:            100X\n",
      "\tProfile Type:             Combined\n",
      "\tID Tag:                   \n",
      "\n",
      "Quality Profile(s)\n",
      "\tFirst Read:   HiSeq 2500 Length 150 R1 (built-in profile) \n",
      "\n",
      "Output files\n",
      "\n",
      "  FASTQ Sequence File:\n",
      "\t/home/vtec/projects/bio/metagentools/data/cov_simreads/single_10seq_150bp/single_10seq_150bp.fq\n",
      "\n",
      "  ALN Alignment File:\n",
      "\t/home/vtec/projects/bio/metagentools/data/cov_simreads/single_10seq_150bp/single_10seq_150bp.aln\n",
      "\n",
      "\n"
     ]
    }
   ],
   "source": [
    "art.sim_reads( \n",
    "    input_file=sim_params['input_file'],\n",
    "    output_seed=sim_params['output_seed'],\n",
    "    sim_type=sim_params['sim_type'],\n",
    "    read_length=sim_params['read_length'],\n",
    "    fold=sim_params['fold'],\n",
    "    ss=sim_params['q_profile'],\n",
    "    overwrite=True\n",
    ")"
   ]
  },
  {
   "cell_type": "code",
   "execution_count": null,
   "metadata": {},
   "outputs": [
    {
     "name": "stdout",
     "output_type": "stream",
     "text": [
      "single_10seq_150bp.fq\n",
      "single_10seq_150bp.aln\n"
     ]
    }
   ],
   "source": [
    "art.list_last_output_files()"
   ]
  },
  {
   "cell_type": "markdown",
   "metadata": {},
   "source": [
    "### Create dataset artifact and log it"
   ]
  },
  {
   "cell_type": "code",
   "execution_count": null,
   "metadata": {},
   "outputs": [
    {
     "name": "stdout",
     "output_type": "stream",
     "text": [
      "/home/vtec/projects/bio/metagentools/data/cov_simreads/single_10seq_150bp\n",
      "cov_sim_reads_single_10seq_150bp\n",
      "Simulated reads of length 150bp out of 10 covid sequences\n"
     ]
    }
   ],
   "source": [
    "ds_dir = art.output_dir / art.last_output_seed\n",
    "print(ds_dir)\n",
    "assert ds_dir.is_dir()\n",
    "\n",
    "ds_name = f\"cov_sim_reads_{sim_params['sim_type']}_{sim_params['nb_sequences']}seq_{sim_params['read_length']}bp\"\n",
    "ds_type = 'sim_reads'\n",
    "ds_descr = f\"Simulated reads ({sim_params['sim_type']}) of length {sim_params['read_length']}bp out of {sim_params['nb_sequences']}covid sequences\"\n",
    "\n",
    "print(ds_name)\n",
    "print(ds_descr)"
   ]
  },
  {
   "cell_type": "code",
   "execution_count": null,
   "metadata": {},
   "outputs": [
    {
     "name": "stderr",
     "output_type": "stream",
     "text": [
      "\u001b[34m\u001b[1mwandb\u001b[0m: Adding directory to artifact (/home/vtec/projects/bio/metagentools/data/cov_simreads/single_10seq_150bp)... Done. 0.2s\n"
     ]
    },
    {
     "name": "stdout",
     "output_type": "stream",
     "text": [
      "Dataset cov_sim_reads_single_10seq_150bp is being logged as artifact ...\n"
     ]
    }
   ],
   "source": [
    "afx = wandb_run.upload_dataset(\n",
    "    ds_path=ds_dir,\n",
    "    ds_name=ds_name, \n",
    "    ds_type=ds_type,\n",
    "    ds_descr=ds_descr,\n",
    "    ds_metadata=sim_params,\n",
    "    load_type='dir'\n",
    ")"
   ]
  },
  {
   "cell_type": "markdown",
   "metadata": {},
   "source": [
    "## Paired read simulation - 50 bp read"
   ]
  },
  {
   "cell_type": "markdown",
   "metadata": {},
   "source": [
    "### Prepare simulated read files"
   ]
  },
  {
   "cell_type": "markdown",
   "metadata": {},
   "source": [
    "Run a paired read simulations with the input file."
   ]
  },
  {
   "cell_type": "code",
   "execution_count": null,
   "metadata": {},
   "outputs": [
    {
     "name": "stdout",
     "output_type": "stream",
     "text": [
      "cov_virus_list.txt\n",
      "cov_virus_sequence_one_1.fa\n",
      "cov_virus_sequence_one_2.fa\n",
      "cov_virus_sequences.fa\n",
      "cov_virus_sequences_ten.fa\n",
      "cov_virus_sequences_two.fa\n"
     ]
    }
   ],
   "source": [
    "art.list_all_input_files()"
   ]
  },
  {
   "cell_type": "code",
   "execution_count": null,
   "metadata": {},
   "outputs": [],
   "source": [
    "input_fname = 'cov_virus_sequences_ten.fa'"
   ]
  },
  {
   "cell_type": "code",
   "execution_count": null,
   "metadata": {},
   "outputs": [
    {
     "data": {
      "text/plain": [
       "{'input_file': 'cov_virus_sequences_ten.fa',\n",
       " 'sim_type': 'paired',\n",
       " 'read_length': 50,\n",
       " 'nb_sequences': 10,\n",
       " 'fold': 100,\n",
       " 'mean_read': 200,\n",
       " 'std_read': 10,\n",
       " 'q_profile': 'HS25',\n",
       " 'output_seed': 'paired_10seq_50bp'}"
      ]
     },
     "execution_count": null,
     "metadata": {},
     "output_type": "execute_result"
    }
   ],
   "source": [
    "sim_params = {\n",
    "    'input_file': input_fname,\n",
    "    \"sim_type\": \"paired\",\n",
    "    \"read_length\": 50,\n",
    "    'nb_sequences': 10,\n",
    "    \"fold\": 100,\n",
    "    'mean_read':200,\n",
    "    'std_read':10,\n",
    "    'q_profile': 'HS25'\n",
    "}\n",
    "\n",
    "sim_params['output_seed'] = f\"{sim_params['sim_type']}_{sim_params['nb_sequences']}seq_{sim_params['read_length']}bp\"\n",
    "sim_params"
   ]
  },
  {
   "cell_type": "code",
   "execution_count": null,
   "metadata": {},
   "outputs": [
    {
     "name": "stdout",
     "output_type": "stream",
     "text": [
      "return code:  0 \n",
      "\n",
      "\n",
      "    ====================ART====================\n",
      "             ART_Illumina (2008-2016)          \n",
      "          Q Version 2.5.8 (June 6, 2016)       \n",
      "     Contact: Weichun Huang <whduke@gmail.com> \n",
      "    -------------------------------------------\n",
      "\n",
      "                  Paired-end sequencing simulation\n",
      "\n",
      "Total CPU time used: 7.49074\n",
      "\n",
      "The random seed for the run: 1674657793\n",
      "\n",
      "Parameters used during run\n",
      "\tRead Length:\t50\n",
      "\tGenome masking 'N' cutoff frequency: \t1 in 50\n",
      "\tFold Coverage:            100X\n",
      "\tMean Fragment Length:     200\n",
      "\tStandard Deviation:       10\n",
      "\tProfile Type:             Combined\n",
      "\tID Tag:                   \n",
      "\n",
      "Quality Profile(s)\n",
      "\tFirst Read:   HiSeq 2500 Length 126 R1 (built-in profile) \n",
      "\tFirst Read:   HiSeq 2500 Length 126 R2 (built-in profile) \n",
      "\n",
      "Output files\n",
      "\n",
      "  FASTQ Sequence Files:\n",
      "\t the 1st reads: /home/vtec/projects/bio/metagentools/data/cov_simreads/paired_10seq_50bp/paired_10seq_50bp1.fq\n",
      "\t the 2nd reads: /home/vtec/projects/bio/metagentools/data/cov_simreads/paired_10seq_50bp/paired_10seq_50bp2.fq\n",
      "\n",
      "  ALN Alignment Files:\n",
      "\t the 1st reads: /home/vtec/projects/bio/metagentools/data/cov_simreads/paired_10seq_50bp/paired_10seq_50bp1.aln\n",
      "\t the 2nd reads: /home/vtec/projects/bio/metagentools/data/cov_simreads/paired_10seq_50bp/paired_10seq_50bp2.aln\n",
      "\n",
      "\n"
     ]
    }
   ],
   "source": [
    "art.sim_reads(\n",
    "    input_file=sim_params['input_file'],\n",
    "    output_seed=sim_params['output_seed'],\n",
    "    sim_type=sim_params['sim_type'],\n",
    "    read_length=sim_params['read_length'],\n",
    "    fold=sim_params['fold'],\n",
    "    mean_read=sim_params['mean_read'],\n",
    "    std_read=sim_params['std_read'],\n",
    "    overwrite=True\n",
    ")   "
   ]
  },
  {
   "cell_type": "code",
   "execution_count": null,
   "metadata": {},
   "outputs": [
    {
     "name": "stdout",
     "output_type": "stream",
     "text": [
      "paired_10seq_50bp2.aln\n",
      "paired_10seq_50bp1.fq\n",
      "paired_10seq_50bp1.aln\n",
      "paired_10seq_50bp2.fq\n"
     ]
    }
   ],
   "source": [
    "art.list_last_output_files()"
   ]
  },
  {
   "cell_type": "code",
   "execution_count": null,
   "metadata": {},
   "outputs": [
    {
     "name": "stdout",
     "output_type": "stream",
     "text": [
      "========================================================================================================================\n",
      "File Name: paired_10seq_50bp1.fq.\n",
      "--------------------------------------------------------------------------------\n",
      "@2591237:ncbi:1-60400/1\n",
      "ATAGGGTTTGTGTTCCTCCAGAAAATGTAGTTAGCATGCATGGTATAGCC\n",
      "+\n",
      "C:BCCGGGGGGGGGEEGGGGGGG<GGGFGGGFGFGGGGD1GGGGFGG0GG\n",
      "@2591237:ncbi:1-60398/1\n",
      "TCTGTTATTGACCTCTTACTCGATGACTTTGTTGAGATAATAAAGTCACA\n",
      "+\n",
      "CC:ACEG;FGGGGGGGGGGGGGGGGGE>1GDGGEGGGGGGGG>GFGGGGG\n",
      "@2591237:ncbi:1-60396/1\n",
      "TACAGAAGTACCTGCCAATTCAACTGTGCTTTCCTTCTGTGCCTTTGCAG\n",
      "+\n",
      "CCCCAGGGGF1GGGGGGGGGGGG>GGGGGGGGGGGGF<GGFGGEGGGGGG\n",
      "\n",
      "========================================================================================================================\n",
      "File Name: paired_10seq_50bp2.fq.\n",
      "--------------------------------------------------------------------------------\n",
      "@2591237:ncbi:1-60400/2\n",
      "GATAACAGAGCATTCTTGGAATGCTGATCTTTACAAGCTTATGGGACATT\n",
      "+\n",
      "BCCCCGGGGG1G1GGGGGGGGGGGGG<GGGGGGGGG1FG1@GGCGG1FGG\n",
      "@2591237:ncbi:1-60398/2\n",
      "TAGGCATTGCAACCCCCGGTTGCCACGCTTGACTTGCTTGTAATTTTGGG\n",
      "+\n",
      "CBCCCGGGGGGGGGGGGDGGGGGGGGGGGGGGG/GDGD?C1GGGGGGGGG\n",
      "@2591237:ncbi:1-60396/2\n",
      "TACAGACAGCATGAAGCACCACCAAAGGACTCTTGGTCCATGTTAGCTTC\n",
      "+\n",
      "CBCBC;GGGGGGFG1GCFGGGGGDGGGGGG/GGGGGGEGGGG>DGDGGGG\n",
      "\n"
     ]
    }
   ],
   "source": [
    "art.print_last_output_file_excerpts()"
   ]
  },
  {
   "cell_type": "markdown",
   "metadata": {},
   "source": [
    "### Create dataset artifact and log it"
   ]
  },
  {
   "cell_type": "code",
   "execution_count": null,
   "metadata": {},
   "outputs": [
    {
     "name": "stdout",
     "output_type": "stream",
     "text": [
      "/home/vtec/projects/bio/metagentools/data/cov_simreads/paired_10seq_50bp\n",
      "cov_sim_reads_paired_10seq_50bp\n",
      "Simulated reads (paired) of length 50bp out of 10covid sequences\n"
     ]
    }
   ],
   "source": [
    "ds_dir = art.output_dir / art.last_output_seed\n",
    "print(ds_dir)\n",
    "assert ds_dir.is_dir()\n",
    "\n",
    "ds_name = f\"cov_sim_reads_{sim_params['sim_type']}_{sim_params['nb_sequences']}seq_{sim_params['read_length']}bp\"\n",
    "ds_type = 'sim_reads'\n",
    "ds_descr = f\"Simulated reads ({sim_params['sim_type']}) of length {sim_params['read_length']}bp out of {sim_params['nb_sequences']}covid sequences\"\n",
    "\n",
    "print(ds_name)\n",
    "print(ds_descr)"
   ]
  },
  {
   "cell_type": "code",
   "execution_count": null,
   "metadata": {},
   "outputs": [
    {
     "name": "stderr",
     "output_type": "stream",
     "text": [
      "\u001b[34m\u001b[1mwandb\u001b[0m: Adding directory to artifact (/home/vtec/projects/bio/metagentools/data/cov_simreads/paired_10seq_50bp)... Done. 0.2s\n"
     ]
    },
    {
     "name": "stdout",
     "output_type": "stream",
     "text": [
      "Dataset cov_sim_reads_paired_10seq_50bp is being logged as artifact ...\n"
     ]
    }
   ],
   "source": [
    "afx = wandb_run.upload_dataset(\n",
    "    ds_path=ds_dir,\n",
    "    ds_name=ds_name, \n",
    "    ds_type=ds_type,\n",
    "    ds_descr=ds_descr,\n",
    "    ds_metadata=sim_params,\n",
    "    load_type='dir'\n",
    ")"
   ]
  },
  {
   "cell_type": "markdown",
   "metadata": {},
   "source": [
    "## Paired read simulation - 150 bp read\n"
   ]
  },
  {
   "cell_type": "markdown",
   "metadata": {},
   "source": [
    "### Prepare simulated read files"
   ]
  },
  {
   "cell_type": "code",
   "execution_count": null,
   "metadata": {},
   "outputs": [
    {
     "name": "stdout",
     "output_type": "stream",
     "text": [
      "cov_virus_list.txt\n",
      "cov_virus_sequence_one_1.fa\n",
      "cov_virus_sequence_one_2.fa\n",
      "cov_virus_sequences.fa\n",
      "cov_virus_sequences_ten.fa\n",
      "cov_virus_sequences_two.fa\n"
     ]
    }
   ],
   "source": [
    "art.list_all_input_files()"
   ]
  },
  {
   "cell_type": "code",
   "execution_count": null,
   "metadata": {},
   "outputs": [],
   "source": [
    "input_fname = 'cov_virus_sequences_ten.fa'"
   ]
  },
  {
   "cell_type": "code",
   "execution_count": null,
   "metadata": {},
   "outputs": [
    {
     "data": {
      "text/plain": [
       "{'input_file': 'cov_virus_sequences_ten.fa',\n",
       " 'sim_type': 'paired',\n",
       " 'read_length': 150,\n",
       " 'nb_sequences': 10,\n",
       " 'fold': 100,\n",
       " 'mean_read': 200,\n",
       " 'std_read': 10,\n",
       " 'q_profile': 'HS25',\n",
       " 'output_seed': 'paired_10seq_150bp'}"
      ]
     },
     "execution_count": null,
     "metadata": {},
     "output_type": "execute_result"
    }
   ],
   "source": [
    "sim_params = {\n",
    "    'input_file': input_fname,\n",
    "    \"sim_type\": \"paired\",\n",
    "    \"read_length\": 150,\n",
    "    'nb_sequences': 10,\n",
    "    \"fold\": 100,\n",
    "    'mean_read':200,\n",
    "    'std_read':10,\n",
    "    'q_profile': 'HS25'\n",
    "}\n",
    "\n",
    "sim_params['output_seed'] = f\"{sim_params['sim_type']}_{sim_params['nb_sequences']}seq_{sim_params['read_length']}bp\"\n",
    "sim_params"
   ]
  },
  {
   "cell_type": "code",
   "execution_count": null,
   "metadata": {},
   "outputs": [
    {
     "name": "stdout",
     "output_type": "stream",
     "text": [
      "return code:  0 \n",
      "\n",
      "\n",
      "    ====================ART====================\n",
      "             ART_Illumina (2008-2016)          \n",
      "          Q Version 2.5.8 (June 6, 2016)       \n",
      "     Contact: Weichun Huang <whduke@gmail.com> \n",
      "    -------------------------------------------\n",
      "\n",
      "                  Paired-end sequencing simulation\n",
      "\n",
      "Total CPU time used: 3.39643\n",
      "\n",
      "The random seed for the run: 1674657923\n",
      "\n",
      "Parameters used during run\n",
      "\tRead Length:\t150\n",
      "\tGenome masking 'N' cutoff frequency: \t1 in 150\n",
      "\tFold Coverage:            100X\n",
      "\tMean Fragment Length:     200\n",
      "\tStandard Deviation:       10\n",
      "\tProfile Type:             Combined\n",
      "\tID Tag:                   \n",
      "\n",
      "Quality Profile(s)\n",
      "\tFirst Read:   HiSeq 2500 Length 150 R1 (built-in profile) \n",
      "\tFirst Read:   HiSeq 2500 Length 150 R2 (built-in profile) \n",
      "\n",
      "Output files\n",
      "\n",
      "  FASTQ Sequence Files:\n",
      "\t the 1st reads: /home/vtec/projects/bio/metagentools/data/cov_simreads/paired_10seq_150bp/paired_10seq_150bp1.fq\n",
      "\t the 2nd reads: /home/vtec/projects/bio/metagentools/data/cov_simreads/paired_10seq_150bp/paired_10seq_150bp2.fq\n",
      "\n",
      "  ALN Alignment Files:\n",
      "\t the 1st reads: /home/vtec/projects/bio/metagentools/data/cov_simreads/paired_10seq_150bp/paired_10seq_150bp1.aln\n",
      "\t the 2nd reads: /home/vtec/projects/bio/metagentools/data/cov_simreads/paired_10seq_150bp/paired_10seq_150bp2.aln\n",
      "\n",
      "\n"
     ]
    }
   ],
   "source": [
    "art.sim_reads(\n",
    "    input_file=sim_params['input_file'],\n",
    "    output_seed=sim_params['output_seed'],\n",
    "    sim_type=sim_params['sim_type'],\n",
    "    read_length=sim_params['read_length'],\n",
    "    fold=sim_params['fold'],\n",
    "    mean_read=sim_params['mean_read'],\n",
    "    std_read=sim_params['std_read'],\n",
    "    overwrite=True\n",
    ")  "
   ]
  },
  {
   "cell_type": "code",
   "execution_count": null,
   "metadata": {},
   "outputs": [
    {
     "name": "stdout",
     "output_type": "stream",
     "text": [
      "paired_10seq_150bp1.aln\n",
      "paired_10seq_150bp2.fq\n",
      "paired_10seq_150bp2.aln\n",
      "paired_10seq_150bp1.fq\n"
     ]
    }
   ],
   "source": [
    "art.list_last_output_files()"
   ]
  },
  {
   "cell_type": "code",
   "execution_count": null,
   "metadata": {},
   "outputs": [
    {
     "name": "stdout",
     "output_type": "stream",
     "text": [
      "paired_10seq_150bp\n",
      "- paired_10seq_150bp1.aln\n",
      "- paired_10seq_150bp2.fq\n",
      "- paired_10seq_150bp2.aln\n",
      "- paired_10seq_150bp1.fq\n",
      "paired_10seq_50bp\n",
      "- paired_10seq_50bp2.aln\n",
      "- paired_10seq_50bp1.fq\n",
      "- paired_10seq_50bp1.aln\n",
      "- paired_10seq_50bp2.fq\n",
      "single_10seq_150bp\n",
      "- single_10seq_150bp.fq\n",
      "- single_10seq_150bp.aln\n",
      "single_10seq_50bp\n",
      "- single_10seq_50bp.fq\n",
      "- single_10seq_50bp.aln\n"
     ]
    }
   ],
   "source": [
    "art.list_all_output_files()"
   ]
  },
  {
   "cell_type": "markdown",
   "metadata": {},
   "source": [
    "### Create dataset artifact and log it"
   ]
  },
  {
   "cell_type": "code",
   "execution_count": null,
   "metadata": {},
   "outputs": [
    {
     "name": "stdout",
     "output_type": "stream",
     "text": [
      "/home/vtec/projects/bio/metagentools/data/cov_simreads/paired_10seq_150bp\n",
      "cov_sim_reads_paired_10seq_150bp\n",
      "Simulated reads (paired) of length 150bp out of 10covid sequences\n"
     ]
    }
   ],
   "source": [
    "ds_dir = art.output_dir / art.last_output_seed\n",
    "print(ds_dir)\n",
    "assert ds_dir.is_dir()\n",
    "\n",
    "ds_name = f\"cov_sim_reads_{sim_params['sim_type']}_{sim_params['nb_sequences']}seq_{sim_params['read_length']}bp\"\n",
    "ds_type = 'sim_reads'\n",
    "ds_descr = f\"Simulated reads ({sim_params['sim_type']}) of length {sim_params['read_length']}bp out of {sim_params['nb_sequences']}covid sequences\"\n",
    "\n",
    "print(ds_name)\n",
    "print(ds_descr)"
   ]
  },
  {
   "cell_type": "code",
   "execution_count": null,
   "metadata": {},
   "outputs": [
    {
     "name": "stderr",
     "output_type": "stream",
     "text": [
      "\u001b[34m\u001b[1mwandb\u001b[0m: Adding directory to artifact (/home/vtec/projects/bio/metagentools/data/cov_simreads/paired_10seq_150bp)... Done. 0.1s\n"
     ]
    },
    {
     "name": "stdout",
     "output_type": "stream",
     "text": [
      "Dataset cov_sim_reads_paired_10seq_150bp is being logged as artifact ...\n"
     ]
    }
   ],
   "source": [
    "afx = wandb_run.upload_dataset(\n",
    "    ds_path=ds_dir,\n",
    "    ds_name=ds_name, \n",
    "    ds_type=ds_type,\n",
    "    ds_descr=ds_descr,\n",
    "    ds_metadata=sim_params,\n",
    "    load_type='dir'\n",
    ")"
   ]
  },
  {
   "cell_type": "markdown",
   "metadata": {},
   "source": [
    "## Close current WandB active run"
   ]
  },
  {
   "cell_type": "code",
   "execution_count": null,
   "metadata": {},
   "outputs": [
    {
     "data": {
      "text/html": [
       "Waiting for W&B process to finish... <strong style=\"color:green\">(success).</strong>"
      ],
      "text/plain": [
       "<IPython.core.display.HTML object>"
      ]
     },
     "metadata": {},
     "output_type": "display_data"
    },
    {
     "data": {
      "text/html": [
       " View run <strong style=\"color:#cdcd00\">load_cov_sim_reads_10seq-230125-2236</strong> at: <a href=\"https://wandb.ai/metagenomics_sh/reproduce_cnn_virus/runs/egfq4771\" target=\"_blank\">https://wandb.ai/metagenomics_sh/reproduce_cnn_virus/runs/egfq4771</a><br/>Synced 6 W&B file(s), 0 media file(s), 20 artifact file(s) and 1 other file(s)"
      ],
      "text/plain": [
       "<IPython.core.display.HTML object>"
      ]
     },
     "metadata": {},
     "output_type": "display_data"
    },
    {
     "data": {
      "text/html": [
       "Find logs at: <code>/home/vtec/projects/bio/metagentools/wandb-logs/wandb/run-20230125_223640-egfq4771/logs</code>"
      ],
      "text/plain": [
       "<IPython.core.display.HTML object>"
      ]
     },
     "metadata": {},
     "output_type": "display_data"
    }
   ],
   "source": [
    "wandb_run.finish()"
   ]
  },
  {
   "cell_type": "markdown",
   "metadata": {},
   "source": [
    "# Others"
   ]
  },
  {
   "cell_type": "code",
   "execution_count": null,
   "metadata": {},
   "outputs": [],
   "source": []
  },
  {
   "cell_type": "code",
   "execution_count": null,
   "metadata": {},
   "outputs": [],
   "source": []
  },
  {
   "cell_type": "code",
   "execution_count": null,
   "metadata": {},
   "outputs": [],
   "source": []
  }
 ],
 "metadata": {
  "kernelspec": {
   "display_name": "Python 3 (ipykernel)",
   "language": "python",
   "name": "python3"
  },
  "widgets": {
   "application/vnd.jupyter.widget-state+json": {
    "26b205197a934fdeabb71e65ac11acba": {
     "model_module": "@jupyter-widgets/base",
     "model_module_version": "1.2.0",
     "model_name": "LayoutModel",
     "state": {
      "_model_module": "@jupyter-widgets/base",
      "_model_module_version": "1.2.0",
      "_model_name": "LayoutModel",
      "_view_count": null,
      "_view_module": "@jupyter-widgets/base",
      "_view_module_version": "1.2.0",
      "_view_name": "LayoutView",
      "align_content": null,
      "align_items": null,
      "align_self": null,
      "border": null,
      "bottom": null,
      "display": null,
      "flex": null,
      "flex_flow": null,
      "grid_area": null,
      "grid_auto_columns": null,
      "grid_auto_flow": null,
      "grid_auto_rows": null,
      "grid_column": null,
      "grid_gap": null,
      "grid_row": null,
      "grid_template_areas": null,
      "grid_template_columns": null,
      "grid_template_rows": null,
      "height": null,
      "justify_content": null,
      "justify_items": null,
      "left": null,
      "margin": null,
      "max_height": null,
      "max_width": null,
      "min_height": null,
      "min_width": null,
      "object_fit": null,
      "object_position": null,
      "order": null,
      "overflow": null,
      "overflow_x": null,
      "overflow_y": null,
      "padding": null,
      "right": null,
      "top": null,
      "visibility": null,
      "width": null
     }
    },
    "514ad0bfcabf4df580a9a872af814af9": {
     "model_module": "@jupyter-widgets/controls",
     "model_module_version": "1.5.0",
     "model_name": "ProgressStyleModel",
     "state": {
      "_model_module": "@jupyter-widgets/controls",
      "_model_module_version": "1.5.0",
      "_model_name": "ProgressStyleModel",
      "_view_count": null,
      "_view_module": "@jupyter-widgets/base",
      "_view_module_version": "1.2.0",
      "_view_name": "StyleView",
      "bar_color": null,
      "description_width": ""
     }
    },
    "55646397fc9349d3af9e98b1f2b26f5d": {
     "model_module": "@jupyter-widgets/base",
     "model_module_version": "1.2.0",
     "model_name": "LayoutModel",
     "state": {
      "_model_module": "@jupyter-widgets/base",
      "_model_module_version": "1.2.0",
      "_model_name": "LayoutModel",
      "_view_count": null,
      "_view_module": "@jupyter-widgets/base",
      "_view_module_version": "1.2.0",
      "_view_name": "LayoutView",
      "align_content": null,
      "align_items": null,
      "align_self": null,
      "border": null,
      "bottom": null,
      "display": null,
      "flex": null,
      "flex_flow": null,
      "grid_area": null,
      "grid_auto_columns": null,
      "grid_auto_flow": null,
      "grid_auto_rows": null,
      "grid_column": null,
      "grid_gap": null,
      "grid_row": null,
      "grid_template_areas": null,
      "grid_template_columns": null,
      "grid_template_rows": null,
      "height": null,
      "justify_content": null,
      "justify_items": null,
      "left": null,
      "margin": null,
      "max_height": null,
      "max_width": null,
      "min_height": null,
      "min_width": null,
      "object_fit": null,
      "object_position": null,
      "order": null,
      "overflow": null,
      "overflow_x": null,
      "overflow_y": null,
      "padding": null,
      "right": null,
      "top": null,
      "visibility": null,
      "width": null
     }
    },
    "70f6be4247664b708b662c34e7abe3ee": {
     "model_module": "@jupyter-widgets/base",
     "model_module_version": "1.2.0",
     "model_name": "LayoutModel",
     "state": {
      "_model_module": "@jupyter-widgets/base",
      "_model_module_version": "1.2.0",
      "_model_name": "LayoutModel",
      "_view_count": null,
      "_view_module": "@jupyter-widgets/base",
      "_view_module_version": "1.2.0",
      "_view_name": "LayoutView",
      "align_content": null,
      "align_items": null,
      "align_self": null,
      "border": null,
      "bottom": null,
      "display": null,
      "flex": null,
      "flex_flow": null,
      "grid_area": null,
      "grid_auto_columns": null,
      "grid_auto_flow": null,
      "grid_auto_rows": null,
      "grid_column": null,
      "grid_gap": null,
      "grid_row": null,
      "grid_template_areas": null,
      "grid_template_columns": null,
      "grid_template_rows": null,
      "height": null,
      "justify_content": null,
      "justify_items": null,
      "left": null,
      "margin": null,
      "max_height": null,
      "max_width": null,
      "min_height": null,
      "min_width": null,
      "object_fit": null,
      "object_position": null,
      "order": null,
      "overflow": null,
      "overflow_x": null,
      "overflow_y": null,
      "padding": null,
      "right": null,
      "top": null,
      "visibility": null,
      "width": null
     }
    },
    "7179c6cc207941648c348b1bf10cb87f": {
     "model_module": "@jupyter-widgets/controls",
     "model_module_version": "1.5.0",
     "model_name": "LabelModel",
     "state": {
      "_dom_classes": [],
      "_model_module": "@jupyter-widgets/controls",
      "_model_module_version": "1.5.0",
      "_model_name": "LabelModel",
      "_view_count": null,
      "_view_module": "@jupyter-widgets/controls",
      "_view_module_version": "1.5.0",
      "_view_name": "LabelView",
      "description": "",
      "description_tooltip": null,
      "layout": "IPY_MODEL_70f6be4247664b708b662c34e7abe3ee",
      "placeholder": "​",
      "style": "IPY_MODEL_bdde467d943148ce9bb6355fd7582a5c",
      "value": "0.078 MB of 0.078 MB uploaded (0.020 MB deduped)\r"
     }
    },
    "7849f255e99b4853bdba7f8badf1054a": {
     "model_module": "@jupyter-widgets/controls",
     "model_module_version": "1.5.0",
     "model_name": "VBoxModel",
     "state": {
      "_dom_classes": [],
      "_model_module": "@jupyter-widgets/controls",
      "_model_module_version": "1.5.0",
      "_model_name": "VBoxModel",
      "_view_count": null,
      "_view_module": "@jupyter-widgets/controls",
      "_view_module_version": "1.5.0",
      "_view_name": "VBoxView",
      "box_style": "",
      "children": [
       "IPY_MODEL_7179c6cc207941648c348b1bf10cb87f",
       "IPY_MODEL_e0819a1ddcc64c08a748a2fd88350f09"
      ],
      "layout": "IPY_MODEL_26b205197a934fdeabb71e65ac11acba"
     }
    },
    "bdde467d943148ce9bb6355fd7582a5c": {
     "model_module": "@jupyter-widgets/controls",
     "model_module_version": "1.5.0",
     "model_name": "DescriptionStyleModel",
     "state": {
      "_model_module": "@jupyter-widgets/controls",
      "_model_module_version": "1.5.0",
      "_model_name": "DescriptionStyleModel",
      "_view_count": null,
      "_view_module": "@jupyter-widgets/base",
      "_view_module_version": "1.2.0",
      "_view_name": "StyleView",
      "description_width": ""
     }
    },
    "e0819a1ddcc64c08a748a2fd88350f09": {
     "model_module": "@jupyter-widgets/controls",
     "model_module_version": "1.5.0",
     "model_name": "FloatProgressModel",
     "state": {
      "_dom_classes": [],
      "_model_module": "@jupyter-widgets/controls",
      "_model_module_version": "1.5.0",
      "_model_name": "FloatProgressModel",
      "_view_count": null,
      "_view_module": "@jupyter-widgets/controls",
      "_view_module_version": "1.5.0",
      "_view_name": "ProgressView",
      "bar_style": "",
      "description": "",
      "description_tooltip": null,
      "layout": "IPY_MODEL_55646397fc9349d3af9e98b1f2b26f5d",
      "max": 1,
      "min": 0,
      "orientation": "horizontal",
      "style": "IPY_MODEL_514ad0bfcabf4df580a9a872af814af9",
      "value": 1
     }
    }
   }
  }
 },
 "nbformat": 4,
 "nbformat_minor": 1
}
