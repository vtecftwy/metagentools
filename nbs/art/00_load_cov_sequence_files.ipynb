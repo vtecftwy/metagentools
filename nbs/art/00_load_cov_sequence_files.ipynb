{
 "cells": [
  {
   "cell_type": "markdown",
   "metadata": {},
   "source": [
    "# Handle covid sequence fasta files"
   ]
  },
  {
   "cell_type": "markdown",
   "metadata": {},
   "source": [
    "Notebook objective:\n",
    "- ..."
   ]
  },
  {
   "cell_type": "markdown",
   "metadata": {},
   "source": [
    "# Imports and setup environment"
   ]
  },
  {
   "cell_type": "markdown",
   "metadata": {},
   "source": [
    "### Install and import packages"
   ]
  },
  {
   "cell_type": "code",
   "execution_count": 1,
   "metadata": {},
   "outputs": [
    {
     "name": "stdout",
     "output_type": "stream",
     "text": [
      "`ecutilities` already installed\n",
      "`metagentools` already installed\n"
     ]
    }
   ],
   "source": [
    "# Install required custom packages if not installed yet.\n",
    "import importlib.util\n",
    "if not importlib.util.find_spec('ecutilities'):\n",
    "    print('installing package: `ecutilities`')\n",
    "    ! pip install -qqU ecutilities\n",
    "else:\n",
    "    print('`ecutilities` already installed')\n",
    "if not importlib.util.find_spec('metagentools'):\n",
    "    print('installing package: `metagentools')\n",
    "    ! pip install -qqU metagentools\n",
    "else:\n",
    "    print('`metagentools` already installed')"
   ]
  },
  {
   "cell_type": "code",
   "execution_count": 6,
   "metadata": {},
   "outputs": [
    {
     "name": "stdout",
     "output_type": "stream",
     "text": [
      "The autoreload extension is already loaded. To reload it, use:\n",
      "  %reload_ext autoreload\n",
      "Set autoreload mode\n"
     ]
    }
   ],
   "source": [
    "# Import all required packages\n",
    "import matplotlib.pyplot as plt\n",
    "import numpy as np\n",
    "import pandas as pd\n",
    "import re\n",
    "\n",
    "from ecutilities.core import files_in_tree, path_to_parent_dir\n",
    "from ecutilities.ipython import nb_setup\n",
    "from metagentools.art import ArtIllumina\n",
    "from metagentools.core import ProjectFileSystem\n",
    "from pathlib import Path\n",
    "from pprint import pprint\n",
    "\n",
    "# Setup the notebook for development\n",
    "nb_setup()"
   ]
  },
  {
   "cell_type": "markdown",
   "metadata": {},
   "source": [
    "## Setup project file system"
   ]
  },
  {
   "cell_type": "code",
   "execution_count": 7,
   "metadata": {},
   "outputs": [
    {
     "data": {
      "text/plain": [
       "(Path('/home/vtec'),\n",
       " Path('/home/vtec/projects/bio/metagentools'),\n",
       " Path('/home/vtec/projects/bio/metagentools/data'),\n",
       " Path('/home/vtec/projects/bio/metagentools/nbs'))"
      ]
     },
     "execution_count": 7,
     "metadata": {},
     "output_type": "execute_result"
    }
   ],
   "source": [
    "pfs = ProjectFileSystem()\n",
    "pfs.home, pfs.project_root, pfs.data, pfs.nbs"
   ]
  },
  {
   "cell_type": "markdown",
   "metadata": {},
   "source": [
    "## Login and create WandB run (Optional)"
   ]
  },
  {
   "cell_type": "code",
   "execution_count": null,
   "metadata": {},
   "outputs": [],
   "source": [
    "# from metagentools import wandb"
   ]
  },
  {
   "cell_type": "code",
   "execution_count": null,
   "metadata": {},
   "outputs": [],
   "source": [
    "# nb_fname = '00_load_cov_sequence_files.ipynb'\n",
    "# wandb.login_nb(nb_fname)"
   ]
  },
  {
   "cell_type": "code",
   "execution_count": null,
   "metadata": {},
   "outputs": [],
   "source": [
    "# entity = 'metagenomics_sh'"
   ]
  },
  {
   "cell_type": "code",
   "execution_count": null,
   "metadata": {},
   "outputs": [],
   "source": [
    "# projs = wandb.entity_projects(entity)\n",
    "# for i, p in enumerate(projs):\n",
    "#     print(f\"{i}: {p.name}\")"
   ]
  },
  {
   "cell_type": "code",
   "execution_count": null,
   "metadata": {},
   "outputs": [],
   "source": [
    "# project = 'create_and_load_sim_reads'\n",
    "\n",
    "# run_name = wandb.unique_run_name('seq_files')\n",
    "# run_name"
   ]
  },
  {
   "cell_type": "code",
   "execution_count": null,
   "metadata": {},
   "outputs": [],
   "source": [
    "# job_type='load_datasets'\n",
    "# notes='load covid sequence files (fasta)'"
   ]
  },
  {
   "cell_type": "code",
   "execution_count": null,
   "metadata": {},
   "outputs": [],
   "source": [
    "# wandb_run = wandb.WandbRun(\n",
    "#     entity=entity, \n",
    "#     project=project, \n",
    "#     run_name=run_name, \n",
    "#     job_type=job_type, \n",
    "#     notes=notes\n",
    "#     )"
   ]
  },
  {
   "cell_type": "markdown",
   "metadata": {},
   "source": [
    "## Load `fa` file and parse data"
   ]
  },
  {
   "cell_type": "markdown",
   "metadata": {},
   "source": [
    "Define path to files"
   ]
  },
  {
   "cell_type": "code",
   "execution_count": 8,
   "metadata": {},
   "outputs": [
    {
     "name": "stdout",
     "output_type": "stream",
     "text": [
      "/home/vtec/projects/bio/metagentools/data/cov_data\n"
     ]
    }
   ],
   "source": [
    "p2inputs = pfs.data/ 'cov_data'\n",
    "print(p2inputs.absolute())\n",
    "assert p2inputs.is_dir()"
   ]
  },
  {
   "cell_type": "markdown",
   "metadata": {},
   "source": [
    "Explore files in the directory:"
   ]
  },
  {
   "cell_type": "code",
   "execution_count": 9,
   "metadata": {},
   "outputs": [
    {
     "name": "stdout",
     "output_type": "stream",
     "text": [
      "data\n",
      "  |--cov_data\n",
      "  |    |--cov_virus_sequences_hundred.fa (0)\n",
      "  |    |--cov_virus_sequence_one_2.fa (1)\n",
      "  |    |--cov_virus_sequences_two.fa (2)\n",
      "  |    |--cov_virus_sequences_twenty_five.fa (3)\n",
      "  |    |--cov_virus_sequences_ten.fa (4)\n",
      "  |    |--cov_virus_original_cnn_sequences.json (5)\n",
      "  |    |--cov_virus_sequence_one_1.fa (6)\n",
      "  |    |--cov_virus_sequences.fa (7)\n",
      "  |    |--groups_1\n"
     ]
    }
   ],
   "source": [
    "files = files_in_tree(p2inputs, pattern='sequence')"
   ]
  },
  {
   "cell_type": "markdown",
   "metadata": {},
   "source": [
    "Pick fasta file with one sequence and read it"
   ]
  },
  {
   "cell_type": "code",
   "execution_count": 10,
   "metadata": {},
   "outputs": [
    {
     "data": {
      "text/plain": [
       "'>2591237:ncbi:1 [MK211378]\\t2591237\\tncbi\\t1 [MK211378] 2591237\\tCoronavirus BtRs-BetaCoV/YN2018D\\t\\tscientific name\\n'"
      ]
     },
     "metadata": {},
     "output_type": "display_data"
    }
   ],
   "source": [
    "with open(files[6], 'r') as fp:\n",
    "    first_lines = []\n",
    "    while True:\n",
    "        line = fp.readline()\n",
    "        if line == '': break\n",
    "        if line[0] == '>':\n",
    "            first_lines.append(line)\n",
    "\n",
    "display(''.join(first_lines[:10]))"
   ]
  },
  {
   "cell_type": "markdown",
   "metadata": {},
   "source": [
    "FASTA file structure for the `cov_data` files:\n",
    "\n",
    "- `2591237` is the NCBI taxonomy ID a.k.a. `NCBI:txid2591237`. See reference [on NCBI site](https://www.ncbi.nlm.nih.gov/Taxonomy/Browser/wwwtax.cgi?id=2591237)\n",
    "- `ncbi` is the source of info\n",
    "- `1` is the sequence number in the file\n",
    "- `MK211378` is the GenBank accession number for the sequence. See reference [on NCBI site](https://www.ncbi.nlm.nih.gov/nuccore/MK211378)\n",
    "- `Coronavirus BtRs-BetaCoV/YN2018D` is the species"
   ]
  },
  {
   "cell_type": "markdown",
   "metadata": {},
   "source": [
    "### Parse sequence metadata"
   ]
  },
  {
   "cell_type": "code",
   "execution_count": 11,
   "metadata": {},
   "outputs": [],
   "source": [
    "fasta_seq_metadata_pattern = r\"^>(?P<txid>\\d*):ncbi:\\d*(\\s*|\\t)\\[(?P<accession>\\w*\\d*)\\](\\s*\\n|((\\s*|\\t)(?P=txid)(\\s*|\\t)ncbi(\\s*|\\t)\\d*(\\s*|\\t)\\[(?P=accession)\\](\\s*|\\t)(?P=txid)(\\s*|\\t)(?P<species>.*)(\\s*|\\t)scientific name\\n))\""
   ]
  },
  {
   "cell_type": "code",
   "execution_count": 12,
   "metadata": {},
   "outputs": [],
   "source": [
    "seq_metadata = {}\n",
    "for i, line in enumerate(first_lines):\n",
    "    subdict = {}\n",
    "    matches = re.match(fasta_seq_metadata_pattern, line)\n",
    "    if matches is not None:\n",
    "        for g in 'txid accession species'.split(' '):\n",
    "    #         print(f\"{g:15s} {matches.group(g)}\")\n",
    "            subdict[g] = matches.group(g)\n",
    "    #     print()\n",
    "        seq_metadata[subdict['accession']] = subdict\n",
    "    else:\n",
    "        print(i, line)"
   ]
  },
  {
   "cell_type": "code",
   "execution_count": 14,
   "metadata": {},
   "outputs": [
    {
     "data": {
      "text/plain": [
       "{'txid': '2591237',\n",
       " 'accession': 'MK211378',\n",
       " 'species': 'Coronavirus BtRs-BetaCoV/YN2018D\\t\\t'}"
      ]
     },
     "execution_count": 14,
     "metadata": {},
     "output_type": "execute_result"
    }
   ],
   "source": [
    "seq_metadata['MK211378']"
   ]
  },
  {
   "cell_type": "code",
   "execution_count": null,
   "metadata": {},
   "outputs": [
    {
     "data": {
      "text/plain": [
       "{'txid': '2877474', 'accession': 'MZ328303', 'species': None}"
      ]
     },
     "execution_count": null,
     "metadata": {},
     "output_type": "execute_result"
    }
   ],
   "source": [
    "def parse_seq_metadata(line):\n",
    "    \n",
    "    pattern = r\"^>(?P<txid>\\d*):ncbi:\\d*(\\s*|\\t)\\[(?P<accession>\\w*\\d*)\\](\\s*\\n|((\\s*|\\t)(?P=txid)(\\s*|\\t)ncbi(\\s*|\\t)\\d*(\\s*|\\t)\\[(?P=accession)\\](\\s*|\\t)(?P=txid)(\\s*|\\t)(?P<species>.*)(\\s*|\\t)scientific name\\n))\"\n",
    "    matches = re.match(pattern, line)\n",
    "    metadata = {}\n",
    "    if matches is not None:\n",
    "        for g in 'txid accession species'.split(' '):\n",
    "            m = matches.group(g)\n",
    "            metadata[g] = m.replace('\\t', ' ').strip() if m is not None else None\n",
    "        return metadata\n",
    "    else:\n",
    "        raise ValueError(f\"No match on this line\")\n",
    "        \n",
    "parse_seq_metadata(first_lines[72])"
   ]
  },
  {
   "cell_type": "markdown",
   "metadata": {},
   "source": [
    "# Using 10 sequences\n"
   ]
  },
  {
   "cell_type": "code",
   "execution_count": null,
   "metadata": {},
   "outputs": [],
   "source": [
    "nb_sequences = 10"
   ]
  },
  {
   "cell_type": "markdown",
   "metadata": {},
   "source": [
    "## Single read simulation - 50 bp read"
   ]
  },
  {
   "cell_type": "markdown",
   "metadata": {},
   "source": [
    "### Prepare simulated read files"
   ]
  },
  {
   "cell_type": "code",
   "execution_count": null,
   "metadata": {},
   "outputs": [
    {
     "name": "stdout",
     "output_type": "stream",
     "text": [
      "cov_virus_list.txt\n",
      "cov_virus_sequence_one_1.fa\n",
      "cov_virus_sequence_one_2.fa\n",
      "cov_virus_sequences.fa\n",
      "cov_virus_sequences_ten.fa\n",
      "cov_virus_sequences_twenty_five.fa\n",
      "cov_virus_sequences_two.fa\n"
     ]
    }
   ],
   "source": [
    "art.list_all_input_files()"
   ]
  },
  {
   "cell_type": "code",
   "execution_count": null,
   "metadata": {},
   "outputs": [],
   "source": [
    "input_fname = 'cov_virus_sequences_ten.fa'"
   ]
  },
  {
   "cell_type": "markdown",
   "metadata": {},
   "source": [
    "Run a single read simulations with the input file and the following parameters:"
   ]
  },
  {
   "cell_type": "code",
   "execution_count": null,
   "metadata": {},
   "outputs": [
    {
     "data": {
      "text/plain": [
       "{'input_file': 'cov_virus_sequences_ten.fa',\n",
       " 'sim_type': 'single',\n",
       " 'read_length': 50,\n",
       " 'nb_sequences': 10,\n",
       " 'fold': 100,\n",
       " 'q_profile': 'HS25',\n",
       " 'output_seed': 'single_10seq_50bp'}"
      ]
     },
     "execution_count": null,
     "metadata": {},
     "output_type": "execute_result"
    }
   ],
   "source": [
    "sim_params = {\n",
    "    'input_file': input_fname,\n",
    "    \"sim_type\": \"single\",\n",
    "    \"read_length\": 50,\n",
    "    'nb_sequences': nb_sequences,\n",
    "    \"fold\": 100,\n",
    "    'q_profile': 'HS25'\n",
    "}\n",
    "\n",
    "sim_params['output_seed'] = f\"{sim_params['sim_type']}_{sim_params['nb_sequences']}seq_{sim_params['read_length']}bp\"\n",
    "sim_params"
   ]
  },
  {
   "cell_type": "code",
   "execution_count": null,
   "metadata": {},
   "outputs": [
    {
     "name": "stdout",
     "output_type": "stream",
     "text": [
      "return code:  0 \n",
      "\n",
      "\n",
      "    ====================ART====================\n",
      "             ART_Illumina (2008-2016)          \n",
      "          Q Version 2.5.8 (June 6, 2016)       \n",
      "     Contact: Weichun Huang <whduke@gmail.com> \n",
      "    -------------------------------------------\n",
      "\n",
      "                  Single-end Simulation\n",
      "\n",
      "Total CPU time used: 6.32933\n",
      "\n",
      "The random seed for the run: 1674660835\n",
      "\n",
      "Parameters used during run\n",
      "\tRead Length:\t50\n",
      "\tGenome masking 'N' cutoff frequency: \t1 in 50\n",
      "\tFold Coverage:            100X\n",
      "\tProfile Type:             Combined\n",
      "\tID Tag:                   \n",
      "\n",
      "Quality Profile(s)\n",
      "\tFirst Read:   HiSeq 2500 Length 126 R1 (built-in profile) \n",
      "\n",
      "Output files\n",
      "\n",
      "  FASTQ Sequence File:\n",
      "\t/home/vtec/projects/bio/metagentools/data/cov_simreads/single_10seq_50bp/single_10seq_50bp.fq\n",
      "\n",
      "  ALN Alignment File:\n",
      "\t/home/vtec/projects/bio/metagentools/data/cov_simreads/single_10seq_50bp/single_10seq_50bp.aln\n",
      "\n",
      "\n"
     ]
    }
   ],
   "source": [
    "art.sim_reads( \n",
    "    input_file=sim_params['input_file'],\n",
    "    output_seed=sim_params['output_seed'],\n",
    "    sim_type=sim_params['sim_type'],\n",
    "    read_length=sim_params['read_length'],\n",
    "    fold=sim_params['fold'],\n",
    "    ss=sim_params['q_profile'],\n",
    "    overwrite=True\n",
    ")"
   ]
  },
  {
   "cell_type": "code",
   "execution_count": null,
   "metadata": {},
   "outputs": [
    {
     "name": "stdout",
     "output_type": "stream",
     "text": [
      "single_10seq_50bp.fq\n",
      "single_10seq_50bp.aln\n"
     ]
    }
   ],
   "source": [
    "art.list_last_output_files()"
   ]
  },
  {
   "cell_type": "markdown",
   "metadata": {},
   "source": [
    "### Create dataset artifact and log it"
   ]
  },
  {
   "cell_type": "code",
   "execution_count": null,
   "metadata": {},
   "outputs": [
    {
     "name": "stdout",
     "output_type": "stream",
     "text": [
      "/home/vtec/projects/bio/metagentools/data/cov_simreads/single_10seq_50bp\n",
      "cov_sim_reads_single_10seq_50bp\n",
      "Simulated reads (single) of length 50bp out of 10 covid sequences\n"
     ]
    }
   ],
   "source": [
    "ds_dir = art.output_dir / art.last_output_seed\n",
    "print(ds_dir)\n",
    "assert ds_dir.is_dir()\n",
    "\n",
    "ds_name = f\"cov_sim_reads_{sim_params['sim_type']}_{sim_params['nb_sequences']}seq_{sim_params['read_length']}bp\"\n",
    "ds_type = 'sim_reads'\n",
    "ds_descr = f\"Simulated reads ({sim_params['sim_type']}) of length {sim_params['read_length']}bp out of {sim_params['nb_sequences']} covid sequences\"\n",
    "\n",
    "print(ds_name)\n",
    "print(ds_descr)"
   ]
  },
  {
   "cell_type": "code",
   "execution_count": null,
   "metadata": {},
   "outputs": [
    {
     "name": "stderr",
     "output_type": "stream",
     "text": [
      "\u001b[34m\u001b[1mwandb\u001b[0m: Adding directory to artifact (/home/vtec/projects/bio/metagentools/data/cov_simreads/single_10seq_50bp)... Done. 0.2s\n"
     ]
    },
    {
     "name": "stdout",
     "output_type": "stream",
     "text": [
      "Dataset cov_sim_reads_single_10seq_50bp is being logged as artifact ...\n"
     ]
    }
   ],
   "source": [
    "afx = wandb_run.upload_dataset(\n",
    "    ds_path=ds_dir,\n",
    "    ds_name=ds_name, \n",
    "    ds_type=ds_type,\n",
    "    ds_descr=ds_descr,\n",
    "    ds_metadata=sim_params,\n",
    "    load_type='dir'\n",
    ")"
   ]
  },
  {
   "cell_type": "markdown",
   "metadata": {},
   "source": [
    "## Single read simulation - 150 bp read"
   ]
  },
  {
   "cell_type": "markdown",
   "metadata": {},
   "source": [
    "### Prepare simulated read files"
   ]
  },
  {
   "cell_type": "markdown",
   "metadata": {},
   "source": [
    "Run a single read simulations with the input file and the following parameters:"
   ]
  },
  {
   "cell_type": "code",
   "execution_count": null,
   "metadata": {},
   "outputs": [
    {
     "data": {
      "text/plain": [
       "{'input_file': 'cov_virus_sequences_ten.fa',\n",
       " 'sim_type': 'single',\n",
       " 'read_length': 150,\n",
       " 'nb_sequences': 10,\n",
       " 'fold': 100,\n",
       " 'q_profile': 'HS25',\n",
       " 'output_seed': 'single_10seq_150bp'}"
      ]
     },
     "execution_count": null,
     "metadata": {},
     "output_type": "execute_result"
    }
   ],
   "source": [
    "sim_params = {\n",
    "    'input_file': input_fname,\n",
    "    \"sim_type\": \"single\",\n",
    "    \"read_length\": 150,\n",
    "    'nb_sequences': nb_sequences,\n",
    "    \"fold\": 100,\n",
    "    'q_profile': 'HS25'\n",
    "}\n",
    "\n",
    "sim_params['output_seed'] = f\"{sim_params['sim_type']}_{sim_params['nb_sequences']}seq_{sim_params['read_length']}bp\"\n",
    "sim_params"
   ]
  },
  {
   "cell_type": "code",
   "execution_count": null,
   "metadata": {},
   "outputs": [
    {
     "name": "stdout",
     "output_type": "stream",
     "text": [
      "return code:  0 \n",
      "\n",
      "\n",
      "    ====================ART====================\n",
      "             ART_Illumina (2008-2016)          \n",
      "          Q Version 2.5.8 (June 6, 2016)       \n",
      "     Contact: Weichun Huang <whduke@gmail.com> \n",
      "    -------------------------------------------\n",
      "\n",
      "                  Single-end Simulation\n",
      "\n",
      "Total CPU time used: 3.30155\n",
      "\n",
      "The random seed for the run: 1674660897\n",
      "\n",
      "Parameters used during run\n",
      "\tRead Length:\t150\n",
      "\tGenome masking 'N' cutoff frequency: \t1 in 150\n",
      "\tFold Coverage:            100X\n",
      "\tProfile Type:             Combined\n",
      "\tID Tag:                   \n",
      "\n",
      "Quality Profile(s)\n",
      "\tFirst Read:   HiSeq 2500 Length 150 R1 (built-in profile) \n",
      "\n",
      "Output files\n",
      "\n",
      "  FASTQ Sequence File:\n",
      "\t/home/vtec/projects/bio/metagentools/data/cov_simreads/single_10seq_150bp/single_10seq_150bp.fq\n",
      "\n",
      "  ALN Alignment File:\n",
      "\t/home/vtec/projects/bio/metagentools/data/cov_simreads/single_10seq_150bp/single_10seq_150bp.aln\n",
      "\n",
      "\n"
     ]
    }
   ],
   "source": [
    "art.sim_reads( \n",
    "    input_file=sim_params['input_file'],\n",
    "    output_seed=sim_params['output_seed'],\n",
    "    sim_type=sim_params['sim_type'],\n",
    "    read_length=sim_params['read_length'],\n",
    "    fold=sim_params['fold'],\n",
    "    ss=sim_params['q_profile'],\n",
    "    overwrite=True\n",
    ")"
   ]
  },
  {
   "cell_type": "code",
   "execution_count": null,
   "metadata": {},
   "outputs": [
    {
     "name": "stdout",
     "output_type": "stream",
     "text": [
      "single_10seq_150bp.fq\n",
      "single_10seq_150bp.aln\n"
     ]
    }
   ],
   "source": [
    "art.list_last_output_files()"
   ]
  },
  {
   "cell_type": "markdown",
   "metadata": {},
   "source": [
    "### Create dataset artifact and log it"
   ]
  },
  {
   "cell_type": "code",
   "execution_count": null,
   "metadata": {},
   "outputs": [
    {
     "name": "stdout",
     "output_type": "stream",
     "text": [
      "/home/vtec/projects/bio/metagentools/data/cov_simreads/single_10seq_150bp\n",
      "cov_sim_reads_single_10seq_150bp\n",
      "Simulated reads (single) of length 150bp out of 10 covid sequences\n"
     ]
    }
   ],
   "source": [
    "ds_dir = art.output_dir / art.last_output_seed\n",
    "print(ds_dir)\n",
    "assert ds_dir.is_dir()\n",
    "\n",
    "ds_name = f\"cov_sim_reads_{sim_params['sim_type']}_{sim_params['nb_sequences']}seq_{sim_params['read_length']}bp\"\n",
    "ds_type = 'sim_reads'\n",
    "ds_descr = f\"Simulated reads ({sim_params['sim_type']}) of length {sim_params['read_length']}bp out of {sim_params['nb_sequences']} covid sequences\"\n",
    "\n",
    "print(ds_name)\n",
    "print(ds_descr)"
   ]
  },
  {
   "cell_type": "code",
   "execution_count": null,
   "metadata": {},
   "outputs": [
    {
     "name": "stderr",
     "output_type": "stream",
     "text": [
      "\u001b[34m\u001b[1mwandb\u001b[0m: Adding directory to artifact (/home/vtec/projects/bio/metagentools/data/cov_simreads/single_10seq_150bp)... Done. 0.2s\n"
     ]
    },
    {
     "name": "stdout",
     "output_type": "stream",
     "text": [
      "Dataset cov_sim_reads_single_10seq_150bp is being logged as artifact ...\n"
     ]
    }
   ],
   "source": [
    "afx = wandb_run.upload_dataset(\n",
    "    ds_path=ds_dir,\n",
    "    ds_name=ds_name, \n",
    "    ds_type=ds_type,\n",
    "    ds_descr=ds_descr,\n",
    "    ds_metadata=sim_params,\n",
    "    load_type='dir'\n",
    ")"
   ]
  },
  {
   "cell_type": "markdown",
   "metadata": {},
   "source": [
    "## Paired read simulation - 50 bp read"
   ]
  },
  {
   "cell_type": "markdown",
   "metadata": {},
   "source": [
    "### Prepare simulated read files"
   ]
  },
  {
   "cell_type": "markdown",
   "metadata": {},
   "source": [
    "Run a paired read simulations with the input file."
   ]
  },
  {
   "cell_type": "code",
   "execution_count": null,
   "metadata": {},
   "outputs": [
    {
     "data": {
      "text/plain": [
       "{'input_file': 'cov_virus_sequences_ten.fa',\n",
       " 'sim_type': 'paired',\n",
       " 'read_length': 50,\n",
       " 'nb_sequences': 10,\n",
       " 'fold': 100,\n",
       " 'mean_read': 200,\n",
       " 'std_read': 10,\n",
       " 'q_profile': 'HS25',\n",
       " 'output_seed': 'paired_10seq_50bp'}"
      ]
     },
     "execution_count": null,
     "metadata": {},
     "output_type": "execute_result"
    }
   ],
   "source": [
    "sim_params = {\n",
    "    'input_file': input_fname,\n",
    "    \"sim_type\": \"paired\",\n",
    "    \"read_length\": 50,\n",
    "    'nb_sequences': nb_sequences,\n",
    "    \"fold\": 100,\n",
    "    'mean_read':200,\n",
    "    'std_read':10,\n",
    "    'q_profile': 'HS25'\n",
    "}\n",
    "\n",
    "sim_params['output_seed'] = f\"{sim_params['sim_type']}_{sim_params['nb_sequences']}seq_{sim_params['read_length']}bp\"\n",
    "sim_params"
   ]
  },
  {
   "cell_type": "code",
   "execution_count": null,
   "metadata": {},
   "outputs": [
    {
     "name": "stdout",
     "output_type": "stream",
     "text": [
      "return code:  0 \n",
      "\n",
      "\n",
      "    ====================ART====================\n",
      "             ART_Illumina (2008-2016)          \n",
      "          Q Version 2.5.8 (June 6, 2016)       \n",
      "     Contact: Weichun Huang <whduke@gmail.com> \n",
      "    -------------------------------------------\n",
      "\n",
      "                  Paired-end sequencing simulation\n",
      "\n",
      "Total CPU time used: 6.32218\n",
      "\n",
      "The random seed for the run: 1674660947\n",
      "\n",
      "Parameters used during run\n",
      "\tRead Length:\t50\n",
      "\tGenome masking 'N' cutoff frequency: \t1 in 50\n",
      "\tFold Coverage:            100X\n",
      "\tMean Fragment Length:     200\n",
      "\tStandard Deviation:       10\n",
      "\tProfile Type:             Combined\n",
      "\tID Tag:                   \n",
      "\n",
      "Quality Profile(s)\n",
      "\tFirst Read:   HiSeq 2500 Length 126 R1 (built-in profile) \n",
      "\tFirst Read:   HiSeq 2500 Length 126 R2 (built-in profile) \n",
      "\n",
      "Output files\n",
      "\n",
      "  FASTQ Sequence Files:\n",
      "\t the 1st reads: /home/vtec/projects/bio/metagentools/data/cov_simreads/paired_10seq_50bp/paired_10seq_50bp1.fq\n",
      "\t the 2nd reads: /home/vtec/projects/bio/metagentools/data/cov_simreads/paired_10seq_50bp/paired_10seq_50bp2.fq\n",
      "\n",
      "  ALN Alignment Files:\n",
      "\t the 1st reads: /home/vtec/projects/bio/metagentools/data/cov_simreads/paired_10seq_50bp/paired_10seq_50bp1.aln\n",
      "\t the 2nd reads: /home/vtec/projects/bio/metagentools/data/cov_simreads/paired_10seq_50bp/paired_10seq_50bp2.aln\n",
      "\n",
      "\n"
     ]
    }
   ],
   "source": [
    "art.sim_reads(\n",
    "    input_file=sim_params['input_file'],\n",
    "    output_seed=sim_params['output_seed'],\n",
    "    sim_type=sim_params['sim_type'],\n",
    "    read_length=sim_params['read_length'],\n",
    "    fold=sim_params['fold'],\n",
    "    mean_read=sim_params['mean_read'],\n",
    "    std_read=sim_params['std_read'],\n",
    "    overwrite=True\n",
    ")   "
   ]
  },
  {
   "cell_type": "code",
   "execution_count": null,
   "metadata": {},
   "outputs": [
    {
     "name": "stdout",
     "output_type": "stream",
     "text": [
      "paired_10seq_50bp2.aln\n",
      "paired_10seq_50bp1.fq\n",
      "paired_10seq_50bp1.aln\n",
      "paired_10seq_50bp2.fq\n"
     ]
    }
   ],
   "source": [
    "art.list_last_output_files()"
   ]
  },
  {
   "cell_type": "markdown",
   "metadata": {},
   "source": [
    "### Create dataset artifact and log it"
   ]
  },
  {
   "cell_type": "code",
   "execution_count": null,
   "metadata": {},
   "outputs": [
    {
     "name": "stdout",
     "output_type": "stream",
     "text": [
      "/home/vtec/projects/bio/metagentools/data/cov_simreads/paired_10seq_50bp\n",
      "cov_sim_reads_paired_10seq_50bp\n",
      "Simulated reads (paired) of length 50bp out of 10 covid sequences\n"
     ]
    }
   ],
   "source": [
    "ds_dir = art.output_dir / art.last_output_seed\n",
    "print(ds_dir)\n",
    "assert ds_dir.is_dir()\n",
    "\n",
    "ds_name = f\"cov_sim_reads_{sim_params['sim_type']}_{sim_params['nb_sequences']}seq_{sim_params['read_length']}bp\"\n",
    "ds_type = 'sim_reads'\n",
    "ds_descr = f\"Simulated reads ({sim_params['sim_type']}) of length {sim_params['read_length']}bp out of {sim_params['nb_sequences']} covid sequences\"\n",
    "\n",
    "print(ds_name)\n",
    "print(ds_descr)"
   ]
  },
  {
   "cell_type": "code",
   "execution_count": null,
   "metadata": {},
   "outputs": [
    {
     "name": "stderr",
     "output_type": "stream",
     "text": [
      "\u001b[34m\u001b[1mwandb\u001b[0m: Adding directory to artifact (/home/vtec/projects/bio/metagentools/data/cov_simreads/paired_10seq_50bp)... Done. 0.2s\n"
     ]
    },
    {
     "name": "stdout",
     "output_type": "stream",
     "text": [
      "Dataset cov_sim_reads_paired_10seq_50bp is being logged as artifact ...\n"
     ]
    }
   ],
   "source": [
    "afx = wandb_run.upload_dataset(\n",
    "    ds_path=ds_dir,\n",
    "    ds_name=ds_name, \n",
    "    ds_type=ds_type,\n",
    "    ds_descr=ds_descr,\n",
    "    ds_metadata=sim_params,\n",
    "    load_type='dir'\n",
    ")"
   ]
  },
  {
   "cell_type": "markdown",
   "metadata": {},
   "source": [
    "## Paired read simulation - 150 bp read\n"
   ]
  },
  {
   "cell_type": "markdown",
   "metadata": {},
   "source": [
    "### Prepare simulated read files"
   ]
  },
  {
   "cell_type": "code",
   "execution_count": null,
   "metadata": {},
   "outputs": [
    {
     "data": {
      "text/plain": [
       "{'input_file': 'cov_virus_sequences_ten.fa',\n",
       " 'sim_type': 'paired',\n",
       " 'read_length': 150,\n",
       " 'nb_sequences': 10,\n",
       " 'fold': 100,\n",
       " 'mean_read': 200,\n",
       " 'std_read': 10,\n",
       " 'q_profile': 'HS25',\n",
       " 'output_seed': 'paired_10seq_150bp'}"
      ]
     },
     "execution_count": null,
     "metadata": {},
     "output_type": "execute_result"
    }
   ],
   "source": [
    "sim_params = {\n",
    "    'input_file': input_fname,\n",
    "    \"sim_type\": \"paired\",\n",
    "    \"read_length\": 150,\n",
    "    'nb_sequences': nb_sequences,\n",
    "    \"fold\": 100,\n",
    "    'mean_read':200,\n",
    "    'std_read':10,\n",
    "    'q_profile': 'HS25'\n",
    "}\n",
    "\n",
    "sim_params['output_seed'] = f\"{sim_params['sim_type']}_{sim_params['nb_sequences']}seq_{sim_params['read_length']}bp\"\n",
    "sim_params"
   ]
  },
  {
   "cell_type": "code",
   "execution_count": null,
   "metadata": {},
   "outputs": [
    {
     "name": "stdout",
     "output_type": "stream",
     "text": [
      "return code:  0 \n",
      "\n",
      "\n",
      "    ====================ART====================\n",
      "             ART_Illumina (2008-2016)          \n",
      "          Q Version 2.5.8 (June 6, 2016)       \n",
      "     Contact: Weichun Huang <whduke@gmail.com> \n",
      "    -------------------------------------------\n",
      "\n",
      "                  Paired-end sequencing simulation\n",
      "\n",
      "Total CPU time used: 3.4763\n",
      "\n",
      "The random seed for the run: 1674660994\n",
      "\n",
      "Parameters used during run\n",
      "\tRead Length:\t150\n",
      "\tGenome masking 'N' cutoff frequency: \t1 in 150\n",
      "\tFold Coverage:            100X\n",
      "\tMean Fragment Length:     200\n",
      "\tStandard Deviation:       10\n",
      "\tProfile Type:             Combined\n",
      "\tID Tag:                   \n",
      "\n",
      "Quality Profile(s)\n",
      "\tFirst Read:   HiSeq 2500 Length 150 R1 (built-in profile) \n",
      "\tFirst Read:   HiSeq 2500 Length 150 R2 (built-in profile) \n",
      "\n",
      "Output files\n",
      "\n",
      "  FASTQ Sequence Files:\n",
      "\t the 1st reads: /home/vtec/projects/bio/metagentools/data/cov_simreads/paired_10seq_150bp/paired_10seq_150bp1.fq\n",
      "\t the 2nd reads: /home/vtec/projects/bio/metagentools/data/cov_simreads/paired_10seq_150bp/paired_10seq_150bp2.fq\n",
      "\n",
      "  ALN Alignment Files:\n",
      "\t the 1st reads: /home/vtec/projects/bio/metagentools/data/cov_simreads/paired_10seq_150bp/paired_10seq_150bp1.aln\n",
      "\t the 2nd reads: /home/vtec/projects/bio/metagentools/data/cov_simreads/paired_10seq_150bp/paired_10seq_150bp2.aln\n",
      "\n",
      "\n"
     ]
    }
   ],
   "source": [
    "art.sim_reads(\n",
    "    input_file=sim_params['input_file'],\n",
    "    output_seed=sim_params['output_seed'],\n",
    "    sim_type=sim_params['sim_type'],\n",
    "    read_length=sim_params['read_length'],\n",
    "    fold=sim_params['fold'],\n",
    "    mean_read=sim_params['mean_read'],\n",
    "    std_read=sim_params['std_read'],\n",
    "    overwrite=True\n",
    ")  "
   ]
  },
  {
   "cell_type": "code",
   "execution_count": null,
   "metadata": {},
   "outputs": [
    {
     "name": "stdout",
     "output_type": "stream",
     "text": [
      "paired_10seq_150bp1.aln\n",
      "paired_10seq_150bp2.fq\n",
      "paired_10seq_150bp2.aln\n",
      "paired_10seq_150bp1.fq\n"
     ]
    }
   ],
   "source": [
    "art.list_last_output_files()"
   ]
  },
  {
   "cell_type": "markdown",
   "metadata": {},
   "source": [
    "### Create dataset artifact and log it"
   ]
  },
  {
   "cell_type": "code",
   "execution_count": null,
   "metadata": {},
   "outputs": [
    {
     "name": "stdout",
     "output_type": "stream",
     "text": [
      "/home/vtec/projects/bio/metagentools/data/cov_simreads/paired_10seq_150bp\n",
      "cov_sim_reads_paired_10seq_150bp\n",
      "Simulated reads (paired) of length 150bp out of 10 covid sequences\n"
     ]
    }
   ],
   "source": [
    "ds_dir = art.output_dir / art.last_output_seed\n",
    "print(ds_dir)\n",
    "assert ds_dir.is_dir()\n",
    "\n",
    "ds_name = f\"cov_sim_reads_{sim_params['sim_type']}_{sim_params['nb_sequences']}seq_{sim_params['read_length']}bp\"\n",
    "ds_type = 'sim_reads'\n",
    "ds_descr = f\"Simulated reads ({sim_params['sim_type']}) of length {sim_params['read_length']}bp out of {sim_params['nb_sequences']} covid sequences\"\n",
    "\n",
    "print(ds_name)\n",
    "print(ds_descr)"
   ]
  },
  {
   "cell_type": "code",
   "execution_count": null,
   "metadata": {},
   "outputs": [
    {
     "name": "stderr",
     "output_type": "stream",
     "text": [
      "\u001b[34m\u001b[1mwandb\u001b[0m: Adding directory to artifact (/home/vtec/projects/bio/metagentools/data/cov_simreads/paired_10seq_150bp)... Done. 0.1s\n"
     ]
    },
    {
     "name": "stdout",
     "output_type": "stream",
     "text": [
      "Dataset cov_sim_reads_paired_10seq_150bp is being logged as artifact ...\n"
     ]
    }
   ],
   "source": [
    "afx = wandb_run.upload_dataset(\n",
    "    ds_path=ds_dir,\n",
    "    ds_name=ds_name, \n",
    "    ds_type=ds_type,\n",
    "    ds_descr=ds_descr,\n",
    "    ds_metadata=sim_params,\n",
    "    load_type='dir'\n",
    ")"
   ]
  },
  {
   "cell_type": "markdown",
   "metadata": {},
   "source": [
    "## Close current WandB active run"
   ]
  },
  {
   "cell_type": "code",
   "execution_count": null,
   "metadata": {},
   "outputs": [
    {
     "data": {
      "text/html": [
       "Waiting for W&B process to finish... <strong style=\"color:green\">(success).</strong>"
      ],
      "text/plain": [
       "<IPython.core.display.HTML object>"
      ]
     },
     "metadata": {},
     "output_type": "display_data"
    },
    {
     "data": {
      "text/html": [
       " View run <strong style=\"color:#cdcd00\">10seq-230125-2332</strong> at: <a href=\"https://wandb.ai/metagenomics_sh/create_and_load_sim_reads/runs/2vo1a2du\" target=\"_blank\">https://wandb.ai/metagenomics_sh/create_and_load_sim_reads/runs/2vo1a2du</a><br/>Synced 7 W&B file(s), 0 media file(s), 17 artifact file(s) and 1 other file(s)"
      ],
      "text/plain": [
       "<IPython.core.display.HTML object>"
      ]
     },
     "metadata": {},
     "output_type": "display_data"
    },
    {
     "data": {
      "text/html": [
       "Find logs at: <code>/home/vtec/projects/bio/metagentools/wandb-logs/wandb/run-20230125_233223-2vo1a2du/logs</code>"
      ],
      "text/plain": [
       "<IPython.core.display.HTML object>"
      ]
     },
     "metadata": {},
     "output_type": "display_data"
    }
   ],
   "source": [
    "wandb_run.finish()"
   ]
  },
  {
   "cell_type": "markdown",
   "metadata": {},
   "source": [
    "# Others"
   ]
  },
  {
   "cell_type": "code",
   "execution_count": null,
   "metadata": {},
   "outputs": [],
   "source": []
  }
 ],
 "metadata": {
  "kernelspec": {
   "display_name": "Python 3.10.6 ('metagentools')",
   "language": "python",
   "name": "python3"
  },
  "language_info": {
   "codemirror_mode": {
    "name": "ipython",
    "version": 3
   },
   "file_extension": ".py",
   "mimetype": "text/x-python",
   "name": "python",
   "nbconvert_exporter": "python",
   "pygments_lexer": "ipython3",
   "version": "3.10.6"
  },
  "vscode": {
   "interpreter": {
    "hash": "d79c725d3d254ae089d5edf9eb2dce3237f80d64dd85a8bedc17bd8054b8b312"
   }
  },
  "widgets": {
   "application/vnd.jupyter.widget-state+json": {
    "26b205197a934fdeabb71e65ac11acba": {
     "model_module": "@jupyter-widgets/base",
     "model_module_version": "1.2.0",
     "model_name": "LayoutModel",
     "state": {
      "_model_module": "@jupyter-widgets/base",
      "_model_module_version": "1.2.0",
      "_model_name": "LayoutModel",
      "_view_count": null,
      "_view_module": "@jupyter-widgets/base",
      "_view_module_version": "1.2.0",
      "_view_name": "LayoutView",
      "align_content": null,
      "align_items": null,
      "align_self": null,
      "border": null,
      "bottom": null,
      "display": null,
      "flex": null,
      "flex_flow": null,
      "grid_area": null,
      "grid_auto_columns": null,
      "grid_auto_flow": null,
      "grid_auto_rows": null,
      "grid_column": null,
      "grid_gap": null,
      "grid_row": null,
      "grid_template_areas": null,
      "grid_template_columns": null,
      "grid_template_rows": null,
      "height": null,
      "justify_content": null,
      "justify_items": null,
      "left": null,
      "margin": null,
      "max_height": null,
      "max_width": null,
      "min_height": null,
      "min_width": null,
      "object_fit": null,
      "object_position": null,
      "order": null,
      "overflow": null,
      "overflow_x": null,
      "overflow_y": null,
      "padding": null,
      "right": null,
      "top": null,
      "visibility": null,
      "width": null
     }
    },
    "514ad0bfcabf4df580a9a872af814af9": {
     "model_module": "@jupyter-widgets/controls",
     "model_module_version": "1.5.0",
     "model_name": "ProgressStyleModel",
     "state": {
      "_model_module": "@jupyter-widgets/controls",
      "_model_module_version": "1.5.0",
      "_model_name": "ProgressStyleModel",
      "_view_count": null,
      "_view_module": "@jupyter-widgets/base",
      "_view_module_version": "1.2.0",
      "_view_name": "StyleView",
      "bar_color": null,
      "description_width": ""
     }
    },
    "55646397fc9349d3af9e98b1f2b26f5d": {
     "model_module": "@jupyter-widgets/base",
     "model_module_version": "1.2.0",
     "model_name": "LayoutModel",
     "state": {
      "_model_module": "@jupyter-widgets/base",
      "_model_module_version": "1.2.0",
      "_model_name": "LayoutModel",
      "_view_count": null,
      "_view_module": "@jupyter-widgets/base",
      "_view_module_version": "1.2.0",
      "_view_name": "LayoutView",
      "align_content": null,
      "align_items": null,
      "align_self": null,
      "border": null,
      "bottom": null,
      "display": null,
      "flex": null,
      "flex_flow": null,
      "grid_area": null,
      "grid_auto_columns": null,
      "grid_auto_flow": null,
      "grid_auto_rows": null,
      "grid_column": null,
      "grid_gap": null,
      "grid_row": null,
      "grid_template_areas": null,
      "grid_template_columns": null,
      "grid_template_rows": null,
      "height": null,
      "justify_content": null,
      "justify_items": null,
      "left": null,
      "margin": null,
      "max_height": null,
      "max_width": null,
      "min_height": null,
      "min_width": null,
      "object_fit": null,
      "object_position": null,
      "order": null,
      "overflow": null,
      "overflow_x": null,
      "overflow_y": null,
      "padding": null,
      "right": null,
      "top": null,
      "visibility": null,
      "width": null
     }
    },
    "70f6be4247664b708b662c34e7abe3ee": {
     "model_module": "@jupyter-widgets/base",
     "model_module_version": "1.2.0",
     "model_name": "LayoutModel",
     "state": {
      "_model_module": "@jupyter-widgets/base",
      "_model_module_version": "1.2.0",
      "_model_name": "LayoutModel",
      "_view_count": null,
      "_view_module": "@jupyter-widgets/base",
      "_view_module_version": "1.2.0",
      "_view_name": "LayoutView",
      "align_content": null,
      "align_items": null,
      "align_self": null,
      "border": null,
      "bottom": null,
      "display": null,
      "flex": null,
      "flex_flow": null,
      "grid_area": null,
      "grid_auto_columns": null,
      "grid_auto_flow": null,
      "grid_auto_rows": null,
      "grid_column": null,
      "grid_gap": null,
      "grid_row": null,
      "grid_template_areas": null,
      "grid_template_columns": null,
      "grid_template_rows": null,
      "height": null,
      "justify_content": null,
      "justify_items": null,
      "left": null,
      "margin": null,
      "max_height": null,
      "max_width": null,
      "min_height": null,
      "min_width": null,
      "object_fit": null,
      "object_position": null,
      "order": null,
      "overflow": null,
      "overflow_x": null,
      "overflow_y": null,
      "padding": null,
      "right": null,
      "top": null,
      "visibility": null,
      "width": null
     }
    },
    "7179c6cc207941648c348b1bf10cb87f": {
     "model_module": "@jupyter-widgets/controls",
     "model_module_version": "1.5.0",
     "model_name": "LabelModel",
     "state": {
      "_dom_classes": [],
      "_model_module": "@jupyter-widgets/controls",
      "_model_module_version": "1.5.0",
      "_model_name": "LabelModel",
      "_view_count": null,
      "_view_module": "@jupyter-widgets/controls",
      "_view_module_version": "1.5.0",
      "_view_name": "LabelView",
      "description": "",
      "description_tooltip": null,
      "layout": "IPY_MODEL_70f6be4247664b708b662c34e7abe3ee",
      "placeholder": "​",
      "style": "IPY_MODEL_bdde467d943148ce9bb6355fd7582a5c",
      "value": "0.078 MB of 0.078 MB uploaded (0.020 MB deduped)\r"
     }
    },
    "7849f255e99b4853bdba7f8badf1054a": {
     "model_module": "@jupyter-widgets/controls",
     "model_module_version": "1.5.0",
     "model_name": "VBoxModel",
     "state": {
      "_dom_classes": [],
      "_model_module": "@jupyter-widgets/controls",
      "_model_module_version": "1.5.0",
      "_model_name": "VBoxModel",
      "_view_count": null,
      "_view_module": "@jupyter-widgets/controls",
      "_view_module_version": "1.5.0",
      "_view_name": "VBoxView",
      "box_style": "",
      "children": [
       "IPY_MODEL_7179c6cc207941648c348b1bf10cb87f",
       "IPY_MODEL_e0819a1ddcc64c08a748a2fd88350f09"
      ],
      "layout": "IPY_MODEL_26b205197a934fdeabb71e65ac11acba"
     }
    },
    "bdde467d943148ce9bb6355fd7582a5c": {
     "model_module": "@jupyter-widgets/controls",
     "model_module_version": "1.5.0",
     "model_name": "DescriptionStyleModel",
     "state": {
      "_model_module": "@jupyter-widgets/controls",
      "_model_module_version": "1.5.0",
      "_model_name": "DescriptionStyleModel",
      "_view_count": null,
      "_view_module": "@jupyter-widgets/base",
      "_view_module_version": "1.2.0",
      "_view_name": "StyleView",
      "description_width": ""
     }
    },
    "e0819a1ddcc64c08a748a2fd88350f09": {
     "model_module": "@jupyter-widgets/controls",
     "model_module_version": "1.5.0",
     "model_name": "FloatProgressModel",
     "state": {
      "_dom_classes": [],
      "_model_module": "@jupyter-widgets/controls",
      "_model_module_version": "1.5.0",
      "_model_name": "FloatProgressModel",
      "_view_count": null,
      "_view_module": "@jupyter-widgets/controls",
      "_view_module_version": "1.5.0",
      "_view_name": "ProgressView",
      "bar_style": "",
      "description": "",
      "description_tooltip": null,
      "layout": "IPY_MODEL_55646397fc9349d3af9e98b1f2b26f5d",
      "max": 1,
      "min": 0,
      "orientation": "horizontal",
      "style": "IPY_MODEL_514ad0bfcabf4df580a9a872af814af9",
      "value": 1
     }
    }
   }
  }
 },
 "nbformat": 4,
 "nbformat_minor": 1
}
